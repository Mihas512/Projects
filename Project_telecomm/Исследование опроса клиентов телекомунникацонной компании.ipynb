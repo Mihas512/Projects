{
 "cells": [
  {
   "cell_type": "markdown",
   "id": "df955412",
   "metadata": {},
   "source": [
    "Проект: Исследование опроса клиентов телекомунникацонной компании"
   ]
  },
  {
   "cell_type": "code",
   "execution_count": 1,
   "id": "fc7efa54",
   "metadata": {},
   "outputs": [],
   "source": [
    "import os\n",
    "import pandas as pd\n",
    "import numpy as np\n",
    "\n",
    "from sqlalchemy import create_engine"
   ]
  },
  {
   "cell_type": "code",
   "execution_count": 2,
   "id": "0017f8e7",
   "metadata": {},
   "outputs": [],
   "source": [
    "path_to_db_local = 'telecomm_csi.db'\n",
    "path_to_db_platform = '/datasets/telecomm_csi.db'\n",
    "path_to_db = None\n",
    "\n",
    "if os.path.exists(path_to_db_local):\n",
    "    path_to_db = path_to_db_local\n",
    "elif os.path.exists(path_to_db_platform):\n",
    "    path_to_db = path_to_db_platform\n",
    "else:\n",
    "    raise Exception('Файл с базой данных SQLite не найден!')\n",
    "\n",
    "if path_to_db:\n",
    "    engine = create_engine(f'sqlite:///{path_to_db}', echo=False)"
   ]
  },
  {
   "cell_type": "code",
   "execution_count": 7,
   "id": "84ebad43",
   "metadata": {},
   "outputs": [],
   "source": [
    "query = \"\"\"\n",
    "SELECT user.user_id,\n",
    "       user.lt_day,\n",
    "       CASE\n",
    "           WHEN user.lt_day <= 365 THEN 'новый'\n",
    "           WHEN user.lt_day > 365 THEN 'не новый'\n",
    "       END AS is_new,\n",
    "       user.age,\n",
    "       CASE\n",
    "           WHEN user.gender_segment == 1 THEN 'Женщина'\n",
    "           WHEN user.gender_segment == 0 THEN 'Мужчина'\n",
    "           ELSE 'no_gender'\n",
    "           END AS gender_segment,\n",
    "       user.os_name,\n",
    "       user.cpe_type_name,\n",
    "       location.country,\n",
    "       location.city,\n",
    "       SUBSTR(age_segment.title, 4) AS age_segment,\n",
    "       SUBSTR(traffic_segment.title, 4) AS traffic_segment,\n",
    "       SUBSTR(lifetime_segment.title, 4) AS lifetime_segment,\n",
    "       user.nps_score,\n",
    "       CASE \n",
    "           WHEN user.nps_score >= 9 THEN 'Cторонник'\n",
    "           WHEN user.nps_score >= 7 THEN 'Нейтрал'\n",
    "           ELSE 'Критик'\n",
    "           END AS nps_group\n",
    "     FROM user\n",
    "JOIN location ON user.location_id=location.location_id\n",
    "JOIN age_segment ON user.age_gr_id=age_segment.age_gr_id\n",
    "JOIN traffic_segment ON user.tr_gr_id=traffic_segment.tr_gr_id\n",
    "JOIN lifetime_segment ON user.lt_gr_id=lifetime_segment.lt_gr_id;\n",
    "\"\"\""
   ]
  },
  {
   "cell_type": "code",
   "execution_count": 8,
   "id": "3965faf2",
   "metadata": {
    "scrolled": true
   },
   "outputs": [
    {
     "data": {
      "text/html": [
       "<div>\n",
       "<style scoped>\n",
       "    .dataframe tbody tr th:only-of-type {\n",
       "        vertical-align: middle;\n",
       "    }\n",
       "\n",
       "    .dataframe tbody tr th {\n",
       "        vertical-align: top;\n",
       "    }\n",
       "\n",
       "    .dataframe thead th {\n",
       "        text-align: right;\n",
       "    }\n",
       "</style>\n",
       "<table border=\"1\" class=\"dataframe\">\n",
       "  <thead>\n",
       "    <tr style=\"text-align: right;\">\n",
       "      <th></th>\n",
       "      <th>user_id</th>\n",
       "      <th>lt_day</th>\n",
       "      <th>is_new</th>\n",
       "      <th>age</th>\n",
       "      <th>gender_segment</th>\n",
       "      <th>os_name</th>\n",
       "      <th>cpe_type_name</th>\n",
       "      <th>country</th>\n",
       "      <th>city</th>\n",
       "      <th>age_segment</th>\n",
       "      <th>traffic_segment</th>\n",
       "      <th>lifetime_segment</th>\n",
       "      <th>nps_score</th>\n",
       "      <th>nps_group</th>\n",
       "    </tr>\n",
       "  </thead>\n",
       "  <tbody>\n",
       "    <tr>\n",
       "      <th>0</th>\n",
       "      <td>A001A2</td>\n",
       "      <td>2320</td>\n",
       "      <td>не новый</td>\n",
       "      <td>45.0</td>\n",
       "      <td>Женщина</td>\n",
       "      <td>ANDROID</td>\n",
       "      <td>SMARTPHONE</td>\n",
       "      <td>Россия</td>\n",
       "      <td>Уфа</td>\n",
       "      <td>45-54</td>\n",
       "      <td>1-5</td>\n",
       "      <td>36+</td>\n",
       "      <td>10</td>\n",
       "      <td>Cторонник</td>\n",
       "    </tr>\n",
       "    <tr>\n",
       "      <th>1</th>\n",
       "      <td>A001WF</td>\n",
       "      <td>2344</td>\n",
       "      <td>не новый</td>\n",
       "      <td>53.0</td>\n",
       "      <td>Мужчина</td>\n",
       "      <td>ANDROID</td>\n",
       "      <td>SMARTPHONE</td>\n",
       "      <td>Россия</td>\n",
       "      <td>Киров</td>\n",
       "      <td>45-54</td>\n",
       "      <td>1-5</td>\n",
       "      <td>36+</td>\n",
       "      <td>10</td>\n",
       "      <td>Cторонник</td>\n",
       "    </tr>\n",
       "    <tr>\n",
       "      <th>2</th>\n",
       "      <td>A003Q7</td>\n",
       "      <td>467</td>\n",
       "      <td>не новый</td>\n",
       "      <td>57.0</td>\n",
       "      <td>Мужчина</td>\n",
       "      <td>ANDROID</td>\n",
       "      <td>SMARTPHONE</td>\n",
       "      <td>Россия</td>\n",
       "      <td>Москва</td>\n",
       "      <td>55-64</td>\n",
       "      <td>20-25</td>\n",
       "      <td>13-24</td>\n",
       "      <td>10</td>\n",
       "      <td>Cторонник</td>\n",
       "    </tr>\n",
       "  </tbody>\n",
       "</table>\n",
       "</div>"
      ],
      "text/plain": [
       "  user_id  lt_day    is_new   age gender_segment  os_name cpe_type_name  \\\n",
       "0  A001A2    2320  не новый  45.0        Женщина  ANDROID    SMARTPHONE   \n",
       "1  A001WF    2344  не новый  53.0        Мужчина  ANDROID    SMARTPHONE   \n",
       "2  A003Q7     467  не новый  57.0        Мужчина  ANDROID    SMARTPHONE   \n",
       "\n",
       "  country    city age_segment traffic_segment lifetime_segment  nps_score  \\\n",
       "0  Россия     Уфа       45-54             1-5              36+         10   \n",
       "1  Россия   Киров       45-54             1-5              36+         10   \n",
       "2  Россия  Москва       55-64           20-25            13-24         10   \n",
       "\n",
       "   nps_group  \n",
       "0  Cторонник  \n",
       "1  Cторонник  \n",
       "2  Cторонник  "
      ]
     },
     "execution_count": 8,
     "metadata": {},
     "output_type": "execute_result"
    }
   ],
   "source": [
    "df = pd.read_sql(query, engine)\n",
    "df.head(3)"
   ]
  },
  {
   "cell_type": "code",
   "execution_count": 9,
   "id": "9db04858",
   "metadata": {},
   "outputs": [],
   "source": [
    "df.to_csv('telecomm_csi_tableau.csv', index=False)"
   ]
  },
  {
   "cell_type": "markdown",
   "id": "0ca6661f",
   "metadata": {},
   "source": [
    "Ссылка на презентацию: https://public.tableau.com/views/-2_17146674148250/Story1?:language=en-US&publish=yes&:sid=&:display_count=n&:origin=viz_share_link"
   ]
  }
 ],
 "metadata": {
  "ExecuteTimeLog": [
   {
    "duration": 429,
    "start_time": "2024-04-29T15:44:59.135Z"
   },
   {
    "duration": 65,
    "start_time": "2024-04-29T15:45:02.698Z"
   },
   {
    "duration": 7,
    "start_time": "2024-04-30T07:22:33.271Z"
   },
   {
    "duration": 450,
    "start_time": "2024-04-30T10:03:01.398Z"
   },
   {
    "duration": 63,
    "start_time": "2024-04-30T10:03:04.309Z"
   },
   {
    "duration": 3,
    "start_time": "2024-04-30T10:03:10.002Z"
   },
   {
    "duration": 596,
    "start_time": "2024-04-30T10:03:19.758Z"
   },
   {
    "duration": 2,
    "start_time": "2024-04-30T10:08:02.044Z"
   },
   {
    "duration": 583,
    "start_time": "2024-04-30T10:08:07.336Z"
   },
   {
    "duration": 2,
    "start_time": "2024-04-30T10:09:10.185Z"
   },
   {
    "duration": 551,
    "start_time": "2024-04-30T10:09:13.942Z"
   },
   {
    "duration": 3,
    "start_time": "2024-04-30T10:10:29.721Z"
   },
   {
    "duration": 606,
    "start_time": "2024-04-30T10:10:33.015Z"
   },
   {
    "duration": 7,
    "start_time": "2024-05-02T14:33:29.079Z"
   },
   {
    "duration": 4,
    "start_time": "2024-05-02T16:16:09.543Z"
   },
   {
    "duration": 44,
    "start_time": "2024-05-02T16:16:12.053Z"
   },
   {
    "duration": 538,
    "start_time": "2024-05-02T16:16:29.686Z"
   },
   {
    "duration": 72,
    "start_time": "2024-05-02T16:16:32.591Z"
   },
   {
    "duration": 564,
    "start_time": "2024-05-02T16:16:45.404Z"
   },
   {
    "duration": 51,
    "start_time": "2024-05-02T16:16:45.970Z"
   },
   {
    "duration": 4,
    "start_time": "2024-05-02T16:16:46.023Z"
   },
   {
    "duration": 668,
    "start_time": "2024-05-02T16:16:46.029Z"
   },
   {
    "duration": 0,
    "start_time": "2024-05-02T16:16:46.699Z"
   },
   {
    "duration": 3,
    "start_time": "2024-05-02T16:17:19.701Z"
   },
   {
    "duration": 603,
    "start_time": "2024-05-02T16:17:22.325Z"
   },
   {
    "duration": 3,
    "start_time": "2024-05-02T16:20:56.316Z"
   },
   {
    "duration": 5957,
    "start_time": "2024-05-02T16:20:58.892Z"
   },
   {
    "duration": 5192,
    "start_time": "2024-05-02T16:21:35.292Z"
   },
   {
    "duration": 70,
    "start_time": "2024-05-07T05:28:58.313Z"
   },
   {
    "duration": 84,
    "start_time": "2024-05-08T04:24:50.304Z"
   }
  ],
  "kernelspec": {
   "display_name": "Python 3 (ipykernel)",
   "language": "python",
   "name": "python3"
  },
  "language_info": {
   "codemirror_mode": {
    "name": "ipython",
    "version": 3
   },
   "file_extension": ".py",
   "mimetype": "text/x-python",
   "name": "python",
   "nbconvert_exporter": "python",
   "pygments_lexer": "ipython3",
   "version": "3.9.5"
  },
  "toc": {
   "base_numbering": 1,
   "nav_menu": {},
   "number_sections": true,
   "sideBar": true,
   "skip_h1_title": true,
   "title_cell": "Table of Contents",
   "title_sidebar": "Contents",
   "toc_cell": false,
   "toc_position": {},
   "toc_section_display": true,
   "toc_window_display": false
  }
 },
 "nbformat": 4,
 "nbformat_minor": 5
}
