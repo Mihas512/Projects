{
 "cells": [
  {
   "cell_type": "markdown",
   "metadata": {},
   "source": [
    "  <div class=\"alert alert-info\">\n",
    "  Привет, Алексей! Меня зовут Светлана Чих и я буду проверять твой проект. Моя основная цель — не указать на совершенные тобою ошибки, а поделиться своим опытом и помочь тебе. Предлагаю общаться на «ты». Но если это не удобно - дай знать, и мы перейдем на «вы».\n",
    "\n",
    "  <div class=\"alert alert-success\">\n",
    "  <b>👍 Успех:</b> Зелёным цветом отмечены удачные и элегантные решения, на которые можно опираться в будущих проектах.\n",
    "  </div>\n",
    "  <div class=\"alert alert-warning\">\n",
    "  <b>🤔 Рекомендация:</b> Жёлтым цветом выделено то, что в следующий раз можно сделать по-другому. Ты можешь учесть эти комментарии при выполнении будущих заданий или доработать проект сейчас (однако это не обязательно).\n",
    "  </div>\n",
    "  <div class=\"alert alert-danger\">\n",
    "  <b>😔 Необходимо исправить:</b> Красным цветом выделены комментарии, без исправления которых, я не смогу принять проект :(\n",
    "  </div>\n",
    "  <div class=\"alert alert-info\">\n",
    "  <b>👂 Совет:</b> Какие-то дополнительные материалы\n",
    "  </div>\n",
    "  Давай работать над проектом в диалоге: если ты что-то меняешь в проекте по моим рекомендациям — пиши об этом.\n",
    "  Мне будет легче отследить изменения, если ты выделишь свои комментарии:\n",
    "  <div class=\"alert alert-info\"> <b>🎓 Комментарий студента:</b> Например, вот так.</div>\n",
    "  Пожалуйста, не перемещай, не изменяй и не удаляй мои комментарии. Всё это поможет выполнить повторную проверку твоего проекта быстрее.\n",
    "   </div>"
   ]
  },
  {
   "cell_type": "markdown",
   "metadata": {},
   "source": [
    "<div class=\"alert alert-success\">\n",
    "Привет, Алексей!\n",
    "<b>👍 Успех:</b> Отличный план, пора приступать к его реализации!\n",
    "</div>"
   ]
  },
  {
   "cell_type": "markdown",
   "metadata": {},
   "source": [
    "Светлана, привет! Меня Лёша зовут) Представляю декомпозицию проекта:"
   ]
  },
  {
   "cell_type": "markdown",
   "metadata": {},
   "source": [
    "<div class=\"alert alert-info\">\n",
    "<b> Выпускной проект: Анализ оттока клиентов \"МетанПромБанка\"."
   ]
  },
  {
   "cell_type": "markdown",
   "metadata": {},
   "source": [
    "<div class=\"alert alert-info\">\n",
    "Ссылка на презентацию: https://docs.google.com/presentation/d/1e0CZ2c_9Hxh3xd_uJNMzmIEnPjYY2EeN2jx8tIpvTTM/edit?usp=drive_link"
   ]
  },
  {
   "cell_type": "markdown",
   "metadata": {},
   "source": [
    "<div class=\"alert alert-info\">\n",
    "Задача проекта: проанализировать пользователей регионального банка и выделить сегменты клиентов, которые склонны к уходу из банка.\n",
    "    \n",
    "    \n",
    "Подзадачи проекта:\n",
    "    \n",
    "- Провести исследовательский анализ данных, определить признаки отточности;\n",
    "- Сформулировать и проверить статистические гипотезы (хотя бы парочку);\n",
    "- Обозначить сегменты, отобрать из них лучшие и дать по ним рекомендации."
   ]
  },
  {
   "cell_type": "markdown",
   "metadata": {},
   "source": [
    "<div class=\"alert alert-info\"> Оглавление проекта:\n",
    "\n",
    "    \n",
    "1. Знакомство с данными. Приведение их в божеский вид.\n",
    "2. Исследовательский анализ (EDA & VODA).\n",
    "3. Прогноз оттока клиентов.\n",
    "4. Выделение сегментов пользователей.\n",
    "5. Минутка статистических гипотез.\n",
    "6. Общий вывод и рекомендации.\n",
    "    \n",
    "В завершение исследования требуется дать отделу маркетинга банка рекомендации по уменьшению оттока клиентов, которые помогут  определить точки роста, а также подготовить презентацию с основными выводами."
   ]
  },
  {
   "cell_type": "markdown",
   "metadata": {},
   "source": [
    "<div class=\"alert alert-warning\">\n",
    "<b>🤔 Рекомендация:</b> Выделение сегментов проводится с помощью срезов query(), кластеризацию делать не нужно\n",
    "</div>"
   ]
  },
  {
   "cell_type": "markdown",
   "metadata": {},
   "source": [
    "Done!"
   ]
  },
  {
   "cell_type": "markdown",
   "metadata": {},
   "source": [
    "<div class=\"alert alert-info\">\n",
    "Описание данных: датасет содержит данные о клиентах банка, который располагается в Ярославле и областных городах: Ростов Великий и Рыбинск. \n",
    "    \n",
    "Столбцы датасета:\n",
    "    \n",
    "- USERID — идентификатор пользователя,\n",
    "- score — баллы кредитного скоринга,\n",
    "- city — город,\n",
    "- gender — пол,\n",
    "- age — возраст,\n",
    "- equity — количество баллов собственности\n",
    "- balance — баланс на счёте,\n",
    "- products — количество продуктов, которыми пользуется клиент,\n",
    "- credit_card — есть ли кредитная карта,\n",
    "- last_activity — активный клиент,\n",
    "- EST_SALARY — оценочный доход клиента,\n",
    "- сhurn — признак оттока."
   ]
  },
  {
   "cell_type": "markdown",
   "metadata": {},
   "source": [
    "<div class=\"alert alert-info\">  \n",
    "    \n",
    "***Глава 1. Обзор предоставленных данных***\n",
    "    \n",
    "Загрузим библиотеки, оценим внешний вид, предобработаем данные."
   ]
  },
  {
   "cell_type": "code",
   "execution_count": 1,
   "metadata": {},
   "outputs": [
    {
     "name": "stdout",
     "output_type": "stream",
     "text": [
      "Requirement already satisfied: phik in /opt/conda/lib/python3.9/site-packages (0.12.4)\n",
      "Requirement already satisfied: pandas>=0.25.1 in /opt/conda/lib/python3.9/site-packages (from phik) (1.2.4)\n",
      "Requirement already satisfied: numpy>=1.18.0 in /opt/conda/lib/python3.9/site-packages (from phik) (1.21.1)\n",
      "Requirement already satisfied: joblib>=0.14.1 in /opt/conda/lib/python3.9/site-packages (from phik) (1.1.0)\n",
      "Requirement already satisfied: matplotlib>=2.2.3 in /opt/conda/lib/python3.9/site-packages (from phik) (3.3.4)\n",
      "Requirement already satisfied: scipy>=1.5.2 in /opt/conda/lib/python3.9/site-packages (from phik) (1.9.1)\n",
      "Requirement already satisfied: pillow>=6.2.0 in /opt/conda/lib/python3.9/site-packages (from matplotlib>=2.2.3->phik) (8.4.0)\n",
      "Requirement already satisfied: kiwisolver>=1.0.1 in /opt/conda/lib/python3.9/site-packages (from matplotlib>=2.2.3->phik) (1.4.4)\n",
      "Requirement already satisfied: python-dateutil>=2.1 in /opt/conda/lib/python3.9/site-packages (from matplotlib>=2.2.3->phik) (2.8.1)\n",
      "Requirement already satisfied: cycler>=0.10 in /opt/conda/lib/python3.9/site-packages (from matplotlib>=2.2.3->phik) (0.11.0)\n",
      "Requirement already satisfied: pyparsing!=2.0.4,!=2.1.2,!=2.1.6,>=2.0.3 in /opt/conda/lib/python3.9/site-packages (from matplotlib>=2.2.3->phik) (2.4.7)\n",
      "Requirement already satisfied: pytz>=2017.3 in /opt/conda/lib/python3.9/site-packages (from pandas>=0.25.1->phik) (2021.1)\n",
      "Requirement already satisfied: six>=1.5 in /opt/conda/lib/python3.9/site-packages (from python-dateutil>=2.1->matplotlib>=2.2.3->phik) (1.16.0)\n",
      "Note: you may need to restart the kernel to use updated packages.\n"
     ]
    }
   ],
   "source": [
    "pip install phik "
   ]
  },
  {
   "cell_type": "code",
   "execution_count": 2,
   "metadata": {},
   "outputs": [],
   "source": [
    "import pandas as pd\n",
    "import seaborn as sns\n",
    "import numpy as np\n",
    "import scipy.stats as st\n",
    "import matplotlib.pyplot as plt\n",
    "import phik\n",
    "import scipy.stats as st"
   ]
  },
  {
   "cell_type": "code",
   "execution_count": 3,
   "metadata": {},
   "outputs": [
    {
     "name": "stdout",
     "output_type": "stream",
     "text": [
      "<class 'pandas.core.frame.DataFrame'>\n",
      "RangeIndex: 10000 entries, 0 to 9999\n",
      "Data columns (total 12 columns):\n",
      " #   Column         Non-Null Count  Dtype  \n",
      "---  ------         --------------  -----  \n",
      " 0   user_id        10000 non-null  int64  \n",
      " 1   score          10000 non-null  float64\n",
      " 2   city           10000 non-null  object \n",
      " 3   gender         10000 non-null  object \n",
      " 4   age            9974 non-null   float64\n",
      " 5   equity         10000 non-null  int64  \n",
      " 6   balance        7705 non-null   float64\n",
      " 7   products       10000 non-null  int64  \n",
      " 8   credit_card    10000 non-null  int64  \n",
      " 9   last_activity  10000 non-null  int64  \n",
      " 10  est_salary     10000 non-null  float64\n",
      " 11  churn          10000 non-null  int64  \n",
      "dtypes: float64(4), int64(6), object(2)\n",
      "memory usage: 937.6+ KB\n"
     ]
    },
    {
     "data": {
      "text/html": [
       "<div>\n",
       "<style scoped>\n",
       "    .dataframe tbody tr th:only-of-type {\n",
       "        vertical-align: middle;\n",
       "    }\n",
       "\n",
       "    .dataframe tbody tr th {\n",
       "        vertical-align: top;\n",
       "    }\n",
       "\n",
       "    .dataframe thead th {\n",
       "        text-align: right;\n",
       "    }\n",
       "</style>\n",
       "<table border=\"1\" class=\"dataframe\">\n",
       "  <thead>\n",
       "    <tr style=\"text-align: right;\">\n",
       "      <th></th>\n",
       "      <th>user_id</th>\n",
       "      <th>score</th>\n",
       "      <th>city</th>\n",
       "      <th>gender</th>\n",
       "      <th>age</th>\n",
       "      <th>equity</th>\n",
       "      <th>balance</th>\n",
       "      <th>products</th>\n",
       "      <th>credit_card</th>\n",
       "      <th>last_activity</th>\n",
       "      <th>est_salary</th>\n",
       "      <th>churn</th>\n",
       "    </tr>\n",
       "  </thead>\n",
       "  <tbody>\n",
       "    <tr>\n",
       "      <th>0</th>\n",
       "      <td>183012</td>\n",
       "      <td>850.0</td>\n",
       "      <td>Рыбинск</td>\n",
       "      <td>Ж</td>\n",
       "      <td>25.0</td>\n",
       "      <td>1</td>\n",
       "      <td>59214.82</td>\n",
       "      <td>2</td>\n",
       "      <td>0</td>\n",
       "      <td>1</td>\n",
       "      <td>75719.14</td>\n",
       "      <td>1</td>\n",
       "    </tr>\n",
       "    <tr>\n",
       "      <th>1</th>\n",
       "      <td>146556</td>\n",
       "      <td>861.0</td>\n",
       "      <td>Рыбинск</td>\n",
       "      <td>Ж</td>\n",
       "      <td>37.0</td>\n",
       "      <td>5</td>\n",
       "      <td>850594.33</td>\n",
       "      <td>3</td>\n",
       "      <td>1</td>\n",
       "      <td>0</td>\n",
       "      <td>86621.77</td>\n",
       "      <td>0</td>\n",
       "    </tr>\n",
       "    <tr>\n",
       "      <th>2</th>\n",
       "      <td>120722</td>\n",
       "      <td>892.0</td>\n",
       "      <td>Рыбинск</td>\n",
       "      <td>Ж</td>\n",
       "      <td>30.0</td>\n",
       "      <td>0</td>\n",
       "      <td>NaN</td>\n",
       "      <td>1</td>\n",
       "      <td>1</td>\n",
       "      <td>1</td>\n",
       "      <td>107683.34</td>\n",
       "      <td>0</td>\n",
       "    </tr>\n",
       "    <tr>\n",
       "      <th>3</th>\n",
       "      <td>225363</td>\n",
       "      <td>866.0</td>\n",
       "      <td>Ярославль</td>\n",
       "      <td>Ж</td>\n",
       "      <td>51.0</td>\n",
       "      <td>5</td>\n",
       "      <td>1524746.26</td>\n",
       "      <td>2</td>\n",
       "      <td>0</td>\n",
       "      <td>1</td>\n",
       "      <td>174423.53</td>\n",
       "      <td>1</td>\n",
       "    </tr>\n",
       "    <tr>\n",
       "      <th>4</th>\n",
       "      <td>157978</td>\n",
       "      <td>730.0</td>\n",
       "      <td>Ярославль</td>\n",
       "      <td>М</td>\n",
       "      <td>34.0</td>\n",
       "      <td>5</td>\n",
       "      <td>174.00</td>\n",
       "      <td>1</td>\n",
       "      <td>1</td>\n",
       "      <td>0</td>\n",
       "      <td>67353.16</td>\n",
       "      <td>1</td>\n",
       "    </tr>\n",
       "  </tbody>\n",
       "</table>\n",
       "</div>"
      ],
      "text/plain": [
       "   user_id  score       city gender   age  equity     balance  products  \\\n",
       "0   183012  850.0    Рыбинск      Ж  25.0       1    59214.82         2   \n",
       "1   146556  861.0    Рыбинск      Ж  37.0       5   850594.33         3   \n",
       "2   120722  892.0    Рыбинск      Ж  30.0       0         NaN         1   \n",
       "3   225363  866.0  Ярославль      Ж  51.0       5  1524746.26         2   \n",
       "4   157978  730.0  Ярославль      М  34.0       5      174.00         1   \n",
       "\n",
       "   credit_card  last_activity  est_salary  churn  \n",
       "0            0              1    75719.14      1  \n",
       "1            1              0    86621.77      0  \n",
       "2            1              1   107683.34      0  \n",
       "3            0              1   174423.53      1  \n",
       "4            1              0    67353.16      1  "
      ]
     },
     "metadata": {},
     "output_type": "display_data"
    }
   ],
   "source": [
    "data = pd.read_csv('https://code.s3.yandex.net/datasets/bank_scrooge.csv')\n",
    "data.columns = data.columns.str.lower()\n",
    "data = data.rename(columns={'userid': 'user_id'})\n",
    "data.info()\n",
    "display(data.head())"
   ]
  },
  {
   "cell_type": "markdown",
   "metadata": {},
   "source": [
    "<div class=\"alert alert-info\"> На первый взгляд, прекрасные данные: 12 столбцов по 10 тыс. запсей. Пропуски есть в двух столбцах (возраст и баланс). Только в столбце с балансом значительная часть пропусков (>10%). Сразу приводим названия столбцов к нижнему регистру."
   ]
  },
  {
   "cell_type": "code",
   "execution_count": 4,
   "metadata": {},
   "outputs": [],
   "source": [
    "data['age'] = data['age'].fillna('данных нет')\n",
    "data.drop(data.loc[data['age'] == 'данных нет'].index, inplace=True)\n",
    "data['age'] = data['age'].astype(int)"
   ]
  },
  {
   "cell_type": "code",
   "execution_count": 5,
   "metadata": {},
   "outputs": [],
   "source": [
    "data.drop(data.loc[data['products'] == 0].index, inplace=True)"
   ]
  },
  {
   "cell_type": "code",
   "execution_count": 6,
   "metadata": {},
   "outputs": [
    {
     "name": "stdout",
     "output_type": "stream",
     "text": [
      "<class 'pandas.core.frame.DataFrame'>\n",
      "Int64Index: 9973 entries, 0 to 9999\n",
      "Data columns (total 12 columns):\n",
      " #   Column         Non-Null Count  Dtype  \n",
      "---  ------         --------------  -----  \n",
      " 0   user_id        9973 non-null   int64  \n",
      " 1   score          9973 non-null   float64\n",
      " 2   city           9973 non-null   object \n",
      " 3   gender         9973 non-null   object \n",
      " 4   age            9973 non-null   int64  \n",
      " 5   equity         9973 non-null   int64  \n",
      " 6   balance        7695 non-null   float64\n",
      " 7   products       9973 non-null   int64  \n",
      " 8   credit_card    9973 non-null   int64  \n",
      " 9   last_activity  9973 non-null   int64  \n",
      " 10  est_salary     9973 non-null   float64\n",
      " 11  churn          9973 non-null   int64  \n",
      "dtypes: float64(3), int64(7), object(2)\n",
      "memory usage: 1012.9+ KB\n"
     ]
    }
   ],
   "source": [
    "data.info()"
   ]
  },
  {
   "cell_type": "code",
   "execution_count": 7,
   "metadata": {},
   "outputs": [
    {
     "data": {
      "text/html": [
       "<div>\n",
       "<style scoped>\n",
       "    .dataframe tbody tr th:only-of-type {\n",
       "        vertical-align: middle;\n",
       "    }\n",
       "\n",
       "    .dataframe tbody tr th {\n",
       "        vertical-align: top;\n",
       "    }\n",
       "\n",
       "    .dataframe thead th {\n",
       "        text-align: right;\n",
       "    }\n",
       "</style>\n",
       "<table border=\"1\" class=\"dataframe\">\n",
       "  <thead>\n",
       "    <tr style=\"text-align: right;\">\n",
       "      <th></th>\n",
       "      <th>score</th>\n",
       "      <th>age</th>\n",
       "      <th>equity</th>\n",
       "      <th>balance</th>\n",
       "      <th>products</th>\n",
       "      <th>est_salary</th>\n",
       "    </tr>\n",
       "  </thead>\n",
       "  <tbody>\n",
       "    <tr>\n",
       "      <th>max</th>\n",
       "      <td>1000.000000</td>\n",
       "      <td>86.000000</td>\n",
       "      <td>9.000000</td>\n",
       "      <td>1.191136e+08</td>\n",
       "      <td>5.000000</td>\n",
       "      <td>1.395064e+06</td>\n",
       "    </tr>\n",
       "    <tr>\n",
       "      <th>mean</th>\n",
       "      <td>848.671212</td>\n",
       "      <td>42.730773</td>\n",
       "      <td>2.630803</td>\n",
       "      <td>8.272456e+05</td>\n",
       "      <td>1.871653</td>\n",
       "      <td>1.477991e+05</td>\n",
       "    </tr>\n",
       "    <tr>\n",
       "      <th>median</th>\n",
       "      <td>853.000000</td>\n",
       "      <td>40.000000</td>\n",
       "      <td>3.000000</td>\n",
       "      <td>5.242953e+05</td>\n",
       "      <td>2.000000</td>\n",
       "      <td>1.196431e+05</td>\n",
       "    </tr>\n",
       "    <tr>\n",
       "      <th>min</th>\n",
       "      <td>642.000000</td>\n",
       "      <td>18.000000</td>\n",
       "      <td>0.000000</td>\n",
       "      <td>0.000000e+00</td>\n",
       "      <td>1.000000</td>\n",
       "      <td>2.546300e+03</td>\n",
       "    </tr>\n",
       "  </tbody>\n",
       "</table>\n",
       "</div>"
      ],
      "text/plain": [
       "              score        age    equity       balance  products    est_salary\n",
       "max     1000.000000  86.000000  9.000000  1.191136e+08  5.000000  1.395064e+06\n",
       "mean     848.671212  42.730773  2.630803  8.272456e+05  1.871653  1.477991e+05\n",
       "median   853.000000  40.000000  3.000000  5.242953e+05  2.000000  1.196431e+05\n",
       "min      642.000000  18.000000  0.000000  0.000000e+00  1.000000  2.546300e+03"
      ]
     },
     "execution_count": 7,
     "metadata": {},
     "output_type": "execute_result"
    }
   ],
   "source": [
    "data[['score', 'age', 'equity', 'balance', 'products', 'est_salary']].agg(['max', 'mean', 'median', 'min'])"
   ]
  },
  {
   "cell_type": "code",
   "execution_count": 8,
   "metadata": {},
   "outputs": [
    {
     "data": {
      "text/plain": [
       "array([0, 1])"
      ]
     },
     "execution_count": 8,
     "metadata": {},
     "output_type": "execute_result"
    }
   ],
   "source": [
    "data['credit_card'].unique()"
   ]
  },
  {
   "cell_type": "code",
   "execution_count": 9,
   "metadata": {},
   "outputs": [
    {
     "data": {
      "text/plain": [
       "array([1, 0])"
      ]
     },
     "execution_count": 9,
     "metadata": {},
     "output_type": "execute_result"
    }
   ],
   "source": [
    "data['last_activity'].unique()"
   ]
  },
  {
   "cell_type": "code",
   "execution_count": 10,
   "metadata": {
    "scrolled": true
   },
   "outputs": [
    {
     "data": {
      "text/plain": [
       "array([1, 0])"
      ]
     },
     "execution_count": 10,
     "metadata": {},
     "output_type": "execute_result"
    }
   ],
   "source": [
    "data['churn'].unique()"
   ]
  },
  {
   "cell_type": "code",
   "execution_count": 11,
   "metadata": {},
   "outputs": [
    {
     "data": {
      "text/plain": [
       "array(['Рыбинск', 'Ярославль', 'Ростов'], dtype=object)"
      ]
     },
     "execution_count": 11,
     "metadata": {},
     "output_type": "execute_result"
    }
   ],
   "source": [
    "data['city'].unique()"
   ]
  },
  {
   "cell_type": "code",
   "execution_count": 12,
   "metadata": {},
   "outputs": [
    {
     "data": {
      "text/plain": [
       "0"
      ]
     },
     "execution_count": 12,
     "metadata": {},
     "output_type": "execute_result"
    }
   ],
   "source": [
    "data.duplicated().sum()"
   ]
  },
  {
   "cell_type": "code",
   "execution_count": 13,
   "metadata": {},
   "outputs": [
    {
     "data": {
      "text/plain": [
       "50"
      ]
     },
     "execution_count": 13,
     "metadata": {},
     "output_type": "execute_result"
    }
   ],
   "source": [
    "data.duplicated(subset=['user_id']).sum()"
   ]
  },
  {
   "cell_type": "code",
   "execution_count": 14,
   "metadata": {},
   "outputs": [
    {
     "data": {
      "text/plain": [
       "5"
      ]
     },
     "execution_count": 14,
     "metadata": {},
     "output_type": "execute_result"
    }
   ],
   "source": [
    "data.duplicated(subset=['user_id', 'age']).sum()"
   ]
  },
  {
   "cell_type": "markdown",
   "metadata": {},
   "source": [
    "<div class=\"alert alert-info\"> \n",
    "    \n",
    "- Первым делом удаляем строки датасета с пропусками в столбце \"Возраст\" (26 записей) и строки с нулями в столбце \"Продукты банка\" (1 запись, клиент банка не может быть без продуктов).\n",
    "- Оцениваем границы числовых значений в столбцах (баллы скоринга, возраст, оценка собственности, баланс карты, количество продуктов и предположительная з\\п) - аномалий не наблюдаем.\n",
    "- Выявляем столбцы с категориальными признаками (кредитка, последняя активность, факт оттока).\n",
    "- Проверяем, что в датасете действительно представлены три населенных пункта.\n",
    "- Видим, что явных дубликатов в датасете нет.\n",
    "- Неявные дубликаты не удаляем, ввиду предположения о том, что ранее у каждого из филиалов банка была своя БД клиентов со своей нумерацией user_id. При соединении баз в одну сюда попали пользователи со своим старым id, хотя, наверное, стоило бы сделать новый столбец с новой нумерацией.\n",
    "    \n",
    "Предобработка данных завершена, переходим к следующей главе."
   ]
  },
  {
   "cell_type": "markdown",
   "metadata": {},
   "source": [
    "<div class=\"alert alert-success\">\n",
    "<b>👍 Успех:</b> Есть описание задачи, план реализации проекта, импортированы нужные библиотеки, датасет загружен и предобработан\n",
    "</div>"
   ]
  },
  {
   "cell_type": "markdown",
   "metadata": {},
   "source": [
    "<div class=\"alert alert-info\">  \n",
    "    \n",
    "***Глава 2. Исследовательский анализ данных***\n",
    "    \n",
    "Визуализируем распределение данных внутри каждого столбца, скоррелируем данные, очертим портреты уходящих клиентов."
   ]
  },
  {
   "cell_type": "code",
   "execution_count": 15,
   "metadata": {},
   "outputs": [
    {
     "data": {
      "image/png": "[encoded data removed]",
      "text/plain": [
       "<Figure size 864x504 with 1 Axes>"
      ]
     },
     "metadata": {
      "needs_background": "light"
     },
     "output_type": "display_data"
    }
   ],
   "source": [
    "plt.figure(figsize= (12,7))\n",
    "data['score'].hist(bins=100)\n",
    "plt.title('Очки банковского скоринга среди пользователей банка')\n",
    "plt.xlabel('Баллы банковского скоринга')\n",
    "plt.ylabel('Количество пользователей')\n",
    "plt.show() "
   ]
  },
  {
   "cell_type": "code",
   "execution_count": 16,
   "metadata": {},
   "outputs": [
    {
     "data": {
      "image/png": "[encoded data removed]",
      "text/plain": [
       "<Figure size 360x504 with 1 Axes>"
      ]
     },
     "metadata": {
      "needs_background": "light"
     },
     "output_type": "display_data"
    }
   ],
   "source": [
    "plt.figure(figsize =(5, 7))\n",
    "plt.boxplot(data['score'])\n",
    "plt.title('Усатый ящик банковского скоринга')\n",
    "plt.ylabel('Баллы банковского скоринга')\n",
    "plt.show()"
   ]
  },
  {
   "cell_type": "markdown",
   "metadata": {},
   "source": [
    "<div class=\"alert alert-info\"> Баллы банковского скоринга распределены нормально. Основная масса пользователей имеет от 770 до 930 баллов, медиана - 853 балла."
   ]
  },
  {
   "cell_type": "code",
   "execution_count": 17,
   "metadata": {
    "scrolled": true
   },
   "outputs": [
    {
     "data": {
      "image/png": "[encoded data removed]",
      "text/plain": [
       "<Figure size 360x360 with 1 Axes>"
      ]
     },
     "metadata": {},
     "output_type": "display_data"
    }
   ],
   "source": [
    "data.groupby('city')['user_id'].count().sort_values().plot(kind='pie', figsize=(5, 5), autopct='%1.2f%%')\n",
    "plt.title('Распределение пользователей банка по городам')\n",
    "plt.ylabel(' ')\n",
    "plt.show()"
   ]
  },
  {
   "cell_type": "markdown",
   "metadata": {},
   "source": [
    "<div class=\"alert alert-info\"> Почти 59 процентов клиентов проживают в столице области - Ярославле, во втором по населенности городе края - Рыбинске - 27 процентов, в Великом Ростове - чуть больше 14%."
   ]
  },
  {
   "cell_type": "code",
   "execution_count": 18,
   "metadata": {
    "scrolled": true
   },
   "outputs": [
    {
     "data": {
      "image/png": "[encoded data removed]",
      "text/plain": [
       "<Figure size 360x360 with 1 Axes>"
      ]
     },
     "metadata": {},
     "output_type": "display_data"
    }
   ],
   "source": [
    "data.groupby('gender')['user_id'].count().sort_values().plot(kind='pie', figsize=(5, 5), autopct='%1.2f%%')\n",
    "plt.title('Распределение пользователей банка по гендерному признаку')\n",
    "plt.ylabel(' ')\n",
    "plt.show()"
   ]
  },
  {
   "cell_type": "markdown",
   "metadata": {},
   "source": [
    "<div class=\"alert alert-info\"> Битва полов: почти поровну представлены и мужчины, и женщины."
   ]
  },
  {
   "cell_type": "code",
   "execution_count": 19,
   "metadata": {
    "scrolled": true
   },
   "outputs": [
    {
     "data": {
      "image/png": "[encoded data removed]",
      "text/plain": [
       "<Figure size 864x504 with 1 Axes>"
      ]
     },
     "metadata": {
      "needs_background": "light"
     },
     "output_type": "display_data"
    }
   ],
   "source": [
    "plt.figure(figsize= (12,7))\n",
    "data['age'].hist(bins=50)\n",
    "plt.title('Очки банковского скоринга среди пользователей банка')\n",
    "plt.xlabel('Баллы банковского скоринга')\n",
    "plt.ylabel('Количество пользователей')\n",
    "plt.show() "
   ]
  },
  {
   "cell_type": "markdown",
   "metadata": {},
   "source": [
    "<div class=\"alert alert-info\"> Возраст клиентов распределен нормально с медианным значением в 40 лет. Основная масса пользователей - от 24 до 70 лет."
   ]
  },
  {
   "cell_type": "code",
   "execution_count": 20,
   "metadata": {},
   "outputs": [
    {
     "data": {
      "image/png": "[encoded data removed]",
      "text/plain": [
       "<Figure size 720x360 with 1 Axes>"
      ]
     },
     "metadata": {
      "needs_background": "light"
     },
     "output_type": "display_data"
    }
   ],
   "source": [
    "plt.figure(figsize= (10,5))\n",
    "data['equity'].hist(bins=10)\n",
    "plt.xticks(range(0, 9, 1))\n",
    "plt.title('Количество баллов собственности среди пользователей банка')\n",
    "plt.xlabel('Количество баллов собственности')\n",
    "plt.ylabel('Количество пользователей')\n",
    "plt.show() "
   ]
  },
  {
   "cell_type": "markdown",
   "metadata": {},
   "source": [
    "<div class=\"alert alert-info\"> Медианное значение баллов собственности - 3. У основной массы пользователей от 0 до 5 баллов."
   ]
  },
  {
   "cell_type": "code",
   "execution_count": 21,
   "metadata": {
    "scrolled": true
   },
   "outputs": [
    {
     "data": {
      "image/png": "[encoded data removed]",
      "text/plain": [
       "<Figure size 720x360 with 1 Axes>"
      ]
     },
     "metadata": {
      "needs_background": "light"
     },
     "output_type": "display_data"
    }
   ],
   "source": [
    "plt.figure(figsize= (10,5))\n",
    "data['products'].hist(bins=5)\n",
    "plt.xticks(range(1, 5, 1))\n",
    "plt.title('Количество банковских продуктов среди пользователей')\n",
    "plt.xlabel('Количество продуктов')\n",
    "plt.ylabel('Количество пользователей')\n",
    "plt.show() "
   ]
  },
  {
   "cell_type": "markdown",
   "metadata": {},
   "source": [
    "<div class=\"alert alert-info\"> Количество продуктов распределено нормально. Более половины клиентов имеют 2 банковских продукта."
   ]
  },
  {
   "cell_type": "code",
   "execution_count": 22,
   "metadata": {},
   "outputs": [
    {
     "data": {
      "image/png": "[encoded data removed]",
      "text/plain": [
       "<Figure size 720x360 with 1 Axes>"
      ]
     },
     "metadata": {
      "needs_background": "light"
     },
     "output_type": "display_data"
    }
   ],
   "source": [
    "plt.figure(figsize= (10,5))\n",
    "data['balance'].hist(bins=500)\n",
    "plt.title('Баланс пользователей')\n",
    "plt.xlabel('Деньги, *e+08')\n",
    "plt.ylabel('Количество пользователей')\n",
    "plt.show() "
   ]
  },
  {
   "cell_type": "markdown",
   "metadata": {},
   "source": [
    "<div class=\"alert alert-info\"> Превалирующее большинство клиентов располагаются в начале графика (баланс от 0 до 1 млн.денег)"
   ]
  },
  {
   "cell_type": "code",
   "execution_count": 23,
   "metadata": {},
   "outputs": [
    {
     "data": {
      "image/png": "[encoded data removed]",
      "text/plain": [
       "<Figure size 720x360 with 1 Axes>"
      ]
     },
     "metadata": {
      "needs_background": "light"
     },
     "output_type": "display_data"
    }
   ],
   "source": [
    "plt.figure(figsize= (10,5))\n",
    "plt.ylim(0, 10)\n",
    "data['balance'].hist(bins=500)\n",
    "plt.title('Баланс пользователей')\n",
    "plt.xlabel('Деньги, *e+08')\n",
    "plt.ylabel('Количество пользователей')\n",
    "plt.show() "
   ]
  },
  {
   "cell_type": "markdown",
   "metadata": {},
   "source": [
    "<div class=\"alert alert-info\"> При разгрублении масштаба вертикальной оси графика видим, что  у считанных единиц на счету более 5 млн. денег. Медиана баланса равна 5.24e+05."
   ]
  },
  {
   "cell_type": "code",
   "execution_count": 24,
   "metadata": {
    "scrolled": true
   },
   "outputs": [
    {
     "data": {
      "image/png": "[encoded data removed]",
      "text/plain": [
       "<Figure size 720x360 with 1 Axes>"
      ]
     },
     "metadata": {
      "needs_background": "light"
     },
     "output_type": "display_data"
    }
   ],
   "source": [
    "plt.figure(figsize= (10,5))\n",
    "data['est_salary'].hist(bins=500)\n",
    "plt.title('Оценочный доход клиентов банка')\n",
    "plt.xlabel('Деньги, млн.денег')\n",
    "plt.ylabel('Количество пользователей')\n",
    "plt.show() "
   ]
  },
  {
   "cell_type": "code",
   "execution_count": 25,
   "metadata": {},
   "outputs": [
    {
     "data": {
      "text/plain": [
       "335"
      ]
     },
     "execution_count": 25,
     "metadata": {},
     "output_type": "execute_result"
    }
   ],
   "source": [
    "len(data[data['est_salary'] > 400000])"
   ]
  },
  {
   "cell_type": "markdown",
   "metadata": {},
   "source": [
    "<div class=\"alert alert-info\"> Медиана оценочного дохода равна 120 тыс.денег/месяц. 3,35 % клиентов имеют предположительный доход более 400 тыс.денег/месяц."
   ]
  },
  {
   "cell_type": "code",
   "execution_count": 26,
   "metadata": {},
   "outputs": [
    {
     "data": {
      "image/png": "[encoded data removed]",
      "text/plain": [
       "<Figure size 360x360 with 1 Axes>"
      ]
     },
     "metadata": {},
     "output_type": "display_data"
    }
   ],
   "source": [
    "data.groupby('churn')['user_id'].count().sort_values().plot(kind='pie', figsize=(5, 5), autopct='%1.3f%%')\n",
    "plt.title('Распределение пользователей банка по оттоку')\n",
    "plt.ylabel(' ')\n",
    "plt.show()"
   ]
  },
  {
   "cell_type": "markdown",
   "metadata": {},
   "source": [
    "<div class=\"alert alert-info\"> В результате, нам стоит побороться за возврат 18 % клиентов."
   ]
  },
  {
   "cell_type": "code",
   "execution_count": 27,
   "metadata": {},
   "outputs": [
    {
     "name": "stdout",
     "output_type": "stream",
     "text": [
      "interval columns not set, guessing: ['user_id', 'score', 'age', 'equity', 'balance', 'products', 'credit_card', 'last_activity', 'est_salary', 'churn']\n"
     ]
    },
    {
     "data": {
      "image/png": "[encoded data removed]",
      "text/plain": [
       "<Figure size 504x288 with 2 Axes>"
      ]
     },
     "metadata": {
      "needs_background": "light"
     },
     "output_type": "display_data"
    }
   ],
   "source": [
    "corr = data.phik_matrix()\n",
    "plt.figure(figsize = (7,4))\n",
    "sns.heatmap(corr.loc[:,['churn']].sort_values('churn', ascending=False).drop('churn'),annot = True,fmt = '.2%',center=0)\n",
    "plt.title('Столбец линейной корреляции признаков клиентов с фактом оттока', fontsize=16) \n",
    "plt.xlabel('Факт оттока', fontsize=13)\n",
    "plt.ylabel('Признаки пользователей', fontsize=13)\n",
    "plt.show() "
   ]
  },
  {
   "cell_type": "markdown",
   "metadata": {},
   "source": [
    "<div class=\"alert alert-info\"> Напрямую факт оттока слабо положительно коррелирует лишь с количеством баллов собственности. Составим портреты клиентов, наиболее склонных к оттоку, для чего сгруппируем их по полу и месту жительства."
   ]
  },
  {
   "cell_type": "code",
   "execution_count": 28,
   "metadata": {
    "scrolled": true
   },
   "outputs": [
    {
     "data": {
      "text/html": [
       "<div>\n",
       "<style scoped>\n",
       "    .dataframe tbody tr th:only-of-type {\n",
       "        vertical-align: middle;\n",
       "    }\n",
       "\n",
       "    .dataframe tbody tr th {\n",
       "        vertical-align: top;\n",
       "    }\n",
       "\n",
       "    .dataframe thead th {\n",
       "        text-align: right;\n",
       "    }\n",
       "</style>\n",
       "<table border=\"1\" class=\"dataframe\">\n",
       "  <thead>\n",
       "    <tr style=\"text-align: right;\">\n",
       "      <th></th>\n",
       "      <th></th>\n",
       "      <th></th>\n",
       "      <th>score</th>\n",
       "      <th>age</th>\n",
       "      <th>equity</th>\n",
       "      <th>balance</th>\n",
       "      <th>products</th>\n",
       "      <th>credit_card</th>\n",
       "      <th>last_activity</th>\n",
       "      <th>est_salary</th>\n",
       "    </tr>\n",
       "    <tr>\n",
       "      <th>churn</th>\n",
       "      <th>gender</th>\n",
       "      <th>city</th>\n",
       "      <th></th>\n",
       "      <th></th>\n",
       "      <th></th>\n",
       "      <th></th>\n",
       "      <th></th>\n",
       "      <th></th>\n",
       "      <th></th>\n",
       "      <th></th>\n",
       "    </tr>\n",
       "  </thead>\n",
       "  <tbody>\n",
       "    <tr>\n",
       "      <th rowspan=\"6\" valign=\"top\">0</th>\n",
       "      <th rowspan=\"3\" valign=\"top\">Ж</th>\n",
       "      <th>Ростов</th>\n",
       "      <td>839.0</td>\n",
       "      <td>45</td>\n",
       "      <td>3</td>\n",
       "      <td>464725.0</td>\n",
       "      <td>2</td>\n",
       "      <td>1</td>\n",
       "      <td>1</td>\n",
       "      <td>91192.0</td>\n",
       "    </tr>\n",
       "    <tr>\n",
       "      <th>Рыбинск</th>\n",
       "      <td>851.0</td>\n",
       "      <td>43</td>\n",
       "      <td>3</td>\n",
       "      <td>473067.0</td>\n",
       "      <td>2</td>\n",
       "      <td>1</td>\n",
       "      <td>1</td>\n",
       "      <td>103440.0</td>\n",
       "    </tr>\n",
       "    <tr>\n",
       "      <th>Ярославль</th>\n",
       "      <td>847.0</td>\n",
       "      <td>42</td>\n",
       "      <td>3</td>\n",
       "      <td>496022.0</td>\n",
       "      <td>2</td>\n",
       "      <td>1</td>\n",
       "      <td>0</td>\n",
       "      <td>117260.0</td>\n",
       "    </tr>\n",
       "    <tr>\n",
       "      <th rowspan=\"3\" valign=\"top\">М</th>\n",
       "      <th>Ростов</th>\n",
       "      <td>838.0</td>\n",
       "      <td>39</td>\n",
       "      <td>3</td>\n",
       "      <td>445213.0</td>\n",
       "      <td>2</td>\n",
       "      <td>1</td>\n",
       "      <td>0</td>\n",
       "      <td>107422.0</td>\n",
       "    </tr>\n",
       "    <tr>\n",
       "      <th>Рыбинск</th>\n",
       "      <td>848.0</td>\n",
       "      <td>39</td>\n",
       "      <td>2</td>\n",
       "      <td>475322.0</td>\n",
       "      <td>2</td>\n",
       "      <td>1</td>\n",
       "      <td>1</td>\n",
       "      <td>124588.0</td>\n",
       "    </tr>\n",
       "    <tr>\n",
       "      <th>Ярославль</th>\n",
       "      <td>853.0</td>\n",
       "      <td>38</td>\n",
       "      <td>2</td>\n",
       "      <td>459649.0</td>\n",
       "      <td>2</td>\n",
       "      <td>1</td>\n",
       "      <td>0</td>\n",
       "      <td>139444.0</td>\n",
       "    </tr>\n",
       "    <tr>\n",
       "      <th rowspan=\"6\" valign=\"top\">1</th>\n",
       "      <th rowspan=\"3\" valign=\"top\">Ж</th>\n",
       "      <th>Ростов</th>\n",
       "      <td>857.0</td>\n",
       "      <td>41</td>\n",
       "      <td>4</td>\n",
       "      <td>631941.0</td>\n",
       "      <td>2</td>\n",
       "      <td>0</td>\n",
       "      <td>1</td>\n",
       "      <td>111515.0</td>\n",
       "    </tr>\n",
       "    <tr>\n",
       "      <th>Рыбинск</th>\n",
       "      <td>866.0</td>\n",
       "      <td>50</td>\n",
       "      <td>4</td>\n",
       "      <td>698946.0</td>\n",
       "      <td>2</td>\n",
       "      <td>0</td>\n",
       "      <td>1</td>\n",
       "      <td>114778.0</td>\n",
       "    </tr>\n",
       "    <tr>\n",
       "      <th>Ярославль</th>\n",
       "      <td>870.0</td>\n",
       "      <td>39</td>\n",
       "      <td>4</td>\n",
       "      <td>809407.0</td>\n",
       "      <td>2</td>\n",
       "      <td>0</td>\n",
       "      <td>1</td>\n",
       "      <td>127743.0</td>\n",
       "    </tr>\n",
       "    <tr>\n",
       "      <th rowspan=\"3\" valign=\"top\">М</th>\n",
       "      <th>Ростов</th>\n",
       "      <td>854.0</td>\n",
       "      <td>40</td>\n",
       "      <td>4</td>\n",
       "      <td>664471.0</td>\n",
       "      <td>2</td>\n",
       "      <td>1</td>\n",
       "      <td>1</td>\n",
       "      <td>106099.0</td>\n",
       "    </tr>\n",
       "    <tr>\n",
       "      <th>Рыбинск</th>\n",
       "      <td>868.0</td>\n",
       "      <td>38</td>\n",
       "      <td>4</td>\n",
       "      <td>651942.0</td>\n",
       "      <td>2</td>\n",
       "      <td>1</td>\n",
       "      <td>1</td>\n",
       "      <td>120689.0</td>\n",
       "    </tr>\n",
       "    <tr>\n",
       "      <th>Ярославль</th>\n",
       "      <td>868.0</td>\n",
       "      <td>37</td>\n",
       "      <td>4</td>\n",
       "      <td>893391.0</td>\n",
       "      <td>2</td>\n",
       "      <td>1</td>\n",
       "      <td>1</td>\n",
       "      <td>135662.0</td>\n",
       "    </tr>\n",
       "  </tbody>\n",
       "</table>\n",
       "</div>"
      ],
      "text/plain": [
       "                        score  age  equity   balance  products  credit_card  \\\n",
       "churn gender city                                                             \n",
       "0     Ж      Ростов     839.0   45       3  464725.0         2            1   \n",
       "             Рыбинск    851.0   43       3  473067.0         2            1   \n",
       "             Ярославль  847.0   42       3  496022.0         2            1   \n",
       "      М      Ростов     838.0   39       3  445213.0         2            1   \n",
       "             Рыбинск    848.0   39       2  475322.0         2            1   \n",
       "             Ярославль  853.0   38       2  459649.0         2            1   \n",
       "1     Ж      Ростов     857.0   41       4  631941.0         2            0   \n",
       "             Рыбинск    866.0   50       4  698946.0         2            0   \n",
       "             Ярославль  870.0   39       4  809407.0         2            0   \n",
       "      М      Ростов     854.0   40       4  664471.0         2            1   \n",
       "             Рыбинск    868.0   38       4  651942.0         2            1   \n",
       "             Ярославль  868.0   37       4  893391.0         2            1   \n",
       "\n",
       "                        last_activity  est_salary  \n",
       "churn gender city                                  \n",
       "0     Ж      Ростов                 1     91192.0  \n",
       "             Рыбинск                1    103440.0  \n",
       "             Ярославль              0    117260.0  \n",
       "      М      Ростов                 0    107422.0  \n",
       "             Рыбинск                1    124588.0  \n",
       "             Ярославль              0    139444.0  \n",
       "1     Ж      Ростов                 1    111515.0  \n",
       "             Рыбинск                1    114778.0  \n",
       "             Ярославль              1    127743.0  \n",
       "      М      Ростов                 1    106099.0  \n",
       "             Рыбинск                1    120689.0  \n",
       "             Ярославль              1    135662.0  "
      ]
     },
     "execution_count": 28,
     "metadata": {},
     "output_type": "execute_result"
    }
   ],
   "source": [
    "data[['score', 'age', 'gender', 'city', 'equity', 'balance', 'products', 'credit_card', 'last_activity', 'est_salary', 'churn']].groupby(['churn', 'gender', 'city']).agg('median').round()"
   ]
  },
  {
   "cell_type": "markdown",
   "metadata": {},
   "source": [
    "<div class=\"alert alert-info\">  \n",
    "Сравнение медианных значений признаков отточных клиентов с их неотточными аналогами:\n",
    "    \n",
    "    \n",
    "- Женщины из Ростова: 857 баллов скоринга (против 839), 41 год (против 45), 4 - оценка собственности (против 3), баланс 632 тыс. (против 464 тыс.), банковских продуктов 2, кредитной карты нет (в отличие от неотточного аналога), недавняя активность есть, предположительная з/п 111 тыс. (против 91 тыс.);\n",
    "- Женщины из Рыбинска: 866 баллов скоринга (против 851), 50 лет (против 43), 4 - оценка собственности (против 3), баланс 699 тыс. (против 473 тыс.), банковских продуктов 2, кредитной карты нет (в отличие от неотточного аналога), недавняя активность есть (у аналога нет), предположительная з/п 114 тыс. (против 103 тыс.);\n",
    "- Женщины из Ярославля: 870 баллов скоринга (против 847), 39 лет (против 42), 4 - оценка собственности (против 3), баланс 809 тыс. (против 496 тыс.), банковских продуктов 2, кредитной карты нет (в отличие от неотточного аналога), недавняя активность есть (в отличие от неотточного аналога), предположительная з/п 127 тыс. (против 117 тыс.);\n",
    "    \n",
    "Характерные черты женщин в оттоке: ~ на 20 баллов скоринга больше, оценка собственности - 4, ~ на 200 тыс.денег больше на счету, кредитки нет, от 111 до 117 тыс.денег з/п.\n",
    "    \n",
    "- Мужчины из Ростова: 854 баллов скоринга (против 838), 40 лет (против 39), 4 - оценка собственности (против 3), баланс 664 тыс. (против 445 тыс.), банковских продуктов 2, кредитная карта есть, недавняя активность есть (в отличие от неотточного аналога), предположительная з/п 106 тыс. (против 107 тыс.); \n",
    "- Мужчины из Рыбинска: 868 баллов скоринга (против 848), 38 лет (против 39), 4 - оценка собственности (против 2), баланс 652 тыс. (против 475 тыс.), банковских продуктов 2, кредитная карта есть, недавняя активность есть, предположительная з/п 120 тыс. (против 124 тыс.);\n",
    "- Мужчины из Ярославля: 868 баллов скоринга (против 853), 37 лет (против 38), 4 - оценка собственности (против 2), баланс 893 тыс. (против 459 тыс.), банковских продуктов 2, кредитная карта есть, недавняя активность есть (в отличие от неотточного аналога), предположительная з/п 135 тыс. (против 139 тыс.);\n",
    "    \n",
    "Характерные черты мужчин в оттоке: ~ на 15 баллов скоринга больше, оценка собственности - 4, ~ на 200 тыс.денег больше на счету, от 106 до 135 тыс.денег з/п.    "
   ]
  },
  {
   "cell_type": "markdown",
   "metadata": {},
   "source": [
    "<div class=\"alert alert-success\">\n",
    "<b>👍 Успех:</b> Отлично! Портреты уходящих и остающихся клиентов описаны\n",
    "</div>"
   ]
  },
  {
   "cell_type": "markdown",
   "metadata": {},
   "source": [
    "<div class=\"alert alert-info\">  \n",
    "    \n",
    "***Глава 3. Прогноз оттока клиентов***\n",
    "    \n",
    "Посмотрим на клиентские признаки в разрезе вероятности оттока."
   ]
  },
  {
   "cell_type": "code",
   "execution_count": 29,
   "metadata": {},
   "outputs": [
    {
     "data": {
      "image/png": "[encoded data removed]",
      "text/plain": [
       "<Figure size 720x504 with 1 Axes>"
      ]
     },
     "metadata": {
      "needs_background": "light"
     },
     "output_type": "display_data"
    }
   ],
   "source": [
    "plt.figure(figsize=(10,7))\n",
    "           \n",
    "sns.histplot(data = data, hue = 'churn', x = 'score', stat = 'density', common_norm = False, palette=\"seismic\")\n",
    "plt.xticks(range(640, 1000, 20))\n",
    "plt.title('Нормализованная гистограмма распределения плотноти вероятности оттока в отношении к баллам скоринга')\n",
    "plt.xlabel('Баллы скоринга')\n",
    "plt.ylabel('Плотность вероятности')\n",
    "plt.show()"
   ]
  },
  {
   "cell_type": "markdown",
   "metadata": {},
   "source": [
    "<div class=\"alert alert-info\"> Вероятность оттока повышенная при баллах скоринга от 820 до 930."
   ]
  },
  {
   "cell_type": "code",
   "execution_count": 30,
   "metadata": {},
   "outputs": [
    {
     "data": {
      "image/png": "[encoded data removed]",
      "text/plain": [
       "<Figure size 504x288 with 1 Axes>"
      ]
     },
     "metadata": {
      "needs_background": "light"
     },
     "output_type": "display_data"
    }
   ],
   "source": [
    "plt.figure(figsize=(7,4))\n",
    "           \n",
    "sns.histplot(data = data, hue = 'churn', x = 'city', stat = 'density', common_norm = False)\n",
    "plt.title('Нормализованная гистограмма распределения плотноти вероятности оттока в отношении к локации')\n",
    "plt.xlabel('Город')\n",
    "plt.ylabel('Плотность вероятности')\n",
    "plt.show()"
   ]
  },
  {
   "cell_type": "markdown",
   "metadata": {},
   "source": [
    "<div class=\"alert alert-info\"> Вероятность оттока пониженная, если ваш банк в Рыбинске."
   ]
  },
  {
   "cell_type": "code",
   "execution_count": 31,
   "metadata": {},
   "outputs": [
    {
     "data": {
      "image/png": "[encoded data removed]",
      "text/plain": [
       "<Figure size 504x288 with 1 Axes>"
      ]
     },
     "metadata": {
      "needs_background": "light"
     },
     "output_type": "display_data"
    }
   ],
   "source": [
    "plt.figure(figsize=(7,4))\n",
    "           \n",
    "sns.histplot(data = data, hue = 'churn', x = 'gender', stat = 'density', common_norm = False, palette=\"seismic\")\n",
    "plt.title('Нормализованная гистограмма распределения плотноти вероятности оттока в отношении к полу клиента')\n",
    "plt.xlabel('Пол клиента')\n",
    "plt.ylabel('Плотность вероятности')\n",
    "plt.show()"
   ]
  },
  {
   "cell_type": "markdown",
   "metadata": {},
   "source": [
    "<div class=\"alert alert-info\"> Вероятность оттока повышенная у клиентов мужского пола."
   ]
  },
  {
   "cell_type": "code",
   "execution_count": 32,
   "metadata": {},
   "outputs": [
    {
     "data": {
      "image/png": "[encoded data removed]",
      "text/plain": [
       "<Figure size 1080x504 with 1 Axes>"
      ]
     },
     "metadata": {
      "needs_background": "light"
     },
     "output_type": "display_data"
    }
   ],
   "source": [
    "plt.figure(figsize=(15,7))\n",
    "           \n",
    "sns.histplot(data = data, hue = 'churn', x = 'age', stat = 'density', common_norm = False, palette=\"seismic\")\n",
    "plt.xticks(range(18, 86, 2))\n",
    "plt.title('Нормализованная гистограмма распределения плотноти вероятности оттока в отношении к возрасту клиента')\n",
    "plt.xlabel('Возраст клиента')\n",
    "plt.ylabel('Плотность вероятности')\n",
    "plt.show()"
   ]
  },
  {
   "cell_type": "markdown",
   "metadata": {},
   "source": [
    "<div class=\"alert alert-info\"> Вероятность оттока повышенная у клиентов от 25 до 34 и от 50 до 59 лет."
   ]
  },
  {
   "cell_type": "code",
   "execution_count": 33,
   "metadata": {},
   "outputs": [
    {
     "data": {
      "image/png": "[encoded data removed]",
      "text/plain": [
       "<Figure size 504x288 with 1 Axes>"
      ]
     },
     "metadata": {
      "needs_background": "light"
     },
     "output_type": "display_data"
    }
   ],
   "source": [
    "plt.figure(figsize=(7,4))\n",
    "           \n",
    "sns.histplot(data = data, hue = 'churn', x = 'equity', stat = 'density', common_norm = False, discrete=True, palette=\"seismic\")\n",
    "plt.xticks(range(0, 9, 1))\n",
    "plt.title('Нормализованная гистограмма распределения плотноти вероятности оттока в отношении к оценке собственности клиента')\n",
    "plt.xlabel('Оценка собственности клиента')\n",
    "plt.ylabel('Плотность вероятности')\n",
    "plt.show()"
   ]
  },
  {
   "cell_type": "markdown",
   "metadata": {},
   "source": [
    "<div class=\"alert alert-info\"> Вероятность оттока повышенная у клиентов с оценкой собственности от 3 до 9."
   ]
  },
  {
   "cell_type": "code",
   "execution_count": 34,
   "metadata": {
    "scrolled": true
   },
   "outputs": [
    {
     "data": {
      "image/png": "[encoded data removed]",
      "text/plain": [
       "<Figure size 1080x504 with 1 Axes>"
      ]
     },
     "metadata": {
      "needs_background": "light"
     },
     "output_type": "display_data"
    }
   ],
   "source": [
    "plt.figure(figsize=(15,7))\n",
    "           \n",
    "sns.histplot(data = data, hue = 'churn', x = 'balance', stat = 'density', common_norm = False, palette=\"seismic\")\n",
    "plt.xlim(0, 5000000)\n",
    "plt.xticks(range(0, 5000000, 200000))\n",
    "plt.title('Нормализованная гистограмма распределения плотноти вероятности оттока в отношении к балансу клиента')\n",
    "plt.xlabel('Баланс клиента, млн.денег')\n",
    "plt.ylabel('Плотность вероятности')\n",
    "plt.show()"
   ]
  },
  {
   "cell_type": "markdown",
   "metadata": {},
   "source": [
    "<div class=\"alert alert-info\"> При оценке баланса основной массы клиентов видим, что вероятность оттока повышенная у клиентов с балансом более 800 тыс. денег."
   ]
  },
  {
   "cell_type": "code",
   "execution_count": 35,
   "metadata": {
    "scrolled": false
   },
   "outputs": [
    {
     "data": {
      "image/png": "[encoded data removed]",
      "text/plain": [
       "<Figure size 504x288 with 1 Axes>"
      ]
     },
     "metadata": {
      "needs_background": "light"
     },
     "output_type": "display_data"
    }
   ],
   "source": [
    "plt.figure(figsize=(7,4))\n",
    "           \n",
    "sns.histplot(data = data, hue = 'churn', x = 'products', stat = 'density', common_norm = False, discrete=True, palette=\"seismic\")\n",
    "plt.xticks(range(1, 5, 1))\n",
    "plt.title('Нормализованная гистограмма распределения плотноти вероятности оттока в отношении к количеству банковских продуктов клиента')\n",
    "plt.xlabel('Количество продуктов')\n",
    "plt.ylabel('Плотность вероятности')\n",
    "plt.show()"
   ]
  },
  {
   "cell_type": "markdown",
   "metadata": {},
   "source": [
    "<div class=\"alert alert-info\"> При оценке количества продуктов банка видим, что вероятность оттока низкая только у клиентов с одним продуктом. Причем, вероятность оттока растет прямо пропорционально количеству продуктов."
   ]
  },
  {
   "cell_type": "code",
   "execution_count": 36,
   "metadata": {
    "scrolled": false
   },
   "outputs": [
    {
     "data": {
      "image/png": "[encoded data removed]",
      "text/plain": [
       "<Figure size 504x288 with 1 Axes>"
      ]
     },
     "metadata": {
      "needs_background": "light"
     },
     "output_type": "display_data"
    }
   ],
   "source": [
    "plt.figure(figsize=(7,4))\n",
    "           \n",
    "sns.histplot(data = data, hue = 'churn', x = 'credit_card', stat = 'density', common_norm = False, discrete=True, palette=\"seismic\")\n",
    "plt.xticks(range(0, 2, 1))\n",
    "plt.title('Нормализованная гистограмма распределения плотноти вероятности оттока в отношении к наличию кредитки у клиента')\n",
    "plt.xlabel('Кредитная карта есть/нет')\n",
    "plt.ylabel('Плотность вероятности')\n",
    "plt.show()"
   ]
  },
  {
   "cell_type": "markdown",
   "metadata": {},
   "source": [
    "<div class=\"alert alert-info\"> При оценке фактора наличия кредитной карты видим, что вероятность оттока повышена у клиентов без кредитной карты."
   ]
  },
  {
   "cell_type": "code",
   "execution_count": 37,
   "metadata": {
    "scrolled": true
   },
   "outputs": [
    {
     "data": {
      "image/png": "[encoded data removed]",
      "text/plain": [
       "<Figure size 504x288 with 1 Axes>"
      ]
     },
     "metadata": {
      "needs_background": "light"
     },
     "output_type": "display_data"
    }
   ],
   "source": [
    "plt.figure(figsize=(7,4))\n",
    "           \n",
    "sns.histplot(data = data, hue = 'churn', x = 'last_activity', stat = 'density', common_norm = False, discrete=True, palette=\"seismic\")\n",
    "plt.xticks(range(0, 2, 1))\n",
    "plt.title('Нормализованная гистограмма распределения плотноти вероятности оттока в отношении к недавней активности клиента')\n",
    "plt.xlabel('Недавняя активность клиента')\n",
    "plt.ylabel('Плотность вероятности')\n",
    "plt.show()"
   ]
  },
  {
   "cell_type": "markdown",
   "metadata": {},
   "source": [
    "<div class=\"alert alert-info\"> При оценке фактора наличия кредитной карты видим, что вероятность оттока повышена у клиентов с недавней активностью (видимо, человек вспомнил про свой счёт, вывел все сбережения и оттёк)."
   ]
  },
  {
   "cell_type": "code",
   "execution_count": 38,
   "metadata": {},
   "outputs": [
    {
     "data": {
      "image/png": "[encoded data removed]",
      "text/plain": [
       "<Figure size 1080x504 with 1 Axes>"
      ]
     },
     "metadata": {
      "needs_background": "light"
     },
     "output_type": "display_data"
    }
   ],
   "source": [
    "plt.figure(figsize=(15,7))\n",
    "           \n",
    "sns.histplot(data = data, hue = 'churn', x = 'est_salary', stat = 'density', common_norm = False, palette=\"seismic\")\n",
    "plt.xlim(0, 400000)\n",
    "plt.xticks(range(0, 400000, 20000))\n",
    "plt.title('Нормализованная гистограмма распределения плотноти вероятности оттока в отношении к предположительной з/п клиента')\n",
    "plt.xlabel('Предположительная заработная плата клиента, единиц денег')\n",
    "plt.ylabel('Плотность вероятности')\n",
    "plt.show()"
   ]
  },
  {
   "cell_type": "markdown",
   "metadata": {},
   "source": [
    "<div class=\"alert alert-info\"> При оценка предположительной з/п основной массы клиентов видим, что вероятность оттока повышенная у клиентов с з/п от 100 до 210 тыс. денег."
   ]
  },
  {
   "cell_type": "markdown",
   "metadata": {},
   "source": [
    "<div class=\"alert alert-success\">\n",
    "<b>👍 Успех:</b> По каждому признаку определены отточные интервалы! Супер!\n",
    "</div>"
   ]
  },
  {
   "cell_type": "markdown",
   "metadata": {},
   "source": [
    "<div class=\"alert alert-info\">  \n",
    "    \n",
    "***Глава 4. Выделение сегментов пользователей***\n",
    "    \n",
    "Выделим сегменты оттока путем комбинации нескольких отточных признаков."
   ]
  },
  {
   "cell_type": "code",
   "execution_count": 39,
   "metadata": {},
   "outputs": [
    {
     "data": {
      "text/plain": [
       "count    2057.000000\n",
       "mean        0.300438\n",
       "Name: churn, dtype: float64"
      ]
     },
     "execution_count": 39,
     "metadata": {},
     "output_type": "execute_result"
    }
   ],
   "source": [
    "data.query('820<=score<=930 and gender==\"М\" and city!=\"Рыбинск\"')['churn'].agg(['count', 'mean'])"
   ]
  },
  {
   "cell_type": "markdown",
   "metadata": {},
   "source": [
    "<div class=\"alert alert-info\">  Первый сегмент: 2057 клиентов, Процент оттока ~ 30.\n",
    "    \n",
    "- Баллы скоринга от 820 до 930;\n",
    "- Пол клиента мужской;\n",
    "- Город Ярославль и Ростов."
   ]
  },
  {
   "cell_type": "markdown",
   "metadata": {},
   "source": [
    "<div class=\"alert alert-success\">\n",
    "<b>👍 Успех:</b> Все верно!\n",
    "</div>"
   ]
  },
  {
   "cell_type": "code",
   "execution_count": 40,
   "metadata": {
    "scrolled": true
   },
   "outputs": [
    {
     "data": {
      "text/plain": [
       "count    1245.000000\n",
       "mean        0.350201\n",
       "Name: churn, dtype: float64"
      ]
     },
     "execution_count": 40,
     "metadata": {},
     "output_type": "execute_result"
    }
   ],
   "source": [
    "data.query('25<=age<=34 and equity>=3 and products>= 2')['churn'].agg(['count', 'mean'])"
   ]
  },
  {
   "cell_type": "markdown",
   "metadata": {},
   "source": [
    "<div class=\"alert alert-info\">  Второй сегмент: 1245 клиентов, Процент оттока ~ 35.\n",
    "    \n",
    "- Возраст от 25 до 34 лет;\n",
    "- Баллы собственности более 2;\n",
    "- Банковских продуктов более одного."
   ]
  },
  {
   "cell_type": "markdown",
   "metadata": {},
   "source": [
    "<div class=\"alert alert-success\">\n",
    "<b>👍 Успех:</b> Все верно!\n",
    "</div>"
   ]
  },
  {
   "cell_type": "code",
   "execution_count": 41,
   "metadata": {},
   "outputs": [
    {
     "data": {
      "text/plain": [
       "count    794.000000\n",
       "mean       0.392947\n",
       "Name: churn, dtype: float64"
      ]
     },
     "execution_count": 41,
     "metadata": {},
     "output_type": "execute_result"
    }
   ],
   "source": [
    "data.query('50<=age<=59 and equity>=3 and products>= 2')['churn'].agg(['count', 'mean'])"
   ]
  },
  {
   "cell_type": "markdown",
   "metadata": {},
   "source": [
    "<div class=\"alert alert-info\">  Третий сегмент: 795 клиентов, Процент оттока ~ 39.\n",
    "    \n",
    "- Возраст от 50 до 59 лет;\n",
    "- Баллы собственности более 2;\n",
    "- Банковских продуктов более одного."
   ]
  },
  {
   "cell_type": "markdown",
   "metadata": {},
   "source": [
    "<div class=\"alert alert-success\">\n",
    "<b>👍 Успех:</b> Все верно!\n",
    "</div>"
   ]
  },
  {
   "cell_type": "code",
   "execution_count": 42,
   "metadata": {
    "scrolled": true
   },
   "outputs": [
    {
     "data": {
      "text/plain": [
       "count    740.000000\n",
       "mean       0.413514\n",
       "Name: churn, dtype: float64"
      ]
     },
     "execution_count": 42,
     "metadata": {},
     "output_type": "execute_result"
    }
   ],
   "source": [
    "data.query('credit_card==0 and last_activity==1 and 100000<=est_salary<=200000')['churn'].agg(['count', 'mean'])"
   ]
  },
  {
   "cell_type": "markdown",
   "metadata": {},
   "source": [
    "<div class=\"alert alert-info\">  Четвертый сегмент: 740 клиентов, Процент оттока ~ 41.\n",
    "    \n",
    "- Кредитки нет;\n",
    "- Недавно активный клиент;\n",
    "- Предположительная з/п от 100 до 200 тыс.денге."
   ]
  },
  {
   "cell_type": "markdown",
   "metadata": {},
   "source": [
    "<div class=\"alert alert-success\">\n",
    "<b>👍 Успех:</b> Отличные сегменты, молодец! Каждый сегмент в границах интервала 500-2000, отток нимного выше, чем в среднем по банку\n",
    "</div>"
   ]
  },
  {
   "cell_type": "markdown",
   "metadata": {},
   "source": [
    "<div class=\"alert alert-info\">  \n",
    "    \n",
    "***Глава 5. Проверка статистических гипотез***"
   ]
  },
  {
   "cell_type": "markdown",
   "metadata": {},
   "source": [
    "<div class=\"alert alert-info\">  \n",
    "Проверим гипотезу от отдела маркетинга о различии дохода между теми клиентами, которые ушли и теми, которые остались.\n",
    "    \n",
    "H0: Cредняя з/п ушедших клиентов не равна средней з/п оставшихся.\n",
    "    \n",
    "Н1: Cредние з/п не различаются.    \n",
    "    \n",
    "Т.к. выборки по признаку \"отток\" неравнозначные, но большие (82% / 18% датасета) имеем возможность использовать т-тест (зададим equal_var=False, тестировать будем двухстороннюю гипотезу). Параметр альфа примем за 5%."
   ]
  },
  {
   "cell_type": "code",
   "execution_count": 43,
   "metadata": {},
   "outputs": [
    {
     "name": "stdout",
     "output_type": "stream",
     "text": [
      "Средняя з/п ушедших клиентов: 148357.48\n",
      "Средняя з/п верных клиентов: 147674.64\n",
      "p-значение: 0.8354803526840116\n",
      "Не получилось отвергнуть нулевую гипотезу\n"
     ]
    }
   ],
   "source": [
    "alpha = 0.05\n",
    "churn_yes = data.query('churn == 1')['est_salary']\n",
    "churn_no = data.query('churn == 0')['est_salary']\n",
    "\n",
    "print('Средняя з/п ушедших клиентов:', churn_yes.mean().round(2))\n",
    "print('Средняя з/п верных клиентов:', churn_no.mean().round(2))\n",
    "\n",
    "result = st.ttest_ind(churn_yes, churn_no, equal_var=False, alternative='two-sided')\n",
    "print('p-значение:', result.pvalue)\n",
    "      \n",
    "if result.pvalue < alpha:\n",
    "      print('Отвергаем нулевую гипотезу о неравенстве з/п')\n",
    "else:\n",
    "      print('Не получилось отвергнуть нулевую гипотезу')"
   ]
  },
  {
   "cell_type": "markdown",
   "metadata": {},
   "source": [
    "<div class=\"alert alert-info\">  Победа за Н0: Cредняя з/п ушедших клиентов не равна средней з/п оставшихся. \n",
    "    \n",
    "Также видим, что при использовании alpha = 0.01 ситуация бы не изменилась."
   ]
  },
  {
   "cell_type": "markdown",
   "metadata": {},
   "source": [
    "<div class=\"alert alert-success\">\n",
    "<b>👍 Успех:</b> Все верно!\n",
    "</div>"
   ]
  },
  {
   "cell_type": "markdown",
   "metadata": {},
   "source": [
    "<div class=\"alert alert-info\">  \n",
    "Проверим гипотезу о том, влияет ли наличие кредитной карты на факт оттока.\n",
    "    \n",
    "H0: Количество ушедших клиентов с кредитной картой не равно количеству оставшихся клиентов с кредиткой.\n",
    "    \n",
    "Н1: Количество ушедших клиентов с кредитной картой равно количеству оставшихся клиентов с кредиткой.    \n",
    "    \n",
    "Также имеем возможность использовать т-тест (зададим equal_var=False, тестировать будем двустороннюю гипотезу). Параметр альфа примем за 5%."
   ]
  },
  {
   "cell_type": "markdown",
   "metadata": {},
   "source": [
    "<div class=\"alert alert-danger\">\n",
    "<s><b>😔 Необходимо исправить:</b> гипотеза должны быть двустононней, и сформулировать ее можно немного по другому, сравнить ушедших и оставшихся клиентов, а не соотношение признака наличия кредитной карты у ушедших.</s>\n",
    "</div>"
   ]
  },
  {
   "cell_type": "markdown",
   "metadata": {},
   "source": [
    "Done!!"
   ]
  },
  {
   "cell_type": "code",
   "execution_count": 44,
   "metadata": {},
   "outputs": [
    {
     "name": "stdout",
     "output_type": "stream",
     "text": [
      "Количество ушедших клиентов с кредитной картой: 1003\n",
      "Количество оставшихся клиентов с кредитной картой: 5781\n",
      "p-значение: 0.27962267319820994\n",
      "Не получилось отвергнуть нулевую гипотезу\n"
     ]
    }
   ],
   "source": [
    "alpha = 0.05\n",
    "data.drop(data.loc[data['credit_card'] == 0].index, inplace=True)\n",
    "credit_gone = data.query('churn == 1')['user_id']\n",
    "credit_stay = data.query('churn == 0')['user_id']\n",
    "\n",
    "print('Количество ушедших клиентов с кредитной картой:', credit_gone.count())\n",
    "print('Количество оставшихся клиентов с кредитной картой:', credit_stay.count())\n",
    "\n",
    "result = st.ttest_ind(credit_gone, credit_stay, equal_var=False, alternative='two-sided')\n",
    "print('p-значение:', result.pvalue)\n",
    "      \n",
    "if result.pvalue < alpha:\n",
    "      print('Отвергаем нулевую гипотезу о неравенстве количества клиентов')\n",
    "else:\n",
    "      print('Не получилось отвергнуть нулевую гипотезу')"
   ]
  },
  {
   "cell_type": "markdown",
   "metadata": {},
   "source": [
    "<div class=\"alert alert-info\">  Победа за Н0: Количество ушедших клиентов с кредитной картой не равно количеству оставшихся клиентов с кредиткой.\n",
    "    \n",
    "Давно мучавшее предположение подтвердилось!!! Владельцам кредитных карт тяжело расстаться с банком и именно поэтому эти карты так настойчиво навязывают на каждом перекрестке. Даже alpha = 0.01 не поможет)."
   ]
  },
  {
   "cell_type": "markdown",
   "metadata": {},
   "source": [
    "<div class=\"alert alert-success\">\n",
    "<b>👍 Успех:</b> Гипотезы сформулированы и проверены!\n",
    "</div>"
   ]
  },
  {
   "cell_type": "markdown",
   "metadata": {},
   "source": [
    "<div class=\"alert alert-info\">  \n",
    "    \n",
    "***Глава 6.1 Выводы***"
   ]
  },
  {
   "cell_type": "markdown",
   "metadata": {},
   "source": [
    "<div class=\"alert alert-info\">  \n",
    "    \n",
    "*В соответствии с планом работ были проведены следующие мероприятия:*\n",
    "    \n",
    "- Глава 1: Ознакомились с данными, признали их достаточно полными и оценили пригодность к дальнейшему анализу.\n",
    "    \n",
    "- Глава 2: Провели исследовательский анализ - оценили распределение данных внутри каждого клиентского признака, познакомились с портретами уходящих и остающихся клиентов в зависимости от пола и места жительства.\n",
    "    \n",
    "- Глава 3: Спрогнозировали клиентский отток.\n",
    "    \n",
    "- Глава 4: Выделили пользовательские сегменты, в которых вероятность оттока сильнее.\n",
    "    \n",
    "- Глава 5: Проверили статистические гипотезы."
   ]
  },
  {
   "cell_type": "markdown",
   "metadata": {},
   "source": [
    "<div class=\"alert alert-info\"> \n",
    "    \n",
    "*В рамках главы №3 выявили следующие признаки оттока клиентов банка:*\n",
    "    \n",
    "- баллы скоринга от 820 до 930;\n",
    "- города Ярославль и Ростов характеризуются бОльшим оттоком;\n",
    "- мужской пол более склонен к оттоку;\n",
    "- возраст клиента 25 - 34 и 50 - 59;\n",
    "- оценка собственности 3 - 9;\n",
    "- баланс на счету > 800 тыс.;\n",
    "- банковские продукты 2 - 5;\n",
    "- нет кредитной карты;\n",
    "- недавняя активность;\n",
    "- з/п 100 - 200 тыс."
   ]
  },
  {
   "cell_type": "markdown",
   "metadata": {},
   "source": [
    "<div class=\"alert alert-info\"> \n",
    "    \n",
    "*В рамках главы №4 выявили следующие сегменты клиентов банка, характеризующиеся высокой вероятностью оттока:*\n",
    "    \n",
    "- Сегмент 1 - Баллы скоринга от 820 до 930; Пол клиента мужской; Город Ярославль и Ростов. Процент оттока ~ 30.\n",
    "    \n",
    "- Сегмент 2 - Возраст от 25 до 34 лет; Баллы собственности более 2; Банковских продуктов более одного. Процент оттока ~ 35.\n",
    "    \n",
    "- Сегмент 3 - Возраст от 50 до 59 лет; Баллы собственности более 2; Банковских продуктов более одного. Процент оттока ~ 39.\n",
    "    \n",
    "- Сегмент 4 - Кредитки нет; Недавно активный клиент; Предположительная з/п от 100 до 200 тыс. Процент оттока ~ 41."
   ]
  },
  {
   "cell_type": "markdown",
   "metadata": {},
   "source": [
    "<div class=\"alert alert-info\"> \n",
    "    \n",
    "*В рамках главы №5 проверены следующие статистические гипотезы:*\n",
    "    \n",
    "- О различии дохода между теми клиентами, которые ушли и теми, которые остались. Результат проверки - средняя з/п ушедших клиентов не равна (больше) средней з/п оставшихся;\n",
    "    \n",
    "- О влиянии наличия кредитной карты на факт оттока. Результат проверки - количество ушедших клиентов с кредитной картой не равно (меньше) количества оставшихся клиентов с кредиткой."
   ]
  },
  {
   "cell_type": "markdown",
   "metadata": {},
   "source": [
    "<div class=\"alert alert-info\">  \n",
    "    \n",
    "***Глава 6.2 Рекомендации***\n",
    "    \n",
    "При проектировании маркетинговых кампаний обратить внимание на:\n",
    "    \n",
    "- Наличие кредитной карты снижает вероятность оттока. Необходимо раздавать кредитки при каждом обращении сотрудника в банк, а при дистанционном обращении - высылать кредитку курьером.\n",
    "- Наличие у клиента \"свободных\" денег повышает вероятность оттока. Необходимо снизить лимит на ежедневные/ежемесячные переводы и снятия в банкоматах, а также предложить клиенту выгодную систему долгосрочного капиталовложения.\n",
    "- Мужской пол более склонен к оттоку. Необходимо сделать маркетинговые акции непосредственно для мужчин: объяснять рекламой, насколько брутально держать деньги в \"Метанпроме\" и насколько небрутально их оттуда выводить.\n",
    "- Возраст клиента 25 - 34 и 50 - 59 наиболее склонны к оттоку. Привлекательные краткосрочные вклады для молодых людей (\"на отсрочку\") и выгодные долгосрочные вклады для пожилых людей (\"к пенсии\") позволят повлиять на данные группы клиентов."
   ]
  },
  {
   "cell_type": "markdown",
   "metadata": {},
   "source": [
    "<div class=\"alert alert-success\">\n",
    "<b>👍 Успех:</b> Хорошая работа, молодец! Все данные исследованы, много визуализации, сделаны выводы по всем разделам, достаточное количество рассуждений и комментариев, в презентации соблюден баланс текстовой и графической информации\n",
    "</div>"
   ]
  }
 ],
 "metadata": {
  "ExecuteTimeLog": [
   {
    "duration": 1242,
    "start_time": "2024-12-19T17:39:07.089Z"
   },
   {
    "duration": 137,
    "start_time": "2024-12-19T17:39:08.333Z"
   },
   {
    "duration": 9,
    "start_time": "2024-12-19T17:39:08.472Z"
   },
   {
    "duration": 11,
    "start_time": "2024-12-19T17:39:08.482Z"
   },
   {
    "duration": 12,
    "start_time": "2024-12-19T17:39:08.495Z"
   },
   {
    "duration": 19,
    "start_time": "2024-12-19T17:39:08.508Z"
   },
   {
    "duration": 4,
    "start_time": "2024-12-19T17:39:08.529Z"
   },
   {
    "duration": 6,
    "start_time": "2024-12-19T17:39:08.534Z"
   },
   {
    "duration": 5,
    "start_time": "2024-12-19T17:39:08.541Z"
   },
   {
    "duration": 32,
    "start_time": "2024-12-19T17:39:08.547Z"
   },
   {
    "duration": 9,
    "start_time": "2024-12-19T17:39:08.581Z"
   },
   {
    "duration": 5,
    "start_time": "2024-12-19T17:39:08.592Z"
   },
   {
    "duration": 5,
    "start_time": "2024-12-19T17:39:08.598Z"
   },
   {
    "duration": 325,
    "start_time": "2024-12-19T17:39:08.606Z"
   },
   {
    "duration": 124,
    "start_time": "2024-12-19T17:39:08.933Z"
   },
   {
    "duration": 99,
    "start_time": "2024-12-19T17:39:09.060Z"
   },
   {
    "duration": 97,
    "start_time": "2024-12-19T17:39:09.161Z"
   },
   {
    "duration": 236,
    "start_time": "2024-12-19T17:39:09.259Z"
   },
   {
    "duration": 167,
    "start_time": "2024-12-19T17:39:09.496Z"
   },
   {
    "duration": 141,
    "start_time": "2024-12-19T17:39:09.664Z"
   },
   {
    "duration": 857,
    "start_time": "2024-12-19T17:39:09.807Z"
   },
   {
    "duration": 832,
    "start_time": "2024-12-19T17:39:10.666Z"
   },
   {
    "duration": 751,
    "start_time": "2024-12-19T17:39:11.500Z"
   },
   {
    "duration": 6,
    "start_time": "2024-12-19T17:39:12.253Z"
   },
   {
    "duration": 100,
    "start_time": "2024-12-19T17:39:12.260Z"
   },
   {
    "duration": 23,
    "start_time": "2024-12-19T17:39:12.362Z"
   },
   {
    "duration": 369,
    "start_time": "2024-12-19T17:39:12.387Z"
   },
   {
    "duration": 189,
    "start_time": "2024-12-19T17:39:12.757Z"
   },
   {
    "duration": 320,
    "start_time": "2024-12-19T17:39:12.947Z"
   },
   {
    "duration": 445,
    "start_time": "2024-12-19T17:39:13.277Z"
   },
   {
    "duration": 244,
    "start_time": "2024-12-19T17:39:13.726Z"
   },
   {
    "duration": 5833,
    "start_time": "2024-12-19T17:39:13.976Z"
   },
   {
    "duration": 201,
    "start_time": "2024-12-19T17:39:19.810Z"
   },
   {
    "duration": 205,
    "start_time": "2024-12-19T17:39:20.012Z"
   },
   {
    "duration": 200,
    "start_time": "2024-12-19T17:39:20.219Z"
   },
   {
    "duration": 1067,
    "start_time": "2024-12-19T17:39:20.420Z"
   },
   {
    "duration": 101,
    "start_time": "2024-12-19T17:47:48.335Z"
   },
   {
    "duration": 1287,
    "start_time": "2024-12-19T17:48:45.838Z"
   },
   {
    "duration": 0,
    "start_time": "2024-12-19T17:48:47.128Z"
   },
   {
    "duration": 0,
    "start_time": "2024-12-19T17:48:47.129Z"
   },
   {
    "duration": 0,
    "start_time": "2024-12-19T17:48:47.130Z"
   },
   {
    "duration": 0,
    "start_time": "2024-12-19T17:48:47.131Z"
   },
   {
    "duration": 0,
    "start_time": "2024-12-19T17:48:47.132Z"
   },
   {
    "duration": 0,
    "start_time": "2024-12-19T17:48:47.133Z"
   },
   {
    "duration": 0,
    "start_time": "2024-12-19T17:48:47.134Z"
   },
   {
    "duration": 0,
    "start_time": "2024-12-19T17:48:47.135Z"
   },
   {
    "duration": 0,
    "start_time": "2024-12-19T17:48:47.136Z"
   },
   {
    "duration": 0,
    "start_time": "2024-12-19T17:48:47.137Z"
   },
   {
    "duration": 0,
    "start_time": "2024-12-19T17:48:47.138Z"
   },
   {
    "duration": 0,
    "start_time": "2024-12-19T17:48:47.139Z"
   },
   {
    "duration": 0,
    "start_time": "2024-12-19T17:48:47.140Z"
   },
   {
    "duration": 0,
    "start_time": "2024-12-19T17:48:47.141Z"
   },
   {
    "duration": 0,
    "start_time": "2024-12-19T17:48:47.142Z"
   },
   {
    "duration": 0,
    "start_time": "2024-12-19T17:48:47.143Z"
   },
   {
    "duration": 0,
    "start_time": "2024-12-19T17:48:47.144Z"
   },
   {
    "duration": 0,
    "start_time": "2024-12-19T17:48:47.145Z"
   },
   {
    "duration": 0,
    "start_time": "2024-12-19T17:48:47.145Z"
   },
   {
    "duration": 0,
    "start_time": "2024-12-19T17:48:47.146Z"
   },
   {
    "duration": 0,
    "start_time": "2024-12-19T17:48:47.147Z"
   },
   {
    "duration": 0,
    "start_time": "2024-12-19T17:48:47.177Z"
   },
   {
    "duration": 0,
    "start_time": "2024-12-19T17:48:47.178Z"
   },
   {
    "duration": 0,
    "start_time": "2024-12-19T17:48:47.180Z"
   },
   {
    "duration": 0,
    "start_time": "2024-12-19T17:48:47.181Z"
   },
   {
    "duration": 0,
    "start_time": "2024-12-19T17:48:47.182Z"
   },
   {
    "duration": 0,
    "start_time": "2024-12-19T17:48:47.183Z"
   },
   {
    "duration": 0,
    "start_time": "2024-12-19T17:48:47.184Z"
   },
   {
    "duration": 0,
    "start_time": "2024-12-19T17:48:47.185Z"
   },
   {
    "duration": 0,
    "start_time": "2024-12-19T17:48:47.186Z"
   },
   {
    "duration": 1,
    "start_time": "2024-12-19T17:48:47.187Z"
   },
   {
    "duration": 0,
    "start_time": "2024-12-19T17:48:47.189Z"
   },
   {
    "duration": 0,
    "start_time": "2024-12-19T17:48:47.190Z"
   },
   {
    "duration": 0,
    "start_time": "2024-12-19T17:48:47.191Z"
   },
   {
    "duration": 0,
    "start_time": "2024-12-19T17:48:47.191Z"
   },
   {
    "duration": 0,
    "start_time": "2024-12-19T17:48:47.192Z"
   },
   {
    "duration": 1209,
    "start_time": "2024-12-19T17:50:09.226Z"
   },
   {
    "duration": 0,
    "start_time": "2024-12-19T17:50:10.437Z"
   },
   {
    "duration": 0,
    "start_time": "2024-12-19T17:50:10.439Z"
   },
   {
    "duration": 0,
    "start_time": "2024-12-19T17:50:10.440Z"
   },
   {
    "duration": 0,
    "start_time": "2024-12-19T17:50:10.441Z"
   },
   {
    "duration": 0,
    "start_time": "2024-12-19T17:50:10.443Z"
   },
   {
    "duration": 0,
    "start_time": "2024-12-19T17:50:10.444Z"
   },
   {
    "duration": 0,
    "start_time": "2024-12-19T17:50:10.445Z"
   },
   {
    "duration": 0,
    "start_time": "2024-12-19T17:50:10.446Z"
   },
   {
    "duration": 0,
    "start_time": "2024-12-19T17:50:10.447Z"
   },
   {
    "duration": 0,
    "start_time": "2024-12-19T17:50:10.448Z"
   },
   {
    "duration": 0,
    "start_time": "2024-12-19T17:50:10.449Z"
   },
   {
    "duration": 0,
    "start_time": "2024-12-19T17:50:10.450Z"
   },
   {
    "duration": 0,
    "start_time": "2024-12-19T17:50:10.477Z"
   },
   {
    "duration": 0,
    "start_time": "2024-12-19T17:50:10.478Z"
   },
   {
    "duration": 0,
    "start_time": "2024-12-19T17:50:10.480Z"
   },
   {
    "duration": 0,
    "start_time": "2024-12-19T17:50:10.481Z"
   },
   {
    "duration": 0,
    "start_time": "2024-12-19T17:50:10.482Z"
   },
   {
    "duration": 0,
    "start_time": "2024-12-19T17:50:10.483Z"
   },
   {
    "duration": 0,
    "start_time": "2024-12-19T17:50:10.486Z"
   },
   {
    "duration": 0,
    "start_time": "2024-12-19T17:50:10.487Z"
   },
   {
    "duration": 0,
    "start_time": "2024-12-19T17:50:10.488Z"
   },
   {
    "duration": 0,
    "start_time": "2024-12-19T17:50:10.490Z"
   },
   {
    "duration": 0,
    "start_time": "2024-12-19T17:50:10.491Z"
   },
   {
    "duration": 0,
    "start_time": "2024-12-19T17:50:10.492Z"
   },
   {
    "duration": 0,
    "start_time": "2024-12-19T17:50:10.493Z"
   },
   {
    "duration": 0,
    "start_time": "2024-12-19T17:50:10.494Z"
   },
   {
    "duration": 0,
    "start_time": "2024-12-19T17:50:10.495Z"
   },
   {
    "duration": 0,
    "start_time": "2024-12-19T17:50:10.496Z"
   },
   {
    "duration": 0,
    "start_time": "2024-12-19T17:50:10.497Z"
   },
   {
    "duration": 0,
    "start_time": "2024-12-19T17:50:10.498Z"
   },
   {
    "duration": 0,
    "start_time": "2024-12-19T17:50:10.499Z"
   },
   {
    "duration": 0,
    "start_time": "2024-12-19T17:50:10.500Z"
   },
   {
    "duration": 0,
    "start_time": "2024-12-19T17:50:10.501Z"
   },
   {
    "duration": 0,
    "start_time": "2024-12-19T17:50:10.502Z"
   },
   {
    "duration": 0,
    "start_time": "2024-12-19T17:50:10.504Z"
   },
   {
    "duration": 0,
    "start_time": "2024-12-19T17:50:10.505Z"
   },
   {
    "duration": 1194,
    "start_time": "2024-12-19T17:53:30.718Z"
   },
   {
    "duration": 0,
    "start_time": "2024-12-19T17:53:31.915Z"
   },
   {
    "duration": 0,
    "start_time": "2024-12-19T17:53:31.916Z"
   },
   {
    "duration": 0,
    "start_time": "2024-12-19T17:53:31.917Z"
   },
   {
    "duration": 0,
    "start_time": "2024-12-19T17:53:31.918Z"
   },
   {
    "duration": 0,
    "start_time": "2024-12-19T17:53:31.919Z"
   },
   {
    "duration": 0,
    "start_time": "2024-12-19T17:53:31.920Z"
   },
   {
    "duration": 0,
    "start_time": "2024-12-19T17:53:31.922Z"
   },
   {
    "duration": 0,
    "start_time": "2024-12-19T17:53:31.923Z"
   },
   {
    "duration": 0,
    "start_time": "2024-12-19T17:53:31.924Z"
   },
   {
    "duration": 0,
    "start_time": "2024-12-19T17:53:31.925Z"
   },
   {
    "duration": 0,
    "start_time": "2024-12-19T17:53:31.926Z"
   },
   {
    "duration": 0,
    "start_time": "2024-12-19T17:53:31.927Z"
   },
   {
    "duration": 0,
    "start_time": "2024-12-19T17:53:31.928Z"
   },
   {
    "duration": 0,
    "start_time": "2024-12-19T17:53:31.929Z"
   },
   {
    "duration": 0,
    "start_time": "2024-12-19T17:53:31.930Z"
   },
   {
    "duration": 0,
    "start_time": "2024-12-19T17:53:31.931Z"
   },
   {
    "duration": 0,
    "start_time": "2024-12-19T17:53:31.932Z"
   },
   {
    "duration": 0,
    "start_time": "2024-12-19T17:53:31.933Z"
   },
   {
    "duration": 0,
    "start_time": "2024-12-19T17:53:31.934Z"
   },
   {
    "duration": 0,
    "start_time": "2024-12-19T17:53:31.935Z"
   },
   {
    "duration": 0,
    "start_time": "2024-12-19T17:53:31.977Z"
   },
   {
    "duration": 0,
    "start_time": "2024-12-19T17:53:31.978Z"
   },
   {
    "duration": 0,
    "start_time": "2024-12-19T17:53:31.979Z"
   },
   {
    "duration": 0,
    "start_time": "2024-12-19T17:53:31.980Z"
   },
   {
    "duration": 0,
    "start_time": "2024-12-19T17:53:31.981Z"
   },
   {
    "duration": 0,
    "start_time": "2024-12-19T17:53:31.982Z"
   },
   {
    "duration": 0,
    "start_time": "2024-12-19T17:53:31.983Z"
   },
   {
    "duration": 0,
    "start_time": "2024-12-19T17:53:31.984Z"
   },
   {
    "duration": 0,
    "start_time": "2024-12-19T17:53:31.985Z"
   },
   {
    "duration": 0,
    "start_time": "2024-12-19T17:53:31.986Z"
   },
   {
    "duration": 0,
    "start_time": "2024-12-19T17:53:31.987Z"
   },
   {
    "duration": 0,
    "start_time": "2024-12-19T17:53:31.988Z"
   },
   {
    "duration": 0,
    "start_time": "2024-12-19T17:53:31.989Z"
   },
   {
    "duration": 0,
    "start_time": "2024-12-19T17:53:31.990Z"
   },
   {
    "duration": 0,
    "start_time": "2024-12-19T17:53:31.991Z"
   },
   {
    "duration": 0,
    "start_time": "2024-12-19T17:53:31.992Z"
   },
   {
    "duration": 148,
    "start_time": "2024-12-19T17:55:19.703Z"
   },
   {
    "duration": 0,
    "start_time": "2024-12-19T17:55:19.853Z"
   },
   {
    "duration": 0,
    "start_time": "2024-12-19T17:55:19.854Z"
   },
   {
    "duration": 0,
    "start_time": "2024-12-19T17:55:19.856Z"
   },
   {
    "duration": 0,
    "start_time": "2024-12-19T17:55:19.857Z"
   },
   {
    "duration": 0,
    "start_time": "2024-12-19T17:55:19.858Z"
   },
   {
    "duration": 0,
    "start_time": "2024-12-19T17:55:19.859Z"
   },
   {
    "duration": 0,
    "start_time": "2024-12-19T17:55:19.860Z"
   },
   {
    "duration": 0,
    "start_time": "2024-12-19T17:55:19.861Z"
   },
   {
    "duration": 0,
    "start_time": "2024-12-19T17:55:19.862Z"
   },
   {
    "duration": 0,
    "start_time": "2024-12-19T17:55:19.863Z"
   },
   {
    "duration": 0,
    "start_time": "2024-12-19T17:55:19.864Z"
   },
   {
    "duration": 0,
    "start_time": "2024-12-19T17:55:19.865Z"
   },
   {
    "duration": 0,
    "start_time": "2024-12-19T17:55:19.866Z"
   },
   {
    "duration": 0,
    "start_time": "2024-12-19T17:55:19.867Z"
   },
   {
    "duration": 0,
    "start_time": "2024-12-19T17:55:19.868Z"
   },
   {
    "duration": 0,
    "start_time": "2024-12-19T17:55:19.869Z"
   },
   {
    "duration": 0,
    "start_time": "2024-12-19T17:55:19.870Z"
   },
   {
    "duration": 0,
    "start_time": "2024-12-19T17:55:19.871Z"
   },
   {
    "duration": 0,
    "start_time": "2024-12-19T17:55:19.873Z"
   },
   {
    "duration": 0,
    "start_time": "2024-12-19T17:55:19.873Z"
   },
   {
    "duration": 0,
    "start_time": "2024-12-19T17:55:19.875Z"
   },
   {
    "duration": 0,
    "start_time": "2024-12-19T17:55:19.875Z"
   },
   {
    "duration": 0,
    "start_time": "2024-12-19T17:55:19.877Z"
   },
   {
    "duration": 0,
    "start_time": "2024-12-19T17:55:19.878Z"
   },
   {
    "duration": 0,
    "start_time": "2024-12-19T17:55:19.879Z"
   },
   {
    "duration": 0,
    "start_time": "2024-12-19T17:55:19.880Z"
   },
   {
    "duration": 0,
    "start_time": "2024-12-19T17:55:19.881Z"
   },
   {
    "duration": 0,
    "start_time": "2024-12-19T17:55:19.881Z"
   },
   {
    "duration": 0,
    "start_time": "2024-12-19T17:55:19.883Z"
   },
   {
    "duration": 0,
    "start_time": "2024-12-19T17:55:19.883Z"
   },
   {
    "duration": 0,
    "start_time": "2024-12-19T17:55:19.885Z"
   },
   {
    "duration": 0,
    "start_time": "2024-12-19T17:55:19.886Z"
   },
   {
    "duration": 0,
    "start_time": "2024-12-19T17:55:19.887Z"
   },
   {
    "duration": 0,
    "start_time": "2024-12-19T17:55:19.888Z"
   },
   {
    "duration": 0,
    "start_time": "2024-12-19T17:55:19.889Z"
   },
   {
    "duration": 0,
    "start_time": "2024-12-19T17:55:19.890Z"
   },
   {
    "duration": 3676,
    "start_time": "2024-12-19T17:56:21.453Z"
   },
   {
    "duration": 2512,
    "start_time": "2024-12-19T17:56:41.200Z"
   },
   {
    "duration": 1173,
    "start_time": "2024-12-19T17:56:43.717Z"
   },
   {
    "duration": 98,
    "start_time": "2024-12-19T17:56:44.891Z"
   },
   {
    "duration": 8,
    "start_time": "2024-12-19T17:56:44.991Z"
   },
   {
    "duration": 22,
    "start_time": "2024-12-19T17:56:45.002Z"
   },
   {
    "duration": 46,
    "start_time": "2024-12-19T17:56:45.025Z"
   },
   {
    "duration": 53,
    "start_time": "2024-12-19T17:56:45.072Z"
   },
   {
    "duration": 22,
    "start_time": "2024-12-19T17:56:45.127Z"
   },
   {
    "duration": 42,
    "start_time": "2024-12-19T17:56:45.150Z"
   },
   {
    "duration": 30,
    "start_time": "2024-12-19T17:56:45.194Z"
   },
   {
    "duration": 15,
    "start_time": "2024-12-19T17:56:45.227Z"
   },
   {
    "duration": 22,
    "start_time": "2024-12-19T17:56:45.244Z"
   },
   {
    "duration": 20,
    "start_time": "2024-12-19T17:56:45.267Z"
   },
   {
    "duration": 11,
    "start_time": "2024-12-19T17:56:45.290Z"
   },
   {
    "duration": 305,
    "start_time": "2024-12-19T17:56:45.303Z"
   },
   {
    "duration": 113,
    "start_time": "2024-12-19T17:56:45.609Z"
   },
   {
    "duration": 101,
    "start_time": "2024-12-19T17:56:45.724Z"
   },
   {
    "duration": 97,
    "start_time": "2024-12-19T17:56:45.827Z"
   },
   {
    "duration": 232,
    "start_time": "2024-12-19T17:56:45.925Z"
   },
   {
    "duration": 161,
    "start_time": "2024-12-19T17:56:46.159Z"
   },
   {
    "duration": 211,
    "start_time": "2024-12-19T17:56:46.321Z"
   },
   {
    "duration": 735,
    "start_time": "2024-12-19T17:56:46.534Z"
   },
   {
    "duration": 820,
    "start_time": "2024-12-19T17:56:47.270Z"
   },
   {
    "duration": 721,
    "start_time": "2024-12-19T17:56:48.091Z"
   },
   {
    "duration": 5,
    "start_time": "2024-12-19T17:56:48.814Z"
   },
   {
    "duration": 97,
    "start_time": "2024-12-19T17:56:48.820Z"
   },
   {
    "duration": 15,
    "start_time": "2024-12-19T17:56:48.919Z"
   },
   {
    "duration": 908,
    "start_time": "2024-12-19T17:56:48.935Z"
   },
   {
    "duration": 491,
    "start_time": "2024-12-19T17:56:49.844Z"
   },
   {
    "duration": 191,
    "start_time": "2024-12-19T17:56:50.337Z"
   },
   {
    "duration": 179,
    "start_time": "2024-12-19T17:56:50.530Z"
   },
   {
    "duration": 434,
    "start_time": "2024-12-19T17:56:50.710Z"
   },
   {
    "duration": 234,
    "start_time": "2024-12-19T17:56:51.145Z"
   },
   {
    "duration": 5842,
    "start_time": "2024-12-19T17:56:51.380Z"
   },
   {
    "duration": 198,
    "start_time": "2024-12-19T17:56:57.224Z"
   },
   {
    "duration": 190,
    "start_time": "2024-12-19T17:56:57.424Z"
   },
   {
    "duration": 188,
    "start_time": "2024-12-19T17:56:57.615Z"
   },
   {
    "duration": 1065,
    "start_time": "2024-12-19T17:56:57.805Z"
   },
   {
    "duration": 864,
    "start_time": "2024-12-19T17:58:45.455Z"
   },
   {
    "duration": 801,
    "start_time": "2024-12-19T17:58:57.624Z"
   },
   {
    "duration": 841,
    "start_time": "2024-12-19T17:59:58.388Z"
   },
   {
    "duration": 803,
    "start_time": "2024-12-19T18:00:20.193Z"
   },
   {
    "duration": 843,
    "start_time": "2024-12-19T18:00:40.116Z"
   },
   {
    "duration": 881,
    "start_time": "2024-12-19T18:03:45.831Z"
   },
   {
    "duration": 855,
    "start_time": "2024-12-19T18:03:57.830Z"
   },
   {
    "duration": 958,
    "start_time": "2024-12-19T18:04:20.360Z"
   },
   {
    "duration": 863,
    "start_time": "2024-12-19T18:16:29.876Z"
   },
   {
    "duration": 888,
    "start_time": "2024-12-19T18:18:19.537Z"
   },
   {
    "duration": 866,
    "start_time": "2024-12-19T18:19:10.965Z"
   },
   {
    "duration": 864,
    "start_time": "2024-12-19T18:19:40.163Z"
   },
   {
    "duration": 2429,
    "start_time": "2024-12-19T18:20:19.709Z"
   },
   {
    "duration": 1314,
    "start_time": "2024-12-19T18:20:22.141Z"
   },
   {
    "duration": 208,
    "start_time": "2024-12-19T18:20:23.456Z"
   },
   {
    "duration": 9,
    "start_time": "2024-12-19T18:20:23.665Z"
   },
   {
    "duration": 60,
    "start_time": "2024-12-19T18:20:23.675Z"
   },
   {
    "duration": 15,
    "start_time": "2024-12-19T18:20:23.738Z"
   },
   {
    "duration": 20,
    "start_time": "2024-12-19T18:20:23.756Z"
   },
   {
    "duration": 4,
    "start_time": "2024-12-19T18:20:23.777Z"
   },
   {
    "duration": 6,
    "start_time": "2024-12-19T18:20:23.783Z"
   },
   {
    "duration": 6,
    "start_time": "2024-12-19T18:20:23.790Z"
   },
   {
    "duration": 5,
    "start_time": "2024-12-19T18:20:23.797Z"
   },
   {
    "duration": 12,
    "start_time": "2024-12-19T18:20:23.803Z"
   },
   {
    "duration": 4,
    "start_time": "2024-12-19T18:20:23.817Z"
   },
   {
    "duration": 5,
    "start_time": "2024-12-19T18:20:23.824Z"
   },
   {
    "duration": 316,
    "start_time": "2024-12-19T18:20:23.830Z"
   },
   {
    "duration": 115,
    "start_time": "2024-12-19T18:20:24.147Z"
   },
   {
    "duration": 97,
    "start_time": "2024-12-19T18:20:24.264Z"
   },
   {
    "duration": 94,
    "start_time": "2024-12-19T18:20:24.362Z"
   },
   {
    "duration": 237,
    "start_time": "2024-12-19T18:20:24.457Z"
   },
   {
    "duration": 160,
    "start_time": "2024-12-19T18:20:24.695Z"
   },
   {
    "duration": 207,
    "start_time": "2024-12-19T18:20:24.856Z"
   },
   {
    "duration": 738,
    "start_time": "2024-12-19T18:20:25.065Z"
   },
   {
    "duration": 809,
    "start_time": "2024-12-19T18:20:25.805Z"
   },
   {
    "duration": 707,
    "start_time": "2024-12-19T18:20:26.616Z"
   },
   {
    "duration": 4,
    "start_time": "2024-12-19T18:20:27.325Z"
   },
   {
    "duration": 98,
    "start_time": "2024-12-19T18:20:27.331Z"
   },
   {
    "duration": 884,
    "start_time": "2024-12-19T18:20:27.430Z"
   },
   {
    "duration": 480,
    "start_time": "2024-12-19T18:20:28.315Z"
   },
   {
    "duration": 184,
    "start_time": "2024-12-19T18:20:28.796Z"
   },
   {
    "duration": 172,
    "start_time": "2024-12-19T18:20:28.982Z"
   },
   {
    "duration": 414,
    "start_time": "2024-12-19T18:20:29.155Z"
   },
   {
    "duration": 224,
    "start_time": "2024-12-19T18:20:29.570Z"
   },
   {
    "duration": 5783,
    "start_time": "2024-12-19T18:20:29.795Z"
   },
   {
    "duration": 200,
    "start_time": "2024-12-19T18:20:35.579Z"
   },
   {
    "duration": 189,
    "start_time": "2024-12-19T18:20:35.781Z"
   },
   {
    "duration": 187,
    "start_time": "2024-12-19T18:20:35.971Z"
   },
   {
    "duration": 1095,
    "start_time": "2024-12-19T18:20:36.159Z"
   },
   {
    "duration": 2514,
    "start_time": "2024-12-19T18:20:49.756Z"
   },
   {
    "duration": 1303,
    "start_time": "2024-12-19T18:20:52.273Z"
   },
   {
    "duration": 96,
    "start_time": "2024-12-19T18:20:53.577Z"
   },
   {
    "duration": 10,
    "start_time": "2024-12-19T18:20:53.674Z"
   },
   {
    "duration": 8,
    "start_time": "2024-12-19T18:20:53.686Z"
   },
   {
    "duration": 16,
    "start_time": "2024-12-19T18:20:53.696Z"
   },
   {
    "duration": 30,
    "start_time": "2024-12-19T18:20:53.715Z"
   },
   {
    "duration": 31,
    "start_time": "2024-12-19T18:20:53.746Z"
   },
   {
    "duration": 3,
    "start_time": "2024-12-19T18:20:53.779Z"
   },
   {
    "duration": 11,
    "start_time": "2024-12-19T18:20:53.784Z"
   },
   {
    "duration": 17,
    "start_time": "2024-12-19T18:20:53.797Z"
   },
   {
    "duration": 21,
    "start_time": "2024-12-19T18:20:53.815Z"
   },
   {
    "duration": 8,
    "start_time": "2024-12-19T18:20:53.837Z"
   },
   {
    "duration": 19,
    "start_time": "2024-12-19T18:20:53.848Z"
   },
   {
    "duration": 289,
    "start_time": "2024-12-19T18:20:53.869Z"
   },
   {
    "duration": 119,
    "start_time": "2024-12-19T18:20:54.160Z"
   },
   {
    "duration": 101,
    "start_time": "2024-12-19T18:20:54.281Z"
   },
   {
    "duration": 94,
    "start_time": "2024-12-19T18:20:54.384Z"
   },
   {
    "duration": 243,
    "start_time": "2024-12-19T18:20:54.480Z"
   },
   {
    "duration": 162,
    "start_time": "2024-12-19T18:20:54.724Z"
   },
   {
    "duration": 205,
    "start_time": "2024-12-19T18:20:54.888Z"
   },
   {
    "duration": 742,
    "start_time": "2024-12-19T18:20:55.094Z"
   },
   {
    "duration": 828,
    "start_time": "2024-12-19T18:20:55.838Z"
   },
   {
    "duration": 711,
    "start_time": "2024-12-19T18:20:56.676Z"
   },
   {
    "duration": 5,
    "start_time": "2024-12-19T18:20:57.389Z"
   },
   {
    "duration": 104,
    "start_time": "2024-12-19T18:20:57.395Z"
   },
   {
    "duration": 856,
    "start_time": "2024-12-19T18:20:57.501Z"
   },
   {
    "duration": 486,
    "start_time": "2024-12-19T18:20:58.359Z"
   },
   {
    "duration": 180,
    "start_time": "2024-12-19T18:20:58.847Z"
   },
   {
    "duration": 175,
    "start_time": "2024-12-19T18:20:59.028Z"
   },
   {
    "duration": 425,
    "start_time": "2024-12-19T18:20:59.205Z"
   },
   {
    "duration": 239,
    "start_time": "2024-12-19T18:20:59.632Z"
   },
   {
    "duration": 5775,
    "start_time": "2024-12-19T18:20:59.876Z"
   },
   {
    "duration": 195,
    "start_time": "2024-12-19T18:21:05.652Z"
   },
   {
    "duration": 190,
    "start_time": "2024-12-19T18:21:05.849Z"
   },
   {
    "duration": 189,
    "start_time": "2024-12-19T18:21:06.040Z"
   },
   {
    "duration": 1063,
    "start_time": "2024-12-19T18:21:06.231Z"
   },
   {
    "duration": 49,
    "start_time": "2024-12-20T12:04:11.714Z"
   },
   {
    "duration": 3791,
    "start_time": "2024-12-20T12:04:45.288Z"
   },
   {
    "duration": 1412,
    "start_time": "2024-12-20T12:04:49.081Z"
   },
   {
    "duration": 92,
    "start_time": "2024-12-20T12:04:50.495Z"
   },
   {
    "duration": 9,
    "start_time": "2024-12-20T12:04:50.588Z"
   },
   {
    "duration": 6,
    "start_time": "2024-12-20T12:04:50.599Z"
   },
   {
    "duration": 10,
    "start_time": "2024-12-20T12:04:50.607Z"
   },
   {
    "duration": 18,
    "start_time": "2024-12-20T12:04:50.618Z"
   },
   {
    "duration": 4,
    "start_time": "2024-12-20T12:04:50.637Z"
   },
   {
    "duration": 5,
    "start_time": "2024-12-20T12:04:50.643Z"
   },
   {
    "duration": 37,
    "start_time": "2024-12-20T12:04:50.650Z"
   },
   {
    "duration": 6,
    "start_time": "2024-12-20T12:04:50.689Z"
   },
   {
    "duration": 25,
    "start_time": "2024-12-20T12:04:50.697Z"
   },
   {
    "duration": 7,
    "start_time": "2024-12-20T12:04:50.723Z"
   },
   {
    "duration": 9,
    "start_time": "2024-12-20T12:04:50.733Z"
   },
   {
    "duration": 287,
    "start_time": "2024-12-20T12:04:50.744Z"
   },
   {
    "duration": 121,
    "start_time": "2024-12-20T12:04:51.033Z"
   },
   {
    "duration": 100,
    "start_time": "2024-12-20T12:04:51.156Z"
   },
   {
    "duration": 91,
    "start_time": "2024-12-20T12:04:51.258Z"
   },
   {
    "duration": 225,
    "start_time": "2024-12-20T12:04:51.351Z"
   },
   {
    "duration": 160,
    "start_time": "2024-12-20T12:04:51.579Z"
   },
   {
    "duration": 194,
    "start_time": "2024-12-20T12:04:51.742Z"
   },
   {
    "duration": 641,
    "start_time": "2024-12-20T12:04:51.939Z"
   },
   {
    "duration": 708,
    "start_time": "2024-12-20T12:04:52.582Z"
   },
   {
    "duration": 652,
    "start_time": "2024-12-20T12:04:53.293Z"
   },
   {
    "duration": 6,
    "start_time": "2024-12-20T12:04:53.947Z"
   },
   {
    "duration": 100,
    "start_time": "2024-12-20T12:04:53.955Z"
   },
   {
    "duration": 915,
    "start_time": "2024-12-20T12:04:54.057Z"
   },
   {
    "duration": 22,
    "start_time": "2024-12-20T12:04:54.974Z"
   },
   {
    "duration": 438,
    "start_time": "2024-12-20T12:04:54.997Z"
   },
   {
    "duration": 198,
    "start_time": "2024-12-20T12:04:55.436Z"
   },
   {
    "duration": 170,
    "start_time": "2024-12-20T12:04:55.636Z"
   },
   {
    "duration": 390,
    "start_time": "2024-12-20T12:04:55.808Z"
   },
   {
    "duration": 216,
    "start_time": "2024-12-20T12:04:56.200Z"
   },
   {
    "duration": 4990,
    "start_time": "2024-12-20T12:04:56.418Z"
   },
   {
    "duration": 195,
    "start_time": "2024-12-20T12:05:01.410Z"
   },
   {
    "duration": 183,
    "start_time": "2024-12-20T12:05:01.607Z"
   },
   {
    "duration": 184,
    "start_time": "2024-12-20T12:05:01.792Z"
   },
   {
    "duration": 916,
    "start_time": "2024-12-20T12:05:01.978Z"
   },
   {
    "duration": 111,
    "start_time": "2024-12-20T12:06:44.925Z"
   },
   {
    "duration": 17,
    "start_time": "2024-12-20T12:06:54.475Z"
   },
   {
    "duration": 21,
    "start_time": "2024-12-20T12:07:51.774Z"
   },
   {
    "duration": 27,
    "start_time": "2024-12-20T12:09:00.062Z"
   },
   {
    "duration": 211,
    "start_time": "2024-12-20T12:09:19.692Z"
   },
   {
    "duration": 28,
    "start_time": "2024-12-20T12:09:33.690Z"
   },
   {
    "duration": 14,
    "start_time": "2024-12-20T12:58:00.639Z"
   },
   {
    "duration": 12,
    "start_time": "2024-12-20T12:58:24.348Z"
   },
   {
    "duration": 14,
    "start_time": "2024-12-20T12:59:31.044Z"
   },
   {
    "duration": 24,
    "start_time": "2024-12-20T12:59:45.741Z"
   },
   {
    "duration": 543,
    "start_time": "2024-12-20T13:01:26.670Z"
   },
   {
    "duration": 623,
    "start_time": "2024-12-20T13:01:40.828Z"
   },
   {
    "duration": 16,
    "start_time": "2024-12-20T13:01:47.685Z"
   },
   {
    "duration": 25,
    "start_time": "2024-12-20T13:02:05.883Z"
   },
   {
    "duration": 24,
    "start_time": "2024-12-20T13:02:34.688Z"
   },
   {
    "duration": 2684,
    "start_time": "2024-12-20T14:43:20.087Z"
   },
   {
    "duration": 1169,
    "start_time": "2024-12-20T14:43:22.774Z"
   },
   {
    "duration": 103,
    "start_time": "2024-12-20T14:43:23.945Z"
   },
   {
    "duration": 9,
    "start_time": "2024-12-20T14:43:24.050Z"
   },
   {
    "duration": 12,
    "start_time": "2024-12-20T14:43:24.061Z"
   },
   {
    "duration": 9,
    "start_time": "2024-12-20T14:43:24.075Z"
   },
   {
    "duration": 17,
    "start_time": "2024-12-20T14:43:24.085Z"
   },
   {
    "duration": 4,
    "start_time": "2024-12-20T14:43:24.103Z"
   },
   {
    "duration": 11,
    "start_time": "2024-12-20T14:43:24.108Z"
   },
   {
    "duration": 4,
    "start_time": "2024-12-20T14:43:24.121Z"
   },
   {
    "duration": 5,
    "start_time": "2024-12-20T14:43:24.126Z"
   },
   {
    "duration": 14,
    "start_time": "2024-12-20T14:43:24.132Z"
   },
   {
    "duration": 7,
    "start_time": "2024-12-20T14:43:24.147Z"
   },
   {
    "duration": 6,
    "start_time": "2024-12-20T14:43:24.157Z"
   },
   {
    "duration": 285,
    "start_time": "2024-12-20T14:43:24.165Z"
   },
   {
    "duration": 115,
    "start_time": "2024-12-20T14:43:24.452Z"
   },
   {
    "duration": 97,
    "start_time": "2024-12-20T14:43:24.568Z"
   },
   {
    "duration": 88,
    "start_time": "2024-12-20T14:43:24.666Z"
   },
   {
    "duration": 219,
    "start_time": "2024-12-20T14:43:24.755Z"
   },
   {
    "duration": 158,
    "start_time": "2024-12-20T14:43:24.975Z"
   },
   {
    "duration": 187,
    "start_time": "2024-12-20T14:43:25.134Z"
   },
   {
    "duration": 2713,
    "start_time": "2024-12-20T14:43:28.426Z"
   },
   {
    "duration": 1109,
    "start_time": "2024-12-20T14:43:31.141Z"
   },
   {
    "duration": 78,
    "start_time": "2024-12-20T14:43:32.252Z"
   },
   {
    "duration": 8,
    "start_time": "2024-12-20T14:43:32.332Z"
   },
   {
    "duration": 10,
    "start_time": "2024-12-20T14:43:32.342Z"
   },
   {
    "duration": 9,
    "start_time": "2024-12-20T14:43:32.354Z"
   },
   {
    "duration": 24,
    "start_time": "2024-12-20T14:43:32.364Z"
   },
   {
    "duration": 12,
    "start_time": "2024-12-20T14:43:32.390Z"
   },
   {
    "duration": 32,
    "start_time": "2024-12-20T14:43:32.403Z"
   },
   {
    "duration": 11,
    "start_time": "2024-12-20T14:43:32.436Z"
   },
   {
    "duration": 8,
    "start_time": "2024-12-20T14:43:32.448Z"
   },
   {
    "duration": 30,
    "start_time": "2024-12-20T14:43:32.457Z"
   },
   {
    "duration": 4,
    "start_time": "2024-12-20T14:43:32.489Z"
   },
   {
    "duration": 5,
    "start_time": "2024-12-20T14:43:32.496Z"
   },
   {
    "duration": 282,
    "start_time": "2024-12-20T14:43:32.502Z"
   },
   {
    "duration": 109,
    "start_time": "2024-12-20T14:43:32.786Z"
   },
   {
    "duration": 97,
    "start_time": "2024-12-20T14:43:32.897Z"
   },
   {
    "duration": 93,
    "start_time": "2024-12-20T14:43:32.995Z"
   },
   {
    "duration": 213,
    "start_time": "2024-12-20T14:43:33.090Z"
   },
   {
    "duration": 161,
    "start_time": "2024-12-20T14:43:33.304Z"
   },
   {
    "duration": 190,
    "start_time": "2024-12-20T14:43:33.467Z"
   },
   {
    "duration": 625,
    "start_time": "2024-12-20T14:43:33.659Z"
   },
   {
    "duration": 700,
    "start_time": "2024-12-20T14:43:34.286Z"
   },
   {
    "duration": 651,
    "start_time": "2024-12-20T14:43:34.988Z"
   },
   {
    "duration": 4,
    "start_time": "2024-12-20T14:43:35.641Z"
   },
   {
    "duration": 88,
    "start_time": "2024-12-20T14:43:35.647Z"
   },
   {
    "duration": 793,
    "start_time": "2024-12-20T14:43:35.737Z"
   },
   {
    "duration": 23,
    "start_time": "2024-12-20T14:43:36.532Z"
   },
   {
    "duration": 423,
    "start_time": "2024-12-20T14:43:36.557Z"
   },
   {
    "duration": 172,
    "start_time": "2024-12-20T14:43:36.986Z"
   },
   {
    "duration": 165,
    "start_time": "2024-12-20T14:43:37.160Z"
   },
   {
    "duration": 397,
    "start_time": "2024-12-20T14:43:37.326Z"
   },
   {
    "duration": 227,
    "start_time": "2024-12-20T14:43:37.725Z"
   },
   {
    "duration": 4922,
    "start_time": "2024-12-20T14:43:37.954Z"
   },
   {
    "duration": 180,
    "start_time": "2024-12-20T14:43:42.886Z"
   },
   {
    "duration": 181,
    "start_time": "2024-12-20T14:43:43.068Z"
   },
   {
    "duration": 183,
    "start_time": "2024-12-20T14:43:43.251Z"
   },
   {
    "duration": 854,
    "start_time": "2024-12-20T14:43:43.435Z"
   },
   {
    "duration": 166,
    "start_time": "2024-12-20T15:12:20.858Z"
   },
   {
    "duration": 13,
    "start_time": "2024-12-20T16:20:27.762Z"
   },
   {
    "duration": 10,
    "start_time": "2024-12-20T16:20:50.784Z"
   },
   {
    "duration": 9,
    "start_time": "2024-12-20T16:26:56.181Z"
   },
   {
    "duration": 13,
    "start_time": "2024-12-20T16:28:20.829Z"
   },
   {
    "duration": 10,
    "start_time": "2024-12-20T16:31:37.629Z"
   },
   {
    "duration": 9,
    "start_time": "2024-12-20T16:32:51.505Z"
   },
   {
    "duration": 2668,
    "start_time": "2024-12-20T16:33:44.738Z"
   },
   {
    "duration": 1151,
    "start_time": "2024-12-20T16:33:47.408Z"
   },
   {
    "duration": 183,
    "start_time": "2024-12-20T16:33:48.561Z"
   },
   {
    "duration": 9,
    "start_time": "2024-12-20T16:33:48.745Z"
   },
   {
    "duration": 9,
    "start_time": "2024-12-20T16:33:48.755Z"
   },
   {
    "duration": 10,
    "start_time": "2024-12-20T16:33:48.765Z"
   },
   {
    "duration": 20,
    "start_time": "2024-12-20T16:33:48.776Z"
   },
   {
    "duration": 4,
    "start_time": "2024-12-20T16:33:48.797Z"
   },
   {
    "duration": 5,
    "start_time": "2024-12-20T16:33:48.803Z"
   },
   {
    "duration": 4,
    "start_time": "2024-12-20T16:33:48.810Z"
   },
   {
    "duration": 13,
    "start_time": "2024-12-20T16:33:48.816Z"
   },
   {
    "duration": 30,
    "start_time": "2024-12-20T16:33:48.831Z"
   },
   {
    "duration": 6,
    "start_time": "2024-12-20T16:33:48.863Z"
   },
   {
    "duration": 7,
    "start_time": "2024-12-20T16:33:48.885Z"
   },
   {
    "duration": 277,
    "start_time": "2024-12-20T16:33:48.894Z"
   },
   {
    "duration": 115,
    "start_time": "2024-12-20T16:33:49.173Z"
   },
   {
    "duration": 96,
    "start_time": "2024-12-20T16:33:49.290Z"
   },
   {
    "duration": 108,
    "start_time": "2024-12-20T16:33:49.388Z"
   },
   {
    "duration": 225,
    "start_time": "2024-12-20T16:33:49.498Z"
   },
   {
    "duration": 157,
    "start_time": "2024-12-20T16:33:49.724Z"
   },
   {
    "duration": 203,
    "start_time": "2024-12-20T16:33:49.883Z"
   },
   {
    "duration": 633,
    "start_time": "2024-12-20T16:33:50.088Z"
   },
   {
    "duration": 705,
    "start_time": "2024-12-20T16:33:50.723Z"
   },
   {
    "duration": 640,
    "start_time": "2024-12-20T16:33:51.430Z"
   },
   {
    "duration": 16,
    "start_time": "2024-12-20T16:33:52.073Z"
   },
   {
    "duration": 97,
    "start_time": "2024-12-20T16:33:52.090Z"
   },
   {
    "duration": 831,
    "start_time": "2024-12-20T16:33:52.189Z"
   },
   {
    "duration": 25,
    "start_time": "2024-12-20T16:33:53.022Z"
   },
   {
    "duration": 434,
    "start_time": "2024-12-20T16:33:53.048Z"
   },
   {
    "duration": 168,
    "start_time": "2024-12-20T16:33:53.487Z"
   },
   {
    "duration": 168,
    "start_time": "2024-12-20T16:33:53.657Z"
   },
   {
    "duration": 405,
    "start_time": "2024-12-20T16:33:53.827Z"
   },
   {
    "duration": 216,
    "start_time": "2024-12-20T16:33:54.233Z"
   },
   {
    "duration": 4902,
    "start_time": "2024-12-20T16:33:54.450Z"
   },
   {
    "duration": 226,
    "start_time": "2024-12-20T16:33:59.354Z"
   },
   {
    "duration": 184,
    "start_time": "2024-12-20T16:33:59.582Z"
   },
   {
    "duration": 181,
    "start_time": "2024-12-20T16:33:59.768Z"
   },
   {
    "duration": 914,
    "start_time": "2024-12-20T16:33:59.951Z"
   },
   {
    "duration": 10,
    "start_time": "2024-12-20T16:34:00.866Z"
   },
   {
    "duration": 11,
    "start_time": "2024-12-20T16:34:00.886Z"
   },
   {
    "duration": 12,
    "start_time": "2024-12-20T16:34:25.245Z"
   },
   {
    "duration": 8,
    "start_time": "2024-12-20T16:34:41.070Z"
   },
   {
    "duration": 11,
    "start_time": "2024-12-20T16:35:10.820Z"
   },
   {
    "duration": 10,
    "start_time": "2024-12-20T16:37:15.163Z"
   },
   {
    "duration": 9,
    "start_time": "2024-12-20T16:40:08.212Z"
   },
   {
    "duration": 2727,
    "start_time": "2024-12-20T16:42:27.125Z"
   },
   {
    "duration": 1194,
    "start_time": "2024-12-20T16:42:29.854Z"
   },
   {
    "duration": 122,
    "start_time": "2024-12-20T16:42:31.050Z"
   },
   {
    "duration": 9,
    "start_time": "2024-12-20T16:42:31.173Z"
   },
   {
    "duration": 6,
    "start_time": "2024-12-20T16:42:31.184Z"
   },
   {
    "duration": 13,
    "start_time": "2024-12-20T16:42:31.191Z"
   },
   {
    "duration": 17,
    "start_time": "2024-12-20T16:42:31.205Z"
   },
   {
    "duration": 4,
    "start_time": "2024-12-20T16:42:31.224Z"
   },
   {
    "duration": 6,
    "start_time": "2024-12-20T16:42:31.229Z"
   },
   {
    "duration": 13,
    "start_time": "2024-12-20T16:42:31.236Z"
   },
   {
    "duration": 29,
    "start_time": "2024-12-20T16:42:31.250Z"
   },
   {
    "duration": 24,
    "start_time": "2024-12-20T16:42:31.281Z"
   },
   {
    "duration": 13,
    "start_time": "2024-12-20T16:42:31.307Z"
   },
   {
    "duration": 11,
    "start_time": "2024-12-20T16:42:31.323Z"
   },
   {
    "duration": 279,
    "start_time": "2024-12-20T16:42:31.335Z"
   },
   {
    "duration": 112,
    "start_time": "2024-12-20T16:42:31.615Z"
   },
   {
    "duration": 107,
    "start_time": "2024-12-20T16:42:31.729Z"
   },
   {
    "duration": 98,
    "start_time": "2024-12-20T16:42:31.838Z"
   },
   {
    "duration": 230,
    "start_time": "2024-12-20T16:42:31.938Z"
   },
   {
    "duration": 157,
    "start_time": "2024-12-20T16:42:32.170Z"
   },
   {
    "duration": 203,
    "start_time": "2024-12-20T16:42:32.328Z"
   },
   {
    "duration": 635,
    "start_time": "2024-12-20T16:42:32.533Z"
   },
   {
    "duration": 708,
    "start_time": "2024-12-20T16:42:33.169Z"
   },
   {
    "duration": 637,
    "start_time": "2024-12-20T16:42:33.878Z"
   },
   {
    "duration": 5,
    "start_time": "2024-12-20T16:42:34.516Z"
   },
   {
    "duration": 104,
    "start_time": "2024-12-20T16:42:34.523Z"
   },
   {
    "duration": 814,
    "start_time": "2024-12-20T16:42:34.629Z"
   },
   {
    "duration": 26,
    "start_time": "2024-12-20T16:42:35.445Z"
   },
   {
    "duration": 472,
    "start_time": "2024-12-20T16:42:35.472Z"
   },
   {
    "duration": 173,
    "start_time": "2024-12-20T16:42:35.946Z"
   },
   {
    "duration": 169,
    "start_time": "2024-12-20T16:42:36.121Z"
   },
   {
    "duration": 401,
    "start_time": "2024-12-20T16:42:36.291Z"
   },
   {
    "duration": 220,
    "start_time": "2024-12-20T16:42:36.693Z"
   },
   {
    "duration": 5246,
    "start_time": "2024-12-20T16:42:36.915Z"
   },
   {
    "duration": 200,
    "start_time": "2024-12-20T16:42:42.163Z"
   },
   {
    "duration": 188,
    "start_time": "2024-12-20T16:42:42.365Z"
   },
   {
    "duration": 197,
    "start_time": "2024-12-20T16:42:42.555Z"
   },
   {
    "duration": 946,
    "start_time": "2024-12-20T16:42:42.754Z"
   },
   {
    "duration": 12,
    "start_time": "2024-12-20T16:42:43.702Z"
   },
   {
    "duration": 10,
    "start_time": "2024-12-20T16:42:43.715Z"
   },
   {
    "duration": 10,
    "start_time": "2024-12-20T16:42:43.729Z"
   },
   {
    "duration": 10,
    "start_time": "2024-12-20T16:42:43.741Z"
   },
   {
    "duration": 10,
    "start_time": "2024-12-20T16:45:13.988Z"
   },
   {
    "duration": 59,
    "start_time": "2024-12-20T17:14:53.207Z"
   },
   {
    "duration": 11,
    "start_time": "2024-12-20T17:25:37.767Z"
   },
   {
    "duration": 12,
    "start_time": "2024-12-20T17:30:33.030Z"
   },
   {
    "duration": 11,
    "start_time": "2024-12-20T17:51:07.448Z"
   },
   {
    "duration": 12,
    "start_time": "2024-12-20T17:57:24.648Z"
   },
   {
    "duration": 109,
    "start_time": "2024-12-20T18:01:37.471Z"
   },
   {
    "duration": 14,
    "start_time": "2024-12-20T18:01:45.831Z"
   },
   {
    "duration": 14,
    "start_time": "2024-12-20T18:03:17.048Z"
   },
   {
    "duration": 2714,
    "start_time": "2024-12-20T18:07:05.876Z"
   },
   {
    "duration": 1184,
    "start_time": "2024-12-20T18:07:08.592Z"
   },
   {
    "duration": 80,
    "start_time": "2024-12-20T18:07:09.778Z"
   },
   {
    "duration": 8,
    "start_time": "2024-12-20T18:07:09.860Z"
   },
   {
    "duration": 16,
    "start_time": "2024-12-20T18:07:09.869Z"
   },
   {
    "duration": 9,
    "start_time": "2024-12-20T18:07:09.886Z"
   },
   {
    "duration": 17,
    "start_time": "2024-12-20T18:07:09.897Z"
   },
   {
    "duration": 4,
    "start_time": "2024-12-20T18:07:09.915Z"
   },
   {
    "duration": 5,
    "start_time": "2024-12-20T18:07:09.920Z"
   },
   {
    "duration": 18,
    "start_time": "2024-12-20T18:07:09.927Z"
   },
   {
    "duration": 4,
    "start_time": "2024-12-20T18:07:09.947Z"
   },
   {
    "duration": 8,
    "start_time": "2024-12-20T18:07:09.952Z"
   },
   {
    "duration": 4,
    "start_time": "2024-12-20T18:07:09.961Z"
   },
   {
    "duration": 5,
    "start_time": "2024-12-20T18:07:09.986Z"
   },
   {
    "duration": 282,
    "start_time": "2024-12-20T18:07:09.992Z"
   },
   {
    "duration": 115,
    "start_time": "2024-12-20T18:07:10.275Z"
   },
   {
    "duration": 86,
    "start_time": "2024-12-20T18:07:10.391Z"
   },
   {
    "duration": 79,
    "start_time": "2024-12-20T18:07:10.487Z"
   },
   {
    "duration": 223,
    "start_time": "2024-12-20T18:07:10.567Z"
   },
   {
    "duration": 152,
    "start_time": "2024-12-20T18:07:10.791Z"
   },
   {
    "duration": 189,
    "start_time": "2024-12-20T18:07:10.945Z"
   },
   {
    "duration": 627,
    "start_time": "2024-12-20T18:07:11.135Z"
   },
   {
    "duration": 702,
    "start_time": "2024-12-20T18:07:11.764Z"
   },
   {
    "duration": 624,
    "start_time": "2024-12-20T18:07:12.467Z"
   },
   {
    "duration": 5,
    "start_time": "2024-12-20T18:07:13.092Z"
   },
   {
    "duration": 91,
    "start_time": "2024-12-20T18:07:13.098Z"
   },
   {
    "duration": 825,
    "start_time": "2024-12-20T18:07:13.191Z"
   },
   {
    "duration": 24,
    "start_time": "2024-12-20T18:07:14.020Z"
   },
   {
    "duration": 424,
    "start_time": "2024-12-20T18:07:14.045Z"
   },
   {
    "duration": 171,
    "start_time": "2024-12-20T18:07:14.471Z"
   },
   {
    "duration": 168,
    "start_time": "2024-12-20T18:07:14.644Z"
   },
   {
    "duration": 392,
    "start_time": "2024-12-20T18:07:14.814Z"
   },
   {
    "duration": 215,
    "start_time": "2024-12-20T18:07:15.208Z"
   },
   {
    "duration": 4878,
    "start_time": "2024-12-20T18:07:15.425Z"
   },
   {
    "duration": 185,
    "start_time": "2024-12-20T18:07:20.305Z"
   },
   {
    "duration": 177,
    "start_time": "2024-12-20T18:07:20.491Z"
   },
   {
    "duration": 181,
    "start_time": "2024-12-20T18:07:20.670Z"
   },
   {
    "duration": 860,
    "start_time": "2024-12-20T18:07:20.852Z"
   },
   {
    "duration": 9,
    "start_time": "2024-12-20T18:07:21.713Z"
   },
   {
    "duration": 16,
    "start_time": "2024-12-20T18:07:21.724Z"
   },
   {
    "duration": 39,
    "start_time": "2024-12-20T18:07:21.741Z"
   },
   {
    "duration": 14,
    "start_time": "2024-12-20T18:07:21.782Z"
   },
   {
    "duration": 11,
    "start_time": "2024-12-20T18:07:21.797Z"
   },
   {
    "duration": 13,
    "start_time": "2024-12-20T18:07:21.809Z"
   },
   {
    "duration": 3736,
    "start_time": "2024-12-21T08:03:32.198Z"
   },
   {
    "duration": 1493,
    "start_time": "2024-12-21T08:03:35.937Z"
   },
   {
    "duration": 196,
    "start_time": "2024-12-21T08:03:37.432Z"
   },
   {
    "duration": 11,
    "start_time": "2024-12-21T08:03:37.630Z"
   },
   {
    "duration": 9,
    "start_time": "2024-12-21T08:03:37.643Z"
   },
   {
    "duration": 13,
    "start_time": "2024-12-21T08:03:37.654Z"
   },
   {
    "duration": 21,
    "start_time": "2024-12-21T08:03:37.668Z"
   },
   {
    "duration": 35,
    "start_time": "2024-12-21T08:03:37.691Z"
   },
   {
    "duration": 5,
    "start_time": "2024-12-21T08:03:37.728Z"
   },
   {
    "duration": 7,
    "start_time": "2024-12-21T08:03:37.735Z"
   },
   {
    "duration": 16,
    "start_time": "2024-12-21T08:03:37.744Z"
   },
   {
    "duration": 22,
    "start_time": "2024-12-21T08:03:37.762Z"
   },
   {
    "duration": 5,
    "start_time": "2024-12-21T08:03:37.786Z"
   },
   {
    "duration": 5,
    "start_time": "2024-12-21T08:03:37.794Z"
   },
   {
    "duration": 330,
    "start_time": "2024-12-21T08:03:37.801Z"
   },
   {
    "duration": 116,
    "start_time": "2024-12-21T08:03:38.133Z"
   },
   {
    "duration": 104,
    "start_time": "2024-12-21T08:03:38.251Z"
   },
   {
    "duration": 94,
    "start_time": "2024-12-21T08:03:38.357Z"
   },
   {
    "duration": 238,
    "start_time": "2024-12-21T08:03:38.453Z"
   },
   {
    "duration": 175,
    "start_time": "2024-12-21T08:03:38.693Z"
   },
   {
    "duration": 234,
    "start_time": "2024-12-21T08:03:38.869Z"
   },
   {
    "duration": 771,
    "start_time": "2024-12-21T08:03:39.105Z"
   },
   {
    "duration": 871,
    "start_time": "2024-12-21T08:03:39.878Z"
   },
   {
    "duration": 788,
    "start_time": "2024-12-21T08:03:40.750Z"
   },
   {
    "duration": 5,
    "start_time": "2024-12-21T08:03:41.540Z"
   },
   {
    "duration": 101,
    "start_time": "2024-12-21T08:03:41.547Z"
   },
   {
    "duration": 1021,
    "start_time": "2024-12-21T08:03:41.650Z"
   },
   {
    "duration": 27,
    "start_time": "2024-12-21T08:03:42.673Z"
   },
   {
    "duration": 544,
    "start_time": "2024-12-21T08:03:42.702Z"
   },
   {
    "duration": 197,
    "start_time": "2024-12-21T08:03:43.247Z"
   },
   {
    "duration": 192,
    "start_time": "2024-12-21T08:03:43.445Z"
   },
   {
    "duration": 455,
    "start_time": "2024-12-21T08:03:43.638Z"
   },
   {
    "duration": 246,
    "start_time": "2024-12-21T08:03:44.095Z"
   },
   {
    "duration": 6135,
    "start_time": "2024-12-21T08:03:44.343Z"
   },
   {
    "duration": 214,
    "start_time": "2024-12-21T08:03:50.480Z"
   },
   {
    "duration": 209,
    "start_time": "2024-12-21T08:03:50.696Z"
   },
   {
    "duration": 197,
    "start_time": "2024-12-21T08:03:50.906Z"
   },
   {
    "duration": 1185,
    "start_time": "2024-12-21T08:03:51.105Z"
   },
   {
    "duration": 31,
    "start_time": "2024-12-21T08:03:52.291Z"
   },
   {
    "duration": 30,
    "start_time": "2024-12-21T08:03:52.323Z"
   },
   {
    "duration": 15,
    "start_time": "2024-12-21T08:03:52.357Z"
   },
   {
    "duration": 17,
    "start_time": "2024-12-21T08:03:52.374Z"
   },
   {
    "duration": 34,
    "start_time": "2024-12-21T08:03:52.393Z"
   },
   {
    "duration": 32,
    "start_time": "2024-12-21T08:03:52.428Z"
   },
   {
    "duration": 2713,
    "start_time": "2024-12-21T21:33:16.413Z"
   },
   {
    "duration": 1328,
    "start_time": "2024-12-21T21:33:19.128Z"
   },
   {
    "duration": 90,
    "start_time": "2024-12-21T21:33:20.457Z"
   },
   {
    "duration": 8,
    "start_time": "2024-12-21T21:33:20.548Z"
   },
   {
    "duration": 23,
    "start_time": "2024-12-21T21:33:20.558Z"
   },
   {
    "duration": 28,
    "start_time": "2024-12-21T21:33:20.583Z"
   },
   {
    "duration": 31,
    "start_time": "2024-12-21T21:33:20.612Z"
   },
   {
    "duration": 8,
    "start_time": "2024-12-21T21:33:20.644Z"
   },
   {
    "duration": 8,
    "start_time": "2024-12-21T21:33:20.654Z"
   },
   {
    "duration": 19,
    "start_time": "2024-12-21T21:33:20.664Z"
   },
   {
    "duration": 20,
    "start_time": "2024-12-21T21:33:20.684Z"
   },
   {
    "duration": 20,
    "start_time": "2024-12-21T21:33:20.705Z"
   },
   {
    "duration": 21,
    "start_time": "2024-12-21T21:33:20.726Z"
   },
   {
    "duration": 10,
    "start_time": "2024-12-21T21:33:20.750Z"
   },
   {
    "duration": 376,
    "start_time": "2024-12-21T21:33:20.761Z"
   },
   {
    "duration": 225,
    "start_time": "2024-12-21T21:33:21.145Z"
   },
   {
    "duration": 100,
    "start_time": "2024-12-21T21:33:21.372Z"
   },
   {
    "duration": 187,
    "start_time": "2024-12-21T21:33:21.474Z"
   },
   {
    "duration": 376,
    "start_time": "2024-12-21T21:33:21.662Z"
   },
   {
    "duration": 253,
    "start_time": "2024-12-21T21:33:22.045Z"
   },
   {
    "duration": 200,
    "start_time": "2024-12-21T21:33:22.299Z"
   },
   {
    "duration": 744,
    "start_time": "2024-12-21T21:33:22.500Z"
   },
   {
    "duration": 593,
    "start_time": "2024-12-21T21:33:23.246Z"
   },
   {
    "duration": 711,
    "start_time": "2024-12-21T21:33:23.841Z"
   },
   {
    "duration": 5,
    "start_time": "2024-12-21T21:33:24.554Z"
   },
   {
    "duration": 97,
    "start_time": "2024-12-21T21:33:24.560Z"
   },
   {
    "duration": 808,
    "start_time": "2024-12-21T21:33:24.659Z"
   },
   {
    "duration": 22,
    "start_time": "2024-12-21T21:33:25.468Z"
   },
   {
    "duration": 409,
    "start_time": "2024-12-21T21:33:25.492Z"
   },
   {
    "duration": 295,
    "start_time": "2024-12-21T21:33:25.903Z"
   },
   {
    "duration": 297,
    "start_time": "2024-12-21T21:33:26.199Z"
   },
   {
    "duration": 463,
    "start_time": "2024-12-21T21:33:26.498Z"
   },
   {
    "duration": 308,
    "start_time": "2024-12-21T21:33:26.963Z"
   },
   {
    "duration": 3869,
    "start_time": "2024-12-21T21:33:27.273Z"
   },
   {
    "duration": 279,
    "start_time": "2024-12-21T21:33:31.146Z"
   },
   {
    "duration": 298,
    "start_time": "2024-12-21T21:33:31.426Z"
   },
   {
    "duration": 306,
    "start_time": "2024-12-21T21:33:31.726Z"
   },
   {
    "duration": 850,
    "start_time": "2024-12-21T21:33:32.034Z"
   },
   {
    "duration": 10,
    "start_time": "2024-12-21T21:33:32.886Z"
   },
   {
    "duration": 46,
    "start_time": "2024-12-21T21:33:32.897Z"
   },
   {
    "duration": 7,
    "start_time": "2024-12-21T21:33:32.946Z"
   },
   {
    "duration": 8,
    "start_time": "2024-12-21T21:33:32.954Z"
   },
   {
    "duration": 11,
    "start_time": "2024-12-21T21:33:32.963Z"
   },
   {
    "duration": 13,
    "start_time": "2024-12-21T21:33:32.976Z"
   },
   {
    "duration": 2732,
    "start_time": "2024-12-21T23:39:20.857Z"
   },
   {
    "duration": 1266,
    "start_time": "2024-12-21T23:39:23.591Z"
   },
   {
    "duration": 152,
    "start_time": "2024-12-21T23:39:24.859Z"
   },
   {
    "duration": 10,
    "start_time": "2024-12-21T23:39:25.013Z"
   },
   {
    "duration": 5,
    "start_time": "2024-12-21T23:39:25.025Z"
   },
   {
    "duration": 10,
    "start_time": "2024-12-21T23:39:25.032Z"
   },
   {
    "duration": 17,
    "start_time": "2024-12-21T23:39:25.043Z"
   },
   {
    "duration": 4,
    "start_time": "2024-12-21T23:39:25.061Z"
   },
   {
    "duration": 7,
    "start_time": "2024-12-21T23:39:25.066Z"
   },
   {
    "duration": 7,
    "start_time": "2024-12-21T23:39:25.075Z"
   },
   {
    "duration": 13,
    "start_time": "2024-12-21T23:39:25.083Z"
   },
   {
    "duration": 9,
    "start_time": "2024-12-21T23:39:25.097Z"
   },
   {
    "duration": 4,
    "start_time": "2024-12-21T23:39:25.108Z"
   },
   {
    "duration": 12,
    "start_time": "2024-12-21T23:39:25.114Z"
   },
   {
    "duration": 361,
    "start_time": "2024-12-21T23:39:25.127Z"
   },
   {
    "duration": 195,
    "start_time": "2024-12-21T23:39:25.490Z"
   },
   {
    "duration": 89,
    "start_time": "2024-12-21T23:39:25.686Z"
   },
   {
    "duration": 126,
    "start_time": "2024-12-21T23:39:25.846Z"
   },
   {
    "duration": 382,
    "start_time": "2024-12-21T23:39:25.973Z"
   },
   {
    "duration": 251,
    "start_time": "2024-12-21T23:39:26.356Z"
   },
   {
    "duration": 247,
    "start_time": "2024-12-21T23:39:26.608Z"
   },
   {
    "duration": 704,
    "start_time": "2024-12-21T23:39:26.856Z"
   },
   {
    "duration": 640,
    "start_time": "2024-12-21T23:39:27.562Z"
   },
   {
    "duration": 747,
    "start_time": "2024-12-21T23:39:28.204Z"
   },
   {
    "duration": 6,
    "start_time": "2024-12-21T23:39:28.953Z"
   },
   {
    "duration": 100,
    "start_time": "2024-12-21T23:39:28.960Z"
   },
   {
    "duration": 804,
    "start_time": "2024-12-21T23:39:29.062Z"
   },
   {
    "duration": 23,
    "start_time": "2024-12-21T23:39:29.870Z"
   },
   {
    "duration": 410,
    "start_time": "2024-12-21T23:39:29.895Z"
   },
   {
    "duration": 290,
    "start_time": "2024-12-21T23:39:30.307Z"
   },
   {
    "duration": 296,
    "start_time": "2024-12-21T23:39:30.599Z"
   },
   {
    "duration": 453,
    "start_time": "2024-12-21T23:39:30.897Z"
   },
   {
    "duration": 295,
    "start_time": "2024-12-21T23:39:31.352Z"
   },
   {
    "duration": 3875,
    "start_time": "2024-12-21T23:39:31.649Z"
   },
   {
    "duration": 295,
    "start_time": "2024-12-21T23:39:35.526Z"
   },
   {
    "duration": 297,
    "start_time": "2024-12-21T23:39:35.822Z"
   },
   {
    "duration": 310,
    "start_time": "2024-12-21T23:39:36.121Z"
   },
   {
    "duration": 848,
    "start_time": "2024-12-21T23:39:36.432Z"
   },
   {
    "duration": 10,
    "start_time": "2024-12-21T23:39:37.281Z"
   },
   {
    "duration": 9,
    "start_time": "2024-12-21T23:39:37.292Z"
   },
   {
    "duration": 7,
    "start_time": "2024-12-21T23:39:37.303Z"
   },
   {
    "duration": 7,
    "start_time": "2024-12-21T23:39:37.311Z"
   },
   {
    "duration": 33,
    "start_time": "2024-12-21T23:39:37.320Z"
   },
   {
    "duration": 12,
    "start_time": "2024-12-21T23:39:37.355Z"
   },
   {
    "duration": 52,
    "start_time": "2024-12-23T17:40:52.361Z"
   },
   {
    "duration": 3701,
    "start_time": "2024-12-23T17:40:59.748Z"
   },
   {
    "duration": 1426,
    "start_time": "2024-12-23T17:41:03.451Z"
   },
   {
    "duration": 132,
    "start_time": "2024-12-23T17:41:04.879Z"
   },
   {
    "duration": 9,
    "start_time": "2024-12-23T17:41:05.013Z"
   },
   {
    "duration": 40,
    "start_time": "2024-12-23T17:41:05.025Z"
   },
   {
    "duration": 17,
    "start_time": "2024-12-23T17:41:05.067Z"
   },
   {
    "duration": 33,
    "start_time": "2024-12-23T17:41:05.086Z"
   },
   {
    "duration": 125,
    "start_time": "2024-12-23T17:41:05.121Z"
   },
   {
    "duration": 90,
    "start_time": "2024-12-23T17:41:05.248Z"
   },
   {
    "duration": 9,
    "start_time": "2024-12-23T17:41:05.339Z"
   },
   {
    "duration": 5,
    "start_time": "2024-12-23T17:41:05.349Z"
   },
   {
    "duration": 15,
    "start_time": "2024-12-23T17:41:05.355Z"
   },
   {
    "duration": 5,
    "start_time": "2024-12-23T17:41:05.372Z"
   },
   {
    "duration": 38,
    "start_time": "2024-12-23T17:41:05.379Z"
   },
   {
    "duration": 348,
    "start_time": "2024-12-23T17:41:05.418Z"
   },
   {
    "duration": 198,
    "start_time": "2024-12-23T17:41:05.767Z"
   },
   {
    "duration": 178,
    "start_time": "2024-12-23T17:41:05.967Z"
   },
   {
    "duration": 100,
    "start_time": "2024-12-23T17:41:06.146Z"
   },
   {
    "duration": 234,
    "start_time": "2024-12-23T17:41:06.247Z"
   },
   {
    "duration": 175,
    "start_time": "2024-12-23T17:41:06.483Z"
   },
   {
    "duration": 224,
    "start_time": "2024-12-23T17:41:06.659Z"
   },
   {
    "duration": 754,
    "start_time": "2024-12-23T17:41:06.884Z"
   },
   {
    "duration": 841,
    "start_time": "2024-12-23T17:41:07.639Z"
   },
   {
    "duration": 778,
    "start_time": "2024-12-23T17:41:08.482Z"
   },
   {
    "duration": 6,
    "start_time": "2024-12-23T17:41:09.262Z"
   },
   {
    "duration": 102,
    "start_time": "2024-12-23T17:41:09.269Z"
   },
   {
    "duration": 972,
    "start_time": "2024-12-23T17:41:09.372Z"
   },
   {
    "duration": 26,
    "start_time": "2024-12-23T17:41:10.346Z"
   },
   {
    "duration": 507,
    "start_time": "2024-12-23T17:41:10.374Z"
   },
   {
    "duration": 189,
    "start_time": "2024-12-23T17:41:10.883Z"
   },
   {
    "duration": 186,
    "start_time": "2024-12-23T17:41:11.073Z"
   },
   {
    "duration": 493,
    "start_time": "2024-12-23T17:41:11.261Z"
   },
   {
    "duration": 268,
    "start_time": "2024-12-23T17:41:11.756Z"
   },
   {
    "duration": 6038,
    "start_time": "2024-12-23T17:41:12.026Z"
   },
   {
    "duration": 210,
    "start_time": "2024-12-23T17:41:18.066Z"
   },
   {
    "duration": 195,
    "start_time": "2024-12-23T17:41:18.277Z"
   },
   {
    "duration": 202,
    "start_time": "2024-12-23T17:41:18.474Z"
   },
   {
    "duration": 1096,
    "start_time": "2024-12-23T17:41:18.677Z"
   },
   {
    "duration": 12,
    "start_time": "2024-12-23T17:41:19.774Z"
   },
   {
    "duration": 13,
    "start_time": "2024-12-23T17:41:19.787Z"
   },
   {
    "duration": 33,
    "start_time": "2024-12-23T17:41:19.806Z"
   },
   {
    "duration": 13,
    "start_time": "2024-12-23T17:41:19.841Z"
   },
   {
    "duration": 12,
    "start_time": "2024-12-23T17:41:19.856Z"
   },
   {
    "duration": 137,
    "start_time": "2024-12-23T17:41:19.870Z"
   },
   {
    "duration": 15,
    "start_time": "2024-12-23T17:41:39.772Z"
   },
   {
    "duration": 2509,
    "start_time": "2024-12-23T17:42:10.554Z"
   },
   {
    "duration": 1190,
    "start_time": "2024-12-23T17:42:13.066Z"
   },
   {
    "duration": 94,
    "start_time": "2024-12-23T17:42:14.258Z"
   },
   {
    "duration": 11,
    "start_time": "2024-12-23T17:42:14.355Z"
   },
   {
    "duration": 8,
    "start_time": "2024-12-23T17:42:14.367Z"
   },
   {
    "duration": 29,
    "start_time": "2024-12-23T17:42:14.376Z"
   },
   {
    "duration": 34,
    "start_time": "2024-12-23T17:42:14.406Z"
   },
   {
    "duration": 4,
    "start_time": "2024-12-23T17:42:14.441Z"
   },
   {
    "duration": 4,
    "start_time": "2024-12-23T17:42:14.447Z"
   },
   {
    "duration": 8,
    "start_time": "2024-12-23T17:42:14.454Z"
   },
   {
    "duration": 11,
    "start_time": "2024-12-23T17:42:14.463Z"
   },
   {
    "duration": 9,
    "start_time": "2024-12-23T17:42:14.476Z"
   },
   {
    "duration": 6,
    "start_time": "2024-12-23T17:42:14.487Z"
   },
   {
    "duration": 7,
    "start_time": "2024-12-23T17:42:14.495Z"
   },
   {
    "duration": 305,
    "start_time": "2024-12-23T17:42:14.531Z"
   },
   {
    "duration": 126,
    "start_time": "2024-12-23T17:42:14.837Z"
   },
   {
    "duration": 103,
    "start_time": "2024-12-23T17:42:14.965Z"
   },
   {
    "duration": 97,
    "start_time": "2024-12-23T17:42:15.070Z"
   },
   {
    "duration": 239,
    "start_time": "2024-12-23T17:42:15.169Z"
   },
   {
    "duration": 165,
    "start_time": "2024-12-23T17:42:15.409Z"
   },
   {
    "duration": 220,
    "start_time": "2024-12-23T17:42:15.575Z"
   },
   {
    "duration": 794,
    "start_time": "2024-12-23T17:42:15.797Z"
   },
   {
    "duration": 851,
    "start_time": "2024-12-23T17:42:16.593Z"
   },
   {
    "duration": 747,
    "start_time": "2024-12-23T17:42:17.446Z"
   },
   {
    "duration": 5,
    "start_time": "2024-12-23T17:42:18.195Z"
   },
   {
    "duration": 129,
    "start_time": "2024-12-23T17:42:18.202Z"
   },
   {
    "duration": 883,
    "start_time": "2024-12-23T17:42:18.333Z"
   },
   {
    "duration": 33,
    "start_time": "2024-12-23T17:42:19.219Z"
   },
   {
    "duration": 503,
    "start_time": "2024-12-23T17:42:19.254Z"
   },
   {
    "duration": 197,
    "start_time": "2024-12-23T17:42:19.759Z"
   },
   {
    "duration": 184,
    "start_time": "2024-12-23T17:42:19.958Z"
   },
   {
    "duration": 438,
    "start_time": "2024-12-23T17:42:20.144Z"
   },
   {
    "duration": 226,
    "start_time": "2024-12-23T17:42:20.583Z"
   },
   {
    "duration": 5983,
    "start_time": "2024-12-23T17:42:20.810Z"
   },
   {
    "duration": 206,
    "start_time": "2024-12-23T17:42:26.795Z"
   },
   {
    "duration": 197,
    "start_time": "2024-12-23T17:42:27.003Z"
   },
   {
    "duration": 196,
    "start_time": "2024-12-23T17:42:27.202Z"
   },
   {
    "duration": 1130,
    "start_time": "2024-12-23T17:42:27.400Z"
   },
   {
    "duration": 11,
    "start_time": "2024-12-23T17:42:28.532Z"
   },
   {
    "duration": 99,
    "start_time": "2024-12-23T17:42:28.545Z"
   },
   {
    "duration": 8,
    "start_time": "2024-12-23T17:42:28.646Z"
   },
   {
    "duration": 8,
    "start_time": "2024-12-23T17:42:28.656Z"
   },
   {
    "duration": 11,
    "start_time": "2024-12-23T17:42:28.666Z"
   },
   {
    "duration": 14,
    "start_time": "2024-12-23T17:42:28.678Z"
   },
   {
    "duration": 15,
    "start_time": "2024-12-23T18:40:54.003Z"
   },
   {
    "duration": 14,
    "start_time": "2024-12-23T18:41:32.226Z"
   },
   {
    "duration": 14,
    "start_time": "2024-12-23T18:41:50.340Z"
   },
   {
    "duration": 14,
    "start_time": "2024-12-23T18:43:57.954Z"
   },
   {
    "duration": 15,
    "start_time": "2024-12-23T18:45:03.187Z"
   },
   {
    "duration": 76,
    "start_time": "2024-12-23T19:04:44.739Z"
   },
   {
    "duration": 83,
    "start_time": "2024-12-23T19:42:46.851Z"
   },
   {
    "duration": 3556,
    "start_time": "2024-12-24T11:54:32.751Z"
   },
   {
    "duration": 1563,
    "start_time": "2024-12-24T11:54:36.309Z"
   },
   {
    "duration": 126,
    "start_time": "2024-12-24T11:54:37.874Z"
   },
   {
    "duration": 9,
    "start_time": "2024-12-24T11:54:38.002Z"
   },
   {
    "duration": 6,
    "start_time": "2024-12-24T11:54:38.012Z"
   },
   {
    "duration": 10,
    "start_time": "2024-12-24T11:54:38.019Z"
   },
   {
    "duration": 34,
    "start_time": "2024-12-24T11:54:38.030Z"
   },
   {
    "duration": 5,
    "start_time": "2024-12-24T11:54:38.066Z"
   },
   {
    "duration": 7,
    "start_time": "2024-12-24T11:54:38.073Z"
   },
   {
    "duration": 8,
    "start_time": "2024-12-24T11:54:38.083Z"
   },
   {
    "duration": 37,
    "start_time": "2024-12-24T11:54:38.093Z"
   },
   {
    "duration": 44,
    "start_time": "2024-12-24T11:54:38.131Z"
   },
   {
    "duration": 7,
    "start_time": "2024-12-24T11:54:38.177Z"
   },
   {
    "duration": 47,
    "start_time": "2024-12-24T11:54:38.185Z"
   },
   {
    "duration": 308,
    "start_time": "2024-12-24T11:54:38.234Z"
   },
   {
    "duration": 133,
    "start_time": "2024-12-24T11:54:38.544Z"
   },
   {
    "duration": 100,
    "start_time": "2024-12-24T11:54:38.679Z"
   },
   {
    "duration": 95,
    "start_time": "2024-12-24T11:54:38.780Z"
   },
   {
    "duration": 218,
    "start_time": "2024-12-24T11:54:38.876Z"
   },
   {
    "duration": 176,
    "start_time": "2024-12-24T11:54:39.096Z"
   },
   {
    "duration": 212,
    "start_time": "2024-12-24T11:54:39.273Z"
   },
   {
    "duration": 751,
    "start_time": "2024-12-24T11:54:39.486Z"
   },
   {
    "duration": 763,
    "start_time": "2024-12-24T11:54:40.238Z"
   },
   {
    "duration": 680,
    "start_time": "2024-12-24T11:54:41.002Z"
   },
   {
    "duration": 4,
    "start_time": "2024-12-24T11:54:41.684Z"
   },
   {
    "duration": 90,
    "start_time": "2024-12-24T11:54:41.690Z"
   },
   {
    "duration": 869,
    "start_time": "2024-12-24T11:54:41.782Z"
   },
   {
    "duration": 30,
    "start_time": "2024-12-24T11:54:42.653Z"
   },
   {
    "duration": 464,
    "start_time": "2024-12-24T11:54:42.684Z"
   },
   {
    "duration": 168,
    "start_time": "2024-12-24T11:54:43.150Z"
   },
   {
    "duration": 170,
    "start_time": "2024-12-24T11:54:43.319Z"
   },
   {
    "duration": 402,
    "start_time": "2024-12-24T11:54:43.490Z"
   },
   {
    "duration": 219,
    "start_time": "2024-12-24T11:54:43.893Z"
   },
   {
    "duration": 5580,
    "start_time": "2024-12-24T11:54:44.113Z"
   },
   {
    "duration": 194,
    "start_time": "2024-12-24T11:54:49.695Z"
   },
   {
    "duration": 181,
    "start_time": "2024-12-24T11:54:49.891Z"
   },
   {
    "duration": 182,
    "start_time": "2024-12-24T11:54:50.074Z"
   },
   {
    "duration": 978,
    "start_time": "2024-12-24T11:54:50.258Z"
   },
   {
    "duration": 19,
    "start_time": "2024-12-24T11:54:51.237Z"
   },
   {
    "duration": 42,
    "start_time": "2024-12-24T11:54:51.258Z"
   },
   {
    "duration": 14,
    "start_time": "2024-12-24T11:54:51.301Z"
   },
   {
    "duration": 18,
    "start_time": "2024-12-24T11:54:51.317Z"
   },
   {
    "duration": 42,
    "start_time": "2024-12-24T11:54:51.336Z"
   },
   {
    "duration": 78,
    "start_time": "2024-12-24T11:54:51.379Z"
   },
   {
    "duration": 2350,
    "start_time": "2024-12-24T13:30:04.859Z"
   },
   {
    "duration": 1257,
    "start_time": "2024-12-24T13:30:07.211Z"
   },
   {
    "duration": 238,
    "start_time": "2024-12-24T13:30:08.470Z"
   },
   {
    "duration": 9,
    "start_time": "2024-12-24T13:30:08.709Z"
   },
   {
    "duration": 41,
    "start_time": "2024-12-24T13:30:08.720Z"
   },
   {
    "duration": 18,
    "start_time": "2024-12-24T13:30:08.763Z"
   },
   {
    "duration": 18,
    "start_time": "2024-12-24T13:30:08.783Z"
   },
   {
    "duration": 4,
    "start_time": "2024-12-24T13:30:08.803Z"
   },
   {
    "duration": 5,
    "start_time": "2024-12-24T13:30:08.809Z"
   },
   {
    "duration": 23,
    "start_time": "2024-12-24T13:30:08.816Z"
   },
   {
    "duration": 43,
    "start_time": "2024-12-24T13:30:08.841Z"
   },
   {
    "duration": 21,
    "start_time": "2024-12-24T13:30:08.885Z"
   },
   {
    "duration": 9,
    "start_time": "2024-12-24T13:30:08.908Z"
   },
   {
    "duration": 27,
    "start_time": "2024-12-24T13:30:08.920Z"
   },
   {
    "duration": 300,
    "start_time": "2024-12-24T13:30:08.948Z"
   },
   {
    "duration": 116,
    "start_time": "2024-12-24T13:30:09.253Z"
   },
   {
    "duration": 94,
    "start_time": "2024-12-24T13:30:09.371Z"
   },
   {
    "duration": 94,
    "start_time": "2024-12-24T13:30:09.466Z"
   },
   {
    "duration": 225,
    "start_time": "2024-12-24T13:30:09.562Z"
   },
   {
    "duration": 155,
    "start_time": "2024-12-24T13:30:09.789Z"
   },
   {
    "duration": 211,
    "start_time": "2024-12-24T13:30:09.945Z"
   },
   {
    "duration": 723,
    "start_time": "2024-12-24T13:30:10.158Z"
   },
   {
    "duration": 777,
    "start_time": "2024-12-24T13:30:10.883Z"
   },
   {
    "duration": 672,
    "start_time": "2024-12-24T13:30:11.662Z"
   },
   {
    "duration": 6,
    "start_time": "2024-12-24T13:30:12.336Z"
   },
   {
    "duration": 106,
    "start_time": "2024-12-24T13:30:12.355Z"
   },
   {
    "duration": 835,
    "start_time": "2024-12-24T13:30:12.463Z"
   },
   {
    "duration": 25,
    "start_time": "2024-12-24T13:30:13.300Z"
   },
   {
    "duration": 488,
    "start_time": "2024-12-24T13:30:13.327Z"
   },
   {
    "duration": 181,
    "start_time": "2024-12-24T13:30:13.816Z"
   },
   {
    "duration": 170,
    "start_time": "2024-12-24T13:30:13.999Z"
   },
   {
    "duration": 445,
    "start_time": "2024-12-24T13:30:14.171Z"
   },
   {
    "duration": 225,
    "start_time": "2024-12-24T13:30:14.618Z"
   },
   {
    "duration": 5434,
    "start_time": "2024-12-24T13:30:14.845Z"
   },
   {
    "duration": 191,
    "start_time": "2024-12-24T13:30:20.281Z"
   },
   {
    "duration": 180,
    "start_time": "2024-12-24T13:30:20.474Z"
   },
   {
    "duration": 174,
    "start_time": "2024-12-24T13:30:20.655Z"
   },
   {
    "duration": 962,
    "start_time": "2024-12-24T13:30:20.830Z"
   },
   {
    "duration": 11,
    "start_time": "2024-12-24T13:30:21.793Z"
   },
   {
    "duration": 25,
    "start_time": "2024-12-24T13:30:21.805Z"
   },
   {
    "duration": 9,
    "start_time": "2024-12-24T13:30:21.833Z"
   },
   {
    "duration": 17,
    "start_time": "2024-12-24T13:30:21.843Z"
   },
   {
    "duration": 11,
    "start_time": "2024-12-24T13:30:21.861Z"
   },
   {
    "duration": 14,
    "start_time": "2024-12-24T13:30:21.873Z"
   }
  ],
  "kernelspec": {
   "display_name": "Python 3 (ipykernel)",
   "language": "python",
   "name": "python3"
  },
  "language_info": {
   "codemirror_mode": {
    "name": "ipython",
    "version": 3
   },
   "file_extension": ".py",
   "mimetype": "text/x-python",
   "name": "python",
   "nbconvert_exporter": "python",
   "pygments_lexer": "ipython3",
   "version": "3.9.5"
  },
  "toc": {
   "base_numbering": 1,
   "nav_menu": {},
   "number_sections": true,
   "sideBar": true,
   "skip_h1_title": false,
   "title_cell": "Table of Contents",
   "title_sidebar": "Contents",
   "toc_cell": false,
   "toc_position": {},
   "toc_section_display": true,
   "toc_window_display": false
  }
 },
 "nbformat": 4,
 "nbformat_minor": 2
}
