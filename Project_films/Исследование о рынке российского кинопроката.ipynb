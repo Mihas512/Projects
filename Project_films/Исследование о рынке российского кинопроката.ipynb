{
 "cells": [
  {
   "cell_type": "markdown",
   "metadata": {
    "id": "sIfNaMOxgFyK"
   },
   "source": [
    "## Исследование данных о российском кинопрокате\n",
    "\n"
   ]
  },
  {
   "cell_type": "markdown",
   "metadata": {},
   "source": [
    "<div class=\"alert alert-info\">\n",
    "<b>Министерством культуры Российской Федерации предоставлены данные о рынке российского кинопроката для выявления текущих трендов. Уделим внимание фильмам, которые получили государственную поддержку и ответим на вопрос, насколько такие фильмы интересны зрителю. \n",
    "Набор данных содержит информацию о прокатных удостоверениях, сборах и государственной поддержке фильмов, а также информацию с сайта КиноПоиск. "
   ]
  },
  {
   "cell_type": "code",
   "execution_count": 1,
   "metadata": {
    "id": "dw87FlzMgFyM"
   },
   "outputs": [],
   "source": [
    "import pandas as pd\n",
    "import numpy as np\n",
    "import matplotlib.pyplot as plt\n",
    "import seaborn"
   ]
  },
  {
   "cell_type": "code",
   "execution_count": 2,
   "metadata": {},
   "outputs": [
    {
     "data": {
      "text/html": [
       "<div>\n",
       "<style scoped>\n",
       "    .dataframe tbody tr th:only-of-type {\n",
       "        vertical-align: middle;\n",
       "    }\n",
       "\n",
       "    .dataframe tbody tr th {\n",
       "        vertical-align: top;\n",
       "    }\n",
       "\n",
       "    .dataframe thead th {\n",
       "        text-align: right;\n",
       "    }\n",
       "</style>\n",
       "<table border=\"1\" class=\"dataframe\">\n",
       "  <thead>\n",
       "    <tr style=\"text-align: right;\">\n",
       "      <th></th>\n",
       "      <th>title</th>\n",
       "      <th>puNumber</th>\n",
       "      <th>show_start_date</th>\n",
       "      <th>type</th>\n",
       "      <th>film_studio</th>\n",
       "      <th>production_country</th>\n",
       "      <th>director</th>\n",
       "      <th>producer</th>\n",
       "      <th>age_restriction</th>\n",
       "      <th>refundable_support</th>\n",
       "      <th>nonrefundable_support</th>\n",
       "      <th>budget</th>\n",
       "      <th>financing_source</th>\n",
       "      <th>ratings</th>\n",
       "      <th>genres</th>\n",
       "    </tr>\n",
       "  </thead>\n",
       "  <tbody>\n",
       "    <tr>\n",
       "      <th>0</th>\n",
       "      <td>Открытый простор</td>\n",
       "      <td>221048915</td>\n",
       "      <td>2015-11-27T12:00:00.000Z</td>\n",
       "      <td>Художественный</td>\n",
       "      <td>Тачстоун Пикчерз, Кобальт Пикчерз, Бикон Пикче...</td>\n",
       "      <td>США</td>\n",
       "      <td>Кевин Костнер</td>\n",
       "      <td>Дэвид Валдес, Кевин Костнер, Джейк Эбертс</td>\n",
       "      <td>«18+» - запрещено для детей</td>\n",
       "      <td>NaN</td>\n",
       "      <td>NaN</td>\n",
       "      <td>NaN</td>\n",
       "      <td>NaN</td>\n",
       "      <td>7.2</td>\n",
       "      <td>боевик,драма,мелодрама</td>\n",
       "    </tr>\n",
       "    <tr>\n",
       "      <th>1</th>\n",
       "      <td>Особо важное задание</td>\n",
       "      <td>111013716</td>\n",
       "      <td>2016-09-13T12:00:00.000Z</td>\n",
       "      <td>Художественный</td>\n",
       "      <td>Киностудия \"Мосфильм\"</td>\n",
       "      <td>СССР</td>\n",
       "      <td>Е.Матвеев</td>\n",
       "      <td>NaN</td>\n",
       "      <td>«6+» - для детей старше 6 лет</td>\n",
       "      <td>NaN</td>\n",
       "      <td>NaN</td>\n",
       "      <td>NaN</td>\n",
       "      <td>NaN</td>\n",
       "      <td>6.6</td>\n",
       "      <td>драма,военный</td>\n",
       "    </tr>\n",
       "    <tr>\n",
       "      <th>2</th>\n",
       "      <td>Особо опасен</td>\n",
       "      <td>221038416</td>\n",
       "      <td>2016-10-10T12:00:00.000Z</td>\n",
       "      <td>Художественный</td>\n",
       "      <td>Юниверсал Пикчерз, Кикстарт Продакшнз, Марк Пл...</td>\n",
       "      <td>США</td>\n",
       "      <td>Тимур Бекмамбетов</td>\n",
       "      <td>Джим Лемли, Джейсон Нетер, Марк Е.Платт, Яйн Смит</td>\n",
       "      <td>«18+» - запрещено для детей</td>\n",
       "      <td>NaN</td>\n",
       "      <td>NaN</td>\n",
       "      <td>NaN</td>\n",
       "      <td>NaN</td>\n",
       "      <td>6.8</td>\n",
       "      <td>фантастика,боевик,триллер</td>\n",
       "    </tr>\n",
       "    <tr>\n",
       "      <th>3</th>\n",
       "      <td>Особо опасен</td>\n",
       "      <td>221026916</td>\n",
       "      <td>2016-06-10T12:00:00.000Z</td>\n",
       "      <td>Художественный</td>\n",
       "      <td>Юниверсал Пикчерз, Кикстарт Продакшнз, Марк Пл...</td>\n",
       "      <td>США</td>\n",
       "      <td>Тимур Бекмамбетов</td>\n",
       "      <td>Джим Лемли, Джейсон Нетер, Марк Е.Платт, Яйн Смит</td>\n",
       "      <td>«18+» - запрещено для детей</td>\n",
       "      <td>NaN</td>\n",
       "      <td>NaN</td>\n",
       "      <td>NaN</td>\n",
       "      <td>NaN</td>\n",
       "      <td>6.8</td>\n",
       "      <td>фантастика,боевик,триллер</td>\n",
       "    </tr>\n",
       "    <tr>\n",
       "      <th>4</th>\n",
       "      <td>Особо опасен</td>\n",
       "      <td>221030815</td>\n",
       "      <td>2015-07-29T12:00:00.000Z</td>\n",
       "      <td>Художественный</td>\n",
       "      <td>Юниверсал Пикчерз, Кикстарт Продакшнз, Марк Пл...</td>\n",
       "      <td>США</td>\n",
       "      <td>Тимур Бекмамбетов</td>\n",
       "      <td>Джим Лемли, Джейсон Нетер, Марк Е.Платт, Яйн Смит</td>\n",
       "      <td>«18+» - запрещено для детей</td>\n",
       "      <td>NaN</td>\n",
       "      <td>NaN</td>\n",
       "      <td>NaN</td>\n",
       "      <td>NaN</td>\n",
       "      <td>6.8</td>\n",
       "      <td>фантастика,боевик,триллер</td>\n",
       "    </tr>\n",
       "    <tr>\n",
       "      <th>...</th>\n",
       "      <td>...</td>\n",
       "      <td>...</td>\n",
       "      <td>...</td>\n",
       "      <td>...</td>\n",
       "      <td>...</td>\n",
       "      <td>...</td>\n",
       "      <td>...</td>\n",
       "      <td>...</td>\n",
       "      <td>...</td>\n",
       "      <td>...</td>\n",
       "      <td>...</td>\n",
       "      <td>...</td>\n",
       "      <td>...</td>\n",
       "      <td>...</td>\n",
       "      <td>...</td>\n",
       "    </tr>\n",
       "    <tr>\n",
       "      <th>7481</th>\n",
       "      <td>Сад художника: Американский импрессионизм</td>\n",
       "      <td>126008019</td>\n",
       "      <td>2019-12-23T12:00:00.000Z</td>\n",
       "      <td>Прочие</td>\n",
       "      <td>Севен Артс Продакшнз</td>\n",
       "      <td>Великобритания</td>\n",
       "      <td>Фил Грабски</td>\n",
       "      <td>Фил Грабски</td>\n",
       "      <td>«12+» - для детей старше 12 лет</td>\n",
       "      <td>NaN</td>\n",
       "      <td>NaN</td>\n",
       "      <td>NaN</td>\n",
       "      <td>NaN</td>\n",
       "      <td>NaN</td>\n",
       "      <td>NaN</td>\n",
       "    </tr>\n",
       "    <tr>\n",
       "      <th>7482</th>\n",
       "      <td>Звериная ярость</td>\n",
       "      <td>121037819</td>\n",
       "      <td>2019-12-24T12:00:00.000Z</td>\n",
       "      <td>Художественный</td>\n",
       "      <td>Дэниел Гродник Продакшнз, Вандерфилм Медиа Кор...</td>\n",
       "      <td>США</td>\n",
       "      <td>Ник Пауэлл</td>\n",
       "      <td>Джефф Боулер, Дэниэл Гродник, Луильо Руис, Брэ...</td>\n",
       "      <td>«16+» - для детей старше 16 лет</td>\n",
       "      <td>NaN</td>\n",
       "      <td>NaN</td>\n",
       "      <td>NaN</td>\n",
       "      <td>NaN</td>\n",
       "      <td>5.4</td>\n",
       "      <td>боевик,триллер</td>\n",
       "    </tr>\n",
       "    <tr>\n",
       "      <th>7483</th>\n",
       "      <td>Щенячий патруль: Скорей спешим на помощь!</td>\n",
       "      <td>124010819</td>\n",
       "      <td>2019-12-28T12:00:00.000Z</td>\n",
       "      <td>Художественный</td>\n",
       "      <td>Никелодеон Анимейшн Студиос, Спин Мастер</td>\n",
       "      <td>США - Канада</td>\n",
       "      <td>Чарльз Е.Бастьен</td>\n",
       "      <td>Дженнифер Додж</td>\n",
       "      <td>«0+» - для любой зрительской аудитории</td>\n",
       "      <td>NaN</td>\n",
       "      <td>NaN</td>\n",
       "      <td>NaN</td>\n",
       "      <td>NaN</td>\n",
       "      <td>NaN</td>\n",
       "      <td>NaN</td>\n",
       "    </tr>\n",
       "    <tr>\n",
       "      <th>7484</th>\n",
       "      <td>Машины песенки. Серия \"Испанские мотивы\"</td>\n",
       "      <td>124010619</td>\n",
       "      <td>2019-12-30T12:00:00.000Z</td>\n",
       "      <td>Анимационный</td>\n",
       "      <td>Анимаккорд Лтд., ООО Студия \"АНИМАККОРД\"</td>\n",
       "      <td>Республика Кипр, Россия</td>\n",
       "      <td>А.Беляев</td>\n",
       "      <td>Д.Ловейко</td>\n",
       "      <td>«0+» - для любой зрительской аудитории</td>\n",
       "      <td>NaN</td>\n",
       "      <td>NaN</td>\n",
       "      <td>NaN</td>\n",
       "      <td>NaN</td>\n",
       "      <td>NaN</td>\n",
       "      <td>NaN</td>\n",
       "    </tr>\n",
       "    <tr>\n",
       "      <th>7485</th>\n",
       "      <td>Машины песенки. Серия \"Когда цветут кактусы\"</td>\n",
       "      <td>124010719</td>\n",
       "      <td>2019-12-30T12:00:00.000Z</td>\n",
       "      <td>Анимационный</td>\n",
       "      <td>Анимаккорд Лтд., ООО Студия \"АНИМАККОРД\"</td>\n",
       "      <td>Республика Кипр, Россия</td>\n",
       "      <td>И.Трусов</td>\n",
       "      <td>Д.Ловейко</td>\n",
       "      <td>«0+» - для любой зрительской аудитории</td>\n",
       "      <td>NaN</td>\n",
       "      <td>NaN</td>\n",
       "      <td>NaN</td>\n",
       "      <td>NaN</td>\n",
       "      <td>6.3</td>\n",
       "      <td>комедия,вестерн</td>\n",
       "    </tr>\n",
       "  </tbody>\n",
       "</table>\n",
       "<p>7486 rows × 15 columns</p>\n",
       "</div>"
      ],
      "text/plain": [
       "                                             title   puNumber  \\\n",
       "0                                 Открытый простор  221048915   \n",
       "1                             Особо важное задание  111013716   \n",
       "2                                     Особо опасен  221038416   \n",
       "3                                     Особо опасен  221026916   \n",
       "4                                     Особо опасен  221030815   \n",
       "...                                            ...        ...   \n",
       "7481     Сад художника: Американский импрессионизм  126008019   \n",
       "7482                               Звериная ярость  121037819   \n",
       "7483     Щенячий патруль: Скорей спешим на помощь!  124010819   \n",
       "7484      Машины песенки. Серия \"Испанские мотивы\"  124010619   \n",
       "7485  Машины песенки. Серия \"Когда цветут кактусы\"  124010719   \n",
       "\n",
       "               show_start_date             type  \\\n",
       "0     2015-11-27T12:00:00.000Z   Художественный   \n",
       "1     2016-09-13T12:00:00.000Z   Художественный   \n",
       "2     2016-10-10T12:00:00.000Z   Художественный   \n",
       "3     2016-06-10T12:00:00.000Z   Художественный   \n",
       "4     2015-07-29T12:00:00.000Z   Художественный   \n",
       "...                        ...              ...   \n",
       "7481  2019-12-23T12:00:00.000Z           Прочие   \n",
       "7482  2019-12-24T12:00:00.000Z   Художественный   \n",
       "7483  2019-12-28T12:00:00.000Z   Художественный   \n",
       "7484  2019-12-30T12:00:00.000Z     Анимационный   \n",
       "7485  2019-12-30T12:00:00.000Z     Анимационный   \n",
       "\n",
       "                                            film_studio  \\\n",
       "0     Тачстоун Пикчерз, Кобальт Пикчерз, Бикон Пикче...   \n",
       "1                                 Киностудия \"Мосфильм\"   \n",
       "2     Юниверсал Пикчерз, Кикстарт Продакшнз, Марк Пл...   \n",
       "3     Юниверсал Пикчерз, Кикстарт Продакшнз, Марк Пл...   \n",
       "4     Юниверсал Пикчерз, Кикстарт Продакшнз, Марк Пл...   \n",
       "...                                                 ...   \n",
       "7481                               Севен Артс Продакшнз   \n",
       "7482  Дэниел Гродник Продакшнз, Вандерфилм Медиа Кор...   \n",
       "7483           Никелодеон Анимейшн Студиос, Спин Мастер   \n",
       "7484           Анимаккорд Лтд., ООО Студия \"АНИМАККОРД\"   \n",
       "7485           Анимаккорд Лтд., ООО Студия \"АНИМАККОРД\"   \n",
       "\n",
       "           production_country           director  \\\n",
       "0                         США      Кевин Костнер   \n",
       "1                        СССР          Е.Матвеев   \n",
       "2                         США  Тимур Бекмамбетов   \n",
       "3                         США  Тимур Бекмамбетов   \n",
       "4                         США  Тимур Бекмамбетов   \n",
       "...                       ...                ...   \n",
       "7481           Великобритания        Фил Грабски   \n",
       "7482                      США         Ник Пауэлл   \n",
       "7483             США - Канада   Чарльз Е.Бастьен   \n",
       "7484  Республика Кипр, Россия           А.Беляев   \n",
       "7485  Республика Кипр, Россия           И.Трусов   \n",
       "\n",
       "                                               producer  \\\n",
       "0             Дэвид Валдес, Кевин Костнер, Джейк Эбертс   \n",
       "1                                                   NaN   \n",
       "2     Джим Лемли, Джейсон Нетер, Марк Е.Платт, Яйн Смит   \n",
       "3     Джим Лемли, Джейсон Нетер, Марк Е.Платт, Яйн Смит   \n",
       "4     Джим Лемли, Джейсон Нетер, Марк Е.Платт, Яйн Смит   \n",
       "...                                                 ...   \n",
       "7481                                        Фил Грабски   \n",
       "7482  Джефф Боулер, Дэниэл Гродник, Луильо Руис, Брэ...   \n",
       "7483                                     Дженнифер Додж   \n",
       "7484                                          Д.Ловейко   \n",
       "7485                                          Д.Ловейко   \n",
       "\n",
       "                             age_restriction  refundable_support  \\\n",
       "0                «18+» - запрещено для детей                 NaN   \n",
       "1              «6+» - для детей старше 6 лет                 NaN   \n",
       "2                «18+» - запрещено для детей                 NaN   \n",
       "3                «18+» - запрещено для детей                 NaN   \n",
       "4                «18+» - запрещено для детей                 NaN   \n",
       "...                                      ...                 ...   \n",
       "7481         «12+» - для детей старше 12 лет                 NaN   \n",
       "7482         «16+» - для детей старше 16 лет                 NaN   \n",
       "7483  «0+» - для любой зрительской аудитории                 NaN   \n",
       "7484  «0+» - для любой зрительской аудитории                 NaN   \n",
       "7485  «0+» - для любой зрительской аудитории                 NaN   \n",
       "\n",
       "      nonrefundable_support  budget financing_source ratings  \\\n",
       "0                       NaN     NaN              NaN     7.2   \n",
       "1                       NaN     NaN              NaN     6.6   \n",
       "2                       NaN     NaN              NaN     6.8   \n",
       "3                       NaN     NaN              NaN     6.8   \n",
       "4                       NaN     NaN              NaN     6.8   \n",
       "...                     ...     ...              ...     ...   \n",
       "7481                    NaN     NaN              NaN     NaN   \n",
       "7482                    NaN     NaN              NaN     5.4   \n",
       "7483                    NaN     NaN              NaN     NaN   \n",
       "7484                    NaN     NaN              NaN     NaN   \n",
       "7485                    NaN     NaN              NaN     6.3   \n",
       "\n",
       "                         genres  \n",
       "0        боевик,драма,мелодрама  \n",
       "1                 драма,военный  \n",
       "2     фантастика,боевик,триллер  \n",
       "3     фантастика,боевик,триллер  \n",
       "4     фантастика,боевик,триллер  \n",
       "...                         ...  \n",
       "7481                        NaN  \n",
       "7482             боевик,триллер  \n",
       "7483                        NaN  \n",
       "7484                        NaN  \n",
       "7485            комедия,вестерн  \n",
       "\n",
       "[7486 rows x 15 columns]"
      ]
     },
     "metadata": {},
     "output_type": "display_data"
    },
    {
     "data": {
      "text/html": [
       "<div>\n",
       "<style scoped>\n",
       "    .dataframe tbody tr th:only-of-type {\n",
       "        vertical-align: middle;\n",
       "    }\n",
       "\n",
       "    .dataframe tbody tr th {\n",
       "        vertical-align: top;\n",
       "    }\n",
       "\n",
       "    .dataframe thead th {\n",
       "        text-align: right;\n",
       "    }\n",
       "</style>\n",
       "<table border=\"1\" class=\"dataframe\">\n",
       "  <thead>\n",
       "    <tr style=\"text-align: right;\">\n",
       "      <th></th>\n",
       "      <th>puNumber</th>\n",
       "      <th>box_office</th>\n",
       "    </tr>\n",
       "  </thead>\n",
       "  <tbody>\n",
       "    <tr>\n",
       "      <th>0</th>\n",
       "      <td>111000113</td>\n",
       "      <td>2.450000e+03</td>\n",
       "    </tr>\n",
       "    <tr>\n",
       "      <th>1</th>\n",
       "      <td>111000115</td>\n",
       "      <td>6.104000e+04</td>\n",
       "    </tr>\n",
       "    <tr>\n",
       "      <th>2</th>\n",
       "      <td>111000116</td>\n",
       "      <td>1.530300e+08</td>\n",
       "    </tr>\n",
       "    <tr>\n",
       "      <th>3</th>\n",
       "      <td>111000117</td>\n",
       "      <td>1.226096e+07</td>\n",
       "    </tr>\n",
       "    <tr>\n",
       "      <th>4</th>\n",
       "      <td>111000118</td>\n",
       "      <td>1.636841e+08</td>\n",
       "    </tr>\n",
       "    <tr>\n",
       "      <th>...</th>\n",
       "      <td>...</td>\n",
       "      <td>...</td>\n",
       "    </tr>\n",
       "    <tr>\n",
       "      <th>3153</th>\n",
       "      <td>224014814</td>\n",
       "      <td>1.530000e+03</td>\n",
       "    </tr>\n",
       "    <tr>\n",
       "      <th>3154</th>\n",
       "      <td>224021411</td>\n",
       "      <td>9.270000e+03</td>\n",
       "    </tr>\n",
       "    <tr>\n",
       "      <th>3155</th>\n",
       "      <td>224022410</td>\n",
       "      <td>4.000000e+02</td>\n",
       "    </tr>\n",
       "    <tr>\n",
       "      <th>3156</th>\n",
       "      <td>224023210</td>\n",
       "      <td>3.600000e+02</td>\n",
       "    </tr>\n",
       "    <tr>\n",
       "      <th>3157</th>\n",
       "      <td>224026410</td>\n",
       "      <td>4.000000e+02</td>\n",
       "    </tr>\n",
       "  </tbody>\n",
       "</table>\n",
       "<p>3158 rows × 2 columns</p>\n",
       "</div>"
      ],
      "text/plain": [
       "       puNumber    box_office\n",
       "0     111000113  2.450000e+03\n",
       "1     111000115  6.104000e+04\n",
       "2     111000116  1.530300e+08\n",
       "3     111000117  1.226096e+07\n",
       "4     111000118  1.636841e+08\n",
       "...         ...           ...\n",
       "3153  224014814  1.530000e+03\n",
       "3154  224021411  9.270000e+03\n",
       "3155  224022410  4.000000e+02\n",
       "3156  224023210  3.600000e+02\n",
       "3157  224026410  4.000000e+02\n",
       "\n",
       "[3158 rows x 2 columns]"
      ]
     },
     "metadata": {},
     "output_type": "display_data"
    }
   ],
   "source": [
    "mkrf_movies = pd.read_csv('/datasets/mkrf_movies.csv')\n",
    "mkrf_shows = pd.read_csv('/datasets/mkrf_shows.csv')\n",
    "display(mkrf_movies, mkrf_shows)"
   ]
  },
  {
   "cell_type": "code",
   "execution_count": 3,
   "metadata": {
    "scrolled": false
   },
   "outputs": [
    {
     "name": "stdout",
     "output_type": "stream",
     "text": [
      "<class 'pandas.core.frame.DataFrame'>\n",
      "RangeIndex: 7486 entries, 0 to 7485\n",
      "Data columns (total 15 columns):\n",
      " #   Column                 Non-Null Count  Dtype  \n",
      "---  ------                 --------------  -----  \n",
      " 0   title                  7486 non-null   object \n",
      " 1   puNumber               7486 non-null   object \n",
      " 2   show_start_date        7486 non-null   object \n",
      " 3   type                   7486 non-null   object \n",
      " 4   film_studio            7468 non-null   object \n",
      " 5   production_country     7484 non-null   object \n",
      " 6   director               7477 non-null   object \n",
      " 7   producer               6918 non-null   object \n",
      " 8   age_restriction        7486 non-null   object \n",
      " 9   refundable_support     332 non-null    float64\n",
      " 10  nonrefundable_support  332 non-null    float64\n",
      " 11  budget                 332 non-null    float64\n",
      " 12  financing_source       332 non-null    object \n",
      " 13  ratings                6519 non-null   object \n",
      " 14  genres                 6510 non-null   object \n",
      "dtypes: float64(3), object(12)\n",
      "memory usage: 877.4+ KB\n",
      "<class 'pandas.core.frame.DataFrame'>\n",
      "RangeIndex: 3158 entries, 0 to 3157\n",
      "Data columns (total 2 columns):\n",
      " #   Column      Non-Null Count  Dtype  \n",
      "---  ------      --------------  -----  \n",
      " 0   puNumber    3158 non-null   int64  \n",
      " 1   box_office  3158 non-null   float64\n",
      "dtypes: float64(1), int64(1)\n",
      "memory usage: 49.5 KB\n"
     ]
    }
   ],
   "source": [
    "mkrf_movies.info()\n",
    "mkrf_shows.info()"
   ]
  },
  {
   "cell_type": "code",
   "execution_count": 4,
   "metadata": {
    "scrolled": true
   },
   "outputs": [
    {
     "data": {
      "text/plain": [
       "title                       0\n",
       "puNumber                    0\n",
       "show_start_date             0\n",
       "type                        0\n",
       "film_studio                18\n",
       "production_country          2\n",
       "director                    9\n",
       "producer                  568\n",
       "age_restriction             0\n",
       "refundable_support       7154\n",
       "nonrefundable_support    7154\n",
       "budget                   7154\n",
       "financing_source         7154\n",
       "ratings                   967\n",
       "genres                    976\n",
       "dtype: int64"
      ]
     },
     "execution_count": 4,
     "metadata": {},
     "output_type": "execute_result"
    }
   ],
   "source": [
    "mkrf_movies.isna().sum()"
   ]
  },
  {
   "cell_type": "code",
   "execution_count": 5,
   "metadata": {},
   "outputs": [
    {
     "data": {
      "text/plain": [
       "title                     0.000000\n",
       "puNumber                  0.000000\n",
       "show_start_date           0.000000\n",
       "type                      0.000000\n",
       "film_studio               0.240449\n",
       "production_country        0.026717\n",
       "director                  0.120224\n",
       "producer                  7.587497\n",
       "age_restriction           0.000000\n",
       "refundable_support       95.565055\n",
       "nonrefundable_support    95.565055\n",
       "budget                   95.565055\n",
       "financing_source         95.565055\n",
       "ratings                  12.917446\n",
       "genres                   13.037670\n",
       "dtype: float64"
      ]
     },
     "execution_count": 5,
     "metadata": {},
     "output_type": "execute_result"
    }
   ],
   "source": [
    "mkrf_movies.isnull().sum()*100/len(mkrf_movies)"
   ]
  },
  {
   "cell_type": "code",
   "execution_count": 6,
   "metadata": {
    "scrolled": false
   },
   "outputs": [
    {
     "name": "stdout",
     "output_type": "stream",
     "text": [
      "нет\n"
     ]
    }
   ],
   "source": [
    "mkrf_movies['puNumber'] = mkrf_movies['puNumber'].str.strip()\n",
    "\n",
    "for str in mkrf_movies['puNumber']:\n",
    "    if str.isdigit() == False:\n",
    "        print(str)"
   ]
  },
  {
   "cell_type": "code",
   "execution_count": 7,
   "metadata": {},
   "outputs": [],
   "source": [
    "mkrf_movies.drop(mkrf_movies.loc[mkrf_movies['puNumber'] == 'нет'].index, inplace=True)\n",
    "\n",
    "for str in mkrf_movies['puNumber']:\n",
    "    if str.isdigit() == False:\n",
    "        print(str)"
   ]
  },
  {
   "cell_type": "code",
   "execution_count": 8,
   "metadata": {},
   "outputs": [],
   "source": [
    "mkrf_movies['puNumber'] = mkrf_movies['puNumber'].astype('int')"
   ]
  },
  {
   "cell_type": "markdown",
   "metadata": {},
   "source": [
    "<div class=\"alert alert-info\">\n",
    "<b>Добавим в таблицу mkrf_movies столбец 'box_office' из таблицы mkrf_shows."
   ]
  },
  {
   "cell_type": "code",
   "execution_count": 9,
   "metadata": {},
   "outputs": [
    {
     "name": "stdout",
     "output_type": "stream",
     "text": [
      "<class 'pandas.core.frame.DataFrame'>\n",
      "Int64Index: 7485 entries, 0 to 7484\n",
      "Data columns (total 16 columns):\n",
      " #   Column                 Non-Null Count  Dtype  \n",
      "---  ------                 --------------  -----  \n",
      " 0   title                  7485 non-null   object \n",
      " 1   puNumber               7485 non-null   int64  \n",
      " 2   show_start_date        7485 non-null   object \n",
      " 3   type                   7485 non-null   object \n",
      " 4   film_studio            7467 non-null   object \n",
      " 5   production_country     7483 non-null   object \n",
      " 6   director               7476 non-null   object \n",
      " 7   producer               6917 non-null   object \n",
      " 8   age_restriction        7485 non-null   object \n",
      " 9   refundable_support     332 non-null    float64\n",
      " 10  nonrefundable_support  332 non-null    float64\n",
      " 11  budget                 332 non-null    float64\n",
      " 12  financing_source       332 non-null    object \n",
      " 13  ratings                6519 non-null   object \n",
      " 14  genres                 6510 non-null   object \n",
      " 15  box_office             3158 non-null   float64\n",
      "dtypes: float64(4), int64(1), object(11)\n",
      "memory usage: 994.1+ KB\n"
     ]
    }
   ],
   "source": [
    "data = mkrf_movies.merge(mkrf_shows, on='puNumber', how='left')\n",
    "data.info()"
   ]
  },
  {
   "cell_type": "markdown",
   "metadata": {
    "id": "KLDGpPG0gFyM"
   },
   "source": [
    "### Предобработка данных"
   ]
  },
  {
   "cell_type": "code",
   "execution_count": 10,
   "metadata": {
    "id": "kVGSplJOgFyO"
   },
   "outputs": [
    {
     "name": "stdout",
     "output_type": "stream",
     "text": [
      "<class 'pandas.core.frame.DataFrame'>\n",
      "Int64Index: 7458 entries, 0 to 7484\n",
      "Data columns (total 16 columns):\n",
      " #   Column                 Non-Null Count  Dtype              \n",
      "---  ------                 --------------  -----              \n",
      " 0   title                  7458 non-null   object             \n",
      " 1   puNumber               7458 non-null   int64              \n",
      " 2   show_start_date        7458 non-null   datetime64[ns, UTC]\n",
      " 3   type                   7458 non-null   object             \n",
      " 4   film_studio            7458 non-null   object             \n",
      " 5   production_country     7458 non-null   object             \n",
      " 6   director               7458 non-null   object             \n",
      " 7   producer               7458 non-null   object             \n",
      " 8   age_restriction        7458 non-null   object             \n",
      " 9   refundable_support     7458 non-null   int64              \n",
      " 10  nonrefundable_support  7458 non-null   int64              \n",
      " 11  budget                 7458 non-null   int64              \n",
      " 12  financing_source       7458 non-null   object             \n",
      " 13  ratings                6511 non-null   object             \n",
      " 14  genres                 7458 non-null   object             \n",
      " 15  box_office             3155 non-null   object             \n",
      "dtypes: datetime64[ns, UTC](1), int64(4), object(11)\n",
      "memory usage: 990.5+ KB\n"
     ]
    }
   ],
   "source": [
    "data['show_start_date'] = pd.to_datetime(data['show_start_date'], format='%Y-%m-%dT%H:%M:%S')\n",
    "data['refundable_support'] = data['refundable_support'].fillna(0).astype('int')\n",
    "data['nonrefundable_support'] = data['nonrefundable_support'].fillna(0).astype('int')\n",
    "data['budget'] = data['budget'].fillna(0).astype('int')\n",
    "data['financing_source'] = data['financing_source'].fillna('Другой')\n",
    "data['producer'] = data['producer'].fillna('Другой')\n",
    "data.loc[data['box_office'] == 'inf', 'box_office'] = ''\n",
    "data = data.dropna(subset=['film_studio', 'director', 'production_country'])\n",
    "data['director'] = data['director'].astype('str')\n",
    "data['genres'] = data['genres'].astype('str')\n",
    "\n",
    "data.info()"
   ]
  },
  {
   "cell_type": "markdown",
   "metadata": {
    "id": "8MJD_lkngFyP"
   },
   "source": [
    "<div class=\"alert alert-info\">\n",
    "<b>1)film_studio, director, production_country - пропуски удалил ввиду их немногочисленности.\n",
    "    2)refundable_support; nonrefundable_support;budget - пропуски заменены на zero (0 будет означать, что фильм снят на деньги частных инвесторов)\n",
    "    3)financing_source - заменил пропуски на \"Другой\" (для определения доли фильмов с господдержкой)\n",
    "    4)ratings, genres - не все фильмы есть на Кинопоиске, пока оставляем.\n",
    "    5)box_office - пропуски оставлены как есть"
   ]
  },
  {
   "cell_type": "code",
   "execution_count": 11,
   "metadata": {
    "id": "aKck8RIdgFyQ"
   },
   "outputs": [
    {
     "data": {
      "text/plain": [
       "0"
      ]
     },
     "execution_count": 11,
     "metadata": {},
     "output_type": "execute_result"
    }
   ],
   "source": [
    "data.duplicated().sum()"
   ]
  },
  {
   "cell_type": "markdown",
   "metadata": {},
   "source": [
    "<div class=\"alert alert-info\">\n",
    "<b> Явных дубликатов нет. </b> \n",
    "</div>"
   ]
  },
  {
   "cell_type": "code",
   "execution_count": 12,
   "metadata": {
    "scrolled": false
   },
   "outputs": [
    {
     "data": {
      "text/html": [
       "<div>\n",
       "<style scoped>\n",
       "    .dataframe tbody tr th:only-of-type {\n",
       "        vertical-align: middle;\n",
       "    }\n",
       "\n",
       "    .dataframe tbody tr th {\n",
       "        vertical-align: top;\n",
       "    }\n",
       "\n",
       "    .dataframe thead th {\n",
       "        text-align: right;\n",
       "    }\n",
       "</style>\n",
       "<table border=\"1\" class=\"dataframe\">\n",
       "  <thead>\n",
       "    <tr style=\"text-align: right;\">\n",
       "      <th></th>\n",
       "      <th>title</th>\n",
       "      <th>puNumber</th>\n",
       "      <th>show_start_date</th>\n",
       "      <th>type</th>\n",
       "      <th>film_studio</th>\n",
       "      <th>production_country</th>\n",
       "      <th>director</th>\n",
       "      <th>producer</th>\n",
       "      <th>age_restriction</th>\n",
       "      <th>refundable_support</th>\n",
       "      <th>nonrefundable_support</th>\n",
       "      <th>budget</th>\n",
       "      <th>financing_source</th>\n",
       "      <th>ratings</th>\n",
       "      <th>genres</th>\n",
       "      <th>box_office</th>\n",
       "    </tr>\n",
       "  </thead>\n",
       "  <tbody>\n",
       "    <tr>\n",
       "      <th>3</th>\n",
       "      <td>Особо опасен</td>\n",
       "      <td>221026916</td>\n",
       "      <td>2016-06-10 12:00:00+00:00</td>\n",
       "      <td>Художественный</td>\n",
       "      <td>Юниверсал Пикчерз, Кикстарт Продакшнз, Марк Пл...</td>\n",
       "      <td>США</td>\n",
       "      <td>Тимур Бекмамбетов</td>\n",
       "      <td>Джим Лемли, Джейсон Нетер, Марк Е.Платт, Яйн Смит</td>\n",
       "      <td>«18+» - запрещено для детей</td>\n",
       "      <td>0</td>\n",
       "      <td>0</td>\n",
       "      <td>0</td>\n",
       "      <td>Другой</td>\n",
       "      <td>6.8</td>\n",
       "      <td>фантастика,боевик,триллер</td>\n",
       "      <td>NaN</td>\n",
       "    </tr>\n",
       "    <tr>\n",
       "      <th>4</th>\n",
       "      <td>Особо опасен</td>\n",
       "      <td>221030815</td>\n",
       "      <td>2015-07-29 12:00:00+00:00</td>\n",
       "      <td>Художественный</td>\n",
       "      <td>Юниверсал Пикчерз, Кикстарт Продакшнз, Марк Пл...</td>\n",
       "      <td>США</td>\n",
       "      <td>Тимур Бекмамбетов</td>\n",
       "      <td>Джим Лемли, Джейсон Нетер, Марк Е.Платт, Яйн Смит</td>\n",
       "      <td>«18+» - запрещено для детей</td>\n",
       "      <td>0</td>\n",
       "      <td>0</td>\n",
       "      <td>0</td>\n",
       "      <td>Другой</td>\n",
       "      <td>6.8</td>\n",
       "      <td>фантастика,боевик,триллер</td>\n",
       "      <td>NaN</td>\n",
       "    </tr>\n",
       "    <tr>\n",
       "      <th>41</th>\n",
       "      <td>Алекс и Эмма</td>\n",
       "      <td>221004616</td>\n",
       "      <td>2016-02-09 12:00:00+00:00</td>\n",
       "      <td>Художественный</td>\n",
       "      <td>Эскейп Артистс, Франчайз Пикчерз, Рейнер-Грэйс...</td>\n",
       "      <td>США</td>\n",
       "      <td>Роб Райнер</td>\n",
       "      <td>Тодд Блэк, Элан Грейсман, Джереми Левен, Роб Р...</td>\n",
       "      <td>«16+» - для детей старше 16 лет</td>\n",
       "      <td>0</td>\n",
       "      <td>0</td>\n",
       "      <td>0</td>\n",
       "      <td>Другой</td>\n",
       "      <td>6.4</td>\n",
       "      <td>мелодрама,комедия</td>\n",
       "      <td>NaN</td>\n",
       "    </tr>\n",
       "    <tr>\n",
       "      <th>110</th>\n",
       "      <td>Гарри Поттер и орден Феникса /По роману Дж.К.Р...</td>\n",
       "      <td>121026316</td>\n",
       "      <td>2016-09-23 12:00:00+00:00</td>\n",
       "      <td>Художественный</td>\n",
       "      <td>Уорнер Бразерс, Хэйдей Филмз</td>\n",
       "      <td>США - Великобритания</td>\n",
       "      <td>Дэвид Йетс</td>\n",
       "      <td>Дэйвид Баррон, Дэйвид Хейман</td>\n",
       "      <td>«16+» - для детей старше 16 лет</td>\n",
       "      <td>0</td>\n",
       "      <td>0</td>\n",
       "      <td>0</td>\n",
       "      <td>Другой</td>\n",
       "      <td>7.7</td>\n",
       "      <td>фэнтези,приключения,семейный</td>\n",
       "      <td>759526.0</td>\n",
       "    </tr>\n",
       "    <tr>\n",
       "      <th>113</th>\n",
       "      <td>Гарри Поттер и узник Азкабана /По роману Дж.К....</td>\n",
       "      <td>121026116</td>\n",
       "      <td>2016-09-23 12:00:00+00:00</td>\n",
       "      <td>Художественный</td>\n",
       "      <td>Хэйдей Филмз, 1492 Пикчерз, Уорнер Бразерс</td>\n",
       "      <td>США</td>\n",
       "      <td>Альфонсо Куарон</td>\n",
       "      <td>Майкл Барната</td>\n",
       "      <td>«12+» - для детей старше 12 лет</td>\n",
       "      <td>0</td>\n",
       "      <td>0</td>\n",
       "      <td>0</td>\n",
       "      <td>Другой</td>\n",
       "      <td>8.2</td>\n",
       "      <td>фэнтези,приключения,семейный</td>\n",
       "      <td>1125302.0</td>\n",
       "    </tr>\n",
       "  </tbody>\n",
       "</table>\n",
       "</div>"
      ],
      "text/plain": [
       "                                                 title   puNumber  \\\n",
       "3                                         Особо опасен  221026916   \n",
       "4                                         Особо опасен  221030815   \n",
       "41                                        Алекс и Эмма  221004616   \n",
       "110  Гарри Поттер и орден Феникса /По роману Дж.К.Р...  121026316   \n",
       "113  Гарри Поттер и узник Азкабана /По роману Дж.К....  121026116   \n",
       "\n",
       "              show_start_date            type  \\\n",
       "3   2016-06-10 12:00:00+00:00  Художественный   \n",
       "4   2015-07-29 12:00:00+00:00  Художественный   \n",
       "41  2016-02-09 12:00:00+00:00  Художественный   \n",
       "110 2016-09-23 12:00:00+00:00  Художественный   \n",
       "113 2016-09-23 12:00:00+00:00  Художественный   \n",
       "\n",
       "                                           film_studio    production_country  \\\n",
       "3    Юниверсал Пикчерз, Кикстарт Продакшнз, Марк Пл...                   США   \n",
       "4    Юниверсал Пикчерз, Кикстарт Продакшнз, Марк Пл...                   США   \n",
       "41   Эскейп Артистс, Франчайз Пикчерз, Рейнер-Грэйс...                   США   \n",
       "110                       Уорнер Бразерс, Хэйдей Филмз  США - Великобритания   \n",
       "113         Хэйдей Филмз, 1492 Пикчерз, Уорнер Бразерс                   США   \n",
       "\n",
       "              director                                           producer  \\\n",
       "3    Тимур Бекмамбетов  Джим Лемли, Джейсон Нетер, Марк Е.Платт, Яйн Смит   \n",
       "4    Тимур Бекмамбетов  Джим Лемли, Джейсон Нетер, Марк Е.Платт, Яйн Смит   \n",
       "41          Роб Райнер  Тодд Блэк, Элан Грейсман, Джереми Левен, Роб Р...   \n",
       "110         Дэвид Йетс                       Дэйвид Баррон, Дэйвид Хейман   \n",
       "113    Альфонсо Куарон                                      Майкл Барната   \n",
       "\n",
       "                     age_restriction  refundable_support  \\\n",
       "3        «18+» - запрещено для детей                   0   \n",
       "4        «18+» - запрещено для детей                   0   \n",
       "41   «16+» - для детей старше 16 лет                   0   \n",
       "110  «16+» - для детей старше 16 лет                   0   \n",
       "113  «12+» - для детей старше 12 лет                   0   \n",
       "\n",
       "     nonrefundable_support  budget financing_source ratings  \\\n",
       "3                        0       0           Другой     6.8   \n",
       "4                        0       0           Другой     6.8   \n",
       "41                       0       0           Другой     6.4   \n",
       "110                      0       0           Другой     7.7   \n",
       "113                      0       0           Другой     8.2   \n",
       "\n",
       "                           genres box_office  \n",
       "3       фантастика,боевик,триллер        NaN  \n",
       "4       фантастика,боевик,триллер        NaN  \n",
       "41              мелодрама,комедия        NaN  \n",
       "110  фэнтези,приключения,семейный   759526.0  \n",
       "113  фэнтези,приключения,семейный  1125302.0  "
      ]
     },
     "execution_count": 12,
     "metadata": {},
     "output_type": "execute_result"
    }
   ],
   "source": [
    "data[data['title'].duplicated()].head()"
   ]
  },
  {
   "cell_type": "code",
   "execution_count": 13,
   "metadata": {},
   "outputs": [
    {
     "data": {
      "text/html": [
       "<div>\n",
       "<style scoped>\n",
       "    .dataframe tbody tr th:only-of-type {\n",
       "        vertical-align: middle;\n",
       "    }\n",
       "\n",
       "    .dataframe tbody tr th {\n",
       "        vertical-align: top;\n",
       "    }\n",
       "\n",
       "    .dataframe thead th {\n",
       "        text-align: right;\n",
       "    }\n",
       "</style>\n",
       "<table border=\"1\" class=\"dataframe\">\n",
       "  <thead>\n",
       "    <tr style=\"text-align: right;\">\n",
       "      <th></th>\n",
       "      <th>title</th>\n",
       "      <th>puNumber</th>\n",
       "      <th>show_start_date</th>\n",
       "      <th>type</th>\n",
       "      <th>film_studio</th>\n",
       "      <th>production_country</th>\n",
       "      <th>director</th>\n",
       "      <th>producer</th>\n",
       "      <th>age_restriction</th>\n",
       "      <th>refundable_support</th>\n",
       "      <th>nonrefundable_support</th>\n",
       "      <th>budget</th>\n",
       "      <th>financing_source</th>\n",
       "      <th>ratings</th>\n",
       "      <th>genres</th>\n",
       "      <th>box_office</th>\n",
       "    </tr>\n",
       "  </thead>\n",
       "  <tbody>\n",
       "    <tr>\n",
       "      <th>4638</th>\n",
       "      <td>Иоанна - женщина на папском престоле /По роман...</td>\n",
       "      <td>221154310</td>\n",
       "      <td>2010-12-17 12:00:00+00:00</td>\n",
       "      <td>Художественный</td>\n",
       "      <td>Константин Фильм, А Эр Ди Дегето Фильм, Дюне ...</td>\n",
       "      <td>Германия - Великобритания - Италия - Испания</td>\n",
       "      <td>Зенке Вортманн</td>\n",
       "      <td>Оливер Бербен, Дорис Д.Хайнце, Фарук Элтан</td>\n",
       "      <td>«16+» - для детей старше 16 лет</td>\n",
       "      <td>0</td>\n",
       "      <td>0</td>\n",
       "      <td>0</td>\n",
       "      <td>Другой</td>\n",
       "      <td>7.6</td>\n",
       "      <td>драма,мелодрама,история</td>\n",
       "      <td>NaN</td>\n",
       "    </tr>\n",
       "    <tr>\n",
       "      <th>5067</th>\n",
       "      <td>Анализируй то!</td>\n",
       "      <td>221054410</td>\n",
       "      <td>2010-05-25 12:00:00+00:00</td>\n",
       "      <td>Художественный</td>\n",
       "      <td>Уорнер Бразерс, Виллидж Роадшоу Пикчерз, Эн-Пи...</td>\n",
       "      <td>США</td>\n",
       "      <td>Гарольд Реймис</td>\n",
       "      <td>Джейн Розенталь, Паул Уэйнстейн</td>\n",
       "      <td>«12+» - для детей старше 12 лет</td>\n",
       "      <td>0</td>\n",
       "      <td>0</td>\n",
       "      <td>0</td>\n",
       "      <td>Другой</td>\n",
       "      <td>6.8</td>\n",
       "      <td>комедия,криминал</td>\n",
       "      <td>NaN</td>\n",
       "    </tr>\n",
       "  </tbody>\n",
       "</table>\n",
       "</div>"
      ],
      "text/plain": [
       "                                                  title   puNumber  \\\n",
       "4638  Иоанна - женщина на папском престоле /По роман...  221154310   \n",
       "5067                                     Анализируй то!  221054410   \n",
       "\n",
       "               show_start_date            type  \\\n",
       "4638 2010-12-17 12:00:00+00:00  Художественный   \n",
       "5067 2010-05-25 12:00:00+00:00  Художественный   \n",
       "\n",
       "                                            film_studio  \\\n",
       "4638   Константин Фильм, А Эр Ди Дегето Фильм, Дюне ...   \n",
       "5067  Уорнер Бразерс, Виллидж Роадшоу Пикчерз, Эн-Пи...   \n",
       "\n",
       "                                production_country        director  \\\n",
       "4638  Германия - Великобритания - Италия - Испания  Зенке Вортманн   \n",
       "5067                                           США  Гарольд Реймис   \n",
       "\n",
       "                                        producer  \\\n",
       "4638  Оливер Бербен, Дорис Д.Хайнце, Фарук Элтан   \n",
       "5067             Джейн Розенталь, Паул Уэйнстейн   \n",
       "\n",
       "                      age_restriction  refundable_support  \\\n",
       "4638  «16+» - для детей старше 16 лет                   0   \n",
       "5067  «12+» - для детей старше 12 лет                   0   \n",
       "\n",
       "      nonrefundable_support  budget financing_source ratings  \\\n",
       "4638                      0       0           Другой     7.6   \n",
       "5067                      0       0           Другой     6.8   \n",
       "\n",
       "                       genres box_office  \n",
       "4638  драма,мелодрама,история        NaN  \n",
       "5067         комедия,криминал        NaN  "
      ]
     },
     "execution_count": 13,
     "metadata": {},
     "output_type": "execute_result"
    }
   ],
   "source": [
    "data[data['puNumber'].duplicated()]"
   ]
  },
  {
   "cell_type": "markdown",
   "metadata": {},
   "source": [
    "<div class=\"alert alert-info\">\n",
    "<b> Наличие дубликатов- названий фильмов, возможно, обусловлено тем, что у одного фильма может быть несколько прокатных удостоверений. </b> \n",
    "</div>"
   ]
  },
  {
   "cell_type": "code",
   "execution_count": 14,
   "metadata": {},
   "outputs": [
    {
     "data": {
      "text/plain": [
       "array(['Художественный', 'Анимационный', 'Прочие', 'Документальный',\n",
       "       'Научно-популярный', ' Художественный', ' Анимационный',\n",
       "       'Музыкально-развлекательный'], dtype=object)"
      ]
     },
     "execution_count": 14,
     "metadata": {},
     "output_type": "execute_result"
    }
   ],
   "source": [
    "data['type'].unique()"
   ]
  },
  {
   "cell_type": "code",
   "execution_count": 15,
   "metadata": {
    "id": "PnXKIVdFgFyR",
    "scrolled": true
   },
   "outputs": [
    {
     "data": {
      "text/plain": [
       "array(['Художественный', 'Анимационный', 'Прочие', 'Документальный',\n",
       "       'Научно-популярный', 'Музыкально-развлекательный'], dtype=object)"
      ]
     },
     "execution_count": 15,
     "metadata": {},
     "output_type": "execute_result"
    }
   ],
   "source": [
    "data['type'] = data['type'].str.strip()\n",
    "data['type'].unique()"
   ]
  },
  {
   "cell_type": "code",
   "execution_count": 16,
   "metadata": {},
   "outputs": [
    {
     "data": {
      "text/plain": [
       "array(['«18+» - запрещено для детей', '«6+» - для детей старше 6 лет',\n",
       "       '«12+» - для детей старше 12 лет',\n",
       "       '«16+» - для детей старше 16 лет',\n",
       "       '«0+» - для любой зрительской аудитории'], dtype=object)"
      ]
     },
     "execution_count": 16,
     "metadata": {},
     "output_type": "execute_result"
    }
   ],
   "source": [
    "data['age_restriction'].unique()"
   ]
  },
  {
   "cell_type": "code",
   "execution_count": 17,
   "metadata": {},
   "outputs": [
    {
     "data": {
      "text/plain": [
       "array(['Другой', 'Министерство культуры', 'Фонд кино',\n",
       "       'Министерство культуры, Фонд кино'], dtype=object)"
      ]
     },
     "execution_count": 17,
     "metadata": {},
     "output_type": "execute_result"
    }
   ],
   "source": [
    "data['financing_source'].str.split(',')\n",
    "data['financing_source'].unique()"
   ]
  },
  {
   "cell_type": "code",
   "execution_count": 18,
   "metadata": {},
   "outputs": [
    {
     "data": {
      "text/plain": [
       "array(['боевик,драма,мелодрама', 'драма,военный',\n",
       "       'фантастика,боевик,триллер', 'драма', 'мелодрама,комедия',\n",
       "       'мюзикл,мелодрама,комедия', 'комедия,криминал',\n",
       "       'боевик,триллер,детектив', 'боевик,драма,приключения',\n",
       "       'драма,спорт', 'триллер,драма,мелодрама', 'комедия,мелодрама',\n",
       "       'драма,мелодрама,комедия', 'драма,мелодрама', 'драма,история',\n",
       "       'драма,мелодрама,семейный', 'комедия,мелодрама,криминал',\n",
       "       'комедия', 'боевик,драма,криминал', 'драма,комедия',\n",
       "       'ужасы,фантастика,комедия', 'мультфильм,короткометражка,мелодрама',\n",
       "       'драма,криминал', 'мультфильм,фантастика,фэнтези',\n",
       "       'триллер,драма,криминал', 'драма,мелодрама,биография',\n",
       "       'драма,комедия,военный', 'фантастика,драма,детектив',\n",
       "       'мюзикл,семейный', 'nan', 'военный,приключения,драма',\n",
       "       'документальный,драма', 'драма,биография,история',\n",
       "       'боевик,триллер,драма', 'фэнтези,боевик',\n",
       "       'боевик,комедия,криминал', 'мюзикл,комедия,детский',\n",
       "       'комедия,мелодрама,драма', 'мультфильм,фэнтези,комедия',\n",
       "       'комедия,история', 'мелодрама', 'драма,биография,музыка',\n",
       "       'фэнтези,драма,мелодрама', 'триллер,военный',\n",
       "       'драма,мелодрама,военный', 'мюзикл,драма,мелодрама',\n",
       "       'мюзикл,комедия', 'мультфильм,приключения,семейный',\n",
       "       'ужасы,триллер', 'боевик,драма,военный', 'драма,боевик',\n",
       "       'мультфильм,драма,комедия', 'триллер,криминал',\n",
       "       'военный,биография,драма', 'комедия,семейный', 'военный',\n",
       "       'драма,семейный,биография', 'фэнтези,приключения,семейный',\n",
       "       'драма,криминал,биография', 'ужасы,триллер,детектив',\n",
       "       'боевик,история,драма', 'ужасы,триллер,драма',\n",
       "       'драма,криминал,спорт', 'документальный,короткометражка',\n",
       "       'триллер,драма', 'криминал,детектив,приключения',\n",
       "       'драма,комедия,криминал', 'драма,комедия,вестерн',\n",
       "       'драма,мелодрама,детектив', 'мелодрама,биография',\n",
       "       'фэнтези,мелодрама,драма', 'драма,мелодрама,история',\n",
       "       'комедия,приключения,история', 'приключения', 'драма,семейный',\n",
       "       'криминал,детектив', 'мультфильм,короткометражка,ужасы',\n",
       "       'фантастика,триллер,драма', 'фэнтези,мелодрама,комедия',\n",
       "       'драма,биография', 'комедия,криминал,история',\n",
       "       'триллер,драма,детектив', 'фантастика,комедия,приключения',\n",
       "       'фэнтези,семейный', 'ужасы,фантастика,боевик',\n",
       "       'мелодрама,криминал', 'комедия,приключения,мелодрама',\n",
       "       'боевик,триллер,приключения', 'боевик,приключения',\n",
       "       'боевик,триллер,криминал', 'документальный,военный,история',\n",
       "       'драма,музыка', 'боевик,драма', 'приключения,боевик',\n",
       "       'драма,военный,биография', 'триллер,драма,приключения',\n",
       "       'аниме,мультфильм,фэнтези', 'триллер,детектив,драма',\n",
       "       'боевик,триллер,мелодрама', 'боевик,история',\n",
       "       'приключения,история', 'драма,комедия,приключения',\n",
       "       'фэнтези,комедия,приключения', 'драма,вестерн',\n",
       "       'документальный,музыка', 'мелодрама,драма',\n",
       "       'триллер,криминал,детектив', 'ужасы', 'боевик,комедия,приключения',\n",
       "       'мультфильм,фэнтези,боевик', 'боевик,фэнтези,драма',\n",
       "       'фэнтези,драма', 'фэнтези,боевик,комедия',\n",
       "       'приключения,детский,комедия', 'документальный',\n",
       "       'боевик,триллер,комедия', 'мелодрама,комедия,криминал',\n",
       "       'драма,детектив', 'мюзикл,ужасы,триллер', 'детектив,триллер,ужасы',\n",
       "       'ужасы,фэнтези', 'ужасы,фэнтези,триллер', 'мультфильм,драма',\n",
       "       'ужасы,боевик,фантастика', 'боевик', 'фантастика,боевик',\n",
       "       'мелодрама,комедия,приключения', 'триллер,детектив',\n",
       "       'мюзикл,мелодрама,фэнтези', 'криминал', 'триллер,комедия,криминал',\n",
       "       'боевик,приключения,триллер', 'триллер,драма,военный',\n",
       "       'комедия,семейный,музыка', 'комедия,фантастика,мелодрама',\n",
       "       'фантастика,триллер,криминал', 'комедия,драма', 'боевик,военный',\n",
       "       'ужасы,фантастика,триллер', 'фантастика,драма,мелодрама',\n",
       "       'фэнтези,драма,детектив', 'боевик,триллер', 'боевик,драма,история',\n",
       "       'мультфильм,мюзикл,фэнтези', 'для взрослых,драма,мелодрама',\n",
       "       'мультфильм,боевик,детектив', 'фантастика,мелодрама,боевик',\n",
       "       'ужасы,фантастика,детектив', 'фантастика,боевик,приключения',\n",
       "       'мелодрама,комедия,спорт', 'комедия,боевик,приключения',\n",
       "       'документальный,приключения', 'мультфильм,короткометражка,детский',\n",
       "       'комедия,приключения', 'ужасы,драма', 'ужасы,фэнтези,боевик',\n",
       "       'мультфильм,фэнтези,детский', 'мюзикл,боевик,драма',\n",
       "       'семейный,комедия,драма', 'концерт,музыка', 'фэнтези,боевик,драма',\n",
       "       'драма,комедия,музыка', 'фантастика,фэнтези,боевик',\n",
       "       'фэнтези,комедия,семейный', 'фэнтези,драма,комедия',\n",
       "       'мультфильм,мюзикл,драма', 'триллер', 'боевик,криминал,триллер',\n",
       "       'мультфильм,приключения,драма', 'мелодрама,музыка',\n",
       "       'документальный,музыка,концерт', 'мультфильм,семейный',\n",
       "       'мультфильм,комедия,приключения', 'мультфильм,комедия,семейный',\n",
       "       'фантастика,драма', 'фэнтези,боевик,приключения',\n",
       "       'мультфильм,приключения', 'драма,военный,история', 'история',\n",
       "       'драма,приключения,военный',\n",
       "       'документальный,короткометражка,семейный',\n",
       "       'мелодрама,история,триллер', 'ужасы,детектив',\n",
       "       'мюзикл,комедия,приключения', 'драма,спорт,биография',\n",
       "       'фантастика,боевик,комедия', 'фантастика,приключения,детектив',\n",
       "       'короткометражка,драма,военный', 'драма,мультфильм',\n",
       "       'приключения,семейный', 'детектив', 'триллер,приключения',\n",
       "       'аниме,мультфильм,боевик', 'драма,комедия,биография',\n",
       "       'драма,комедия,спорт', 'боевик,мелодрама,комедия',\n",
       "       'семейный,комедия', 'фэнтези,боевик,триллер',\n",
       "       'документальный,фэнтези,семейный', 'фантастика,фэнтези,драма',\n",
       "       'ужасы,комедия,фэнтези', 'документальный,биография,музыка',\n",
       "       'фантастика,боевик,фэнтези', 'ужасы,боевик,триллер',\n",
       "       'комедия,криминал,семейный', 'приключения,драма',\n",
       "       'криминал,драма,триллер', 'драма,детектив,криминал',\n",
       "       'фэнтези,приключения,комедия', 'комедия,спорт',\n",
       "       'мюзикл,фэнтези,мелодрама', 'мультфильм,фэнтези,приключения',\n",
       "       'фантастика,фэнтези,приключения', 'фэнтези',\n",
       "       'фэнтези,приключения,боевик', 'фантастика,боевик,драма',\n",
       "       'криминал,драма', 'криминал,триллер,драма',\n",
       "       'драма,мелодрама,приключения', 'детский,комедия',\n",
       "       'фантастика,драма,боевик', 'мультфильм,семейный,фэнтези',\n",
       "       'концерт,музыка,документальный', 'ужасы,комедия,приключения',\n",
       "       'драма,мелодрама,криминал', 'ужасы,фантастика,фэнтези',\n",
       "       'боевик,комедия', 'мультфильм,фантастика,комедия', 'триллер,ужасы',\n",
       "       'мультфильм,мюзикл,комедия', 'мелодрама,фэнтези,триллер',\n",
       "       'детский,приключения,комедия', 'комедия,детектив',\n",
       "       'аниме,мультфильм,мелодрама', 'документальный,драма,семейный',\n",
       "       'документальный,биография,история', 'военный,боевик,драма',\n",
       "       'ужасы,комедия', 'комедия,приключения,семейный',\n",
       "       'приключения,биография,история', 'детский,приключения,семейный',\n",
       "       'спорт,драма,биография', 'аниме,мультфильм,ужасы',\n",
       "       'фантастика,боевик,криминал', 'мюзикл,драма',\n",
       "       'драма,криминал,детектив', 'аниме,мультфильм,драма',\n",
       "       'драма,триллер,приключения', 'триллер,криминал,драма',\n",
       "       'фэнтези,комедия,драма', 'мультфильм,комедия',\n",
       "       'драма,комедия,история', 'комедия,биография,история',\n",
       "       'мультфильм,фантастика,приключения', 'аниме,мультфильм,фантастика',\n",
       "       'мультфильм,фэнтези,семейный', 'мультфильм,боевик,комедия',\n",
       "       'комедия,криминал,спорт', 'документальный,мюзикл',\n",
       "       'мелодрама,комедия,музыка', 'биография',\n",
       "       'триллер,криминал,комедия', 'фантастика,драма,комедия',\n",
       "       'комедия,драма,мелодрама', 'фантастика,приключения,боевик',\n",
       "       'мультфильм,фэнтези,драма', 'триллер,комедия',\n",
       "       'драма,приключения,биография', 'фантастика,комедия',\n",
       "       'мелодрама,драма,комедия', 'боевик,криминал',\n",
       "       'драма,криминал,боевик', 'мультфильм,мюзикл,детский',\n",
       "       'драма,фэнтези', 'документальный,семейный',\n",
       "       'фэнтези,драма,приключения', 'ужасы,комедия,фантастика',\n",
       "       'драма,мелодрама,музыка', 'фэнтези,драма,семейный',\n",
       "       'триллер,мелодрама,драма', 'вестерн,боевик,драма',\n",
       "       'мультфильм,короткометражка,комедия', 'триллер,драма,история',\n",
       "       'ужасы,фантастика', 'ужасы,мелодрама,комедия',\n",
       "       'фэнтези,приключения', 'фантастика,триллер',\n",
       "       'ужасы,боевик,фэнтези', 'мультфильм,комедия,детский',\n",
       "       'триллер,драма,биография', 'мультфильм,ужасы,фэнтези',\n",
       "       'мультфильм,ужасы,фантастика', 'ужасы,боевик,комедия',\n",
       "       'драма,биография,спорт', 'мультфильм', 'мелодрама,комедия,драма',\n",
       "       'приключения,фантастика,семейный', 'комедия,криминал,детектив',\n",
       "       'ужасы,триллер,комедия', 'криминал,комедия,триллер',\n",
       "       'семейный,приключения,комедия', 'мультфильм,драма,приключения',\n",
       "       'ужасы,драма,детектив', 'драма,приключения,фэнтези',\n",
       "       'фантастика,мультфильм,драма', 'драма,триллер,детектив',\n",
       "       'драма,история,музыка', 'детский', 'триллер,боевик,криминал',\n",
       "       'драма,фантастика', 'комедия,драма,семейный',\n",
       "       'боевик,драма,комедия', 'комедия,ужасы',\n",
       "       'драма,фантастика,триллер', 'фантастика,драма,триллер',\n",
       "       'история,спорт,драма', 'документальный,биография',\n",
       "       'биография,история', 'спорт,драма', 'боевик,фэнтези',\n",
       "       'мультфильм,фэнтези', 'документальный,комедия,история',\n",
       "       'криминал,комедия,боевик', 'фэнтези,приключения,драма',\n",
       "       'музыка,концерт', 'триллер,драма,боевик',\n",
       "       'комедия,криминал,боевик', 'комедия,фантастика,боевик',\n",
       "       'вестерн,приключения,боевик', 'аниме,мультфильм,комедия',\n",
       "       'детектив,криминал,триллер', 'мультфильм,комедия,криминал',\n",
       "       'комедия,приключения,детектив', 'мелодрама,фантастика,драма',\n",
       "       'драма,комедия,семейный', 'приключения,фантастика',\n",
       "       'триллер,детектив,ужасы', 'комедия,приключения,фэнтези',\n",
       "       'фэнтези,триллер,драма', 'мелодрама,приключения,боевик',\n",
       "       'детектив,триллер,криминал', 'фэнтези,семейный,мелодрама',\n",
       "       'военный,драма', 'документальный,приключения,семейный',\n",
       "       'криминал,комедия,драма', 'комедия,фантастика',\n",
       "       'история,биография,драма', 'мелодрама,драма,музыка',\n",
       "       'боевик,мелодрама', 'комедия,криминал,триллер',\n",
       "       'детектив,триллер,боевик', 'комедия,боевик,криминал',\n",
       "       'комедия,вестерн', 'детский,мелодрама,семейный',\n",
       "       'короткометражка,мультфильм', 'комедия,фэнтези',\n",
       "       'фантастика,драма,ужасы', 'триллер,драма,ужасы',\n",
       "       'драма,фэнтези,история', 'комедия,драма,короткометражка',\n",
       "       'фэнтези,триллер,приключения', 'семейный',\n",
       "       'комедия,криминал,драма', 'комедия,фэнтези,ужасы',\n",
       "       'короткометражка,комедия,криминал', 'фантастика',\n",
       "       'триллер,ужасы,драма', 'мелодрама,драма,фэнтези',\n",
       "       'фантастика,приключения,драма', 'боевик,детектив',\n",
       "       'военный,драма,боевик', 'комедия,мелодрама,фэнтези',\n",
       "       'вестерн,криминал,триллер', 'драма,история,триллер',\n",
       "       'мультфильм,фантастика,боевик', 'детектив,драма,криминал',\n",
       "       'приключения,история,драма', 'мультфильм,семейный,детский',\n",
       "       'биография,драма,история', 'триллер,криминал,боевик',\n",
       "       'история,мелодрама', 'приключения,детский',\n",
       "       'музыка,приключения,концерт', 'военный,драма,комедия',\n",
       "       'фэнтези,боевик,военный', 'фантастика,детектив,боевик',\n",
       "       'мультфильм,фэнтези,история', 'биография,мелодрама,драма',\n",
       "       'документальный,биография,спорт', 'фантастика,комедия,детектив',\n",
       "       'музыка,концерт,документальный', 'триллер,боевик,приключения',\n",
       "       'триллер,драма,комедия', 'детектив,криминал',\n",
       "       'мультфильм,приключения,фэнтези', 'мелодрама,приключения',\n",
       "       'комедия,музыка', 'мелодрама,комедия,ужасы',\n",
       "       'драма,криминал,приключения', 'приключения,детектив,мелодрама',\n",
       "       'драма,криминал,фантастика', 'фэнтези,драма,биография',\n",
       "       'детектив,фантастика,криминал', 'триллер,драма,фантастика',\n",
       "       'ужасы,комедия,боевик', 'мелодрама,история', 'триллер,боевик',\n",
       "       'фильм-нуар,триллер,детектив', 'комедия,криминал,приключения',\n",
       "       'ужасы,триллер,мелодрама', 'военный,драма,история',\n",
       "       'драма,спорт,история', 'документальный,драма,история',\n",
       "       'триллер,мелодрама,детектив', 'детский,семейный',\n",
       "       'мюзикл,семейный,драма', 'биография,военный,драма',\n",
       "       'мультфильм,детский', 'боевик,криминал,драма',\n",
       "       'детектив,фэнтези,триллер', 'драма,боевик,приключения',\n",
       "       'драма,мелодрама,фэнтези', 'детектив,история,драма',\n",
       "       'фэнтези,боевик,ужасы', 'ужасы,фэнтези,мелодрама',\n",
       "       'ужасы,приключения', 'боевик,фантастика',\n",
       "       'ужасы,мелодрама,детектив', 'фантастика,триллер,приключения',\n",
       "       'боевик,приключения,история', 'приключения,боевик,триллер',\n",
       "       'детектив,ужасы,криминал', 'семейный,фэнтези', 'мюзикл,мелодрама',\n",
       "       'драма,военный,приключения', 'фантастика,драма,приключения',\n",
       "       'приключения,семейный,драма', 'история,драма,боевик',\n",
       "       'мультфильм,приключения,комедия', 'криминал,драма,комедия',\n",
       "       'ужасы,комедия,драма', 'комедия,семейный,приключения',\n",
       "       'мюзикл,фэнтези,драма', 'драма,вестерн,боевик',\n",
       "       'фантастика,триллер,детектив', 'драма,история,детектив',\n",
       "       'короткометражка,биография', 'мультфильм,приключения,фантастика',\n",
       "       'комедия,триллер', 'мультфильм,приключения,детектив',\n",
       "       'драма,триллер', 'ужасы,триллер,криминал',\n",
       "       'документальный,криминал,военный', 'ужасы,фэнтези,драма',\n",
       "       'фэнтези,комедия', 'ужасы,фэнтези,комедия', 'комедия,музыка,драма',\n",
       "       'мультфильм,приключения,военный', 'мюзикл,фэнтези,комедия',\n",
       "       'боевик,фантастика,приключения', 'триллер,ужасы,криминал',\n",
       "       'ужасы,фантастика,драма', 'фантастика,приключения,семейный',\n",
       "       'короткометражка,музыка', 'мелодрама,детектив,комедия',\n",
       "       'документальный,триллер,биография', 'боевик,фантастика,триллер',\n",
       "       'спорт,драма,комедия', 'фэнтези,мелодрама,приключения',\n",
       "       'триллер,детектив,криминал', 'короткометражка,мелодрама',\n",
       "       'мультфильм,семейный,спорт', 'комедия,фэнтези,мелодрама',\n",
       "       'драма,спорт,комедия', 'история,драма,мелодрама',\n",
       "       'драма,боевик,криминал', 'драма,комедия,триллер',\n",
       "       'аниме,мультфильм', 'документальный,ужасы',\n",
       "       'мультфильм,короткометражка', 'драма,история,военный',\n",
       "       'мультфильм,короткометражка,фэнтези', 'комедия,военный,музыка',\n",
       "       'биография,история,драма', 'ужасы,драма,мелодрама',\n",
       "       'драма,комедия,детектив', 'комедия,семейный,фантастика',\n",
       "       'мультфильм,семейный,комедия', 'история,детектив',\n",
       "       'приключения,мелодрама,детектив', 'мюзикл,комедия,мелодрама',\n",
       "       'драма,фантастика,ужасы', 'мультфильм,ужасы,комедия',\n",
       "       'для взрослых,драма,комедия', 'ужасы,комедия,музыка',\n",
       "       'комедия,история,драма', 'семейный,детектив,детский',\n",
       "       'короткометражка,драма', 'документальный,новости,драма',\n",
       "       'триллер,мелодрама', 'ужасы,драма,вестерн',\n",
       "       'мюзикл,фэнтези,семейный', 'вестерн,драма,триллер',\n",
       "       'приключения,вестерн,боевик', 'семейный,комедия,музыка',\n",
       "       'боевик,драма,вестерн', 'ужасы,драма,триллер',\n",
       "       'фантастика,мелодрама', 'комедия,криминал,биография',\n",
       "       'семейный,мультфильм,комедия', 'комедия,драма,криминал',\n",
       "       'фантастика,боевик,военный', 'приключения,биография,драма',\n",
       "       'приключения,триллер,биография', 'криминал,боевик,триллер',\n",
       "       'боевик,вестерн,приключения', 'история,драма',\n",
       "       'фантастика,фэнтези,комедия', 'мультфильм,детский,комедия',\n",
       "       'мелодрама,комедия,триллер', 'документальный,боевик,приключения',\n",
       "       'драма,приключения', 'мелодрама,военный,драма', 'триллер,фэнтези',\n",
       "       'драма,триллер,биография', 'фэнтези,боевик,семейный',\n",
       "       'фантастика,триллер,комедия', 'документальный,фэнтези',\n",
       "       'комедия,мультфильм,фантастика', 'криминал,биография,комедия',\n",
       "       'биография,спорт,драма', 'приключения,военный',\n",
       "       'мультфильм,семейный,драма', 'документальный,фэнтези,драма',\n",
       "       'комедия,боевик,фантастика', 'семейный,приключения,военный',\n",
       "       'триллер,ужасы,детектив', 'короткометражка',\n",
       "       'мелодрама,триллер,история', 'документальный,история',\n",
       "       'мультфильм,приключения,детский', 'драма,комедия,мультфильм',\n",
       "       'военный,детектив', 'семейный,приключения,документальный',\n",
       "       'детский,фэнтези', 'документальный,комедия', 'комедия,биография',\n",
       "       'криминал,комедия', 'спорт,мелодрама,криминал',\n",
       "       'фантастика,комедия,боевик', 'боевик,приключения,детектив',\n",
       "       'детектив,триллер,драма', 'документальный,фантастика',\n",
       "       'мелодрама,комедия,семейный', 'мультфильм,мелодрама,комедия',\n",
       "       'драма,спорт,семейный', 'фантастика,мелодрама,фэнтези',\n",
       "       'мюзикл,комедия,музыка', 'фантастика,триллер,мелодрама',\n",
       "       'приключения,комедия,фэнтези', 'фэнтези,боевик,детектив',\n",
       "       'фэнтези,боевик,мелодрама', 'комедия,военный',\n",
       "       'драма,спорт,боевик', 'мультфильм,боевик,триллер',\n",
       "       'мелодрама,семейный', 'фантастика,боевик,детектив',\n",
       "       'драма,приключения,история', 'документальный,драма,музыка',\n",
       "       'фантастика,триллер,боевик', 'фэнтези,боевик,вестерн',\n",
       "       'драма,комедия,мелодрама', 'ужасы,фэнтези,приключения',\n",
       "       'триллер,фэнтези,драма', 'мультфильм,мюзикл,мелодрама',\n",
       "       'ужасы,триллер,фантастика', 'триллер,мелодрама,комедия',\n",
       "       'ужасы,комедия,семейный', 'комедия,приключения,музыка',\n",
       "       'документальный,комедия,криминал', 'мелодрама,детектив',\n",
       "       'детский,приключения,фантастика', 'короткометражка,боевик,драма',\n",
       "       'боевик,комедия,семейный', 'фантастика,боевик,мелодрама',\n",
       "       'фэнтези,триллер,мелодрама', 'драма,детектив,история',\n",
       "       'боевик,криминал,детектив', 'мультфильм,фэнтези,мелодрама',\n",
       "       'мелодрама,драма,боевик', 'драма,вестерн,приключения',\n",
       "       'драма,приключения,мелодрама', 'фэнтези,боевик,криминал',\n",
       "       'фантастика,комедия,семейный', 'детский,фэнтези,приключения',\n",
       "       'ужасы,боевик', 'фантастика,мелодрама,комедия',\n",
       "       'семейный,спорт,боевик', 'триллер,биография,драма',\n",
       "       'ужасы,драма,комедия', 'мультфильм,фэнтези,триллер', 'мюзикл',\n",
       "       'боевик,спорт,драма', 'комедия,приключения,вестерн',\n",
       "       'документальный,ужасы,боевик', 'фантастика,боевик,семейный',\n",
       "       'военный,история', 'ужасы,боевик,криминал', 'детектив,триллер',\n",
       "       'драма,семейный,комедия', 'драма,детектив,приключения',\n",
       "       'драма,криминал,история', 'приключения,триллер',\n",
       "       'боевик,драма,биография', 'драма,приключения,триллер',\n",
       "       'комедия,фэнтези,приключения', 'фантастика,боевик,ужасы',\n",
       "       'драма,комедия,фантастика', 'детектив,криминал,драма',\n",
       "       'боевик,триллер,фэнтези', 'приключения,детектив,семейный',\n",
       "       'ужасы,комедия,криминал', 'мультфильм,биография,драма',\n",
       "       'история,боевик,фэнтези', 'детектив,криминал,боевик',\n",
       "       'приключения,фэнтези', 'комедия,приключения,спорт',\n",
       "       'драма,биография,мюзикл', 'комедия,семейный,фэнтези',\n",
       "       'детектив,драма,триллер', 'боевик,приключения,семейный',\n",
       "       'биография,спорт,комедия', 'фантастика,приключения,военный',\n",
       "       'документальный,драма,биография', 'детектив,приключения,драма',\n",
       "       'аниме,мультфильм,приключения', 'семейный,приключения',\n",
       "       'ужасы,фэнтези,детектив', 'семейный,документальный',\n",
       "       'драма,приключения,семейный', 'приключения,история,военный',\n",
       "       'фэнтези,мелодрама', 'фэнтези,триллер,детектив',\n",
       "       'документальный,спорт,биография', 'комедия,триллер,драма',\n",
       "       'драма,ужасы', 'биография,музыка,драма', 'фэнтези,ужасы',\n",
       "       'детектив,мелодрама,фэнтези', 'боевик,военный,история',\n",
       "       'биография,драма,криминал', 'триллер,мелодрама,криминал',\n",
       "       'семейный,мелодрама', 'биография,драма', 'военный,история,драма',\n",
       "       'фантастика,детектив,фэнтези', 'детектив,приключения,триллер',\n",
       "       'фантастика,приключения', 'мультфильм,короткометражка,мюзикл',\n",
       "       'мультфильм,детский,семейный', 'документальный,драма,комедия',\n",
       "       'комедия,приключения,криминал', 'документальный,семейный,музыка',\n",
       "       'мелодрама,музыка,драма', 'детектив,фантастика,триллер',\n",
       "       'драма,мелодрама,триллер', 'биография,драма,военный',\n",
       "       'приключения,фантастика,драма', 'детектив,фильм-нуар,комедия',\n",
       "       'документальный,спорт', 'триллер,фантастика,драма',\n",
       "       'биография,документальный', 'ужасы,фантастика,мелодрама',\n",
       "       'детектив,комедия', 'история,биография,военный',\n",
       "       'криминал,мелодрама', 'драма,криминал,вестерн',\n",
       "       'мелодрама,семейный,приключения', 'триллер,ужасы,мелодрама',\n",
       "       'фэнтези,драма,фильм-нуар', 'детектив,мелодрама',\n",
       "       'комедия,драма,биография', 'драма,военный,боевик',\n",
       "       'драма,комедия,ужасы', 'фантастика,драма,криминал',\n",
       "       'документальный,музыка,биография', 'мультфильм,боевик,приключения',\n",
       "       'мультфильм,мелодрама,драма', 'боевик,военный,драма',\n",
       "       'фэнтези,семейный,приключения', 'детский,мультфильм,приключения',\n",
       "       'семейный,фэнтези,комедия', 'фэнтези,ужасы,триллер',\n",
       "       'ужасы,триллер,приключения', 'драма,боевик,история',\n",
       "       'фэнтези,комедия,детектив', 'история,приключения',\n",
       "       'аниме,мультфильм,короткометражка', 'драма,военный,триллер',\n",
       "       'биография,криминал,триллер', 'фантастика,фэнтези,детектив',\n",
       "       'вестерн,биография,драма', 'биография,музыка,мюзикл',\n",
       "       'драма,история,биография', 'приключения,драма,фантастика',\n",
       "       'комедия,фэнтези,криминал', 'биография,спорт,история',\n",
       "       'драма,криминал,семейный', 'детектив,боевик,история',\n",
       "       'ужасы,комедия,детектив', 'триллер,приключения,драма',\n",
       "       'фэнтези,комедия,криминал', 'триллер,криминал,приключения',\n",
       "       'комедия,детектив,приключения', 'фэнтези,драма,ужасы',\n",
       "       'ужасы,драма,военный', 'реальное ТВ', 'аниме,мультфильм,детектив',\n",
       "       'приключения,фэнтези,семейный', 'драма,биография,комедия',\n",
       "       'триллер,комедия,ужасы', 'музыка,мелодрама,фэнтези',\n",
       "       'мультфильм,история', 'мультфильм,комедия,фантастика',\n",
       "       'биография,криминал,драма', 'комедия,мелодрама,фантастика',\n",
       "       'криминал,боевик,комедия', 'история,криминал',\n",
       "       'детектив,комедия,драма', 'триллер,фантастика,боевик',\n",
       "       'криминал,боевик', 'комедия,драма,военный',\n",
       "       'драма,триллер,криминал', 'мультфильм,мелодрама,приключения',\n",
       "       'фантастика,фэнтези,триллер', 'короткометражка,драма,триллер',\n",
       "       'военный,боевик,история', 'боевик,драма,триллер',\n",
       "       'документальный,военный,драма', 'драма,криминал,фильм-нуар',\n",
       "       'мультфильм,детский,приключения', 'мелодрама,история,драма'],\n",
       "      dtype=object)"
      ]
     },
     "execution_count": 18,
     "metadata": {},
     "output_type": "execute_result"
    }
   ],
   "source": [
    "data['genres'].unique()"
   ]
  },
  {
   "cell_type": "code",
   "execution_count": 19,
   "metadata": {},
   "outputs": [],
   "source": [
    "data['title'] = data['title'].str.strip()\n",
    "data['production_country'] = data['production_country'].str.strip()\n",
    "data['film_studio'] = data['film_studio'].str.strip()\n",
    "data['director'] = data['director'].str.strip()\n",
    "data['producer'] = data['producer'].str.strip()\n",
    "data['age_restriction'] = data['age_restriction'].str.strip()\n",
    "data['financing_source'] = data['financing_source'].str.strip()\n",
    "data['ratings'] = data['ratings'].str.strip()\n",
    "data['genres'] = data['genres'].str.split(',')"
   ]
  },
  {
   "cell_type": "code",
   "execution_count": 20,
   "metadata": {},
   "outputs": [
    {
     "data": {
      "text/html": [
       "<div>\n",
       "<style scoped>\n",
       "    .dataframe tbody tr th:only-of-type {\n",
       "        vertical-align: middle;\n",
       "    }\n",
       "\n",
       "    .dataframe tbody tr th {\n",
       "        vertical-align: top;\n",
       "    }\n",
       "\n",
       "    .dataframe thead th {\n",
       "        text-align: right;\n",
       "    }\n",
       "</style>\n",
       "<table border=\"1\" class=\"dataframe\">\n",
       "  <thead>\n",
       "    <tr style=\"text-align: right;\">\n",
       "      <th></th>\n",
       "      <th>title</th>\n",
       "      <th>puNumber</th>\n",
       "      <th>show_start_date</th>\n",
       "      <th>type</th>\n",
       "      <th>film_studio</th>\n",
       "      <th>production_country</th>\n",
       "      <th>director</th>\n",
       "      <th>producer</th>\n",
       "      <th>age_restriction</th>\n",
       "      <th>refundable_support</th>\n",
       "      <th>nonrefundable_support</th>\n",
       "      <th>budget</th>\n",
       "      <th>financing_source</th>\n",
       "      <th>ratings</th>\n",
       "      <th>genres</th>\n",
       "      <th>box_office</th>\n",
       "    </tr>\n",
       "  </thead>\n",
       "  <tbody>\n",
       "    <tr>\n",
       "      <th>0</th>\n",
       "      <td>Открытый простор</td>\n",
       "      <td>221048915</td>\n",
       "      <td>2015-11-27 12:00:00+00:00</td>\n",
       "      <td>Художественный</td>\n",
       "      <td>Тачстоун Пикчерз, Кобальт Пикчерз, Бикон Пикче...</td>\n",
       "      <td>США</td>\n",
       "      <td>Кевин Костнер</td>\n",
       "      <td>Дэвид Валдес, Кевин Костнер, Джейк Эбертс</td>\n",
       "      <td>«18+» - запрещено для детей</td>\n",
       "      <td>0</td>\n",
       "      <td>0</td>\n",
       "      <td>0</td>\n",
       "      <td>Другой</td>\n",
       "      <td>7.2</td>\n",
       "      <td>[боевик, драма, мелодрама]</td>\n",
       "      <td>NaN</td>\n",
       "    </tr>\n",
       "    <tr>\n",
       "      <th>1</th>\n",
       "      <td>Особо важное задание</td>\n",
       "      <td>111013716</td>\n",
       "      <td>2016-09-13 12:00:00+00:00</td>\n",
       "      <td>Художественный</td>\n",
       "      <td>Киностудия \"Мосфильм\"</td>\n",
       "      <td>СССР</td>\n",
       "      <td>Е.Матвеев</td>\n",
       "      <td>Другой</td>\n",
       "      <td>«6+» - для детей старше 6 лет</td>\n",
       "      <td>0</td>\n",
       "      <td>0</td>\n",
       "      <td>0</td>\n",
       "      <td>Другой</td>\n",
       "      <td>6.6</td>\n",
       "      <td>[драма, военный]</td>\n",
       "      <td>NaN</td>\n",
       "    </tr>\n",
       "    <tr>\n",
       "      <th>2</th>\n",
       "      <td>Особо опасен</td>\n",
       "      <td>221038416</td>\n",
       "      <td>2016-10-10 12:00:00+00:00</td>\n",
       "      <td>Художественный</td>\n",
       "      <td>Юниверсал Пикчерз, Кикстарт Продакшнз, Марк Пл...</td>\n",
       "      <td>США</td>\n",
       "      <td>Тимур Бекмамбетов</td>\n",
       "      <td>Джим Лемли, Джейсон Нетер, Марк Е.Платт, Яйн Смит</td>\n",
       "      <td>«18+» - запрещено для детей</td>\n",
       "      <td>0</td>\n",
       "      <td>0</td>\n",
       "      <td>0</td>\n",
       "      <td>Другой</td>\n",
       "      <td>6.8</td>\n",
       "      <td>[фантастика, боевик, триллер]</td>\n",
       "      <td>NaN</td>\n",
       "    </tr>\n",
       "    <tr>\n",
       "      <th>3</th>\n",
       "      <td>Особо опасен</td>\n",
       "      <td>221026916</td>\n",
       "      <td>2016-06-10 12:00:00+00:00</td>\n",
       "      <td>Художественный</td>\n",
       "      <td>Юниверсал Пикчерз, Кикстарт Продакшнз, Марк Пл...</td>\n",
       "      <td>США</td>\n",
       "      <td>Тимур Бекмамбетов</td>\n",
       "      <td>Джим Лемли, Джейсон Нетер, Марк Е.Платт, Яйн Смит</td>\n",
       "      <td>«18+» - запрещено для детей</td>\n",
       "      <td>0</td>\n",
       "      <td>0</td>\n",
       "      <td>0</td>\n",
       "      <td>Другой</td>\n",
       "      <td>6.8</td>\n",
       "      <td>[фантастика, боевик, триллер]</td>\n",
       "      <td>NaN</td>\n",
       "    </tr>\n",
       "    <tr>\n",
       "      <th>4</th>\n",
       "      <td>Особо опасен</td>\n",
       "      <td>221030815</td>\n",
       "      <td>2015-07-29 12:00:00+00:00</td>\n",
       "      <td>Художественный</td>\n",
       "      <td>Юниверсал Пикчерз, Кикстарт Продакшнз, Марк Пл...</td>\n",
       "      <td>США</td>\n",
       "      <td>Тимур Бекмамбетов</td>\n",
       "      <td>Джим Лемли, Джейсон Нетер, Марк Е.Платт, Яйн Смит</td>\n",
       "      <td>«18+» - запрещено для детей</td>\n",
       "      <td>0</td>\n",
       "      <td>0</td>\n",
       "      <td>0</td>\n",
       "      <td>Другой</td>\n",
       "      <td>6.8</td>\n",
       "      <td>[фантастика, боевик, триллер]</td>\n",
       "      <td>NaN</td>\n",
       "    </tr>\n",
       "    <tr>\n",
       "      <th>...</th>\n",
       "      <td>...</td>\n",
       "      <td>...</td>\n",
       "      <td>...</td>\n",
       "      <td>...</td>\n",
       "      <td>...</td>\n",
       "      <td>...</td>\n",
       "      <td>...</td>\n",
       "      <td>...</td>\n",
       "      <td>...</td>\n",
       "      <td>...</td>\n",
       "      <td>...</td>\n",
       "      <td>...</td>\n",
       "      <td>...</td>\n",
       "      <td>...</td>\n",
       "      <td>...</td>\n",
       "      <td>...</td>\n",
       "    </tr>\n",
       "    <tr>\n",
       "      <th>7480</th>\n",
       "      <td>Сад художника: Американский импрессионизм</td>\n",
       "      <td>126008019</td>\n",
       "      <td>2019-12-23 12:00:00+00:00</td>\n",
       "      <td>Прочие</td>\n",
       "      <td>Севен Артс Продакшнз</td>\n",
       "      <td>Великобритания</td>\n",
       "      <td>Фил Грабски</td>\n",
       "      <td>Фил Грабски</td>\n",
       "      <td>«12+» - для детей старше 12 лет</td>\n",
       "      <td>0</td>\n",
       "      <td>0</td>\n",
       "      <td>0</td>\n",
       "      <td>Другой</td>\n",
       "      <td>NaN</td>\n",
       "      <td>[nan]</td>\n",
       "      <td>NaN</td>\n",
       "    </tr>\n",
       "    <tr>\n",
       "      <th>7481</th>\n",
       "      <td>Звериная ярость</td>\n",
       "      <td>121037819</td>\n",
       "      <td>2019-12-24 12:00:00+00:00</td>\n",
       "      <td>Художественный</td>\n",
       "      <td>Дэниел Гродник Продакшнз, Вандерфилм Медиа Кор...</td>\n",
       "      <td>США</td>\n",
       "      <td>Ник Пауэлл</td>\n",
       "      <td>Джефф Боулер, Дэниэл Гродник, Луильо Руис, Брэ...</td>\n",
       "      <td>«16+» - для детей старше 16 лет</td>\n",
       "      <td>0</td>\n",
       "      <td>0</td>\n",
       "      <td>0</td>\n",
       "      <td>Другой</td>\n",
       "      <td>5.4</td>\n",
       "      <td>[боевик, триллер]</td>\n",
       "      <td>NaN</td>\n",
       "    </tr>\n",
       "    <tr>\n",
       "      <th>7482</th>\n",
       "      <td>Щенячий патруль: Скорей спешим на помощь!</td>\n",
       "      <td>124010819</td>\n",
       "      <td>2019-12-28 12:00:00+00:00</td>\n",
       "      <td>Художественный</td>\n",
       "      <td>Никелодеон Анимейшн Студиос, Спин Мастер</td>\n",
       "      <td>США - Канада</td>\n",
       "      <td>Чарльз Е.Бастьен</td>\n",
       "      <td>Дженнифер Додж</td>\n",
       "      <td>«0+» - для любой зрительской аудитории</td>\n",
       "      <td>0</td>\n",
       "      <td>0</td>\n",
       "      <td>0</td>\n",
       "      <td>Другой</td>\n",
       "      <td>NaN</td>\n",
       "      <td>[nan]</td>\n",
       "      <td>NaN</td>\n",
       "    </tr>\n",
       "    <tr>\n",
       "      <th>7483</th>\n",
       "      <td>Машины песенки. Серия \"Испанские мотивы\"</td>\n",
       "      <td>124010619</td>\n",
       "      <td>2019-12-30 12:00:00+00:00</td>\n",
       "      <td>Анимационный</td>\n",
       "      <td>Анимаккорд Лтд., ООО Студия \"АНИМАККОРД\"</td>\n",
       "      <td>Республика Кипр, Россия</td>\n",
       "      <td>А.Беляев</td>\n",
       "      <td>Д.Ловейко</td>\n",
       "      <td>«0+» - для любой зрительской аудитории</td>\n",
       "      <td>0</td>\n",
       "      <td>0</td>\n",
       "      <td>0</td>\n",
       "      <td>Другой</td>\n",
       "      <td>NaN</td>\n",
       "      <td>[nan]</td>\n",
       "      <td>NaN</td>\n",
       "    </tr>\n",
       "    <tr>\n",
       "      <th>7484</th>\n",
       "      <td>Машины песенки. Серия \"Когда цветут кактусы\"</td>\n",
       "      <td>124010719</td>\n",
       "      <td>2019-12-30 12:00:00+00:00</td>\n",
       "      <td>Анимационный</td>\n",
       "      <td>Анимаккорд Лтд., ООО Студия \"АНИМАККОРД\"</td>\n",
       "      <td>Республика Кипр, Россия</td>\n",
       "      <td>И.Трусов</td>\n",
       "      <td>Д.Ловейко</td>\n",
       "      <td>«0+» - для любой зрительской аудитории</td>\n",
       "      <td>0</td>\n",
       "      <td>0</td>\n",
       "      <td>0</td>\n",
       "      <td>Другой</td>\n",
       "      <td>6.3</td>\n",
       "      <td>[комедия, вестерн]</td>\n",
       "      <td>NaN</td>\n",
       "    </tr>\n",
       "  </tbody>\n",
       "</table>\n",
       "<p>7458 rows × 16 columns</p>\n",
       "</div>"
      ],
      "text/plain": [
       "                                             title   puNumber  \\\n",
       "0                                 Открытый простор  221048915   \n",
       "1                             Особо важное задание  111013716   \n",
       "2                                     Особо опасен  221038416   \n",
       "3                                     Особо опасен  221026916   \n",
       "4                                     Особо опасен  221030815   \n",
       "...                                            ...        ...   \n",
       "7480     Сад художника: Американский импрессионизм  126008019   \n",
       "7481                               Звериная ярость  121037819   \n",
       "7482     Щенячий патруль: Скорей спешим на помощь!  124010819   \n",
       "7483      Машины песенки. Серия \"Испанские мотивы\"  124010619   \n",
       "7484  Машины песенки. Серия \"Когда цветут кактусы\"  124010719   \n",
       "\n",
       "               show_start_date            type  \\\n",
       "0    2015-11-27 12:00:00+00:00  Художественный   \n",
       "1    2016-09-13 12:00:00+00:00  Художественный   \n",
       "2    2016-10-10 12:00:00+00:00  Художественный   \n",
       "3    2016-06-10 12:00:00+00:00  Художественный   \n",
       "4    2015-07-29 12:00:00+00:00  Художественный   \n",
       "...                        ...             ...   \n",
       "7480 2019-12-23 12:00:00+00:00          Прочие   \n",
       "7481 2019-12-24 12:00:00+00:00  Художественный   \n",
       "7482 2019-12-28 12:00:00+00:00  Художественный   \n",
       "7483 2019-12-30 12:00:00+00:00    Анимационный   \n",
       "7484 2019-12-30 12:00:00+00:00    Анимационный   \n",
       "\n",
       "                                            film_studio  \\\n",
       "0     Тачстоун Пикчерз, Кобальт Пикчерз, Бикон Пикче...   \n",
       "1                                 Киностудия \"Мосфильм\"   \n",
       "2     Юниверсал Пикчерз, Кикстарт Продакшнз, Марк Пл...   \n",
       "3     Юниверсал Пикчерз, Кикстарт Продакшнз, Марк Пл...   \n",
       "4     Юниверсал Пикчерз, Кикстарт Продакшнз, Марк Пл...   \n",
       "...                                                 ...   \n",
       "7480                               Севен Артс Продакшнз   \n",
       "7481  Дэниел Гродник Продакшнз, Вандерфилм Медиа Кор...   \n",
       "7482           Никелодеон Анимейшн Студиос, Спин Мастер   \n",
       "7483           Анимаккорд Лтд., ООО Студия \"АНИМАККОРД\"   \n",
       "7484           Анимаккорд Лтд., ООО Студия \"АНИМАККОРД\"   \n",
       "\n",
       "           production_country           director  \\\n",
       "0                         США      Кевин Костнер   \n",
       "1                        СССР          Е.Матвеев   \n",
       "2                         США  Тимур Бекмамбетов   \n",
       "3                         США  Тимур Бекмамбетов   \n",
       "4                         США  Тимур Бекмамбетов   \n",
       "...                       ...                ...   \n",
       "7480           Великобритания        Фил Грабски   \n",
       "7481                      США         Ник Пауэлл   \n",
       "7482             США - Канада   Чарльз Е.Бастьен   \n",
       "7483  Республика Кипр, Россия           А.Беляев   \n",
       "7484  Республика Кипр, Россия           И.Трусов   \n",
       "\n",
       "                                               producer  \\\n",
       "0             Дэвид Валдес, Кевин Костнер, Джейк Эбертс   \n",
       "1                                                Другой   \n",
       "2     Джим Лемли, Джейсон Нетер, Марк Е.Платт, Яйн Смит   \n",
       "3     Джим Лемли, Джейсон Нетер, Марк Е.Платт, Яйн Смит   \n",
       "4     Джим Лемли, Джейсон Нетер, Марк Е.Платт, Яйн Смит   \n",
       "...                                                 ...   \n",
       "7480                                        Фил Грабски   \n",
       "7481  Джефф Боулер, Дэниэл Гродник, Луильо Руис, Брэ...   \n",
       "7482                                     Дженнифер Додж   \n",
       "7483                                          Д.Ловейко   \n",
       "7484                                          Д.Ловейко   \n",
       "\n",
       "                             age_restriction  refundable_support  \\\n",
       "0                «18+» - запрещено для детей                   0   \n",
       "1              «6+» - для детей старше 6 лет                   0   \n",
       "2                «18+» - запрещено для детей                   0   \n",
       "3                «18+» - запрещено для детей                   0   \n",
       "4                «18+» - запрещено для детей                   0   \n",
       "...                                      ...                 ...   \n",
       "7480         «12+» - для детей старше 12 лет                   0   \n",
       "7481         «16+» - для детей старше 16 лет                   0   \n",
       "7482  «0+» - для любой зрительской аудитории                   0   \n",
       "7483  «0+» - для любой зрительской аудитории                   0   \n",
       "7484  «0+» - для любой зрительской аудитории                   0   \n",
       "\n",
       "      nonrefundable_support  budget financing_source ratings  \\\n",
       "0                         0       0           Другой     7.2   \n",
       "1                         0       0           Другой     6.6   \n",
       "2                         0       0           Другой     6.8   \n",
       "3                         0       0           Другой     6.8   \n",
       "4                         0       0           Другой     6.8   \n",
       "...                     ...     ...              ...     ...   \n",
       "7480                      0       0           Другой     NaN   \n",
       "7481                      0       0           Другой     5.4   \n",
       "7482                      0       0           Другой     NaN   \n",
       "7483                      0       0           Другой     NaN   \n",
       "7484                      0       0           Другой     6.3   \n",
       "\n",
       "                             genres box_office  \n",
       "0        [боевик, драма, мелодрама]        NaN  \n",
       "1                  [драма, военный]        NaN  \n",
       "2     [фантастика, боевик, триллер]        NaN  \n",
       "3     [фантастика, боевик, триллер]        NaN  \n",
       "4     [фантастика, боевик, триллер]        NaN  \n",
       "...                             ...        ...  \n",
       "7480                          [nan]        NaN  \n",
       "7481              [боевик, триллер]        NaN  \n",
       "7482                          [nan]        NaN  \n",
       "7483                          [nan]        NaN  \n",
       "7484             [комедия, вестерн]        NaN  \n",
       "\n",
       "[7458 rows x 16 columns]"
      ]
     },
     "metadata": {},
     "output_type": "display_data"
    }
   ],
   "source": [
    "display(data)"
   ]
  },
  {
   "cell_type": "markdown",
   "metadata": {},
   "source": [
    "<div class=\"alert alert-info\">\n",
    "<b> В столбцах \"жанр\" и \"источник финансирования\" несколько типов категорий объединены в одну. Категории разделены для дальнейшей группировки.</b> \n",
    "</div>"
   ]
  },
  {
   "cell_type": "code",
   "execution_count": 21,
   "metadata": {
    "scrolled": true
   },
   "outputs": [
    {
     "data": {
      "text/html": [
       "<div>\n",
       "<style scoped>\n",
       "    .dataframe tbody tr th:only-of-type {\n",
       "        vertical-align: middle;\n",
       "    }\n",
       "\n",
       "    .dataframe tbody tr th {\n",
       "        vertical-align: top;\n",
       "    }\n",
       "\n",
       "    .dataframe thead th {\n",
       "        text-align: right;\n",
       "    }\n",
       "</style>\n",
       "<table border=\"1\" class=\"dataframe\">\n",
       "  <thead>\n",
       "    <tr style=\"text-align: right;\">\n",
       "      <th></th>\n",
       "      <th>title</th>\n",
       "      <th>puNumber</th>\n",
       "      <th>show_start_date</th>\n",
       "      <th>type</th>\n",
       "      <th>film_studio</th>\n",
       "      <th>production_country</th>\n",
       "      <th>director</th>\n",
       "      <th>producer</th>\n",
       "      <th>age_restriction</th>\n",
       "      <th>refundable_support</th>\n",
       "      <th>nonrefundable_support</th>\n",
       "      <th>budget</th>\n",
       "      <th>financing_source</th>\n",
       "      <th>ratings</th>\n",
       "      <th>genres</th>\n",
       "      <th>box_office</th>\n",
       "    </tr>\n",
       "  </thead>\n",
       "  <tbody>\n",
       "    <tr>\n",
       "      <th>1281</th>\n",
       "      <td>Пока еще жива</td>\n",
       "      <td>111005313</td>\n",
       "      <td>2013-10-11 12:00:00+00:00</td>\n",
       "      <td>Художественный</td>\n",
       "      <td>АНО содействия развитию кинематографии \"Ангел-...</td>\n",
       "      <td>Россия</td>\n",
       "      <td>А.Атанесян</td>\n",
       "      <td>А.Атанесян, М.Бабаханов, Р.Бутко</td>\n",
       "      <td>«16+» - для детей старше 16 лет</td>\n",
       "      <td>0</td>\n",
       "      <td>26500000</td>\n",
       "      <td>79411900</td>\n",
       "      <td>Министерство культуры</td>\n",
       "      <td>8.1</td>\n",
       "      <td>[драма, мелодрама]</td>\n",
       "      <td>365353.6</td>\n",
       "    </tr>\n",
       "    <tr>\n",
       "      <th>1448</th>\n",
       "      <td>Бесславные придурки</td>\n",
       "      <td>111003314</td>\n",
       "      <td>2014-03-28 12:00:00+00:00</td>\n",
       "      <td>Художественный</td>\n",
       "      <td>ООО \"Компания \"АТК-Студио\"</td>\n",
       "      <td>Россия</td>\n",
       "      <td>А.Якимчук</td>\n",
       "      <td>А.Тютрюмов</td>\n",
       "      <td>«12+» - для детей старше 12 лет</td>\n",
       "      <td>0</td>\n",
       "      <td>26000000</td>\n",
       "      <td>37142857</td>\n",
       "      <td>Министерство культуры</td>\n",
       "      <td>NaN</td>\n",
       "      <td>[nan]</td>\n",
       "      <td>28140.0</td>\n",
       "    </tr>\n",
       "    <tr>\n",
       "      <th>1498</th>\n",
       "      <td>Невидимки</td>\n",
       "      <td>111004213</td>\n",
       "      <td>2013-09-10 12:00:00+00:00</td>\n",
       "      <td>Художественный</td>\n",
       "      <td>ООО \"Компания \"РЕАЛ-ДАКОТА\"</td>\n",
       "      <td>Россия</td>\n",
       "      <td>Р.Давлетьяров, С.Комаров</td>\n",
       "      <td>Р.Давлетьяров, А.Котелевский, А.Олейников</td>\n",
       "      <td>«12+» - для детей старше 12 лет</td>\n",
       "      <td>0</td>\n",
       "      <td>107847945</td>\n",
       "      <td>176023490</td>\n",
       "      <td>Фонд кино</td>\n",
       "      <td>5.3</td>\n",
       "      <td>[комедия, фантастика]</td>\n",
       "      <td>19957031.5</td>\n",
       "    </tr>\n",
       "    <tr>\n",
       "      <th>1524</th>\n",
       "      <td>БЕРЦЫ</td>\n",
       "      <td>111004314</td>\n",
       "      <td>2014-05-05 12:00:00+00:00</td>\n",
       "      <td>Художественный</td>\n",
       "      <td>ООО \"Студия \"Пассажир\"</td>\n",
       "      <td>Россия</td>\n",
       "      <td>Е.Миндадзе (псевдоним Катя Шагалова)</td>\n",
       "      <td>Л.Антонова</td>\n",
       "      <td>«16+» - для детей старше 16 лет</td>\n",
       "      <td>0</td>\n",
       "      <td>28000000</td>\n",
       "      <td>40574140</td>\n",
       "      <td>Министерство культуры</td>\n",
       "      <td>4.2</td>\n",
       "      <td>[драма]</td>\n",
       "      <td>55917.5</td>\n",
       "    </tr>\n",
       "    <tr>\n",
       "      <th>1792</th>\n",
       "      <td>Братья Ч</td>\n",
       "      <td>111004414</td>\n",
       "      <td>2014-04-23 12:00:00+00:00</td>\n",
       "      <td>Художественный</td>\n",
       "      <td>ООО \"Студия \"Пассажир\"</td>\n",
       "      <td>Россия</td>\n",
       "      <td>М.Угаров</td>\n",
       "      <td>А.Миндадзе, Л.Антонова</td>\n",
       "      <td>«16+» - для детей старше 16 лет</td>\n",
       "      <td>0</td>\n",
       "      <td>25000000</td>\n",
       "      <td>40015122</td>\n",
       "      <td>Министерство культуры</td>\n",
       "      <td>6.4</td>\n",
       "      <td>[драма]</td>\n",
       "      <td>232100.0</td>\n",
       "    </tr>\n",
       "  </tbody>\n",
       "</table>\n",
       "</div>"
      ],
      "text/plain": [
       "                    title   puNumber           show_start_date  \\\n",
       "1281        Пока еще жива  111005313 2013-10-11 12:00:00+00:00   \n",
       "1448  Бесславные придурки  111003314 2014-03-28 12:00:00+00:00   \n",
       "1498            Невидимки  111004213 2013-09-10 12:00:00+00:00   \n",
       "1524                БЕРЦЫ  111004314 2014-05-05 12:00:00+00:00   \n",
       "1792             Братья Ч  111004414 2014-04-23 12:00:00+00:00   \n",
       "\n",
       "                type                                        film_studio  \\\n",
       "1281  Художественный  АНО содействия развитию кинематографии \"Ангел-...   \n",
       "1448  Художественный                         ООО \"Компания \"АТК-Студио\"   \n",
       "1498  Художественный                        ООО \"Компания \"РЕАЛ-ДАКОТА\"   \n",
       "1524  Художественный                             ООО \"Студия \"Пассажир\"   \n",
       "1792  Художественный                             ООО \"Студия \"Пассажир\"   \n",
       "\n",
       "     production_country                              director  \\\n",
       "1281             Россия                            А.Атанесян   \n",
       "1448             Россия                             А.Якимчук   \n",
       "1498             Россия              Р.Давлетьяров, С.Комаров   \n",
       "1524             Россия  Е.Миндадзе (псевдоним Катя Шагалова)   \n",
       "1792             Россия                              М.Угаров   \n",
       "\n",
       "                                       producer  \\\n",
       "1281           А.Атанесян, М.Бабаханов, Р.Бутко   \n",
       "1448                                 А.Тютрюмов   \n",
       "1498  Р.Давлетьяров, А.Котелевский, А.Олейников   \n",
       "1524                                 Л.Антонова   \n",
       "1792                     А.Миндадзе, Л.Антонова   \n",
       "\n",
       "                      age_restriction  refundable_support  \\\n",
       "1281  «16+» - для детей старше 16 лет                   0   \n",
       "1448  «12+» - для детей старше 12 лет                   0   \n",
       "1498  «12+» - для детей старше 12 лет                   0   \n",
       "1524  «16+» - для детей старше 16 лет                   0   \n",
       "1792  «16+» - для детей старше 16 лет                   0   \n",
       "\n",
       "      nonrefundable_support     budget       financing_source ratings  \\\n",
       "1281               26500000   79411900  Министерство культуры     8.1   \n",
       "1448               26000000   37142857  Министерство культуры     NaN   \n",
       "1498              107847945  176023490              Фонд кино     5.3   \n",
       "1524               28000000   40574140  Министерство культуры     4.2   \n",
       "1792               25000000   40015122  Министерство культуры     6.4   \n",
       "\n",
       "                     genres  box_office  \n",
       "1281     [драма, мелодрама]    365353.6  \n",
       "1448                  [nan]     28140.0  \n",
       "1498  [комедия, фантастика]  19957031.5  \n",
       "1524                [драма]     55917.5  \n",
       "1792                [драма]    232100.0  "
      ]
     },
     "metadata": {},
     "output_type": "display_data"
    },
    {
     "data": {
      "text/plain": [
       "array([[<AxesSubplot:title={'center':'puNumber'}>,\n",
       "        <AxesSubplot:title={'center':'show_start_date'}>],\n",
       "       [<AxesSubplot:title={'center':'refundable_support'}>,\n",
       "        <AxesSubplot:title={'center':'nonrefundable_support'}>],\n",
       "       [<AxesSubplot:title={'center':'budget'}>, <AxesSubplot:>]],\n",
       "      dtype=object)"
      ]
     },
     "execution_count": 21,
     "metadata": {},
     "output_type": "execute_result"
    },
    {
     "data": {
      "image/png": "[encoded data removed]",
      "text/plain": [
       "<Figure size 1440x1440 with 6 Axes>"
      ]
     },
     "metadata": {
      "needs_background": "light"
     },
     "output_type": "display_data"
    }
   ],
   "source": [
    "data_finance = data.loc[data['financing_source'] != 'Другой']\n",
    "display(data_finance.head())\n",
    "data_finance.hist(figsize=(20, 20))"
   ]
  },
  {
   "cell_type": "markdown",
   "metadata": {},
   "source": [
    "<div class=\"alert alert-info\">\n",
    "<b> Приведены графики по количественным характеристикам (номер прокатного удостоверения, дата премьеры фильма, объём возвратных средств государственной поддержки, объём невозвратных средств государственной поддержки, бюджет) фильмов с государственной поддержкой для проверки на предмет подозрительных данных. Гистограммы ведут себя ровно, значимых выбросов не наблюдается.</b> \n",
    "</div>"
   ]
  },
  {
   "cell_type": "code",
   "execution_count": 22,
   "metadata": {},
   "outputs": [
    {
     "data": {
      "text/html": [
       "<div>\n",
       "<style scoped>\n",
       "    .dataframe tbody tr th:only-of-type {\n",
       "        vertical-align: middle;\n",
       "    }\n",
       "\n",
       "    .dataframe tbody tr th {\n",
       "        vertical-align: top;\n",
       "    }\n",
       "\n",
       "    .dataframe thead th {\n",
       "        text-align: right;\n",
       "    }\n",
       "</style>\n",
       "<table border=\"1\" class=\"dataframe\">\n",
       "  <thead>\n",
       "    <tr style=\"text-align: right;\">\n",
       "      <th></th>\n",
       "      <th>title</th>\n",
       "      <th>puNumber</th>\n",
       "      <th>show_start_date</th>\n",
       "      <th>type</th>\n",
       "      <th>film_studio</th>\n",
       "      <th>production_country</th>\n",
       "      <th>director</th>\n",
       "      <th>producer</th>\n",
       "      <th>age_restriction</th>\n",
       "      <th>refundable_support</th>\n",
       "      <th>nonrefundable_support</th>\n",
       "      <th>budget</th>\n",
       "      <th>financing_source</th>\n",
       "      <th>ratings</th>\n",
       "      <th>genres</th>\n",
       "      <th>box_office</th>\n",
       "    </tr>\n",
       "  </thead>\n",
       "  <tbody>\n",
       "    <tr>\n",
       "      <th>1281</th>\n",
       "      <td>Пока еще жива</td>\n",
       "      <td>111005313</td>\n",
       "      <td>2013-10-11 12:00:00+00:00</td>\n",
       "      <td>Художественный</td>\n",
       "      <td>АНО содействия развитию кинематографии \"Ангел-...</td>\n",
       "      <td>Россия</td>\n",
       "      <td>А.Атанесян</td>\n",
       "      <td>А.Атанесян, М.Бабаханов, Р.Бутко</td>\n",
       "      <td>«16+» - для детей старше 16 лет</td>\n",
       "      <td>0</td>\n",
       "      <td>26500000</td>\n",
       "      <td>79411900</td>\n",
       "      <td>Министерство культуры</td>\n",
       "      <td>8.1</td>\n",
       "      <td>[драма, мелодрама]</td>\n",
       "      <td>365353.6</td>\n",
       "    </tr>\n",
       "    <tr>\n",
       "      <th>1448</th>\n",
       "      <td>Бесславные придурки</td>\n",
       "      <td>111003314</td>\n",
       "      <td>2014-03-28 12:00:00+00:00</td>\n",
       "      <td>Художественный</td>\n",
       "      <td>ООО \"Компания \"АТК-Студио\"</td>\n",
       "      <td>Россия</td>\n",
       "      <td>А.Якимчук</td>\n",
       "      <td>А.Тютрюмов</td>\n",
       "      <td>«12+» - для детей старше 12 лет</td>\n",
       "      <td>0</td>\n",
       "      <td>26000000</td>\n",
       "      <td>37142857</td>\n",
       "      <td>Министерство культуры</td>\n",
       "      <td>NaN</td>\n",
       "      <td>[nan]</td>\n",
       "      <td>28140.0</td>\n",
       "    </tr>\n",
       "    <tr>\n",
       "      <th>1498</th>\n",
       "      <td>Невидимки</td>\n",
       "      <td>111004213</td>\n",
       "      <td>2013-09-10 12:00:00+00:00</td>\n",
       "      <td>Художественный</td>\n",
       "      <td>ООО \"Компания \"РЕАЛ-ДАКОТА\"</td>\n",
       "      <td>Россия</td>\n",
       "      <td>Р.Давлетьяров, С.Комаров</td>\n",
       "      <td>Р.Давлетьяров, А.Котелевский, А.Олейников</td>\n",
       "      <td>«12+» - для детей старше 12 лет</td>\n",
       "      <td>0</td>\n",
       "      <td>107847945</td>\n",
       "      <td>176023490</td>\n",
       "      <td>Фонд кино</td>\n",
       "      <td>5.3</td>\n",
       "      <td>[комедия, фантастика]</td>\n",
       "      <td>19957031.5</td>\n",
       "    </tr>\n",
       "    <tr>\n",
       "      <th>1524</th>\n",
       "      <td>БЕРЦЫ</td>\n",
       "      <td>111004314</td>\n",
       "      <td>2014-05-05 12:00:00+00:00</td>\n",
       "      <td>Художественный</td>\n",
       "      <td>ООО \"Студия \"Пассажир\"</td>\n",
       "      <td>Россия</td>\n",
       "      <td>Е.Миндадзе (псевдоним Катя Шагалова)</td>\n",
       "      <td>Л.Антонова</td>\n",
       "      <td>«16+» - для детей старше 16 лет</td>\n",
       "      <td>0</td>\n",
       "      <td>28000000</td>\n",
       "      <td>40574140</td>\n",
       "      <td>Министерство культуры</td>\n",
       "      <td>4.2</td>\n",
       "      <td>[драма]</td>\n",
       "      <td>55917.5</td>\n",
       "    </tr>\n",
       "    <tr>\n",
       "      <th>1792</th>\n",
       "      <td>Братья Ч</td>\n",
       "      <td>111004414</td>\n",
       "      <td>2014-04-23 12:00:00+00:00</td>\n",
       "      <td>Художественный</td>\n",
       "      <td>ООО \"Студия \"Пассажир\"</td>\n",
       "      <td>Россия</td>\n",
       "      <td>М.Угаров</td>\n",
       "      <td>А.Миндадзе, Л.Антонова</td>\n",
       "      <td>«16+» - для детей старше 16 лет</td>\n",
       "      <td>0</td>\n",
       "      <td>25000000</td>\n",
       "      <td>40015122</td>\n",
       "      <td>Министерство культуры</td>\n",
       "      <td>6.4</td>\n",
       "      <td>[драма]</td>\n",
       "      <td>232100.0</td>\n",
       "    </tr>\n",
       "  </tbody>\n",
       "</table>\n",
       "</div>"
      ],
      "text/plain": [
       "                    title   puNumber           show_start_date  \\\n",
       "1281        Пока еще жива  111005313 2013-10-11 12:00:00+00:00   \n",
       "1448  Бесславные придурки  111003314 2014-03-28 12:00:00+00:00   \n",
       "1498            Невидимки  111004213 2013-09-10 12:00:00+00:00   \n",
       "1524                БЕРЦЫ  111004314 2014-05-05 12:00:00+00:00   \n",
       "1792             Братья Ч  111004414 2014-04-23 12:00:00+00:00   \n",
       "\n",
       "                type                                        film_studio  \\\n",
       "1281  Художественный  АНО содействия развитию кинематографии \"Ангел-...   \n",
       "1448  Художественный                         ООО \"Компания \"АТК-Студио\"   \n",
       "1498  Художественный                        ООО \"Компания \"РЕАЛ-ДАКОТА\"   \n",
       "1524  Художественный                             ООО \"Студия \"Пассажир\"   \n",
       "1792  Художественный                             ООО \"Студия \"Пассажир\"   \n",
       "\n",
       "     production_country                              director  \\\n",
       "1281             Россия                            А.Атанесян   \n",
       "1448             Россия                             А.Якимчук   \n",
       "1498             Россия              Р.Давлетьяров, С.Комаров   \n",
       "1524             Россия  Е.Миндадзе (псевдоним Катя Шагалова)   \n",
       "1792             Россия                              М.Угаров   \n",
       "\n",
       "                                       producer  \\\n",
       "1281           А.Атанесян, М.Бабаханов, Р.Бутко   \n",
       "1448                                 А.Тютрюмов   \n",
       "1498  Р.Давлетьяров, А.Котелевский, А.Олейников   \n",
       "1524                                 Л.Антонова   \n",
       "1792                     А.Миндадзе, Л.Антонова   \n",
       "\n",
       "                      age_restriction  refundable_support  \\\n",
       "1281  «16+» - для детей старше 16 лет                   0   \n",
       "1448  «12+» - для детей старше 12 лет                   0   \n",
       "1498  «12+» - для детей старше 12 лет                   0   \n",
       "1524  «16+» - для детей старше 16 лет                   0   \n",
       "1792  «16+» - для детей старше 16 лет                   0   \n",
       "\n",
       "      nonrefundable_support     budget       financing_source ratings  \\\n",
       "1281               26500000   79411900  Министерство культуры     8.1   \n",
       "1448               26000000   37142857  Министерство культуры     NaN   \n",
       "1498              107847945  176023490              Фонд кино     5.3   \n",
       "1524               28000000   40574140  Министерство культуры     4.2   \n",
       "1792               25000000   40015122  Министерство культуры     6.4   \n",
       "\n",
       "                     genres  box_office  \n",
       "1281     [драма, мелодрама]    365353.6  \n",
       "1448                  [nan]     28140.0  \n",
       "1498  [комедия, фантастика]  19957031.5  \n",
       "1524                [драма]     55917.5  \n",
       "1792                [драма]    232100.0  "
      ]
     },
     "execution_count": 22,
     "metadata": {},
     "output_type": "execute_result"
    }
   ],
   "source": [
    "data_finance.head()"
   ]
  },
  {
   "cell_type": "code",
   "execution_count": 23,
   "metadata": {
    "id": "YbzClBxagFyS"
   },
   "outputs": [
    {
     "data": {
      "text/plain": [
       "count    3.320000e+02\n",
       "mean     1.272297e+08\n",
       "std      1.885883e+08\n",
       "min      0.000000e+00\n",
       "25%      4.200000e+07\n",
       "50%      6.864992e+07\n",
       "75%      1.419853e+08\n",
       "max      2.305074e+09\n",
       "Name: budget, dtype: float64"
      ]
     },
     "execution_count": 23,
     "metadata": {},
     "output_type": "execute_result"
    }
   ],
   "source": [
    "data_finance['budget'].describe()"
   ]
  },
  {
   "cell_type": "code",
   "execution_count": 24,
   "metadata": {},
   "outputs": [
    {
     "data": {
      "image/png": "[encoded data removed]",
      "text/plain": [
       "<Figure size 432x288 with 1 Axes>"
      ]
     },
     "metadata": {
      "needs_background": "light"
     },
     "output_type": "display_data"
    }
   ],
   "source": [
    "data_finance.boxplot(column='budget')\n",
    "plt.ylabel('Деньги, млрд.р.')\n",
    "plt.title('Бюджет')\n",
    "plt.show()"
   ]
  },
  {
   "cell_type": "code",
   "execution_count": 25,
   "metadata": {
    "scrolled": true
   },
   "outputs": [
    {
     "data": {
      "text/html": [
       "<div>\n",
       "<style scoped>\n",
       "    .dataframe tbody tr th:only-of-type {\n",
       "        vertical-align: middle;\n",
       "    }\n",
       "\n",
       "    .dataframe tbody tr th {\n",
       "        vertical-align: top;\n",
       "    }\n",
       "\n",
       "    .dataframe thead th {\n",
       "        text-align: right;\n",
       "    }\n",
       "</style>\n",
       "<table border=\"1\" class=\"dataframe\">\n",
       "  <thead>\n",
       "    <tr style=\"text-align: right;\">\n",
       "      <th></th>\n",
       "      <th>title</th>\n",
       "      <th>puNumber</th>\n",
       "      <th>show_start_date</th>\n",
       "      <th>type</th>\n",
       "      <th>film_studio</th>\n",
       "      <th>production_country</th>\n",
       "      <th>director</th>\n",
       "      <th>producer</th>\n",
       "      <th>age_restriction</th>\n",
       "      <th>refundable_support</th>\n",
       "      <th>nonrefundable_support</th>\n",
       "      <th>budget</th>\n",
       "      <th>financing_source</th>\n",
       "      <th>ratings</th>\n",
       "      <th>genres</th>\n",
       "      <th>box_office</th>\n",
       "    </tr>\n",
       "  </thead>\n",
       "  <tbody>\n",
       "    <tr>\n",
       "      <th>7113</th>\n",
       "      <td>Тайна Печати Дракона</td>\n",
       "      <td>111012819</td>\n",
       "      <td>2019-09-12 12:00:00+00:00</td>\n",
       "      <td>Художественный</td>\n",
       "      <td>ООО \"Кинокомпания \"СТВ\"; ООО \"РФГ Корп\"; ООО \"...</td>\n",
       "      <td>Россия-Китай</td>\n",
       "      <td>О.Степченко</td>\n",
       "      <td>С.Сельянов, А.Петрухин</td>\n",
       "      <td>«6+» - для детей старше 6 лет</td>\n",
       "      <td>180000000</td>\n",
       "      <td>90000000</td>\n",
       "      <td>2305074303</td>\n",
       "      <td>Фонд кино</td>\n",
       "      <td>5.8</td>\n",
       "      <td>[приключения, фэнтези]</td>\n",
       "      <td>333597059.59</td>\n",
       "    </tr>\n",
       "  </tbody>\n",
       "</table>\n",
       "</div>"
      ],
      "text/plain": [
       "                     title   puNumber           show_start_date  \\\n",
       "7113  Тайна Печати Дракона  111012819 2019-09-12 12:00:00+00:00   \n",
       "\n",
       "                type                                        film_studio  \\\n",
       "7113  Художественный  ООО \"Кинокомпания \"СТВ\"; ООО \"РФГ Корп\"; ООО \"...   \n",
       "\n",
       "     production_country     director                producer  \\\n",
       "7113       Россия-Китай  О.Степченко  С.Сельянов, А.Петрухин   \n",
       "\n",
       "                    age_restriction  refundable_support  \\\n",
       "7113  «6+» - для детей старше 6 лет           180000000   \n",
       "\n",
       "      nonrefundable_support      budget financing_source ratings  \\\n",
       "7113               90000000  2305074303        Фонд кино     5.8   \n",
       "\n",
       "                      genres    box_office  \n",
       "7113  [приключения, фэнтези]  333597059.59  "
      ]
     },
     "execution_count": 25,
     "metadata": {},
     "output_type": "execute_result"
    }
   ],
   "source": [
    "data_finance.loc[data_finance['budget'] == 2305074303]"
   ]
  },
  {
   "cell_type": "code",
   "execution_count": 26,
   "metadata": {},
   "outputs": [
    {
     "data": {
      "text/plain": [
       "count    3.320000e+02\n",
       "mean     1.186446e+07\n",
       "std      2.491656e+07\n",
       "min      0.000000e+00\n",
       "25%      0.000000e+00\n",
       "50%      0.000000e+00\n",
       "75%      1.500000e+07\n",
       "max      1.800000e+08\n",
       "Name: refundable_support, dtype: float64"
      ]
     },
     "execution_count": 26,
     "metadata": {},
     "output_type": "execute_result"
    }
   ],
   "source": [
    "data_finance['refundable_support'].describe()"
   ]
  },
  {
   "cell_type": "code",
   "execution_count": 27,
   "metadata": {},
   "outputs": [
    {
     "data": {
      "image/png": "[encoded data removed]",
      "text/plain": [
       "<Figure size 432x288 with 1 Axes>"
      ]
     },
     "metadata": {
      "needs_background": "light"
     },
     "output_type": "display_data"
    }
   ],
   "source": [
    "data_finance.boxplot(column='refundable_support')\n",
    "plt.ylabel('Деньги, млрд.р.')\n",
    "plt.title('Возвратные средства')\n",
    "plt.show()"
   ]
  },
  {
   "cell_type": "code",
   "execution_count": 28,
   "metadata": {
    "scrolled": false
   },
   "outputs": [
    {
     "data": {
      "text/plain": [
       "count    3.320000e+02\n",
       "mean     4.898099e+07\n",
       "std      5.998012e+07\n",
       "min      0.000000e+00\n",
       "25%      2.500000e+07\n",
       "50%      3.000000e+07\n",
       "75%      4.037500e+07\n",
       "max      4.000000e+08\n",
       "Name: nonrefundable_support, dtype: float64"
      ]
     },
     "execution_count": 28,
     "metadata": {},
     "output_type": "execute_result"
    }
   ],
   "source": [
    "data_finance['nonrefundable_support'].describe()"
   ]
  },
  {
   "cell_type": "code",
   "execution_count": 29,
   "metadata": {
    "scrolled": true
   },
   "outputs": [
    {
     "data": {
      "image/png": "[encoded data removed]",
      "text/plain": [
       "<Figure size 432x288 with 1 Axes>"
      ]
     },
     "metadata": {
      "needs_background": "light"
     },
     "output_type": "display_data"
    }
   ],
   "source": [
    "data_finance.boxplot(column='nonrefundable_support')\n",
    "plt.ylabel('Деньги, млрд.р.')\n",
    "plt.title('Невозвратные средства')\n",
    "plt.show()"
   ]
  },
  {
   "cell_type": "markdown",
   "metadata": {},
   "source": [
    "<div class=\"alert alert-info\">\n",
    "<b> Столбец \"бюджет\" включает в себя сумму возвратной и невозвратной господдержек, вследствие чего все эти графики ведут себя схожим образом. Из аномальных значений можно отметить бюджет одного фильма в 2305074303 денежных единиц.</b> \n",
    "</div>"
   ]
  },
  {
   "cell_type": "code",
   "execution_count": 30,
   "metadata": {
    "scrolled": false
   },
   "outputs": [
    {
     "data": {
      "text/html": [
       "<div>\n",
       "<style scoped>\n",
       "    .dataframe tbody tr th:only-of-type {\n",
       "        vertical-align: middle;\n",
       "    }\n",
       "\n",
       "    .dataframe tbody tr th {\n",
       "        vertical-align: top;\n",
       "    }\n",
       "\n",
       "    .dataframe thead th {\n",
       "        text-align: right;\n",
       "    }\n",
       "</style>\n",
       "<table border=\"1\" class=\"dataframe\">\n",
       "  <thead>\n",
       "    <tr style=\"text-align: right;\">\n",
       "      <th></th>\n",
       "      <th>title</th>\n",
       "      <th>puNumber</th>\n",
       "      <th>show_start_date</th>\n",
       "      <th>type</th>\n",
       "      <th>film_studio</th>\n",
       "      <th>production_country</th>\n",
       "      <th>director</th>\n",
       "      <th>producer</th>\n",
       "      <th>age_restriction</th>\n",
       "      <th>refundable_support</th>\n",
       "      <th>nonrefundable_support</th>\n",
       "      <th>budget</th>\n",
       "      <th>financing_source</th>\n",
       "      <th>ratings</th>\n",
       "      <th>genres</th>\n",
       "      <th>box_office</th>\n",
       "      <th>support</th>\n",
       "    </tr>\n",
       "  </thead>\n",
       "  <tbody>\n",
       "    <tr>\n",
       "      <th>2052</th>\n",
       "      <td>14+</td>\n",
       "      <td>111023614</td>\n",
       "      <td>2014-12-19 12:00:00+00:00</td>\n",
       "      <td>Художественный</td>\n",
       "      <td>ООО Киностудия  \"Сентябрь\"</td>\n",
       "      <td>Россия</td>\n",
       "      <td>А.Зайцев</td>\n",
       "      <td>О.Гранина, А.Зайцев</td>\n",
       "      <td>«16+» - для детей старше 16 лет</td>\n",
       "      <td>0</td>\n",
       "      <td>23000000</td>\n",
       "      <td>0</td>\n",
       "      <td>Министерство культуры, Фонд кино</td>\n",
       "      <td>6.6</td>\n",
       "      <td>[мелодрама]</td>\n",
       "      <td>10234016.1</td>\n",
       "      <td>23000000</td>\n",
       "    </tr>\n",
       "    <tr>\n",
       "      <th>2057</th>\n",
       "      <td>Дуxless 2</td>\n",
       "      <td>111000415</td>\n",
       "      <td>2015-01-26 12:00:00+00:00</td>\n",
       "      <td>Художественный</td>\n",
       "      <td>ООО \"Киностудия \"Слово\", ООО \"Арт Пикчерс Студия\"</td>\n",
       "      <td>Россия</td>\n",
       "      <td>Р.Прыгунов</td>\n",
       "      <td>П.Ануров, Ф.Бондарчук, Д.Рудовский</td>\n",
       "      <td>«16+» - для детей старше 16 лет</td>\n",
       "      <td>0</td>\n",
       "      <td>75000000</td>\n",
       "      <td>0</td>\n",
       "      <td>Фонд кино</td>\n",
       "      <td>6.6</td>\n",
       "      <td>[драма]</td>\n",
       "      <td>446163511.0</td>\n",
       "      <td>75000000</td>\n",
       "    </tr>\n",
       "    <tr>\n",
       "      <th>2471</th>\n",
       "      <td>Воин (2015)</td>\n",
       "      <td>111017315</td>\n",
       "      <td>2015-09-28 12:00:00+00:00</td>\n",
       "      <td>Художественный</td>\n",
       "      <td>ООО \"Форпост Продакшн\", ООО \"Арт Пикчерс Студия\"</td>\n",
       "      <td>Россия</td>\n",
       "      <td>А.Андрианов</td>\n",
       "      <td>ООО \"Арт Пикчерс Студия\"</td>\n",
       "      <td>«12+» - для детей старше 12 лет</td>\n",
       "      <td>10000000</td>\n",
       "      <td>70000000</td>\n",
       "      <td>0</td>\n",
       "      <td>Фонд кино</td>\n",
       "      <td>7.8</td>\n",
       "      <td>[боевик, драма, криминал]</td>\n",
       "      <td>196572438.4</td>\n",
       "      <td>80000000</td>\n",
       "    </tr>\n",
       "    <tr>\n",
       "      <th>2531</th>\n",
       "      <td>Бармен.</td>\n",
       "      <td>111009615</td>\n",
       "      <td>2015-05-26 12:00:00+00:00</td>\n",
       "      <td>Художественный</td>\n",
       "      <td>АО \"ВайТ Медиа\", ООО \"Арт Пикчерс Студия\"</td>\n",
       "      <td>Россия</td>\n",
       "      <td>Д.Штурманова</td>\n",
       "      <td>Т.Вайнштейн</td>\n",
       "      <td>«16+» - для детей старше 16 лет</td>\n",
       "      <td>20000000</td>\n",
       "      <td>0</td>\n",
       "      <td>0</td>\n",
       "      <td>Фонд кино</td>\n",
       "      <td>6.2</td>\n",
       "      <td>[комедия, фэнтези]</td>\n",
       "      <td>67418974.8</td>\n",
       "      <td>20000000</td>\n",
       "    </tr>\n",
       "    <tr>\n",
       "      <th>2614</th>\n",
       "      <td>Савва. Сердце воина</td>\n",
       "      <td>114001715</td>\n",
       "      <td>2015-07-21 12:00:00+00:00</td>\n",
       "      <td>Анимационный</td>\n",
       "      <td>ООО \"Глюкоза Продакшн\", ООО \"Арт Пикчерс Студия\"</td>\n",
       "      <td>Россия</td>\n",
       "      <td>М.Фадеев</td>\n",
       "      <td>А.Чистяков</td>\n",
       "      <td>«6+» - для детей старше 6 лет</td>\n",
       "      <td>60000000</td>\n",
       "      <td>100000000</td>\n",
       "      <td>0</td>\n",
       "      <td>Фонд кино</td>\n",
       "      <td>4.6</td>\n",
       "      <td>[мультфильм, приключения, фэнтези]</td>\n",
       "      <td>184487551.4</td>\n",
       "      <td>160000000</td>\n",
       "    </tr>\n",
       "    <tr>\n",
       "      <th>2683</th>\n",
       "      <td>Тряпичный союз</td>\n",
       "      <td>111010215</td>\n",
       "      <td>2015-06-08 12:00:00+00:00</td>\n",
       "      <td>Художественный</td>\n",
       "      <td>ООО \"Кинокомпания \"КОКТЕБЕЛЬ\"</td>\n",
       "      <td>Россия</td>\n",
       "      <td>М.Местецкий</td>\n",
       "      <td>Р.Борисевич, А.Кушаев</td>\n",
       "      <td>«18+» - запрещено для детей</td>\n",
       "      <td>0</td>\n",
       "      <td>59000000</td>\n",
       "      <td>0</td>\n",
       "      <td>Фонд кино</td>\n",
       "      <td>6.3</td>\n",
       "      <td>[комедия, драма]</td>\n",
       "      <td>1957738.51</td>\n",
       "      <td>59000000</td>\n",
       "    </tr>\n",
       "    <tr>\n",
       "      <th>2787</th>\n",
       "      <td>Срочно выйду замуж</td>\n",
       "      <td>111017115</td>\n",
       "      <td>2015-09-30 12:00:00+00:00</td>\n",
       "      <td>Художественный</td>\n",
       "      <td>АО \"ВайТ Медиа\", ООО \"Арт Пикчерс Студия\"</td>\n",
       "      <td>Россия</td>\n",
       "      <td>С Чекалов</td>\n",
       "      <td>Ф.Бондарчук, Т.Вайнштейн, Д.Рудовский</td>\n",
       "      <td>«16+» - для детей старше 16 лет</td>\n",
       "      <td>0</td>\n",
       "      <td>35000000</td>\n",
       "      <td>0</td>\n",
       "      <td>Фонд кино</td>\n",
       "      <td>5.1</td>\n",
       "      <td>[комедия, мелодрама]</td>\n",
       "      <td>72937783.2</td>\n",
       "      <td>35000000</td>\n",
       "    </tr>\n",
       "    <tr>\n",
       "      <th>2873</th>\n",
       "      <td>Помню - не помню!</td>\n",
       "      <td>111004916</td>\n",
       "      <td>2016-03-01 12:00:00+00:00</td>\n",
       "      <td>Художественный</td>\n",
       "      <td>ООО \"КиноФирма\"</td>\n",
       "      <td>Россия</td>\n",
       "      <td>В.Ровенский</td>\n",
       "      <td>ООО \"КиноФирма\"</td>\n",
       "      <td>«12+» - для детей старше 12 лет</td>\n",
       "      <td>0</td>\n",
       "      <td>6000000</td>\n",
       "      <td>0</td>\n",
       "      <td>Министерство культуры</td>\n",
       "      <td>4.3</td>\n",
       "      <td>[комедия]</td>\n",
       "      <td>15362931.43</td>\n",
       "      <td>6000000</td>\n",
       "    </tr>\n",
       "    <tr>\n",
       "      <th>3046</th>\n",
       "      <td>Любовь с ограничениями</td>\n",
       "      <td>111008216</td>\n",
       "      <td>2016-04-29 12:00:00+00:00</td>\n",
       "      <td>Художественный</td>\n",
       "      <td>АО \"ВайТ Медиа\", ООО \"Арт Пикчерс Студия\"</td>\n",
       "      <td>Россия</td>\n",
       "      <td>Д.Тюрин</td>\n",
       "      <td>Ф.Бондарчук, Т.Вайнштейн, Д.Рудовский</td>\n",
       "      <td>«16+» - для детей старше 16 лет</td>\n",
       "      <td>19000000</td>\n",
       "      <td>51000000</td>\n",
       "      <td>0</td>\n",
       "      <td>Фонд кино</td>\n",
       "      <td>6.3</td>\n",
       "      <td>[комедия, мелодрама]</td>\n",
       "      <td>70299052.0</td>\n",
       "      <td>70000000</td>\n",
       "    </tr>\n",
       "    <tr>\n",
       "      <th>3564</th>\n",
       "      <td>Притяжение (2016)</td>\n",
       "      <td>111018116</td>\n",
       "      <td>2016-12-16 12:00:00+00:00</td>\n",
       "      <td>Художественный</td>\n",
       "      <td>ООО \"Водород 2011\",  ООО \"Арт Пикчерс Студия\"</td>\n",
       "      <td>Россия</td>\n",
       "      <td>Ф.Бондарчук</td>\n",
       "      <td>ООО \"Арт Пикчерс Студия\"</td>\n",
       "      <td>«12+» - для детей старше 12 лет</td>\n",
       "      <td>0</td>\n",
       "      <td>250000000</td>\n",
       "      <td>0</td>\n",
       "      <td>Фонд кино</td>\n",
       "      <td>5.6</td>\n",
       "      <td>[фантастика]</td>\n",
       "      <td>1038321489.0</td>\n",
       "      <td>250000000</td>\n",
       "    </tr>\n",
       "    <tr>\n",
       "      <th>3674</th>\n",
       "      <td>Чудо-юдо</td>\n",
       "      <td>114001817</td>\n",
       "      <td>2017-06-27 12:00:00+00:00</td>\n",
       "      <td>Анимационный</td>\n",
       "      <td>ООО \"КиноФирма\"</td>\n",
       "      <td>Россия</td>\n",
       "      <td>А.Лукичев</td>\n",
       "      <td>ООО \"КиноФирма\"</td>\n",
       "      <td>«6+» - для детей старше 6 лет</td>\n",
       "      <td>20000000</td>\n",
       "      <td>20000000</td>\n",
       "      <td>0</td>\n",
       "      <td>Фонд кино</td>\n",
       "      <td>5.2</td>\n",
       "      <td>[мультфильм, фэнтези, семейный]</td>\n",
       "      <td>55108014.76</td>\n",
       "      <td>40000000</td>\n",
       "    </tr>\n",
       "    <tr>\n",
       "      <th>3738</th>\n",
       "      <td>Мифы</td>\n",
       "      <td>111004317</td>\n",
       "      <td>2017-06-07 12:00:00+00:00</td>\n",
       "      <td>Художественный</td>\n",
       "      <td>ООО \"ХАЙПФИЛМ\", ООО \"Арт Пикчерс Студия\"</td>\n",
       "      <td>Россия</td>\n",
       "      <td>А.Молочников</td>\n",
       "      <td>Ф.Бондарчук, Д.Рудовский, И.Стюарт, М.Османн, ...</td>\n",
       "      <td>«16+» - для детей старше 16 лет</td>\n",
       "      <td>25000000</td>\n",
       "      <td>20000000</td>\n",
       "      <td>0</td>\n",
       "      <td>Фонд кино</td>\n",
       "      <td>4.8</td>\n",
       "      <td>[комедия]</td>\n",
       "      <td>50451949.0</td>\n",
       "      <td>45000000</td>\n",
       "    </tr>\n",
       "    <tr>\n",
       "      <th>5672</th>\n",
       "      <td>Селфи</td>\n",
       "      <td>111012117</td>\n",
       "      <td>2018-02-01 12:00:00+00:00</td>\n",
       "      <td>Художественный</td>\n",
       "      <td>ООО \"Киностудия \"Слово\", ООО \"Арт Пикчерс Студия\"</td>\n",
       "      <td>Россия</td>\n",
       "      <td>Н.Хомерики</td>\n",
       "      <td>П.Ануров, Ф.Бондарчук, Д.Рудовский</td>\n",
       "      <td>«16+» - для детей старше 16 лет</td>\n",
       "      <td>20000000</td>\n",
       "      <td>40000000</td>\n",
       "      <td>0</td>\n",
       "      <td>Фонд кино</td>\n",
       "      <td>5.8</td>\n",
       "      <td>[триллер, драма]</td>\n",
       "      <td>225196400.03</td>\n",
       "      <td>60000000</td>\n",
       "    </tr>\n",
       "    <tr>\n",
       "      <th>5805</th>\n",
       "      <td>Два хвоста</td>\n",
       "      <td>114001018</td>\n",
       "      <td>2018-05-31 12:00:00+00:00</td>\n",
       "      <td>Анимационный</td>\n",
       "      <td>ООО \"ЛИЦЕНЗИОННЫЕ БРЕНДЫ\"</td>\n",
       "      <td>Россия</td>\n",
       "      <td>В.Ровенский, Н.Лопато, В.Азеев</td>\n",
       "      <td>ООО \"ЛИЦЕНЗИОННЫЕ БРЕНДЫ\"</td>\n",
       "      <td>«6+» - для детей старше 6 лет</td>\n",
       "      <td>10000000</td>\n",
       "      <td>60000000</td>\n",
       "      <td>0</td>\n",
       "      <td>Фонд кино</td>\n",
       "      <td>5.0</td>\n",
       "      <td>[мультфильм, детский]</td>\n",
       "      <td>106514301.03</td>\n",
       "      <td>70000000</td>\n",
       "    </tr>\n",
       "    <tr>\n",
       "      <th>6007</th>\n",
       "      <td>Принцесса и дракон</td>\n",
       "      <td>114003018</td>\n",
       "      <td>2018-08-23 12:00:00+00:00</td>\n",
       "      <td>Анимационный</td>\n",
       "      <td>ООО \"ЛИЦЕНЗИОННЫЕ БРЕНДЫ\"</td>\n",
       "      <td>Россия</td>\n",
       "      <td>М.Нефедова</td>\n",
       "      <td>ООО \"ЛИЦЕНЗИОННЫЕ БРЕНДЫ\"</td>\n",
       "      <td>«6+» - для детей старше 6 лет</td>\n",
       "      <td>40000000</td>\n",
       "      <td>40000000</td>\n",
       "      <td>0</td>\n",
       "      <td>Фонд кино</td>\n",
       "      <td>5.2</td>\n",
       "      <td>[мультфильм, фэнтези, детский]</td>\n",
       "      <td>83366328.66</td>\n",
       "      <td>80000000</td>\n",
       "    </tr>\n",
       "    <tr>\n",
       "      <th>6322</th>\n",
       "      <td>Баба Яга</td>\n",
       "      <td>114006518</td>\n",
       "      <td>2018-11-08 12:00:00+00:00</td>\n",
       "      <td>Анимационный</td>\n",
       "      <td>ООО \"Арт Пикчерс Студия\"</td>\n",
       "      <td>Россия</td>\n",
       "      <td>В.Саков</td>\n",
       "      <td>ООО \"Арт Пикчерс Студия\", ООО \"КРИЭЙТИВ АНИМЭЙ...</td>\n",
       "      <td>«6+» - для детей старше 6 лет</td>\n",
       "      <td>0</td>\n",
       "      <td>138969465</td>\n",
       "      <td>0</td>\n",
       "      <td>Фонд кино</td>\n",
       "      <td>NaN</td>\n",
       "      <td>[nan]</td>\n",
       "      <td>1334699.4</td>\n",
       "      <td>138969465</td>\n",
       "    </tr>\n",
       "    <tr>\n",
       "      <th>6822</th>\n",
       "      <td>Большое путешествие</td>\n",
       "      <td>114002419</td>\n",
       "      <td>2019-04-20 12:00:00+00:00</td>\n",
       "      <td>Анимационный</td>\n",
       "      <td>ООО \"ЛИЦЕНЗИОННЫЕ БРЕНДЫ\"</td>\n",
       "      <td>Россия</td>\n",
       "      <td>Н.Лопато, В.Ровенский</td>\n",
       "      <td>ООО \"ЛИЦЕНЗИОННЫЕ БРЕНДЫ\"</td>\n",
       "      <td>«6+» - для детей старше 6 лет</td>\n",
       "      <td>60000000</td>\n",
       "      <td>120000000</td>\n",
       "      <td>0</td>\n",
       "      <td>Фонд кино</td>\n",
       "      <td>6.2</td>\n",
       "      <td>[мультфильм, комедия, приключения]</td>\n",
       "      <td>147606826.51</td>\n",
       "      <td>180000000</td>\n",
       "    </tr>\n",
       "  </tbody>\n",
       "</table>\n",
       "</div>"
      ],
      "text/plain": [
       "                       title   puNumber           show_start_date  \\\n",
       "2052                     14+  111023614 2014-12-19 12:00:00+00:00   \n",
       "2057               Дуxless 2  111000415 2015-01-26 12:00:00+00:00   \n",
       "2471             Воин (2015)  111017315 2015-09-28 12:00:00+00:00   \n",
       "2531                 Бармен.  111009615 2015-05-26 12:00:00+00:00   \n",
       "2614     Савва. Сердце воина  114001715 2015-07-21 12:00:00+00:00   \n",
       "2683          Тряпичный союз  111010215 2015-06-08 12:00:00+00:00   \n",
       "2787      Срочно выйду замуж  111017115 2015-09-30 12:00:00+00:00   \n",
       "2873       Помню - не помню!  111004916 2016-03-01 12:00:00+00:00   \n",
       "3046  Любовь с ограничениями  111008216 2016-04-29 12:00:00+00:00   \n",
       "3564       Притяжение (2016)  111018116 2016-12-16 12:00:00+00:00   \n",
       "3674                Чудо-юдо  114001817 2017-06-27 12:00:00+00:00   \n",
       "3738                    Мифы  111004317 2017-06-07 12:00:00+00:00   \n",
       "5672                   Селфи  111012117 2018-02-01 12:00:00+00:00   \n",
       "5805              Два хвоста  114001018 2018-05-31 12:00:00+00:00   \n",
       "6007      Принцесса и дракон  114003018 2018-08-23 12:00:00+00:00   \n",
       "6322                Баба Яга  114006518 2018-11-08 12:00:00+00:00   \n",
       "6822     Большое путешествие  114002419 2019-04-20 12:00:00+00:00   \n",
       "\n",
       "                type                                        film_studio  \\\n",
       "2052  Художественный                         ООО Киностудия  \"Сентябрь\"   \n",
       "2057  Художественный  ООО \"Киностудия \"Слово\", ООО \"Арт Пикчерс Студия\"   \n",
       "2471  Художественный   ООО \"Форпост Продакшн\", ООО \"Арт Пикчерс Студия\"   \n",
       "2531  Художественный          АО \"ВайТ Медиа\", ООО \"Арт Пикчерс Студия\"   \n",
       "2614    Анимационный   ООО \"Глюкоза Продакшн\", ООО \"Арт Пикчерс Студия\"   \n",
       "2683  Художественный                      ООО \"Кинокомпания \"КОКТЕБЕЛЬ\"   \n",
       "2787  Художественный          АО \"ВайТ Медиа\", ООО \"Арт Пикчерс Студия\"   \n",
       "2873  Художественный                                    ООО \"КиноФирма\"   \n",
       "3046  Художественный          АО \"ВайТ Медиа\", ООО \"Арт Пикчерс Студия\"   \n",
       "3564  Художественный      ООО \"Водород 2011\",  ООО \"Арт Пикчерс Студия\"   \n",
       "3674    Анимационный                                    ООО \"КиноФирма\"   \n",
       "3738  Художественный           ООО \"ХАЙПФИЛМ\", ООО \"Арт Пикчерс Студия\"   \n",
       "5672  Художественный  ООО \"Киностудия \"Слово\", ООО \"Арт Пикчерс Студия\"   \n",
       "5805    Анимационный                          ООО \"ЛИЦЕНЗИОННЫЕ БРЕНДЫ\"   \n",
       "6007    Анимационный                          ООО \"ЛИЦЕНЗИОННЫЕ БРЕНДЫ\"   \n",
       "6322    Анимационный                           ООО \"Арт Пикчерс Студия\"   \n",
       "6822    Анимационный                          ООО \"ЛИЦЕНЗИОННЫЕ БРЕНДЫ\"   \n",
       "\n",
       "     production_country                        director  \\\n",
       "2052             Россия                        А.Зайцев   \n",
       "2057             Россия                      Р.Прыгунов   \n",
       "2471             Россия                     А.Андрианов   \n",
       "2531             Россия                    Д.Штурманова   \n",
       "2614             Россия                        М.Фадеев   \n",
       "2683             Россия                     М.Местецкий   \n",
       "2787             Россия                       С Чекалов   \n",
       "2873             Россия                     В.Ровенский   \n",
       "3046             Россия                         Д.Тюрин   \n",
       "3564             Россия                     Ф.Бондарчук   \n",
       "3674             Россия                       А.Лукичев   \n",
       "3738             Россия                    А.Молочников   \n",
       "5672             Россия                      Н.Хомерики   \n",
       "5805             Россия  В.Ровенский, Н.Лопато, В.Азеев   \n",
       "6007             Россия                      М.Нефедова   \n",
       "6322             Россия                         В.Саков   \n",
       "6822             Россия           Н.Лопато, В.Ровенский   \n",
       "\n",
       "                                               producer  \\\n",
       "2052                                О.Гранина, А.Зайцев   \n",
       "2057                 П.Ануров, Ф.Бондарчук, Д.Рудовский   \n",
       "2471                           ООО \"Арт Пикчерс Студия\"   \n",
       "2531                                        Т.Вайнштейн   \n",
       "2614                                         А.Чистяков   \n",
       "2683                              Р.Борисевич, А.Кушаев   \n",
       "2787              Ф.Бондарчук, Т.Вайнштейн, Д.Рудовский   \n",
       "2873                                    ООО \"КиноФирма\"   \n",
       "3046              Ф.Бондарчук, Т.Вайнштейн, Д.Рудовский   \n",
       "3564                           ООО \"Арт Пикчерс Студия\"   \n",
       "3674                                    ООО \"КиноФирма\"   \n",
       "3738  Ф.Бондарчук, Д.Рудовский, И.Стюарт, М.Османн, ...   \n",
       "5672                 П.Ануров, Ф.Бондарчук, Д.Рудовский   \n",
       "5805                          ООО \"ЛИЦЕНЗИОННЫЕ БРЕНДЫ\"   \n",
       "6007                          ООО \"ЛИЦЕНЗИОННЫЕ БРЕНДЫ\"   \n",
       "6322  ООО \"Арт Пикчерс Студия\", ООО \"КРИЭЙТИВ АНИМЭЙ...   \n",
       "6822                          ООО \"ЛИЦЕНЗИОННЫЕ БРЕНДЫ\"   \n",
       "\n",
       "                      age_restriction  refundable_support  \\\n",
       "2052  «16+» - для детей старше 16 лет                   0   \n",
       "2057  «16+» - для детей старше 16 лет                   0   \n",
       "2471  «12+» - для детей старше 12 лет            10000000   \n",
       "2531  «16+» - для детей старше 16 лет            20000000   \n",
       "2614    «6+» - для детей старше 6 лет            60000000   \n",
       "2683      «18+» - запрещено для детей                   0   \n",
       "2787  «16+» - для детей старше 16 лет                   0   \n",
       "2873  «12+» - для детей старше 12 лет                   0   \n",
       "3046  «16+» - для детей старше 16 лет            19000000   \n",
       "3564  «12+» - для детей старше 12 лет                   0   \n",
       "3674    «6+» - для детей старше 6 лет            20000000   \n",
       "3738  «16+» - для детей старше 16 лет            25000000   \n",
       "5672  «16+» - для детей старше 16 лет            20000000   \n",
       "5805    «6+» - для детей старше 6 лет            10000000   \n",
       "6007    «6+» - для детей старше 6 лет            40000000   \n",
       "6322    «6+» - для детей старше 6 лет                   0   \n",
       "6822    «6+» - для детей старше 6 лет            60000000   \n",
       "\n",
       "      nonrefundable_support  budget                  financing_source ratings  \\\n",
       "2052               23000000       0  Министерство культуры, Фонд кино     6.6   \n",
       "2057               75000000       0                         Фонд кино     6.6   \n",
       "2471               70000000       0                         Фонд кино     7.8   \n",
       "2531                      0       0                         Фонд кино     6.2   \n",
       "2614              100000000       0                         Фонд кино     4.6   \n",
       "2683               59000000       0                         Фонд кино     6.3   \n",
       "2787               35000000       0                         Фонд кино     5.1   \n",
       "2873                6000000       0             Министерство культуры     4.3   \n",
       "3046               51000000       0                         Фонд кино     6.3   \n",
       "3564              250000000       0                         Фонд кино     5.6   \n",
       "3674               20000000       0                         Фонд кино     5.2   \n",
       "3738               20000000       0                         Фонд кино     4.8   \n",
       "5672               40000000       0                         Фонд кино     5.8   \n",
       "5805               60000000       0                         Фонд кино     5.0   \n",
       "6007               40000000       0                         Фонд кино     5.2   \n",
       "6322              138969465       0                         Фонд кино     NaN   \n",
       "6822              120000000       0                         Фонд кино     6.2   \n",
       "\n",
       "                                  genres    box_office    support  \n",
       "2052                         [мелодрама]    10234016.1   23000000  \n",
       "2057                             [драма]   446163511.0   75000000  \n",
       "2471           [боевик, драма, криминал]   196572438.4   80000000  \n",
       "2531                  [комедия, фэнтези]    67418974.8   20000000  \n",
       "2614  [мультфильм, приключения, фэнтези]   184487551.4  160000000  \n",
       "2683                    [комедия, драма]    1957738.51   59000000  \n",
       "2787                [комедия, мелодрама]    72937783.2   35000000  \n",
       "2873                           [комедия]   15362931.43    6000000  \n",
       "3046                [комедия, мелодрама]    70299052.0   70000000  \n",
       "3564                        [фантастика]  1038321489.0  250000000  \n",
       "3674     [мультфильм, фэнтези, семейный]   55108014.76   40000000  \n",
       "3738                           [комедия]    50451949.0   45000000  \n",
       "5672                    [триллер, драма]  225196400.03   60000000  \n",
       "5805               [мультфильм, детский]  106514301.03   70000000  \n",
       "6007      [мультфильм, фэнтези, детский]   83366328.66   80000000  \n",
       "6322                               [nan]     1334699.4  138969465  \n",
       "6822  [мультфильм, комедия, приключения]  147606826.51  180000000  "
      ]
     },
     "metadata": {},
     "output_type": "display_data"
    }
   ],
   "source": [
    "data['support'] = data['refundable_support'] + data['nonrefundable_support']\n",
    "display(data.query('budget < support'))"
   ]
  },
  {
   "cell_type": "markdown",
   "metadata": {},
   "source": [
    "<div class=\"alert alert-info\">\n",
    "<b> Целых 17 фильмов, при съемках которых не были в полном размере освоены средства господдержки! Кажется, речь идет о мошенничестве!</b> \n",
    "</div>"
   ]
  },
  {
   "cell_type": "code",
   "execution_count": 31,
   "metadata": {
    "scrolled": true
   },
   "outputs": [
    {
     "data": {
      "text/html": [
       "<div>\n",
       "<style scoped>\n",
       "    .dataframe tbody tr th:only-of-type {\n",
       "        vertical-align: middle;\n",
       "    }\n",
       "\n",
       "    .dataframe tbody tr th {\n",
       "        vertical-align: top;\n",
       "    }\n",
       "\n",
       "    .dataframe thead th {\n",
       "        text-align: right;\n",
       "    }\n",
       "</style>\n",
       "<table border=\"1\" class=\"dataframe\">\n",
       "  <thead>\n",
       "    <tr style=\"text-align: right;\">\n",
       "      <th></th>\n",
       "      <th>title</th>\n",
       "      <th>puNumber</th>\n",
       "      <th>show_start_date</th>\n",
       "      <th>type</th>\n",
       "      <th>film_studio</th>\n",
       "      <th>production_country</th>\n",
       "      <th>director</th>\n",
       "      <th>producer</th>\n",
       "      <th>age_restriction</th>\n",
       "      <th>refundable_support</th>\n",
       "      <th>nonrefundable_support</th>\n",
       "      <th>budget</th>\n",
       "      <th>financing_source</th>\n",
       "      <th>ratings</th>\n",
       "      <th>genres</th>\n",
       "      <th>box_office</th>\n",
       "      <th>support</th>\n",
       "    </tr>\n",
       "  </thead>\n",
       "  <tbody>\n",
       "    <tr>\n",
       "      <th>0</th>\n",
       "      <td>Открытый простор</td>\n",
       "      <td>221048915</td>\n",
       "      <td>2015-11-27 12:00:00+00:00</td>\n",
       "      <td>Художественный</td>\n",
       "      <td>Тачстоун Пикчерз, Кобальт Пикчерз, Бикон Пикче...</td>\n",
       "      <td>США</td>\n",
       "      <td>Кевин Костнер</td>\n",
       "      <td>Дэвид Валдес, Кевин Костнер, Джейк Эбертс</td>\n",
       "      <td>«18+» - запрещено для детей</td>\n",
       "      <td>0</td>\n",
       "      <td>0</td>\n",
       "      <td>0</td>\n",
       "      <td>Другой</td>\n",
       "      <td>7.2</td>\n",
       "      <td>[боевик, драма, мелодрама]</td>\n",
       "      <td>NaN</td>\n",
       "      <td>0</td>\n",
       "    </tr>\n",
       "    <tr>\n",
       "      <th>1</th>\n",
       "      <td>Особо важное задание</td>\n",
       "      <td>111013716</td>\n",
       "      <td>2016-09-13 12:00:00+00:00</td>\n",
       "      <td>Художественный</td>\n",
       "      <td>Киностудия \"Мосфильм\"</td>\n",
       "      <td>СССР</td>\n",
       "      <td>Е.Матвеев</td>\n",
       "      <td>Другой</td>\n",
       "      <td>«6+» - для детей старше 6 лет</td>\n",
       "      <td>0</td>\n",
       "      <td>0</td>\n",
       "      <td>0</td>\n",
       "      <td>Другой</td>\n",
       "      <td>6.6</td>\n",
       "      <td>[драма, военный]</td>\n",
       "      <td>NaN</td>\n",
       "      <td>0</td>\n",
       "    </tr>\n",
       "    <tr>\n",
       "      <th>2</th>\n",
       "      <td>Особо опасен</td>\n",
       "      <td>221038416</td>\n",
       "      <td>2016-10-10 12:00:00+00:00</td>\n",
       "      <td>Художественный</td>\n",
       "      <td>Юниверсал Пикчерз, Кикстарт Продакшнз, Марк Пл...</td>\n",
       "      <td>США</td>\n",
       "      <td>Тимур Бекмамбетов</td>\n",
       "      <td>Джим Лемли, Джейсон Нетер, Марк Е.Платт, Яйн Смит</td>\n",
       "      <td>«18+» - запрещено для детей</td>\n",
       "      <td>0</td>\n",
       "      <td>0</td>\n",
       "      <td>0</td>\n",
       "      <td>Другой</td>\n",
       "      <td>6.8</td>\n",
       "      <td>[фантастика, боевик, триллер]</td>\n",
       "      <td>NaN</td>\n",
       "      <td>0</td>\n",
       "    </tr>\n",
       "    <tr>\n",
       "      <th>3</th>\n",
       "      <td>Особо опасен</td>\n",
       "      <td>221026916</td>\n",
       "      <td>2016-06-10 12:00:00+00:00</td>\n",
       "      <td>Художественный</td>\n",
       "      <td>Юниверсал Пикчерз, Кикстарт Продакшнз, Марк Пл...</td>\n",
       "      <td>США</td>\n",
       "      <td>Тимур Бекмамбетов</td>\n",
       "      <td>Джим Лемли, Джейсон Нетер, Марк Е.Платт, Яйн Смит</td>\n",
       "      <td>«18+» - запрещено для детей</td>\n",
       "      <td>0</td>\n",
       "      <td>0</td>\n",
       "      <td>0</td>\n",
       "      <td>Другой</td>\n",
       "      <td>6.8</td>\n",
       "      <td>[фантастика, боевик, триллер]</td>\n",
       "      <td>NaN</td>\n",
       "      <td>0</td>\n",
       "    </tr>\n",
       "    <tr>\n",
       "      <th>4</th>\n",
       "      <td>Особо опасен</td>\n",
       "      <td>221030815</td>\n",
       "      <td>2015-07-29 12:00:00+00:00</td>\n",
       "      <td>Художественный</td>\n",
       "      <td>Юниверсал Пикчерз, Кикстарт Продакшнз, Марк Пл...</td>\n",
       "      <td>США</td>\n",
       "      <td>Тимур Бекмамбетов</td>\n",
       "      <td>Джим Лемли, Джейсон Нетер, Марк Е.Платт, Яйн Смит</td>\n",
       "      <td>«18+» - запрещено для детей</td>\n",
       "      <td>0</td>\n",
       "      <td>0</td>\n",
       "      <td>0</td>\n",
       "      <td>Другой</td>\n",
       "      <td>6.8</td>\n",
       "      <td>[фантастика, боевик, триллер]</td>\n",
       "      <td>NaN</td>\n",
       "      <td>0</td>\n",
       "    </tr>\n",
       "    <tr>\n",
       "      <th>...</th>\n",
       "      <td>...</td>\n",
       "      <td>...</td>\n",
       "      <td>...</td>\n",
       "      <td>...</td>\n",
       "      <td>...</td>\n",
       "      <td>...</td>\n",
       "      <td>...</td>\n",
       "      <td>...</td>\n",
       "      <td>...</td>\n",
       "      <td>...</td>\n",
       "      <td>...</td>\n",
       "      <td>...</td>\n",
       "      <td>...</td>\n",
       "      <td>...</td>\n",
       "      <td>...</td>\n",
       "      <td>...</td>\n",
       "      <td>...</td>\n",
       "    </tr>\n",
       "    <tr>\n",
       "      <th>7480</th>\n",
       "      <td>Сад художника: Американский импрессионизм</td>\n",
       "      <td>126008019</td>\n",
       "      <td>2019-12-23 12:00:00+00:00</td>\n",
       "      <td>Прочие</td>\n",
       "      <td>Севен Артс Продакшнз</td>\n",
       "      <td>Великобритания</td>\n",
       "      <td>Фил Грабски</td>\n",
       "      <td>Фил Грабски</td>\n",
       "      <td>«12+» - для детей старше 12 лет</td>\n",
       "      <td>0</td>\n",
       "      <td>0</td>\n",
       "      <td>0</td>\n",
       "      <td>Другой</td>\n",
       "      <td>NaN</td>\n",
       "      <td>[nan]</td>\n",
       "      <td>NaN</td>\n",
       "      <td>0</td>\n",
       "    </tr>\n",
       "    <tr>\n",
       "      <th>7481</th>\n",
       "      <td>Звериная ярость</td>\n",
       "      <td>121037819</td>\n",
       "      <td>2019-12-24 12:00:00+00:00</td>\n",
       "      <td>Художественный</td>\n",
       "      <td>Дэниел Гродник Продакшнз, Вандерфилм Медиа Кор...</td>\n",
       "      <td>США</td>\n",
       "      <td>Ник Пауэлл</td>\n",
       "      <td>Джефф Боулер, Дэниэл Гродник, Луильо Руис, Брэ...</td>\n",
       "      <td>«16+» - для детей старше 16 лет</td>\n",
       "      <td>0</td>\n",
       "      <td>0</td>\n",
       "      <td>0</td>\n",
       "      <td>Другой</td>\n",
       "      <td>5.4</td>\n",
       "      <td>[боевик, триллер]</td>\n",
       "      <td>NaN</td>\n",
       "      <td>0</td>\n",
       "    </tr>\n",
       "    <tr>\n",
       "      <th>7482</th>\n",
       "      <td>Щенячий патруль: Скорей спешим на помощь!</td>\n",
       "      <td>124010819</td>\n",
       "      <td>2019-12-28 12:00:00+00:00</td>\n",
       "      <td>Художественный</td>\n",
       "      <td>Никелодеон Анимейшн Студиос, Спин Мастер</td>\n",
       "      <td>США - Канада</td>\n",
       "      <td>Чарльз Е.Бастьен</td>\n",
       "      <td>Дженнифер Додж</td>\n",
       "      <td>«0+» - для любой зрительской аудитории</td>\n",
       "      <td>0</td>\n",
       "      <td>0</td>\n",
       "      <td>0</td>\n",
       "      <td>Другой</td>\n",
       "      <td>NaN</td>\n",
       "      <td>[nan]</td>\n",
       "      <td>NaN</td>\n",
       "      <td>0</td>\n",
       "    </tr>\n",
       "    <tr>\n",
       "      <th>7483</th>\n",
       "      <td>Машины песенки. Серия \"Испанские мотивы\"</td>\n",
       "      <td>124010619</td>\n",
       "      <td>2019-12-30 12:00:00+00:00</td>\n",
       "      <td>Анимационный</td>\n",
       "      <td>Анимаккорд Лтд., ООО Студия \"АНИМАККОРД\"</td>\n",
       "      <td>Республика Кипр, Россия</td>\n",
       "      <td>А.Беляев</td>\n",
       "      <td>Д.Ловейко</td>\n",
       "      <td>«0+» - для любой зрительской аудитории</td>\n",
       "      <td>0</td>\n",
       "      <td>0</td>\n",
       "      <td>0</td>\n",
       "      <td>Другой</td>\n",
       "      <td>NaN</td>\n",
       "      <td>[nan]</td>\n",
       "      <td>NaN</td>\n",
       "      <td>0</td>\n",
       "    </tr>\n",
       "    <tr>\n",
       "      <th>7484</th>\n",
       "      <td>Машины песенки. Серия \"Когда цветут кактусы\"</td>\n",
       "      <td>124010719</td>\n",
       "      <td>2019-12-30 12:00:00+00:00</td>\n",
       "      <td>Анимационный</td>\n",
       "      <td>Анимаккорд Лтд., ООО Студия \"АНИМАККОРД\"</td>\n",
       "      <td>Республика Кипр, Россия</td>\n",
       "      <td>И.Трусов</td>\n",
       "      <td>Д.Ловейко</td>\n",
       "      <td>«0+» - для любой зрительской аудитории</td>\n",
       "      <td>0</td>\n",
       "      <td>0</td>\n",
       "      <td>0</td>\n",
       "      <td>Другой</td>\n",
       "      <td>6.3</td>\n",
       "      <td>[комедия, вестерн]</td>\n",
       "      <td>NaN</td>\n",
       "      <td>0</td>\n",
       "    </tr>\n",
       "  </tbody>\n",
       "</table>\n",
       "<p>7441 rows × 17 columns</p>\n",
       "</div>"
      ],
      "text/plain": [
       "                                             title   puNumber  \\\n",
       "0                                 Открытый простор  221048915   \n",
       "1                             Особо важное задание  111013716   \n",
       "2                                     Особо опасен  221038416   \n",
       "3                                     Особо опасен  221026916   \n",
       "4                                     Особо опасен  221030815   \n",
       "...                                            ...        ...   \n",
       "7480     Сад художника: Американский импрессионизм  126008019   \n",
       "7481                               Звериная ярость  121037819   \n",
       "7482     Щенячий патруль: Скорей спешим на помощь!  124010819   \n",
       "7483      Машины песенки. Серия \"Испанские мотивы\"  124010619   \n",
       "7484  Машины песенки. Серия \"Когда цветут кактусы\"  124010719   \n",
       "\n",
       "               show_start_date            type  \\\n",
       "0    2015-11-27 12:00:00+00:00  Художественный   \n",
       "1    2016-09-13 12:00:00+00:00  Художественный   \n",
       "2    2016-10-10 12:00:00+00:00  Художественный   \n",
       "3    2016-06-10 12:00:00+00:00  Художественный   \n",
       "4    2015-07-29 12:00:00+00:00  Художественный   \n",
       "...                        ...             ...   \n",
       "7480 2019-12-23 12:00:00+00:00          Прочие   \n",
       "7481 2019-12-24 12:00:00+00:00  Художественный   \n",
       "7482 2019-12-28 12:00:00+00:00  Художественный   \n",
       "7483 2019-12-30 12:00:00+00:00    Анимационный   \n",
       "7484 2019-12-30 12:00:00+00:00    Анимационный   \n",
       "\n",
       "                                            film_studio  \\\n",
       "0     Тачстоун Пикчерз, Кобальт Пикчерз, Бикон Пикче...   \n",
       "1                                 Киностудия \"Мосфильм\"   \n",
       "2     Юниверсал Пикчерз, Кикстарт Продакшнз, Марк Пл...   \n",
       "3     Юниверсал Пикчерз, Кикстарт Продакшнз, Марк Пл...   \n",
       "4     Юниверсал Пикчерз, Кикстарт Продакшнз, Марк Пл...   \n",
       "...                                                 ...   \n",
       "7480                               Севен Артс Продакшнз   \n",
       "7481  Дэниел Гродник Продакшнз, Вандерфилм Медиа Кор...   \n",
       "7482           Никелодеон Анимейшн Студиос, Спин Мастер   \n",
       "7483           Анимаккорд Лтд., ООО Студия \"АНИМАККОРД\"   \n",
       "7484           Анимаккорд Лтд., ООО Студия \"АНИМАККОРД\"   \n",
       "\n",
       "           production_country           director  \\\n",
       "0                         США      Кевин Костнер   \n",
       "1                        СССР          Е.Матвеев   \n",
       "2                         США  Тимур Бекмамбетов   \n",
       "3                         США  Тимур Бекмамбетов   \n",
       "4                         США  Тимур Бекмамбетов   \n",
       "...                       ...                ...   \n",
       "7480           Великобритания        Фил Грабски   \n",
       "7481                      США         Ник Пауэлл   \n",
       "7482             США - Канада   Чарльз Е.Бастьен   \n",
       "7483  Республика Кипр, Россия           А.Беляев   \n",
       "7484  Республика Кипр, Россия           И.Трусов   \n",
       "\n",
       "                                               producer  \\\n",
       "0             Дэвид Валдес, Кевин Костнер, Джейк Эбертс   \n",
       "1                                                Другой   \n",
       "2     Джим Лемли, Джейсон Нетер, Марк Е.Платт, Яйн Смит   \n",
       "3     Джим Лемли, Джейсон Нетер, Марк Е.Платт, Яйн Смит   \n",
       "4     Джим Лемли, Джейсон Нетер, Марк Е.Платт, Яйн Смит   \n",
       "...                                                 ...   \n",
       "7480                                        Фил Грабски   \n",
       "7481  Джефф Боулер, Дэниэл Гродник, Луильо Руис, Брэ...   \n",
       "7482                                     Дженнифер Додж   \n",
       "7483                                          Д.Ловейко   \n",
       "7484                                          Д.Ловейко   \n",
       "\n",
       "                             age_restriction  refundable_support  \\\n",
       "0                «18+» - запрещено для детей                   0   \n",
       "1              «6+» - для детей старше 6 лет                   0   \n",
       "2                «18+» - запрещено для детей                   0   \n",
       "3                «18+» - запрещено для детей                   0   \n",
       "4                «18+» - запрещено для детей                   0   \n",
       "...                                      ...                 ...   \n",
       "7480         «12+» - для детей старше 12 лет                   0   \n",
       "7481         «16+» - для детей старше 16 лет                   0   \n",
       "7482  «0+» - для любой зрительской аудитории                   0   \n",
       "7483  «0+» - для любой зрительской аудитории                   0   \n",
       "7484  «0+» - для любой зрительской аудитории                   0   \n",
       "\n",
       "      nonrefundable_support  budget financing_source ratings  \\\n",
       "0                         0       0           Другой     7.2   \n",
       "1                         0       0           Другой     6.6   \n",
       "2                         0       0           Другой     6.8   \n",
       "3                         0       0           Другой     6.8   \n",
       "4                         0       0           Другой     6.8   \n",
       "...                     ...     ...              ...     ...   \n",
       "7480                      0       0           Другой     NaN   \n",
       "7481                      0       0           Другой     5.4   \n",
       "7482                      0       0           Другой     NaN   \n",
       "7483                      0       0           Другой     NaN   \n",
       "7484                      0       0           Другой     6.3   \n",
       "\n",
       "                             genres box_office  support  \n",
       "0        [боевик, драма, мелодрама]        NaN        0  \n",
       "1                  [драма, военный]        NaN        0  \n",
       "2     [фантастика, боевик, триллер]        NaN        0  \n",
       "3     [фантастика, боевик, триллер]        NaN        0  \n",
       "4     [фантастика, боевик, триллер]        NaN        0  \n",
       "...                             ...        ...      ...  \n",
       "7480                          [nan]        NaN        0  \n",
       "7481              [боевик, триллер]        NaN        0  \n",
       "7482                          [nan]        NaN        0  \n",
       "7483                          [nan]        NaN        0  \n",
       "7484             [комедия, вестерн]        NaN        0  \n",
       "\n",
       "[7441 rows x 17 columns]"
      ]
     },
     "execution_count": 31,
     "metadata": {},
     "output_type": "execute_result"
    }
   ],
   "source": [
    "data.drop(data.loc[data['budget'] < data['support']].index, axis=0)"
   ]
  },
  {
   "cell_type": "markdown",
   "metadata": {},
   "source": [
    "<div class=\"alert alert-info\">\n",
    "<b> Столбец \"бюджет\" включает в себя полный объем государственной поддержки плюс частные средства (от продюсеров и т.д.). Заполнить нулевые значения здесь нечем, строки, где бюджет меньше поддержки, удалены.</b> \n",
    "</div>"
   ]
  },
  {
   "cell_type": "code",
   "execution_count": 32,
   "metadata": {
    "id": "I-yd1DkWgFyT"
   },
   "outputs": [],
   "source": [
    "data['year'] = data['show_start_date'].dt.year"
   ]
  },
  {
   "cell_type": "code",
   "execution_count": 33,
   "metadata": {
    "id": "LSbRZKbMgFyU"
   },
   "outputs": [
    {
     "data": {
      "text/html": [
       "<div>\n",
       "<style scoped>\n",
       "    .dataframe tbody tr th:only-of-type {\n",
       "        vertical-align: middle;\n",
       "    }\n",
       "\n",
       "    .dataframe tbody tr th {\n",
       "        vertical-align: top;\n",
       "    }\n",
       "\n",
       "    .dataframe thead th {\n",
       "        text-align: right;\n",
       "    }\n",
       "</style>\n",
       "<table border=\"1\" class=\"dataframe\">\n",
       "  <thead>\n",
       "    <tr style=\"text-align: right;\">\n",
       "      <th></th>\n",
       "      <th>title</th>\n",
       "      <th>puNumber</th>\n",
       "      <th>show_start_date</th>\n",
       "      <th>type</th>\n",
       "      <th>film_studio</th>\n",
       "      <th>production_country</th>\n",
       "      <th>director</th>\n",
       "      <th>producer</th>\n",
       "      <th>age_restriction</th>\n",
       "      <th>refundable_support</th>\n",
       "      <th>nonrefundable_support</th>\n",
       "      <th>budget</th>\n",
       "      <th>financing_source</th>\n",
       "      <th>ratings</th>\n",
       "      <th>genres</th>\n",
       "      <th>box_office</th>\n",
       "      <th>support</th>\n",
       "      <th>year</th>\n",
       "      <th>head_director</th>\n",
       "      <th>head_genre</th>\n",
       "    </tr>\n",
       "  </thead>\n",
       "  <tbody>\n",
       "    <tr>\n",
       "      <th>0</th>\n",
       "      <td>Открытый простор</td>\n",
       "      <td>221048915</td>\n",
       "      <td>2015-11-27 12:00:00+00:00</td>\n",
       "      <td>Художественный</td>\n",
       "      <td>Тачстоун Пикчерз, Кобальт Пикчерз, Бикон Пикче...</td>\n",
       "      <td>США</td>\n",
       "      <td>Кевин Костнер</td>\n",
       "      <td>Дэвид Валдес, Кевин Костнер, Джейк Эбертс</td>\n",
       "      <td>«18+» - запрещено для детей</td>\n",
       "      <td>0</td>\n",
       "      <td>0</td>\n",
       "      <td>0</td>\n",
       "      <td>Другой</td>\n",
       "      <td>7.2</td>\n",
       "      <td>[боевик, драма, мелодрама]</td>\n",
       "      <td>NaN</td>\n",
       "      <td>0</td>\n",
       "      <td>2015</td>\n",
       "      <td>Кевин Костнер</td>\n",
       "      <td>боевик</td>\n",
       "    </tr>\n",
       "  </tbody>\n",
       "</table>\n",
       "</div>"
      ],
      "text/plain": [
       "              title   puNumber           show_start_date            type  \\\n",
       "0  Открытый простор  221048915 2015-11-27 12:00:00+00:00  Художественный   \n",
       "\n",
       "                                         film_studio production_country  \\\n",
       "0  Тачстоун Пикчерз, Кобальт Пикчерз, Бикон Пикче...                США   \n",
       "\n",
       "        director                                   producer  \\\n",
       "0  Кевин Костнер  Дэвид Валдес, Кевин Костнер, Джейк Эбертс   \n",
       "\n",
       "               age_restriction  refundable_support  nonrefundable_support  \\\n",
       "0  «18+» - запрещено для детей                   0                      0   \n",
       "\n",
       "   budget financing_source ratings                      genres  box_office  \\\n",
       "0       0           Другой     7.2  [боевик, драма, мелодрама]         NaN   \n",
       "\n",
       "   support  year  head_director head_genre  \n",
       "0        0  2015  Кевин Костнер     боевик  "
      ]
     },
     "execution_count": 33,
     "metadata": {},
     "output_type": "execute_result"
    }
   ],
   "source": [
    "def first_element(row):\n",
    "    row['head_director'] = row['director'].split(',')[0]\n",
    "    row['head_genre'] = row['genres'][0] #.split(',')\n",
    "    return row\n",
    "data = data.apply(first_element, axis=1)\n",
    "data.head(1)"
   ]
  },
  {
   "cell_type": "code",
   "execution_count": 34,
   "metadata": {
    "id": "LV6qFuZLgFyV"
   },
   "outputs": [
    {
     "data": {
      "text/html": [
       "<div>\n",
       "<style scoped>\n",
       "    .dataframe tbody tr th:only-of-type {\n",
       "        vertical-align: middle;\n",
       "    }\n",
       "\n",
       "    .dataframe tbody tr th {\n",
       "        vertical-align: top;\n",
       "    }\n",
       "\n",
       "    .dataframe thead th {\n",
       "        text-align: right;\n",
       "    }\n",
       "</style>\n",
       "<table border=\"1\" class=\"dataframe\">\n",
       "  <thead>\n",
       "    <tr style=\"text-align: right;\">\n",
       "      <th></th>\n",
       "      <th>title</th>\n",
       "      <th>puNumber</th>\n",
       "      <th>show_start_date</th>\n",
       "      <th>type</th>\n",
       "      <th>film_studio</th>\n",
       "      <th>production_country</th>\n",
       "      <th>director</th>\n",
       "      <th>producer</th>\n",
       "      <th>age_restriction</th>\n",
       "      <th>refundable_support</th>\n",
       "      <th>...</th>\n",
       "      <th>budget</th>\n",
       "      <th>financing_source</th>\n",
       "      <th>ratings</th>\n",
       "      <th>genres</th>\n",
       "      <th>box_office</th>\n",
       "      <th>support</th>\n",
       "      <th>year</th>\n",
       "      <th>head_director</th>\n",
       "      <th>head_genre</th>\n",
       "      <th>support_part</th>\n",
       "    </tr>\n",
       "  </thead>\n",
       "  <tbody>\n",
       "    <tr>\n",
       "      <th>0</th>\n",
       "      <td>Открытый простор</td>\n",
       "      <td>221048915</td>\n",
       "      <td>2015-11-27 12:00:00+00:00</td>\n",
       "      <td>Художественный</td>\n",
       "      <td>Тачстоун Пикчерз, Кобальт Пикчерз, Бикон Пикче...</td>\n",
       "      <td>США</td>\n",
       "      <td>Кевин Костнер</td>\n",
       "      <td>Дэвид Валдес, Кевин Костнер, Джейк Эбертс</td>\n",
       "      <td>«18+» - запрещено для детей</td>\n",
       "      <td>0</td>\n",
       "      <td>...</td>\n",
       "      <td>0</td>\n",
       "      <td>Другой</td>\n",
       "      <td>7.2</td>\n",
       "      <td>[боевик, драма, мелодрама]</td>\n",
       "      <td>NaN</td>\n",
       "      <td>0</td>\n",
       "      <td>2015</td>\n",
       "      <td>Кевин Костнер</td>\n",
       "      <td>боевик</td>\n",
       "      <td>NaN</td>\n",
       "    </tr>\n",
       "  </tbody>\n",
       "</table>\n",
       "<p>1 rows × 21 columns</p>\n",
       "</div>"
      ],
      "text/plain": [
       "              title   puNumber           show_start_date            type  \\\n",
       "0  Открытый простор  221048915 2015-11-27 12:00:00+00:00  Художественный   \n",
       "\n",
       "                                         film_studio production_country  \\\n",
       "0  Тачстоун Пикчерз, Кобальт Пикчерз, Бикон Пикче...                США   \n",
       "\n",
       "        director                                   producer  \\\n",
       "0  Кевин Костнер  Дэвид Валдес, Кевин Костнер, Джейк Эбертс   \n",
       "\n",
       "               age_restriction  refundable_support  ...  budget  \\\n",
       "0  «18+» - запрещено для детей                   0  ...       0   \n",
       "\n",
       "   financing_source ratings                      genres box_office  support  \\\n",
       "0            Другой     7.2  [боевик, драма, мелодрама]        NaN        0   \n",
       "\n",
       "   year  head_director head_genre support_part  \n",
       "0  2015  Кевин Костнер     боевик          NaN  \n",
       "\n",
       "[1 rows x 21 columns]"
      ]
     },
     "execution_count": 34,
     "metadata": {},
     "output_type": "execute_result"
    }
   ],
   "source": [
    "data['support_part'] = (data['refundable_support'] + data['nonrefundable_support']) / data['budget']\n",
    "data.head(1)"
   ]
  },
  {
   "cell_type": "markdown",
   "metadata": {},
   "source": [
    "<div class=\"alert alert-info\">\n",
    "<b> В датасет добавлены новые столбцы для дальнейшего анализа: с информацией о годе проката, с именем и фамилией главного режиссёра и основным жанром фильма.</b> \n",
    "</div>"
   ]
  },
  {
   "cell_type": "markdown",
   "metadata": {
    "id": "6t4EukPLgFyV"
   },
   "source": [
    "### Исследовательский анализ данных\n"
   ]
  },
  {
   "cell_type": "code",
   "execution_count": 35,
   "metadata": {
    "id": "ABeV47y7gFyW"
   },
   "outputs": [
    {
     "data": {
      "text/plain": [
       "array([2015, 2016, 2013, 2014, 2012, 2017, 2010, 2011, 2018, 2019])"
      ]
     },
     "execution_count": 35,
     "metadata": {},
     "output_type": "execute_result"
    }
   ],
   "source": [
    "data['year'].unique()"
   ]
  },
  {
   "cell_type": "code",
   "execution_count": 36,
   "metadata": {},
   "outputs": [
    {
     "data": {
      "image/png": "[encoded data removed]",
      "text/plain": [
       "<Figure size 432x288 with 1 Axes>"
      ]
     },
     "metadata": {
      "needs_background": "light"
     },
     "output_type": "display_data"
    }
   ],
   "source": [
    "data.pivot_table(index = 'year', values = 'puNumber', aggfunc = 'count').plot()\n",
    "plt.ylabel('Количество фильмов')\n",
    "plt.xlabel('Год')\n",
    "plt.title('Количество фильмов по годам')\n",
    "plt.show()"
   ]
  },
  {
   "cell_type": "code",
   "execution_count": 37,
   "metadata": {},
   "outputs": [
    {
     "data": {
      "image/png": "[encoded data removed]",
      "text/plain": [
       "<Figure size 432x288 with 1 Axes>"
      ]
     },
     "metadata": {
      "needs_background": "light"
     },
     "output_type": "display_data"
    }
   ],
   "source": [
    "data.pivot_table(index = 'year', values = ['box_office', 'puNumber'], aggfunc = 'count').plot()\n",
    "plt.title('Сводный график')\n",
    "plt.show()"
   ]
  },
  {
   "cell_type": "code",
   "execution_count": 38,
   "metadata": {},
   "outputs": [
    {
     "data": {
      "image/png": "[encoded data removed]",
      "text/plain": [
       "<Figure size 432x288 with 1 Axes>"
      ]
     },
     "metadata": {
      "needs_background": "light"
     },
     "output_type": "display_data"
    }
   ],
   "source": [
    "rental_share = data.groupby('year')['box_office'].count() / data.groupby('year')['puNumber'].count()\n",
    "rental_share.plot()\n",
    "plt.ylabel('Доля')\n",
    "plt.xlabel('Год')\n",
    "plt.title('Доля проката РФ по годам')\n",
    "plt.show()"
   ]
  },
  {
   "cell_type": "markdown",
   "metadata": {},
   "source": [
    "<div class=\"alert alert-info\">\n",
    "<b> Начиная с 2010 данные показывают рост количества фильмов с указанной информацией о прокате. С 2015 года видим, что доля таких фильмов составляет более половины от всех выходивших в прокат картин. Получаем, что полнее всего представлен период с 2015 по 2019. Самым кассовым был 2017 год.</b> \n",
    "</div>"
   ]
  },
  {
   "cell_type": "code",
   "execution_count": 39,
   "metadata": {
    "id": "tfEhofYvgFyX",
    "scrolled": true
   },
   "outputs": [
    {
     "data": {
      "image/png": "[encoded data removed]",
      "text/plain": [
       "<Figure size 432x288 with 1 Axes>"
      ]
     },
     "metadata": {
      "needs_background": "light"
     },
     "output_type": "display_data"
    }
   ],
   "source": [
    "data.pivot_table(index='year', values='box_office', aggfunc=['sum']).plot()\n",
    "plt.ylabel('Сборы')\n",
    "plt.xlabel('Год')\n",
    "plt.title('Динамика проката по годам')\n",
    "plt.show()"
   ]
  },
  {
   "cell_type": "markdown",
   "metadata": {},
   "source": [
    "<div class=\"alert alert-info\">\n",
    "<b> Минимальная сумма сборов - в 2010, что ожидаемо (меньше фильмов в прокате). Максимальная сумма - в 2018 году.</b> \n",
    "</div>"
   ]
  },
  {
   "cell_type": "code",
   "execution_count": 40,
   "metadata": {
    "id": "jmp-rgg9gFyY"
   },
   "outputs": [
    {
     "data": {
      "text/html": [
       "<div>\n",
       "<style scoped>\n",
       "    .dataframe tbody tr th:only-of-type {\n",
       "        vertical-align: middle;\n",
       "    }\n",
       "\n",
       "    .dataframe tbody tr th {\n",
       "        vertical-align: top;\n",
       "    }\n",
       "\n",
       "    .dataframe thead tr th {\n",
       "        text-align: left;\n",
       "    }\n",
       "\n",
       "    .dataframe thead tr:last-of-type th {\n",
       "        text-align: right;\n",
       "    }\n",
       "</style>\n",
       "<table border=\"1\" class=\"dataframe\">\n",
       "  <thead>\n",
       "    <tr>\n",
       "      <th></th>\n",
       "      <th>mean</th>\n",
       "      <th>median</th>\n",
       "    </tr>\n",
       "    <tr>\n",
       "      <th></th>\n",
       "      <th>box_office</th>\n",
       "      <th>box_office</th>\n",
       "    </tr>\n",
       "    <tr>\n",
       "      <th>year</th>\n",
       "      <th></th>\n",
       "      <th></th>\n",
       "    </tr>\n",
       "  </thead>\n",
       "  <tbody>\n",
       "    <tr>\n",
       "      <th>2010</th>\n",
       "      <td>2.313004e+04</td>\n",
       "      <td>1700.000</td>\n",
       "    </tr>\n",
       "    <tr>\n",
       "      <th>2011</th>\n",
       "      <td>1.293832e+05</td>\n",
       "      <td>3000.000</td>\n",
       "    </tr>\n",
       "    <tr>\n",
       "      <th>2012</th>\n",
       "      <td>5.441790e+04</td>\n",
       "      <td>5560.000</td>\n",
       "    </tr>\n",
       "    <tr>\n",
       "      <th>2013</th>\n",
       "      <td>1.619549e+05</td>\n",
       "      <td>3522.500</td>\n",
       "    </tr>\n",
       "    <tr>\n",
       "      <th>2014</th>\n",
       "      <td>2.668442e+07</td>\n",
       "      <td>18160.000</td>\n",
       "    </tr>\n",
       "    <tr>\n",
       "      <th>2015</th>\n",
       "      <td>8.494057e+07</td>\n",
       "      <td>4920933.000</td>\n",
       "    </tr>\n",
       "    <tr>\n",
       "      <th>2016</th>\n",
       "      <td>9.117353e+07</td>\n",
       "      <td>3915041.020</td>\n",
       "    </tr>\n",
       "    <tr>\n",
       "      <th>2017</th>\n",
       "      <td>1.360328e+08</td>\n",
       "      <td>9968340.000</td>\n",
       "    </tr>\n",
       "    <tr>\n",
       "      <th>2018</th>\n",
       "      <td>1.047856e+08</td>\n",
       "      <td>8911533.935</td>\n",
       "    </tr>\n",
       "    <tr>\n",
       "      <th>2019</th>\n",
       "      <td>9.136926e+07</td>\n",
       "      <td>4627798.345</td>\n",
       "    </tr>\n",
       "  </tbody>\n",
       "</table>\n",
       "</div>"
      ],
      "text/plain": [
       "              mean       median\n",
       "        box_office   box_office\n",
       "year                           \n",
       "2010  2.313004e+04     1700.000\n",
       "2011  1.293832e+05     3000.000\n",
       "2012  5.441790e+04     5560.000\n",
       "2013  1.619549e+05     3522.500\n",
       "2014  2.668442e+07    18160.000\n",
       "2015  8.494057e+07  4920933.000\n",
       "2016  9.117353e+07  3915041.020\n",
       "2017  1.360328e+08  9968340.000\n",
       "2018  1.047856e+08  8911533.935\n",
       "2019  9.136926e+07  4627798.345"
      ]
     },
     "execution_count": 40,
     "metadata": {},
     "output_type": "execute_result"
    }
   ],
   "source": [
    "data.pivot_table(index='year', values='box_office', aggfunc=['mean','median'])"
   ]
  },
  {
   "cell_type": "markdown",
   "metadata": {},
   "source": [
    "<div class=\"alert alert-info\">\n",
    "<b> Подтверждаем гипотезу о том, что с 2010 по 2014 доля фильмов с указанной информацией о прокате минимальна и объективному анализу не подлежит. Наблюдаем разницу в несколько порядков между средними и медианными значениями сборов до 2015, что может быть связано с #(недостаточной информацией о прокате по этим годам) тем, что сумма кассовых сборов с 2015 года горазда больше.</b> \n",
    "</div>"
   ]
  },
  {
   "cell_type": "code",
   "execution_count": 41,
   "metadata": {},
   "outputs": [
    {
     "data": {
      "image/png": "[encoded data removed]",
      "text/plain": [
       "<Figure size 432x288 with 1 Axes>"
      ]
     },
     "metadata": {
      "needs_background": "light"
     },
     "output_type": "display_data"
    }
   ],
   "source": [
    "data.pivot_table(index='year', values='box_office', aggfunc=['mean','median']).plot()\n",
    "plt.ylabel('Сборы')\n",
    "plt.xlabel('Год')\n",
    "plt.title('Сводный график прокатных сборов')\n",
    "plt.show()"
   ]
  },
  {
   "cell_type": "code",
   "execution_count": 42,
   "metadata": {
    "id": "jsSbEqfjgFya"
   },
   "outputs": [
    {
     "data": {
      "text/plain": [
       "array(['«18+» - запрещено для детей', '«6+» - для детей старше 6 лет',\n",
       "       '«12+» - для детей старше 12 лет',\n",
       "       '«16+» - для детей старше 16 лет',\n",
       "       '«0+» - для любой зрительской аудитории'], dtype=object)"
      ]
     },
     "execution_count": 42,
     "metadata": {},
     "output_type": "execute_result"
    }
   ],
   "source": [
    "data['age_restriction'].unique()"
   ]
  },
  {
   "cell_type": "code",
   "execution_count": 43,
   "metadata": {
    "scrolled": true
   },
   "outputs": [
    {
     "data": {
      "text/html": [
       "<div>\n",
       "<style scoped>\n",
       "    .dataframe tbody tr th:only-of-type {\n",
       "        vertical-align: middle;\n",
       "    }\n",
       "\n",
       "    .dataframe tbody tr th {\n",
       "        vertical-align: top;\n",
       "    }\n",
       "\n",
       "    .dataframe thead tr th {\n",
       "        text-align: left;\n",
       "    }\n",
       "\n",
       "    .dataframe thead tr:last-of-type th {\n",
       "        text-align: right;\n",
       "    }\n",
       "</style>\n",
       "<table border=\"1\" class=\"dataframe\">\n",
       "  <thead>\n",
       "    <tr>\n",
       "      <th></th>\n",
       "      <th>mean</th>\n",
       "      <th>count</th>\n",
       "    </tr>\n",
       "    <tr>\n",
       "      <th></th>\n",
       "      <th>box_office</th>\n",
       "      <th>box_office</th>\n",
       "    </tr>\n",
       "    <tr>\n",
       "      <th>age_restriction</th>\n",
       "      <th></th>\n",
       "      <th></th>\n",
       "    </tr>\n",
       "  </thead>\n",
       "  <tbody>\n",
       "    <tr>\n",
       "      <th>«0+» - для любой зрительской аудитории</th>\n",
       "      <td>8.987588e+06</td>\n",
       "      <td>90</td>\n",
       "    </tr>\n",
       "    <tr>\n",
       "      <th>«12+» - для детей старше 12 лет</th>\n",
       "      <td>1.746957e+08</td>\n",
       "      <td>347</td>\n",
       "    </tr>\n",
       "    <tr>\n",
       "      <th>«16+» - для детей старше 16 лет</th>\n",
       "      <td>9.445309e+07</td>\n",
       "      <td>805</td>\n",
       "    </tr>\n",
       "    <tr>\n",
       "      <th>«18+» - запрещено для детей</th>\n",
       "      <td>5.146416e+07</td>\n",
       "      <td>792</td>\n",
       "    </tr>\n",
       "    <tr>\n",
       "      <th>«6+» - для детей старше 6 лет</th>\n",
       "      <td>1.760209e+08</td>\n",
       "      <td>317</td>\n",
       "    </tr>\n",
       "  </tbody>\n",
       "</table>\n",
       "</div>"
      ],
      "text/plain": [
       "                                                mean      count\n",
       "                                          box_office box_office\n",
       "age_restriction                                                \n",
       "«0+» - для любой зрительской аудитории  8.987588e+06         90\n",
       "«12+» - для детей старше 12 лет         1.746957e+08        347\n",
       "«16+» - для детей старше 16 лет         9.445309e+07        805\n",
       "«18+» - запрещено для детей             5.146416e+07        792\n",
       "«6+» - для детей старше 6 лет           1.760209e+08        317"
      ]
     },
     "execution_count": 43,
     "metadata": {},
     "output_type": "execute_result"
    }
   ],
   "source": [
    "data_final = data.query('year == [2015, 2016, 2017, 2018, 2019]')\n",
    "data_final.pivot_table(index='age_restriction', values='box_office', aggfunc=['mean', 'count'])"
   ]
  },
  {
   "cell_type": "markdown",
   "metadata": {},
   "source": [
    "<div class=\"alert alert-info\">\n",
    "<b> Суммарно за пять лет видим, что возрастное ограничение аудитории влияет на сборы фильма в прокате. В прокате лидируют фильмы для детей (категории 6+ и 12+), минимальные сборы - у картин для любой зрительской аудитории.</b> \n",
    "</div>"
   ]
  },
  {
   "cell_type": "code",
   "execution_count": 44,
   "metadata": {},
   "outputs": [
    {
     "data": {
      "text/html": [
       "<div>\n",
       "<style scoped>\n",
       "    .dataframe tbody tr th:only-of-type {\n",
       "        vertical-align: middle;\n",
       "    }\n",
       "\n",
       "    .dataframe tbody tr th {\n",
       "        vertical-align: top;\n",
       "    }\n",
       "\n",
       "    .dataframe thead tr th {\n",
       "        text-align: left;\n",
       "    }\n",
       "\n",
       "    .dataframe thead tr:last-of-type th {\n",
       "        text-align: right;\n",
       "    }\n",
       "</style>\n",
       "<table border=\"1\" class=\"dataframe\">\n",
       "  <thead>\n",
       "    <tr>\n",
       "      <th></th>\n",
       "      <th>mean</th>\n",
       "      <th>count</th>\n",
       "    </tr>\n",
       "    <tr>\n",
       "      <th></th>\n",
       "      <th>box_office</th>\n",
       "      <th>box_office</th>\n",
       "    </tr>\n",
       "    <tr>\n",
       "      <th>age_restriction</th>\n",
       "      <th></th>\n",
       "      <th></th>\n",
       "    </tr>\n",
       "  </thead>\n",
       "  <tbody>\n",
       "    <tr>\n",
       "      <th>«0+» - для любой зрительской аудитории</th>\n",
       "      <td>9.719348e+06</td>\n",
       "      <td>39</td>\n",
       "    </tr>\n",
       "    <tr>\n",
       "      <th>«12+» - для детей старше 12 лет</th>\n",
       "      <td>1.865217e+08</td>\n",
       "      <td>73</td>\n",
       "    </tr>\n",
       "    <tr>\n",
       "      <th>«16+» - для детей старше 16 лет</th>\n",
       "      <td>6.766739e+07</td>\n",
       "      <td>168</td>\n",
       "    </tr>\n",
       "    <tr>\n",
       "      <th>«18+» - запрещено для детей</th>\n",
       "      <td>4.115385e+07</td>\n",
       "      <td>132</td>\n",
       "    </tr>\n",
       "    <tr>\n",
       "      <th>«6+» - для детей старше 6 лет</th>\n",
       "      <td>1.641849e+08</td>\n",
       "      <td>53</td>\n",
       "    </tr>\n",
       "  </tbody>\n",
       "</table>\n",
       "</div>"
      ],
      "text/plain": [
       "                                                mean      count\n",
       "                                          box_office box_office\n",
       "age_restriction                                                \n",
       "«0+» - для любой зрительской аудитории  9.719348e+06         39\n",
       "«12+» - для детей старше 12 лет         1.865217e+08         73\n",
       "«16+» - для детей старше 16 лет         6.766739e+07        168\n",
       "«18+» - запрещено для детей             4.115385e+07        132\n",
       "«6+» - для детей старше 6 лет           1.641849e+08         53"
      ]
     },
     "execution_count": 44,
     "metadata": {},
     "output_type": "execute_result"
    }
   ],
   "source": [
    "data.query('year == 2015').pivot_table(index='age_restriction', values='box_office', aggfunc=['mean', 'count'])"
   ]
  },
  {
   "cell_type": "code",
   "execution_count": 45,
   "metadata": {},
   "outputs": [
    {
     "data": {
      "text/html": [
       "<div>\n",
       "<style scoped>\n",
       "    .dataframe tbody tr th:only-of-type {\n",
       "        vertical-align: middle;\n",
       "    }\n",
       "\n",
       "    .dataframe tbody tr th {\n",
       "        vertical-align: top;\n",
       "    }\n",
       "\n",
       "    .dataframe thead tr th {\n",
       "        text-align: left;\n",
       "    }\n",
       "\n",
       "    .dataframe thead tr:last-of-type th {\n",
       "        text-align: right;\n",
       "    }\n",
       "</style>\n",
       "<table border=\"1\" class=\"dataframe\">\n",
       "  <thead>\n",
       "    <tr>\n",
       "      <th></th>\n",
       "      <th>mean</th>\n",
       "      <th>count</th>\n",
       "    </tr>\n",
       "    <tr>\n",
       "      <th></th>\n",
       "      <th>box_office</th>\n",
       "      <th>box_office</th>\n",
       "    </tr>\n",
       "    <tr>\n",
       "      <th>age_restriction</th>\n",
       "      <th></th>\n",
       "      <th></th>\n",
       "    </tr>\n",
       "  </thead>\n",
       "  <tbody>\n",
       "    <tr>\n",
       "      <th>«0+» - для любой зрительской аудитории</th>\n",
       "      <td>3.750858e+06</td>\n",
       "      <td>40</td>\n",
       "    </tr>\n",
       "    <tr>\n",
       "      <th>«12+» - для детей старше 12 лет</th>\n",
       "      <td>1.488347e+08</td>\n",
       "      <td>82</td>\n",
       "    </tr>\n",
       "    <tr>\n",
       "      <th>«16+» - для детей старше 16 лет</th>\n",
       "      <td>9.156345e+07</td>\n",
       "      <td>182</td>\n",
       "    </tr>\n",
       "    <tr>\n",
       "      <th>«18+» - запрещено для детей</th>\n",
       "      <td>4.499291e+07</td>\n",
       "      <td>151</td>\n",
       "    </tr>\n",
       "    <tr>\n",
       "      <th>«6+» - для детей старше 6 лет</th>\n",
       "      <td>1.721878e+08</td>\n",
       "      <td>70</td>\n",
       "    </tr>\n",
       "  </tbody>\n",
       "</table>\n",
       "</div>"
      ],
      "text/plain": [
       "                                                mean      count\n",
       "                                          box_office box_office\n",
       "age_restriction                                                \n",
       "«0+» - для любой зрительской аудитории  3.750858e+06         40\n",
       "«12+» - для детей старше 12 лет         1.488347e+08         82\n",
       "«16+» - для детей старше 16 лет         9.156345e+07        182\n",
       "«18+» - запрещено для детей             4.499291e+07        151\n",
       "«6+» - для детей старше 6 лет           1.721878e+08         70"
      ]
     },
     "execution_count": 45,
     "metadata": {},
     "output_type": "execute_result"
    }
   ],
   "source": [
    "data.query('year == 2016').pivot_table(index='age_restriction', values='box_office', aggfunc=['mean', 'count'])"
   ]
  },
  {
   "cell_type": "code",
   "execution_count": 46,
   "metadata": {},
   "outputs": [
    {
     "data": {
      "text/html": [
       "<div>\n",
       "<style scoped>\n",
       "    .dataframe tbody tr th:only-of-type {\n",
       "        vertical-align: middle;\n",
       "    }\n",
       "\n",
       "    .dataframe tbody tr th {\n",
       "        vertical-align: top;\n",
       "    }\n",
       "\n",
       "    .dataframe thead tr th {\n",
       "        text-align: left;\n",
       "    }\n",
       "\n",
       "    .dataframe thead tr:last-of-type th {\n",
       "        text-align: right;\n",
       "    }\n",
       "</style>\n",
       "<table border=\"1\" class=\"dataframe\">\n",
       "  <thead>\n",
       "    <tr>\n",
       "      <th></th>\n",
       "      <th>mean</th>\n",
       "      <th>count</th>\n",
       "    </tr>\n",
       "    <tr>\n",
       "      <th></th>\n",
       "      <th>box_office</th>\n",
       "      <th>box_office</th>\n",
       "    </tr>\n",
       "    <tr>\n",
       "      <th>age_restriction</th>\n",
       "      <th></th>\n",
       "      <th></th>\n",
       "    </tr>\n",
       "  </thead>\n",
       "  <tbody>\n",
       "    <tr>\n",
       "      <th>«0+» - для любой зрительской аудитории</th>\n",
       "      <td>7.653298e+07</td>\n",
       "      <td>3</td>\n",
       "    </tr>\n",
       "    <tr>\n",
       "      <th>«12+» - для детей старше 12 лет</th>\n",
       "      <td>1.914982e+08</td>\n",
       "      <td>41</td>\n",
       "    </tr>\n",
       "    <tr>\n",
       "      <th>«16+» - для детей старше 16 лет</th>\n",
       "      <td>1.549177e+08</td>\n",
       "      <td>121</td>\n",
       "    </tr>\n",
       "    <tr>\n",
       "      <th>«18+» - запрещено для детей</th>\n",
       "      <td>6.565643e+07</td>\n",
       "      <td>147</td>\n",
       "    </tr>\n",
       "    <tr>\n",
       "      <th>«6+» - для детей старше 6 лет</th>\n",
       "      <td>2.685809e+08</td>\n",
       "      <td>45</td>\n",
       "    </tr>\n",
       "  </tbody>\n",
       "</table>\n",
       "</div>"
      ],
      "text/plain": [
       "                                                mean      count\n",
       "                                          box_office box_office\n",
       "age_restriction                                                \n",
       "«0+» - для любой зрительской аудитории  7.653298e+07          3\n",
       "«12+» - для детей старше 12 лет         1.914982e+08         41\n",
       "«16+» - для детей старше 16 лет         1.549177e+08        121\n",
       "«18+» - запрещено для детей             6.565643e+07        147\n",
       "«6+» - для детей старше 6 лет           2.685809e+08         45"
      ]
     },
     "execution_count": 46,
     "metadata": {},
     "output_type": "execute_result"
    }
   ],
   "source": [
    "data.query('year == 2017').pivot_table(index='age_restriction', values='box_office', aggfunc=['mean', 'count'])"
   ]
  },
  {
   "cell_type": "code",
   "execution_count": 47,
   "metadata": {},
   "outputs": [
    {
     "data": {
      "text/html": [
       "<div>\n",
       "<style scoped>\n",
       "    .dataframe tbody tr th:only-of-type {\n",
       "        vertical-align: middle;\n",
       "    }\n",
       "\n",
       "    .dataframe tbody tr th {\n",
       "        vertical-align: top;\n",
       "    }\n",
       "\n",
       "    .dataframe thead tr th {\n",
       "        text-align: left;\n",
       "    }\n",
       "\n",
       "    .dataframe thead tr:last-of-type th {\n",
       "        text-align: right;\n",
       "    }\n",
       "</style>\n",
       "<table border=\"1\" class=\"dataframe\">\n",
       "  <thead>\n",
       "    <tr>\n",
       "      <th></th>\n",
       "      <th>mean</th>\n",
       "      <th>count</th>\n",
       "    </tr>\n",
       "    <tr>\n",
       "      <th></th>\n",
       "      <th>box_office</th>\n",
       "      <th>box_office</th>\n",
       "    </tr>\n",
       "    <tr>\n",
       "      <th>age_restriction</th>\n",
       "      <th></th>\n",
       "      <th></th>\n",
       "    </tr>\n",
       "  </thead>\n",
       "  <tbody>\n",
       "    <tr>\n",
       "      <th>«0+» - для любой зрительской аудитории</th>\n",
       "      <td>6.489800e+06</td>\n",
       "      <td>5</td>\n",
       "    </tr>\n",
       "    <tr>\n",
       "      <th>«12+» - для детей старше 12 лет</th>\n",
       "      <td>2.161705e+08</td>\n",
       "      <td>66</td>\n",
       "    </tr>\n",
       "    <tr>\n",
       "      <th>«16+» - для детей старше 16 лет</th>\n",
       "      <td>1.057923e+08</td>\n",
       "      <td>156</td>\n",
       "    </tr>\n",
       "    <tr>\n",
       "      <th>«18+» - запрещено для детей</th>\n",
       "      <td>4.893903e+07</td>\n",
       "      <td>179</td>\n",
       "    </tr>\n",
       "    <tr>\n",
       "      <th>«6+» - для детей старше 6 лет</th>\n",
       "      <td>1.486026e+08</td>\n",
       "      <td>68</td>\n",
       "    </tr>\n",
       "  </tbody>\n",
       "</table>\n",
       "</div>"
      ],
      "text/plain": [
       "                                                mean      count\n",
       "                                          box_office box_office\n",
       "age_restriction                                                \n",
       "«0+» - для любой зрительской аудитории  6.489800e+06          5\n",
       "«12+» - для детей старше 12 лет         2.161705e+08         66\n",
       "«16+» - для детей старше 16 лет         1.057923e+08        156\n",
       "«18+» - запрещено для детей             4.893903e+07        179\n",
       "«6+» - для детей старше 6 лет           1.486026e+08         68"
      ]
     },
     "execution_count": 47,
     "metadata": {},
     "output_type": "execute_result"
    }
   ],
   "source": [
    "data.query('year == 2018').pivot_table(index='age_restriction', values='box_office', aggfunc=['mean', 'count'])"
   ]
  },
  {
   "cell_type": "code",
   "execution_count": 48,
   "metadata": {},
   "outputs": [
    {
     "data": {
      "text/html": [
       "<div>\n",
       "<style scoped>\n",
       "    .dataframe tbody tr th:only-of-type {\n",
       "        vertical-align: middle;\n",
       "    }\n",
       "\n",
       "    .dataframe tbody tr th {\n",
       "        vertical-align: top;\n",
       "    }\n",
       "\n",
       "    .dataframe thead tr th {\n",
       "        text-align: left;\n",
       "    }\n",
       "\n",
       "    .dataframe thead tr:last-of-type th {\n",
       "        text-align: right;\n",
       "    }\n",
       "</style>\n",
       "<table border=\"1\" class=\"dataframe\">\n",
       "  <thead>\n",
       "    <tr>\n",
       "      <th></th>\n",
       "      <th>mean</th>\n",
       "      <th>count</th>\n",
       "    </tr>\n",
       "    <tr>\n",
       "      <th></th>\n",
       "      <th>box_office</th>\n",
       "      <th>box_office</th>\n",
       "    </tr>\n",
       "    <tr>\n",
       "      <th>age_restriction</th>\n",
       "      <th></th>\n",
       "      <th></th>\n",
       "    </tr>\n",
       "  </thead>\n",
       "  <tbody>\n",
       "    <tr>\n",
       "      <th>«0+» - для любой зрительской аудитории</th>\n",
       "      <td>5.915356e+06</td>\n",
       "      <td>3</td>\n",
       "    </tr>\n",
       "    <tr>\n",
       "      <th>«12+» - для детей старше 12 лет</th>\n",
       "      <td>1.491788e+08</td>\n",
       "      <td>85</td>\n",
       "    </tr>\n",
       "    <tr>\n",
       "      <th>«16+» - для детей старше 16 лет</th>\n",
       "      <td>7.164842e+07</td>\n",
       "      <td>178</td>\n",
       "    </tr>\n",
       "    <tr>\n",
       "      <th>«18+» - запрещено для детей</th>\n",
       "      <td>5.531036e+07</td>\n",
       "      <td>183</td>\n",
       "    </tr>\n",
       "    <tr>\n",
       "      <th>«6+» - для детей старше 6 лет</th>\n",
       "      <td>1.586734e+08</td>\n",
       "      <td>81</td>\n",
       "    </tr>\n",
       "  </tbody>\n",
       "</table>\n",
       "</div>"
      ],
      "text/plain": [
       "                                                mean      count\n",
       "                                          box_office box_office\n",
       "age_restriction                                                \n",
       "«0+» - для любой зрительской аудитории  5.915356e+06          3\n",
       "«12+» - для детей старше 12 лет         1.491788e+08         85\n",
       "«16+» - для детей старше 16 лет         7.164842e+07        178\n",
       "«18+» - запрещено для детей             5.531036e+07        183\n",
       "«6+» - для детей старше 6 лет           1.586734e+08         81"
      ]
     },
     "execution_count": 48,
     "metadata": {},
     "output_type": "execute_result"
    }
   ],
   "source": [
    "data.query('year == 2019').pivot_table(index='age_restriction', values='box_office', aggfunc=['mean', 'count'])"
   ]
  },
  {
   "cell_type": "markdown",
   "metadata": {},
   "source": [
    "<div class=\"alert alert-info\">\n",
    "<b> Картина не меняется в зависимости от года. Единственное отличие - в том, что фильмов в категории \"0+\" с годами стало появляться в прокате меньше, вероятно, из-за сниженных кассовых сборов по сравнению с другими категориями фильмов.</b> \n",
    "</div>"
   ]
  },
  {
   "cell_type": "code",
   "execution_count": 49,
   "metadata": {},
   "outputs": [
    {
     "data": {
      "image/png": "[encoded data removed]",
      "text/plain": [
       "<Figure size 936x432 with 1 Axes>"
      ]
     },
     "metadata": {
      "needs_background": "light"
     },
     "output_type": "display_data"
    }
   ],
   "source": [
    "data.query('year == [2015, 2016, 2017, 2018, 2019]').pivot_table(index='year', columns='age_restriction', values='box_office', aggfunc='mean').plot(figsize=(13,6))\n",
    "plt.ylabel('Сборы')\n",
    "plt.xlabel('Год')\n",
    "plt.xticks(np.arange(min(data['year'])+5, max(data['year'])+1, 1.0))\n",
    "plt.title('Сводный график возрастных категорий')\n",
    "plt.show()"
   ]
  },
  {
   "cell_type": "markdown",
   "metadata": {},
   "source": [
    "<div class=\"alert alert-info\">\n",
    "<b> Рассмотрели, сколько фильмов выходило в прокат каждый год всего и в отечественном прокате. Прокат фильмов в РФ признан годным для анализа с 2015 года.\n",
    "    Рассчитали среднюю и медианную сумму сборов для каждого года вкачестве доказательства.\n",
    "    Определили, что возрастное ограничение аудитории влияет на сборы фильма в прокате. Категории 6+ и 12+ собрали больше всего денег в прокате ежегодно. </b> \n",
    "</div"
   ]
  },
  {
   "cell_type": "markdown",
   "metadata": {
    "id": "l_Kg6Ku4gFya"
   },
   "source": [
    "### Исследование фильмов, получивших государственную поддержку"
   ]
  },
  {
   "cell_type": "code",
   "execution_count": 50,
   "metadata": {
    "id": "W9QKpjUdgFyb",
    "scrolled": true
   },
   "outputs": [
    {
     "data": {
      "text/html": [
       "<div>\n",
       "<style scoped>\n",
       "    .dataframe tbody tr th:only-of-type {\n",
       "        vertical-align: middle;\n",
       "    }\n",
       "\n",
       "    .dataframe tbody tr th {\n",
       "        vertical-align: top;\n",
       "    }\n",
       "\n",
       "    .dataframe thead th {\n",
       "        text-align: right;\n",
       "    }\n",
       "</style>\n",
       "<table border=\"1\" class=\"dataframe\">\n",
       "  <thead>\n",
       "    <tr style=\"text-align: right;\">\n",
       "      <th></th>\n",
       "      <th>title</th>\n",
       "      <th>puNumber</th>\n",
       "      <th>show_start_date</th>\n",
       "      <th>type</th>\n",
       "      <th>film_studio</th>\n",
       "      <th>production_country</th>\n",
       "      <th>director</th>\n",
       "      <th>producer</th>\n",
       "      <th>age_restriction</th>\n",
       "      <th>refundable_support</th>\n",
       "      <th>...</th>\n",
       "      <th>budget</th>\n",
       "      <th>financing_source</th>\n",
       "      <th>ratings</th>\n",
       "      <th>genres</th>\n",
       "      <th>box_office</th>\n",
       "      <th>support</th>\n",
       "      <th>year</th>\n",
       "      <th>head_director</th>\n",
       "      <th>head_genre</th>\n",
       "      <th>support_part</th>\n",
       "    </tr>\n",
       "  </thead>\n",
       "  <tbody>\n",
       "    <tr>\n",
       "      <th>1281</th>\n",
       "      <td>Пока еще жива</td>\n",
       "      <td>111005313</td>\n",
       "      <td>2013-10-11 12:00:00+00:00</td>\n",
       "      <td>Художественный</td>\n",
       "      <td>АНО содействия развитию кинематографии \"Ангел-...</td>\n",
       "      <td>Россия</td>\n",
       "      <td>А.Атанесян</td>\n",
       "      <td>А.Атанесян, М.Бабаханов, Р.Бутко</td>\n",
       "      <td>«16+» - для детей старше 16 лет</td>\n",
       "      <td>0</td>\n",
       "      <td>...</td>\n",
       "      <td>79411900</td>\n",
       "      <td>Министерство культуры</td>\n",
       "      <td>8.1</td>\n",
       "      <td>[драма, мелодрама]</td>\n",
       "      <td>3.653536e+05</td>\n",
       "      <td>26500000</td>\n",
       "      <td>2013</td>\n",
       "      <td>А.Атанесян</td>\n",
       "      <td>драма</td>\n",
       "      <td>0.333703</td>\n",
       "    </tr>\n",
       "    <tr>\n",
       "      <th>1448</th>\n",
       "      <td>Бесславные придурки</td>\n",
       "      <td>111003314</td>\n",
       "      <td>2014-03-28 12:00:00+00:00</td>\n",
       "      <td>Художественный</td>\n",
       "      <td>ООО \"Компания \"АТК-Студио\"</td>\n",
       "      <td>Россия</td>\n",
       "      <td>А.Якимчук</td>\n",
       "      <td>А.Тютрюмов</td>\n",
       "      <td>«12+» - для детей старше 12 лет</td>\n",
       "      <td>0</td>\n",
       "      <td>...</td>\n",
       "      <td>37142857</td>\n",
       "      <td>Министерство культуры</td>\n",
       "      <td>NaN</td>\n",
       "      <td>[nan]</td>\n",
       "      <td>2.814000e+04</td>\n",
       "      <td>26000000</td>\n",
       "      <td>2014</td>\n",
       "      <td>А.Якимчук</td>\n",
       "      <td>nan</td>\n",
       "      <td>0.700000</td>\n",
       "    </tr>\n",
       "    <tr>\n",
       "      <th>1498</th>\n",
       "      <td>Невидимки</td>\n",
       "      <td>111004213</td>\n",
       "      <td>2013-09-10 12:00:00+00:00</td>\n",
       "      <td>Художественный</td>\n",
       "      <td>ООО \"Компания \"РЕАЛ-ДАКОТА\"</td>\n",
       "      <td>Россия</td>\n",
       "      <td>Р.Давлетьяров, С.Комаров</td>\n",
       "      <td>Р.Давлетьяров, А.Котелевский, А.Олейников</td>\n",
       "      <td>«12+» - для детей старше 12 лет</td>\n",
       "      <td>0</td>\n",
       "      <td>...</td>\n",
       "      <td>176023490</td>\n",
       "      <td>Фонд кино</td>\n",
       "      <td>5.3</td>\n",
       "      <td>[комедия, фантастика]</td>\n",
       "      <td>1.995703e+07</td>\n",
       "      <td>107847945</td>\n",
       "      <td>2013</td>\n",
       "      <td>Р.Давлетьяров</td>\n",
       "      <td>комедия</td>\n",
       "      <td>0.612691</td>\n",
       "    </tr>\n",
       "    <tr>\n",
       "      <th>1524</th>\n",
       "      <td>БЕРЦЫ</td>\n",
       "      <td>111004314</td>\n",
       "      <td>2014-05-05 12:00:00+00:00</td>\n",
       "      <td>Художественный</td>\n",
       "      <td>ООО \"Студия \"Пассажир\"</td>\n",
       "      <td>Россия</td>\n",
       "      <td>Е.Миндадзе (псевдоним Катя Шагалова)</td>\n",
       "      <td>Л.Антонова</td>\n",
       "      <td>«16+» - для детей старше 16 лет</td>\n",
       "      <td>0</td>\n",
       "      <td>...</td>\n",
       "      <td>40574140</td>\n",
       "      <td>Министерство культуры</td>\n",
       "      <td>4.2</td>\n",
       "      <td>[драма]</td>\n",
       "      <td>5.591750e+04</td>\n",
       "      <td>28000000</td>\n",
       "      <td>2014</td>\n",
       "      <td>Е.Миндадзе (псевдоним Катя Шагалова)</td>\n",
       "      <td>драма</td>\n",
       "      <td>0.690095</td>\n",
       "    </tr>\n",
       "    <tr>\n",
       "      <th>1792</th>\n",
       "      <td>Братья Ч</td>\n",
       "      <td>111004414</td>\n",
       "      <td>2014-04-23 12:00:00+00:00</td>\n",
       "      <td>Художественный</td>\n",
       "      <td>ООО \"Студия \"Пассажир\"</td>\n",
       "      <td>Россия</td>\n",
       "      <td>М.Угаров</td>\n",
       "      <td>А.Миндадзе, Л.Антонова</td>\n",
       "      <td>«16+» - для детей старше 16 лет</td>\n",
       "      <td>0</td>\n",
       "      <td>...</td>\n",
       "      <td>40015122</td>\n",
       "      <td>Министерство культуры</td>\n",
       "      <td>6.4</td>\n",
       "      <td>[драма]</td>\n",
       "      <td>2.321000e+05</td>\n",
       "      <td>25000000</td>\n",
       "      <td>2014</td>\n",
       "      <td>М.Угаров</td>\n",
       "      <td>драма</td>\n",
       "      <td>0.624764</td>\n",
       "    </tr>\n",
       "    <tr>\n",
       "      <th>...</th>\n",
       "      <td>...</td>\n",
       "      <td>...</td>\n",
       "      <td>...</td>\n",
       "      <td>...</td>\n",
       "      <td>...</td>\n",
       "      <td>...</td>\n",
       "      <td>...</td>\n",
       "      <td>...</td>\n",
       "      <td>...</td>\n",
       "      <td>...</td>\n",
       "      <td>...</td>\n",
       "      <td>...</td>\n",
       "      <td>...</td>\n",
       "      <td>...</td>\n",
       "      <td>...</td>\n",
       "      <td>...</td>\n",
       "      <td>...</td>\n",
       "      <td>...</td>\n",
       "      <td>...</td>\n",
       "      <td>...</td>\n",
       "      <td>...</td>\n",
       "    </tr>\n",
       "    <tr>\n",
       "      <th>7463</th>\n",
       "      <td>Союз спасения</td>\n",
       "      <td>111022019</td>\n",
       "      <td>2019-12-26 12:00:00+00:00</td>\n",
       "      <td>Художественный</td>\n",
       "      <td>ЗАО \"Дирекция кино\"</td>\n",
       "      <td>Россия</td>\n",
       "      <td>А.Кравчук</td>\n",
       "      <td>А.Максимов, К.Эрнст</td>\n",
       "      <td>«12+» - для детей старше 12 лет</td>\n",
       "      <td>100000000</td>\n",
       "      <td>...</td>\n",
       "      <td>980000000</td>\n",
       "      <td>Фонд кино</td>\n",
       "      <td>6.0</td>\n",
       "      <td>[история, биография, драма]</td>\n",
       "      <td>7.177032e+08</td>\n",
       "      <td>500000000</td>\n",
       "      <td>2019</td>\n",
       "      <td>А.Кравчук</td>\n",
       "      <td>история</td>\n",
       "      <td>0.510204</td>\n",
       "    </tr>\n",
       "    <tr>\n",
       "      <th>7465</th>\n",
       "      <td>Иван Царевич и Серый Волк 4</td>\n",
       "      <td>114005019</td>\n",
       "      <td>2019-12-20 12:00:00+00:00</td>\n",
       "      <td>Анимационный</td>\n",
       "      <td>ООО \"Студия анимационного кино \"Мельница\"</td>\n",
       "      <td>Россия</td>\n",
       "      <td>Д.Шмидт, К.Феоктистов</td>\n",
       "      <td>С.Сельянов, А.Боярский</td>\n",
       "      <td>«6+» - для детей старше 6 лет</td>\n",
       "      <td>100000000</td>\n",
       "      <td>...</td>\n",
       "      <td>190000000</td>\n",
       "      <td>Фонд кино</td>\n",
       "      <td>6.7</td>\n",
       "      <td>[мультфильм, приключения, семейный]</td>\n",
       "      <td>5.010692e+08</td>\n",
       "      <td>100000000</td>\n",
       "      <td>2019</td>\n",
       "      <td>Д.Шмидт</td>\n",
       "      <td>мультфильм</td>\n",
       "      <td>0.526316</td>\n",
       "    </tr>\n",
       "    <tr>\n",
       "      <th>7473</th>\n",
       "      <td>Вторжение</td>\n",
       "      <td>111022519</td>\n",
       "      <td>2019-12-23 12:00:00+00:00</td>\n",
       "      <td>Художественный</td>\n",
       "      <td>ООО \"Арт Пикчерс Студия\", ООО \"Водород 2011\"</td>\n",
       "      <td>Россия</td>\n",
       "      <td>Ф.Бондарчук</td>\n",
       "      <td>Ф.Бондарчук, М.Врубель, А.Андрющенко, Д.Рудовский</td>\n",
       "      <td>«12+» - для детей старше 12 лет</td>\n",
       "      <td>100000000</td>\n",
       "      <td>...</td>\n",
       "      <td>944000000</td>\n",
       "      <td>Фонд кино</td>\n",
       "      <td>5.7</td>\n",
       "      <td>[фантастика, боевик]</td>\n",
       "      <td>NaN</td>\n",
       "      <td>500000000</td>\n",
       "      <td>2019</td>\n",
       "      <td>Ф.Бондарчук</td>\n",
       "      <td>фантастика</td>\n",
       "      <td>0.529661</td>\n",
       "    </tr>\n",
       "    <tr>\n",
       "      <th>7475</th>\n",
       "      <td>Я свободен</td>\n",
       "      <td>111023019</td>\n",
       "      <td>2019-12-26 12:00:00+00:00</td>\n",
       "      <td>Художественный</td>\n",
       "      <td>АО \"ТПО \"Киностудия им. М.Горького\"</td>\n",
       "      <td>Россия</td>\n",
       "      <td>И.Северов</td>\n",
       "      <td>С.Зернов</td>\n",
       "      <td>«12+» - для детей старше 12 лет</td>\n",
       "      <td>0</td>\n",
       "      <td>...</td>\n",
       "      <td>46154000</td>\n",
       "      <td>Министерство культуры</td>\n",
       "      <td>5.9</td>\n",
       "      <td>[драма]</td>\n",
       "      <td>NaN</td>\n",
       "      <td>30000000</td>\n",
       "      <td>2019</td>\n",
       "      <td>И.Северов</td>\n",
       "      <td>драма</td>\n",
       "      <td>0.649998</td>\n",
       "    </tr>\n",
       "    <tr>\n",
       "      <th>7477</th>\n",
       "      <td>(Не)идеальный мужчина</td>\n",
       "      <td>111023119</td>\n",
       "      <td>2019-12-24 12:00:00+00:00</td>\n",
       "      <td>Художественный</td>\n",
       "      <td>ООО \"Нон-Стоп Продакшн\"</td>\n",
       "      <td>Россия</td>\n",
       "      <td>М.Бальчюнас (псевдоним М.Вайсберг)</td>\n",
       "      <td>С.Мелькумов, А.Роднянский, М.Вайсберг, Р.Минас...</td>\n",
       "      <td>«12+» - для детей старше 12 лет</td>\n",
       "      <td>40000000</td>\n",
       "      <td>...</td>\n",
       "      <td>150147502</td>\n",
       "      <td>Фонд кино</td>\n",
       "      <td>4.5</td>\n",
       "      <td>[комедия, фантастика, мелодрама]</td>\n",
       "      <td>NaN</td>\n",
       "      <td>100000000</td>\n",
       "      <td>2019</td>\n",
       "      <td>М.Бальчюнас (псевдоним М.Вайсберг)</td>\n",
       "      <td>комедия</td>\n",
       "      <td>0.666012</td>\n",
       "    </tr>\n",
       "  </tbody>\n",
       "</table>\n",
       "<p>332 rows × 21 columns</p>\n",
       "</div>"
      ],
      "text/plain": [
       "                            title   puNumber           show_start_date  \\\n",
       "1281                Пока еще жива  111005313 2013-10-11 12:00:00+00:00   \n",
       "1448          Бесславные придурки  111003314 2014-03-28 12:00:00+00:00   \n",
       "1498                    Невидимки  111004213 2013-09-10 12:00:00+00:00   \n",
       "1524                        БЕРЦЫ  111004314 2014-05-05 12:00:00+00:00   \n",
       "1792                     Братья Ч  111004414 2014-04-23 12:00:00+00:00   \n",
       "...                           ...        ...                       ...   \n",
       "7463                Союз спасения  111022019 2019-12-26 12:00:00+00:00   \n",
       "7465  Иван Царевич и Серый Волк 4  114005019 2019-12-20 12:00:00+00:00   \n",
       "7473                    Вторжение  111022519 2019-12-23 12:00:00+00:00   \n",
       "7475                   Я свободен  111023019 2019-12-26 12:00:00+00:00   \n",
       "7477        (Не)идеальный мужчина  111023119 2019-12-24 12:00:00+00:00   \n",
       "\n",
       "                type                                        film_studio  \\\n",
       "1281  Художественный  АНО содействия развитию кинематографии \"Ангел-...   \n",
       "1448  Художественный                         ООО \"Компания \"АТК-Студио\"   \n",
       "1498  Художественный                        ООО \"Компания \"РЕАЛ-ДАКОТА\"   \n",
       "1524  Художественный                             ООО \"Студия \"Пассажир\"   \n",
       "1792  Художественный                             ООО \"Студия \"Пассажир\"   \n",
       "...              ...                                                ...   \n",
       "7463  Художественный                                ЗАО \"Дирекция кино\"   \n",
       "7465    Анимационный          ООО \"Студия анимационного кино \"Мельница\"   \n",
       "7473  Художественный       ООО \"Арт Пикчерс Студия\", ООО \"Водород 2011\"   \n",
       "7475  Художественный                АО \"ТПО \"Киностудия им. М.Горького\"   \n",
       "7477  Художественный                            ООО \"Нон-Стоп Продакшн\"   \n",
       "\n",
       "     production_country                              director  \\\n",
       "1281             Россия                            А.Атанесян   \n",
       "1448             Россия                             А.Якимчук   \n",
       "1498             Россия              Р.Давлетьяров, С.Комаров   \n",
       "1524             Россия  Е.Миндадзе (псевдоним Катя Шагалова)   \n",
       "1792             Россия                              М.Угаров   \n",
       "...                 ...                                   ...   \n",
       "7463             Россия                             А.Кравчук   \n",
       "7465             Россия                 Д.Шмидт, К.Феоктистов   \n",
       "7473             Россия                           Ф.Бондарчук   \n",
       "7475             Россия                             И.Северов   \n",
       "7477             Россия    М.Бальчюнас (псевдоним М.Вайсберг)   \n",
       "\n",
       "                                               producer  \\\n",
       "1281                   А.Атанесян, М.Бабаханов, Р.Бутко   \n",
       "1448                                         А.Тютрюмов   \n",
       "1498          Р.Давлетьяров, А.Котелевский, А.Олейников   \n",
       "1524                                         Л.Антонова   \n",
       "1792                             А.Миндадзе, Л.Антонова   \n",
       "...                                                 ...   \n",
       "7463                                А.Максимов, К.Эрнст   \n",
       "7465                             С.Сельянов, А.Боярский   \n",
       "7473  Ф.Бондарчук, М.Врубель, А.Андрющенко, Д.Рудовский   \n",
       "7475                                           С.Зернов   \n",
       "7477  С.Мелькумов, А.Роднянский, М.Вайсберг, Р.Минас...   \n",
       "\n",
       "                      age_restriction  refundable_support  ...     budget  \\\n",
       "1281  «16+» - для детей старше 16 лет                   0  ...   79411900   \n",
       "1448  «12+» - для детей старше 12 лет                   0  ...   37142857   \n",
       "1498  «12+» - для детей старше 12 лет                   0  ...  176023490   \n",
       "1524  «16+» - для детей старше 16 лет                   0  ...   40574140   \n",
       "1792  «16+» - для детей старше 16 лет                   0  ...   40015122   \n",
       "...                               ...                 ...  ...        ...   \n",
       "7463  «12+» - для детей старше 12 лет           100000000  ...  980000000   \n",
       "7465    «6+» - для детей старше 6 лет           100000000  ...  190000000   \n",
       "7473  «12+» - для детей старше 12 лет           100000000  ...  944000000   \n",
       "7475  «12+» - для детей старше 12 лет                   0  ...   46154000   \n",
       "7477  «12+» - для детей старше 12 лет            40000000  ...  150147502   \n",
       "\n",
       "           financing_source ratings                               genres  \\\n",
       "1281  Министерство культуры     8.1                   [драма, мелодрама]   \n",
       "1448  Министерство культуры     NaN                                [nan]   \n",
       "1498              Фонд кино     5.3                [комедия, фантастика]   \n",
       "1524  Министерство культуры     4.2                              [драма]   \n",
       "1792  Министерство культуры     6.4                              [драма]   \n",
       "...                     ...     ...                                  ...   \n",
       "7463              Фонд кино     6.0          [история, биография, драма]   \n",
       "7465              Фонд кино     6.7  [мультфильм, приключения, семейный]   \n",
       "7473              Фонд кино     5.7                 [фантастика, боевик]   \n",
       "7475  Министерство культуры     5.9                              [драма]   \n",
       "7477              Фонд кино     4.5     [комедия, фантастика, мелодрама]   \n",
       "\n",
       "        box_office    support  year                         head_director  \\\n",
       "1281  3.653536e+05   26500000  2013                            А.Атанесян   \n",
       "1448  2.814000e+04   26000000  2014                             А.Якимчук   \n",
       "1498  1.995703e+07  107847945  2013                         Р.Давлетьяров   \n",
       "1524  5.591750e+04   28000000  2014  Е.Миндадзе (псевдоним Катя Шагалова)   \n",
       "1792  2.321000e+05   25000000  2014                              М.Угаров   \n",
       "...            ...        ...   ...                                   ...   \n",
       "7463  7.177032e+08  500000000  2019                             А.Кравчук   \n",
       "7465  5.010692e+08  100000000  2019                               Д.Шмидт   \n",
       "7473           NaN  500000000  2019                           Ф.Бондарчук   \n",
       "7475           NaN   30000000  2019                             И.Северов   \n",
       "7477           NaN  100000000  2019    М.Бальчюнас (псевдоним М.Вайсберг)   \n",
       "\n",
       "      head_genre support_part  \n",
       "1281       драма     0.333703  \n",
       "1448         nan     0.700000  \n",
       "1498     комедия     0.612691  \n",
       "1524       драма     0.690095  \n",
       "1792       драма     0.624764  \n",
       "...          ...          ...  \n",
       "7463     история     0.510204  \n",
       "7465  мультфильм     0.526316  \n",
       "7473  фантастика     0.529661  \n",
       "7475       драма     0.649998  \n",
       "7477     комедия     0.666012  \n",
       "\n",
       "[332 rows x 21 columns]"
      ]
     },
     "metadata": {},
     "output_type": "display_data"
    }
   ],
   "source": [
    "data_finance = data.query('financing_source != \"Другой\"')\n",
    "display(data_finance)"
   ]
  },
  {
   "cell_type": "code",
   "execution_count": 51,
   "metadata": {},
   "outputs": [
    {
     "data": {
      "image/png": "[encoded data removed]",
      "text/plain": [
       "<Figure size 432x288 with 1 Axes>"
      ]
     },
     "metadata": {
      "needs_background": "light"
     },
     "output_type": "display_data"
    }
   ],
   "source": [
    "data_finance.pivot_table(index='financing_source', values='support', aggfunc='sum').plot(kind='barh')\n",
    "plt.ylabel('')\n",
    "plt.xlabel('Объемы выделяемых средств')\n",
    "plt.title('Сравнение объемов выделяемых средств')\n",
    "plt.show()"
   ]
  },
  {
   "cell_type": "markdown",
   "metadata": {},
   "source": [
    "<div class=\"alert alert-info\">\n",
    "<b> Фонд кино спонсирует выходяще кинокартины в большем объеме, чем минкульт. Совместно органы спонсируют в минимальном объеме\n",
    "   .</b> \n",
    "</div>"
   ]
  },
  {
   "cell_type": "code",
   "execution_count": 52,
   "metadata": {
    "scrolled": true
   },
   "outputs": [
    {
     "data": {
      "text/plain": [
       "Р.Давлетьяров    5\n",
       "Д.Дьяченко       4\n",
       "С.Андреасян      4\n",
       "Н.Хомерики       3\n",
       "Д.Шмидт          3\n",
       "                ..\n",
       "А.Амиров         1\n",
       "Д.Суворов        1\n",
       "М.Михайлова      1\n",
       "Ю.Быков          1\n",
       "И.Учитель        1\n",
       "Name: head_director, Length: 270, dtype: int64"
      ]
     },
     "execution_count": 52,
     "metadata": {},
     "output_type": "execute_result"
    }
   ],
   "source": [
    "data_finance['head_director'].value_counts()"
   ]
  },
  {
   "cell_type": "code",
   "execution_count": 53,
   "metadata": {},
   "outputs": [
    {
     "data": {
      "text/html": [
       "<div>\n",
       "<style scoped>\n",
       "    .dataframe tbody tr th:only-of-type {\n",
       "        vertical-align: middle;\n",
       "    }\n",
       "\n",
       "    .dataframe tbody tr th {\n",
       "        vertical-align: top;\n",
       "    }\n",
       "\n",
       "    .dataframe thead th {\n",
       "        text-align: right;\n",
       "    }\n",
       "</style>\n",
       "<table border=\"1\" class=\"dataframe\">\n",
       "  <thead>\n",
       "    <tr style=\"text-align: right;\">\n",
       "      <th></th>\n",
       "      <th></th>\n",
       "      <th>puNumber</th>\n",
       "      <th>refundable_support</th>\n",
       "      <th>nonrefundable_support</th>\n",
       "      <th>budget</th>\n",
       "      <th>box_office</th>\n",
       "      <th>support</th>\n",
       "      <th>year</th>\n",
       "      <th>support_part</th>\n",
       "    </tr>\n",
       "    <tr>\n",
       "      <th>head_director</th>\n",
       "      <th>ratings</th>\n",
       "      <th></th>\n",
       "      <th></th>\n",
       "      <th></th>\n",
       "      <th></th>\n",
       "      <th></th>\n",
       "      <th></th>\n",
       "      <th></th>\n",
       "      <th></th>\n",
       "    </tr>\n",
       "  </thead>\n",
       "  <tbody>\n",
       "    <tr>\n",
       "      <th>Ю.Кара</th>\n",
       "      <th>94%</th>\n",
       "      <td>111003415.0</td>\n",
       "      <td>0.0</td>\n",
       "      <td>10000000.0</td>\n",
       "      <td>4.000000e+07</td>\n",
       "      <td>3.347500e+05</td>\n",
       "      <td>10000000.0</td>\n",
       "      <td>2015.0</td>\n",
       "      <td>0.250000</td>\n",
       "    </tr>\n",
       "    <tr>\n",
       "      <th>Н.Степанова при участии С.Иванова</th>\n",
       "      <th>90%</th>\n",
       "      <td>111019615.0</td>\n",
       "      <td>0.0</td>\n",
       "      <td>4700000.0</td>\n",
       "      <td>1.446246e+07</td>\n",
       "      <td>8.013700e+05</td>\n",
       "      <td>4700000.0</td>\n",
       "      <td>2015.0</td>\n",
       "      <td>0.324979</td>\n",
       "    </tr>\n",
       "    <tr>\n",
       "      <th>Р.Давлетьяров</th>\n",
       "      <th>8.5</th>\n",
       "      <td>111002915.0</td>\n",
       "      <td>50000000.0</td>\n",
       "      <td>100000000.0</td>\n",
       "      <td>2.205884e+08</td>\n",
       "      <td>2.491668e+08</td>\n",
       "      <td>150000000.0</td>\n",
       "      <td>2015.0</td>\n",
       "      <td>0.680000</td>\n",
       "    </tr>\n",
       "    <tr>\n",
       "      <th>В.Тодоровский</th>\n",
       "      <th>8.5</th>\n",
       "      <td>111017416.0</td>\n",
       "      <td>10000000.0</td>\n",
       "      <td>200000000.0</td>\n",
       "      <td>3.200000e+08</td>\n",
       "      <td>2.285782e+08</td>\n",
       "      <td>210000000.0</td>\n",
       "      <td>2016.0</td>\n",
       "      <td>0.656250</td>\n",
       "    </tr>\n",
       "    <tr>\n",
       "      <th>Р.Прыгунов</th>\n",
       "      <th>8.2</th>\n",
       "      <td>111006719.0</td>\n",
       "      <td>0.0</td>\n",
       "      <td>140000000.0</td>\n",
       "      <td>2.400413e+08</td>\n",
       "      <td>4.086467e+08</td>\n",
       "      <td>140000000.0</td>\n",
       "      <td>2019.0</td>\n",
       "      <td>0.583233</td>\n",
       "    </tr>\n",
       "    <tr>\n",
       "      <th>А.Атанесян</th>\n",
       "      <th>8.1</th>\n",
       "      <td>111005313.0</td>\n",
       "      <td>0.0</td>\n",
       "      <td>26500000.0</td>\n",
       "      <td>7.941190e+07</td>\n",
       "      <td>3.653536e+05</td>\n",
       "      <td>26500000.0</td>\n",
       "      <td>2013.0</td>\n",
       "      <td>0.333703</td>\n",
       "    </tr>\n",
       "    <tr>\n",
       "      <th>А.Попова</th>\n",
       "      <th>8.0</th>\n",
       "      <td>112004619.0</td>\n",
       "      <td>0.0</td>\n",
       "      <td>3000000.0</td>\n",
       "      <td>3.300000e+07</td>\n",
       "      <td>NaN</td>\n",
       "      <td>3000000.0</td>\n",
       "      <td>2019.0</td>\n",
       "      <td>0.090909</td>\n",
       "    </tr>\n",
       "    <tr>\n",
       "      <th>К.Худяков</th>\n",
       "      <th>8.0</th>\n",
       "      <td>111001617.0</td>\n",
       "      <td>7346881.0</td>\n",
       "      <td>30000000.0</td>\n",
       "      <td>6.317000e+07</td>\n",
       "      <td>4.100580e+05</td>\n",
       "      <td>37346881.0</td>\n",
       "      <td>2017.0</td>\n",
       "      <td>0.591212</td>\n",
       "    </tr>\n",
       "    <tr>\n",
       "      <th>Р.Давлетьяров</th>\n",
       "      <th>7.9</th>\n",
       "      <td>111004215.0</td>\n",
       "      <td>0.0</td>\n",
       "      <td>97000000.0</td>\n",
       "      <td>1.563607e+08</td>\n",
       "      <td>1.274840e+07</td>\n",
       "      <td>97000000.0</td>\n",
       "      <td>2015.0</td>\n",
       "      <td>0.620361</td>\n",
       "    </tr>\n",
       "    <tr>\n",
       "      <th>К.Оганисян</th>\n",
       "      <th>7.9</th>\n",
       "      <td>111015819.0</td>\n",
       "      <td>20000000.0</td>\n",
       "      <td>100000000.0</td>\n",
       "      <td>2.500000e+08</td>\n",
       "      <td>1.728713e+08</td>\n",
       "      <td>120000000.0</td>\n",
       "      <td>2019.0</td>\n",
       "      <td>0.480000</td>\n",
       "    </tr>\n",
       "    <tr>\n",
       "      <th>А.Андрианов</th>\n",
       "      <th>7.8</th>\n",
       "      <td>111017315.0</td>\n",
       "      <td>10000000.0</td>\n",
       "      <td>70000000.0</td>\n",
       "      <td>0.000000e+00</td>\n",
       "      <td>1.965724e+08</td>\n",
       "      <td>80000000.0</td>\n",
       "      <td>2015.0</td>\n",
       "      <td>inf</td>\n",
       "    </tr>\n",
       "    <tr>\n",
       "      <th>П.Руминов</th>\n",
       "      <th>7.8</th>\n",
       "      <td>111018519.0</td>\n",
       "      <td>5000000.0</td>\n",
       "      <td>20000000.0</td>\n",
       "      <td>7.500000e+07</td>\n",
       "      <td>3.181218e+06</td>\n",
       "      <td>25000000.0</td>\n",
       "      <td>2019.0</td>\n",
       "      <td>0.333333</td>\n",
       "    </tr>\n",
       "    <tr>\n",
       "      <th>В.Татарский</th>\n",
       "      <th>7.8</th>\n",
       "      <td>111011816.0</td>\n",
       "      <td>0.0</td>\n",
       "      <td>64000000.0</td>\n",
       "      <td>1.800000e+08</td>\n",
       "      <td>5.872000e+04</td>\n",
       "      <td>64000000.0</td>\n",
       "      <td>2016.0</td>\n",
       "      <td>0.355556</td>\n",
       "    </tr>\n",
       "    <tr>\n",
       "      <th>И.Шахназаров</th>\n",
       "      <th>7.8</th>\n",
       "      <td>111002717.0</td>\n",
       "      <td>10000000.0</td>\n",
       "      <td>30000000.0</td>\n",
       "      <td>5.993747e+07</td>\n",
       "      <td>4.761800e+05</td>\n",
       "      <td>40000000.0</td>\n",
       "      <td>2017.0</td>\n",
       "      <td>0.667362</td>\n",
       "    </tr>\n",
       "    <tr>\n",
       "      <th>А.Галибин</th>\n",
       "      <th>7.7</th>\n",
       "      <td>111012319.0</td>\n",
       "      <td>0.0</td>\n",
       "      <td>40000000.0</td>\n",
       "      <td>6.479291e+07</td>\n",
       "      <td>2.785337e+07</td>\n",
       "      <td>40000000.0</td>\n",
       "      <td>2019.0</td>\n",
       "      <td>0.617351</td>\n",
       "    </tr>\n",
       "    <tr>\n",
       "      <th>А.Учитель</th>\n",
       "      <th>7.7</th>\n",
       "      <td>111005717.0</td>\n",
       "      <td>110000000.0</td>\n",
       "      <td>190000000.0</td>\n",
       "      <td>1.032906e+09</td>\n",
       "      <td>5.117755e+08</td>\n",
       "      <td>300000000.0</td>\n",
       "      <td>2017.0</td>\n",
       "      <td>0.290443</td>\n",
       "    </tr>\n",
       "    <tr>\n",
       "      <th>А.Игудин</th>\n",
       "      <th>7.7</th>\n",
       "      <td>111012618.0</td>\n",
       "      <td>0.0</td>\n",
       "      <td>25000000.0</td>\n",
       "      <td>3.800000e+07</td>\n",
       "      <td>2.790135e+05</td>\n",
       "      <td>25000000.0</td>\n",
       "      <td>2018.0</td>\n",
       "      <td>0.657895</td>\n",
       "    </tr>\n",
       "    <tr>\n",
       "      <th>М.Михайлова</th>\n",
       "      <th>7.7</th>\n",
       "      <td>111019515.0</td>\n",
       "      <td>0.0</td>\n",
       "      <td>21700000.0</td>\n",
       "      <td>3.700099e+07</td>\n",
       "      <td>1.293335e+05</td>\n",
       "      <td>21700000.0</td>\n",
       "      <td>2015.0</td>\n",
       "      <td>0.586471</td>\n",
       "    </tr>\n",
       "    <tr>\n",
       "      <th>С.Андреасян</th>\n",
       "      <th>7.6</th>\n",
       "      <td>111017319.0</td>\n",
       "      <td>0.0</td>\n",
       "      <td>30000000.0</td>\n",
       "      <td>1.400250e+08</td>\n",
       "      <td>6.650472e+07</td>\n",
       "      <td>30000000.0</td>\n",
       "      <td>2019.0</td>\n",
       "      <td>0.214247</td>\n",
       "    </tr>\n",
       "    <tr>\n",
       "      <th>Н.Лебедев</th>\n",
       "      <th>7.6</th>\n",
       "      <td>111005416.0</td>\n",
       "      <td>50000000.0</td>\n",
       "      <td>392104482.0</td>\n",
       "      <td>6.352839e+08</td>\n",
       "      <td>1.402255e+09</td>\n",
       "      <td>442104482.0</td>\n",
       "      <td>2016.0</td>\n",
       "      <td>0.695916</td>\n",
       "    </tr>\n",
       "  </tbody>\n",
       "</table>\n",
       "</div>"
      ],
      "text/plain": [
       "                                              puNumber  refundable_support  \\\n",
       "head_director                     ratings                                    \n",
       "Ю.Кара                            94%      111003415.0                 0.0   \n",
       "Н.Степанова при участии С.Иванова 90%      111019615.0                 0.0   \n",
       "Р.Давлетьяров                     8.5      111002915.0          50000000.0   \n",
       "В.Тодоровский                     8.5      111017416.0          10000000.0   \n",
       "Р.Прыгунов                        8.2      111006719.0                 0.0   \n",
       "А.Атанесян                        8.1      111005313.0                 0.0   \n",
       "А.Попова                          8.0      112004619.0                 0.0   \n",
       "К.Худяков                         8.0      111001617.0           7346881.0   \n",
       "Р.Давлетьяров                     7.9      111004215.0                 0.0   \n",
       "К.Оганисян                        7.9      111015819.0          20000000.0   \n",
       "А.Андрианов                       7.8      111017315.0          10000000.0   \n",
       "П.Руминов                         7.8      111018519.0           5000000.0   \n",
       "В.Татарский                       7.8      111011816.0                 0.0   \n",
       "И.Шахназаров                      7.8      111002717.0          10000000.0   \n",
       "А.Галибин                         7.7      111012319.0                 0.0   \n",
       "А.Учитель                         7.7      111005717.0         110000000.0   \n",
       "А.Игудин                          7.7      111012618.0                 0.0   \n",
       "М.Михайлова                       7.7      111019515.0                 0.0   \n",
       "С.Андреасян                       7.6      111017319.0                 0.0   \n",
       "Н.Лебедев                         7.6      111005416.0          50000000.0   \n",
       "\n",
       "                                           nonrefundable_support  \\\n",
       "head_director                     ratings                          \n",
       "Ю.Кара                            94%                 10000000.0   \n",
       "Н.Степанова при участии С.Иванова 90%                  4700000.0   \n",
       "Р.Давлетьяров                     8.5                100000000.0   \n",
       "В.Тодоровский                     8.5                200000000.0   \n",
       "Р.Прыгунов                        8.2                140000000.0   \n",
       "А.Атанесян                        8.1                 26500000.0   \n",
       "А.Попова                          8.0                  3000000.0   \n",
       "К.Худяков                         8.0                 30000000.0   \n",
       "Р.Давлетьяров                     7.9                 97000000.0   \n",
       "К.Оганисян                        7.9                100000000.0   \n",
       "А.Андрианов                       7.8                 70000000.0   \n",
       "П.Руминов                         7.8                 20000000.0   \n",
       "В.Татарский                       7.8                 64000000.0   \n",
       "И.Шахназаров                      7.8                 30000000.0   \n",
       "А.Галибин                         7.7                 40000000.0   \n",
       "А.Учитель                         7.7                190000000.0   \n",
       "А.Игудин                          7.7                 25000000.0   \n",
       "М.Михайлова                       7.7                 21700000.0   \n",
       "С.Андреасян                       7.6                 30000000.0   \n",
       "Н.Лебедев                         7.6                392104482.0   \n",
       "\n",
       "                                                 budget    box_office  \\\n",
       "head_director                     ratings                               \n",
       "Ю.Кара                            94%      4.000000e+07  3.347500e+05   \n",
       "Н.Степанова при участии С.Иванова 90%      1.446246e+07  8.013700e+05   \n",
       "Р.Давлетьяров                     8.5      2.205884e+08  2.491668e+08   \n",
       "В.Тодоровский                     8.5      3.200000e+08  2.285782e+08   \n",
       "Р.Прыгунов                        8.2      2.400413e+08  4.086467e+08   \n",
       "А.Атанесян                        8.1      7.941190e+07  3.653536e+05   \n",
       "А.Попова                          8.0      3.300000e+07           NaN   \n",
       "К.Худяков                         8.0      6.317000e+07  4.100580e+05   \n",
       "Р.Давлетьяров                     7.9      1.563607e+08  1.274840e+07   \n",
       "К.Оганисян                        7.9      2.500000e+08  1.728713e+08   \n",
       "А.Андрианов                       7.8      0.000000e+00  1.965724e+08   \n",
       "П.Руминов                         7.8      7.500000e+07  3.181218e+06   \n",
       "В.Татарский                       7.8      1.800000e+08  5.872000e+04   \n",
       "И.Шахназаров                      7.8      5.993747e+07  4.761800e+05   \n",
       "А.Галибин                         7.7      6.479291e+07  2.785337e+07   \n",
       "А.Учитель                         7.7      1.032906e+09  5.117755e+08   \n",
       "А.Игудин                          7.7      3.800000e+07  2.790135e+05   \n",
       "М.Михайлова                       7.7      3.700099e+07  1.293335e+05   \n",
       "С.Андреасян                       7.6      1.400250e+08  6.650472e+07   \n",
       "Н.Лебедев                         7.6      6.352839e+08  1.402255e+09   \n",
       "\n",
       "                                               support    year  support_part  \n",
       "head_director                     ratings                                     \n",
       "Ю.Кара                            94%       10000000.0  2015.0      0.250000  \n",
       "Н.Степанова при участии С.Иванова 90%        4700000.0  2015.0      0.324979  \n",
       "Р.Давлетьяров                     8.5      150000000.0  2015.0      0.680000  \n",
       "В.Тодоровский                     8.5      210000000.0  2016.0      0.656250  \n",
       "Р.Прыгунов                        8.2      140000000.0  2019.0      0.583233  \n",
       "А.Атанесян                        8.1       26500000.0  2013.0      0.333703  \n",
       "А.Попова                          8.0        3000000.0  2019.0      0.090909  \n",
       "К.Худяков                         8.0       37346881.0  2017.0      0.591212  \n",
       "Р.Давлетьяров                     7.9       97000000.0  2015.0      0.620361  \n",
       "К.Оганисян                        7.9      120000000.0  2019.0      0.480000  \n",
       "А.Андрианов                       7.8       80000000.0  2015.0           inf  \n",
       "П.Руминов                         7.8       25000000.0  2019.0      0.333333  \n",
       "В.Татарский                       7.8       64000000.0  2016.0      0.355556  \n",
       "И.Шахназаров                      7.8       40000000.0  2017.0      0.667362  \n",
       "А.Галибин                         7.7       40000000.0  2019.0      0.617351  \n",
       "А.Учитель                         7.7      300000000.0  2017.0      0.290443  \n",
       "А.Игудин                          7.7       25000000.0  2018.0      0.657895  \n",
       "М.Михайлова                       7.7       21700000.0  2015.0      0.586471  \n",
       "С.Андреасян                       7.6       30000000.0  2019.0      0.214247  \n",
       "Н.Лебедев                         7.6      442104482.0  2016.0      0.695916  "
      ]
     },
     "execution_count": 53,
     "metadata": {},
     "output_type": "execute_result"
    }
   ],
   "source": [
    "data_finance.groupby(['head_director', 'ratings']).agg('mean').sort_values(by='ratings', ascending=False).head(20)"
   ]
  },
  {
   "cell_type": "markdown",
   "metadata": {},
   "source": [
    "<div class=\"alert alert-info\">\n",
    "<b> Можно заметить, что среди режиссеров с самым высоким средним рейтингом фильмов (среди господдерживаемых) есть не только мастера одной картины. Например, Р.Давлетьяров и С.Андреасян, снявшие 5 и 4 фильма соответственно."
   ]
  },
  {
   "cell_type": "code",
   "execution_count": 54,
   "metadata": {},
   "outputs": [
    {
     "data": {
      "text/plain": [
       "1498    0.113377\n",
       "1869    1.129555\n",
       "2481    0.081532\n",
       "2722    0.057791\n",
       "3461    0.810688\n",
       "3480    0.911217\n",
       "6177    4.767206\n",
       "6921    0.103417\n",
       "7267    0.474949\n",
       "dtype: float64"
      ]
     },
     "execution_count": 54,
     "metadata": {},
     "output_type": "execute_result"
    }
   ],
   "source": [
    "leaders = data_finance.query('head_director == [\"Р.Давлетьяров\", \"С.Андреасян\"]')\n",
    "leaders['box_office'] / leaders['budget']"
   ]
  },
  {
   "cell_type": "markdown",
   "metadata": {},
   "source": [
    "<div class=\"alert alert-info\">\n",
    "<b> Даже у лучших режиссеров из 9 фильмов только один окупился с лихвой, еще один окупился на 120%, а все остальные провалились в прокате."
   ]
  },
  {
   "cell_type": "code",
   "execution_count": 55,
   "metadata": {
    "scrolled": true
   },
   "outputs": [
    {
     "name": "stderr",
     "output_type": "stream",
     "text": [
      "/tmp/ipykernel_130/4066699040.py:1: SettingWithCopyWarning: \n",
      "A value is trying to be set on a copy of a slice from a DataFrame.\n",
      "Try using .loc[row_indexer,col_indexer] = value instead\n",
      "\n",
      "See the caveats in the documentation: https://pandas.pydata.org/pandas-docs/stable/user_guide/indexing.html#returning-a-view-versus-a-copy\n",
      "  data_finance['ratings'] = pd.to_numeric(data_finance['ratings'], errors='coerce')\n"
     ]
    },
    {
     "data": {
      "image/png": "[encoded data removed]",
      "text/plain": [
       "<Figure size 432x288 with 1 Axes>"
      ]
     },
     "metadata": {
      "needs_background": "light"
     },
     "output_type": "display_data"
    }
   ],
   "source": [
    "data_finance['ratings'] = pd.to_numeric(data_finance['ratings'], errors='coerce')\n",
    "data_finance.boxplot(column='ratings')\n",
    "plt.title('Рейтинг фильмов с господдержкой')\n",
    "plt.show()"
   ]
  },
  {
   "cell_type": "markdown",
   "metadata": {},
   "source": [
    "<div class=\"alert alert-info\">\n",
    "<b> Вцелом, рейтинг у фильмов с господдержкой не очень, шесть с небольшим. Выбросы присутствуют, но все в меньшую сторону (3 и ниже). Будучи пользователем Кинопоиска, могу сказать, что это не популярные фильмы.</b> \n",
    "</div>"
   ]
  },
  {
   "cell_type": "code",
   "execution_count": 56,
   "metadata": {
    "scrolled": true
   },
   "outputs": [
    {
     "data": {
      "text/plain": [
       "Россия                                        316\n",
       "Россия, Италия                                  2\n",
       "Россия, Германия                                2\n",
       "Россия - Грузия                                 1\n",
       "Россия-Китай                                    1\n",
       "Россия, Германия, Великобритания                1\n",
       "Россия, Армения                                 1\n",
       "Россия, Украина, Польша                         1\n",
       "Россия-Словакия-Чехия                           1\n",
       "Россия, Латвия, Чешская Республика              1\n",
       "Россия, Германия, Казахстан, Польша, Китай      1\n",
       "Россия, Сербия                                  1\n",
       "Россия, Франция, Латвия                         1\n",
       "Россия-Украина                                  1\n",
       "Россия, Бельгия, Финляндия                      1\n",
       "Name: production_country, dtype: int64"
      ]
     },
     "execution_count": 56,
     "metadata": {},
     "output_type": "execute_result"
    }
   ],
   "source": [
    "data_finance['production_country'].value_counts()"
   ]
  },
  {
   "cell_type": "markdown",
   "metadata": {},
   "source": [
    "<div class=\"alert alert-info\">\n",
    "<b> Удивительно, что Минкульт и ФК в превалирующем объёме выделяют средства на производство отечественных фильмов. В топе зарубежных стран Германия и Италия. Кстати, - ни одного фильма совместно с США)</b> \n",
    "</div>"
   ]
  },
  {
   "cell_type": "markdown",
   "metadata": {
    "id": "V2gYwMcPgFyd"
   },
   "source": [
    "### Общий вывод:"
   ]
  },
  {
   "cell_type": "markdown",
   "metadata": {},
   "source": [
    "<div class=\"alert alert-info\">\n",
    "<b> Нами изучен рынок российского кинопроката за 2010 - 2019 годы. Исходные данные от заказчика:\n",
    "— название фильма;\n",
    "— номер прокатного удостоверения;\n",
    "— дата премьеры фильма;\n",
    "— тип фильма;\n",
    "— студия-производитель;\n",
    "— страна-производитель;\n",
    "— режиссёр;\n",
    "— продюсер;\n",
    "— возрастная категория;\n",
    "— объём возвратных средств государственной поддержки;\n",
    "— объём невозвратных средств государственной поддержки;\n",
    "— источник государственного финансирования;\n",
    "— общий бюджет фильма;\n",
    "— рейтинг фильма на КиноПоиске;\n",
    "— жанр фильма;\n",
    "— сборы в рублях.    \n",
    "Данные характеризуются неполнотой, более 25% пропусков. Для начала был произведен отсев пропущенных и аномальных значений, удаление пропусков данных и обработка дубликатов. В некоторых данных наличие пропусков оценено как должное. \n",
    "    Исходя из полученных данных, выявлено: \n",
    "    1. К оценке представлены данные о кинопрокате за десять лет (2010-2019). Количество выходивших в прокат фильмов со временем увеличивается, пригодными для анализа считаем данные начиная с 2015 года. Максимальная сумма кассовых сборов - в 2018 году. На сборы фильма в прокате влияет возрастное ограничение аудитории («6+», «12+», «16+», «18+» и т. д.): самые кассовые - фильмы для детей («6+», «12+»), наименее кассовые - с категорией «0+».  \n",
    "    2. Отдельно изучены фильмы с государственной поддержкой. Их менее 5% от всего количества кинокартин. Выявлено, что бОльшие объемы спонсирования кинокартин у Фонда кино. Проанализированы фильмы топ-режиссеров, на счету которых несколько картин с господдержкой, рейтинги их фильмов - высокие (8,5 и 7,6). Несмотря на это фильмы с господдержкой характеризуются неокупаемостью в прокате (около 20%) и средним рейтингом \"Кинопоиска\" 6,2. С точки зрения проката в кинотеатрах это провальные кинокартины. Также выявлено, что Минкульт и ФК неохотно спонсируют  международные проекты."
   ]
  }
 ],
 "metadata": {
  "ExecuteTimeLog": [
   {
    "duration": 537,
    "start_time": "2021-07-07T10:12:08.634Z"
   },
   {
    "duration": 206,
    "start_time": "2021-07-07T10:12:30.191Z"
   },
   {
    "duration": 227,
    "start_time": "2021-07-07T10:12:33.078Z"
   },
   {
    "duration": 153,
    "start_time": "2021-07-07T10:13:42.146Z"
   },
   {
    "duration": 233,
    "start_time": "2021-07-07T10:30:09.252Z"
   },
   {
    "duration": 19,
    "start_time": "2021-07-07T10:30:15.577Z"
   },
   {
    "duration": 18,
    "start_time": "2021-07-07T10:30:57.348Z"
   },
   {
    "duration": 19,
    "start_time": "2021-07-07T10:31:17.452Z"
   },
   {
    "duration": 21,
    "start_time": "2021-07-07T10:31:32.227Z"
   },
   {
    "duration": 27,
    "start_time": "2021-07-07T10:32:06.588Z"
   },
   {
    "duration": 23,
    "start_time": "2021-07-07T10:32:43.645Z"
   },
   {
    "duration": 24,
    "start_time": "2021-07-07T10:33:06.948Z"
   },
   {
    "duration": 7,
    "start_time": "2021-07-07T10:33:28.558Z"
   },
   {
    "duration": 23,
    "start_time": "2021-07-07T10:33:43.761Z"
   },
   {
    "duration": 28,
    "start_time": "2021-07-07T10:34:13.466Z"
   },
   {
    "duration": 23,
    "start_time": "2021-07-07T10:35:56.187Z"
   },
   {
    "duration": 6,
    "start_time": "2021-07-07T10:36:48.182Z"
   },
   {
    "duration": 14,
    "start_time": "2021-07-07T10:37:49.641Z"
   },
   {
    "duration": 6,
    "start_time": "2021-07-07T10:38:06.694Z"
   },
   {
    "duration": 6,
    "start_time": "2021-07-07T10:38:13.493Z"
   },
   {
    "duration": 19,
    "start_time": "2021-07-07T10:38:44.056Z"
   },
   {
    "duration": 186,
    "start_time": "2021-07-07T10:48:35.618Z"
   },
   {
    "duration": 24,
    "start_time": "2021-07-07T10:48:51.498Z"
   },
   {
    "duration": 20,
    "start_time": "2021-07-07T10:48:59.415Z"
   },
   {
    "duration": 20,
    "start_time": "2021-07-07T10:53:02.195Z"
   },
   {
    "duration": 188,
    "start_time": "2021-07-07T10:54:40.486Z"
   },
   {
    "duration": 115,
    "start_time": "2021-07-07T10:54:52.552Z"
   },
   {
    "duration": 214,
    "start_time": "2021-07-07T10:54:56.354Z"
   },
   {
    "duration": 47,
    "start_time": "2021-07-07T10:54:58.282Z"
   },
   {
    "duration": 217,
    "start_time": "2021-07-07T10:59:16.075Z"
   },
   {
    "duration": 51,
    "start_time": "2021-07-07T10:59:16.243Z"
   },
   {
    "duration": 578,
    "start_time": "2021-07-07T10:59:18.774Z"
   },
   {
    "duration": 161,
    "start_time": "2021-07-07T10:59:21.238Z"
   },
   {
    "duration": 59,
    "start_time": "2021-07-07T10:59:21.453Z"
   },
   {
    "duration": 3,
    "start_time": "2021-07-07T11:02:10.786Z"
   },
   {
    "duration": 13,
    "start_time": "2021-07-07T11:07:07.722Z"
   },
   {
    "duration": 26,
    "start_time": "2021-07-07T11:07:17.958Z"
   },
   {
    "duration": 22,
    "start_time": "2021-07-07T11:08:17.939Z"
   },
   {
    "duration": 212,
    "start_time": "2021-07-07T11:08:19.665Z"
   },
   {
    "duration": 21,
    "start_time": "2021-07-07T11:08:29.945Z"
   },
   {
    "duration": 31,
    "start_time": "2021-07-07T11:08:38.899Z"
   },
   {
    "duration": 23,
    "start_time": "2021-07-07T11:08:54.527Z"
   },
   {
    "duration": 8,
    "start_time": "2021-07-07T11:18:55.974Z"
   },
   {
    "duration": 7,
    "start_time": "2021-07-07T11:19:03.639Z"
   },
   {
    "duration": 7,
    "start_time": "2021-07-07T11:19:06.444Z"
   },
   {
    "duration": 578,
    "start_time": "2021-07-07T12:09:59.576Z"
   },
   {
    "duration": 195,
    "start_time": "2021-07-07T12:10:00.156Z"
   },
   {
    "duration": 115,
    "start_time": "2021-07-07T12:10:00.353Z"
   },
   {
    "duration": 3,
    "start_time": "2021-07-07T12:10:00.470Z"
   },
   {
    "duration": 32,
    "start_time": "2021-07-07T12:10:00.474Z"
   },
   {
    "duration": 23,
    "start_time": "2021-07-07T12:10:00.508Z"
   },
   {
    "duration": 19,
    "start_time": "2021-07-07T12:10:00.533Z"
   },
   {
    "duration": 44,
    "start_time": "2021-07-07T12:10:00.553Z"
   },
   {
    "duration": 7,
    "start_time": "2021-07-07T12:10:00.600Z"
   },
   {
    "duration": 7,
    "start_time": "2021-07-07T12:19:45.761Z"
   },
   {
    "duration": 21,
    "start_time": "2021-07-07T12:21:35.482Z"
   },
   {
    "duration": 21,
    "start_time": "2021-07-07T12:29:23.569Z"
   },
   {
    "duration": 525,
    "start_time": "2021-07-07T12:29:44.542Z"
   },
   {
    "duration": 214,
    "start_time": "2021-07-07T12:29:45.069Z"
   },
   {
    "duration": 92,
    "start_time": "2021-07-07T12:29:45.285Z"
   },
   {
    "duration": 3,
    "start_time": "2021-07-07T12:29:45.379Z"
   },
   {
    "duration": 28,
    "start_time": "2021-07-07T12:29:45.384Z"
   },
   {
    "duration": 23,
    "start_time": "2021-07-07T12:29:45.413Z"
   },
   {
    "duration": 21,
    "start_time": "2021-07-07T12:29:45.437Z"
   },
   {
    "duration": 41,
    "start_time": "2021-07-07T12:29:45.460Z"
   },
   {
    "duration": 7,
    "start_time": "2021-07-07T12:29:45.502Z"
   },
   {
    "duration": 20,
    "start_time": "2021-07-07T12:29:45.511Z"
   },
   {
    "duration": 12,
    "start_time": "2021-07-07T12:34:02.800Z"
   },
   {
    "duration": 7,
    "start_time": "2021-07-07T12:35:10.479Z"
   },
   {
    "duration": 8,
    "start_time": "2021-07-07T12:35:22.440Z"
   },
   {
    "duration": 6,
    "start_time": "2021-07-07T12:35:35.649Z"
   },
   {
    "duration": 6,
    "start_time": "2021-07-07T12:35:43.107Z"
   },
   {
    "duration": 22,
    "start_time": "2021-07-07T12:38:03.029Z"
   },
   {
    "duration": 10,
    "start_time": "2021-07-07T12:38:06.592Z"
   },
   {
    "duration": 563,
    "start_time": "2021-07-07T12:38:46.493Z"
   },
   {
    "duration": 265,
    "start_time": "2021-07-07T12:38:47.058Z"
   },
   {
    "duration": 94,
    "start_time": "2021-07-07T12:38:47.325Z"
   },
   {
    "duration": 3,
    "start_time": "2021-07-07T12:38:47.422Z"
   },
   {
    "duration": 30,
    "start_time": "2021-07-07T12:38:47.427Z"
   },
   {
    "duration": 16,
    "start_time": "2021-07-07T12:38:53.305Z"
   },
   {
    "duration": 10,
    "start_time": "2021-07-07T12:38:53.499Z"
   },
   {
    "duration": 8,
    "start_time": "2021-07-07T12:39:48.161Z"
   },
   {
    "duration": 27,
    "start_time": "2021-07-07T12:41:17.629Z"
   },
   {
    "duration": 17,
    "start_time": "2021-07-07T12:41:17.867Z"
   },
   {
    "duration": 21,
    "start_time": "2021-07-07T12:41:19.310Z"
   },
   {
    "duration": 7,
    "start_time": "2021-07-07T12:41:19.544Z"
   },
   {
    "duration": 20,
    "start_time": "2021-07-07T12:41:20.504Z"
   },
   {
    "duration": 554,
    "start_time": "2021-07-07T12:56:23.696Z"
   },
   {
    "duration": 200,
    "start_time": "2021-07-07T12:56:25.234Z"
   },
   {
    "duration": 119,
    "start_time": "2021-07-07T12:56:25.480Z"
   },
   {
    "duration": 4,
    "start_time": "2021-07-07T12:56:25.762Z"
   },
   {
    "duration": 26,
    "start_time": "2021-07-07T12:56:27.172Z"
   },
   {
    "duration": 12,
    "start_time": "2021-07-07T12:56:29.051Z"
   },
   {
    "duration": 10,
    "start_time": "2021-07-07T12:56:29.291Z"
   },
   {
    "duration": 8,
    "start_time": "2021-07-07T12:56:29.623Z"
   },
   {
    "duration": 28,
    "start_time": "2021-07-07T12:56:32.137Z"
   },
   {
    "duration": 19,
    "start_time": "2021-07-07T12:56:39.785Z"
   },
   {
    "duration": 20,
    "start_time": "2021-07-07T12:56:44.297Z"
   },
   {
    "duration": 7,
    "start_time": "2021-07-07T12:56:45.392Z"
   },
   {
    "duration": 23,
    "start_time": "2021-07-07T12:56:46.615Z"
   },
   {
    "duration": 4,
    "start_time": "2021-07-07T12:57:06.625Z"
   },
   {
    "duration": 32,
    "start_time": "2021-07-07T12:57:36.690Z"
   },
   {
    "duration": 18,
    "start_time": "2021-07-07T12:58:00.149Z"
   },
   {
    "duration": 15,
    "start_time": "2021-07-07T12:59:16.793Z"
   },
   {
    "duration": 7,
    "start_time": "2021-07-07T13:19:22.624Z"
   },
   {
    "duration": 6,
    "start_time": "2021-07-07T14:17:33.527Z"
   },
   {
    "duration": 9,
    "start_time": "2021-07-07T14:17:48.409Z"
   },
   {
    "duration": 8,
    "start_time": "2021-07-07T14:20:13.060Z"
   },
   {
    "duration": 8,
    "start_time": "2021-07-07T14:20:37.957Z"
   },
   {
    "duration": 8,
    "start_time": "2021-07-07T14:20:47.470Z"
   },
   {
    "duration": 9,
    "start_time": "2021-07-07T14:20:54.503Z"
   },
   {
    "duration": 10,
    "start_time": "2021-07-07T14:28:57.763Z"
   },
   {
    "duration": 3,
    "start_time": "2021-07-07T14:30:23.377Z"
   },
   {
    "duration": 3,
    "start_time": "2021-07-07T14:30:36.489Z"
   },
   {
    "duration": 103,
    "start_time": "2021-07-07T14:30:52.351Z"
   },
   {
    "duration": 8,
    "start_time": "2021-07-07T14:30:54.763Z"
   },
   {
    "duration": 8,
    "start_time": "2021-07-07T14:31:29.301Z"
   },
   {
    "duration": 13,
    "start_time": "2021-07-07T14:31:44.516Z"
   },
   {
    "duration": 7,
    "start_time": "2021-07-07T14:33:10.972Z"
   },
   {
    "duration": 11,
    "start_time": "2021-07-07T14:33:27.780Z"
   },
   {
    "duration": 8,
    "start_time": "2021-07-07T14:34:44.588Z"
   },
   {
    "duration": 57,
    "start_time": "2021-07-07T14:35:59.042Z"
   },
   {
    "duration": 3,
    "start_time": "2021-07-07T14:36:28.168Z"
   },
   {
    "duration": 5,
    "start_time": "2021-07-07T14:36:46.254Z"
   },
   {
    "duration": 4,
    "start_time": "2021-07-07T14:36:52.714Z"
   },
   {
    "duration": 3,
    "start_time": "2021-07-07T14:36:56.612Z"
   },
   {
    "duration": 4,
    "start_time": "2021-07-07T14:36:57.049Z"
   },
   {
    "duration": 3,
    "start_time": "2021-07-07T14:39:21.214Z"
   },
   {
    "duration": 7,
    "start_time": "2021-07-07T14:39:52.406Z"
   },
   {
    "duration": 11,
    "start_time": "2021-07-07T14:39:58.576Z"
   },
   {
    "duration": 9,
    "start_time": "2021-07-07T14:40:26.301Z"
   },
   {
    "duration": 10,
    "start_time": "2021-07-07T14:40:31.704Z"
   },
   {
    "duration": 11,
    "start_time": "2021-07-07T14:40:36.249Z"
   },
   {
    "duration": 10,
    "start_time": "2021-07-07T14:40:39.783Z"
   },
   {
    "duration": 9,
    "start_time": "2021-07-07T14:40:48.558Z"
   },
   {
    "duration": 10,
    "start_time": "2021-07-07T14:40:57.143Z"
   },
   {
    "duration": 9,
    "start_time": "2021-07-07T14:41:06.074Z"
   },
   {
    "duration": 4324,
    "start_time": "2021-07-07T14:41:22.004Z"
   },
   {
    "duration": 11,
    "start_time": "2021-07-07T14:41:33.392Z"
   },
   {
    "duration": 9,
    "start_time": "2021-07-07T14:41:39.288Z"
   },
   {
    "duration": 569,
    "start_time": "2021-07-07T14:42:14.387Z"
   },
   {
    "duration": 197,
    "start_time": "2021-07-07T14:42:14.959Z"
   },
   {
    "duration": 84,
    "start_time": "2021-07-07T14:42:16.052Z"
   },
   {
    "duration": 4,
    "start_time": "2021-07-07T14:42:16.900Z"
   },
   {
    "duration": 27,
    "start_time": "2021-07-07T14:42:19.898Z"
   },
   {
    "duration": 12,
    "start_time": "2021-07-07T14:42:21.577Z"
   },
   {
    "duration": 9,
    "start_time": "2021-07-07T14:42:21.813Z"
   },
   {
    "duration": 9,
    "start_time": "2021-07-07T14:42:22.569Z"
   },
   {
    "duration": 29,
    "start_time": "2021-07-07T14:42:25.837Z"
   },
   {
    "duration": 20,
    "start_time": "2021-07-07T14:42:27.003Z"
   },
   {
    "duration": 21,
    "start_time": "2021-07-07T14:42:28.767Z"
   },
   {
    "duration": 7,
    "start_time": "2021-07-07T14:42:29.838Z"
   },
   {
    "duration": 4,
    "start_time": "2021-07-07T14:43:25.493Z"
   },
   {
    "duration": 7,
    "start_time": "2021-07-07T14:43:26.573Z"
   },
   {
    "duration": 10,
    "start_time": "2021-07-07T14:43:31.639Z"
   },
   {
    "duration": 9,
    "start_time": "2021-07-07T14:43:32.046Z"
   },
   {
    "duration": 10,
    "start_time": "2021-07-07T14:43:33.301Z"
   },
   {
    "duration": 12,
    "start_time": "2021-07-07T14:43:33.658Z"
   },
   {
    "duration": 8,
    "start_time": "2021-07-07T14:43:34.552Z"
   },
   {
    "duration": 9,
    "start_time": "2021-07-07T14:43:35.058Z"
   },
   {
    "duration": 12,
    "start_time": "2021-07-07T14:43:35.914Z"
   },
   {
    "duration": 17,
    "start_time": "2021-07-07T14:45:34.368Z"
   },
   {
    "duration": 512,
    "start_time": "2021-07-07T14:51:58.236Z"
   },
   {
    "duration": 223,
    "start_time": "2021-07-07T14:51:58.750Z"
   },
   {
    "duration": 93,
    "start_time": "2021-07-07T14:51:58.977Z"
   },
   {
    "duration": 4,
    "start_time": "2021-07-07T14:51:59.071Z"
   },
   {
    "duration": 37,
    "start_time": "2021-07-07T14:51:59.077Z"
   },
   {
    "duration": 18,
    "start_time": "2021-07-07T14:51:59.116Z"
   },
   {
    "duration": 10,
    "start_time": "2021-07-07T14:51:59.137Z"
   },
   {
    "duration": 8,
    "start_time": "2021-07-07T14:51:59.149Z"
   },
   {
    "duration": 54,
    "start_time": "2021-07-07T14:51:59.158Z"
   },
   {
    "duration": 18,
    "start_time": "2021-07-07T14:51:59.213Z"
   },
   {
    "duration": 22,
    "start_time": "2021-07-07T14:51:59.232Z"
   },
   {
    "duration": 36,
    "start_time": "2021-07-07T14:51:59.255Z"
   },
   {
    "duration": 7,
    "start_time": "2021-07-07T14:51:59.293Z"
   },
   {
    "duration": 10,
    "start_time": "2021-07-07T14:51:59.302Z"
   },
   {
    "duration": 9,
    "start_time": "2021-07-07T14:51:59.313Z"
   },
   {
    "duration": 11,
    "start_time": "2021-07-07T14:51:59.324Z"
   },
   {
    "duration": 8,
    "start_time": "2021-07-07T14:51:59.337Z"
   },
   {
    "duration": 46,
    "start_time": "2021-07-07T14:51:59.347Z"
   },
   {
    "duration": 22,
    "start_time": "2021-07-07T14:51:59.395Z"
   },
   {
    "duration": 24,
    "start_time": "2021-07-07T14:57:32.911Z"
   },
   {
    "duration": 7,
    "start_time": "2021-07-07T14:58:22.070Z"
   },
   {
    "duration": 4,
    "start_time": "2021-07-07T14:59:11.239Z"
   },
   {
    "duration": 25,
    "start_time": "2021-07-07T15:07:22.208Z"
   },
   {
    "duration": 16,
    "start_time": "2021-07-07T15:08:25.560Z"
   },
   {
    "duration": 15,
    "start_time": "2021-07-07T15:08:40.647Z"
   },
   {
    "duration": 14,
    "start_time": "2021-07-07T15:08:46.669Z"
   },
   {
    "duration": 533,
    "start_time": "2021-07-07T15:18:07.440Z"
   },
   {
    "duration": 173,
    "start_time": "2021-07-07T15:18:07.974Z"
   },
   {
    "duration": 84,
    "start_time": "2021-07-07T15:18:08.149Z"
   },
   {
    "duration": 3,
    "start_time": "2021-07-07T15:18:08.235Z"
   },
   {
    "duration": 30,
    "start_time": "2021-07-07T15:18:08.240Z"
   },
   {
    "duration": 22,
    "start_time": "2021-07-07T15:18:08.272Z"
   },
   {
    "duration": 11,
    "start_time": "2021-07-07T15:18:08.295Z"
   },
   {
    "duration": 11,
    "start_time": "2021-07-07T15:18:08.309Z"
   },
   {
    "duration": 40,
    "start_time": "2021-07-07T15:18:08.322Z"
   },
   {
    "duration": 42,
    "start_time": "2021-07-07T15:18:08.364Z"
   },
   {
    "duration": 22,
    "start_time": "2021-07-07T15:18:08.408Z"
   },
   {
    "duration": 5,
    "start_time": "2021-07-07T15:18:08.432Z"
   },
   {
    "duration": 13,
    "start_time": "2021-07-07T15:18:08.439Z"
   },
   {
    "duration": 9,
    "start_time": "2021-07-07T15:18:08.454Z"
   },
   {
    "duration": 32,
    "start_time": "2021-07-07T15:18:08.465Z"
   },
   {
    "duration": 10,
    "start_time": "2021-07-07T15:18:08.501Z"
   },
   {
    "duration": 7,
    "start_time": "2021-07-07T15:18:08.513Z"
   },
   {
    "duration": 11,
    "start_time": "2021-07-07T15:18:08.521Z"
   },
   {
    "duration": 17,
    "start_time": "2021-07-07T15:18:08.534Z"
   },
   {
    "duration": 44,
    "start_time": "2021-07-07T15:18:08.553Z"
   },
   {
    "duration": 22,
    "start_time": "2021-07-07T15:18:08.599Z"
   },
   {
    "duration": 61,
    "start_time": "2021-07-07T15:18:08.622Z"
   },
   {
    "duration": 7,
    "start_time": "2021-07-07T15:18:39.457Z"
   },
   {
    "duration": 5,
    "start_time": "2021-07-07T16:05:17.020Z"
   },
   {
    "duration": 5,
    "start_time": "2021-07-07T16:51:28.794Z"
   },
   {
    "duration": 546,
    "start_time": "2021-07-07T16:52:26.306Z"
   },
   {
    "duration": 203,
    "start_time": "2021-07-07T16:52:27.523Z"
   },
   {
    "duration": 85,
    "start_time": "2021-07-07T16:52:27.736Z"
   },
   {
    "duration": 4,
    "start_time": "2021-07-07T16:52:27.899Z"
   },
   {
    "duration": 25,
    "start_time": "2021-07-07T16:52:28.674Z"
   },
   {
    "duration": 8,
    "start_time": "2021-07-07T16:52:32.956Z"
   },
   {
    "duration": 18,
    "start_time": "2021-07-07T16:52:35.616Z"
   },
   {
    "duration": 6,
    "start_time": "2021-07-07T16:52:36.913Z"
   },
   {
    "duration": 11,
    "start_time": "2021-07-07T16:52:40.258Z"
   },
   {
    "duration": 10,
    "start_time": "2021-07-07T16:52:46.251Z"
   },
   {
    "duration": 8,
    "start_time": "2021-07-07T16:52:47.182Z"
   },
   {
    "duration": 27,
    "start_time": "2021-07-07T16:53:20.391Z"
   },
   {
    "duration": 20,
    "start_time": "2021-07-07T16:53:22.022Z"
   },
   {
    "duration": 23,
    "start_time": "2021-07-07T16:53:23.690Z"
   },
   {
    "duration": 8,
    "start_time": "2021-07-07T16:53:24.261Z"
   },
   {
    "duration": 4,
    "start_time": "2021-07-07T16:53:38.733Z"
   },
   {
    "duration": 7,
    "start_time": "2021-07-07T16:53:40.445Z"
   },
   {
    "duration": 11,
    "start_time": "2021-07-07T16:53:41.348Z"
   },
   {
    "duration": 13,
    "start_time": "2021-07-07T16:53:45.250Z"
   },
   {
    "duration": 12,
    "start_time": "2021-07-07T16:53:45.467Z"
   },
   {
    "duration": 4,
    "start_time": "2021-07-07T16:55:32.704Z"
   },
   {
    "duration": 12,
    "start_time": "2021-07-07T16:55:49.012Z"
   },
   {
    "duration": 18,
    "start_time": "2021-07-07T16:55:49.547Z"
   },
   {
    "duration": 611,
    "start_time": "2021-07-07T16:58:35.156Z"
   },
   {
    "duration": 200,
    "start_time": "2021-07-07T16:58:35.770Z"
   },
   {
    "duration": 86,
    "start_time": "2021-07-07T16:58:35.972Z"
   },
   {
    "duration": 3,
    "start_time": "2021-07-07T16:58:36.060Z"
   },
   {
    "duration": 27,
    "start_time": "2021-07-07T16:58:36.065Z"
   },
   {
    "duration": 8,
    "start_time": "2021-07-07T16:58:36.094Z"
   },
   {
    "duration": 17,
    "start_time": "2021-07-07T16:58:36.103Z"
   },
   {
    "duration": 5,
    "start_time": "2021-07-07T16:58:36.123Z"
   },
   {
    "duration": 11,
    "start_time": "2021-07-07T16:58:36.130Z"
   },
   {
    "duration": 7,
    "start_time": "2021-07-07T16:58:36.143Z"
   },
   {
    "duration": 37,
    "start_time": "2021-07-07T16:58:36.152Z"
   },
   {
    "duration": 27,
    "start_time": "2021-07-07T16:58:36.191Z"
   },
   {
    "duration": 19,
    "start_time": "2021-07-07T16:58:36.219Z"
   },
   {
    "duration": 49,
    "start_time": "2021-07-07T16:58:36.240Z"
   },
   {
    "duration": 6,
    "start_time": "2021-07-07T16:58:36.291Z"
   },
   {
    "duration": 3,
    "start_time": "2021-07-07T16:58:36.299Z"
   },
   {
    "duration": 13,
    "start_time": "2021-07-07T16:58:36.304Z"
   },
   {
    "duration": 10,
    "start_time": "2021-07-07T16:58:36.319Z"
   },
   {
    "duration": 10,
    "start_time": "2021-07-07T16:58:36.331Z"
   },
   {
    "duration": 44,
    "start_time": "2021-07-07T16:58:36.343Z"
   },
   {
    "duration": 4,
    "start_time": "2021-07-07T16:58:36.388Z"
   },
   {
    "duration": 13,
    "start_time": "2021-07-07T16:58:36.394Z"
   },
   {
    "duration": 16,
    "start_time": "2021-07-07T16:58:36.410Z"
   },
   {
    "duration": 8,
    "start_time": "2021-07-07T17:02:31.629Z"
   },
   {
    "duration": 8,
    "start_time": "2021-07-07T17:02:34.308Z"
   },
   {
    "duration": 6,
    "start_time": "2021-07-07T17:05:13.483Z"
   },
   {
    "duration": 17,
    "start_time": "2021-07-07T17:05:20.606Z"
   },
   {
    "duration": 7,
    "start_time": "2021-07-07T17:05:34.638Z"
   },
   {
    "duration": 3,
    "start_time": "2021-07-07T17:06:31.883Z"
   },
   {
    "duration": 570,
    "start_time": "2021-07-07T17:06:37.165Z"
   },
   {
    "duration": 174,
    "start_time": "2021-07-07T17:06:37.737Z"
   },
   {
    "duration": 47,
    "start_time": "2021-07-07T17:06:37.913Z"
   },
   {
    "duration": 3,
    "start_time": "2021-07-07T17:06:37.962Z"
   },
   {
    "duration": 27,
    "start_time": "2021-07-07T17:06:37.967Z"
   },
   {
    "duration": 7,
    "start_time": "2021-07-07T17:06:37.996Z"
   },
   {
    "duration": 16,
    "start_time": "2021-07-07T17:06:38.005Z"
   },
   {
    "duration": 6,
    "start_time": "2021-07-07T17:06:38.024Z"
   },
   {
    "duration": 12,
    "start_time": "2021-07-07T17:06:38.031Z"
   },
   {
    "duration": 41,
    "start_time": "2021-07-07T17:06:38.045Z"
   },
   {
    "duration": 8,
    "start_time": "2021-07-07T17:06:38.088Z"
   },
   {
    "duration": 26,
    "start_time": "2021-07-07T17:06:38.098Z"
   },
   {
    "duration": 17,
    "start_time": "2021-07-07T17:06:38.126Z"
   },
   {
    "duration": 43,
    "start_time": "2021-07-07T17:06:38.144Z"
   },
   {
    "duration": 6,
    "start_time": "2021-07-07T17:06:38.188Z"
   },
   {
    "duration": 5,
    "start_time": "2021-07-07T17:06:38.195Z"
   },
   {
    "duration": 9,
    "start_time": "2021-07-07T17:06:38.201Z"
   },
   {
    "duration": 12,
    "start_time": "2021-07-07T17:06:38.212Z"
   },
   {
    "duration": 11,
    "start_time": "2021-07-07T17:06:38.226Z"
   },
   {
    "duration": 47,
    "start_time": "2021-07-07T17:06:38.239Z"
   },
   {
    "duration": 4,
    "start_time": "2021-07-07T17:06:38.288Z"
   },
   {
    "duration": 13,
    "start_time": "2021-07-07T17:06:38.293Z"
   },
   {
    "duration": 5,
    "start_time": "2021-07-07T17:06:38.309Z"
   },
   {
    "duration": 18,
    "start_time": "2021-07-07T17:06:38.325Z"
   },
   {
    "duration": 20,
    "start_time": "2021-07-07T17:07:02.805Z"
   },
   {
    "duration": 19,
    "start_time": "2021-07-07T17:07:08.527Z"
   },
   {
    "duration": 19,
    "start_time": "2021-07-07T17:07:12.758Z"
   },
   {
    "duration": 22,
    "start_time": "2021-07-07T17:07:17.497Z"
   },
   {
    "duration": 19,
    "start_time": "2021-07-07T17:07:19.645Z"
   },
   {
    "duration": 10,
    "start_time": "2021-07-07T17:07:34.239Z"
   },
   {
    "duration": 17,
    "start_time": "2021-07-07T17:07:54.144Z"
   },
   {
    "duration": 14,
    "start_time": "2021-07-07T17:08:14.357Z"
   },
   {
    "duration": 616,
    "start_time": "2021-07-07T17:08:45.254Z"
   },
   {
    "duration": 178,
    "start_time": "2021-07-07T17:08:45.872Z"
   },
   {
    "duration": 60,
    "start_time": "2021-07-07T17:08:46.054Z"
   },
   {
    "duration": 3,
    "start_time": "2021-07-07T17:08:46.116Z"
   },
   {
    "duration": 26,
    "start_time": "2021-07-07T17:08:46.121Z"
   },
   {
    "duration": 7,
    "start_time": "2021-07-07T17:08:46.149Z"
   },
   {
    "duration": 17,
    "start_time": "2021-07-07T17:08:46.158Z"
   },
   {
    "duration": 14,
    "start_time": "2021-07-07T17:08:46.176Z"
   },
   {
    "duration": 17,
    "start_time": "2021-07-07T17:08:46.193Z"
   },
   {
    "duration": 9,
    "start_time": "2021-07-07T17:08:46.211Z"
   },
   {
    "duration": 21,
    "start_time": "2021-07-07T17:08:46.221Z"
   },
   {
    "duration": 49,
    "start_time": "2021-07-07T17:08:46.244Z"
   },
   {
    "duration": 24,
    "start_time": "2021-07-07T17:08:46.295Z"
   },
   {
    "duration": 22,
    "start_time": "2021-07-07T17:08:46.321Z"
   },
   {
    "duration": 6,
    "start_time": "2021-07-07T17:08:46.345Z"
   },
   {
    "duration": 5,
    "start_time": "2021-07-07T17:08:46.353Z"
   },
   {
    "duration": 13,
    "start_time": "2021-07-07T17:08:46.386Z"
   },
   {
    "duration": 12,
    "start_time": "2021-07-07T17:08:46.402Z"
   },
   {
    "duration": 10,
    "start_time": "2021-07-07T17:08:46.415Z"
   },
   {
    "duration": 7,
    "start_time": "2021-07-07T17:08:46.427Z"
   },
   {
    "duration": 8,
    "start_time": "2021-07-07T17:08:46.435Z"
   },
   {
    "duration": 68,
    "start_time": "2021-07-07T17:08:46.446Z"
   },
   {
    "duration": 13,
    "start_time": "2021-07-07T17:08:46.516Z"
   },
   {
    "duration": 78,
    "start_time": "2021-07-07T17:08:46.530Z"
   },
   {
    "duration": 40,
    "start_time": "2021-07-07T17:09:08.185Z"
   },
   {
    "duration": 16,
    "start_time": "2021-07-07T17:09:19.324Z"
   },
   {
    "duration": 21,
    "start_time": "2021-07-07T17:09:23.290Z"
   },
   {
    "duration": 13,
    "start_time": "2021-07-07T17:09:54.812Z"
   },
   {
    "duration": 13,
    "start_time": "2021-07-07T17:10:02.039Z"
   },
   {
    "duration": 10,
    "start_time": "2021-07-07T17:10:29.632Z"
   },
   {
    "duration": 13,
    "start_time": "2021-07-07T17:10:52.372Z"
   },
   {
    "duration": 13,
    "start_time": "2021-07-07T17:11:17.270Z"
   },
   {
    "duration": 13,
    "start_time": "2021-07-07T17:14:59.284Z"
   },
   {
    "duration": 547,
    "start_time": "2021-07-07T17:18:52.403Z"
   },
   {
    "duration": 163,
    "start_time": "2021-07-07T17:18:52.952Z"
   },
   {
    "duration": 44,
    "start_time": "2021-07-07T17:18:53.117Z"
   },
   {
    "duration": 3,
    "start_time": "2021-07-07T17:18:53.162Z"
   },
   {
    "duration": 26,
    "start_time": "2021-07-07T17:18:53.167Z"
   },
   {
    "duration": 6,
    "start_time": "2021-07-07T17:18:53.195Z"
   },
   {
    "duration": 15,
    "start_time": "2021-07-07T17:18:53.203Z"
   },
   {
    "duration": 5,
    "start_time": "2021-07-07T17:18:53.220Z"
   },
   {
    "duration": 11,
    "start_time": "2021-07-07T17:18:53.228Z"
   },
   {
    "duration": 9,
    "start_time": "2021-07-07T17:18:53.241Z"
   },
   {
    "duration": 41,
    "start_time": "2021-07-07T17:18:53.252Z"
   },
   {
    "duration": 33,
    "start_time": "2021-07-07T17:18:53.295Z"
   },
   {
    "duration": 19,
    "start_time": "2021-07-07T17:18:53.330Z"
   },
   {
    "duration": 49,
    "start_time": "2021-07-07T17:18:53.350Z"
   },
   {
    "duration": 5,
    "start_time": "2021-07-07T17:18:53.401Z"
   },
   {
    "duration": 5,
    "start_time": "2021-07-07T17:18:53.408Z"
   },
   {
    "duration": 11,
    "start_time": "2021-07-07T17:18:53.414Z"
   },
   {
    "duration": 9,
    "start_time": "2021-07-07T17:18:53.427Z"
   },
   {
    "duration": 10,
    "start_time": "2021-07-07T17:18:53.437Z"
   },
   {
    "duration": 39,
    "start_time": "2021-07-07T17:18:53.448Z"
   },
   {
    "duration": 26,
    "start_time": "2021-07-07T17:18:55.799Z"
   },
   {
    "duration": 598,
    "start_time": "2021-07-07T17:20:17.862Z"
   },
   {
    "duration": 161,
    "start_time": "2021-07-07T17:20:18.462Z"
   },
   {
    "duration": 45,
    "start_time": "2021-07-07T17:20:18.626Z"
   },
   {
    "duration": 4,
    "start_time": "2021-07-07T17:20:18.673Z"
   },
   {
    "duration": 38,
    "start_time": "2021-07-07T17:20:26.877Z"
   },
   {
    "duration": 7,
    "start_time": "2021-07-07T17:20:37.405Z"
   },
   {
    "duration": 19,
    "start_time": "2021-07-07T17:20:51.534Z"
   },
   {
    "duration": 5,
    "start_time": "2021-07-07T17:20:57.228Z"
   },
   {
    "duration": 7,
    "start_time": "2021-07-07T17:21:08.235Z"
   },
   {
    "duration": 19,
    "start_time": "2021-07-07T17:21:42.158Z"
   },
   {
    "duration": 14,
    "start_time": "2021-07-07T17:21:50.225Z"
   },
   {
    "duration": 22,
    "start_time": "2021-07-07T17:22:54.104Z"
   },
   {
    "duration": 5,
    "start_time": "2021-07-07T17:22:56.371Z"
   },
   {
    "duration": 14,
    "start_time": "2021-07-07T17:22:58.316Z"
   },
   {
    "duration": 5,
    "start_time": "2021-07-07T17:22:58.493Z"
   },
   {
    "duration": 35,
    "start_time": "2021-07-07T17:22:59.666Z"
   },
   {
    "duration": 6,
    "start_time": "2021-07-07T17:23:02.410Z"
   },
   {
    "duration": 611,
    "start_time": "2021-07-07T17:24:59.664Z"
   },
   {
    "duration": 178,
    "start_time": "2021-07-07T17:25:01.945Z"
   },
   {
    "duration": 47,
    "start_time": "2021-07-07T17:25:02.125Z"
   },
   {
    "duration": 2,
    "start_time": "2021-07-07T17:25:07.903Z"
   },
   {
    "duration": 254,
    "start_time": "2021-07-07T17:25:08.232Z"
   },
   {
    "duration": 182,
    "start_time": "2021-07-07T17:25:08.671Z"
   },
   {
    "duration": 6,
    "start_time": "2021-07-07T17:25:13.104Z"
   },
   {
    "duration": 36,
    "start_time": "2021-07-07T17:25:13.662Z"
   },
   {
    "duration": 7,
    "start_time": "2021-07-07T17:25:14.528Z"
   },
   {
    "duration": 24,
    "start_time": "2021-07-07T17:25:27.982Z"
   },
   {
    "duration": 3,
    "start_time": "2021-07-07T17:25:48.982Z"
   },
   {
    "duration": 165,
    "start_time": "2021-07-07T17:25:48.987Z"
   },
   {
    "duration": 50,
    "start_time": "2021-07-07T17:25:49.154Z"
   },
   {
    "duration": 4,
    "start_time": "2021-07-07T17:25:49.206Z"
   },
   {
    "duration": 26,
    "start_time": "2021-07-07T17:25:49.212Z"
   },
   {
    "duration": 7,
    "start_time": "2021-07-07T17:25:49.240Z"
   },
   {
    "duration": 16,
    "start_time": "2021-07-07T17:25:49.249Z"
   },
   {
    "duration": 22,
    "start_time": "2021-07-07T17:25:49.266Z"
   },
   {
    "duration": 16,
    "start_time": "2021-07-07T17:25:49.291Z"
   },
   {
    "duration": 9,
    "start_time": "2021-07-07T17:25:49.309Z"
   },
   {
    "duration": 7,
    "start_time": "2021-07-07T17:25:49.319Z"
   },
   {
    "duration": 28,
    "start_time": "2021-07-07T17:25:49.328Z"
   },
   {
    "duration": 44,
    "start_time": "2021-07-07T17:25:49.357Z"
   },
   {
    "duration": 22,
    "start_time": "2021-07-07T17:25:49.403Z"
   },
   {
    "duration": 7,
    "start_time": "2021-07-07T17:25:49.427Z"
   },
   {
    "duration": 3,
    "start_time": "2021-07-07T17:25:49.436Z"
   },
   {
    "duration": 44,
    "start_time": "2021-07-07T17:25:49.441Z"
   },
   {
    "duration": 12,
    "start_time": "2021-07-07T17:25:49.488Z"
   },
   {
    "duration": 13,
    "start_time": "2021-07-07T17:25:49.502Z"
   },
   {
    "duration": 10,
    "start_time": "2021-07-07T17:25:49.516Z"
   },
   {
    "duration": 62,
    "start_time": "2021-07-07T17:25:49.527Z"
   },
   {
    "duration": 26,
    "start_time": "2021-07-07T17:26:51.809Z"
   },
   {
    "duration": 26,
    "start_time": "2021-07-07T17:26:55.759Z"
   },
   {
    "duration": 26,
    "start_time": "2021-07-07T17:27:04.501Z"
   },
   {
    "duration": 25,
    "start_time": "2021-07-07T17:28:24.859Z"
   },
   {
    "duration": 21,
    "start_time": "2021-07-07T17:28:55.250Z"
   },
   {
    "duration": 21,
    "start_time": "2021-07-07T17:28:58.885Z"
   },
   {
    "duration": 7,
    "start_time": "2021-07-07T17:45:40.972Z"
   },
   {
    "duration": 13,
    "start_time": "2021-07-07T17:45:42.529Z"
   },
   {
    "duration": 27,
    "start_time": "2021-07-07T17:45:51.026Z"
   },
   {
    "duration": 518,
    "start_time": "2021-07-07T17:46:15.532Z"
   },
   {
    "duration": 235,
    "start_time": "2021-07-07T17:46:16.053Z"
   },
   {
    "duration": 80,
    "start_time": "2021-07-07T17:46:16.292Z"
   },
   {
    "duration": 5,
    "start_time": "2021-07-07T17:46:16.373Z"
   },
   {
    "duration": 26,
    "start_time": "2021-07-07T17:46:16.380Z"
   },
   {
    "duration": 7,
    "start_time": "2021-07-07T17:46:16.408Z"
   },
   {
    "duration": 16,
    "start_time": "2021-07-07T17:46:16.418Z"
   },
   {
    "duration": 5,
    "start_time": "2021-07-07T17:46:16.436Z"
   },
   {
    "duration": 13,
    "start_time": "2021-07-07T17:46:16.442Z"
   },
   {
    "duration": 35,
    "start_time": "2021-07-07T17:46:16.456Z"
   },
   {
    "duration": 8,
    "start_time": "2021-07-07T17:46:16.493Z"
   },
   {
    "duration": 28,
    "start_time": "2021-07-07T17:46:16.502Z"
   },
   {
    "duration": 17,
    "start_time": "2021-07-07T17:46:16.532Z"
   },
   {
    "duration": 44,
    "start_time": "2021-07-07T17:46:16.551Z"
   },
   {
    "duration": 6,
    "start_time": "2021-07-07T17:46:16.597Z"
   },
   {
    "duration": 4,
    "start_time": "2021-07-07T17:46:16.605Z"
   },
   {
    "duration": 9,
    "start_time": "2021-07-07T17:46:16.610Z"
   },
   {
    "duration": 9,
    "start_time": "2021-07-07T17:46:16.621Z"
   },
   {
    "duration": 10,
    "start_time": "2021-07-07T17:46:16.632Z"
   },
   {
    "duration": 43,
    "start_time": "2021-07-07T17:46:16.644Z"
   },
   {
    "duration": 26,
    "start_time": "2021-07-07T17:46:16.689Z"
   },
   {
    "duration": 19,
    "start_time": "2021-07-07T17:46:16.718Z"
   },
   {
    "duration": 8,
    "start_time": "2021-07-07T17:46:16.738Z"
   },
   {
    "duration": 43,
    "start_time": "2021-07-07T17:46:16.747Z"
   },
   {
    "duration": 19,
    "start_time": "2021-07-07T17:46:16.791Z"
   },
   {
    "duration": 9,
    "start_time": "2021-07-07T17:46:16.812Z"
   },
   {
    "duration": 60,
    "start_time": "2021-07-07T17:46:16.822Z"
   },
   {
    "duration": -8,
    "start_time": "2021-07-07T17:46:16.892Z"
   },
   {
    "duration": 12,
    "start_time": "2021-07-07T17:48:47.707Z"
   },
   {
    "duration": 553,
    "start_time": "2021-07-07T18:10:09.350Z"
   },
   {
    "duration": 230,
    "start_time": "2021-07-07T18:10:09.905Z"
   },
   {
    "duration": 97,
    "start_time": "2021-07-07T18:10:10.137Z"
   },
   {
    "duration": 5,
    "start_time": "2021-07-07T18:10:10.236Z"
   },
   {
    "duration": 29,
    "start_time": "2021-07-07T18:10:10.242Z"
   },
   {
    "duration": 7,
    "start_time": "2021-07-07T18:10:10.272Z"
   },
   {
    "duration": 15,
    "start_time": "2021-07-07T18:10:10.281Z"
   },
   {
    "duration": 4,
    "start_time": "2021-07-07T18:10:10.299Z"
   },
   {
    "duration": 14,
    "start_time": "2021-07-07T18:10:10.305Z"
   },
   {
    "duration": 8,
    "start_time": "2021-07-07T18:10:10.321Z"
   },
   {
    "duration": 8,
    "start_time": "2021-07-07T18:10:10.331Z"
   },
   {
    "duration": 56,
    "start_time": "2021-07-07T18:10:10.341Z"
   },
   {
    "duration": 19,
    "start_time": "2021-07-07T18:10:10.399Z"
   },
   {
    "duration": 23,
    "start_time": "2021-07-07T18:10:10.419Z"
   },
   {
    "duration": 6,
    "start_time": "2021-07-07T18:10:10.444Z"
   },
   {
    "duration": 9,
    "start_time": "2021-07-07T18:10:10.451Z"
   },
   {
    "duration": 30,
    "start_time": "2021-07-07T18:10:10.462Z"
   },
   {
    "duration": 9,
    "start_time": "2021-07-07T18:10:10.494Z"
   },
   {
    "duration": 14,
    "start_time": "2021-07-07T18:10:10.505Z"
   },
   {
    "duration": 7,
    "start_time": "2021-07-07T18:10:10.521Z"
   },
   {
    "duration": 26,
    "start_time": "2021-07-07T18:10:10.530Z"
   },
   {
    "duration": 44,
    "start_time": "2021-07-07T18:10:10.558Z"
   },
   {
    "duration": 7,
    "start_time": "2021-07-07T18:10:10.605Z"
   },
   {
    "duration": 11,
    "start_time": "2021-07-07T18:10:10.614Z"
   },
   {
    "duration": 19,
    "start_time": "2021-07-07T18:10:10.626Z"
   },
   {
    "duration": 44,
    "start_time": "2021-07-07T18:10:10.646Z"
   },
   {
    "duration": 516,
    "start_time": "2021-07-07T18:14:00.826Z"
   },
   {
    "duration": 230,
    "start_time": "2021-07-07T18:14:01.344Z"
   },
   {
    "duration": 105,
    "start_time": "2021-07-07T18:14:01.576Z"
   },
   {
    "duration": 5,
    "start_time": "2021-07-07T18:14:01.683Z"
   },
   {
    "duration": 46,
    "start_time": "2021-07-07T18:14:01.690Z"
   },
   {
    "duration": 7,
    "start_time": "2021-07-07T18:14:01.738Z"
   },
   {
    "duration": 20,
    "start_time": "2021-07-07T18:14:01.747Z"
   },
   {
    "duration": 16,
    "start_time": "2021-07-07T18:14:01.769Z"
   },
   {
    "duration": 14,
    "start_time": "2021-07-07T18:14:01.787Z"
   },
   {
    "duration": 15,
    "start_time": "2021-07-07T18:14:01.803Z"
   },
   {
    "duration": 12,
    "start_time": "2021-07-07T18:14:01.820Z"
   },
   {
    "duration": 35,
    "start_time": "2021-07-07T18:14:01.833Z"
   },
   {
    "duration": 31,
    "start_time": "2021-07-07T18:14:01.869Z"
   },
   {
    "duration": 37,
    "start_time": "2021-07-07T18:14:01.902Z"
   },
   {
    "duration": 8,
    "start_time": "2021-07-07T18:14:01.942Z"
   },
   {
    "duration": 16,
    "start_time": "2021-07-07T18:14:01.952Z"
   },
   {
    "duration": 13,
    "start_time": "2021-07-07T18:14:01.970Z"
   },
   {
    "duration": 32,
    "start_time": "2021-07-07T18:14:01.985Z"
   },
   {
    "duration": 11,
    "start_time": "2021-07-07T18:14:02.019Z"
   },
   {
    "duration": 22,
    "start_time": "2021-07-07T18:14:02.031Z"
   },
   {
    "duration": 27,
    "start_time": "2021-07-07T18:14:02.055Z"
   },
   {
    "duration": 18,
    "start_time": "2021-07-07T18:14:02.084Z"
   },
   {
    "duration": 18,
    "start_time": "2021-07-07T18:14:02.106Z"
   },
   {
    "duration": 11,
    "start_time": "2021-07-07T18:14:02.126Z"
   },
   {
    "duration": 21,
    "start_time": "2021-07-07T18:14:02.138Z"
   },
   {
    "duration": 32,
    "start_time": "2021-07-07T18:14:02.161Z"
   },
   {
    "duration": 28,
    "start_time": "2021-07-07T18:14:44.295Z"
   },
   {
    "duration": 6,
    "start_time": "2021-07-07T18:15:05.834Z"
   },
   {
    "duration": 511,
    "start_time": "2021-07-07T18:15:41.541Z"
   },
   {
    "duration": 183,
    "start_time": "2021-07-07T18:15:42.054Z"
   },
   {
    "duration": 50,
    "start_time": "2021-07-07T18:15:42.239Z"
   },
   {
    "duration": 5,
    "start_time": "2021-07-07T18:15:42.291Z"
   },
   {
    "duration": 48,
    "start_time": "2021-07-07T18:15:42.297Z"
   },
   {
    "duration": 8,
    "start_time": "2021-07-07T18:15:42.346Z"
   },
   {
    "duration": 17,
    "start_time": "2021-07-07T18:15:42.356Z"
   },
   {
    "duration": 15,
    "start_time": "2021-07-07T18:15:42.375Z"
   },
   {
    "duration": 12,
    "start_time": "2021-07-07T18:15:42.392Z"
   },
   {
    "duration": 7,
    "start_time": "2021-07-07T18:15:42.406Z"
   },
   {
    "duration": 7,
    "start_time": "2021-07-07T18:15:42.415Z"
   },
   {
    "duration": 29,
    "start_time": "2021-07-07T18:15:42.423Z"
   },
   {
    "duration": 43,
    "start_time": "2021-07-07T18:15:42.453Z"
   },
   {
    "duration": 18,
    "start_time": "2021-07-07T18:15:42.497Z"
   },
   {
    "duration": 6,
    "start_time": "2021-07-07T18:15:42.516Z"
   },
   {
    "duration": 3,
    "start_time": "2021-07-07T18:15:42.523Z"
   },
   {
    "duration": 18,
    "start_time": "2021-07-07T18:15:42.528Z"
   },
   {
    "duration": 10,
    "start_time": "2021-07-07T18:15:42.547Z"
   },
   {
    "duration": 36,
    "start_time": "2021-07-07T18:15:42.559Z"
   },
   {
    "duration": 8,
    "start_time": "2021-07-07T18:15:42.597Z"
   },
   {
    "duration": 28,
    "start_time": "2021-07-07T18:15:42.606Z"
   },
   {
    "duration": 52,
    "start_time": "2021-07-07T18:15:42.635Z"
   },
   {
    "duration": 7,
    "start_time": "2021-07-07T18:15:42.690Z"
   },
   {
    "duration": 10,
    "start_time": "2021-07-07T18:15:42.699Z"
   },
   {
    "duration": 19,
    "start_time": "2021-07-07T18:15:42.711Z"
   },
   {
    "duration": 9,
    "start_time": "2021-07-07T18:15:42.732Z"
   },
   {
    "duration": 5,
    "start_time": "2021-07-07T18:15:42.743Z"
   },
   {
    "duration": 1450,
    "start_time": "2021-07-07T18:15:51.984Z"
   },
   {
    "duration": 161,
    "start_time": "2021-07-07T18:15:53.435Z"
   },
   {
    "duration": 124,
    "start_time": "2021-07-07T18:15:53.598Z"
   },
   {
    "duration": 5,
    "start_time": "2021-07-07T18:15:53.724Z"
   },
   {
    "duration": 34,
    "start_time": "2021-07-07T18:15:53.730Z"
   },
   {
    "duration": 7,
    "start_time": "2021-07-07T18:15:53.765Z"
   },
   {
    "duration": 15,
    "start_time": "2021-07-07T18:15:53.773Z"
   },
   {
    "duration": 5,
    "start_time": "2021-07-07T18:15:53.791Z"
   },
   {
    "duration": 19,
    "start_time": "2021-07-07T18:15:53.798Z"
   },
   {
    "duration": 9,
    "start_time": "2021-07-07T18:15:53.818Z"
   },
   {
    "duration": 19,
    "start_time": "2021-07-07T18:15:53.828Z"
   },
   {
    "duration": 27,
    "start_time": "2021-07-07T18:15:53.848Z"
   },
   {
    "duration": 16,
    "start_time": "2021-07-07T18:15:53.884Z"
   },
   {
    "duration": 29,
    "start_time": "2021-07-07T18:15:53.901Z"
   },
   {
    "duration": 5,
    "start_time": "2021-07-07T18:15:53.932Z"
   },
   {
    "duration": 15,
    "start_time": "2021-07-07T18:15:53.939Z"
   },
   {
    "duration": 13,
    "start_time": "2021-07-07T18:15:53.956Z"
   },
   {
    "duration": 20,
    "start_time": "2021-07-07T18:15:53.971Z"
   },
   {
    "duration": 14,
    "start_time": "2021-07-07T18:15:53.992Z"
   },
   {
    "duration": 9,
    "start_time": "2021-07-07T18:15:54.009Z"
   },
   {
    "duration": 28,
    "start_time": "2021-07-07T18:15:54.020Z"
   },
   {
    "duration": 50,
    "start_time": "2021-07-07T18:15:54.051Z"
   },
   {
    "duration": 8,
    "start_time": "2021-07-07T18:15:54.105Z"
   },
   {
    "duration": 11,
    "start_time": "2021-07-07T18:15:54.115Z"
   },
   {
    "duration": 20,
    "start_time": "2021-07-07T18:15:54.128Z"
   },
   {
    "duration": 13,
    "start_time": "2021-07-07T18:15:54.184Z"
   },
   {
    "duration": 7,
    "start_time": "2021-07-07T18:15:54.199Z"
   },
   {
    "duration": 7,
    "start_time": "2021-07-07T18:17:08.042Z"
   },
   {
    "duration": 8,
    "start_time": "2021-07-07T18:17:21.008Z"
   },
   {
    "duration": 7,
    "start_time": "2021-07-07T18:17:29.003Z"
   },
   {
    "duration": 8,
    "start_time": "2021-07-07T18:17:32.492Z"
   },
   {
    "duration": 9,
    "start_time": "2021-07-07T18:17:41.758Z"
   },
   {
    "duration": 255,
    "start_time": "2021-07-07T18:20:20.897Z"
   },
   {
    "duration": 173,
    "start_time": "2021-07-07T18:20:26.636Z"
   },
   {
    "duration": 7,
    "start_time": "2021-07-07T18:21:47.164Z"
   },
   {
    "duration": 254,
    "start_time": "2021-07-07T18:23:08.703Z"
   },
   {
    "duration": 21,
    "start_time": "2021-07-07T18:23:22.506Z"
   },
   {
    "duration": 315,
    "start_time": "2021-07-07T18:25:54.801Z"
   },
   {
    "duration": 34,
    "start_time": "2021-07-07T18:26:51.817Z"
   },
   {
    "duration": 327,
    "start_time": "2021-07-07T18:26:56.147Z"
   },
   {
    "duration": 342,
    "start_time": "2021-07-07T18:27:15.887Z"
   },
   {
    "duration": 302,
    "start_time": "2021-07-07T18:28:18.569Z"
   },
   {
    "duration": 226,
    "start_time": "2021-07-07T18:29:20.879Z"
   },
   {
    "duration": 207,
    "start_time": "2021-07-07T18:29:58.114Z"
   },
   {
    "duration": 140,
    "start_time": "2021-07-07T18:32:04.372Z"
   },
   {
    "duration": 158,
    "start_time": "2021-07-07T18:32:32.508Z"
   },
   {
    "duration": 145,
    "start_time": "2021-07-07T18:32:41.365Z"
   },
   {
    "duration": 132,
    "start_time": "2021-07-07T18:32:45.199Z"
   },
   {
    "duration": 11,
    "start_time": "2021-07-07T18:35:24.679Z"
   },
   {
    "duration": 268,
    "start_time": "2021-07-07T18:36:16.145Z"
   },
   {
    "duration": 227,
    "start_time": "2021-07-07T18:37:04.918Z"
   },
   {
    "duration": 3,
    "start_time": "2021-07-07T18:37:33.012Z"
   },
   {
    "duration": 671,
    "start_time": "2021-07-07T18:37:38.295Z"
   },
   {
    "duration": 54,
    "start_time": "2021-07-07T18:37:53.406Z"
   },
   {
    "duration": 631,
    "start_time": "2021-07-07T18:37:56.463Z"
   },
   {
    "duration": 19,
    "start_time": "2021-07-07T18:39:40.535Z"
   },
   {
    "duration": 20,
    "start_time": "2021-07-07T18:40:12.236Z"
   },
   {
    "duration": 633,
    "start_time": "2021-07-07T18:42:00.398Z"
   },
   {
    "duration": 218,
    "start_time": "2021-07-07T18:42:01.033Z"
   },
   {
    "duration": 49,
    "start_time": "2021-07-07T18:42:01.253Z"
   },
   {
    "duration": 5,
    "start_time": "2021-07-07T18:42:01.303Z"
   },
   {
    "duration": 27,
    "start_time": "2021-07-07T18:42:01.310Z"
   },
   {
    "duration": 8,
    "start_time": "2021-07-07T18:42:01.339Z"
   },
   {
    "duration": 20,
    "start_time": "2021-07-07T18:42:01.348Z"
   },
   {
    "duration": 6,
    "start_time": "2021-07-07T18:42:01.386Z"
   },
   {
    "duration": 16,
    "start_time": "2021-07-07T18:42:01.394Z"
   },
   {
    "duration": 9,
    "start_time": "2021-07-07T18:42:01.411Z"
   },
   {
    "duration": 11,
    "start_time": "2021-07-07T18:42:01.421Z"
   },
   {
    "duration": 31,
    "start_time": "2021-07-07T18:42:01.434Z"
   },
   {
    "duration": 18,
    "start_time": "2021-07-07T18:42:01.485Z"
   },
   {
    "duration": 23,
    "start_time": "2021-07-07T18:42:01.505Z"
   },
   {
    "duration": 6,
    "start_time": "2021-07-07T18:42:01.530Z"
   },
   {
    "duration": 10,
    "start_time": "2021-07-07T18:42:01.538Z"
   },
   {
    "duration": 13,
    "start_time": "2021-07-07T18:42:01.550Z"
   },
   {
    "duration": 24,
    "start_time": "2021-07-07T18:42:01.564Z"
   },
   {
    "duration": 20,
    "start_time": "2021-07-07T18:42:01.590Z"
   },
   {
    "duration": 8,
    "start_time": "2021-07-07T18:42:01.611Z"
   },
   {
    "duration": 31,
    "start_time": "2021-07-07T18:42:01.620Z"
   },
   {
    "duration": 39,
    "start_time": "2021-07-07T18:42:01.653Z"
   },
   {
    "duration": 8,
    "start_time": "2021-07-07T18:42:01.696Z"
   },
   {
    "duration": 13,
    "start_time": "2021-07-07T18:42:01.705Z"
   },
   {
    "duration": 20,
    "start_time": "2021-07-07T18:42:01.720Z"
   },
   {
    "duration": 12,
    "start_time": "2021-07-07T18:42:01.741Z"
   },
   {
    "duration": 35,
    "start_time": "2021-07-07T18:42:01.755Z"
   },
   {
    "duration": 14,
    "start_time": "2021-07-07T18:42:01.792Z"
   },
   {
    "duration": 188,
    "start_time": "2021-07-07T18:42:01.808Z"
   },
   {
    "duration": 19,
    "start_time": "2021-07-07T18:42:01.998Z"
   },
   {
    "duration": 175,
    "start_time": "2021-07-07T18:42:02.019Z"
   },
   {
    "duration": 134,
    "start_time": "2021-07-07T18:42:02.196Z"
   },
   {
    "duration": 10,
    "start_time": "2021-07-07T18:42:02.331Z"
   },
   {
    "duration": 19,
    "start_time": "2021-07-07T18:42:02.343Z"
   },
   {
    "duration": 628,
    "start_time": "2021-07-07T18:46:30.701Z"
   },
   {
    "duration": 183,
    "start_time": "2021-07-07T18:46:31.331Z"
   },
   {
    "duration": 48,
    "start_time": "2021-07-07T18:46:31.516Z"
   },
   {
    "duration": 5,
    "start_time": "2021-07-07T18:46:31.566Z"
   },
   {
    "duration": 28,
    "start_time": "2021-07-07T18:46:31.572Z"
   },
   {
    "duration": 8,
    "start_time": "2021-07-07T18:46:31.602Z"
   },
   {
    "duration": 19,
    "start_time": "2021-07-07T18:46:31.611Z"
   },
   {
    "duration": 6,
    "start_time": "2021-07-07T18:46:31.633Z"
   },
   {
    "duration": 17,
    "start_time": "2021-07-07T18:46:31.642Z"
   },
   {
    "duration": 10,
    "start_time": "2021-07-07T18:46:31.684Z"
   },
   {
    "duration": 9,
    "start_time": "2021-07-07T18:46:31.695Z"
   },
   {
    "duration": 28,
    "start_time": "2021-07-07T18:46:31.705Z"
   },
   {
    "duration": 18,
    "start_time": "2021-07-07T18:46:31.735Z"
   },
   {
    "duration": 48,
    "start_time": "2021-07-07T18:46:31.755Z"
   },
   {
    "duration": 6,
    "start_time": "2021-07-07T18:46:31.804Z"
   },
   {
    "duration": 4,
    "start_time": "2021-07-07T18:46:31.812Z"
   },
   {
    "duration": 9,
    "start_time": "2021-07-07T18:46:31.817Z"
   },
   {
    "duration": 10,
    "start_time": "2021-07-07T18:46:31.827Z"
   },
   {
    "duration": 12,
    "start_time": "2021-07-07T18:46:31.838Z"
   },
   {
    "duration": 39,
    "start_time": "2021-07-07T18:46:31.851Z"
   },
   {
    "duration": 24,
    "start_time": "2021-07-07T18:46:31.892Z"
   },
   {
    "duration": 15,
    "start_time": "2021-07-07T18:46:31.918Z"
   },
   {
    "duration": 7,
    "start_time": "2021-07-07T18:46:31.936Z"
   },
   {
    "duration": 8,
    "start_time": "2021-07-07T18:46:31.944Z"
   },
   {
    "duration": 19,
    "start_time": "2021-07-07T18:46:31.984Z"
   },
   {
    "duration": 10,
    "start_time": "2021-07-07T18:46:32.004Z"
   },
   {
    "duration": 5,
    "start_time": "2021-07-07T18:46:32.016Z"
   },
   {
    "duration": 9,
    "start_time": "2021-07-07T18:46:32.023Z"
   },
   {
    "duration": 199,
    "start_time": "2021-07-07T18:46:32.033Z"
   },
   {
    "duration": 19,
    "start_time": "2021-07-07T18:46:32.234Z"
   },
   {
    "duration": 159,
    "start_time": "2021-07-07T18:46:32.255Z"
   },
   {
    "duration": 134,
    "start_time": "2021-07-07T18:46:32.416Z"
   },
   {
    "duration": 10,
    "start_time": "2021-07-07T18:46:32.552Z"
   },
   {
    "duration": 34,
    "start_time": "2021-07-07T18:46:32.563Z"
   },
   {
    "duration": 1039,
    "start_time": "2021-07-08T08:41:09.419Z"
   },
   {
    "duration": 333,
    "start_time": "2021-07-08T08:41:10.459Z"
   },
   {
    "duration": 173,
    "start_time": "2021-07-08T08:41:10.794Z"
   },
   {
    "duration": 5,
    "start_time": "2021-07-08T08:41:10.968Z"
   },
   {
    "duration": 25,
    "start_time": "2021-07-08T08:41:10.975Z"
   },
   {
    "duration": 9,
    "start_time": "2021-07-08T08:41:11.002Z"
   },
   {
    "duration": 18,
    "start_time": "2021-07-08T08:41:11.013Z"
   },
   {
    "duration": 6,
    "start_time": "2021-07-08T08:41:11.033Z"
   },
   {
    "duration": 44,
    "start_time": "2021-07-08T08:41:11.042Z"
   },
   {
    "duration": 10,
    "start_time": "2021-07-08T08:41:11.088Z"
   },
   {
    "duration": 9,
    "start_time": "2021-07-08T08:41:11.100Z"
   },
   {
    "duration": 27,
    "start_time": "2021-07-08T08:41:11.111Z"
   },
   {
    "duration": 46,
    "start_time": "2021-07-08T08:41:11.140Z"
   },
   {
    "duration": 17,
    "start_time": "2021-07-08T08:41:11.187Z"
   },
   {
    "duration": 6,
    "start_time": "2021-07-08T08:41:11.206Z"
   },
   {
    "duration": 5,
    "start_time": "2021-07-08T08:41:11.213Z"
   },
   {
    "duration": 10,
    "start_time": "2021-07-08T08:41:11.219Z"
   },
   {
    "duration": 9,
    "start_time": "2021-07-08T08:41:11.230Z"
   },
   {
    "duration": 45,
    "start_time": "2021-07-08T08:41:11.241Z"
   },
   {
    "duration": 7,
    "start_time": "2021-07-08T08:41:11.287Z"
   },
   {
    "duration": 24,
    "start_time": "2021-07-08T08:41:11.296Z"
   },
   {
    "duration": 16,
    "start_time": "2021-07-08T08:41:11.322Z"
   },
   {
    "duration": 7,
    "start_time": "2021-07-08T08:41:11.341Z"
   },
   {
    "duration": 41,
    "start_time": "2021-07-08T08:41:11.349Z"
   },
   {
    "duration": 17,
    "start_time": "2021-07-08T08:41:11.391Z"
   },
   {
    "duration": 9,
    "start_time": "2021-07-08T08:41:11.410Z"
   },
   {
    "duration": 5,
    "start_time": "2021-07-08T08:41:11.421Z"
   },
   {
    "duration": 6,
    "start_time": "2021-07-08T08:41:11.428Z"
   },
   {
    "duration": 198,
    "start_time": "2021-07-08T08:41:11.435Z"
   },
   {
    "duration": 18,
    "start_time": "2021-07-08T08:41:11.635Z"
   },
   {
    "duration": 155,
    "start_time": "2021-07-08T08:41:11.655Z"
   },
   {
    "duration": 138,
    "start_time": "2021-07-08T08:41:11.811Z"
   },
   {
    "duration": 10,
    "start_time": "2021-07-08T08:41:11.950Z"
   },
   {
    "duration": 29,
    "start_time": "2021-07-08T08:41:11.961Z"
   },
   {
    "duration": 171,
    "start_time": "2021-07-08T08:47:44.522Z"
   },
   {
    "duration": 124,
    "start_time": "2021-07-08T08:47:46.872Z"
   },
   {
    "duration": 191,
    "start_time": "2021-07-08T08:47:58.148Z"
   },
   {
    "duration": 191,
    "start_time": "2021-07-08T08:48:07.412Z"
   },
   {
    "duration": 261,
    "start_time": "2021-07-08T08:48:10.385Z"
   },
   {
    "duration": 255,
    "start_time": "2021-07-08T08:48:14.494Z"
   },
   {
    "duration": 219,
    "start_time": "2021-07-08T08:48:22.752Z"
   },
   {
    "duration": 173,
    "start_time": "2021-07-08T08:49:06.395Z"
   },
   {
    "duration": 180,
    "start_time": "2021-07-08T08:49:21.011Z"
   },
   {
    "duration": 6,
    "start_time": "2021-07-08T08:50:31.697Z"
   },
   {
    "duration": 10,
    "start_time": "2021-07-08T08:50:47.394Z"
   },
   {
    "duration": 11,
    "start_time": "2021-07-08T08:53:49.332Z"
   },
   {
    "duration": 171,
    "start_time": "2021-07-08T08:54:28.408Z"
   },
   {
    "duration": 636,
    "start_time": "2021-07-08T09:02:48.385Z"
   },
   {
    "duration": 227,
    "start_time": "2021-07-08T09:02:49.023Z"
   },
   {
    "duration": 104,
    "start_time": "2021-07-08T09:02:49.252Z"
   },
   {
    "duration": 5,
    "start_time": "2021-07-08T09:02:49.358Z"
   },
   {
    "duration": 27,
    "start_time": "2021-07-08T09:02:49.365Z"
   },
   {
    "duration": 8,
    "start_time": "2021-07-08T09:02:49.394Z"
   },
   {
    "duration": 18,
    "start_time": "2021-07-08T09:02:49.404Z"
   },
   {
    "duration": 6,
    "start_time": "2021-07-08T09:02:49.424Z"
   },
   {
    "duration": 11,
    "start_time": "2021-07-08T09:02:49.433Z"
   },
   {
    "duration": 13,
    "start_time": "2021-07-08T09:02:49.485Z"
   },
   {
    "duration": 9,
    "start_time": "2021-07-08T09:02:49.500Z"
   },
   {
    "duration": 38,
    "start_time": "2021-07-08T09:02:49.511Z"
   },
   {
    "duration": 42,
    "start_time": "2021-07-08T09:02:49.551Z"
   },
   {
    "duration": 21,
    "start_time": "2021-07-08T09:02:49.594Z"
   },
   {
    "duration": 6,
    "start_time": "2021-07-08T09:02:49.616Z"
   },
   {
    "duration": 3,
    "start_time": "2021-07-08T09:02:49.623Z"
   },
   {
    "duration": 9,
    "start_time": "2021-07-08T09:02:49.628Z"
   },
   {
    "duration": 52,
    "start_time": "2021-07-08T09:02:49.638Z"
   },
   {
    "duration": 11,
    "start_time": "2021-07-08T09:02:49.692Z"
   },
   {
    "duration": 8,
    "start_time": "2021-07-08T09:02:49.704Z"
   },
   {
    "duration": 27,
    "start_time": "2021-07-08T09:02:49.713Z"
   },
   {
    "duration": 59,
    "start_time": "2021-07-08T09:02:49.741Z"
   },
   {
    "duration": 8,
    "start_time": "2021-07-08T09:02:49.803Z"
   },
   {
    "duration": 14,
    "start_time": "2021-07-08T09:02:49.813Z"
   },
   {
    "duration": 20,
    "start_time": "2021-07-08T09:02:49.829Z"
   },
   {
    "duration": 44,
    "start_time": "2021-07-08T09:02:49.851Z"
   },
   {
    "duration": 14,
    "start_time": "2021-07-08T09:02:49.896Z"
   },
   {
    "duration": 221,
    "start_time": "2021-07-08T09:02:49.912Z"
   },
   {
    "duration": 6,
    "start_time": "2021-07-08T09:02:50.134Z"
   },
   {
    "duration": 206,
    "start_time": "2021-07-08T09:02:50.142Z"
   },
   {
    "duration": 19,
    "start_time": "2021-07-08T09:02:50.350Z"
   },
   {
    "duration": 21,
    "start_time": "2021-07-08T09:02:50.370Z"
   },
   {
    "duration": 20,
    "start_time": "2021-07-08T09:02:50.393Z"
   },
   {
    "duration": 5,
    "start_time": "2021-07-08T09:02:50.414Z"
   },
   {
    "duration": 5,
    "start_time": "2021-07-08T09:03:34.173Z"
   },
   {
    "duration": 6,
    "start_time": "2021-07-08T09:04:49.062Z"
   },
   {
    "duration": 9,
    "start_time": "2021-07-08T09:04:50.118Z"
   },
   {
    "duration": 14,
    "start_time": "2021-07-08T09:04:58.512Z"
   },
   {
    "duration": 9,
    "start_time": "2021-07-08T09:05:10.988Z"
   },
   {
    "duration": 11,
    "start_time": "2021-07-08T09:05:11.743Z"
   },
   {
    "duration": 7,
    "start_time": "2021-07-08T09:05:25.677Z"
   },
   {
    "duration": 13,
    "start_time": "2021-07-08T09:05:47.189Z"
   },
   {
    "duration": 13,
    "start_time": "2021-07-08T09:05:54.755Z"
   },
   {
    "duration": 4,
    "start_time": "2021-07-08T09:06:29.189Z"
   },
   {
    "duration": 244,
    "start_time": "2021-07-08T09:06:29.195Z"
   },
   {
    "duration": 91,
    "start_time": "2021-07-08T09:06:29.441Z"
   },
   {
    "duration": 4,
    "start_time": "2021-07-08T09:06:29.534Z"
   },
   {
    "duration": 28,
    "start_time": "2021-07-08T09:06:29.540Z"
   },
   {
    "duration": 6,
    "start_time": "2021-07-08T09:06:29.570Z"
   },
   {
    "duration": 18,
    "start_time": "2021-07-08T09:06:29.578Z"
   },
   {
    "duration": 5,
    "start_time": "2021-07-08T09:06:29.597Z"
   },
   {
    "duration": 13,
    "start_time": "2021-07-08T09:06:29.605Z"
   },
   {
    "duration": 8,
    "start_time": "2021-07-08T09:06:29.620Z"
   },
   {
    "duration": 7,
    "start_time": "2021-07-08T09:06:29.630Z"
   },
   {
    "duration": 63,
    "start_time": "2021-07-08T09:06:29.639Z"
   },
   {
    "duration": 17,
    "start_time": "2021-07-08T09:06:29.704Z"
   },
   {
    "duration": 20,
    "start_time": "2021-07-08T09:06:29.723Z"
   },
   {
    "duration": 6,
    "start_time": "2021-07-08T09:06:29.745Z"
   },
   {
    "duration": 3,
    "start_time": "2021-07-08T09:06:29.752Z"
   },
   {
    "duration": 7,
    "start_time": "2021-07-08T09:06:29.785Z"
   },
   {
    "duration": 11,
    "start_time": "2021-07-08T09:06:29.794Z"
   },
   {
    "duration": 15,
    "start_time": "2021-07-08T09:06:29.807Z"
   },
   {
    "duration": 8,
    "start_time": "2021-07-08T09:06:29.823Z"
   },
   {
    "duration": 70,
    "start_time": "2021-07-08T09:06:29.832Z"
   },
   {
    "duration": 17,
    "start_time": "2021-07-08T09:06:29.903Z"
   },
   {
    "duration": 9,
    "start_time": "2021-07-08T09:06:29.921Z"
   },
   {
    "duration": 9,
    "start_time": "2021-07-08T09:06:29.932Z"
   },
   {
    "duration": 57,
    "start_time": "2021-07-08T09:06:29.942Z"
   },
   {
    "duration": 11,
    "start_time": "2021-07-08T09:06:30.001Z"
   },
   {
    "duration": 19,
    "start_time": "2021-07-08T09:06:30.016Z"
   },
   {
    "duration": 217,
    "start_time": "2021-07-08T09:06:30.037Z"
   },
   {
    "duration": 6,
    "start_time": "2021-07-08T09:06:30.255Z"
   },
   {
    "duration": 205,
    "start_time": "2021-07-08T09:06:30.263Z"
   },
   {
    "duration": 27,
    "start_time": "2021-07-08T09:06:30.470Z"
   },
   {
    "duration": 11,
    "start_time": "2021-07-08T09:06:30.500Z"
   },
   {
    "duration": 31,
    "start_time": "2021-07-08T09:06:30.513Z"
   },
   {
    "duration": 18,
    "start_time": "2021-07-08T09:06:30.546Z"
   },
   {
    "duration": 11,
    "start_time": "2021-07-08T09:06:30.566Z"
   },
   {
    "duration": 19,
    "start_time": "2021-07-08T09:06:30.579Z"
   },
   {
    "duration": 20,
    "start_time": "2021-07-08T09:06:49.466Z"
   },
   {
    "duration": 9,
    "start_time": "2021-07-08T09:06:51.994Z"
   },
   {
    "duration": 20,
    "start_time": "2021-07-08T09:06:52.273Z"
   },
   {
    "duration": 246,
    "start_time": "2021-07-08T09:10:21.272Z"
   },
   {
    "duration": 84,
    "start_time": "2021-07-08T09:10:21.436Z"
   },
   {
    "duration": 7,
    "start_time": "2021-07-08T09:10:37.608Z"
   },
   {
    "duration": 189,
    "start_time": "2021-07-08T09:10:38.573Z"
   },
   {
    "duration": 185,
    "start_time": "2021-07-08T09:10:53.181Z"
   },
   {
    "duration": 11,
    "start_time": "2021-07-08T09:10:59.549Z"
   },
   {
    "duration": 42,
    "start_time": "2021-07-08T09:10:59.709Z"
   },
   {
    "duration": 12,
    "start_time": "2021-07-08T09:11:02.857Z"
   },
   {
    "duration": 28,
    "start_time": "2021-07-08T09:11:10.062Z"
   },
   {
    "duration": 249,
    "start_time": "2021-07-08T09:11:37.388Z"
   },
   {
    "duration": 232,
    "start_time": "2021-07-08T09:11:49.485Z"
   },
   {
    "duration": 453,
    "start_time": "2021-07-08T09:12:01.546Z"
   },
   {
    "duration": 440,
    "start_time": "2021-07-08T09:12:12.347Z"
   },
   {
    "duration": 213,
    "start_time": "2021-07-08T09:13:32.196Z"
   },
   {
    "duration": 172,
    "start_time": "2021-07-08T09:14:07.400Z"
   },
   {
    "duration": 185,
    "start_time": "2021-07-08T09:14:14.905Z"
   },
   {
    "duration": 209,
    "start_time": "2021-07-08T09:14:40.109Z"
   },
   {
    "duration": 201,
    "start_time": "2021-07-08T09:14:54.506Z"
   },
   {
    "duration": 622,
    "start_time": "2021-07-08T09:18:14.497Z"
   },
   {
    "duration": 220,
    "start_time": "2021-07-08T09:18:15.121Z"
   },
   {
    "duration": 79,
    "start_time": "2021-07-08T09:18:15.343Z"
   },
   {
    "duration": 4,
    "start_time": "2021-07-08T09:18:15.425Z"
   },
   {
    "duration": 24,
    "start_time": "2021-07-08T09:18:15.431Z"
   },
   {
    "duration": 8,
    "start_time": "2021-07-08T09:18:15.457Z"
   },
   {
    "duration": 16,
    "start_time": "2021-07-08T09:18:15.466Z"
   },
   {
    "duration": 5,
    "start_time": "2021-07-08T09:18:15.484Z"
   },
   {
    "duration": 10,
    "start_time": "2021-07-08T09:18:15.493Z"
   },
   {
    "duration": 8,
    "start_time": "2021-07-08T09:18:15.504Z"
   },
   {
    "duration": 7,
    "start_time": "2021-07-08T09:18:15.513Z"
   },
   {
    "duration": 26,
    "start_time": "2021-07-08T09:18:15.522Z"
   },
   {
    "duration": 49,
    "start_time": "2021-07-08T09:18:15.550Z"
   },
   {
    "duration": 21,
    "start_time": "2021-07-08T09:18:15.601Z"
   },
   {
    "duration": 8,
    "start_time": "2021-07-08T09:18:15.624Z"
   },
   {
    "duration": 3,
    "start_time": "2021-07-08T09:18:15.634Z"
   },
   {
    "duration": 8,
    "start_time": "2021-07-08T09:18:15.639Z"
   },
   {
    "duration": 45,
    "start_time": "2021-07-08T09:18:15.649Z"
   },
   {
    "duration": 13,
    "start_time": "2021-07-08T09:18:15.696Z"
   },
   {
    "duration": 10,
    "start_time": "2021-07-08T09:18:15.711Z"
   },
   {
    "duration": 64,
    "start_time": "2021-07-08T09:18:15.722Z"
   },
   {
    "duration": 19,
    "start_time": "2021-07-08T09:18:15.788Z"
   },
   {
    "duration": 9,
    "start_time": "2021-07-08T09:18:15.809Z"
   },
   {
    "duration": 9,
    "start_time": "2021-07-08T09:18:15.820Z"
   },
   {
    "duration": 18,
    "start_time": "2021-07-08T09:18:15.831Z"
   },
   {
    "duration": 43,
    "start_time": "2021-07-08T09:18:15.851Z"
   },
   {
    "duration": 12,
    "start_time": "2021-07-08T09:18:15.897Z"
   },
   {
    "duration": 219,
    "start_time": "2021-07-08T09:18:15.911Z"
   },
   {
    "duration": 8,
    "start_time": "2021-07-08T09:18:16.132Z"
   },
   {
    "duration": 199,
    "start_time": "2021-07-08T09:18:16.141Z"
   },
   {
    "duration": 18,
    "start_time": "2021-07-08T09:18:16.341Z"
   },
   {
    "duration": 24,
    "start_time": "2021-07-08T09:18:16.361Z"
   },
   {
    "duration": 24,
    "start_time": "2021-07-08T09:18:16.387Z"
   },
   {
    "duration": 211,
    "start_time": "2021-07-08T09:18:16.413Z"
   },
   {
    "duration": 18,
    "start_time": "2021-07-08T09:18:16.626Z"
   },
   {
    "duration": 596,
    "start_time": "2021-07-08T10:06:33.623Z"
   },
   {
    "duration": 181,
    "start_time": "2021-07-08T10:06:34.221Z"
   },
   {
    "duration": 176,
    "start_time": "2021-07-08T10:06:34.635Z"
   },
   {
    "duration": 239,
    "start_time": "2021-07-08T10:06:55.572Z"
   },
   {
    "duration": 6,
    "start_time": "2021-07-08T10:06:57.687Z"
   },
   {
    "duration": 4,
    "start_time": "2021-07-08T10:07:03.956Z"
   },
   {
    "duration": 4,
    "start_time": "2021-07-08T10:07:10.376Z"
   },
   {
    "duration": 4,
    "start_time": "2021-07-08T10:17:19.889Z"
   },
   {
    "duration": 3,
    "start_time": "2021-07-08T10:19:19.407Z"
   },
   {
    "duration": 197,
    "start_time": "2021-07-08T10:19:19.412Z"
   },
   {
    "duration": 127,
    "start_time": "2021-07-08T10:19:19.611Z"
   },
   {
    "duration": 4,
    "start_time": "2021-07-08T10:19:19.740Z"
   },
   {
    "duration": 27,
    "start_time": "2021-07-08T10:19:19.746Z"
   },
   {
    "duration": 7,
    "start_time": "2021-07-08T10:19:19.775Z"
   },
   {
    "duration": 30,
    "start_time": "2021-07-08T10:19:19.784Z"
   },
   {
    "duration": 7,
    "start_time": "2021-07-08T10:19:19.817Z"
   },
   {
    "duration": 26,
    "start_time": "2021-07-08T10:19:19.826Z"
   },
   {
    "duration": 18,
    "start_time": "2021-07-08T10:19:19.854Z"
   },
   {
    "duration": 14,
    "start_time": "2021-07-08T10:19:19.874Z"
   },
   {
    "duration": 48,
    "start_time": "2021-07-08T10:19:19.890Z"
   },
   {
    "duration": 17,
    "start_time": "2021-07-08T10:19:19.940Z"
   },
   {
    "duration": 38,
    "start_time": "2021-07-08T10:19:19.959Z"
   },
   {
    "duration": 8,
    "start_time": "2021-07-08T10:19:19.999Z"
   },
   {
    "duration": 15,
    "start_time": "2021-07-08T10:19:20.009Z"
   },
   {
    "duration": 22,
    "start_time": "2021-07-08T10:19:20.026Z"
   },
   {
    "duration": 10,
    "start_time": "2021-07-08T10:19:20.050Z"
   },
   {
    "duration": 10,
    "start_time": "2021-07-08T10:19:20.062Z"
   },
   {
    "duration": 20,
    "start_time": "2021-07-08T10:19:20.073Z"
   },
   {
    "duration": 29,
    "start_time": "2021-07-08T10:19:20.095Z"
   },
   {
    "duration": 17,
    "start_time": "2021-07-08T10:19:20.126Z"
   },
   {
    "duration": 40,
    "start_time": "2021-07-08T10:19:20.146Z"
   },
   {
    "duration": 15,
    "start_time": "2021-07-08T10:19:20.189Z"
   },
   {
    "duration": 19,
    "start_time": "2021-07-08T10:19:20.206Z"
   },
   {
    "duration": 10,
    "start_time": "2021-07-08T10:19:20.226Z"
   },
   {
    "duration": 11,
    "start_time": "2021-07-08T10:19:20.238Z"
   },
   {
    "duration": 297,
    "start_time": "2021-07-08T10:19:20.250Z"
   },
   {
    "duration": 6,
    "start_time": "2021-07-08T10:19:20.549Z"
   },
   {
    "duration": 191,
    "start_time": "2021-07-08T10:19:20.557Z"
   },
   {
    "duration": 19,
    "start_time": "2021-07-08T10:19:20.750Z"
   },
   {
    "duration": 20,
    "start_time": "2021-07-08T10:19:20.771Z"
   },
   {
    "duration": 15,
    "start_time": "2021-07-08T10:19:20.793Z"
   },
   {
    "duration": 222,
    "start_time": "2021-07-08T10:19:20.809Z"
   },
   {
    "duration": 20,
    "start_time": "2021-07-08T10:19:21.033Z"
   },
   {
    "duration": 27,
    "start_time": "2021-07-08T10:45:04.055Z"
   },
   {
    "duration": 8,
    "start_time": "2021-07-08T10:45:08.478Z"
   },
   {
    "duration": 8,
    "start_time": "2021-07-08T10:45:31.982Z"
   },
   {
    "duration": 10,
    "start_time": "2021-07-08T10:46:01.221Z"
   },
   {
    "duration": 17,
    "start_time": "2021-07-08T10:46:40.011Z"
   },
   {
    "duration": 193,
    "start_time": "2021-07-08T10:48:19.471Z"
   },
   {
    "duration": 225,
    "start_time": "2021-07-08T10:49:26.480Z"
   },
   {
    "duration": 204,
    "start_time": "2021-07-08T10:49:59.992Z"
   },
   {
    "duration": 435,
    "start_time": "2021-07-08T10:50:06.779Z"
   },
   {
    "duration": 199,
    "start_time": "2021-07-08T10:50:14.891Z"
   },
   {
    "duration": 204,
    "start_time": "2021-07-08T10:50:18.501Z"
   },
   {
    "duration": 244,
    "start_time": "2021-07-08T10:50:23.359Z"
   },
   {
    "duration": 192,
    "start_time": "2021-07-08T10:50:29.135Z"
   },
   {
    "duration": 218,
    "start_time": "2021-07-08T10:50:33.092Z"
   },
   {
    "duration": 207,
    "start_time": "2021-07-08T10:52:45.381Z"
   },
   {
    "duration": 5,
    "start_time": "2021-07-08T10:53:34.641Z"
   },
   {
    "duration": 196,
    "start_time": "2021-07-08T10:53:41.478Z"
   },
   {
    "duration": 43,
    "start_time": "2021-07-08T10:53:50.335Z"
   },
   {
    "duration": 32,
    "start_time": "2021-07-08T10:53:55.294Z"
   },
   {
    "duration": 55,
    "start_time": "2021-07-08T10:54:09.675Z"
   },
   {
    "duration": 16,
    "start_time": "2021-07-08T10:54:12.260Z"
   },
   {
    "duration": 15,
    "start_time": "2021-07-08T10:54:49.150Z"
   },
   {
    "duration": 20,
    "start_time": "2021-07-08T10:56:07.596Z"
   },
   {
    "duration": 16,
    "start_time": "2021-07-08T10:58:26.276Z"
   },
   {
    "duration": 22,
    "start_time": "2021-07-08T10:59:00.486Z"
   },
   {
    "duration": 18,
    "start_time": "2021-07-08T11:02:09.653Z"
   },
   {
    "duration": 10,
    "start_time": "2021-07-08T11:03:44.331Z"
   },
   {
    "duration": 10,
    "start_time": "2021-07-08T11:03:54.055Z"
   },
   {
    "duration": 12,
    "start_time": "2021-07-08T11:04:41.967Z"
   },
   {
    "duration": 24,
    "start_time": "2021-07-08T11:07:30.732Z"
   },
   {
    "duration": 6,
    "start_time": "2021-07-08T11:07:37.364Z"
   },
   {
    "duration": 16,
    "start_time": "2021-07-08T11:08:01.819Z"
   },
   {
    "duration": 17,
    "start_time": "2021-07-08T11:09:47.488Z"
   },
   {
    "duration": 246,
    "start_time": "2021-07-08T11:10:00.830Z"
   },
   {
    "duration": 18,
    "start_time": "2021-07-08T11:13:55.195Z"
   },
   {
    "duration": 204,
    "start_time": "2021-07-08T11:14:04.951Z"
   },
   {
    "duration": 19,
    "start_time": "2021-07-08T11:15:10.613Z"
   },
   {
    "duration": 680,
    "start_time": "2021-07-08T11:16:25.793Z"
   },
   {
    "duration": 451,
    "start_time": "2021-07-08T11:16:40.313Z"
   },
   {
    "duration": 469,
    "start_time": "2021-07-08T11:17:21.286Z"
   },
   {
    "duration": 20,
    "start_time": "2021-07-08T11:19:12.554Z"
   },
   {
    "duration": 35,
    "start_time": "2021-07-08T11:20:05.484Z"
   },
   {
    "duration": 53,
    "start_time": "2021-07-08T11:21:40.050Z"
   },
   {
    "duration": 13,
    "start_time": "2021-07-08T11:22:26.059Z"
   },
   {
    "duration": 19,
    "start_time": "2021-07-08T11:22:47.419Z"
   },
   {
    "duration": 25,
    "start_time": "2021-07-08T11:23:19.958Z"
   },
   {
    "duration": 29,
    "start_time": "2021-07-08T11:23:25.415Z"
   },
   {
    "duration": 10,
    "start_time": "2021-07-08T11:24:45.138Z"
   },
   {
    "duration": 19,
    "start_time": "2021-07-08T11:24:54.498Z"
   },
   {
    "duration": 12,
    "start_time": "2021-07-08T11:25:32.225Z"
   },
   {
    "duration": 19,
    "start_time": "2021-07-08T11:25:37.092Z"
   },
   {
    "duration": 17,
    "start_time": "2021-07-08T11:25:58.116Z"
   },
   {
    "duration": 15,
    "start_time": "2021-07-08T11:26:02.258Z"
   },
   {
    "duration": 8,
    "start_time": "2021-07-08T11:26:59.682Z"
   },
   {
    "duration": 184,
    "start_time": "2021-07-08T11:27:21.894Z"
   },
   {
    "duration": 8,
    "start_time": "2021-07-08T11:27:23.824Z"
   },
   {
    "duration": 202,
    "start_time": "2021-07-08T11:27:23.962Z"
   },
   {
    "duration": 360,
    "start_time": "2021-07-08T11:28:33.215Z"
   },
   {
    "duration": 231,
    "start_time": "2021-07-08T11:32:05.542Z"
   },
   {
    "duration": 607,
    "start_time": "2021-07-08T11:36:27.854Z"
   },
   {
    "duration": 241,
    "start_time": "2021-07-08T11:36:28.463Z"
   },
   {
    "duration": 67,
    "start_time": "2021-07-08T11:36:28.709Z"
   },
   {
    "duration": 5,
    "start_time": "2021-07-08T11:36:28.778Z"
   },
   {
    "duration": 32,
    "start_time": "2021-07-08T11:36:28.784Z"
   },
   {
    "duration": 11,
    "start_time": "2021-07-08T11:36:28.819Z"
   },
   {
    "duration": 20,
    "start_time": "2021-07-08T11:36:28.834Z"
   },
   {
    "duration": 36,
    "start_time": "2021-07-08T11:36:28.857Z"
   },
   {
    "duration": 16,
    "start_time": "2021-07-08T11:36:28.895Z"
   },
   {
    "duration": 14,
    "start_time": "2021-07-08T11:36:28.913Z"
   },
   {
    "duration": 9,
    "start_time": "2021-07-08T11:36:28.930Z"
   },
   {
    "duration": 55,
    "start_time": "2021-07-08T11:36:28.941Z"
   },
   {
    "duration": 27,
    "start_time": "2021-07-08T11:36:28.999Z"
   },
   {
    "duration": 30,
    "start_time": "2021-07-08T11:36:29.028Z"
   },
   {
    "duration": 31,
    "start_time": "2021-07-08T11:36:29.060Z"
   },
   {
    "duration": 3,
    "start_time": "2021-07-08T11:36:29.093Z"
   },
   {
    "duration": 12,
    "start_time": "2021-07-08T11:36:29.099Z"
   },
   {
    "duration": 11,
    "start_time": "2021-07-08T11:36:29.112Z"
   },
   {
    "duration": 12,
    "start_time": "2021-07-08T11:36:29.125Z"
   },
   {
    "duration": 9,
    "start_time": "2021-07-08T11:36:29.139Z"
   },
   {
    "duration": 31,
    "start_time": "2021-07-08T11:36:29.191Z"
   },
   {
    "duration": 17,
    "start_time": "2021-07-08T11:36:29.226Z"
   },
   {
    "duration": 7,
    "start_time": "2021-07-08T11:36:29.245Z"
   },
   {
    "duration": 10,
    "start_time": "2021-07-08T11:36:29.254Z"
   },
   {
    "duration": 30,
    "start_time": "2021-07-08T11:36:29.292Z"
   },
   {
    "duration": 11,
    "start_time": "2021-07-08T11:36:29.324Z"
   },
   {
    "duration": 11,
    "start_time": "2021-07-08T11:36:29.337Z"
   },
   {
    "duration": 230,
    "start_time": "2021-07-08T11:36:29.349Z"
   },
   {
    "duration": 13,
    "start_time": "2021-07-08T11:36:29.588Z"
   },
   {
    "duration": 205,
    "start_time": "2021-07-08T11:36:29.603Z"
   },
   {
    "duration": 20,
    "start_time": "2021-07-08T11:36:29.810Z"
   },
   {
    "duration": 9,
    "start_time": "2021-07-08T11:36:29.832Z"
   },
   {
    "duration": 16,
    "start_time": "2021-07-08T11:36:29.843Z"
   },
   {
    "duration": 283,
    "start_time": "2021-07-08T11:36:29.861Z"
   },
   {
    "duration": 50,
    "start_time": "2021-07-08T11:36:30.146Z"
   },
   {
    "duration": 14,
    "start_time": "2021-07-08T11:36:30.198Z"
   },
   {
    "duration": 11,
    "start_time": "2021-07-08T11:36:30.214Z"
   },
   {
    "duration": 245,
    "start_time": "2021-07-08T11:36:30.227Z"
   },
   {
    "duration": 439,
    "start_time": "2021-07-08T11:36:30.474Z"
   },
   {
    "duration": 210,
    "start_time": "2021-07-08T11:36:30.915Z"
   },
   {
    "duration": 15,
    "start_time": "2021-07-08T11:36:31.127Z"
   },
   {
    "duration": 17,
    "start_time": "2021-07-08T11:38:20.451Z"
   },
   {
    "duration": 642,
    "start_time": "2021-07-08T11:46:17.881Z"
   },
   {
    "duration": 210,
    "start_time": "2021-07-08T11:46:18.525Z"
   },
   {
    "duration": 104,
    "start_time": "2021-07-08T11:46:18.741Z"
   },
   {
    "duration": 8,
    "start_time": "2021-07-08T11:46:18.847Z"
   },
   {
    "duration": 25,
    "start_time": "2021-07-08T11:46:18.857Z"
   },
   {
    "duration": 14,
    "start_time": "2021-07-08T11:46:18.884Z"
   },
   {
    "duration": 22,
    "start_time": "2021-07-08T11:46:18.900Z"
   },
   {
    "duration": 5,
    "start_time": "2021-07-08T11:46:18.924Z"
   },
   {
    "duration": 13,
    "start_time": "2021-07-08T11:46:18.931Z"
   },
   {
    "duration": 45,
    "start_time": "2021-07-08T11:46:18.946Z"
   },
   {
    "duration": 12,
    "start_time": "2021-07-08T11:46:18.993Z"
   },
   {
    "duration": 38,
    "start_time": "2021-07-08T11:46:19.006Z"
   },
   {
    "duration": 50,
    "start_time": "2021-07-08T11:46:19.046Z"
   },
   {
    "duration": 29,
    "start_time": "2021-07-08T11:46:19.099Z"
   },
   {
    "duration": 7,
    "start_time": "2021-07-08T11:46:19.130Z"
   },
   {
    "duration": 3,
    "start_time": "2021-07-08T11:46:19.139Z"
   },
   {
    "duration": 11,
    "start_time": "2021-07-08T11:46:19.144Z"
   },
   {
    "duration": 40,
    "start_time": "2021-07-08T11:46:19.157Z"
   },
   {
    "duration": 15,
    "start_time": "2021-07-08T11:46:19.199Z"
   },
   {
    "duration": 10,
    "start_time": "2021-07-08T11:46:19.217Z"
   },
   {
    "duration": 68,
    "start_time": "2021-07-08T11:46:19.230Z"
   },
   {
    "duration": 17,
    "start_time": "2021-07-08T11:46:19.301Z"
   },
   {
    "duration": 7,
    "start_time": "2021-07-08T11:46:19.321Z"
   },
   {
    "duration": 11,
    "start_time": "2021-07-08T11:46:19.330Z"
   },
   {
    "duration": 59,
    "start_time": "2021-07-08T11:46:19.343Z"
   },
   {
    "duration": 17,
    "start_time": "2021-07-08T11:46:19.405Z"
   },
   {
    "duration": 16,
    "start_time": "2021-07-08T11:46:19.424Z"
   },
   {
    "duration": 252,
    "start_time": "2021-07-08T11:46:19.443Z"
   },
   {
    "duration": 9,
    "start_time": "2021-07-08T11:46:19.697Z"
   },
   {
    "duration": 224,
    "start_time": "2021-07-08T11:46:19.708Z"
   },
   {
    "duration": 21,
    "start_time": "2021-07-08T11:46:19.934Z"
   },
   {
    "duration": 9,
    "start_time": "2021-07-08T11:46:19.956Z"
   },
   {
    "duration": 32,
    "start_time": "2021-07-08T11:46:19.967Z"
   },
   {
    "duration": 288,
    "start_time": "2021-07-08T11:46:20.004Z"
   },
   {
    "duration": 23,
    "start_time": "2021-07-08T11:46:20.300Z"
   },
   {
    "duration": 11,
    "start_time": "2021-07-08T11:46:20.325Z"
   },
   {
    "duration": 11,
    "start_time": "2021-07-08T11:46:20.339Z"
   },
   {
    "duration": 259,
    "start_time": "2021-07-08T11:46:20.352Z"
   },
   {
    "duration": 438,
    "start_time": "2021-07-08T11:46:20.613Z"
   },
   {
    "duration": 207,
    "start_time": "2021-07-08T11:46:21.054Z"
   },
   {
    "duration": 27,
    "start_time": "2021-07-08T11:46:21.262Z"
   },
   {
    "duration": 19,
    "start_time": "2021-07-08T11:46:21.291Z"
   },
   {
    "duration": 820,
    "start_time": "2021-07-08T11:49:01.655Z"
   },
   {
    "duration": 372,
    "start_time": "2021-07-08T11:49:02.478Z"
   },
   {
    "duration": 98,
    "start_time": "2021-07-08T11:49:02.853Z"
   },
   {
    "duration": 6,
    "start_time": "2021-07-08T11:49:02.953Z"
   },
   {
    "duration": 39,
    "start_time": "2021-07-08T11:49:02.960Z"
   },
   {
    "duration": 9,
    "start_time": "2021-07-08T11:49:03.003Z"
   },
   {
    "duration": 23,
    "start_time": "2021-07-08T11:49:03.014Z"
   },
   {
    "duration": 6,
    "start_time": "2021-07-08T11:49:03.041Z"
   },
   {
    "duration": 20,
    "start_time": "2021-07-08T11:49:03.049Z"
   },
   {
    "duration": 18,
    "start_time": "2021-07-08T11:49:03.084Z"
   },
   {
    "duration": 14,
    "start_time": "2021-07-08T11:49:03.104Z"
   },
   {
    "duration": 39,
    "start_time": "2021-07-08T11:49:03.119Z"
   },
   {
    "duration": 38,
    "start_time": "2021-07-08T11:49:03.160Z"
   },
   {
    "duration": 26,
    "start_time": "2021-07-08T11:49:03.200Z"
   },
   {
    "duration": 7,
    "start_time": "2021-07-08T11:49:03.227Z"
   },
   {
    "duration": 4,
    "start_time": "2021-07-08T11:49:03.236Z"
   },
   {
    "duration": 15,
    "start_time": "2021-07-08T11:49:03.243Z"
   },
   {
    "duration": 21,
    "start_time": "2021-07-08T11:49:03.285Z"
   },
   {
    "duration": 17,
    "start_time": "2021-07-08T11:49:03.309Z"
   },
   {
    "duration": 10,
    "start_time": "2021-07-08T11:49:03.328Z"
   },
   {
    "duration": 65,
    "start_time": "2021-07-08T11:49:03.340Z"
   },
   {
    "duration": 18,
    "start_time": "2021-07-08T11:49:03.407Z"
   },
   {
    "duration": 8,
    "start_time": "2021-07-08T11:49:03.428Z"
   },
   {
    "duration": 15,
    "start_time": "2021-07-08T11:49:03.438Z"
   },
   {
    "duration": 40,
    "start_time": "2021-07-08T11:49:03.455Z"
   },
   {
    "duration": 12,
    "start_time": "2021-07-08T11:49:03.497Z"
   },
   {
    "duration": 29,
    "start_time": "2021-07-08T11:49:03.511Z"
   },
   {
    "duration": 285,
    "start_time": "2021-07-08T11:49:03.542Z"
   },
   {
    "duration": 8,
    "start_time": "2021-07-08T11:49:03.829Z"
   },
   {
    "duration": 227,
    "start_time": "2021-07-08T11:49:03.838Z"
   },
   {
    "duration": 40,
    "start_time": "2021-07-08T11:49:04.066Z"
   },
   {
    "duration": 10,
    "start_time": "2021-07-08T11:49:04.108Z"
   },
   {
    "duration": 26,
    "start_time": "2021-07-08T11:49:04.121Z"
   },
   {
    "duration": 290,
    "start_time": "2021-07-08T11:49:04.149Z"
   },
   {
    "duration": 26,
    "start_time": "2021-07-08T11:49:04.441Z"
   },
   {
    "duration": 31,
    "start_time": "2021-07-08T11:49:04.470Z"
   },
   {
    "duration": 14,
    "start_time": "2021-07-08T11:49:04.503Z"
   },
   {
    "duration": 259,
    "start_time": "2021-07-08T11:49:04.521Z"
   },
   {
    "duration": 480,
    "start_time": "2021-07-08T11:49:04.782Z"
   },
   {
    "duration": 225,
    "start_time": "2021-07-08T11:49:05.264Z"
   },
   {
    "duration": 22,
    "start_time": "2021-07-08T11:49:05.491Z"
   },
   {
    "duration": 24,
    "start_time": "2021-07-08T11:49:05.515Z"
   },
   {
    "duration": 634,
    "start_time": "2021-07-08T11:52:24.960Z"
   },
   {
    "duration": 199,
    "start_time": "2021-07-08T11:52:25.599Z"
   },
   {
    "duration": 106,
    "start_time": "2021-07-08T11:52:25.803Z"
   },
   {
    "duration": 7,
    "start_time": "2021-07-08T11:52:25.911Z"
   },
   {
    "duration": 29,
    "start_time": "2021-07-08T11:52:25.920Z"
   },
   {
    "duration": 7,
    "start_time": "2021-07-08T11:52:25.951Z"
   },
   {
    "duration": 26,
    "start_time": "2021-07-08T11:52:25.961Z"
   },
   {
    "duration": 11,
    "start_time": "2021-07-08T11:52:25.990Z"
   },
   {
    "duration": 29,
    "start_time": "2021-07-08T11:52:26.005Z"
   },
   {
    "duration": 9,
    "start_time": "2021-07-08T11:52:26.036Z"
   },
   {
    "duration": 8,
    "start_time": "2021-07-08T11:52:26.047Z"
   },
   {
    "duration": 63,
    "start_time": "2021-07-08T11:52:26.057Z"
   },
   {
    "duration": 17,
    "start_time": "2021-07-08T11:52:26.122Z"
   },
   {
    "duration": 43,
    "start_time": "2021-07-08T11:52:26.142Z"
   },
   {
    "duration": 17,
    "start_time": "2021-07-08T11:52:26.187Z"
   },
   {
    "duration": 5,
    "start_time": "2021-07-08T11:52:26.206Z"
   },
   {
    "duration": 12,
    "start_time": "2021-07-08T11:52:26.212Z"
   },
   {
    "duration": 11,
    "start_time": "2021-07-08T11:52:26.226Z"
   },
   {
    "duration": 12,
    "start_time": "2021-07-08T11:52:26.238Z"
   },
   {
    "duration": 38,
    "start_time": "2021-07-08T11:52:26.252Z"
   },
   {
    "duration": 40,
    "start_time": "2021-07-08T11:52:26.292Z"
   },
   {
    "duration": 17,
    "start_time": "2021-07-08T11:52:26.336Z"
   },
   {
    "duration": 39,
    "start_time": "2021-07-08T11:52:26.355Z"
   },
   {
    "duration": 11,
    "start_time": "2021-07-08T11:52:26.395Z"
   },
   {
    "duration": 23,
    "start_time": "2021-07-08T11:52:26.408Z"
   },
   {
    "duration": 12,
    "start_time": "2021-07-08T11:52:26.432Z"
   },
   {
    "duration": 41,
    "start_time": "2021-07-08T11:52:26.446Z"
   },
   {
    "duration": 215,
    "start_time": "2021-07-08T11:52:26.493Z"
   },
   {
    "duration": 8,
    "start_time": "2021-07-08T11:52:26.710Z"
   },
   {
    "duration": 228,
    "start_time": "2021-07-08T11:52:26.720Z"
   },
   {
    "duration": 18,
    "start_time": "2021-07-08T11:52:26.950Z"
   },
   {
    "duration": 35,
    "start_time": "2021-07-08T11:52:26.969Z"
   },
   {
    "duration": 23,
    "start_time": "2021-07-08T11:52:27.006Z"
   },
   {
    "duration": 258,
    "start_time": "2021-07-08T11:52:27.030Z"
   },
   {
    "duration": 24,
    "start_time": "2021-07-08T11:52:27.290Z"
   },
   {
    "duration": 12,
    "start_time": "2021-07-08T11:52:27.316Z"
   },
   {
    "duration": 10,
    "start_time": "2021-07-08T11:52:27.329Z"
   },
   {
    "duration": 298,
    "start_time": "2021-07-08T11:52:27.341Z"
   },
   {
    "duration": 436,
    "start_time": "2021-07-08T11:52:27.641Z"
   },
   {
    "duration": 216,
    "start_time": "2021-07-08T11:52:28.079Z"
   },
   {
    "duration": 20,
    "start_time": "2021-07-08T11:52:28.297Z"
   },
   {
    "duration": 17,
    "start_time": "2021-07-08T11:52:28.319Z"
   },
   {
    "duration": 677,
    "start_time": "2024-02-05T14:38:28.911Z"
   },
   {
    "duration": 123,
    "start_time": "2024-02-05T14:39:35.443Z"
   },
   {
    "duration": 144,
    "start_time": "2024-02-05T14:39:48.981Z"
   },
   {
    "duration": 14,
    "start_time": "2024-02-05T14:40:35.453Z"
   },
   {
    "duration": 20,
    "start_time": "2024-02-05T14:40:59.010Z"
   },
   {
    "duration": 450,
    "start_time": "2024-02-05T14:42:44.488Z"
   },
   {
    "duration": 4,
    "start_time": "2024-02-05T14:44:00.385Z"
   },
   {
    "duration": 281,
    "start_time": "2024-02-05T14:44:35.975Z"
   },
   {
    "duration": 338,
    "start_time": "2024-02-05T14:46:18.145Z"
   },
   {
    "duration": 375,
    "start_time": "2024-02-05T14:47:57.868Z"
   },
   {
    "duration": 337,
    "start_time": "2024-02-05T14:48:24.782Z"
   },
   {
    "duration": 302,
    "start_time": "2024-02-05T14:49:04.760Z"
   },
   {
    "duration": 351,
    "start_time": "2024-02-05T14:50:50.280Z"
   },
   {
    "duration": 576,
    "start_time": "2024-02-05T14:51:50.833Z"
   },
   {
    "duration": 21,
    "start_time": "2024-02-05T14:51:51.411Z"
   },
   {
    "duration": 383,
    "start_time": "2024-02-05T14:51:51.433Z"
   },
   {
    "duration": 500,
    "start_time": "2024-02-05T14:56:47.781Z"
   },
   {
    "duration": 19,
    "start_time": "2024-02-05T14:56:48.283Z"
   },
   {
    "duration": 409,
    "start_time": "2024-02-05T14:56:48.304Z"
   },
   {
    "duration": 427,
    "start_time": "2024-02-05T14:58:24.382Z"
   },
   {
    "duration": 283,
    "start_time": "2024-02-05T14:59:02.039Z"
   },
   {
    "duration": 330,
    "start_time": "2024-02-05T15:04:15.805Z"
   },
   {
    "duration": 482,
    "start_time": "2024-02-05T15:04:52.156Z"
   },
   {
    "duration": 518,
    "start_time": "2024-02-05T15:04:58.451Z"
   },
   {
    "duration": 19,
    "start_time": "2024-02-05T15:04:58.970Z"
   },
   {
    "duration": 10,
    "start_time": "2024-02-05T15:04:58.991Z"
   },
   {
    "duration": 19,
    "start_time": "2024-02-05T15:05:24.017Z"
   },
   {
    "duration": 38,
    "start_time": "2024-02-05T15:09:58.057Z"
   },
   {
    "duration": 19,
    "start_time": "2024-02-05T15:10:41.017Z"
   },
   {
    "duration": 23,
    "start_time": "2024-02-05T15:11:58.811Z"
   },
   {
    "duration": 540,
    "start_time": "2024-02-05T15:21:52.140Z"
   },
   {
    "duration": 18,
    "start_time": "2024-02-05T15:21:52.682Z"
   },
   {
    "duration": 17,
    "start_time": "2024-02-05T15:21:52.702Z"
   },
   {
    "duration": 32,
    "start_time": "2024-02-05T15:21:52.720Z"
   },
   {
    "duration": 7,
    "start_time": "2024-02-05T15:46:29.054Z"
   },
   {
    "duration": 13,
    "start_time": "2024-02-05T15:51:51.082Z"
   },
   {
    "duration": 43,
    "start_time": "2024-02-05T15:51:54.717Z"
   },
   {
    "duration": 16,
    "start_time": "2024-02-05T15:52:47.668Z"
   },
   {
    "duration": 13,
    "start_time": "2024-02-05T15:54:13.981Z"
   },
   {
    "duration": 73,
    "start_time": "2024-02-05T15:57:38.710Z"
   },
   {
    "duration": 14,
    "start_time": "2024-02-05T16:04:49.648Z"
   },
   {
    "duration": 15,
    "start_time": "2024-02-05T16:05:27.417Z"
   },
   {
    "duration": 25,
    "start_time": "2024-02-05T16:05:53.607Z"
   },
   {
    "duration": 35,
    "start_time": "2024-02-05T16:10:41.611Z"
   },
   {
    "duration": 20,
    "start_time": "2024-02-05T16:11:24.457Z"
   },
   {
    "duration": 18,
    "start_time": "2024-02-05T16:12:23.460Z"
   },
   {
    "duration": 18,
    "start_time": "2024-02-05T16:13:05.060Z"
   },
   {
    "duration": 27,
    "start_time": "2024-02-05T16:13:08.613Z"
   },
   {
    "duration": 50,
    "start_time": "2024-02-05T16:13:16.613Z"
   },
   {
    "duration": 28,
    "start_time": "2024-02-05T16:14:25.747Z"
   },
   {
    "duration": 25,
    "start_time": "2024-02-05T16:14:40.261Z"
   },
   {
    "duration": 23,
    "start_time": "2024-02-05T16:14:57.305Z"
   },
   {
    "duration": 21,
    "start_time": "2024-02-05T16:15:58.327Z"
   },
   {
    "duration": 22,
    "start_time": "2024-02-05T16:16:06.091Z"
   },
   {
    "duration": 22,
    "start_time": "2024-02-05T16:16:12.158Z"
   },
   {
    "duration": 20,
    "start_time": "2024-02-05T16:16:15.941Z"
   },
   {
    "duration": 23,
    "start_time": "2024-02-05T16:16:19.156Z"
   },
   {
    "duration": 24,
    "start_time": "2024-02-05T16:16:38.230Z"
   },
   {
    "duration": 36,
    "start_time": "2024-02-05T16:18:12.717Z"
   },
   {
    "duration": 24,
    "start_time": "2024-02-05T16:19:43.531Z"
   },
   {
    "duration": 10,
    "start_time": "2024-02-05T16:22:59.502Z"
   },
   {
    "duration": 60,
    "start_time": "2024-02-05T16:37:21.151Z"
   },
   {
    "duration": 54,
    "start_time": "2024-02-05T16:49:27.978Z"
   },
   {
    "duration": 22,
    "start_time": "2024-02-05T16:59:54.846Z"
   },
   {
    "duration": 510,
    "start_time": "2024-02-05T17:02:30.880Z"
   },
   {
    "duration": 19,
    "start_time": "2024-02-05T17:02:31.391Z"
   },
   {
    "duration": 31,
    "start_time": "2024-02-05T17:02:31.412Z"
   },
   {
    "duration": 53,
    "start_time": "2024-02-05T17:02:31.444Z"
   },
   {
    "duration": 119,
    "start_time": "2024-02-05T17:02:31.499Z"
   },
   {
    "duration": 80,
    "start_time": "2024-02-05T17:02:31.619Z"
   },
   {
    "duration": 28,
    "start_time": "2024-02-05T17:02:31.700Z"
   },
   {
    "duration": 19,
    "start_time": "2024-02-05T17:04:08.770Z"
   },
   {
    "duration": 5,
    "start_time": "2024-02-05T17:06:24.026Z"
   },
   {
    "duration": 4,
    "start_time": "2024-02-05T17:11:35.288Z"
   },
   {
    "duration": 4,
    "start_time": "2024-02-05T17:11:59.485Z"
   },
   {
    "duration": 5,
    "start_time": "2024-02-05T17:13:00.089Z"
   },
   {
    "duration": 66,
    "start_time": "2024-02-05T17:13:17.233Z"
   },
   {
    "duration": 4,
    "start_time": "2024-02-05T17:13:28.085Z"
   },
   {
    "duration": 53,
    "start_time": "2024-02-06T14:16:01.139Z"
   },
   {
    "duration": 703,
    "start_time": "2024-02-06T14:16:09.032Z"
   },
   {
    "duration": 21,
    "start_time": "2024-02-06T14:16:09.736Z"
   },
   {
    "duration": 10,
    "start_time": "2024-02-06T14:16:09.758Z"
   },
   {
    "duration": 20,
    "start_time": "2024-02-06T14:16:09.769Z"
   },
   {
    "duration": 21,
    "start_time": "2024-02-06T14:16:09.791Z"
   },
   {
    "duration": 52,
    "start_time": "2024-02-06T14:16:09.814Z"
   },
   {
    "duration": 21,
    "start_time": "2024-02-06T14:16:09.867Z"
   },
   {
    "duration": 6,
    "start_time": "2024-02-06T14:16:09.889Z"
   },
   {
    "duration": 15,
    "start_time": "2024-02-06T14:16:09.896Z"
   },
   {
    "duration": 5,
    "start_time": "2024-02-06T14:16:15.788Z"
   },
   {
    "duration": 13,
    "start_time": "2024-02-06T14:16:40.832Z"
   },
   {
    "duration": 21,
    "start_time": "2024-02-06T14:17:37.216Z"
   },
   {
    "duration": 31,
    "start_time": "2024-02-06T14:19:46.170Z"
   },
   {
    "duration": 17,
    "start_time": "2024-02-06T14:19:52.974Z"
   },
   {
    "duration": 21,
    "start_time": "2024-02-06T14:19:55.922Z"
   },
   {
    "duration": 5,
    "start_time": "2024-02-06T14:20:12.747Z"
   },
   {
    "duration": 14,
    "start_time": "2024-02-06T14:20:18.698Z"
   },
   {
    "duration": 4,
    "start_time": "2024-02-06T14:21:04.003Z"
   },
   {
    "duration": 13,
    "start_time": "2024-02-06T14:21:20.868Z"
   },
   {
    "duration": 14,
    "start_time": "2024-02-06T14:21:31.481Z"
   },
   {
    "duration": 18,
    "start_time": "2024-02-06T14:22:36.363Z"
   },
   {
    "duration": 64,
    "start_time": "2024-02-06T14:26:27.523Z"
   },
   {
    "duration": 31,
    "start_time": "2024-02-06T14:28:01.451Z"
   },
   {
    "duration": 13,
    "start_time": "2024-02-06T14:28:23.287Z"
   },
   {
    "duration": 19,
    "start_time": "2024-02-06T14:29:34.672Z"
   },
   {
    "duration": 558,
    "start_time": "2024-02-06T14:30:27.370Z"
   },
   {
    "duration": 19,
    "start_time": "2024-02-06T14:30:27.930Z"
   },
   {
    "duration": 10,
    "start_time": "2024-02-06T14:30:27.950Z"
   },
   {
    "duration": 18,
    "start_time": "2024-02-06T14:30:27.962Z"
   },
   {
    "duration": 22,
    "start_time": "2024-02-06T14:30:27.983Z"
   },
   {
    "duration": 36,
    "start_time": "2024-02-06T14:30:28.007Z"
   },
   {
    "duration": 25,
    "start_time": "2024-02-06T14:30:28.064Z"
   },
   {
    "duration": 17,
    "start_time": "2024-02-06T14:30:28.090Z"
   },
   {
    "duration": 12,
    "start_time": "2024-02-06T14:30:28.108Z"
   },
   {
    "duration": 8,
    "start_time": "2024-02-06T14:34:02.950Z"
   },
   {
    "duration": 19,
    "start_time": "2024-02-06T14:34:39.025Z"
   },
   {
    "duration": 68,
    "start_time": "2024-02-06T14:35:29.987Z"
   },
   {
    "duration": 21,
    "start_time": "2024-02-06T14:37:22.009Z"
   },
   {
    "duration": 21,
    "start_time": "2024-02-06T14:37:27.579Z"
   },
   {
    "duration": 34,
    "start_time": "2024-02-06T14:37:53.818Z"
   },
   {
    "duration": 18,
    "start_time": "2024-02-06T14:38:00.903Z"
   },
   {
    "duration": 17,
    "start_time": "2024-02-06T14:38:03.993Z"
   },
   {
    "duration": 13,
    "start_time": "2024-02-06T14:38:09.842Z"
   },
   {
    "duration": 75,
    "start_time": "2024-02-06T14:38:56.560Z"
   },
   {
    "duration": 22,
    "start_time": "2024-02-06T14:39:02.095Z"
   },
   {
    "duration": 33,
    "start_time": "2024-02-06T14:39:07.371Z"
   },
   {
    "duration": 20,
    "start_time": "2024-02-06T14:44:37.492Z"
   },
   {
    "duration": 9,
    "start_time": "2024-02-06T14:50:08.132Z"
   },
   {
    "duration": 8,
    "start_time": "2024-02-06T14:50:26.178Z"
   },
   {
    "duration": 1134,
    "start_time": "2024-02-06T14:55:40.992Z"
   },
   {
    "duration": 7,
    "start_time": "2024-02-06T14:56:03.137Z"
   },
   {
    "duration": 15,
    "start_time": "2024-02-06T14:57:43.564Z"
   },
   {
    "duration": 11,
    "start_time": "2024-02-06T15:39:25.904Z"
   },
   {
    "duration": 4,
    "start_time": "2024-02-06T15:39:33.106Z"
   },
   {
    "duration": 6,
    "start_time": "2024-02-06T15:39:46.173Z"
   },
   {
    "duration": 8,
    "start_time": "2024-02-06T15:40:15.375Z"
   },
   {
    "duration": 5,
    "start_time": "2024-02-06T15:42:36.607Z"
   },
   {
    "duration": 5,
    "start_time": "2024-02-06T15:42:57.311Z"
   },
   {
    "duration": 4,
    "start_time": "2024-02-06T15:45:02.968Z"
   },
   {
    "duration": 5,
    "start_time": "2024-02-06T15:45:08.005Z"
   },
   {
    "duration": 5,
    "start_time": "2024-02-06T15:46:14.731Z"
   },
   {
    "duration": 5,
    "start_time": "2024-02-06T15:48:25.718Z"
   },
   {
    "duration": 4,
    "start_time": "2024-02-06T15:48:45.791Z"
   },
   {
    "duration": 8,
    "start_time": "2024-02-06T15:49:14.695Z"
   },
   {
    "duration": 8,
    "start_time": "2024-02-06T15:49:34.426Z"
   },
   {
    "duration": 8,
    "start_time": "2024-02-06T15:49:58.038Z"
   },
   {
    "duration": 28,
    "start_time": "2024-02-06T15:54:34.603Z"
   },
   {
    "duration": 23,
    "start_time": "2024-02-06T15:54:58.076Z"
   },
   {
    "duration": 13,
    "start_time": "2024-02-06T15:55:25.839Z"
   },
   {
    "duration": 11,
    "start_time": "2024-02-06T15:57:03.868Z"
   },
   {
    "duration": 5,
    "start_time": "2024-02-06T15:57:37.838Z"
   },
   {
    "duration": 5,
    "start_time": "2024-02-06T15:57:55.419Z"
   },
   {
    "duration": 5,
    "start_time": "2024-02-06T15:58:16.016Z"
   },
   {
    "duration": 4,
    "start_time": "2024-02-06T15:58:42.490Z"
   },
   {
    "duration": 7,
    "start_time": "2024-02-06T15:58:57.958Z"
   },
   {
    "duration": 5,
    "start_time": "2024-02-06T16:01:07.131Z"
   },
   {
    "duration": 14,
    "start_time": "2024-02-06T16:01:15.302Z"
   },
   {
    "duration": 4,
    "start_time": "2024-02-06T16:01:19.849Z"
   },
   {
    "duration": 584,
    "start_time": "2024-02-06T16:01:27.236Z"
   },
   {
    "duration": 19,
    "start_time": "2024-02-06T16:01:27.821Z"
   },
   {
    "duration": 9,
    "start_time": "2024-02-06T16:01:27.842Z"
   },
   {
    "duration": 399,
    "start_time": "2024-02-06T16:01:27.853Z"
   },
   {
    "duration": 0,
    "start_time": "2024-02-06T16:01:28.253Z"
   },
   {
    "duration": 0,
    "start_time": "2024-02-06T16:01:28.255Z"
   },
   {
    "duration": 0,
    "start_time": "2024-02-06T16:01:28.256Z"
   },
   {
    "duration": 0,
    "start_time": "2024-02-06T16:01:28.259Z"
   },
   {
    "duration": 0,
    "start_time": "2024-02-06T16:01:28.260Z"
   },
   {
    "duration": 0,
    "start_time": "2024-02-06T16:01:28.261Z"
   },
   {
    "duration": 0,
    "start_time": "2024-02-06T16:01:28.262Z"
   },
   {
    "duration": 0,
    "start_time": "2024-02-06T16:01:28.263Z"
   },
   {
    "duration": 6,
    "start_time": "2024-02-06T16:01:34.612Z"
   },
   {
    "duration": 569,
    "start_time": "2024-02-06T16:01:52.038Z"
   },
   {
    "duration": 20,
    "start_time": "2024-02-06T16:01:52.609Z"
   },
   {
    "duration": 20,
    "start_time": "2024-02-06T16:01:52.630Z"
   },
   {
    "duration": 357,
    "start_time": "2024-02-06T16:01:52.651Z"
   },
   {
    "duration": 0,
    "start_time": "2024-02-06T16:01:53.010Z"
   },
   {
    "duration": 0,
    "start_time": "2024-02-06T16:01:53.010Z"
   },
   {
    "duration": 0,
    "start_time": "2024-02-06T16:01:53.013Z"
   },
   {
    "duration": 0,
    "start_time": "2024-02-06T16:01:53.014Z"
   },
   {
    "duration": 0,
    "start_time": "2024-02-06T16:01:53.015Z"
   },
   {
    "duration": 1,
    "start_time": "2024-02-06T16:01:53.015Z"
   },
   {
    "duration": 0,
    "start_time": "2024-02-06T16:01:53.016Z"
   },
   {
    "duration": 0,
    "start_time": "2024-02-06T16:01:53.017Z"
   },
   {
    "duration": 361,
    "start_time": "2024-02-06T16:14:13.665Z"
   },
   {
    "duration": 8,
    "start_time": "2024-02-06T16:16:24.550Z"
   },
   {
    "duration": 8,
    "start_time": "2024-02-06T16:16:41.117Z"
   },
   {
    "duration": 12,
    "start_time": "2024-02-06T16:16:55.857Z"
   },
   {
    "duration": 8,
    "start_time": "2024-02-06T16:17:19.314Z"
   },
   {
    "duration": 12,
    "start_time": "2024-02-06T16:17:38.608Z"
   },
   {
    "duration": 14,
    "start_time": "2024-02-06T16:19:44.895Z"
   },
   {
    "duration": 12,
    "start_time": "2024-02-06T16:20:07.267Z"
   },
   {
    "duration": 14,
    "start_time": "2024-02-06T16:20:22.245Z"
   },
   {
    "duration": 11,
    "start_time": "2024-02-06T16:24:24.025Z"
   },
   {
    "duration": 16,
    "start_time": "2024-02-06T16:24:31.196Z"
   },
   {
    "duration": 20,
    "start_time": "2024-02-06T16:24:44.060Z"
   },
   {
    "duration": 14,
    "start_time": "2024-02-06T16:24:48.055Z"
   },
   {
    "duration": 18,
    "start_time": "2024-02-06T16:24:53.261Z"
   },
   {
    "duration": 13,
    "start_time": "2024-02-06T16:26:35.527Z"
   },
   {
    "duration": 351,
    "start_time": "2024-02-06T16:26:52.608Z"
   },
   {
    "duration": 13,
    "start_time": "2024-02-06T16:34:17.198Z"
   },
   {
    "duration": 11,
    "start_time": "2024-02-06T16:34:35.447Z"
   },
   {
    "duration": 11,
    "start_time": "2024-02-06T16:35:07.663Z"
   },
   {
    "duration": 565,
    "start_time": "2024-02-06T16:35:16.544Z"
   },
   {
    "duration": 21,
    "start_time": "2024-02-06T16:35:17.111Z"
   },
   {
    "duration": 10,
    "start_time": "2024-02-06T16:35:17.134Z"
   },
   {
    "duration": 13,
    "start_time": "2024-02-06T16:35:17.145Z"
   },
   {
    "duration": 76,
    "start_time": "2024-02-06T16:35:17.166Z"
   },
   {
    "duration": 0,
    "start_time": "2024-02-06T16:35:17.243Z"
   },
   {
    "duration": 0,
    "start_time": "2024-02-06T16:35:17.244Z"
   },
   {
    "duration": 0,
    "start_time": "2024-02-06T16:35:17.246Z"
   },
   {
    "duration": 0,
    "start_time": "2024-02-06T16:35:17.247Z"
   },
   {
    "duration": 0,
    "start_time": "2024-02-06T16:35:17.250Z"
   },
   {
    "duration": 0,
    "start_time": "2024-02-06T16:35:17.252Z"
   },
   {
    "duration": 0,
    "start_time": "2024-02-06T16:35:17.252Z"
   },
   {
    "duration": 12,
    "start_time": "2024-02-06T16:39:54.593Z"
   },
   {
    "duration": 12,
    "start_time": "2024-02-06T16:40:00.825Z"
   },
   {
    "duration": 578,
    "start_time": "2024-02-06T16:40:38.698Z"
   },
   {
    "duration": 20,
    "start_time": "2024-02-06T16:40:39.278Z"
   },
   {
    "duration": 11,
    "start_time": "2024-02-06T16:40:39.299Z"
   },
   {
    "duration": 15,
    "start_time": "2024-02-06T16:40:39.312Z"
   },
   {
    "duration": 96,
    "start_time": "2024-02-06T16:40:39.329Z"
   },
   {
    "duration": 0,
    "start_time": "2024-02-06T16:40:39.427Z"
   },
   {
    "duration": 0,
    "start_time": "2024-02-06T16:40:39.428Z"
   },
   {
    "duration": 0,
    "start_time": "2024-02-06T16:40:39.430Z"
   },
   {
    "duration": 0,
    "start_time": "2024-02-06T16:40:39.432Z"
   },
   {
    "duration": 0,
    "start_time": "2024-02-06T16:40:39.433Z"
   },
   {
    "duration": 0,
    "start_time": "2024-02-06T16:40:39.435Z"
   },
   {
    "duration": 0,
    "start_time": "2024-02-06T16:40:39.438Z"
   },
   {
    "duration": 12,
    "start_time": "2024-02-06T16:41:45.292Z"
   },
   {
    "duration": 12,
    "start_time": "2024-02-06T16:42:00.021Z"
   },
   {
    "duration": 4,
    "start_time": "2024-02-06T16:43:25.971Z"
   },
   {
    "duration": 8,
    "start_time": "2024-02-06T16:43:40.239Z"
   },
   {
    "duration": 18,
    "start_time": "2024-02-06T16:44:08.153Z"
   },
   {
    "duration": 317,
    "start_time": "2024-02-06T16:44:32.044Z"
   },
   {
    "duration": 513,
    "start_time": "2024-02-06T16:45:14.404Z"
   },
   {
    "duration": 21,
    "start_time": "2024-02-06T16:45:14.918Z"
   },
   {
    "duration": 9,
    "start_time": "2024-02-06T16:45:14.941Z"
   },
   {
    "duration": 11,
    "start_time": "2024-02-06T16:45:14.951Z"
   },
   {
    "duration": 370,
    "start_time": "2024-02-06T16:45:14.964Z"
   },
   {
    "duration": 0,
    "start_time": "2024-02-06T16:45:15.336Z"
   },
   {
    "duration": 0,
    "start_time": "2024-02-06T16:45:15.337Z"
   },
   {
    "duration": 0,
    "start_time": "2024-02-06T16:45:15.338Z"
   },
   {
    "duration": 0,
    "start_time": "2024-02-06T16:45:15.340Z"
   },
   {
    "duration": 0,
    "start_time": "2024-02-06T16:45:15.341Z"
   },
   {
    "duration": 0,
    "start_time": "2024-02-06T16:45:15.342Z"
   },
   {
    "duration": 0,
    "start_time": "2024-02-06T16:45:15.343Z"
   },
   {
    "duration": 0,
    "start_time": "2024-02-06T16:45:15.344Z"
   },
   {
    "duration": 316,
    "start_time": "2024-02-06T16:50:42.870Z"
   },
   {
    "duration": 326,
    "start_time": "2024-02-06T16:51:23.471Z"
   },
   {
    "duration": 8,
    "start_time": "2024-02-06T16:52:31.509Z"
   },
   {
    "duration": 295,
    "start_time": "2024-02-06T16:53:16.311Z"
   },
   {
    "duration": 12,
    "start_time": "2024-02-06T16:55:55.269Z"
   },
   {
    "duration": 142,
    "start_time": "2024-02-06T16:56:20.564Z"
   },
   {
    "duration": 18,
    "start_time": "2024-02-06T16:56:25.867Z"
   },
   {
    "duration": 17,
    "start_time": "2024-02-06T16:56:28.950Z"
   },
   {
    "duration": 8,
    "start_time": "2024-02-06T16:56:33.087Z"
   },
   {
    "duration": 262,
    "start_time": "2024-02-06T16:56:37.912Z"
   },
   {
    "duration": 277,
    "start_time": "2024-02-06T16:57:23.573Z"
   },
   {
    "duration": 593,
    "start_time": "2024-02-06T16:58:42.943Z"
   },
   {
    "duration": 20,
    "start_time": "2024-02-06T16:58:43.537Z"
   },
   {
    "duration": 10,
    "start_time": "2024-02-06T16:58:43.558Z"
   },
   {
    "duration": 7,
    "start_time": "2024-02-06T16:58:43.570Z"
   },
   {
    "duration": 382,
    "start_time": "2024-02-06T16:58:43.579Z"
   },
   {
    "duration": 0,
    "start_time": "2024-02-06T16:58:43.963Z"
   },
   {
    "duration": 0,
    "start_time": "2024-02-06T16:58:43.964Z"
   },
   {
    "duration": 0,
    "start_time": "2024-02-06T16:58:43.965Z"
   },
   {
    "duration": 0,
    "start_time": "2024-02-06T16:58:43.966Z"
   },
   {
    "duration": 0,
    "start_time": "2024-02-06T16:58:43.967Z"
   },
   {
    "duration": 0,
    "start_time": "2024-02-06T16:58:43.968Z"
   },
   {
    "duration": 0,
    "start_time": "2024-02-06T16:58:43.969Z"
   },
   {
    "duration": 0,
    "start_time": "2024-02-06T16:58:43.970Z"
   },
   {
    "duration": 299,
    "start_time": "2024-02-06T17:04:07.940Z"
   },
   {
    "duration": 313,
    "start_time": "2024-02-06T17:04:17.316Z"
   },
   {
    "duration": 8,
    "start_time": "2024-02-06T17:05:01.989Z"
   },
   {
    "duration": 13,
    "start_time": "2024-02-06T17:05:34.440Z"
   },
   {
    "duration": 316,
    "start_time": "2024-02-06T17:07:01.753Z"
   },
   {
    "duration": 285,
    "start_time": "2024-02-06T17:08:16.620Z"
   },
   {
    "duration": 333,
    "start_time": "2024-02-06T17:09:36.733Z"
   },
   {
    "duration": 10,
    "start_time": "2024-02-06T17:23:05.090Z"
   },
   {
    "duration": 13,
    "start_time": "2024-02-06T17:26:47.209Z"
   },
   {
    "duration": 7,
    "start_time": "2024-02-06T17:28:45.706Z"
   },
   {
    "duration": 365,
    "start_time": "2024-02-06T17:29:05.561Z"
   },
   {
    "duration": 10,
    "start_time": "2024-02-06T17:29:43.286Z"
   },
   {
    "duration": 12,
    "start_time": "2024-02-06T17:29:51.482Z"
   },
   {
    "duration": 503,
    "start_time": "2024-02-06T17:30:56.505Z"
   },
   {
    "duration": 21,
    "start_time": "2024-02-06T17:30:57.010Z"
   },
   {
    "duration": 10,
    "start_time": "2024-02-06T17:30:57.033Z"
   },
   {
    "duration": 8,
    "start_time": "2024-02-06T17:30:57.045Z"
   },
   {
    "duration": 15,
    "start_time": "2024-02-06T17:30:57.054Z"
   },
   {
    "duration": 4,
    "start_time": "2024-02-06T17:30:57.071Z"
   },
   {
    "duration": 29,
    "start_time": "2024-02-06T17:30:57.077Z"
   },
   {
    "duration": 34,
    "start_time": "2024-02-06T17:30:57.107Z"
   },
   {
    "duration": 39,
    "start_time": "2024-02-06T17:30:57.143Z"
   },
   {
    "duration": 15,
    "start_time": "2024-02-06T17:30:57.184Z"
   },
   {
    "duration": 15,
    "start_time": "2024-02-06T17:30:57.200Z"
   },
   {
    "duration": 4,
    "start_time": "2024-02-06T17:30:57.216Z"
   },
   {
    "duration": 8,
    "start_time": "2024-02-06T17:30:57.222Z"
   },
   {
    "duration": 60,
    "start_time": "2024-02-06T17:30:57.232Z"
   },
   {
    "duration": 3,
    "start_time": "2024-02-06T17:31:35.980Z"
   },
   {
    "duration": 4,
    "start_time": "2024-02-06T17:31:57.729Z"
   },
   {
    "duration": 21,
    "start_time": "2024-02-06T17:32:04.222Z"
   },
   {
    "duration": 34,
    "start_time": "2024-02-06T17:32:10.878Z"
   },
   {
    "duration": 17,
    "start_time": "2024-02-06T17:32:15.125Z"
   },
   {
    "duration": 19,
    "start_time": "2024-02-06T17:32:17.748Z"
   },
   {
    "duration": 13,
    "start_time": "2024-02-06T17:32:22.357Z"
   },
   {
    "duration": 5,
    "start_time": "2024-02-06T17:32:33.363Z"
   },
   {
    "duration": 7,
    "start_time": "2024-02-06T17:32:40.488Z"
   },
   {
    "duration": 29,
    "start_time": "2024-02-06T17:32:43.310Z"
   },
   {
    "duration": 563,
    "start_time": "2024-02-06T17:33:03.558Z"
   },
   {
    "duration": 20,
    "start_time": "2024-02-06T17:33:04.123Z"
   },
   {
    "duration": 11,
    "start_time": "2024-02-06T17:33:04.144Z"
   },
   {
    "duration": 9,
    "start_time": "2024-02-06T17:33:04.157Z"
   },
   {
    "duration": 8,
    "start_time": "2024-02-06T17:33:04.169Z"
   },
   {
    "duration": 5,
    "start_time": "2024-02-06T17:33:04.178Z"
   },
   {
    "duration": 25,
    "start_time": "2024-02-06T17:33:04.184Z"
   },
   {
    "duration": 32,
    "start_time": "2024-02-06T17:33:04.211Z"
   },
   {
    "duration": 41,
    "start_time": "2024-02-06T17:33:04.244Z"
   },
   {
    "duration": 16,
    "start_time": "2024-02-06T17:33:04.286Z"
   },
   {
    "duration": 14,
    "start_time": "2024-02-06T17:33:04.303Z"
   },
   {
    "duration": 4,
    "start_time": "2024-02-06T17:33:04.318Z"
   },
   {
    "duration": 11,
    "start_time": "2024-02-06T17:33:04.323Z"
   },
   {
    "duration": 28,
    "start_time": "2024-02-06T17:33:04.364Z"
   },
   {
    "duration": 64,
    "start_time": "2024-02-06T17:34:12.403Z"
   },
   {
    "duration": 13,
    "start_time": "2024-02-06T17:34:23.189Z"
   },
   {
    "duration": 552,
    "start_time": "2024-02-06T17:34:52.053Z"
   },
   {
    "duration": 20,
    "start_time": "2024-02-06T17:34:52.607Z"
   },
   {
    "duration": 11,
    "start_time": "2024-02-06T17:34:52.628Z"
   },
   {
    "duration": 8,
    "start_time": "2024-02-06T17:34:52.640Z"
   },
   {
    "duration": 19,
    "start_time": "2024-02-06T17:34:52.649Z"
   },
   {
    "duration": 12,
    "start_time": "2024-02-06T17:34:52.670Z"
   },
   {
    "duration": 21,
    "start_time": "2024-02-06T17:34:52.684Z"
   },
   {
    "duration": 35,
    "start_time": "2024-02-06T17:34:52.707Z"
   },
   {
    "duration": 36,
    "start_time": "2024-02-06T17:34:52.744Z"
   },
   {
    "duration": 16,
    "start_time": "2024-02-06T17:34:52.783Z"
   },
   {
    "duration": 13,
    "start_time": "2024-02-06T17:34:52.800Z"
   },
   {
    "duration": 9,
    "start_time": "2024-02-06T17:34:52.815Z"
   },
   {
    "duration": 8,
    "start_time": "2024-02-06T17:34:52.825Z"
   },
   {
    "duration": 53,
    "start_time": "2024-02-06T17:34:52.834Z"
   },
   {
    "duration": 51,
    "start_time": "2024-02-06T19:06:55.369Z"
   },
   {
    "duration": 784,
    "start_time": "2024-02-06T19:07:03.680Z"
   },
   {
    "duration": 22,
    "start_time": "2024-02-06T19:07:04.466Z"
   },
   {
    "duration": 11,
    "start_time": "2024-02-06T19:07:04.489Z"
   },
   {
    "duration": 8,
    "start_time": "2024-02-06T19:07:04.501Z"
   },
   {
    "duration": 9,
    "start_time": "2024-02-06T19:07:04.511Z"
   },
   {
    "duration": 4,
    "start_time": "2024-02-06T19:07:04.522Z"
   },
   {
    "duration": 52,
    "start_time": "2024-02-06T19:07:04.528Z"
   },
   {
    "duration": 37,
    "start_time": "2024-02-06T19:07:04.582Z"
   },
   {
    "duration": 22,
    "start_time": "2024-02-06T19:07:04.621Z"
   },
   {
    "duration": 43,
    "start_time": "2024-02-06T19:07:04.645Z"
   },
   {
    "duration": 16,
    "start_time": "2024-02-06T19:07:04.689Z"
   },
   {
    "duration": 5,
    "start_time": "2024-02-06T19:07:04.706Z"
   },
   {
    "duration": 10,
    "start_time": "2024-02-06T19:07:04.712Z"
   },
   {
    "duration": 55,
    "start_time": "2024-02-06T19:07:04.725Z"
   },
   {
    "duration": 95,
    "start_time": "2024-02-06T19:07:16.046Z"
   },
   {
    "duration": 11,
    "start_time": "2024-02-06T19:07:42.928Z"
   },
   {
    "duration": 565,
    "start_time": "2024-02-06T19:07:58.007Z"
   },
   {
    "duration": 23,
    "start_time": "2024-02-06T19:07:58.574Z"
   },
   {
    "duration": 11,
    "start_time": "2024-02-06T19:07:58.599Z"
   },
   {
    "duration": 8,
    "start_time": "2024-02-06T19:07:58.612Z"
   },
   {
    "duration": 16,
    "start_time": "2024-02-06T19:07:58.622Z"
   },
   {
    "duration": 8,
    "start_time": "2024-02-06T19:07:58.640Z"
   },
   {
    "duration": 49,
    "start_time": "2024-02-06T19:07:58.649Z"
   },
   {
    "duration": 39,
    "start_time": "2024-02-06T19:07:58.699Z"
   },
   {
    "duration": 41,
    "start_time": "2024-02-06T19:07:58.740Z"
   },
   {
    "duration": 19,
    "start_time": "2024-02-06T19:07:58.784Z"
   },
   {
    "duration": 14,
    "start_time": "2024-02-06T19:07:58.804Z"
   },
   {
    "duration": 14,
    "start_time": "2024-02-06T19:07:58.819Z"
   },
   {
    "duration": 11,
    "start_time": "2024-02-06T19:07:58.834Z"
   },
   {
    "duration": 56,
    "start_time": "2024-02-06T19:07:58.847Z"
   },
   {
    "duration": 34,
    "start_time": "2024-02-06T19:08:44.899Z"
   },
   {
    "duration": 23,
    "start_time": "2024-02-06T19:08:51.516Z"
   },
   {
    "duration": 4,
    "start_time": "2024-02-06T19:08:54.998Z"
   },
   {
    "duration": 3,
    "start_time": "2024-02-06T19:08:59.378Z"
   },
   {
    "duration": 79,
    "start_time": "2024-02-06T19:09:03.164Z"
   },
   {
    "duration": 14,
    "start_time": "2024-02-06T19:09:37.345Z"
   },
   {
    "duration": 4,
    "start_time": "2024-02-06T19:10:59.937Z"
   },
   {
    "duration": 24,
    "start_time": "2024-02-06T19:11:03.478Z"
   },
   {
    "duration": 35,
    "start_time": "2024-02-06T19:11:08.883Z"
   },
   {
    "duration": 525,
    "start_time": "2024-02-06T19:11:35.620Z"
   },
   {
    "duration": 22,
    "start_time": "2024-02-06T19:11:36.147Z"
   },
   {
    "duration": 10,
    "start_time": "2024-02-06T19:11:36.171Z"
   },
   {
    "duration": 9,
    "start_time": "2024-02-06T19:11:36.182Z"
   },
   {
    "duration": 7,
    "start_time": "2024-02-06T19:11:36.194Z"
   },
   {
    "duration": 8,
    "start_time": "2024-02-06T19:11:36.203Z"
   },
   {
    "duration": 29,
    "start_time": "2024-02-06T19:11:36.213Z"
   },
   {
    "duration": 52,
    "start_time": "2024-02-06T19:11:36.244Z"
   },
   {
    "duration": 22,
    "start_time": "2024-02-06T19:11:36.298Z"
   },
   {
    "duration": 17,
    "start_time": "2024-02-06T19:11:36.322Z"
   },
   {
    "duration": 30,
    "start_time": "2024-02-06T19:11:36.340Z"
   },
   {
    "duration": 13,
    "start_time": "2024-02-06T19:11:36.371Z"
   },
   {
    "duration": 9,
    "start_time": "2024-02-06T19:11:36.386Z"
   },
   {
    "duration": 30,
    "start_time": "2024-02-06T19:11:36.397Z"
   },
   {
    "duration": 5,
    "start_time": "2024-02-06T19:14:22.987Z"
   },
   {
    "duration": 566,
    "start_time": "2024-02-06T19:14:55.991Z"
   },
   {
    "duration": 124,
    "start_time": "2024-02-06T19:15:23.497Z"
   },
   {
    "duration": 111,
    "start_time": "2024-02-06T19:16:01.998Z"
   },
   {
    "duration": 24417,
    "start_time": "2024-02-06T19:16:31.728Z"
   },
   {
    "duration": 832,
    "start_time": "2024-02-07T13:48:59.083Z"
   },
   {
    "duration": 23,
    "start_time": "2024-02-07T13:48:59.917Z"
   },
   {
    "duration": 12,
    "start_time": "2024-02-07T13:48:59.942Z"
   },
   {
    "duration": 25,
    "start_time": "2024-02-07T13:48:59.955Z"
   },
   {
    "duration": 11,
    "start_time": "2024-02-07T13:49:00.005Z"
   },
   {
    "duration": 97,
    "start_time": "2024-02-07T13:49:00.018Z"
   },
   {
    "duration": 107,
    "start_time": "2024-02-07T13:49:00.116Z"
   },
   {
    "duration": 37,
    "start_time": "2024-02-07T13:49:00.224Z"
   },
   {
    "duration": 44,
    "start_time": "2024-02-07T13:49:00.263Z"
   },
   {
    "duration": 21,
    "start_time": "2024-02-07T13:49:00.308Z"
   },
   {
    "duration": 99,
    "start_time": "2024-02-07T13:49:00.331Z"
   },
   {
    "duration": 144,
    "start_time": "2024-02-07T13:49:00.432Z"
   },
   {
    "duration": 182,
    "start_time": "2024-02-07T13:49:00.578Z"
   },
   {
    "duration": 58,
    "start_time": "2024-02-07T13:49:00.763Z"
   },
   {
    "duration": 110610,
    "start_time": "2024-02-07T13:49:00.822Z"
   },
   {
    "duration": 98481,
    "start_time": "2024-02-07T13:51:27.691Z"
   },
   {
    "duration": 642,
    "start_time": "2024-02-07T13:54:27.102Z"
   },
   {
    "duration": 139,
    "start_time": "2024-02-07T13:58:18.613Z"
   },
   {
    "duration": 107,
    "start_time": "2024-02-07T13:58:32.411Z"
   },
   {
    "duration": 141,
    "start_time": "2024-02-07T13:58:45.198Z"
   },
   {
    "duration": 8,
    "start_time": "2024-02-07T13:59:25.751Z"
   },
   {
    "duration": 23,
    "start_time": "2024-02-07T14:01:39.924Z"
   },
   {
    "duration": 261,
    "start_time": "2024-02-07T14:02:49.562Z"
   },
   {
    "duration": 250,
    "start_time": "2024-02-07T14:02:55.642Z"
   },
   {
    "duration": 285,
    "start_time": "2024-02-07T14:03:06.007Z"
   },
   {
    "duration": 296,
    "start_time": "2024-02-07T14:03:13.416Z"
   },
   {
    "duration": 269,
    "start_time": "2024-02-07T14:03:17.063Z"
   },
   {
    "duration": 275,
    "start_time": "2024-02-07T14:03:23.938Z"
   },
   {
    "duration": 260,
    "start_time": "2024-02-07T14:03:29.725Z"
   },
   {
    "duration": 1446,
    "start_time": "2024-02-07T14:03:34.919Z"
   },
   {
    "duration": 1323,
    "start_time": "2024-02-07T14:03:48.314Z"
   },
   {
    "duration": 260,
    "start_time": "2024-02-07T14:04:00.291Z"
   },
   {
    "duration": 567,
    "start_time": "2024-02-07T14:04:14.559Z"
   },
   {
    "duration": 171,
    "start_time": "2024-02-07T14:04:19.409Z"
   },
   {
    "duration": 9,
    "start_time": "2024-02-07T14:10:09.281Z"
   },
   {
    "duration": 105,
    "start_time": "2024-02-07T14:12:59.060Z"
   },
   {
    "duration": 1296,
    "start_time": "2024-02-07T14:14:43.450Z"
   },
   {
    "duration": 13,
    "start_time": "2024-02-07T14:15:44.833Z"
   },
   {
    "duration": 5,
    "start_time": "2024-02-07T14:31:06.154Z"
   },
   {
    "duration": 16,
    "start_time": "2024-02-07T14:31:24.388Z"
   },
   {
    "duration": 16,
    "start_time": "2024-02-07T14:31:40.473Z"
   },
   {
    "duration": 25,
    "start_time": "2024-02-07T15:20:04.959Z"
   },
   {
    "duration": 9,
    "start_time": "2024-02-07T15:26:28.454Z"
   },
   {
    "duration": 10,
    "start_time": "2024-02-07T15:27:46.533Z"
   },
   {
    "duration": 8,
    "start_time": "2024-02-07T15:27:55.758Z"
   },
   {
    "duration": 12,
    "start_time": "2024-02-07T15:29:43.763Z"
   },
   {
    "duration": 100,
    "start_time": "2024-02-07T15:32:57.453Z"
   },
   {
    "duration": 4,
    "start_time": "2024-02-07T15:39:50.251Z"
   },
   {
    "duration": 22,
    "start_time": "2024-02-07T15:49:06.734Z"
   },
   {
    "duration": 876,
    "start_time": "2024-02-07T15:58:37.650Z"
   },
   {
    "duration": 8,
    "start_time": "2024-02-07T16:02:32.879Z"
   },
   {
    "duration": 21,
    "start_time": "2024-02-07T16:02:50.027Z"
   },
   {
    "duration": 89,
    "start_time": "2024-02-07T16:03:01.774Z"
   },
   {
    "duration": 12,
    "start_time": "2024-02-07T16:03:18.096Z"
   },
   {
    "duration": 7,
    "start_time": "2024-02-07T16:03:24.315Z"
   },
   {
    "duration": 8,
    "start_time": "2024-02-07T16:03:29.774Z"
   },
   {
    "duration": 864,
    "start_time": "2024-02-07T16:14:01.976Z"
   },
   {
    "duration": 7,
    "start_time": "2024-02-07T16:18:20.371Z"
   },
   {
    "duration": 112,
    "start_time": "2024-02-07T16:26:15.986Z"
   },
   {
    "duration": 7,
    "start_time": "2024-02-07T16:26:28.173Z"
   },
   {
    "duration": 148,
    "start_time": "2024-02-07T16:26:31.187Z"
   },
   {
    "duration": 108,
    "start_time": "2024-02-07T16:26:58.662Z"
   },
   {
    "duration": 1305,
    "start_time": "2024-02-07T16:28:58.276Z"
   },
   {
    "duration": 21,
    "start_time": "2024-02-07T16:28:59.583Z"
   },
   {
    "duration": 9,
    "start_time": "2024-02-07T16:28:59.606Z"
   },
   {
    "duration": 7,
    "start_time": "2024-02-07T16:28:59.617Z"
   },
   {
    "duration": 8,
    "start_time": "2024-02-07T16:28:59.626Z"
   },
   {
    "duration": 4,
    "start_time": "2024-02-07T16:28:59.635Z"
   },
   {
    "duration": 23,
    "start_time": "2024-02-07T16:28:59.640Z"
   },
   {
    "duration": 62,
    "start_time": "2024-02-07T16:28:59.665Z"
   },
   {
    "duration": 22,
    "start_time": "2024-02-07T16:28:59.729Z"
   },
   {
    "duration": 16,
    "start_time": "2024-02-07T16:28:59.753Z"
   },
   {
    "duration": 14,
    "start_time": "2024-02-07T16:28:59.794Z"
   },
   {
    "duration": 8,
    "start_time": "2024-02-07T16:28:59.810Z"
   },
   {
    "duration": 8,
    "start_time": "2024-02-07T16:28:59.819Z"
   },
   {
    "duration": 28,
    "start_time": "2024-02-07T16:28:59.830Z"
   },
   {
    "duration": 11,
    "start_time": "2024-02-07T16:28:59.860Z"
   },
   {
    "duration": 934,
    "start_time": "2024-02-07T16:28:59.872Z"
   },
   {
    "duration": 7,
    "start_time": "2024-02-07T16:29:00.808Z"
   },
   {
    "duration": 54,
    "start_time": "2024-02-07T16:29:00.816Z"
   },
   {
    "duration": 125,
    "start_time": "2024-02-07T16:29:00.872Z"
   },
   {
    "duration": 13,
    "start_time": "2024-02-07T16:29:00.999Z"
   },
   {
    "duration": 34,
    "start_time": "2024-02-07T16:29:01.014Z"
   },
   {
    "duration": 139,
    "start_time": "2024-02-07T16:29:01.049Z"
   },
   {
    "duration": 10,
    "start_time": "2024-02-07T16:29:01.190Z"
   },
   {
    "duration": 142,
    "start_time": "2024-02-07T16:29:01.201Z"
   },
   {
    "duration": 10,
    "start_time": "2024-02-07T16:29:01.344Z"
   },
   {
    "duration": 150,
    "start_time": "2024-02-07T16:29:01.355Z"
   },
   {
    "duration": 5,
    "start_time": "2024-02-07T16:44:49.406Z"
   },
   {
    "duration": 4,
    "start_time": "2024-02-07T16:50:38.424Z"
   },
   {
    "duration": 24,
    "start_time": "2024-02-07T16:50:54.720Z"
   },
   {
    "duration": 16,
    "start_time": "2024-02-07T16:51:09.731Z"
   },
   {
    "duration": 1166,
    "start_time": "2024-02-07T16:57:10.946Z"
   },
   {
    "duration": 1067,
    "start_time": "2024-02-07T16:57:58.085Z"
   },
   {
    "duration": 1133,
    "start_time": "2024-02-07T16:58:15.122Z"
   },
   {
    "duration": 3,
    "start_time": "2024-02-07T16:58:56.181Z"
   },
   {
    "duration": 17,
    "start_time": "2024-02-07T16:59:02.848Z"
   },
   {
    "duration": 60,
    "start_time": "2024-02-08T14:02:18.746Z"
   },
   {
    "duration": 1747,
    "start_time": "2024-02-08T14:02:27.275Z"
   },
   {
    "duration": 24,
    "start_time": "2024-02-08T14:02:29.024Z"
   },
   {
    "duration": 12,
    "start_time": "2024-02-08T14:02:29.049Z"
   },
   {
    "duration": 11,
    "start_time": "2024-02-08T14:02:29.063Z"
   },
   {
    "duration": 34,
    "start_time": "2024-02-08T14:02:29.076Z"
   },
   {
    "duration": 10,
    "start_time": "2024-02-08T14:02:29.111Z"
   },
   {
    "duration": 51,
    "start_time": "2024-02-08T14:02:29.123Z"
   },
   {
    "duration": 41,
    "start_time": "2024-02-08T14:02:29.175Z"
   },
   {
    "duration": 25,
    "start_time": "2024-02-08T14:02:29.218Z"
   },
   {
    "duration": 32,
    "start_time": "2024-02-08T14:02:29.244Z"
   },
   {
    "duration": 26,
    "start_time": "2024-02-08T14:02:29.277Z"
   },
   {
    "duration": 11,
    "start_time": "2024-02-08T14:02:29.305Z"
   },
   {
    "duration": 27,
    "start_time": "2024-02-08T14:02:29.318Z"
   },
   {
    "duration": 38,
    "start_time": "2024-02-08T14:02:29.349Z"
   },
   {
    "duration": 6,
    "start_time": "2024-02-08T14:02:29.389Z"
   },
   {
    "duration": 1094,
    "start_time": "2024-02-08T14:02:29.396Z"
   },
   {
    "duration": 24,
    "start_time": "2024-02-08T14:02:30.491Z"
   },
   {
    "duration": 44,
    "start_time": "2024-02-08T14:02:30.517Z"
   },
   {
    "duration": 139,
    "start_time": "2024-02-08T14:02:30.563Z"
   },
   {
    "duration": 15,
    "start_time": "2024-02-08T14:02:30.703Z"
   },
   {
    "duration": 39,
    "start_time": "2024-02-08T14:02:30.720Z"
   },
   {
    "duration": 156,
    "start_time": "2024-02-08T14:02:30.760Z"
   },
   {
    "duration": 8,
    "start_time": "2024-02-08T14:02:30.918Z"
   },
   {
    "duration": 150,
    "start_time": "2024-02-08T14:02:30.928Z"
   },
   {
    "duration": 11,
    "start_time": "2024-02-08T14:02:31.080Z"
   },
   {
    "duration": 176,
    "start_time": "2024-02-08T14:02:31.092Z"
   },
   {
    "duration": 5,
    "start_time": "2024-02-08T14:02:31.270Z"
   },
   {
    "duration": 40,
    "start_time": "2024-02-08T14:02:31.276Z"
   },
   {
    "duration": 47,
    "start_time": "2024-02-08T14:02:31.318Z"
   },
   {
    "duration": 22,
    "start_time": "2024-02-08T14:03:07.021Z"
   },
   {
    "duration": 1591,
    "start_time": "2024-02-11T17:43:17.219Z"
   },
   {
    "duration": 20,
    "start_time": "2024-02-11T17:43:18.812Z"
   },
   {
    "duration": 11,
    "start_time": "2024-02-11T17:43:18.833Z"
   },
   {
    "duration": 9,
    "start_time": "2024-02-11T17:43:18.846Z"
   },
   {
    "duration": 9,
    "start_time": "2024-02-11T17:43:18.857Z"
   },
   {
    "duration": 10,
    "start_time": "2024-02-11T17:43:18.867Z"
   },
   {
    "duration": 21,
    "start_time": "2024-02-11T17:43:18.878Z"
   },
   {
    "duration": 54,
    "start_time": "2024-02-11T17:43:18.900Z"
   },
   {
    "duration": 21,
    "start_time": "2024-02-11T17:43:18.956Z"
   },
   {
    "duration": 14,
    "start_time": "2024-02-11T17:43:18.979Z"
   },
   {
    "duration": 13,
    "start_time": "2024-02-11T17:43:18.994Z"
   },
   {
    "duration": 4,
    "start_time": "2024-02-11T17:43:19.033Z"
   },
   {
    "duration": 9,
    "start_time": "2024-02-11T17:43:19.039Z"
   },
   {
    "duration": 29,
    "start_time": "2024-02-11T17:43:19.050Z"
   },
   {
    "duration": 4,
    "start_time": "2024-02-11T17:43:19.080Z"
   },
   {
    "duration": 936,
    "start_time": "2024-02-11T17:43:19.086Z"
   },
   {
    "duration": 18,
    "start_time": "2024-02-11T17:43:20.024Z"
   },
   {
    "duration": 9,
    "start_time": "2024-02-11T17:43:20.043Z"
   },
   {
    "duration": 109,
    "start_time": "2024-02-11T17:43:20.053Z"
   },
   {
    "duration": 12,
    "start_time": "2024-02-11T17:43:20.164Z"
   },
   {
    "duration": 7,
    "start_time": "2024-02-11T17:43:20.178Z"
   },
   {
    "duration": 116,
    "start_time": "2024-02-11T17:43:20.187Z"
   },
   {
    "duration": 7,
    "start_time": "2024-02-11T17:43:20.304Z"
   },
   {
    "duration": 113,
    "start_time": "2024-02-11T17:43:20.313Z"
   },
   {
    "duration": 10,
    "start_time": "2024-02-11T17:43:20.432Z"
   },
   {
    "duration": 114,
    "start_time": "2024-02-11T17:43:20.443Z"
   },
   {
    "duration": 5,
    "start_time": "2024-02-11T17:43:20.559Z"
   },
   {
    "duration": 98,
    "start_time": "2024-02-11T17:43:20.565Z"
   },
   {
    "duration": 0,
    "start_time": "2024-02-11T17:43:20.665Z"
   },
   {
    "duration": 61,
    "start_time": "2024-02-13T18:46:23.386Z"
   },
   {
    "duration": 1813,
    "start_time": "2024-02-13T18:46:29.527Z"
   },
   {
    "duration": 22,
    "start_time": "2024-02-13T18:46:31.342Z"
   },
   {
    "duration": 45,
    "start_time": "2024-02-13T18:46:31.365Z"
   },
   {
    "duration": 27,
    "start_time": "2024-02-13T18:46:31.413Z"
   },
   {
    "duration": 30,
    "start_time": "2024-02-13T18:46:31.442Z"
   },
   {
    "duration": 38,
    "start_time": "2024-02-13T18:46:31.474Z"
   },
   {
    "duration": 72,
    "start_time": "2024-02-13T18:46:31.514Z"
   },
   {
    "duration": 37,
    "start_time": "2024-02-13T18:46:31.587Z"
   },
   {
    "duration": 47,
    "start_time": "2024-02-13T18:46:31.626Z"
   },
   {
    "duration": 25,
    "start_time": "2024-02-13T18:46:31.677Z"
   },
   {
    "duration": 26,
    "start_time": "2024-02-13T18:46:31.704Z"
   },
   {
    "duration": 6,
    "start_time": "2024-02-13T18:46:31.732Z"
   },
   {
    "duration": 33,
    "start_time": "2024-02-13T18:46:31.740Z"
   },
   {
    "duration": 36,
    "start_time": "2024-02-13T18:46:31.775Z"
   },
   {
    "duration": 5,
    "start_time": "2024-02-13T18:46:31.813Z"
   },
   {
    "duration": 1007,
    "start_time": "2024-02-13T18:46:31.820Z"
   },
   {
    "duration": 14,
    "start_time": "2024-02-13T18:46:32.829Z"
   },
   {
    "duration": 14,
    "start_time": "2024-02-13T18:46:32.845Z"
   },
   {
    "duration": 114,
    "start_time": "2024-02-13T18:46:32.873Z"
   },
   {
    "duration": 14,
    "start_time": "2024-02-13T18:46:32.989Z"
   },
   {
    "duration": 11,
    "start_time": "2024-02-13T18:46:33.004Z"
   },
   {
    "duration": 129,
    "start_time": "2024-02-13T18:46:33.017Z"
   },
   {
    "duration": 8,
    "start_time": "2024-02-13T18:46:33.148Z"
   },
   {
    "duration": 124,
    "start_time": "2024-02-13T18:46:33.173Z"
   },
   {
    "duration": 11,
    "start_time": "2024-02-13T18:46:33.299Z"
   },
   {
    "duration": 133,
    "start_time": "2024-02-13T18:46:33.311Z"
   },
   {
    "duration": 5,
    "start_time": "2024-02-13T18:46:33.446Z"
   },
   {
    "duration": 207,
    "start_time": "2024-02-13T18:46:33.455Z"
   },
   {
    "duration": 0,
    "start_time": "2024-02-13T18:46:33.663Z"
   },
   {
    "duration": 104,
    "start_time": "2024-02-13T18:47:04.820Z"
   },
   {
    "duration": 87,
    "start_time": "2024-02-13T18:47:23.339Z"
   },
   {
    "duration": 85,
    "start_time": "2024-02-13T18:51:09.560Z"
   },
   {
    "duration": 1327,
    "start_time": "2024-02-13T18:51:15.459Z"
   },
   {
    "duration": 24,
    "start_time": "2024-02-13T18:51:16.788Z"
   },
   {
    "duration": 11,
    "start_time": "2024-02-13T18:51:16.814Z"
   },
   {
    "duration": 9,
    "start_time": "2024-02-13T18:51:16.827Z"
   },
   {
    "duration": 9,
    "start_time": "2024-02-13T18:51:16.838Z"
   },
   {
    "duration": 26,
    "start_time": "2024-02-13T18:51:16.849Z"
   },
   {
    "duration": 33,
    "start_time": "2024-02-13T18:51:16.877Z"
   },
   {
    "duration": 37,
    "start_time": "2024-02-13T18:51:16.912Z"
   },
   {
    "duration": 32,
    "start_time": "2024-02-13T18:51:16.951Z"
   },
   {
    "duration": 18,
    "start_time": "2024-02-13T18:51:16.986Z"
   },
   {
    "duration": 15,
    "start_time": "2024-02-13T18:51:17.007Z"
   },
   {
    "duration": 14,
    "start_time": "2024-02-13T18:51:17.024Z"
   },
   {
    "duration": 35,
    "start_time": "2024-02-13T18:51:17.040Z"
   },
   {
    "duration": 32,
    "start_time": "2024-02-13T18:51:17.077Z"
   },
   {
    "duration": 5,
    "start_time": "2024-02-13T18:51:17.110Z"
   },
   {
    "duration": 1018,
    "start_time": "2024-02-13T18:51:17.117Z"
   },
   {
    "duration": 15,
    "start_time": "2024-02-13T18:51:18.137Z"
   },
   {
    "duration": 21,
    "start_time": "2024-02-13T18:51:18.153Z"
   },
   {
    "duration": 108,
    "start_time": "2024-02-13T18:51:18.175Z"
   },
   {
    "duration": 13,
    "start_time": "2024-02-13T18:51:18.284Z"
   },
   {
    "duration": 22,
    "start_time": "2024-02-13T18:51:18.299Z"
   },
   {
    "duration": 120,
    "start_time": "2024-02-13T18:51:18.323Z"
   },
   {
    "duration": 8,
    "start_time": "2024-02-13T18:51:18.445Z"
   },
   {
    "duration": 135,
    "start_time": "2024-02-13T18:51:18.455Z"
   },
   {
    "duration": 11,
    "start_time": "2024-02-13T18:51:18.592Z"
   },
   {
    "duration": 132,
    "start_time": "2024-02-13T18:51:18.604Z"
   },
   {
    "duration": 4,
    "start_time": "2024-02-13T18:51:18.737Z"
   },
   {
    "duration": 193,
    "start_time": "2024-02-13T18:51:18.744Z"
   },
   {
    "duration": 0,
    "start_time": "2024-02-13T18:51:18.938Z"
   },
   {
    "duration": 367,
    "start_time": "2024-02-13T18:59:12.880Z"
   },
   {
    "duration": 36,
    "start_time": "2024-02-13T18:59:27.202Z"
   },
   {
    "duration": 46,
    "start_time": "2024-02-13T19:01:56.983Z"
   },
   {
    "duration": 1402,
    "start_time": "2024-02-13T19:02:12.738Z"
   },
   {
    "duration": 23,
    "start_time": "2024-02-13T19:02:14.142Z"
   },
   {
    "duration": 10,
    "start_time": "2024-02-13T19:02:14.167Z"
   },
   {
    "duration": 21,
    "start_time": "2024-02-13T19:02:14.179Z"
   },
   {
    "duration": 16,
    "start_time": "2024-02-13T19:02:14.202Z"
   },
   {
    "duration": 7,
    "start_time": "2024-02-13T19:02:14.219Z"
   },
   {
    "duration": 34,
    "start_time": "2024-02-13T19:02:14.227Z"
   },
   {
    "duration": 42,
    "start_time": "2024-02-13T19:02:14.262Z"
   },
   {
    "duration": 24,
    "start_time": "2024-02-13T19:02:14.306Z"
   },
   {
    "duration": 43,
    "start_time": "2024-02-13T19:02:14.332Z"
   },
   {
    "duration": 14,
    "start_time": "2024-02-13T19:02:14.376Z"
   },
   {
    "duration": 6,
    "start_time": "2024-02-13T19:02:14.392Z"
   },
   {
    "duration": 10,
    "start_time": "2024-02-13T19:02:14.400Z"
   },
   {
    "duration": 60,
    "start_time": "2024-02-13T19:02:14.413Z"
   },
   {
    "duration": 5,
    "start_time": "2024-02-13T19:02:14.475Z"
   },
   {
    "duration": 1040,
    "start_time": "2024-02-13T19:02:14.481Z"
   },
   {
    "duration": 16,
    "start_time": "2024-02-13T19:02:15.523Z"
   },
   {
    "duration": 17,
    "start_time": "2024-02-13T19:02:15.540Z"
   },
   {
    "duration": 113,
    "start_time": "2024-02-13T19:02:15.573Z"
   },
   {
    "duration": 14,
    "start_time": "2024-02-13T19:02:15.688Z"
   },
   {
    "duration": 24,
    "start_time": "2024-02-13T19:02:15.704Z"
   },
   {
    "duration": 132,
    "start_time": "2024-02-13T19:02:15.730Z"
   },
   {
    "duration": 13,
    "start_time": "2024-02-13T19:02:15.864Z"
   },
   {
    "duration": 148,
    "start_time": "2024-02-13T19:02:15.879Z"
   },
   {
    "duration": 10,
    "start_time": "2024-02-13T19:02:16.029Z"
   },
   {
    "duration": 138,
    "start_time": "2024-02-13T19:02:16.041Z"
   },
   {
    "duration": 4,
    "start_time": "2024-02-13T19:02:16.180Z"
   },
   {
    "duration": 8913,
    "start_time": "2024-02-13T19:02:16.185Z"
   },
   {
    "duration": 16,
    "start_time": "2024-02-13T19:02:25.099Z"
   },
   {
    "duration": 1579,
    "start_time": "2024-02-14T14:04:08.666Z"
   },
   {
    "duration": 19,
    "start_time": "2024-02-14T14:04:10.247Z"
   },
   {
    "duration": 9,
    "start_time": "2024-02-14T14:04:10.268Z"
   },
   {
    "duration": 8,
    "start_time": "2024-02-14T14:04:10.279Z"
   },
   {
    "duration": 8,
    "start_time": "2024-02-14T14:04:10.289Z"
   },
   {
    "duration": 21,
    "start_time": "2024-02-14T14:04:10.299Z"
   },
   {
    "duration": 23,
    "start_time": "2024-02-14T14:04:10.321Z"
   },
   {
    "duration": 39,
    "start_time": "2024-02-14T14:04:10.346Z"
   },
   {
    "duration": 46,
    "start_time": "2024-02-14T14:04:10.386Z"
   },
   {
    "duration": 17,
    "start_time": "2024-02-14T14:04:10.434Z"
   },
   {
    "duration": 17,
    "start_time": "2024-02-14T14:04:10.452Z"
   },
   {
    "duration": 5,
    "start_time": "2024-02-14T14:04:10.471Z"
   },
   {
    "duration": 41,
    "start_time": "2024-02-14T14:04:10.477Z"
   },
   {
    "duration": 30,
    "start_time": "2024-02-14T14:04:10.519Z"
   },
   {
    "duration": 4,
    "start_time": "2024-02-14T14:04:10.550Z"
   },
   {
    "duration": 921,
    "start_time": "2024-02-14T14:04:10.556Z"
   },
   {
    "duration": 14,
    "start_time": "2024-02-14T14:04:11.479Z"
   },
   {
    "duration": 8,
    "start_time": "2024-02-14T14:04:11.494Z"
   },
   {
    "duration": 88,
    "start_time": "2024-02-14T14:04:11.518Z"
   },
   {
    "duration": 13,
    "start_time": "2024-02-14T14:04:11.617Z"
   },
   {
    "duration": 9,
    "start_time": "2024-02-14T14:04:11.632Z"
   },
   {
    "duration": 123,
    "start_time": "2024-02-14T14:04:11.643Z"
   },
   {
    "duration": 7,
    "start_time": "2024-02-14T14:04:11.768Z"
   },
   {
    "duration": 125,
    "start_time": "2024-02-14T14:04:11.776Z"
   },
   {
    "duration": 16,
    "start_time": "2024-02-14T14:04:11.903Z"
   },
   {
    "duration": 130,
    "start_time": "2024-02-14T14:04:11.920Z"
   },
   {
    "duration": 4,
    "start_time": "2024-02-14T14:04:12.053Z"
   },
   {
    "duration": 8377,
    "start_time": "2024-02-14T14:04:12.061Z"
   },
   {
    "duration": 15,
    "start_time": "2024-02-14T14:04:20.439Z"
   },
   {
    "duration": 4,
    "start_time": "2024-02-14T14:05:44.092Z"
   },
   {
    "duration": 115,
    "start_time": "2024-02-14T14:06:29.937Z"
   },
   {
    "duration": 108,
    "start_time": "2024-02-14T14:07:36.986Z"
   },
   {
    "duration": 108,
    "start_time": "2024-02-14T14:07:57.231Z"
   },
   {
    "duration": 119,
    "start_time": "2024-02-14T14:15:53.659Z"
   },
   {
    "duration": 117,
    "start_time": "2024-02-14T14:15:59.451Z"
   },
   {
    "duration": 294,
    "start_time": "2024-02-14T14:16:06.407Z"
   },
   {
    "duration": 34,
    "start_time": "2024-02-14T15:33:26.819Z"
   },
   {
    "duration": 73,
    "start_time": "2024-02-14T15:33:53.249Z"
   },
   {
    "duration": 1199,
    "start_time": "2024-02-14T15:42:41.733Z"
   },
   {
    "duration": 8,
    "start_time": "2024-02-14T15:52:35.120Z"
   },
   {
    "duration": 23,
    "start_time": "2024-02-14T15:52:56.229Z"
   },
   {
    "duration": 14,
    "start_time": "2024-02-14T15:53:51.923Z"
   },
   {
    "duration": 150,
    "start_time": "2024-02-14T15:54:28.614Z"
   },
   {
    "duration": 13,
    "start_time": "2024-02-14T15:54:36.459Z"
   },
   {
    "duration": 14,
    "start_time": "2024-02-14T15:55:09.324Z"
   },
   {
    "duration": 5,
    "start_time": "2024-02-14T15:57:42.849Z"
   },
   {
    "duration": 1550,
    "start_time": "2024-02-15T13:52:15.867Z"
   },
   {
    "duration": 22,
    "start_time": "2024-02-15T13:52:17.419Z"
   },
   {
    "duration": 10,
    "start_time": "2024-02-15T13:52:17.443Z"
   },
   {
    "duration": 15,
    "start_time": "2024-02-15T13:52:17.454Z"
   },
   {
    "duration": 8,
    "start_time": "2024-02-15T13:52:17.471Z"
   },
   {
    "duration": 4,
    "start_time": "2024-02-15T13:52:17.481Z"
   },
   {
    "duration": 38,
    "start_time": "2024-02-15T13:52:17.486Z"
   },
   {
    "duration": 36,
    "start_time": "2024-02-15T13:52:17.526Z"
   },
   {
    "duration": 21,
    "start_time": "2024-02-15T13:52:17.563Z"
   },
   {
    "duration": 39,
    "start_time": "2024-02-15T13:52:17.586Z"
   },
   {
    "duration": 12,
    "start_time": "2024-02-15T13:52:17.626Z"
   },
   {
    "duration": 6,
    "start_time": "2024-02-15T13:52:17.640Z"
   },
   {
    "duration": 8,
    "start_time": "2024-02-15T13:52:17.648Z"
   },
   {
    "duration": 28,
    "start_time": "2024-02-15T13:52:17.658Z"
   },
   {
    "duration": 4,
    "start_time": "2024-02-15T13:52:17.687Z"
   },
   {
    "duration": 937,
    "start_time": "2024-02-15T13:52:17.715Z"
   },
   {
    "duration": 13,
    "start_time": "2024-02-15T13:52:18.654Z"
   },
   {
    "duration": 10,
    "start_time": "2024-02-15T13:52:18.669Z"
   },
   {
    "duration": 108,
    "start_time": "2024-02-15T13:52:18.680Z"
   },
   {
    "duration": 12,
    "start_time": "2024-02-15T13:52:18.790Z"
   },
   {
    "duration": 16,
    "start_time": "2024-02-15T13:52:18.804Z"
   },
   {
    "duration": 119,
    "start_time": "2024-02-15T13:52:18.821Z"
   },
   {
    "duration": 8,
    "start_time": "2024-02-15T13:52:18.941Z"
   },
   {
    "duration": 121,
    "start_time": "2024-02-15T13:52:18.950Z"
   },
   {
    "duration": 10,
    "start_time": "2024-02-15T13:52:19.072Z"
   },
   {
    "duration": 112,
    "start_time": "2024-02-15T13:52:19.083Z"
   },
   {
    "duration": 4,
    "start_time": "2024-02-15T13:52:19.197Z"
   },
   {
    "duration": 8137,
    "start_time": "2024-02-15T13:52:19.202Z"
   },
   {
    "duration": 15,
    "start_time": "2024-02-15T13:52:27.340Z"
   },
   {
    "duration": 4,
    "start_time": "2024-02-15T13:52:27.357Z"
   },
   {
    "duration": 230,
    "start_time": "2024-02-15T13:52:27.362Z"
   },
   {
    "duration": 131,
    "start_time": "2024-02-15T13:52:27.593Z"
   },
   {
    "duration": 17,
    "start_time": "2024-02-15T13:52:27.725Z"
   },
   {
    "duration": 4,
    "start_time": "2024-02-15T14:18:32.672Z"
   },
   {
    "duration": 4,
    "start_time": "2024-02-15T14:23:15.827Z"
   },
   {
    "duration": 34,
    "start_time": "2024-02-15T14:24:41.637Z"
   },
   {
    "duration": 27,
    "start_time": "2024-02-15T14:24:59.404Z"
   },
   {
    "duration": 33,
    "start_time": "2024-02-15T14:25:03.139Z"
   },
   {
    "duration": 101,
    "start_time": "2024-02-15T14:25:17.242Z"
   },
   {
    "duration": 1246,
    "start_time": "2024-02-15T14:25:25.350Z"
   },
   {
    "duration": 1302,
    "start_time": "2024-02-15T14:25:46.279Z"
   },
   {
    "duration": 20,
    "start_time": "2024-02-15T14:25:47.583Z"
   },
   {
    "duration": 10,
    "start_time": "2024-02-15T14:25:47.604Z"
   },
   {
    "duration": 8,
    "start_time": "2024-02-15T14:25:47.615Z"
   },
   {
    "duration": 7,
    "start_time": "2024-02-15T14:25:47.625Z"
   },
   {
    "duration": 15,
    "start_time": "2024-02-15T14:25:47.633Z"
   },
   {
    "duration": 24,
    "start_time": "2024-02-15T14:25:47.649Z"
   },
   {
    "duration": 46,
    "start_time": "2024-02-15T14:25:47.674Z"
   },
   {
    "duration": 23,
    "start_time": "2024-02-15T14:25:47.721Z"
   },
   {
    "duration": 16,
    "start_time": "2024-02-15T14:25:47.747Z"
   },
   {
    "duration": 13,
    "start_time": "2024-02-15T14:25:47.765Z"
   },
   {
    "duration": 4,
    "start_time": "2024-02-15T14:25:47.780Z"
   },
   {
    "duration": 36,
    "start_time": "2024-02-15T14:25:47.785Z"
   },
   {
    "duration": 37,
    "start_time": "2024-02-15T14:25:47.822Z"
   },
   {
    "duration": 5,
    "start_time": "2024-02-15T14:25:47.860Z"
   },
   {
    "duration": 806,
    "start_time": "2024-02-15T14:25:47.866Z"
   },
   {
    "duration": 15,
    "start_time": "2024-02-15T14:25:48.673Z"
   },
   {
    "duration": 16,
    "start_time": "2024-02-15T14:25:48.690Z"
   },
   {
    "duration": 86,
    "start_time": "2024-02-15T14:25:48.714Z"
   },
   {
    "duration": 14,
    "start_time": "2024-02-15T14:25:48.814Z"
   },
   {
    "duration": 19,
    "start_time": "2024-02-15T14:25:48.830Z"
   },
   {
    "duration": 114,
    "start_time": "2024-02-15T14:25:48.852Z"
   },
   {
    "duration": 8,
    "start_time": "2024-02-15T14:25:48.967Z"
   },
   {
    "duration": 126,
    "start_time": "2024-02-15T14:25:48.976Z"
   },
   {
    "duration": 19,
    "start_time": "2024-02-15T14:25:49.103Z"
   },
   {
    "duration": 198,
    "start_time": "2024-02-15T14:25:49.123Z"
   },
   {
    "duration": 0,
    "start_time": "2024-02-15T14:25:49.323Z"
   },
   {
    "duration": 0,
    "start_time": "2024-02-15T14:25:49.323Z"
   },
   {
    "duration": 0,
    "start_time": "2024-02-15T14:25:49.325Z"
   },
   {
    "duration": 0,
    "start_time": "2024-02-15T14:25:49.326Z"
   },
   {
    "duration": 0,
    "start_time": "2024-02-15T14:25:49.327Z"
   },
   {
    "duration": 0,
    "start_time": "2024-02-15T14:25:49.327Z"
   },
   {
    "duration": 0,
    "start_time": "2024-02-15T14:25:49.328Z"
   },
   {
    "duration": 8,
    "start_time": "2024-02-15T14:26:52.996Z"
   },
   {
    "duration": 11,
    "start_time": "2024-02-15T14:26:59.755Z"
   },
   {
    "duration": 9,
    "start_time": "2024-02-15T14:27:04.978Z"
   },
   {
    "duration": 108,
    "start_time": "2024-02-15T14:27:11.983Z"
   },
   {
    "duration": 3,
    "start_time": "2024-02-15T14:28:20.995Z"
   },
   {
    "duration": 4,
    "start_time": "2024-02-15T14:28:26.067Z"
   },
   {
    "duration": 8177,
    "start_time": "2024-02-15T14:28:29.350Z"
   },
   {
    "duration": 16,
    "start_time": "2024-02-15T14:28:53.018Z"
   },
   {
    "duration": 4,
    "start_time": "2024-02-15T14:28:56.771Z"
   },
   {
    "duration": 215,
    "start_time": "2024-02-15T14:28:59.418Z"
   },
   {
    "duration": 4,
    "start_time": "2024-02-15T14:29:03.381Z"
   },
   {
    "duration": 16,
    "start_time": "2024-02-15T14:32:10.938Z"
   },
   {
    "duration": 6,
    "start_time": "2024-02-15T15:19:25.379Z"
   },
   {
    "duration": 17,
    "start_time": "2024-02-15T15:31:43.901Z"
   },
   {
    "duration": 7,
    "start_time": "2024-02-15T15:49:46.682Z"
   },
   {
    "duration": 9,
    "start_time": "2024-02-15T15:50:06.228Z"
   },
   {
    "duration": 8,
    "start_time": "2024-02-15T15:50:28.989Z"
   },
   {
    "duration": 14,
    "start_time": "2024-02-15T15:51:01.031Z"
   },
   {
    "duration": 26,
    "start_time": "2024-02-15T15:51:56.704Z"
   },
   {
    "duration": 30,
    "start_time": "2024-02-15T15:52:27.357Z"
   },
   {
    "duration": 1252,
    "start_time": "2024-02-15T15:52:52.536Z"
   },
   {
    "duration": 20,
    "start_time": "2024-02-15T15:52:53.790Z"
   },
   {
    "duration": 10,
    "start_time": "2024-02-15T15:52:53.811Z"
   },
   {
    "duration": 11,
    "start_time": "2024-02-15T15:52:53.822Z"
   },
   {
    "duration": 24,
    "start_time": "2024-02-15T15:52:53.834Z"
   },
   {
    "duration": 11,
    "start_time": "2024-02-15T15:52:53.859Z"
   },
   {
    "duration": 24,
    "start_time": "2024-02-15T15:52:53.872Z"
   },
   {
    "duration": 37,
    "start_time": "2024-02-15T15:52:53.897Z"
   },
   {
    "duration": 22,
    "start_time": "2024-02-15T15:52:53.935Z"
   },
   {
    "duration": 15,
    "start_time": "2024-02-15T15:52:53.958Z"
   },
   {
    "duration": 14,
    "start_time": "2024-02-15T15:52:53.974Z"
   },
   {
    "duration": 27,
    "start_time": "2024-02-15T15:52:53.989Z"
   },
   {
    "duration": 9,
    "start_time": "2024-02-15T15:52:54.017Z"
   },
   {
    "duration": 31,
    "start_time": "2024-02-15T15:52:54.029Z"
   },
   {
    "duration": 12,
    "start_time": "2024-02-15T15:52:54.062Z"
   },
   {
    "duration": 824,
    "start_time": "2024-02-15T15:52:54.076Z"
   },
   {
    "duration": 19,
    "start_time": "2024-02-15T15:52:54.902Z"
   },
   {
    "duration": 19,
    "start_time": "2024-02-15T15:52:54.923Z"
   },
   {
    "duration": 100,
    "start_time": "2024-02-15T15:52:54.943Z"
   },
   {
    "duration": 12,
    "start_time": "2024-02-15T15:52:55.045Z"
   },
   {
    "duration": 11,
    "start_time": "2024-02-15T15:52:55.059Z"
   },
   {
    "duration": 119,
    "start_time": "2024-02-15T15:52:55.072Z"
   },
   {
    "duration": 8,
    "start_time": "2024-02-15T15:52:55.192Z"
   },
   {
    "duration": 129,
    "start_time": "2024-02-15T15:52:55.201Z"
   },
   {
    "duration": 104,
    "start_time": "2024-02-15T15:52:55.331Z"
   },
   {
    "duration": 0,
    "start_time": "2024-02-15T15:52:55.437Z"
   },
   {
    "duration": 0,
    "start_time": "2024-02-15T15:52:55.438Z"
   },
   {
    "duration": 0,
    "start_time": "2024-02-15T15:52:55.439Z"
   },
   {
    "duration": 0,
    "start_time": "2024-02-15T15:52:55.440Z"
   },
   {
    "duration": 0,
    "start_time": "2024-02-15T15:52:55.441Z"
   },
   {
    "duration": 0,
    "start_time": "2024-02-15T15:52:55.442Z"
   },
   {
    "duration": 0,
    "start_time": "2024-02-15T15:52:55.444Z"
   },
   {
    "duration": 0,
    "start_time": "2024-02-15T15:52:55.444Z"
   },
   {
    "duration": 1243,
    "start_time": "2024-02-15T15:53:53.767Z"
   },
   {
    "duration": 22,
    "start_time": "2024-02-15T15:53:55.012Z"
   },
   {
    "duration": 14,
    "start_time": "2024-02-15T15:53:55.036Z"
   },
   {
    "duration": 13,
    "start_time": "2024-02-15T15:53:55.053Z"
   },
   {
    "duration": 11,
    "start_time": "2024-02-15T15:53:55.068Z"
   },
   {
    "duration": 5,
    "start_time": "2024-02-15T15:53:55.080Z"
   },
   {
    "duration": 48,
    "start_time": "2024-02-15T15:53:55.086Z"
   },
   {
    "duration": 39,
    "start_time": "2024-02-15T15:53:55.136Z"
   },
   {
    "duration": 41,
    "start_time": "2024-02-15T15:53:55.176Z"
   },
   {
    "duration": 16,
    "start_time": "2024-02-15T15:53:55.220Z"
   },
   {
    "duration": 13,
    "start_time": "2024-02-15T15:53:55.238Z"
   },
   {
    "duration": 5,
    "start_time": "2024-02-15T15:53:55.253Z"
   },
   {
    "duration": 8,
    "start_time": "2024-02-15T15:53:55.260Z"
   },
   {
    "duration": 62,
    "start_time": "2024-02-15T15:53:55.270Z"
   },
   {
    "duration": 4,
    "start_time": "2024-02-15T15:53:55.334Z"
   },
   {
    "duration": 820,
    "start_time": "2024-02-15T15:53:55.339Z"
   },
   {
    "duration": 21,
    "start_time": "2024-02-15T15:53:56.161Z"
   },
   {
    "duration": 9,
    "start_time": "2024-02-15T15:53:56.184Z"
   },
   {
    "duration": 121,
    "start_time": "2024-02-15T15:53:56.195Z"
   },
   {
    "duration": 13,
    "start_time": "2024-02-15T15:53:56.318Z"
   },
   {
    "duration": 14,
    "start_time": "2024-02-15T15:53:56.332Z"
   },
   {
    "duration": 118,
    "start_time": "2024-02-15T15:53:56.347Z"
   },
   {
    "duration": 8,
    "start_time": "2024-02-15T15:53:56.466Z"
   },
   {
    "duration": 118,
    "start_time": "2024-02-15T15:53:56.475Z"
   },
   {
    "duration": 21,
    "start_time": "2024-02-15T15:53:56.595Z"
   },
   {
    "duration": 202,
    "start_time": "2024-02-15T15:53:56.617Z"
   },
   {
    "duration": 0,
    "start_time": "2024-02-15T15:53:56.822Z"
   },
   {
    "duration": 0,
    "start_time": "2024-02-15T15:53:56.823Z"
   },
   {
    "duration": 0,
    "start_time": "2024-02-15T15:53:56.824Z"
   },
   {
    "duration": 0,
    "start_time": "2024-02-15T15:53:56.826Z"
   },
   {
    "duration": 0,
    "start_time": "2024-02-15T15:53:56.828Z"
   },
   {
    "duration": 0,
    "start_time": "2024-02-15T15:53:56.830Z"
   },
   {
    "duration": 0,
    "start_time": "2024-02-15T15:53:56.831Z"
   },
   {
    "duration": 1264,
    "start_time": "2024-02-15T15:55:23.344Z"
   },
   {
    "duration": 22,
    "start_time": "2024-02-15T15:55:24.613Z"
   },
   {
    "duration": 12,
    "start_time": "2024-02-15T15:55:24.636Z"
   },
   {
    "duration": 21,
    "start_time": "2024-02-15T15:55:24.650Z"
   },
   {
    "duration": 8,
    "start_time": "2024-02-15T15:55:24.673Z"
   },
   {
    "duration": 5,
    "start_time": "2024-02-15T15:55:24.683Z"
   },
   {
    "duration": 41,
    "start_time": "2024-02-15T15:55:24.689Z"
   },
   {
    "duration": 36,
    "start_time": "2024-02-15T15:55:24.732Z"
   },
   {
    "duration": 23,
    "start_time": "2024-02-15T15:55:24.769Z"
   },
   {
    "duration": 36,
    "start_time": "2024-02-15T15:55:24.794Z"
   },
   {
    "duration": 18,
    "start_time": "2024-02-15T15:55:24.832Z"
   },
   {
    "duration": 4,
    "start_time": "2024-02-15T15:55:24.851Z"
   },
   {
    "duration": 12,
    "start_time": "2024-02-15T15:55:24.857Z"
   },
   {
    "duration": 50,
    "start_time": "2024-02-15T15:55:24.872Z"
   },
   {
    "duration": 4,
    "start_time": "2024-02-15T15:55:24.924Z"
   },
   {
    "duration": 796,
    "start_time": "2024-02-15T15:55:24.930Z"
   },
   {
    "duration": 15,
    "start_time": "2024-02-15T15:55:25.728Z"
   },
   {
    "duration": 10,
    "start_time": "2024-02-15T15:55:25.746Z"
   },
   {
    "duration": 130,
    "start_time": "2024-02-15T15:55:25.757Z"
   },
   {
    "duration": 25,
    "start_time": "2024-02-15T15:55:25.889Z"
   },
   {
    "duration": 26,
    "start_time": "2024-02-15T15:55:25.916Z"
   },
   {
    "duration": 115,
    "start_time": "2024-02-15T15:55:25.944Z"
   },
   {
    "duration": 8,
    "start_time": "2024-02-15T15:55:26.061Z"
   },
   {
    "duration": 149,
    "start_time": "2024-02-15T15:55:26.070Z"
   },
   {
    "duration": 10,
    "start_time": "2024-02-15T15:55:26.221Z"
   },
   {
    "duration": 8,
    "start_time": "2024-02-15T15:55:26.233Z"
   },
   {
    "duration": 10,
    "start_time": "2024-02-15T15:55:26.242Z"
   },
   {
    "duration": 8087,
    "start_time": "2024-02-15T15:55:26.253Z"
   },
   {
    "duration": 15,
    "start_time": "2024-02-15T15:55:34.341Z"
   },
   {
    "duration": 21,
    "start_time": "2024-02-15T15:55:34.357Z"
   },
   {
    "duration": 226,
    "start_time": "2024-02-15T15:55:34.380Z"
   },
   {
    "duration": 32,
    "start_time": "2024-02-15T15:55:34.607Z"
   },
   {
    "duration": 29,
    "start_time": "2024-02-15T15:55:34.640Z"
   },
   {
    "duration": 18,
    "start_time": "2024-02-15T16:08:33.544Z"
   },
   {
    "duration": 6,
    "start_time": "2024-02-15T16:16:49.584Z"
   },
   {
    "duration": 14,
    "start_time": "2024-02-15T16:39:53.290Z"
   },
   {
    "duration": 21,
    "start_time": "2024-02-15T16:40:32.830Z"
   },
   {
    "duration": 15,
    "start_time": "2024-02-15T16:50:14.767Z"
   },
   {
    "duration": 99,
    "start_time": "2024-02-15T16:50:31.787Z"
   },
   {
    "duration": 17,
    "start_time": "2024-02-15T16:52:02.538Z"
   },
   {
    "duration": 21,
    "start_time": "2024-02-15T16:52:50.358Z"
   },
   {
    "duration": 1620,
    "start_time": "2024-02-16T13:48:34.910Z"
   },
   {
    "duration": 19,
    "start_time": "2024-02-16T13:48:36.533Z"
   },
   {
    "duration": 9,
    "start_time": "2024-02-16T13:48:36.554Z"
   },
   {
    "duration": 28,
    "start_time": "2024-02-16T13:48:36.565Z"
   },
   {
    "duration": 7,
    "start_time": "2024-02-16T13:48:36.595Z"
   },
   {
    "duration": 9,
    "start_time": "2024-02-16T13:48:36.604Z"
   },
   {
    "duration": 22,
    "start_time": "2024-02-16T13:48:36.614Z"
   },
   {
    "duration": 34,
    "start_time": "2024-02-16T13:48:36.637Z"
   },
   {
    "duration": 46,
    "start_time": "2024-02-16T13:48:36.672Z"
   },
   {
    "duration": 16,
    "start_time": "2024-02-16T13:48:36.719Z"
   },
   {
    "duration": 13,
    "start_time": "2024-02-16T13:48:36.737Z"
   },
   {
    "duration": 3,
    "start_time": "2024-02-16T13:48:36.752Z"
   },
   {
    "duration": 23,
    "start_time": "2024-02-16T13:48:36.757Z"
   },
   {
    "duration": 41,
    "start_time": "2024-02-16T13:48:36.782Z"
   },
   {
    "duration": 4,
    "start_time": "2024-02-16T13:48:36.825Z"
   },
   {
    "duration": 785,
    "start_time": "2024-02-16T13:48:36.830Z"
   },
   {
    "duration": 15,
    "start_time": "2024-02-16T13:48:37.617Z"
   },
   {
    "duration": 8,
    "start_time": "2024-02-16T13:48:37.634Z"
   },
   {
    "duration": 110,
    "start_time": "2024-02-16T13:48:37.643Z"
   },
   {
    "duration": 13,
    "start_time": "2024-02-16T13:48:37.755Z"
   },
   {
    "duration": 9,
    "start_time": "2024-02-16T13:48:37.769Z"
   },
   {
    "duration": 119,
    "start_time": "2024-02-16T13:48:37.779Z"
   },
   {
    "duration": 19,
    "start_time": "2024-02-16T13:48:37.899Z"
   },
   {
    "duration": 123,
    "start_time": "2024-02-16T13:48:37.919Z"
   },
   {
    "duration": 10,
    "start_time": "2024-02-16T13:48:38.043Z"
   },
   {
    "duration": 3,
    "start_time": "2024-02-16T13:48:38.055Z"
   },
   {
    "duration": 14,
    "start_time": "2024-02-16T13:48:38.059Z"
   },
   {
    "duration": 8127,
    "start_time": "2024-02-16T13:48:38.074Z"
   },
   {
    "duration": 23,
    "start_time": "2024-02-16T13:48:46.203Z"
   },
   {
    "duration": 5,
    "start_time": "2024-02-16T13:48:46.227Z"
   },
   {
    "duration": 252,
    "start_time": "2024-02-16T13:48:46.233Z"
   },
   {
    "duration": 39,
    "start_time": "2024-02-16T13:48:46.486Z"
   },
   {
    "duration": 14,
    "start_time": "2024-02-16T13:48:46.526Z"
   },
   {
    "duration": 25,
    "start_time": "2024-02-16T13:48:46.541Z"
   },
   {
    "duration": 5,
    "start_time": "2024-02-16T13:48:46.568Z"
   },
   {
    "duration": 45,
    "start_time": "2024-02-16T13:48:46.575Z"
   },
   {
    "duration": 28,
    "start_time": "2024-02-16T14:20:51.402Z"
   },
   {
    "duration": 30,
    "start_time": "2024-02-16T14:21:04.340Z"
   },
   {
    "duration": 19,
    "start_time": "2024-02-16T14:21:15.877Z"
   },
   {
    "duration": 19,
    "start_time": "2024-02-16T14:21:34.140Z"
   },
   {
    "duration": 20,
    "start_time": "2024-02-16T14:21:50.209Z"
   },
   {
    "duration": 21,
    "start_time": "2024-02-16T14:22:02.654Z"
   },
   {
    "duration": 20,
    "start_time": "2024-02-16T14:22:13.619Z"
   },
   {
    "duration": 191,
    "start_time": "2024-02-16T14:23:02.992Z"
   },
   {
    "duration": 219,
    "start_time": "2024-02-16T14:23:12.692Z"
   },
   {
    "duration": 19,
    "start_time": "2024-02-16T14:23:27.312Z"
   },
   {
    "duration": 14,
    "start_time": "2024-02-16T15:10:21.377Z"
   },
   {
    "duration": 7,
    "start_time": "2024-02-16T15:22:23.492Z"
   },
   {
    "duration": 1356,
    "start_time": "2024-02-16T15:22:49.752Z"
   },
   {
    "duration": 8,
    "start_time": "2024-02-16T15:24:46.005Z"
   },
   {
    "duration": 7,
    "start_time": "2024-02-16T15:30:55.178Z"
   },
   {
    "duration": 4,
    "start_time": "2024-02-16T15:33:03.093Z"
   },
   {
    "duration": 18,
    "start_time": "2024-02-16T15:33:24.295Z"
   },
   {
    "duration": 5,
    "start_time": "2024-02-16T15:33:29.001Z"
   },
   {
    "duration": 5,
    "start_time": "2024-02-16T15:33:50.331Z"
   },
   {
    "duration": 6,
    "start_time": "2024-02-16T15:40:21.037Z"
   },
   {
    "duration": 3,
    "start_time": "2024-02-16T15:51:10.138Z"
   },
   {
    "duration": 200,
    "start_time": "2024-02-16T15:59:54.916Z"
   },
   {
    "duration": 192,
    "start_time": "2024-02-16T16:00:38.482Z"
   },
   {
    "duration": 6,
    "start_time": "2024-02-16T16:01:39.458Z"
   },
   {
    "duration": 9,
    "start_time": "2024-02-16T16:02:55.308Z"
   },
   {
    "duration": 736,
    "start_time": "2024-02-16T16:09:35.928Z"
   },
   {
    "duration": 730,
    "start_time": "2024-02-16T16:09:49.393Z"
   },
   {
    "duration": 661,
    "start_time": "2024-02-16T16:09:59.698Z"
   },
   {
    "duration": 636,
    "start_time": "2024-02-16T16:10:05.097Z"
   },
   {
    "duration": 668,
    "start_time": "2024-02-16T16:10:15.586Z"
   },
   {
    "duration": 908,
    "start_time": "2024-02-16T16:10:50.183Z"
   },
   {
    "duration": 15,
    "start_time": "2024-02-16T16:12:17.162Z"
   },
   {
    "duration": 1179,
    "start_time": "2024-02-16T16:13:31.156Z"
   },
   {
    "duration": 66,
    "start_time": "2024-02-16T16:17:34.183Z"
   },
   {
    "duration": 11,
    "start_time": "2024-02-16T16:17:38.139Z"
   },
   {
    "duration": 349,
    "start_time": "2024-02-16T16:18:06.015Z"
   },
   {
    "duration": 266,
    "start_time": "2024-02-16T16:18:41.437Z"
   },
   {
    "duration": 11,
    "start_time": "2024-02-16T16:21:00.590Z"
   },
   {
    "duration": 7,
    "start_time": "2024-02-16T16:21:17.198Z"
   },
   {
    "duration": 13,
    "start_time": "2024-02-16T16:21:22.358Z"
   },
   {
    "duration": 366,
    "start_time": "2024-02-16T16:22:43.257Z"
   },
   {
    "duration": 31,
    "start_time": "2024-02-16T16:23:04.542Z"
   },
   {
    "duration": 164,
    "start_time": "2024-02-16T16:25:26.255Z"
   },
   {
    "duration": 33,
    "start_time": "2024-02-16T16:26:10.331Z"
   },
   {
    "duration": 3783,
    "start_time": "2024-02-16T16:28:52.612Z"
   },
   {
    "duration": 9,
    "start_time": "2024-02-16T16:29:14.690Z"
   },
   {
    "duration": 245,
    "start_time": "2024-02-16T16:29:23.186Z"
   },
   {
    "duration": 115,
    "start_time": "2024-02-16T16:30:42.225Z"
   },
   {
    "duration": 96,
    "start_time": "2024-02-16T16:31:30.131Z"
   },
   {
    "duration": 1242,
    "start_time": "2024-02-16T16:36:59.451Z"
   },
   {
    "duration": 21,
    "start_time": "2024-02-16T16:37:00.695Z"
   },
   {
    "duration": 14,
    "start_time": "2024-02-16T16:37:00.717Z"
   },
   {
    "duration": 30,
    "start_time": "2024-02-16T16:37:00.733Z"
   },
   {
    "duration": 49,
    "start_time": "2024-02-16T16:37:00.764Z"
   },
   {
    "duration": 50,
    "start_time": "2024-02-16T16:37:00.815Z"
   },
   {
    "duration": 60,
    "start_time": "2024-02-16T16:37:00.867Z"
   },
   {
    "duration": 50,
    "start_time": "2024-02-16T16:37:00.928Z"
   },
   {
    "duration": 49,
    "start_time": "2024-02-16T16:37:00.980Z"
   },
   {
    "duration": 62,
    "start_time": "2024-02-16T16:37:01.031Z"
   },
   {
    "duration": 37,
    "start_time": "2024-02-16T16:37:01.094Z"
   },
   {
    "duration": 29,
    "start_time": "2024-02-16T16:37:01.133Z"
   },
   {
    "duration": 41,
    "start_time": "2024-02-16T16:37:01.164Z"
   },
   {
    "duration": 67,
    "start_time": "2024-02-16T16:37:01.207Z"
   },
   {
    "duration": 18,
    "start_time": "2024-02-16T16:37:01.276Z"
   },
   {
    "duration": 821,
    "start_time": "2024-02-16T16:37:01.296Z"
   },
   {
    "duration": 14,
    "start_time": "2024-02-16T16:37:02.119Z"
   },
   {
    "duration": 11,
    "start_time": "2024-02-16T16:37:02.134Z"
   },
   {
    "duration": 106,
    "start_time": "2024-02-16T16:37:02.147Z"
   },
   {
    "duration": 13,
    "start_time": "2024-02-16T16:37:02.255Z"
   },
   {
    "duration": 20,
    "start_time": "2024-02-16T16:37:02.271Z"
   },
   {
    "duration": 140,
    "start_time": "2024-02-16T16:37:02.293Z"
   },
   {
    "duration": 8,
    "start_time": "2024-02-16T16:37:02.434Z"
   },
   {
    "duration": 124,
    "start_time": "2024-02-16T16:37:02.443Z"
   },
   {
    "duration": 11,
    "start_time": "2024-02-16T16:37:02.568Z"
   },
   {
    "duration": 6,
    "start_time": "2024-02-16T16:37:02.581Z"
   },
   {
    "duration": 8,
    "start_time": "2024-02-16T16:37:02.589Z"
   },
   {
    "duration": 7851,
    "start_time": "2024-02-16T16:37:02.600Z"
   },
   {
    "duration": 15,
    "start_time": "2024-02-16T16:37:10.452Z"
   },
   {
    "duration": 3,
    "start_time": "2024-02-16T16:37:10.469Z"
   },
   {
    "duration": 224,
    "start_time": "2024-02-16T16:37:10.473Z"
   },
   {
    "duration": 36,
    "start_time": "2024-02-16T16:37:10.698Z"
   },
   {
    "duration": 13,
    "start_time": "2024-02-16T16:37:10.735Z"
   },
   {
    "duration": 17,
    "start_time": "2024-02-16T16:37:10.749Z"
   },
   {
    "duration": 4,
    "start_time": "2024-02-16T16:37:10.767Z"
   },
   {
    "duration": 46,
    "start_time": "2024-02-16T16:37:10.773Z"
   },
   {
    "duration": 18,
    "start_time": "2024-02-16T16:37:10.820Z"
   },
   {
    "duration": 18,
    "start_time": "2024-02-16T16:37:10.840Z"
   },
   {
    "duration": 19,
    "start_time": "2024-02-16T16:37:10.859Z"
   },
   {
    "duration": 50,
    "start_time": "2024-02-16T16:37:10.879Z"
   },
   {
    "duration": 24,
    "start_time": "2024-02-16T16:37:10.931Z"
   },
   {
    "duration": 18,
    "start_time": "2024-02-16T16:37:10.956Z"
   },
   {
    "duration": 9,
    "start_time": "2024-02-16T16:37:10.975Z"
   },
   {
    "duration": 157,
    "start_time": "2024-02-16T16:37:10.985Z"
   },
   {
    "duration": 104,
    "start_time": "2024-02-16T16:37:11.143Z"
   },
   {
    "duration": 1647,
    "start_time": "2024-02-17T17:21:37.897Z"
   },
   {
    "duration": 25,
    "start_time": "2024-02-17T17:21:39.546Z"
   },
   {
    "duration": 10,
    "start_time": "2024-02-17T17:21:39.572Z"
   },
   {
    "duration": 17,
    "start_time": "2024-02-17T17:21:39.584Z"
   },
   {
    "duration": 13,
    "start_time": "2024-02-17T17:21:39.603Z"
   },
   {
    "duration": 6,
    "start_time": "2024-02-17T17:21:39.618Z"
   },
   {
    "duration": 27,
    "start_time": "2024-02-17T17:21:39.626Z"
   },
   {
    "duration": 53,
    "start_time": "2024-02-17T17:21:39.655Z"
   },
   {
    "duration": 24,
    "start_time": "2024-02-17T17:21:39.709Z"
   },
   {
    "duration": 18,
    "start_time": "2024-02-17T17:21:39.735Z"
   },
   {
    "duration": 37,
    "start_time": "2024-02-17T17:21:39.755Z"
   },
   {
    "duration": 7,
    "start_time": "2024-02-17T17:21:39.794Z"
   },
   {
    "duration": 9,
    "start_time": "2024-02-17T17:21:39.802Z"
   },
   {
    "duration": 31,
    "start_time": "2024-02-17T17:21:39.814Z"
   },
   {
    "duration": 35,
    "start_time": "2024-02-17T17:21:39.847Z"
   },
   {
    "duration": 849,
    "start_time": "2024-02-17T17:21:39.884Z"
   },
   {
    "duration": 15,
    "start_time": "2024-02-17T17:21:40.735Z"
   },
   {
    "duration": 10,
    "start_time": "2024-02-17T17:21:40.752Z"
   },
   {
    "duration": 122,
    "start_time": "2024-02-17T17:21:40.763Z"
   },
   {
    "duration": 14,
    "start_time": "2024-02-17T17:21:40.887Z"
   },
   {
    "duration": 8,
    "start_time": "2024-02-17T17:21:40.903Z"
   },
   {
    "duration": 140,
    "start_time": "2024-02-17T17:21:40.913Z"
   },
   {
    "duration": 9,
    "start_time": "2024-02-17T17:21:41.055Z"
   },
   {
    "duration": 142,
    "start_time": "2024-02-17T17:21:41.065Z"
   },
   {
    "duration": 11,
    "start_time": "2024-02-17T17:21:41.209Z"
   },
   {
    "duration": 14,
    "start_time": "2024-02-17T17:21:41.221Z"
   },
   {
    "duration": 7,
    "start_time": "2024-02-17T17:21:41.236Z"
   },
   {
    "duration": 8889,
    "start_time": "2024-02-17T17:21:41.245Z"
   },
   {
    "duration": 17,
    "start_time": "2024-02-17T17:21:50.135Z"
   },
   {
    "duration": 4,
    "start_time": "2024-02-17T17:21:50.153Z"
   },
   {
    "duration": 250,
    "start_time": "2024-02-17T17:21:50.158Z"
   },
   {
    "duration": 32,
    "start_time": "2024-02-17T17:21:50.410Z"
   },
   {
    "duration": 15,
    "start_time": "2024-02-17T17:21:50.444Z"
   },
   {
    "duration": 37,
    "start_time": "2024-02-17T17:21:50.460Z"
   },
   {
    "duration": 4,
    "start_time": "2024-02-17T17:21:50.499Z"
   },
   {
    "duration": 22,
    "start_time": "2024-02-17T17:21:50.504Z"
   },
   {
    "duration": 18,
    "start_time": "2024-02-17T17:21:50.528Z"
   },
   {
    "duration": 45,
    "start_time": "2024-02-17T17:21:50.548Z"
   },
   {
    "duration": 20,
    "start_time": "2024-02-17T17:21:50.594Z"
   },
   {
    "duration": 27,
    "start_time": "2024-02-17T17:21:50.616Z"
   },
   {
    "duration": 42,
    "start_time": "2024-02-17T17:21:50.648Z"
   },
   {
    "duration": 18,
    "start_time": "2024-02-17T17:21:50.691Z"
   },
   {
    "duration": 13,
    "start_time": "2024-02-17T17:21:50.710Z"
   },
   {
    "duration": 143,
    "start_time": "2024-02-17T17:21:50.724Z"
   },
   {
    "duration": 102,
    "start_time": "2024-02-17T17:21:50.869Z"
   },
   {
    "duration": 1282,
    "start_time": "2024-02-17T20:51:21.568Z"
   },
   {
    "duration": 20,
    "start_time": "2024-02-17T20:51:22.852Z"
   },
   {
    "duration": 9,
    "start_time": "2024-02-17T20:51:22.873Z"
   },
   {
    "duration": 8,
    "start_time": "2024-02-17T20:51:22.884Z"
   },
   {
    "duration": 7,
    "start_time": "2024-02-17T20:51:22.893Z"
   },
   {
    "duration": 4,
    "start_time": "2024-02-17T20:51:22.902Z"
   },
   {
    "duration": 31,
    "start_time": "2024-02-17T20:51:22.907Z"
   },
   {
    "duration": 51,
    "start_time": "2024-02-17T20:51:22.939Z"
   },
   {
    "duration": 23,
    "start_time": "2024-02-17T20:51:22.992Z"
   },
   {
    "duration": 16,
    "start_time": "2024-02-17T20:51:23.017Z"
   },
   {
    "duration": 32,
    "start_time": "2024-02-17T20:51:23.035Z"
   },
   {
    "duration": 4,
    "start_time": "2024-02-17T20:51:23.069Z"
   },
   {
    "duration": 7,
    "start_time": "2024-02-17T20:51:23.074Z"
   },
   {
    "duration": 27,
    "start_time": "2024-02-17T20:51:23.083Z"
   },
   {
    "duration": 4,
    "start_time": "2024-02-17T20:51:23.112Z"
   },
   {
    "duration": 831,
    "start_time": "2024-02-17T20:51:23.118Z"
   },
   {
    "duration": 17,
    "start_time": "2024-02-17T20:51:23.950Z"
   },
   {
    "duration": 21,
    "start_time": "2024-02-17T20:51:23.969Z"
   },
   {
    "duration": 100,
    "start_time": "2024-02-17T20:51:23.991Z"
   },
   {
    "duration": 13,
    "start_time": "2024-02-17T20:51:24.093Z"
   },
   {
    "duration": 8,
    "start_time": "2024-02-17T20:51:24.107Z"
   },
   {
    "duration": 122,
    "start_time": "2024-02-17T20:51:24.116Z"
   },
   {
    "duration": 7,
    "start_time": "2024-02-17T20:51:24.240Z"
   },
   {
    "duration": 124,
    "start_time": "2024-02-17T20:51:24.248Z"
   },
   {
    "duration": 9,
    "start_time": "2024-02-17T20:51:24.374Z"
   },
   {
    "duration": 2,
    "start_time": "2024-02-17T20:51:24.385Z"
   },
   {
    "duration": 9,
    "start_time": "2024-02-17T20:51:24.388Z"
   },
   {
    "duration": 8183,
    "start_time": "2024-02-17T20:51:24.400Z"
   },
   {
    "duration": 14,
    "start_time": "2024-02-17T20:51:32.585Z"
   },
   {
    "duration": 7,
    "start_time": "2024-02-17T20:51:32.600Z"
   },
   {
    "duration": 245,
    "start_time": "2024-02-17T20:51:32.609Z"
   },
   {
    "duration": 35,
    "start_time": "2024-02-17T20:51:32.856Z"
   },
   {
    "duration": 23,
    "start_time": "2024-02-17T20:51:32.893Z"
   },
   {
    "duration": 23,
    "start_time": "2024-02-17T20:51:32.917Z"
   },
   {
    "duration": 6,
    "start_time": "2024-02-17T20:51:32.942Z"
   },
   {
    "duration": 40,
    "start_time": "2024-02-17T20:51:32.950Z"
   },
   {
    "duration": 20,
    "start_time": "2024-02-17T20:51:32.991Z"
   },
   {
    "duration": 19,
    "start_time": "2024-02-17T20:51:33.013Z"
   },
   {
    "duration": 35,
    "start_time": "2024-02-17T20:51:33.033Z"
   },
   {
    "duration": 20,
    "start_time": "2024-02-17T20:51:33.070Z"
   },
   {
    "duration": 29,
    "start_time": "2024-02-17T20:51:33.092Z"
   },
   {
    "duration": 18,
    "start_time": "2024-02-17T20:51:33.123Z"
   },
   {
    "duration": 29,
    "start_time": "2024-02-17T20:51:33.143Z"
   },
   {
    "duration": 146,
    "start_time": "2024-02-17T20:51:33.173Z"
   },
   {
    "duration": 113,
    "start_time": "2024-02-17T20:51:33.320Z"
   },
   {
    "duration": 1725,
    "start_time": "2024-02-19T13:46:24.514Z"
   },
   {
    "duration": 21,
    "start_time": "2024-02-19T13:46:26.242Z"
   },
   {
    "duration": 9,
    "start_time": "2024-02-19T13:46:26.265Z"
   },
   {
    "duration": 12,
    "start_time": "2024-02-19T13:46:26.276Z"
   },
   {
    "duration": 10,
    "start_time": "2024-02-19T13:46:26.290Z"
   },
   {
    "duration": 15,
    "start_time": "2024-02-19T13:46:26.301Z"
   },
   {
    "duration": 24,
    "start_time": "2024-02-19T13:46:26.318Z"
   },
   {
    "duration": 38,
    "start_time": "2024-02-19T13:46:26.344Z"
   },
   {
    "duration": 42,
    "start_time": "2024-02-19T13:46:26.384Z"
   },
   {
    "duration": 18,
    "start_time": "2024-02-19T13:46:26.429Z"
   },
   {
    "duration": 25,
    "start_time": "2024-02-19T13:46:26.448Z"
   },
   {
    "duration": 5,
    "start_time": "2024-02-19T13:46:26.474Z"
   },
   {
    "duration": 17,
    "start_time": "2024-02-19T13:46:26.480Z"
   },
   {
    "duration": 31,
    "start_time": "2024-02-19T13:46:26.498Z"
   },
   {
    "duration": 4,
    "start_time": "2024-02-19T13:46:26.531Z"
   },
   {
    "duration": 874,
    "start_time": "2024-02-19T13:46:26.537Z"
   },
   {
    "duration": 14,
    "start_time": "2024-02-19T13:46:27.413Z"
   },
   {
    "duration": 20,
    "start_time": "2024-02-19T13:46:27.428Z"
   },
   {
    "duration": 130,
    "start_time": "2024-02-19T13:46:27.449Z"
   },
   {
    "duration": 13,
    "start_time": "2024-02-19T13:46:27.581Z"
   },
   {
    "duration": 41,
    "start_time": "2024-02-19T13:46:27.595Z"
   },
   {
    "duration": 118,
    "start_time": "2024-02-19T13:46:27.638Z"
   },
   {
    "duration": 16,
    "start_time": "2024-02-19T13:46:27.758Z"
   },
   {
    "duration": 121,
    "start_time": "2024-02-19T13:46:27.775Z"
   },
   {
    "duration": 10,
    "start_time": "2024-02-19T13:46:27.898Z"
   },
   {
    "duration": 6,
    "start_time": "2024-02-19T13:46:27.910Z"
   },
   {
    "duration": 11,
    "start_time": "2024-02-19T13:46:27.918Z"
   },
   {
    "duration": 8767,
    "start_time": "2024-02-19T13:46:27.932Z"
   },
   {
    "duration": 16,
    "start_time": "2024-02-19T13:46:36.700Z"
   },
   {
    "duration": 23,
    "start_time": "2024-02-19T13:46:36.718Z"
   },
   {
    "duration": 238,
    "start_time": "2024-02-19T13:46:36.743Z"
   },
   {
    "duration": 37,
    "start_time": "2024-02-19T13:46:36.983Z"
   },
   {
    "duration": 19,
    "start_time": "2024-02-19T13:46:37.022Z"
   },
   {
    "duration": 41,
    "start_time": "2024-02-19T13:46:37.042Z"
   },
   {
    "duration": 4,
    "start_time": "2024-02-19T13:46:37.085Z"
   },
   {
    "duration": 29,
    "start_time": "2024-02-19T13:46:37.090Z"
   },
   {
    "duration": 19,
    "start_time": "2024-02-19T13:46:37.121Z"
   },
   {
    "duration": 36,
    "start_time": "2024-02-19T13:46:37.142Z"
   },
   {
    "duration": 20,
    "start_time": "2024-02-19T13:46:37.180Z"
   },
   {
    "duration": 40,
    "start_time": "2024-02-19T13:46:37.201Z"
   },
   {
    "duration": 20,
    "start_time": "2024-02-19T13:46:37.243Z"
   },
   {
    "duration": 26,
    "start_time": "2024-02-19T13:46:37.264Z"
   },
   {
    "duration": 9,
    "start_time": "2024-02-19T13:46:37.292Z"
   },
   {
    "duration": 141,
    "start_time": "2024-02-19T13:46:37.303Z"
   },
   {
    "duration": 108,
    "start_time": "2024-02-19T13:46:37.445Z"
   },
   {
    "duration": 149,
    "start_time": "2024-02-19T13:48:10.381Z"
   },
   {
    "duration": 3,
    "start_time": "2024-02-19T13:48:14.876Z"
   },
   {
    "duration": 13,
    "start_time": "2024-02-19T13:54:10.271Z"
   },
   {
    "duration": 11,
    "start_time": "2024-02-19T13:56:43.405Z"
   },
   {
    "duration": 1221,
    "start_time": "2024-02-19T13:58:00.732Z"
   },
   {
    "duration": 162,
    "start_time": "2024-02-19T13:58:01.955Z"
   },
   {
    "duration": 22,
    "start_time": "2024-02-19T13:58:02.118Z"
   },
   {
    "duration": 29,
    "start_time": "2024-02-19T13:58:02.142Z"
   },
   {
    "duration": 34,
    "start_time": "2024-02-19T13:58:02.173Z"
   },
   {
    "duration": 37,
    "start_time": "2024-02-19T13:58:02.209Z"
   },
   {
    "duration": 26,
    "start_time": "2024-02-19T13:58:02.248Z"
   },
   {
    "duration": 30,
    "start_time": "2024-02-19T13:58:02.276Z"
   },
   {
    "duration": 63,
    "start_time": "2024-02-19T13:58:02.307Z"
   },
   {
    "duration": 57,
    "start_time": "2024-02-19T13:58:02.373Z"
   },
   {
    "duration": 34,
    "start_time": "2024-02-19T13:58:02.431Z"
   },
   {
    "duration": 70,
    "start_time": "2024-02-19T13:58:02.466Z"
   },
   {
    "duration": 49,
    "start_time": "2024-02-19T13:58:02.538Z"
   },
   {
    "duration": 20,
    "start_time": "2024-02-19T13:58:02.588Z"
   },
   {
    "duration": 12,
    "start_time": "2024-02-19T13:58:02.610Z"
   },
   {
    "duration": 36,
    "start_time": "2024-02-19T13:58:02.624Z"
   },
   {
    "duration": 4,
    "start_time": "2024-02-19T13:58:02.662Z"
   },
   {
    "duration": 871,
    "start_time": "2024-02-19T13:58:02.668Z"
   },
   {
    "duration": 15,
    "start_time": "2024-02-19T13:58:03.541Z"
   },
   {
    "duration": 20,
    "start_time": "2024-02-19T13:58:03.572Z"
   },
   {
    "duration": 108,
    "start_time": "2024-02-19T13:58:03.593Z"
   },
   {
    "duration": 13,
    "start_time": "2024-02-19T13:58:03.703Z"
   },
   {
    "duration": 12,
    "start_time": "2024-02-19T13:58:03.718Z"
   },
   {
    "duration": 121,
    "start_time": "2024-02-19T13:58:03.731Z"
   },
   {
    "duration": 20,
    "start_time": "2024-02-19T13:58:03.854Z"
   },
   {
    "duration": 120,
    "start_time": "2024-02-19T13:58:03.876Z"
   },
   {
    "duration": 17,
    "start_time": "2024-02-19T13:58:03.998Z"
   },
   {
    "duration": 14,
    "start_time": "2024-02-19T13:58:04.018Z"
   },
   {
    "duration": 16,
    "start_time": "2024-02-19T13:58:04.034Z"
   },
   {
    "duration": 8675,
    "start_time": "2024-02-19T13:58:04.051Z"
   },
   {
    "duration": 17,
    "start_time": "2024-02-19T13:58:12.728Z"
   },
   {
    "duration": 4,
    "start_time": "2024-02-19T13:58:12.747Z"
   },
   {
    "duration": 260,
    "start_time": "2024-02-19T13:58:12.752Z"
   },
   {
    "duration": 33,
    "start_time": "2024-02-19T13:58:13.013Z"
   },
   {
    "duration": 31,
    "start_time": "2024-02-19T13:58:13.047Z"
   },
   {
    "duration": 19,
    "start_time": "2024-02-19T13:58:13.079Z"
   },
   {
    "duration": 5,
    "start_time": "2024-02-19T13:58:13.099Z"
   },
   {
    "duration": 24,
    "start_time": "2024-02-19T13:58:13.106Z"
   },
   {
    "duration": 46,
    "start_time": "2024-02-19T13:58:13.131Z"
   },
   {
    "duration": 22,
    "start_time": "2024-02-19T13:58:13.179Z"
   },
   {
    "duration": 22,
    "start_time": "2024-02-19T13:58:13.203Z"
   },
   {
    "duration": 48,
    "start_time": "2024-02-19T13:58:13.226Z"
   },
   {
    "duration": 21,
    "start_time": "2024-02-19T13:58:13.276Z"
   },
   {
    "duration": 20,
    "start_time": "2024-02-19T13:58:13.298Z"
   },
   {
    "duration": 11,
    "start_time": "2024-02-19T13:58:13.320Z"
   },
   {
    "duration": 170,
    "start_time": "2024-02-19T13:58:13.332Z"
   },
   {
    "duration": 111,
    "start_time": "2024-02-19T13:58:13.504Z"
   },
   {
    "duration": 36,
    "start_time": "2024-02-19T14:09:33.075Z"
   },
   {
    "duration": 35,
    "start_time": "2024-02-19T14:09:43.908Z"
   },
   {
    "duration": 35,
    "start_time": "2024-02-19T14:09:58.522Z"
   },
   {
    "duration": 34,
    "start_time": "2024-02-19T14:10:55.483Z"
   },
   {
    "duration": 105,
    "start_time": "2024-02-19T14:11:22.454Z"
   },
   {
    "duration": 32,
    "start_time": "2024-02-19T14:11:47.822Z"
   },
   {
    "duration": 44,
    "start_time": "2024-02-19T14:13:37.034Z"
   },
   {
    "duration": 36,
    "start_time": "2024-02-19T14:13:58.489Z"
   },
   {
    "duration": 22,
    "start_time": "2024-02-19T14:14:05.410Z"
   },
   {
    "duration": 32,
    "start_time": "2024-02-19T14:14:10.593Z"
   },
   {
    "duration": 1163,
    "start_time": "2024-02-19T14:16:14.168Z"
   },
   {
    "duration": 153,
    "start_time": "2024-02-19T14:16:15.333Z"
   },
   {
    "duration": 21,
    "start_time": "2024-02-19T14:16:15.488Z"
   },
   {
    "duration": 11,
    "start_time": "2024-02-19T14:16:15.510Z"
   },
   {
    "duration": 11,
    "start_time": "2024-02-19T14:16:15.523Z"
   },
   {
    "duration": 14,
    "start_time": "2024-02-19T14:16:15.536Z"
   },
   {
    "duration": 25,
    "start_time": "2024-02-19T14:16:15.552Z"
   },
   {
    "duration": 5,
    "start_time": "2024-02-19T14:16:15.578Z"
   },
   {
    "duration": 33,
    "start_time": "2024-02-19T14:16:15.585Z"
   },
   {
    "duration": 32,
    "start_time": "2024-02-19T14:16:15.619Z"
   },
   {
    "duration": 38,
    "start_time": "2024-02-19T14:16:15.653Z"
   },
   {
    "duration": 16,
    "start_time": "2024-02-19T14:16:15.693Z"
   },
   {
    "duration": 13,
    "start_time": "2024-02-19T14:16:15.710Z"
   },
   {
    "duration": 8,
    "start_time": "2024-02-19T14:16:15.725Z"
   },
   {
    "duration": 23,
    "start_time": "2024-02-19T14:16:15.734Z"
   },
   {
    "duration": 44,
    "start_time": "2024-02-19T14:16:15.758Z"
   },
   {
    "duration": 5,
    "start_time": "2024-02-19T14:16:15.803Z"
   },
   {
    "duration": 849,
    "start_time": "2024-02-19T14:16:15.809Z"
   },
   {
    "duration": 19,
    "start_time": "2024-02-19T14:16:16.660Z"
   },
   {
    "duration": 10,
    "start_time": "2024-02-19T14:16:16.680Z"
   },
   {
    "duration": 115,
    "start_time": "2024-02-19T14:16:16.691Z"
   },
   {
    "duration": 13,
    "start_time": "2024-02-19T14:16:16.808Z"
   },
   {
    "duration": 16,
    "start_time": "2024-02-19T14:16:16.823Z"
   },
   {
    "duration": 124,
    "start_time": "2024-02-19T14:16:16.840Z"
   },
   {
    "duration": 13,
    "start_time": "2024-02-19T14:16:16.966Z"
   },
   {
    "duration": 153,
    "start_time": "2024-02-19T14:16:16.980Z"
   },
   {
    "duration": 10,
    "start_time": "2024-02-19T14:16:17.134Z"
   },
   {
    "duration": 10,
    "start_time": "2024-02-19T14:16:17.146Z"
   },
   {
    "duration": 15,
    "start_time": "2024-02-19T14:16:17.158Z"
   },
   {
    "duration": 8554,
    "start_time": "2024-02-19T14:16:17.175Z"
   },
   {
    "duration": 15,
    "start_time": "2024-02-19T14:16:25.731Z"
   },
   {
    "duration": 12,
    "start_time": "2024-02-19T14:16:25.747Z"
   },
   {
    "duration": 234,
    "start_time": "2024-02-19T14:16:25.760Z"
   },
   {
    "duration": 31,
    "start_time": "2024-02-19T14:16:25.995Z"
   },
   {
    "duration": 14,
    "start_time": "2024-02-19T14:16:26.028Z"
   },
   {
    "duration": 43,
    "start_time": "2024-02-19T14:16:26.043Z"
   },
   {
    "duration": 5,
    "start_time": "2024-02-19T14:16:26.087Z"
   },
   {
    "duration": 29,
    "start_time": "2024-02-19T14:16:26.093Z"
   },
   {
    "duration": 25,
    "start_time": "2024-02-19T14:16:26.124Z"
   },
   {
    "duration": 39,
    "start_time": "2024-02-19T14:16:26.150Z"
   },
   {
    "duration": 20,
    "start_time": "2024-02-19T14:16:26.193Z"
   },
   {
    "duration": 18,
    "start_time": "2024-02-19T14:16:26.214Z"
   },
   {
    "duration": 43,
    "start_time": "2024-02-19T14:16:26.234Z"
   },
   {
    "duration": 18,
    "start_time": "2024-02-19T14:16:26.279Z"
   },
   {
    "duration": 18,
    "start_time": "2024-02-19T14:16:26.299Z"
   },
   {
    "duration": 139,
    "start_time": "2024-02-19T14:16:26.318Z"
   },
   {
    "duration": 107,
    "start_time": "2024-02-19T14:16:26.458Z"
   },
   {
    "duration": 38,
    "start_time": "2024-02-19T15:13:37.417Z"
   },
   {
    "duration": 35,
    "start_time": "2024-02-19T15:14:00.219Z"
   },
   {
    "duration": 6,
    "start_time": "2024-02-19T15:14:47.638Z"
   },
   {
    "duration": 5,
    "start_time": "2024-02-19T15:15:33.236Z"
   },
   {
    "duration": 4,
    "start_time": "2024-02-19T15:16:34.350Z"
   },
   {
    "duration": 7,
    "start_time": "2024-02-19T15:17:06.059Z"
   },
   {
    "duration": 1202,
    "start_time": "2024-02-19T15:18:23.966Z"
   },
   {
    "duration": 159,
    "start_time": "2024-02-19T15:18:25.169Z"
   },
   {
    "duration": 21,
    "start_time": "2024-02-19T15:18:25.330Z"
   },
   {
    "duration": 10,
    "start_time": "2024-02-19T15:18:25.352Z"
   },
   {
    "duration": 17,
    "start_time": "2024-02-19T15:18:25.364Z"
   },
   {
    "duration": 12,
    "start_time": "2024-02-19T15:18:25.382Z"
   },
   {
    "duration": 8,
    "start_time": "2024-02-19T15:18:25.396Z"
   },
   {
    "duration": 6,
    "start_time": "2024-02-19T15:18:25.405Z"
   },
   {
    "duration": 24,
    "start_time": "2024-02-19T15:18:25.413Z"
   },
   {
    "duration": 50,
    "start_time": "2024-02-19T15:18:25.440Z"
   },
   {
    "duration": 24,
    "start_time": "2024-02-19T15:18:25.491Z"
   },
   {
    "duration": 16,
    "start_time": "2024-02-19T15:18:25.517Z"
   },
   {
    "duration": 13,
    "start_time": "2024-02-19T15:18:25.535Z"
   },
   {
    "duration": 5,
    "start_time": "2024-02-19T15:18:25.573Z"
   },
   {
    "duration": 16,
    "start_time": "2024-02-19T15:18:25.580Z"
   },
   {
    "duration": 10,
    "start_time": "2024-02-19T15:18:25.598Z"
   },
   {
    "duration": 5,
    "start_time": "2024-02-19T15:18:25.609Z"
   },
   {
    "duration": 15,
    "start_time": "2024-02-19T15:18:25.616Z"
   },
   {
    "duration": 8,
    "start_time": "2024-02-19T15:18:25.633Z"
   },
   {
    "duration": 48,
    "start_time": "2024-02-19T15:18:25.642Z"
   },
   {
    "duration": 842,
    "start_time": "2024-02-19T15:18:25.691Z"
   },
   {
    "duration": 14,
    "start_time": "2024-02-19T15:18:26.534Z"
   },
   {
    "duration": 23,
    "start_time": "2024-02-19T15:18:26.550Z"
   },
   {
    "duration": 103,
    "start_time": "2024-02-19T15:18:26.575Z"
   },
   {
    "duration": 13,
    "start_time": "2024-02-19T15:18:26.680Z"
   },
   {
    "duration": 11,
    "start_time": "2024-02-19T15:18:26.694Z"
   },
   {
    "duration": 127,
    "start_time": "2024-02-19T15:18:26.707Z"
   },
   {
    "duration": 8,
    "start_time": "2024-02-19T15:18:26.837Z"
   },
   {
    "duration": 139,
    "start_time": "2024-02-19T15:18:26.847Z"
   },
   {
    "duration": 13,
    "start_time": "2024-02-19T15:18:26.987Z"
   },
   {
    "duration": 2,
    "start_time": "2024-02-19T15:18:27.002Z"
   },
   {
    "duration": 18,
    "start_time": "2024-02-19T15:18:27.006Z"
   },
   {
    "duration": 8738,
    "start_time": "2024-02-19T15:18:27.026Z"
   },
   {
    "duration": 16,
    "start_time": "2024-02-19T15:18:35.773Z"
   },
   {
    "duration": 11,
    "start_time": "2024-02-19T15:18:35.791Z"
   },
   {
    "duration": 239,
    "start_time": "2024-02-19T15:18:35.803Z"
   },
   {
    "duration": 45,
    "start_time": "2024-02-19T15:18:36.043Z"
   },
   {
    "duration": 15,
    "start_time": "2024-02-19T15:18:36.089Z"
   },
   {
    "duration": 25,
    "start_time": "2024-02-19T15:18:36.106Z"
   },
   {
    "duration": 24,
    "start_time": "2024-02-19T15:18:36.132Z"
   },
   {
    "duration": 26,
    "start_time": "2024-02-19T15:18:36.158Z"
   },
   {
    "duration": 20,
    "start_time": "2024-02-19T15:18:36.185Z"
   },
   {
    "duration": 21,
    "start_time": "2024-02-19T15:18:36.206Z"
   },
   {
    "duration": 22,
    "start_time": "2024-02-19T15:18:36.229Z"
   },
   {
    "duration": 39,
    "start_time": "2024-02-19T15:18:36.252Z"
   },
   {
    "duration": 21,
    "start_time": "2024-02-19T15:18:36.292Z"
   },
   {
    "duration": 19,
    "start_time": "2024-02-19T15:18:36.314Z"
   },
   {
    "duration": 20,
    "start_time": "2024-02-19T15:18:36.334Z"
   },
   {
    "duration": 137,
    "start_time": "2024-02-19T15:18:36.372Z"
   },
   {
    "duration": 123,
    "start_time": "2024-02-19T15:18:36.511Z"
   },
   {
    "duration": 131,
    "start_time": "2024-02-19T15:44:11.014Z"
   },
   {
    "duration": 34,
    "start_time": "2024-02-19T15:44:27.118Z"
   },
   {
    "duration": 773,
    "start_time": "2024-02-19T15:44:46.617Z"
   },
   {
    "duration": 6,
    "start_time": "2024-02-19T15:45:15.450Z"
   },
   {
    "duration": 49,
    "start_time": "2024-02-19T15:46:18.710Z"
   },
   {
    "duration": 29,
    "start_time": "2024-02-19T15:46:42.196Z"
   },
   {
    "duration": 28,
    "start_time": "2024-02-19T15:46:44.887Z"
   },
   {
    "duration": 51,
    "start_time": "2024-02-19T15:46:48.742Z"
   },
   {
    "duration": 45,
    "start_time": "2024-02-19T15:47:18.266Z"
   },
   {
    "duration": 45,
    "start_time": "2024-02-19T15:47:21.058Z"
   },
   {
    "duration": 45,
    "start_time": "2024-02-19T15:47:59.457Z"
   },
   {
    "duration": 123,
    "start_time": "2024-02-19T15:48:12.628Z"
   },
   {
    "duration": 4,
    "start_time": "2024-02-19T15:48:29.997Z"
   },
   {
    "duration": 5,
    "start_time": "2024-02-19T15:48:35.697Z"
   },
   {
    "duration": 32,
    "start_time": "2024-02-19T15:48:48.829Z"
   },
   {
    "duration": 29,
    "start_time": "2024-02-19T15:48:51.769Z"
   },
   {
    "duration": 4,
    "start_time": "2024-02-19T15:48:55.557Z"
   },
   {
    "duration": 7,
    "start_time": "2024-02-19T15:48:58.389Z"
   },
   {
    "duration": 4,
    "start_time": "2024-02-19T15:49:02.246Z"
   },
   {
    "duration": 4,
    "start_time": "2024-02-19T15:49:04.565Z"
   },
   {
    "duration": 5,
    "start_time": "2024-02-19T15:49:07.028Z"
   },
   {
    "duration": 34,
    "start_time": "2024-02-19T15:49:54.758Z"
   },
   {
    "duration": 5,
    "start_time": "2024-02-19T15:50:11.940Z"
   },
   {
    "duration": 37,
    "start_time": "2024-02-19T15:50:34.883Z"
   },
   {
    "duration": 24,
    "start_time": "2024-02-19T15:50:47.185Z"
   },
   {
    "duration": 27,
    "start_time": "2024-02-19T15:50:49.928Z"
   },
   {
    "duration": 22,
    "start_time": "2024-02-19T15:50:54.634Z"
   },
   {
    "duration": 5,
    "start_time": "2024-02-19T15:50:58.569Z"
   },
   {
    "duration": 8,
    "start_time": "2024-02-19T15:51:00.919Z"
   },
   {
    "duration": 6,
    "start_time": "2024-02-19T15:51:03.253Z"
   },
   {
    "duration": 5,
    "start_time": "2024-02-19T15:51:06.089Z"
   },
   {
    "duration": 10,
    "start_time": "2024-02-19T15:51:08.169Z"
   },
   {
    "duration": 45,
    "start_time": "2024-02-19T15:51:52.817Z"
   },
   {
    "duration": 7,
    "start_time": "2024-02-19T15:52:21.782Z"
   },
   {
    "duration": 44,
    "start_time": "2024-02-19T15:52:51.469Z"
   },
   {
    "duration": 24,
    "start_time": "2024-02-19T15:53:13.224Z"
   },
   {
    "duration": 32,
    "start_time": "2024-02-19T15:53:20.584Z"
   },
   {
    "duration": 36,
    "start_time": "2024-02-19T15:53:40.678Z"
   },
   {
    "duration": 1190,
    "start_time": "2024-02-19T15:53:54.511Z"
   },
   {
    "duration": 161,
    "start_time": "2024-02-19T15:53:55.703Z"
   },
   {
    "duration": 26,
    "start_time": "2024-02-19T15:53:55.866Z"
   },
   {
    "duration": 12,
    "start_time": "2024-02-19T15:53:55.894Z"
   },
   {
    "duration": 21,
    "start_time": "2024-02-19T15:53:55.908Z"
   },
   {
    "duration": 16,
    "start_time": "2024-02-19T15:53:55.931Z"
   },
   {
    "duration": 17,
    "start_time": "2024-02-19T15:53:55.949Z"
   },
   {
    "duration": 11,
    "start_time": "2024-02-19T15:53:55.967Z"
   },
   {
    "duration": 23,
    "start_time": "2024-02-19T15:53:55.980Z"
   },
   {
    "duration": 29,
    "start_time": "2024-02-19T15:53:56.005Z"
   },
   {
    "duration": 40,
    "start_time": "2024-02-19T15:53:56.036Z"
   },
   {
    "duration": 23,
    "start_time": "2024-02-19T15:53:56.079Z"
   },
   {
    "duration": 21,
    "start_time": "2024-02-19T15:53:56.104Z"
   },
   {
    "duration": 11,
    "start_time": "2024-02-19T15:53:56.126Z"
   },
   {
    "duration": 10,
    "start_time": "2024-02-19T15:53:56.139Z"
   },
   {
    "duration": 6,
    "start_time": "2024-02-19T15:53:56.150Z"
   },
   {
    "duration": 7,
    "start_time": "2024-02-19T15:53:56.173Z"
   },
   {
    "duration": 9,
    "start_time": "2024-02-19T15:53:56.182Z"
   },
   {
    "duration": 29,
    "start_time": "2024-02-19T15:53:56.193Z"
   },
   {
    "duration": 21,
    "start_time": "2024-02-19T15:53:56.223Z"
   },
   {
    "duration": 905,
    "start_time": "2024-02-19T15:53:56.245Z"
   },
   {
    "duration": 13,
    "start_time": "2024-02-19T15:53:57.152Z"
   },
   {
    "duration": 10,
    "start_time": "2024-02-19T15:53:57.166Z"
   },
   {
    "duration": 104,
    "start_time": "2024-02-19T15:53:57.178Z"
   },
   {
    "duration": 13,
    "start_time": "2024-02-19T15:53:57.284Z"
   },
   {
    "duration": 8,
    "start_time": "2024-02-19T15:53:57.298Z"
   },
   {
    "duration": 128,
    "start_time": "2024-02-19T15:53:57.308Z"
   },
   {
    "duration": 8,
    "start_time": "2024-02-19T15:53:57.439Z"
   },
   {
    "duration": 128,
    "start_time": "2024-02-19T15:53:57.449Z"
   },
   {
    "duration": 11,
    "start_time": "2024-02-19T15:53:57.579Z"
   },
   {
    "duration": 2,
    "start_time": "2024-02-19T15:53:57.592Z"
   },
   {
    "duration": 5,
    "start_time": "2024-02-19T15:53:57.596Z"
   },
   {
    "duration": 211,
    "start_time": "2024-02-19T15:53:57.603Z"
   },
   {
    "duration": 0,
    "start_time": "2024-02-19T15:53:57.815Z"
   },
   {
    "duration": 0,
    "start_time": "2024-02-19T15:53:57.816Z"
   },
   {
    "duration": 0,
    "start_time": "2024-02-19T15:53:57.818Z"
   },
   {
    "duration": 0,
    "start_time": "2024-02-19T15:53:57.819Z"
   },
   {
    "duration": 0,
    "start_time": "2024-02-19T15:53:57.820Z"
   },
   {
    "duration": 0,
    "start_time": "2024-02-19T15:53:57.821Z"
   },
   {
    "duration": 0,
    "start_time": "2024-02-19T15:53:57.823Z"
   },
   {
    "duration": 0,
    "start_time": "2024-02-19T15:53:57.824Z"
   },
   {
    "duration": 0,
    "start_time": "2024-02-19T15:53:57.825Z"
   },
   {
    "duration": 0,
    "start_time": "2024-02-19T15:53:57.826Z"
   },
   {
    "duration": 0,
    "start_time": "2024-02-19T15:53:57.827Z"
   },
   {
    "duration": 0,
    "start_time": "2024-02-19T15:53:57.829Z"
   },
   {
    "duration": 0,
    "start_time": "2024-02-19T15:53:57.830Z"
   },
   {
    "duration": 0,
    "start_time": "2024-02-19T15:53:57.832Z"
   },
   {
    "duration": 0,
    "start_time": "2024-02-19T15:53:57.833Z"
   },
   {
    "duration": 0,
    "start_time": "2024-02-19T15:53:57.834Z"
   },
   {
    "duration": 0,
    "start_time": "2024-02-19T15:53:57.835Z"
   },
   {
    "duration": 35,
    "start_time": "2024-02-19T15:55:01.385Z"
   },
   {
    "duration": 1169,
    "start_time": "2024-02-19T15:55:17.011Z"
   },
   {
    "duration": 155,
    "start_time": "2024-02-19T15:55:18.183Z"
   },
   {
    "duration": 21,
    "start_time": "2024-02-19T15:55:18.339Z"
   },
   {
    "duration": 10,
    "start_time": "2024-02-19T15:55:18.362Z"
   },
   {
    "duration": 18,
    "start_time": "2024-02-19T15:55:18.374Z"
   },
   {
    "duration": 19,
    "start_time": "2024-02-19T15:55:18.393Z"
   },
   {
    "duration": 18,
    "start_time": "2024-02-19T15:55:18.413Z"
   },
   {
    "duration": 7,
    "start_time": "2024-02-19T15:55:18.432Z"
   },
   {
    "duration": 25,
    "start_time": "2024-02-19T15:55:18.440Z"
   },
   {
    "duration": 37,
    "start_time": "2024-02-19T15:55:18.472Z"
   },
   {
    "duration": 23,
    "start_time": "2024-02-19T15:55:18.511Z"
   },
   {
    "duration": 37,
    "start_time": "2024-02-19T15:55:18.536Z"
   },
   {
    "duration": 17,
    "start_time": "2024-02-19T15:55:18.576Z"
   },
   {
    "duration": 6,
    "start_time": "2024-02-19T15:55:18.595Z"
   },
   {
    "duration": 8,
    "start_time": "2024-02-19T15:55:18.602Z"
   },
   {
    "duration": 12,
    "start_time": "2024-02-19T15:55:18.612Z"
   },
   {
    "duration": 11,
    "start_time": "2024-02-19T15:55:18.625Z"
   },
   {
    "duration": 16,
    "start_time": "2024-02-19T15:55:18.637Z"
   },
   {
    "duration": 51,
    "start_time": "2024-02-19T15:55:18.655Z"
   },
   {
    "duration": 20,
    "start_time": "2024-02-19T15:55:18.707Z"
   },
   {
    "duration": 883,
    "start_time": "2024-02-19T15:55:18.728Z"
   },
   {
    "duration": 16,
    "start_time": "2024-02-19T15:55:19.613Z"
   },
   {
    "duration": 23,
    "start_time": "2024-02-19T15:55:19.630Z"
   },
   {
    "duration": 120,
    "start_time": "2024-02-19T15:55:19.655Z"
   },
   {
    "duration": 14,
    "start_time": "2024-02-19T15:55:19.777Z"
   },
   {
    "duration": 15,
    "start_time": "2024-02-19T15:55:19.792Z"
   },
   {
    "duration": 133,
    "start_time": "2024-02-19T15:55:19.808Z"
   },
   {
    "duration": 7,
    "start_time": "2024-02-19T15:55:19.944Z"
   },
   {
    "duration": 133,
    "start_time": "2024-02-19T15:55:19.953Z"
   },
   {
    "duration": 16,
    "start_time": "2024-02-19T15:55:20.088Z"
   },
   {
    "duration": 3,
    "start_time": "2024-02-19T15:55:20.106Z"
   },
   {
    "duration": 10,
    "start_time": "2024-02-19T15:55:20.111Z"
   },
   {
    "duration": 9040,
    "start_time": "2024-02-19T15:55:20.123Z"
   },
   {
    "duration": 28,
    "start_time": "2024-02-19T15:55:29.165Z"
   },
   {
    "duration": 4,
    "start_time": "2024-02-19T15:55:29.195Z"
   },
   {
    "duration": 261,
    "start_time": "2024-02-19T15:55:29.200Z"
   },
   {
    "duration": 37,
    "start_time": "2024-02-19T15:55:29.463Z"
   },
   {
    "duration": 13,
    "start_time": "2024-02-19T15:55:29.501Z"
   },
   {
    "duration": 19,
    "start_time": "2024-02-19T15:55:29.516Z"
   },
   {
    "duration": 4,
    "start_time": "2024-02-19T15:55:29.537Z"
   },
   {
    "duration": 51,
    "start_time": "2024-02-19T15:55:29.543Z"
   },
   {
    "duration": 19,
    "start_time": "2024-02-19T15:55:29.595Z"
   },
   {
    "duration": 19,
    "start_time": "2024-02-19T15:55:29.616Z"
   },
   {
    "duration": 48,
    "start_time": "2024-02-19T15:55:29.637Z"
   },
   {
    "duration": 19,
    "start_time": "2024-02-19T15:55:29.688Z"
   },
   {
    "duration": 19,
    "start_time": "2024-02-19T15:55:29.708Z"
   },
   {
    "duration": 19,
    "start_time": "2024-02-19T15:55:29.728Z"
   },
   {
    "duration": 34,
    "start_time": "2024-02-19T15:55:29.748Z"
   },
   {
    "duration": 151,
    "start_time": "2024-02-19T15:55:29.784Z"
   },
   {
    "duration": 120,
    "start_time": "2024-02-19T15:55:29.937Z"
   },
   {
    "duration": 32,
    "start_time": "2024-02-19T15:56:35.196Z"
   },
   {
    "duration": 48,
    "start_time": "2024-02-19T15:56:37.358Z"
   },
   {
    "duration": 140,
    "start_time": "2024-02-19T15:57:02.447Z"
   },
   {
    "duration": 29,
    "start_time": "2024-02-19T15:57:10.089Z"
   },
   {
    "duration": 39,
    "start_time": "2024-02-19T15:59:50.895Z"
   },
   {
    "duration": 36,
    "start_time": "2024-02-19T16:00:05.233Z"
   },
   {
    "duration": 47,
    "start_time": "2024-02-19T16:00:07.762Z"
   },
   {
    "duration": 28,
    "start_time": "2024-02-19T16:00:23.530Z"
   },
   {
    "duration": 5,
    "start_time": "2024-02-19T16:00:36.262Z"
   },
   {
    "duration": 1178,
    "start_time": "2024-02-19T16:00:44.240Z"
   },
   {
    "duration": 152,
    "start_time": "2024-02-19T16:00:45.419Z"
   },
   {
    "duration": 20,
    "start_time": "2024-02-19T16:00:45.575Z"
   },
   {
    "duration": 10,
    "start_time": "2024-02-19T16:00:45.596Z"
   },
   {
    "duration": 12,
    "start_time": "2024-02-19T16:00:45.607Z"
   },
   {
    "duration": 11,
    "start_time": "2024-02-19T16:00:45.621Z"
   },
   {
    "duration": 12,
    "start_time": "2024-02-19T16:00:45.634Z"
   },
   {
    "duration": 26,
    "start_time": "2024-02-19T16:00:45.647Z"
   },
   {
    "duration": 23,
    "start_time": "2024-02-19T16:00:45.676Z"
   },
   {
    "duration": 32,
    "start_time": "2024-02-19T16:00:45.701Z"
   },
   {
    "duration": 45,
    "start_time": "2024-02-19T16:00:45.735Z"
   },
   {
    "duration": 18,
    "start_time": "2024-02-19T16:00:45.782Z"
   },
   {
    "duration": 33,
    "start_time": "2024-02-19T16:00:45.802Z"
   },
   {
    "duration": 12,
    "start_time": "2024-02-19T16:00:45.837Z"
   },
   {
    "duration": 18,
    "start_time": "2024-02-19T16:00:45.851Z"
   },
   {
    "duration": 14,
    "start_time": "2024-02-19T16:00:45.871Z"
   },
   {
    "duration": 21,
    "start_time": "2024-02-19T16:00:45.887Z"
   },
   {
    "duration": 25,
    "start_time": "2024-02-19T16:00:45.910Z"
   },
   {
    "duration": 33,
    "start_time": "2024-02-19T16:00:45.936Z"
   },
   {
    "duration": 43,
    "start_time": "2024-02-19T16:00:45.971Z"
   },
   {
    "duration": 845,
    "start_time": "2024-02-19T16:00:46.016Z"
   },
   {
    "duration": 21,
    "start_time": "2024-02-19T16:00:46.864Z"
   },
   {
    "duration": 37,
    "start_time": "2024-02-19T16:00:46.887Z"
   },
   {
    "duration": 136,
    "start_time": "2024-02-19T16:00:46.925Z"
   },
   {
    "duration": 25,
    "start_time": "2024-02-19T16:00:47.062Z"
   },
   {
    "duration": 23,
    "start_time": "2024-02-19T16:00:47.088Z"
   },
   {
    "duration": 142,
    "start_time": "2024-02-19T16:00:47.114Z"
   },
   {
    "duration": 15,
    "start_time": "2024-02-19T16:00:47.258Z"
   },
   {
    "duration": 127,
    "start_time": "2024-02-19T16:00:47.275Z"
   },
   {
    "duration": 11,
    "start_time": "2024-02-19T16:00:47.404Z"
   },
   {
    "duration": 30,
    "start_time": "2024-02-19T16:00:47.416Z"
   },
   {
    "duration": 15,
    "start_time": "2024-02-19T16:00:47.448Z"
   },
   {
    "duration": 8703,
    "start_time": "2024-02-19T16:00:47.464Z"
   },
   {
    "duration": 16,
    "start_time": "2024-02-19T16:00:56.169Z"
   },
   {
    "duration": 6,
    "start_time": "2024-02-19T16:00:56.187Z"
   },
   {
    "duration": 248,
    "start_time": "2024-02-19T16:00:56.195Z"
   },
   {
    "duration": 43,
    "start_time": "2024-02-19T16:00:56.444Z"
   },
   {
    "duration": 14,
    "start_time": "2024-02-19T16:00:56.488Z"
   },
   {
    "duration": 40,
    "start_time": "2024-02-19T16:00:56.504Z"
   },
   {
    "duration": 10,
    "start_time": "2024-02-19T16:00:56.545Z"
   },
   {
    "duration": 29,
    "start_time": "2024-02-19T16:00:56.557Z"
   },
   {
    "duration": 30,
    "start_time": "2024-02-19T16:00:56.588Z"
   },
   {
    "duration": 22,
    "start_time": "2024-02-19T16:00:56.619Z"
   },
   {
    "duration": 25,
    "start_time": "2024-02-19T16:00:56.642Z"
   },
   {
    "duration": 25,
    "start_time": "2024-02-19T16:00:56.669Z"
   },
   {
    "duration": 64,
    "start_time": "2024-02-19T16:00:56.695Z"
   },
   {
    "duration": 18,
    "start_time": "2024-02-19T16:00:56.761Z"
   },
   {
    "duration": 16,
    "start_time": "2024-02-19T16:00:56.781Z"
   },
   {
    "duration": 147,
    "start_time": "2024-02-19T16:00:56.798Z"
   },
   {
    "duration": 108,
    "start_time": "2024-02-19T16:00:56.947Z"
   },
   {
    "duration": 35,
    "start_time": "2024-02-19T16:07:00.472Z"
   },
   {
    "duration": 39,
    "start_time": "2024-02-19T16:07:07.844Z"
   },
   {
    "duration": 27,
    "start_time": "2024-02-19T16:10:18.415Z"
   },
   {
    "duration": 38,
    "start_time": "2024-02-19T16:10:20.473Z"
   },
   {
    "duration": 30,
    "start_time": "2024-02-19T16:10:29.240Z"
   },
   {
    "duration": 38,
    "start_time": "2024-02-19T16:10:31.415Z"
   },
   {
    "duration": 1141,
    "start_time": "2024-02-19T16:10:45.109Z"
   },
   {
    "duration": 166,
    "start_time": "2024-02-19T16:10:46.252Z"
   },
   {
    "duration": 24,
    "start_time": "2024-02-19T16:10:46.420Z"
   },
   {
    "duration": 12,
    "start_time": "2024-02-19T16:10:46.446Z"
   },
   {
    "duration": 23,
    "start_time": "2024-02-19T16:10:46.460Z"
   },
   {
    "duration": 38,
    "start_time": "2024-02-19T16:10:46.485Z"
   },
   {
    "duration": 21,
    "start_time": "2024-02-19T16:10:46.525Z"
   },
   {
    "duration": 16,
    "start_time": "2024-02-19T16:10:46.548Z"
   },
   {
    "duration": 31,
    "start_time": "2024-02-19T16:10:46.566Z"
   },
   {
    "duration": 37,
    "start_time": "2024-02-19T16:10:46.600Z"
   },
   {
    "duration": 35,
    "start_time": "2024-02-19T16:10:46.639Z"
   },
   {
    "duration": 19,
    "start_time": "2024-02-19T16:10:46.677Z"
   },
   {
    "duration": 15,
    "start_time": "2024-02-19T16:10:46.698Z"
   },
   {
    "duration": 15,
    "start_time": "2024-02-19T16:10:46.715Z"
   },
   {
    "duration": 9,
    "start_time": "2024-02-19T16:10:46.731Z"
   },
   {
    "duration": 49,
    "start_time": "2024-02-19T16:10:46.742Z"
   },
   {
    "duration": 19,
    "start_time": "2024-02-19T16:10:46.793Z"
   },
   {
    "duration": 16,
    "start_time": "2024-02-19T16:10:46.813Z"
   },
   {
    "duration": 32,
    "start_time": "2024-02-19T16:10:46.830Z"
   },
   {
    "duration": 26,
    "start_time": "2024-02-19T16:10:46.864Z"
   },
   {
    "duration": 867,
    "start_time": "2024-02-19T16:10:46.891Z"
   },
   {
    "duration": 20,
    "start_time": "2024-02-19T16:10:47.759Z"
   },
   {
    "duration": 24,
    "start_time": "2024-02-19T16:10:47.780Z"
   },
   {
    "duration": 124,
    "start_time": "2024-02-19T16:10:47.806Z"
   },
   {
    "duration": 13,
    "start_time": "2024-02-19T16:10:47.931Z"
   },
   {
    "duration": 21,
    "start_time": "2024-02-19T16:10:47.946Z"
   },
   {
    "duration": 126,
    "start_time": "2024-02-19T16:10:47.972Z"
   },
   {
    "duration": 8,
    "start_time": "2024-02-19T16:10:48.102Z"
   },
   {
    "duration": 132,
    "start_time": "2024-02-19T16:10:48.112Z"
   },
   {
    "duration": 11,
    "start_time": "2024-02-19T16:10:48.246Z"
   },
   {
    "duration": 14,
    "start_time": "2024-02-19T16:10:48.259Z"
   },
   {
    "duration": 15,
    "start_time": "2024-02-19T16:10:48.275Z"
   },
   {
    "duration": 8763,
    "start_time": "2024-02-19T16:10:48.291Z"
   },
   {
    "duration": 26,
    "start_time": "2024-02-19T16:10:57.056Z"
   },
   {
    "duration": 4,
    "start_time": "2024-02-19T16:10:57.085Z"
   },
   {
    "duration": 230,
    "start_time": "2024-02-19T16:10:57.091Z"
   },
   {
    "duration": 33,
    "start_time": "2024-02-19T16:10:57.323Z"
   },
   {
    "duration": 26,
    "start_time": "2024-02-19T16:10:57.358Z"
   },
   {
    "duration": 18,
    "start_time": "2024-02-19T16:10:57.386Z"
   },
   {
    "duration": 4,
    "start_time": "2024-02-19T16:10:57.406Z"
   },
   {
    "duration": 29,
    "start_time": "2024-02-19T16:10:57.412Z"
   },
   {
    "duration": 41,
    "start_time": "2024-02-19T16:10:57.442Z"
   },
   {
    "duration": 19,
    "start_time": "2024-02-19T16:10:57.485Z"
   },
   {
    "duration": 19,
    "start_time": "2024-02-19T16:10:57.505Z"
   },
   {
    "duration": 19,
    "start_time": "2024-02-19T16:10:57.525Z"
   },
   {
    "duration": 43,
    "start_time": "2024-02-19T16:10:57.545Z"
   },
   {
    "duration": 18,
    "start_time": "2024-02-19T16:10:57.589Z"
   },
   {
    "duration": 16,
    "start_time": "2024-02-19T16:10:57.609Z"
   },
   {
    "duration": 150,
    "start_time": "2024-02-19T16:10:57.626Z"
   },
   {
    "duration": 108,
    "start_time": "2024-02-19T16:10:57.778Z"
   },
   {
    "duration": 31,
    "start_time": "2024-02-19T16:21:26.602Z"
   },
   {
    "duration": 39,
    "start_time": "2024-02-19T16:21:36.876Z"
   },
   {
    "duration": 27,
    "start_time": "2024-02-19T16:21:53.532Z"
   },
   {
    "duration": 41,
    "start_time": "2024-02-19T16:21:55.929Z"
   },
   {
    "duration": 35,
    "start_time": "2024-02-19T16:22:10.569Z"
   },
   {
    "duration": 40,
    "start_time": "2024-02-19T16:22:12.902Z"
   },
   {
    "duration": 127,
    "start_time": "2024-02-19T16:22:29.812Z"
   },
   {
    "duration": 42,
    "start_time": "2024-02-19T16:22:38.024Z"
   },
   {
    "duration": 29,
    "start_time": "2024-02-19T16:22:43.124Z"
   },
   {
    "duration": 38,
    "start_time": "2024-02-19T16:22:45.427Z"
   },
   {
    "duration": 1163,
    "start_time": "2024-02-19T16:23:07.323Z"
   },
   {
    "duration": 154,
    "start_time": "2024-02-19T16:23:08.488Z"
   },
   {
    "duration": 21,
    "start_time": "2024-02-19T16:23:08.643Z"
   },
   {
    "duration": 11,
    "start_time": "2024-02-19T16:23:08.666Z"
   },
   {
    "duration": 22,
    "start_time": "2024-02-19T16:23:08.678Z"
   },
   {
    "duration": 8,
    "start_time": "2024-02-19T16:23:08.702Z"
   },
   {
    "duration": 10,
    "start_time": "2024-02-19T16:23:08.711Z"
   },
   {
    "duration": 5,
    "start_time": "2024-02-19T16:23:08.723Z"
   },
   {
    "duration": 24,
    "start_time": "2024-02-19T16:23:08.730Z"
   },
   {
    "duration": 39,
    "start_time": "2024-02-19T16:23:08.756Z"
   },
   {
    "duration": 24,
    "start_time": "2024-02-19T16:23:08.797Z"
   },
   {
    "duration": 18,
    "start_time": "2024-02-19T16:23:08.822Z"
   },
   {
    "duration": 38,
    "start_time": "2024-02-19T16:23:08.842Z"
   },
   {
    "duration": 5,
    "start_time": "2024-02-19T16:23:08.881Z"
   },
   {
    "duration": 13,
    "start_time": "2024-02-19T16:23:08.887Z"
   },
   {
    "duration": 5,
    "start_time": "2024-02-19T16:23:08.901Z"
   },
   {
    "duration": 5,
    "start_time": "2024-02-19T16:23:08.907Z"
   },
   {
    "duration": 9,
    "start_time": "2024-02-19T16:23:08.913Z"
   },
   {
    "duration": 61,
    "start_time": "2024-02-19T16:23:08.923Z"
   },
   {
    "duration": 33,
    "start_time": "2024-02-19T16:23:08.986Z"
   },
   {
    "duration": 853,
    "start_time": "2024-02-19T16:23:09.021Z"
   },
   {
    "duration": 14,
    "start_time": "2024-02-19T16:23:09.876Z"
   },
   {
    "duration": 34,
    "start_time": "2024-02-19T16:23:09.892Z"
   },
   {
    "duration": 105,
    "start_time": "2024-02-19T16:23:09.928Z"
   },
   {
    "duration": 13,
    "start_time": "2024-02-19T16:23:10.035Z"
   },
   {
    "duration": 22,
    "start_time": "2024-02-19T16:23:10.050Z"
   },
   {
    "duration": 135,
    "start_time": "2024-02-19T16:23:10.073Z"
   },
   {
    "duration": 8,
    "start_time": "2024-02-19T16:23:10.211Z"
   },
   {
    "duration": 143,
    "start_time": "2024-02-19T16:23:10.221Z"
   },
   {
    "duration": 16,
    "start_time": "2024-02-19T16:23:10.365Z"
   },
   {
    "duration": 2,
    "start_time": "2024-02-19T16:23:10.383Z"
   },
   {
    "duration": 24,
    "start_time": "2024-02-19T16:23:10.387Z"
   },
   {
    "duration": 8551,
    "start_time": "2024-02-19T16:23:10.413Z"
   },
   {
    "duration": 16,
    "start_time": "2024-02-19T16:23:18.973Z"
   },
   {
    "duration": 4,
    "start_time": "2024-02-19T16:23:18.991Z"
   },
   {
    "duration": 243,
    "start_time": "2024-02-19T16:23:18.997Z"
   },
   {
    "duration": 43,
    "start_time": "2024-02-19T16:23:19.242Z"
   },
   {
    "duration": 14,
    "start_time": "2024-02-19T16:23:19.287Z"
   },
   {
    "duration": 22,
    "start_time": "2024-02-19T16:23:19.302Z"
   },
   {
    "duration": 4,
    "start_time": "2024-02-19T16:23:19.326Z"
   },
   {
    "duration": 45,
    "start_time": "2024-02-19T16:23:19.331Z"
   },
   {
    "duration": 19,
    "start_time": "2024-02-19T16:23:19.378Z"
   },
   {
    "duration": 19,
    "start_time": "2024-02-19T16:23:19.399Z"
   },
   {
    "duration": 19,
    "start_time": "2024-02-19T16:23:19.420Z"
   },
   {
    "duration": 47,
    "start_time": "2024-02-19T16:23:19.441Z"
   },
   {
    "duration": 20,
    "start_time": "2024-02-19T16:23:19.490Z"
   },
   {
    "duration": 19,
    "start_time": "2024-02-19T16:23:19.511Z"
   },
   {
    "duration": 11,
    "start_time": "2024-02-19T16:23:19.532Z"
   },
   {
    "duration": 162,
    "start_time": "2024-02-19T16:23:19.545Z"
   },
   {
    "duration": 117,
    "start_time": "2024-02-19T16:23:19.709Z"
   },
   {
    "duration": 1181,
    "start_time": "2024-02-19T16:29:41.818Z"
   },
   {
    "duration": 156,
    "start_time": "2024-02-19T16:29:43.001Z"
   },
   {
    "duration": 20,
    "start_time": "2024-02-19T16:29:43.158Z"
   },
   {
    "duration": 10,
    "start_time": "2024-02-19T16:29:43.180Z"
   },
   {
    "duration": 12,
    "start_time": "2024-02-19T16:29:43.191Z"
   },
   {
    "duration": 9,
    "start_time": "2024-02-19T16:29:43.204Z"
   },
   {
    "duration": 10,
    "start_time": "2024-02-19T16:29:43.214Z"
   },
   {
    "duration": 9,
    "start_time": "2024-02-19T16:29:43.225Z"
   },
   {
    "duration": 45,
    "start_time": "2024-02-19T16:29:43.236Z"
   },
   {
    "duration": 32,
    "start_time": "2024-02-19T16:29:43.285Z"
   },
   {
    "duration": 26,
    "start_time": "2024-02-19T16:29:43.319Z"
   },
   {
    "duration": 40,
    "start_time": "2024-02-19T16:29:43.347Z"
   },
   {
    "duration": 15,
    "start_time": "2024-02-19T16:29:43.388Z"
   },
   {
    "duration": 5,
    "start_time": "2024-02-19T16:29:43.405Z"
   },
   {
    "duration": 13,
    "start_time": "2024-02-19T16:29:43.411Z"
   },
   {
    "duration": 5,
    "start_time": "2024-02-19T16:29:43.426Z"
   },
   {
    "duration": 4,
    "start_time": "2024-02-19T16:29:43.432Z"
   },
   {
    "duration": 44,
    "start_time": "2024-02-19T16:29:43.438Z"
   },
   {
    "duration": 41,
    "start_time": "2024-02-19T16:29:43.484Z"
   },
   {
    "duration": 23,
    "start_time": "2024-02-19T16:29:43.526Z"
   },
   {
    "duration": 907,
    "start_time": "2024-02-19T16:29:43.551Z"
   },
   {
    "duration": 19,
    "start_time": "2024-02-19T16:29:44.460Z"
   },
   {
    "duration": 20,
    "start_time": "2024-02-19T16:29:44.481Z"
   },
   {
    "duration": 106,
    "start_time": "2024-02-19T16:29:44.503Z"
   },
   {
    "duration": 14,
    "start_time": "2024-02-19T16:29:44.610Z"
   },
   {
    "duration": 10,
    "start_time": "2024-02-19T16:29:44.625Z"
   },
   {
    "duration": 126,
    "start_time": "2024-02-19T16:29:44.636Z"
   },
   {
    "duration": 8,
    "start_time": "2024-02-19T16:29:44.773Z"
   },
   {
    "duration": 128,
    "start_time": "2024-02-19T16:29:44.782Z"
   },
   {
    "duration": 10,
    "start_time": "2024-02-19T16:29:44.912Z"
   },
   {
    "duration": 2,
    "start_time": "2024-02-19T16:29:44.924Z"
   },
   {
    "duration": 10,
    "start_time": "2024-02-19T16:29:44.927Z"
   },
   {
    "duration": 140,
    "start_time": "2024-02-19T16:29:44.939Z"
   },
   {
    "duration": 0,
    "start_time": "2024-02-19T16:29:45.081Z"
   },
   {
    "duration": 0,
    "start_time": "2024-02-19T16:29:45.082Z"
   },
   {
    "duration": 0,
    "start_time": "2024-02-19T16:29:45.083Z"
   },
   {
    "duration": 1,
    "start_time": "2024-02-19T16:29:45.084Z"
   },
   {
    "duration": 0,
    "start_time": "2024-02-19T16:29:45.086Z"
   },
   {
    "duration": 0,
    "start_time": "2024-02-19T16:29:45.087Z"
   },
   {
    "duration": 0,
    "start_time": "2024-02-19T16:29:45.087Z"
   },
   {
    "duration": 0,
    "start_time": "2024-02-19T16:29:45.088Z"
   },
   {
    "duration": 0,
    "start_time": "2024-02-19T16:29:45.089Z"
   },
   {
    "duration": 0,
    "start_time": "2024-02-19T16:29:45.090Z"
   },
   {
    "duration": 0,
    "start_time": "2024-02-19T16:29:45.092Z"
   },
   {
    "duration": 0,
    "start_time": "2024-02-19T16:29:45.093Z"
   },
   {
    "duration": 0,
    "start_time": "2024-02-19T16:29:45.094Z"
   },
   {
    "duration": 0,
    "start_time": "2024-02-19T16:29:45.095Z"
   },
   {
    "duration": 0,
    "start_time": "2024-02-19T16:29:45.096Z"
   },
   {
    "duration": 0,
    "start_time": "2024-02-19T16:29:45.097Z"
   },
   {
    "duration": 0,
    "start_time": "2024-02-19T16:29:45.098Z"
   },
   {
    "duration": 628,
    "start_time": "2024-02-19T16:31:25.684Z"
   },
   {
    "duration": 10,
    "start_time": "2024-02-19T16:34:11.643Z"
   },
   {
    "duration": 81,
    "start_time": "2024-02-19T16:34:24.085Z"
   },
   {
    "duration": 1196,
    "start_time": "2024-02-19T16:34:38.648Z"
   },
   {
    "duration": 152,
    "start_time": "2024-02-19T16:34:39.846Z"
   },
   {
    "duration": 20,
    "start_time": "2024-02-19T16:34:40.000Z"
   },
   {
    "duration": 23,
    "start_time": "2024-02-19T16:34:40.022Z"
   },
   {
    "duration": 18,
    "start_time": "2024-02-19T16:34:40.047Z"
   },
   {
    "duration": 17,
    "start_time": "2024-02-19T16:34:40.067Z"
   },
   {
    "duration": 26,
    "start_time": "2024-02-19T16:34:40.086Z"
   },
   {
    "duration": 5,
    "start_time": "2024-02-19T16:34:40.114Z"
   },
   {
    "duration": 36,
    "start_time": "2024-02-19T16:34:40.121Z"
   },
   {
    "duration": 31,
    "start_time": "2024-02-19T16:34:40.159Z"
   },
   {
    "duration": 23,
    "start_time": "2024-02-19T16:34:40.192Z"
   },
   {
    "duration": 16,
    "start_time": "2024-02-19T16:34:40.217Z"
   },
   {
    "duration": 13,
    "start_time": "2024-02-19T16:34:40.235Z"
   },
   {
    "duration": 27,
    "start_time": "2024-02-19T16:34:40.249Z"
   },
   {
    "duration": 23,
    "start_time": "2024-02-19T16:34:40.277Z"
   },
   {
    "duration": 24,
    "start_time": "2024-02-19T16:34:40.301Z"
   },
   {
    "duration": 16,
    "start_time": "2024-02-19T16:34:40.327Z"
   },
   {
    "duration": 11,
    "start_time": "2024-02-19T16:34:40.344Z"
   },
   {
    "duration": 46,
    "start_time": "2024-02-19T16:34:40.357Z"
   },
   {
    "duration": 22,
    "start_time": "2024-02-19T16:34:40.405Z"
   },
   {
    "duration": 851,
    "start_time": "2024-02-19T16:34:40.428Z"
   },
   {
    "duration": 16,
    "start_time": "2024-02-19T16:34:41.281Z"
   },
   {
    "duration": 9,
    "start_time": "2024-02-19T16:34:41.299Z"
   },
   {
    "duration": 120,
    "start_time": "2024-02-19T16:34:41.309Z"
   },
   {
    "duration": 15,
    "start_time": "2024-02-19T16:34:41.430Z"
   },
   {
    "duration": 7,
    "start_time": "2024-02-19T16:34:41.446Z"
   },
   {
    "duration": 133,
    "start_time": "2024-02-19T16:34:41.454Z"
   },
   {
    "duration": 8,
    "start_time": "2024-02-19T16:34:41.591Z"
   },
   {
    "duration": 131,
    "start_time": "2024-02-19T16:34:41.600Z"
   },
   {
    "duration": 11,
    "start_time": "2024-02-19T16:34:41.733Z"
   },
   {
    "duration": 2,
    "start_time": "2024-02-19T16:34:41.746Z"
   },
   {
    "duration": 23,
    "start_time": "2024-02-19T16:34:41.750Z"
   },
   {
    "duration": 8720,
    "start_time": "2024-02-19T16:34:41.774Z"
   },
   {
    "duration": 17,
    "start_time": "2024-02-19T16:34:50.496Z"
   },
   {
    "duration": 5,
    "start_time": "2024-02-19T16:34:50.514Z"
   },
   {
    "duration": 245,
    "start_time": "2024-02-19T16:34:50.520Z"
   },
   {
    "duration": 37,
    "start_time": "2024-02-19T16:34:50.767Z"
   },
   {
    "duration": 13,
    "start_time": "2024-02-19T16:34:50.805Z"
   },
   {
    "duration": 24,
    "start_time": "2024-02-19T16:34:50.820Z"
   },
   {
    "duration": 5,
    "start_time": "2024-02-19T16:34:50.846Z"
   },
   {
    "duration": 23,
    "start_time": "2024-02-19T16:34:50.873Z"
   },
   {
    "duration": 35,
    "start_time": "2024-02-19T16:34:50.897Z"
   },
   {
    "duration": 19,
    "start_time": "2024-02-19T16:34:50.934Z"
   },
   {
    "duration": 32,
    "start_time": "2024-02-19T16:34:50.954Z"
   },
   {
    "duration": 18,
    "start_time": "2024-02-19T16:34:50.987Z"
   },
   {
    "duration": 20,
    "start_time": "2024-02-19T16:34:51.006Z"
   },
   {
    "duration": 20,
    "start_time": "2024-02-19T16:34:51.027Z"
   },
   {
    "duration": 10,
    "start_time": "2024-02-19T16:34:51.072Z"
   },
   {
    "duration": 139,
    "start_time": "2024-02-19T16:34:51.083Z"
   },
   {
    "duration": 179,
    "start_time": "2024-02-19T16:34:51.224Z"
   },
   {
    "duration": 1331,
    "start_time": "2024-02-20T13:57:39.497Z"
   },
   {
    "duration": 289,
    "start_time": "2024-02-20T13:57:40.831Z"
   },
   {
    "duration": 18,
    "start_time": "2024-02-20T13:57:41.122Z"
   },
   {
    "duration": 17,
    "start_time": "2024-02-20T13:57:41.142Z"
   },
   {
    "duration": 48,
    "start_time": "2024-02-20T13:57:41.161Z"
   },
   {
    "duration": 32,
    "start_time": "2024-02-20T13:57:41.211Z"
   },
   {
    "duration": 37,
    "start_time": "2024-02-20T13:57:41.245Z"
   },
   {
    "duration": 24,
    "start_time": "2024-02-20T13:57:41.283Z"
   },
   {
    "duration": 38,
    "start_time": "2024-02-20T13:57:41.308Z"
   },
   {
    "duration": 38,
    "start_time": "2024-02-20T13:57:41.348Z"
   },
   {
    "duration": 28,
    "start_time": "2024-02-20T13:57:41.388Z"
   },
   {
    "duration": 16,
    "start_time": "2024-02-20T13:57:41.417Z"
   },
   {
    "duration": 63,
    "start_time": "2024-02-20T13:57:41.434Z"
   },
   {
    "duration": 18,
    "start_time": "2024-02-20T13:57:41.498Z"
   },
   {
    "duration": 25,
    "start_time": "2024-02-20T13:57:41.518Z"
   },
   {
    "duration": 38,
    "start_time": "2024-02-20T13:57:41.545Z"
   },
   {
    "duration": 19,
    "start_time": "2024-02-20T13:57:41.584Z"
   },
   {
    "duration": 8,
    "start_time": "2024-02-20T13:57:41.604Z"
   },
   {
    "duration": 29,
    "start_time": "2024-02-20T13:57:41.614Z"
   },
   {
    "duration": 21,
    "start_time": "2024-02-20T13:57:41.645Z"
   },
   {
    "duration": 745,
    "start_time": "2024-02-20T13:57:41.667Z"
   },
   {
    "duration": 20,
    "start_time": "2024-02-20T13:57:42.414Z"
   },
   {
    "duration": 12,
    "start_time": "2024-02-20T13:57:42.436Z"
   },
   {
    "duration": 101,
    "start_time": "2024-02-20T13:57:42.450Z"
   },
   {
    "duration": 13,
    "start_time": "2024-02-20T13:57:42.552Z"
   },
   {
    "duration": 10,
    "start_time": "2024-02-20T13:57:42.566Z"
   },
   {
    "duration": 117,
    "start_time": "2024-02-20T13:57:42.577Z"
   },
   {
    "duration": 7,
    "start_time": "2024-02-20T13:57:42.697Z"
   },
   {
    "duration": 113,
    "start_time": "2024-02-20T13:57:42.706Z"
   },
   {
    "duration": 11,
    "start_time": "2024-02-20T13:57:42.834Z"
   },
   {
    "duration": 2,
    "start_time": "2024-02-20T13:57:42.847Z"
   },
   {
    "duration": 6,
    "start_time": "2024-02-20T13:57:42.851Z"
   },
   {
    "duration": 8101,
    "start_time": "2024-02-20T13:57:42.858Z"
   },
   {
    "duration": 14,
    "start_time": "2024-02-20T13:57:50.961Z"
   },
   {
    "duration": 16,
    "start_time": "2024-02-20T13:57:50.977Z"
   },
   {
    "duration": 242,
    "start_time": "2024-02-20T13:57:50.994Z"
   },
   {
    "duration": 28,
    "start_time": "2024-02-20T13:57:51.238Z"
   },
   {
    "duration": 20,
    "start_time": "2024-02-20T13:57:51.268Z"
   },
   {
    "duration": 46,
    "start_time": "2024-02-20T13:57:51.289Z"
   },
   {
    "duration": 6,
    "start_time": "2024-02-20T13:57:51.337Z"
   },
   {
    "duration": 45,
    "start_time": "2024-02-20T13:57:51.344Z"
   },
   {
    "duration": 43,
    "start_time": "2024-02-20T13:57:51.390Z"
   },
   {
    "duration": 35,
    "start_time": "2024-02-20T13:57:51.434Z"
   },
   {
    "duration": 20,
    "start_time": "2024-02-20T13:57:51.471Z"
   },
   {
    "duration": 33,
    "start_time": "2024-02-20T13:57:51.493Z"
   },
   {
    "duration": 32,
    "start_time": "2024-02-20T13:57:51.527Z"
   },
   {
    "duration": 20,
    "start_time": "2024-02-20T13:57:51.560Z"
   },
   {
    "duration": 39,
    "start_time": "2024-02-20T13:57:51.581Z"
   },
   {
    "duration": 164,
    "start_time": "2024-02-20T13:57:51.621Z"
   },
   {
    "duration": 189,
    "start_time": "2024-02-20T13:57:51.787Z"
   },
   {
    "duration": 204,
    "start_time": "2024-02-20T14:11:35.517Z"
   },
   {
    "duration": 10,
    "start_time": "2024-02-20T14:12:23.640Z"
   },
   {
    "duration": 92,
    "start_time": "2024-02-20T14:12:36.500Z"
   },
   {
    "duration": 95,
    "start_time": "2024-02-20T14:13:49.426Z"
   },
   {
    "duration": 4,
    "start_time": "2024-02-20T14:28:44.918Z"
   },
   {
    "duration": 103,
    "start_time": "2024-02-20T14:29:02.387Z"
   },
   {
    "duration": 95,
    "start_time": "2024-02-20T14:32:38.310Z"
   },
   {
    "duration": 92,
    "start_time": "2024-02-20T14:33:41.435Z"
   },
   {
    "duration": 93,
    "start_time": "2024-02-20T14:33:50.979Z"
   },
   {
    "duration": 108,
    "start_time": "2024-02-20T14:35:43.820Z"
   },
   {
    "duration": 120,
    "start_time": "2024-02-20T14:36:03.900Z"
   },
   {
    "duration": 107,
    "start_time": "2024-02-20T14:36:28.011Z"
   },
   {
    "duration": 98,
    "start_time": "2024-02-20T14:37:26.664Z"
   },
   {
    "duration": 107,
    "start_time": "2024-02-20T14:38:24.234Z"
   },
   {
    "duration": 111,
    "start_time": "2024-02-20T14:46:45.014Z"
   },
   {
    "duration": 72,
    "start_time": "2024-02-20T14:46:50.035Z"
   },
   {
    "duration": 75,
    "start_time": "2024-02-20T14:46:58.702Z"
   },
   {
    "duration": 9,
    "start_time": "2024-02-20T14:47:04.708Z"
   },
   {
    "duration": 132,
    "start_time": "2024-02-20T14:52:57.214Z"
   },
   {
    "duration": 14,
    "start_time": "2024-02-20T15:35:18.306Z"
   },
   {
    "duration": 10,
    "start_time": "2024-02-20T15:38:19.483Z"
   },
   {
    "duration": 10,
    "start_time": "2024-02-20T15:44:16.535Z"
   },
   {
    "duration": 9,
    "start_time": "2024-02-20T15:47:23.086Z"
   },
   {
    "duration": 90,
    "start_time": "2024-02-20T15:50:52.871Z"
   },
   {
    "duration": 11,
    "start_time": "2024-02-20T15:51:10.689Z"
   },
   {
    "duration": 24,
    "start_time": "2024-02-20T16:11:19.804Z"
   },
   {
    "duration": 16,
    "start_time": "2024-02-20T16:11:42.825Z"
   },
   {
    "duration": 12,
    "start_time": "2024-02-20T16:12:28.154Z"
   },
   {
    "duration": 19,
    "start_time": "2024-02-20T16:12:38.195Z"
   },
   {
    "duration": 1082,
    "start_time": "2024-02-20T16:14:45.840Z"
   },
   {
    "duration": 144,
    "start_time": "2024-02-20T16:14:46.923Z"
   },
   {
    "duration": 18,
    "start_time": "2024-02-20T16:14:47.069Z"
   },
   {
    "duration": 9,
    "start_time": "2024-02-20T16:14:47.089Z"
   },
   {
    "duration": 10,
    "start_time": "2024-02-20T16:14:47.100Z"
   },
   {
    "duration": 25,
    "start_time": "2024-02-20T16:14:47.111Z"
   },
   {
    "duration": 10,
    "start_time": "2024-02-20T16:14:47.137Z"
   },
   {
    "duration": 5,
    "start_time": "2024-02-20T16:14:47.148Z"
   },
   {
    "duration": 19,
    "start_time": "2024-02-20T16:14:47.154Z"
   },
   {
    "duration": 29,
    "start_time": "2024-02-20T16:14:47.175Z"
   },
   {
    "duration": 41,
    "start_time": "2024-02-20T16:14:47.206Z"
   },
   {
    "duration": 15,
    "start_time": "2024-02-20T16:14:47.249Z"
   },
   {
    "duration": 12,
    "start_time": "2024-02-20T16:14:47.266Z"
   },
   {
    "duration": 4,
    "start_time": "2024-02-20T16:14:47.279Z"
   },
   {
    "duration": 25,
    "start_time": "2024-02-20T16:14:47.284Z"
   },
   {
    "duration": 12,
    "start_time": "2024-02-20T16:14:47.310Z"
   },
   {
    "duration": 21,
    "start_time": "2024-02-20T16:14:47.323Z"
   },
   {
    "duration": 17,
    "start_time": "2024-02-20T16:14:47.345Z"
   },
   {
    "duration": 29,
    "start_time": "2024-02-20T16:14:47.363Z"
   },
   {
    "duration": 20,
    "start_time": "2024-02-20T16:14:47.394Z"
   },
   {
    "duration": 785,
    "start_time": "2024-02-20T16:14:47.415Z"
   },
   {
    "duration": 15,
    "start_time": "2024-02-20T16:14:48.202Z"
   },
   {
    "duration": 19,
    "start_time": "2024-02-20T16:14:48.219Z"
   },
   {
    "duration": 103,
    "start_time": "2024-02-20T16:14:48.239Z"
   },
   {
    "duration": 13,
    "start_time": "2024-02-20T16:14:48.344Z"
   },
   {
    "duration": 11,
    "start_time": "2024-02-20T16:14:48.358Z"
   },
   {
    "duration": 118,
    "start_time": "2024-02-20T16:14:48.370Z"
   },
   {
    "duration": 7,
    "start_time": "2024-02-20T16:14:48.491Z"
   },
   {
    "duration": 179,
    "start_time": "2024-02-20T16:14:48.499Z"
   },
   {
    "duration": 223,
    "start_time": "2024-02-20T16:14:48.680Z"
   },
   {
    "duration": 0,
    "start_time": "2024-02-20T16:14:48.905Z"
   },
   {
    "duration": 0,
    "start_time": "2024-02-20T16:14:48.907Z"
   },
   {
    "duration": 0,
    "start_time": "2024-02-20T16:14:48.908Z"
   },
   {
    "duration": 0,
    "start_time": "2024-02-20T16:14:48.909Z"
   },
   {
    "duration": 0,
    "start_time": "2024-02-20T16:14:48.911Z"
   },
   {
    "duration": 0,
    "start_time": "2024-02-20T16:14:48.912Z"
   },
   {
    "duration": 0,
    "start_time": "2024-02-20T16:14:48.933Z"
   },
   {
    "duration": 0,
    "start_time": "2024-02-20T16:14:48.935Z"
   },
   {
    "duration": 0,
    "start_time": "2024-02-20T16:14:48.937Z"
   },
   {
    "duration": 0,
    "start_time": "2024-02-20T16:14:48.938Z"
   },
   {
    "duration": 0,
    "start_time": "2024-02-20T16:14:48.939Z"
   },
   {
    "duration": 0,
    "start_time": "2024-02-20T16:14:48.941Z"
   },
   {
    "duration": 0,
    "start_time": "2024-02-20T16:14:48.942Z"
   },
   {
    "duration": 0,
    "start_time": "2024-02-20T16:14:48.944Z"
   },
   {
    "duration": 0,
    "start_time": "2024-02-20T16:14:48.945Z"
   },
   {
    "duration": 0,
    "start_time": "2024-02-20T16:14:48.947Z"
   },
   {
    "duration": 0,
    "start_time": "2024-02-20T16:14:48.948Z"
   },
   {
    "duration": 0,
    "start_time": "2024-02-20T16:14:48.949Z"
   },
   {
    "duration": 0,
    "start_time": "2024-02-20T16:14:48.950Z"
   },
   {
    "duration": 0,
    "start_time": "2024-02-20T16:14:48.951Z"
   },
   {
    "duration": 117,
    "start_time": "2024-02-20T16:23:06.036Z"
   },
   {
    "duration": 6,
    "start_time": "2024-02-20T16:24:47.189Z"
   },
   {
    "duration": 3,
    "start_time": "2024-02-20T16:28:51.388Z"
   },
   {
    "duration": 1043,
    "start_time": "2024-02-20T16:28:58.686Z"
   },
   {
    "duration": 143,
    "start_time": "2024-02-20T16:28:59.731Z"
   },
   {
    "duration": 20,
    "start_time": "2024-02-20T16:28:59.877Z"
   },
   {
    "duration": 9,
    "start_time": "2024-02-20T16:28:59.899Z"
   },
   {
    "duration": 14,
    "start_time": "2024-02-20T16:28:59.910Z"
   },
   {
    "duration": 15,
    "start_time": "2024-02-20T16:28:59.925Z"
   },
   {
    "duration": 15,
    "start_time": "2024-02-20T16:28:59.941Z"
   },
   {
    "duration": 6,
    "start_time": "2024-02-20T16:28:59.957Z"
   },
   {
    "duration": 21,
    "start_time": "2024-02-20T16:28:59.965Z"
   },
   {
    "duration": 51,
    "start_time": "2024-02-20T16:28:59.987Z"
   },
   {
    "duration": 23,
    "start_time": "2024-02-20T16:29:00.039Z"
   },
   {
    "duration": 63,
    "start_time": "2024-02-20T16:29:00.063Z"
   },
   {
    "duration": 43,
    "start_time": "2024-02-20T16:29:00.127Z"
   },
   {
    "duration": 25,
    "start_time": "2024-02-20T16:29:00.172Z"
   },
   {
    "duration": 34,
    "start_time": "2024-02-20T16:29:00.198Z"
   },
   {
    "duration": 27,
    "start_time": "2024-02-20T16:29:00.233Z"
   },
   {
    "duration": 43,
    "start_time": "2024-02-20T16:29:00.261Z"
   },
   {
    "duration": 30,
    "start_time": "2024-02-20T16:29:00.306Z"
   },
   {
    "duration": 45,
    "start_time": "2024-02-20T16:29:00.337Z"
   },
   {
    "duration": 27,
    "start_time": "2024-02-20T16:29:00.383Z"
   },
   {
    "duration": 805,
    "start_time": "2024-02-20T16:29:00.411Z"
   },
   {
    "duration": 19,
    "start_time": "2024-02-20T16:29:01.218Z"
   },
   {
    "duration": 39,
    "start_time": "2024-02-20T16:29:01.239Z"
   },
   {
    "duration": 100,
    "start_time": "2024-02-20T16:29:01.279Z"
   },
   {
    "duration": 13,
    "start_time": "2024-02-20T16:29:01.380Z"
   },
   {
    "duration": 62,
    "start_time": "2024-02-20T16:29:01.394Z"
   },
   {
    "duration": 121,
    "start_time": "2024-02-20T16:29:01.459Z"
   },
   {
    "duration": 7,
    "start_time": "2024-02-20T16:29:01.582Z"
   },
   {
    "duration": 262,
    "start_time": "2024-02-20T16:29:01.591Z"
   },
   {
    "duration": 3,
    "start_time": "2024-02-20T16:29:01.855Z"
   },
   {
    "duration": 9,
    "start_time": "2024-02-20T16:29:01.859Z"
   },
   {
    "duration": 18,
    "start_time": "2024-02-20T16:29:01.870Z"
   },
   {
    "duration": 14,
    "start_time": "2024-02-20T16:29:01.890Z"
   },
   {
    "duration": 7776,
    "start_time": "2024-02-20T16:29:01.906Z"
   },
   {
    "duration": 19,
    "start_time": "2024-02-20T16:29:09.684Z"
   },
   {
    "duration": 3,
    "start_time": "2024-02-20T16:29:09.704Z"
   },
   {
    "duration": 236,
    "start_time": "2024-02-20T16:29:09.709Z"
   },
   {
    "duration": 109,
    "start_time": "2024-02-20T16:29:09.946Z"
   },
   {
    "duration": 13,
    "start_time": "2024-02-20T16:29:10.057Z"
   },
   {
    "duration": 43,
    "start_time": "2024-02-20T16:29:10.071Z"
   },
   {
    "duration": 14,
    "start_time": "2024-02-20T16:29:10.115Z"
   },
   {
    "duration": 37,
    "start_time": "2024-02-20T16:29:10.130Z"
   },
   {
    "duration": 28,
    "start_time": "2024-02-20T16:29:10.168Z"
   },
   {
    "duration": 21,
    "start_time": "2024-02-20T16:29:10.198Z"
   },
   {
    "duration": 23,
    "start_time": "2024-02-20T16:29:10.221Z"
   },
   {
    "duration": 27,
    "start_time": "2024-02-20T16:29:10.245Z"
   },
   {
    "duration": 21,
    "start_time": "2024-02-20T16:29:10.273Z"
   },
   {
    "duration": 43,
    "start_time": "2024-02-20T16:29:10.295Z"
   },
   {
    "duration": 9,
    "start_time": "2024-02-20T16:29:10.339Z"
   },
   {
    "duration": 115,
    "start_time": "2024-02-20T16:29:10.349Z"
   },
   {
    "duration": 99,
    "start_time": "2024-02-20T16:29:10.465Z"
   },
   {
    "duration": 107,
    "start_time": "2024-02-20T16:43:36.078Z"
   },
   {
    "duration": 198,
    "start_time": "2024-02-20T16:43:48.003Z"
   },
   {
    "duration": 109,
    "start_time": "2024-02-20T16:43:57.335Z"
   },
   {
    "duration": 112,
    "start_time": "2024-02-20T16:45:55.948Z"
   },
   {
    "duration": 8,
    "start_time": "2024-02-20T16:51:55.614Z"
   },
   {
    "duration": 117,
    "start_time": "2024-02-20T16:52:00.721Z"
   },
   {
    "duration": 1226,
    "start_time": "2024-02-20T16:52:15.250Z"
   },
   {
    "duration": 9,
    "start_time": "2024-02-20T16:52:24.004Z"
   },
   {
    "duration": 1127,
    "start_time": "2024-02-20T16:55:41.098Z"
   },
   {
    "duration": 142,
    "start_time": "2024-02-20T16:55:42.226Z"
   },
   {
    "duration": 19,
    "start_time": "2024-02-20T16:55:42.369Z"
   },
   {
    "duration": 9,
    "start_time": "2024-02-20T16:55:42.390Z"
   },
   {
    "duration": 11,
    "start_time": "2024-02-20T16:55:42.400Z"
   },
   {
    "duration": 7,
    "start_time": "2024-02-20T16:55:42.412Z"
   },
   {
    "duration": 8,
    "start_time": "2024-02-20T16:55:42.432Z"
   },
   {
    "duration": 4,
    "start_time": "2024-02-20T16:55:42.441Z"
   },
   {
    "duration": 21,
    "start_time": "2024-02-20T16:55:42.446Z"
   },
   {
    "duration": 28,
    "start_time": "2024-02-20T16:55:42.470Z"
   },
   {
    "duration": 46,
    "start_time": "2024-02-20T16:55:42.499Z"
   },
   {
    "duration": 17,
    "start_time": "2024-02-20T16:55:42.546Z"
   },
   {
    "duration": 30,
    "start_time": "2024-02-20T16:55:42.564Z"
   },
   {
    "duration": 28,
    "start_time": "2024-02-20T16:55:42.595Z"
   },
   {
    "duration": 30,
    "start_time": "2024-02-20T16:55:42.624Z"
   },
   {
    "duration": 33,
    "start_time": "2024-02-20T16:55:42.656Z"
   },
   {
    "duration": 32,
    "start_time": "2024-02-20T16:55:42.690Z"
   },
   {
    "duration": 31,
    "start_time": "2024-02-20T16:55:42.724Z"
   },
   {
    "duration": 32,
    "start_time": "2024-02-20T16:55:42.757Z"
   },
   {
    "duration": 21,
    "start_time": "2024-02-20T16:55:42.791Z"
   },
   {
    "duration": 757,
    "start_time": "2024-02-20T16:55:42.814Z"
   },
   {
    "duration": 14,
    "start_time": "2024-02-20T16:55:43.572Z"
   },
   {
    "duration": 8,
    "start_time": "2024-02-20T16:55:43.587Z"
   },
   {
    "duration": 106,
    "start_time": "2024-02-20T16:55:43.596Z"
   },
   {
    "duration": 13,
    "start_time": "2024-02-20T16:55:43.703Z"
   },
   {
    "duration": 19,
    "start_time": "2024-02-20T16:55:43.717Z"
   },
   {
    "duration": 111,
    "start_time": "2024-02-20T16:55:43.737Z"
   },
   {
    "duration": 7,
    "start_time": "2024-02-20T16:55:43.851Z"
   },
   {
    "duration": 181,
    "start_time": "2024-02-20T16:55:43.859Z"
   },
   {
    "duration": 14,
    "start_time": "2024-02-20T16:55:44.042Z"
   },
   {
    "duration": 4,
    "start_time": "2024-02-20T16:55:44.058Z"
   },
   {
    "duration": 9186,
    "start_time": "2024-02-20T16:55:44.063Z"
   },
   {
    "duration": 21,
    "start_time": "2024-02-20T16:55:53.250Z"
   },
   {
    "duration": 4,
    "start_time": "2024-02-20T16:55:53.272Z"
   },
   {
    "duration": 83867,
    "start_time": "2024-02-20T16:55:53.277Z"
   },
   {
    "duration": 34,
    "start_time": "2024-02-20T16:57:17.145Z"
   },
   {
    "duration": 12,
    "start_time": "2024-02-20T16:57:17.181Z"
   },
   {
    "duration": 38,
    "start_time": "2024-02-20T16:57:17.195Z"
   },
   {
    "duration": 5,
    "start_time": "2024-02-20T16:57:17.235Z"
   },
   {
    "duration": 26,
    "start_time": "2024-02-20T16:57:17.241Z"
   },
   {
    "duration": 20,
    "start_time": "2024-02-20T16:57:17.268Z"
   },
   {
    "duration": 19,
    "start_time": "2024-02-20T16:57:17.289Z"
   },
   {
    "duration": 41,
    "start_time": "2024-02-20T16:57:17.309Z"
   },
   {
    "duration": 18,
    "start_time": "2024-02-20T16:57:17.352Z"
   },
   {
    "duration": 18,
    "start_time": "2024-02-20T16:57:17.372Z"
   },
   {
    "duration": 44,
    "start_time": "2024-02-20T16:57:17.391Z"
   },
   {
    "duration": 8,
    "start_time": "2024-02-20T16:57:17.437Z"
   },
   {
    "duration": 135,
    "start_time": "2024-02-20T16:57:17.446Z"
   },
   {
    "duration": 100,
    "start_time": "2024-02-20T16:57:17.582Z"
   },
   {
    "duration": 220,
    "start_time": "2024-02-20T16:57:22.651Z"
   },
   {
    "duration": 6,
    "start_time": "2024-02-20T17:01:55.811Z"
   },
   {
    "duration": 108,
    "start_time": "2024-02-20T17:02:02.111Z"
   },
   {
    "duration": 12,
    "start_time": "2024-02-20T17:04:51.319Z"
   },
   {
    "duration": 10,
    "start_time": "2024-02-20T17:05:03.410Z"
   },
   {
    "duration": 123,
    "start_time": "2024-02-20T17:05:11.155Z"
   },
   {
    "duration": 111,
    "start_time": "2024-02-20T17:12:51.528Z"
   },
   {
    "duration": 113,
    "start_time": "2024-02-20T17:14:26.542Z"
   },
   {
    "duration": 119,
    "start_time": "2024-02-20T17:15:46.323Z"
   },
   {
    "duration": 149,
    "start_time": "2024-02-20T17:16:01.734Z"
   },
   {
    "duration": 134,
    "start_time": "2024-02-20T17:18:41.771Z"
   },
   {
    "duration": 1091,
    "start_time": "2024-02-20T17:19:00.589Z"
   },
   {
    "duration": 157,
    "start_time": "2024-02-20T17:19:01.682Z"
   },
   {
    "duration": 20,
    "start_time": "2024-02-20T17:19:01.840Z"
   },
   {
    "duration": 12,
    "start_time": "2024-02-20T17:19:01.862Z"
   },
   {
    "duration": 16,
    "start_time": "2024-02-20T17:19:01.876Z"
   },
   {
    "duration": 10,
    "start_time": "2024-02-20T17:19:01.894Z"
   },
   {
    "duration": 33,
    "start_time": "2024-02-20T17:19:01.906Z"
   },
   {
    "duration": 6,
    "start_time": "2024-02-20T17:19:01.940Z"
   },
   {
    "duration": 23,
    "start_time": "2024-02-20T17:19:01.948Z"
   },
   {
    "duration": 28,
    "start_time": "2024-02-20T17:19:01.974Z"
   },
   {
    "duration": 47,
    "start_time": "2024-02-20T17:19:02.004Z"
   },
   {
    "duration": 15,
    "start_time": "2024-02-20T17:19:02.052Z"
   },
   {
    "duration": 29,
    "start_time": "2024-02-20T17:19:02.069Z"
   },
   {
    "duration": 10,
    "start_time": "2024-02-20T17:19:02.099Z"
   },
   {
    "duration": 9,
    "start_time": "2024-02-20T17:19:02.110Z"
   },
   {
    "duration": 4,
    "start_time": "2024-02-20T17:19:02.120Z"
   },
   {
    "duration": 9,
    "start_time": "2024-02-20T17:19:02.133Z"
   },
   {
    "duration": 16,
    "start_time": "2024-02-20T17:19:02.143Z"
   },
   {
    "duration": 28,
    "start_time": "2024-02-20T17:19:02.161Z"
   },
   {
    "duration": 36,
    "start_time": "2024-02-20T17:19:02.190Z"
   },
   {
    "duration": 780,
    "start_time": "2024-02-20T17:19:02.228Z"
   },
   {
    "duration": 15,
    "start_time": "2024-02-20T17:19:03.009Z"
   },
   {
    "duration": 8,
    "start_time": "2024-02-20T17:19:03.032Z"
   },
   {
    "duration": 108,
    "start_time": "2024-02-20T17:19:03.042Z"
   },
   {
    "duration": 14,
    "start_time": "2024-02-20T17:19:03.151Z"
   },
   {
    "duration": 10,
    "start_time": "2024-02-20T17:19:03.166Z"
   },
   {
    "duration": 134,
    "start_time": "2024-02-20T17:19:03.178Z"
   },
   {
    "duration": 7,
    "start_time": "2024-02-20T17:19:03.315Z"
   },
   {
    "duration": 180,
    "start_time": "2024-02-20T17:19:03.323Z"
   },
   {
    "duration": 14,
    "start_time": "2024-02-20T17:19:03.504Z"
   },
   {
    "duration": 16,
    "start_time": "2024-02-20T17:19:03.519Z"
   },
   {
    "duration": 7961,
    "start_time": "2024-02-20T17:19:03.537Z"
   },
   {
    "duration": 19,
    "start_time": "2024-02-20T17:19:11.499Z"
   },
   {
    "duration": 14,
    "start_time": "2024-02-20T17:19:11.520Z"
   },
   {
    "duration": 122,
    "start_time": "2024-02-20T17:19:11.536Z"
   },
   {
    "duration": 118,
    "start_time": "2024-02-20T17:19:11.660Z"
   },
   {
    "duration": 95,
    "start_time": "2024-02-20T17:19:11.779Z"
   },
   {
    "duration": 17,
    "start_time": "2024-02-20T17:19:11.876Z"
   },
   {
    "duration": 23,
    "start_time": "2024-02-20T17:19:11.895Z"
   },
   {
    "duration": 4,
    "start_time": "2024-02-20T17:19:11.933Z"
   },
   {
    "duration": 46,
    "start_time": "2024-02-20T17:19:11.939Z"
   },
   {
    "duration": 24,
    "start_time": "2024-02-20T17:19:11.986Z"
   },
   {
    "duration": 26,
    "start_time": "2024-02-20T17:19:12.011Z"
   },
   {
    "duration": 25,
    "start_time": "2024-02-20T17:19:12.038Z"
   },
   {
    "duration": 19,
    "start_time": "2024-02-20T17:19:12.064Z"
   },
   {
    "duration": 25,
    "start_time": "2024-02-20T17:19:12.084Z"
   },
   {
    "duration": 27,
    "start_time": "2024-02-20T17:19:12.111Z"
   },
   {
    "duration": 20,
    "start_time": "2024-02-20T17:19:12.140Z"
   },
   {
    "duration": 113,
    "start_time": "2024-02-20T17:19:12.162Z"
   },
   {
    "duration": 101,
    "start_time": "2024-02-20T17:19:12.276Z"
   },
   {
    "duration": 17,
    "start_time": "2024-02-20T17:32:04.323Z"
   },
   {
    "duration": 214,
    "start_time": "2024-02-20T17:33:50.011Z"
   },
   {
    "duration": 128,
    "start_time": "2024-02-20T17:34:03.187Z"
   },
   {
    "duration": 95,
    "start_time": "2024-02-20T17:36:57.258Z"
   },
   {
    "duration": 129,
    "start_time": "2024-02-20T17:37:04.482Z"
   },
   {
    "duration": 10,
    "start_time": "2024-02-20T17:56:05.935Z"
   },
   {
    "duration": 1437,
    "start_time": "2024-02-21T17:51:04.087Z"
   },
   {
    "duration": 356,
    "start_time": "2024-02-21T17:51:05.526Z"
   },
   {
    "duration": 22,
    "start_time": "2024-02-21T17:51:05.883Z"
   },
   {
    "duration": 10,
    "start_time": "2024-02-21T17:51:05.907Z"
   },
   {
    "duration": 23,
    "start_time": "2024-02-21T17:51:05.920Z"
   },
   {
    "duration": 9,
    "start_time": "2024-02-21T17:51:05.944Z"
   },
   {
    "duration": 34,
    "start_time": "2024-02-21T17:51:05.954Z"
   },
   {
    "duration": 5,
    "start_time": "2024-02-21T17:51:05.990Z"
   },
   {
    "duration": 25,
    "start_time": "2024-02-21T17:51:05.996Z"
   },
   {
    "duration": 32,
    "start_time": "2024-02-21T17:51:06.023Z"
   },
   {
    "duration": 45,
    "start_time": "2024-02-21T17:51:06.057Z"
   },
   {
    "duration": 18,
    "start_time": "2024-02-21T17:51:06.103Z"
   },
   {
    "duration": 15,
    "start_time": "2024-02-21T17:51:06.123Z"
   },
   {
    "duration": 5,
    "start_time": "2024-02-21T17:51:06.141Z"
   },
   {
    "duration": 42,
    "start_time": "2024-02-21T17:51:06.147Z"
   },
   {
    "duration": 6,
    "start_time": "2024-02-21T17:51:06.190Z"
   },
   {
    "duration": 12,
    "start_time": "2024-02-21T17:51:06.197Z"
   },
   {
    "duration": 17,
    "start_time": "2024-02-21T17:51:06.211Z"
   },
   {
    "duration": 65,
    "start_time": "2024-02-21T17:51:06.230Z"
   },
   {
    "duration": 25,
    "start_time": "2024-02-21T17:51:06.297Z"
   },
   {
    "duration": 895,
    "start_time": "2024-02-21T17:51:06.324Z"
   },
   {
    "duration": 15,
    "start_time": "2024-02-21T17:51:07.221Z"
   },
   {
    "duration": 8,
    "start_time": "2024-02-21T17:51:07.238Z"
   },
   {
    "duration": 132,
    "start_time": "2024-02-21T17:51:07.248Z"
   },
   {
    "duration": 16,
    "start_time": "2024-02-21T17:51:07.381Z"
   },
   {
    "duration": 9,
    "start_time": "2024-02-21T17:51:07.399Z"
   },
   {
    "duration": 143,
    "start_time": "2024-02-21T17:51:07.410Z"
   },
   {
    "duration": 9,
    "start_time": "2024-02-21T17:51:07.554Z"
   },
   {
    "duration": 210,
    "start_time": "2024-02-21T17:51:07.565Z"
   },
   {
    "duration": 16,
    "start_time": "2024-02-21T17:51:07.779Z"
   },
   {
    "duration": 5,
    "start_time": "2024-02-21T17:51:07.797Z"
   },
   {
    "duration": 9001,
    "start_time": "2024-02-21T17:51:07.803Z"
   },
   {
    "duration": 21,
    "start_time": "2024-02-21T17:51:16.806Z"
   },
   {
    "duration": 4,
    "start_time": "2024-02-21T17:51:16.829Z"
   },
   {
    "duration": 154,
    "start_time": "2024-02-21T17:51:16.834Z"
   },
   {
    "duration": 123,
    "start_time": "2024-02-21T17:51:16.990Z"
   },
   {
    "duration": 106,
    "start_time": "2024-02-21T17:51:17.114Z"
   },
   {
    "duration": 166,
    "start_time": "2024-02-21T17:51:17.222Z"
   },
   {
    "duration": 115,
    "start_time": "2024-02-21T17:51:17.390Z"
   },
   {
    "duration": 0,
    "start_time": "2024-02-21T17:51:17.507Z"
   },
   {
    "duration": 0,
    "start_time": "2024-02-21T17:51:17.508Z"
   },
   {
    "duration": 0,
    "start_time": "2024-02-21T17:51:17.509Z"
   },
   {
    "duration": 0,
    "start_time": "2024-02-21T17:51:17.510Z"
   },
   {
    "duration": 0,
    "start_time": "2024-02-21T17:51:17.511Z"
   },
   {
    "duration": 0,
    "start_time": "2024-02-21T17:51:17.512Z"
   },
   {
    "duration": 0,
    "start_time": "2024-02-21T17:51:17.514Z"
   },
   {
    "duration": 0,
    "start_time": "2024-02-21T17:51:17.514Z"
   },
   {
    "duration": 1,
    "start_time": "2024-02-21T17:51:17.515Z"
   },
   {
    "duration": 0,
    "start_time": "2024-02-21T17:51:17.516Z"
   },
   {
    "duration": 0,
    "start_time": "2024-02-21T17:51:17.517Z"
   },
   {
    "duration": 0,
    "start_time": "2024-02-21T17:51:17.519Z"
   },
   {
    "duration": 0,
    "start_time": "2024-02-21T17:51:17.520Z"
   },
   {
    "duration": 11,
    "start_time": "2024-02-21T17:53:20.243Z"
   },
   {
    "duration": 8,
    "start_time": "2024-02-21T17:55:20.769Z"
   },
   {
    "duration": 133,
    "start_time": "2024-02-21T17:55:45.849Z"
   },
   {
    "duration": 136,
    "start_time": "2024-02-21T17:56:41.804Z"
   },
   {
    "duration": 125,
    "start_time": "2024-02-21T17:58:17.518Z"
   },
   {
    "duration": 127,
    "start_time": "2024-02-21T17:58:52.523Z"
   },
   {
    "duration": 146,
    "start_time": "2024-02-21T18:00:42.927Z"
   },
   {
    "duration": 16,
    "start_time": "2024-02-21T18:01:35.052Z"
   },
   {
    "duration": 141,
    "start_time": "2024-02-21T18:01:53.136Z"
   },
   {
    "duration": 18,
    "start_time": "2024-02-21T18:02:24.797Z"
   },
   {
    "duration": 147,
    "start_time": "2024-02-21T18:02:29.116Z"
   },
   {
    "duration": 171,
    "start_time": "2024-02-21T18:03:27.876Z"
   },
   {
    "duration": 20,
    "start_time": "2024-02-21T18:03:43.024Z"
   },
   {
    "duration": 1266,
    "start_time": "2024-02-21T18:08:01.105Z"
   },
   {
    "duration": 157,
    "start_time": "2024-02-21T18:08:02.374Z"
   },
   {
    "duration": 23,
    "start_time": "2024-02-21T18:08:02.533Z"
   },
   {
    "duration": 23,
    "start_time": "2024-02-21T18:08:02.559Z"
   },
   {
    "duration": 64,
    "start_time": "2024-02-21T18:08:02.584Z"
   },
   {
    "duration": 33,
    "start_time": "2024-02-21T18:08:02.650Z"
   },
   {
    "duration": 54,
    "start_time": "2024-02-21T18:08:02.685Z"
   },
   {
    "duration": 7,
    "start_time": "2024-02-21T18:08:02.741Z"
   },
   {
    "duration": 39,
    "start_time": "2024-02-21T18:08:02.750Z"
   },
   {
    "duration": 34,
    "start_time": "2024-02-21T18:08:02.791Z"
   },
   {
    "duration": 25,
    "start_time": "2024-02-21T18:08:02.826Z"
   },
   {
    "duration": 33,
    "start_time": "2024-02-21T18:08:02.853Z"
   },
   {
    "duration": 28,
    "start_time": "2024-02-21T18:08:02.888Z"
   },
   {
    "duration": 8,
    "start_time": "2024-02-21T18:08:02.918Z"
   },
   {
    "duration": 17,
    "start_time": "2024-02-21T18:08:02.927Z"
   },
   {
    "duration": 7,
    "start_time": "2024-02-21T18:08:02.946Z"
   },
   {
    "duration": 13,
    "start_time": "2024-02-21T18:08:02.954Z"
   },
   {
    "duration": 18,
    "start_time": "2024-02-21T18:08:02.968Z"
   },
   {
    "duration": 35,
    "start_time": "2024-02-21T18:08:02.987Z"
   },
   {
    "duration": 22,
    "start_time": "2024-02-21T18:08:03.024Z"
   },
   {
    "duration": 901,
    "start_time": "2024-02-21T18:08:03.048Z"
   },
   {
    "duration": 16,
    "start_time": "2024-02-21T18:08:03.950Z"
   },
   {
    "duration": 17,
    "start_time": "2024-02-21T18:08:03.967Z"
   },
   {
    "duration": 123,
    "start_time": "2024-02-21T18:08:03.985Z"
   },
   {
    "duration": 14,
    "start_time": "2024-02-21T18:08:04.110Z"
   },
   {
    "duration": 9,
    "start_time": "2024-02-21T18:08:04.126Z"
   },
   {
    "duration": 144,
    "start_time": "2024-02-21T18:08:04.136Z"
   },
   {
    "duration": 8,
    "start_time": "2024-02-21T18:08:04.283Z"
   },
   {
    "duration": 207,
    "start_time": "2024-02-21T18:08:04.293Z"
   },
   {
    "duration": 17,
    "start_time": "2024-02-21T18:08:04.501Z"
   },
   {
    "duration": 26,
    "start_time": "2024-02-21T18:08:04.520Z"
   },
   {
    "duration": 9173,
    "start_time": "2024-02-21T18:08:04.549Z"
   },
   {
    "duration": 32,
    "start_time": "2024-02-21T18:08:13.724Z"
   },
   {
    "duration": 6,
    "start_time": "2024-02-21T18:08:13.757Z"
   },
   {
    "duration": 180,
    "start_time": "2024-02-21T18:08:13.765Z"
   },
   {
    "duration": 120,
    "start_time": "2024-02-21T18:08:13.946Z"
   },
   {
    "duration": 116,
    "start_time": "2024-02-21T18:08:14.068Z"
   },
   {
    "duration": 153,
    "start_time": "2024-02-21T18:08:14.186Z"
   },
   {
    "duration": 133,
    "start_time": "2024-02-21T18:08:14.340Z"
   },
   {
    "duration": 173,
    "start_time": "2024-02-21T18:08:14.475Z"
   },
   {
    "duration": 35,
    "start_time": "2024-02-21T18:08:14.650Z"
   },
   {
    "duration": 6,
    "start_time": "2024-02-21T18:08:14.687Z"
   },
   {
    "duration": 44,
    "start_time": "2024-02-21T18:08:14.694Z"
   },
   {
    "duration": 36,
    "start_time": "2024-02-21T18:08:14.740Z"
   },
   {
    "duration": 24,
    "start_time": "2024-02-21T18:08:14.779Z"
   },
   {
    "duration": 22,
    "start_time": "2024-02-21T18:08:14.805Z"
   },
   {
    "duration": 24,
    "start_time": "2024-02-21T18:08:14.829Z"
   },
   {
    "duration": 44,
    "start_time": "2024-02-21T18:08:14.854Z"
   },
   {
    "duration": 27,
    "start_time": "2024-02-21T18:08:14.900Z"
   },
   {
    "duration": 12,
    "start_time": "2024-02-21T18:08:14.930Z"
   },
   {
    "duration": 177,
    "start_time": "2024-02-21T18:08:14.943Z"
   },
   {
    "duration": 132,
    "start_time": "2024-02-21T18:08:15.122Z"
   },
   {
    "duration": 177,
    "start_time": "2024-02-21T18:21:40.033Z"
   },
   {
    "duration": 178,
    "start_time": "2024-02-21T18:23:12.307Z"
   },
   {
    "duration": 20,
    "start_time": "2024-02-21T18:59:58.871Z"
   },
   {
    "duration": 27,
    "start_time": "2024-02-21T19:00:21.217Z"
   },
   {
    "duration": 13,
    "start_time": "2024-02-21T19:00:43.923Z"
   },
   {
    "duration": 12,
    "start_time": "2024-02-21T19:01:35.917Z"
   },
   {
    "duration": 58,
    "start_time": "2024-02-21T19:12:41.087Z"
   },
   {
    "duration": 24,
    "start_time": "2024-02-21T19:14:09.591Z"
   },
   {
    "duration": 22,
    "start_time": "2024-02-21T19:14:36.140Z"
   },
   {
    "duration": 26,
    "start_time": "2024-02-21T19:14:55.581Z"
   },
   {
    "duration": 224,
    "start_time": "2024-02-21T19:15:07.729Z"
   },
   {
    "duration": 220,
    "start_time": "2024-02-21T19:16:05.566Z"
   },
   {
    "duration": 1346,
    "start_time": "2024-02-22T13:01:29.208Z"
   },
   {
    "duration": 373,
    "start_time": "2024-02-22T13:01:30.556Z"
   },
   {
    "duration": 28,
    "start_time": "2024-02-22T13:01:30.931Z"
   },
   {
    "duration": 59,
    "start_time": "2024-02-22T13:01:30.960Z"
   },
   {
    "duration": 49,
    "start_time": "2024-02-22T13:01:31.020Z"
   },
   {
    "duration": 77,
    "start_time": "2024-02-22T13:01:31.070Z"
   },
   {
    "duration": 36,
    "start_time": "2024-02-22T13:01:31.149Z"
   },
   {
    "duration": 53,
    "start_time": "2024-02-22T13:01:31.186Z"
   },
   {
    "duration": 77,
    "start_time": "2024-02-22T13:01:31.240Z"
   },
   {
    "duration": 70,
    "start_time": "2024-02-22T13:01:31.319Z"
   },
   {
    "duration": 49,
    "start_time": "2024-02-22T13:01:31.391Z"
   },
   {
    "duration": 39,
    "start_time": "2024-02-22T13:01:31.442Z"
   },
   {
    "duration": 88,
    "start_time": "2024-02-22T13:01:31.482Z"
   },
   {
    "duration": 31,
    "start_time": "2024-02-22T13:01:31.571Z"
   },
   {
    "duration": 50,
    "start_time": "2024-02-22T13:01:31.605Z"
   },
   {
    "duration": 62,
    "start_time": "2024-02-22T13:01:31.656Z"
   },
   {
    "duration": 67,
    "start_time": "2024-02-22T13:01:31.719Z"
   },
   {
    "duration": 125,
    "start_time": "2024-02-22T13:01:31.788Z"
   },
   {
    "duration": 78,
    "start_time": "2024-02-22T13:01:31.914Z"
   },
   {
    "duration": 55,
    "start_time": "2024-02-22T13:01:31.994Z"
   },
   {
    "duration": 912,
    "start_time": "2024-02-22T13:01:32.051Z"
   },
   {
    "duration": 14,
    "start_time": "2024-02-22T13:01:32.964Z"
   },
   {
    "duration": 130,
    "start_time": "2024-02-22T13:01:32.979Z"
   },
   {
    "duration": 150,
    "start_time": "2024-02-22T13:01:33.111Z"
   },
   {
    "duration": 13,
    "start_time": "2024-02-22T13:01:33.263Z"
   },
   {
    "duration": 92,
    "start_time": "2024-02-22T13:01:33.278Z"
   },
   {
    "duration": 272,
    "start_time": "2024-02-22T13:01:33.371Z"
   },
   {
    "duration": 7,
    "start_time": "2024-02-22T13:01:33.647Z"
   },
   {
    "duration": 221,
    "start_time": "2024-02-22T13:01:33.655Z"
   },
   {
    "duration": 46,
    "start_time": "2024-02-22T13:01:33.878Z"
   },
   {
    "duration": 132,
    "start_time": "2024-02-22T13:01:33.926Z"
   },
   {
    "duration": 8804,
    "start_time": "2024-02-22T13:01:34.060Z"
   },
   {
    "duration": 30,
    "start_time": "2024-02-22T13:01:42.865Z"
   },
   {
    "duration": 32,
    "start_time": "2024-02-22T13:01:42.897Z"
   },
   {
    "duration": 162,
    "start_time": "2024-02-22T13:01:42.931Z"
   },
   {
    "duration": 126,
    "start_time": "2024-02-22T13:01:43.095Z"
   },
   {
    "duration": 102,
    "start_time": "2024-02-22T13:01:43.223Z"
   },
   {
    "duration": 161,
    "start_time": "2024-02-22T13:01:43.327Z"
   },
   {
    "duration": 138,
    "start_time": "2024-02-22T13:01:43.489Z"
   },
   {
    "duration": 144,
    "start_time": "2024-02-22T13:01:43.628Z"
   },
   {
    "duration": 37,
    "start_time": "2024-02-22T13:01:43.773Z"
   },
   {
    "duration": 183,
    "start_time": "2024-02-22T13:01:43.812Z"
   },
   {
    "duration": 8,
    "start_time": "2024-02-22T13:01:43.997Z"
   },
   {
    "duration": 48,
    "start_time": "2024-02-22T13:01:44.008Z"
   },
   {
    "duration": 71,
    "start_time": "2024-02-22T13:01:44.058Z"
   },
   {
    "duration": 24,
    "start_time": "2024-02-22T13:01:44.131Z"
   },
   {
    "duration": 22,
    "start_time": "2024-02-22T13:01:44.157Z"
   },
   {
    "duration": 38,
    "start_time": "2024-02-22T13:01:44.181Z"
   },
   {
    "duration": 31,
    "start_time": "2024-02-22T13:01:44.221Z"
   },
   {
    "duration": 244,
    "start_time": "2024-02-22T13:01:44.253Z"
   },
   {
    "duration": 28,
    "start_time": "2024-02-22T13:01:44.499Z"
   },
   {
    "duration": 48,
    "start_time": "2024-02-22T13:01:44.529Z"
   },
   {
    "duration": 160,
    "start_time": "2024-02-22T13:01:44.579Z"
   },
   {
    "duration": 107,
    "start_time": "2024-02-22T13:01:44.741Z"
   },
   {
    "duration": 155,
    "start_time": "2024-02-22T13:16:01.574Z"
   },
   {
    "duration": 11,
    "start_time": "2024-02-22T14:13:13.615Z"
   },
   {
    "duration": 10,
    "start_time": "2024-02-22T14:13:27.457Z"
   },
   {
    "duration": 98,
    "start_time": "2024-02-22T14:14:02.271Z"
   },
   {
    "duration": 6,
    "start_time": "2024-02-22T14:14:17.548Z"
   },
   {
    "duration": 10,
    "start_time": "2024-02-22T14:16:02.488Z"
   },
   {
    "duration": 1180,
    "start_time": "2024-02-22T14:16:15.221Z"
   },
   {
    "duration": 144,
    "start_time": "2024-02-22T14:16:16.403Z"
   },
   {
    "duration": 21,
    "start_time": "2024-02-22T14:16:16.548Z"
   },
   {
    "duration": 19,
    "start_time": "2024-02-22T14:16:16.571Z"
   },
   {
    "duration": 33,
    "start_time": "2024-02-22T14:16:16.592Z"
   },
   {
    "duration": 11,
    "start_time": "2024-02-22T14:16:16.627Z"
   },
   {
    "duration": 13,
    "start_time": "2024-02-22T14:16:16.639Z"
   },
   {
    "duration": 15,
    "start_time": "2024-02-22T14:16:16.654Z"
   },
   {
    "duration": 34,
    "start_time": "2024-02-22T14:16:16.670Z"
   },
   {
    "duration": 31,
    "start_time": "2024-02-22T14:16:16.707Z"
   },
   {
    "duration": 23,
    "start_time": "2024-02-22T14:16:16.740Z"
   },
   {
    "duration": 36,
    "start_time": "2024-02-22T14:16:16.764Z"
   },
   {
    "duration": 21,
    "start_time": "2024-02-22T14:16:16.802Z"
   },
   {
    "duration": 43,
    "start_time": "2024-02-22T14:16:16.837Z"
   },
   {
    "duration": 20,
    "start_time": "2024-02-22T14:16:16.881Z"
   },
   {
    "duration": 12,
    "start_time": "2024-02-22T14:16:16.902Z"
   },
   {
    "duration": 18,
    "start_time": "2024-02-22T14:16:16.916Z"
   },
   {
    "duration": 47,
    "start_time": "2024-02-22T14:16:16.936Z"
   },
   {
    "duration": 59,
    "start_time": "2024-02-22T14:16:16.986Z"
   },
   {
    "duration": 26,
    "start_time": "2024-02-22T14:16:17.047Z"
   },
   {
    "duration": 800,
    "start_time": "2024-02-22T14:16:17.075Z"
   },
   {
    "duration": 20,
    "start_time": "2024-02-22T14:16:17.877Z"
   },
   {
    "duration": 46,
    "start_time": "2024-02-22T14:16:17.898Z"
   },
   {
    "duration": 145,
    "start_time": "2024-02-22T14:16:17.946Z"
   },
   {
    "duration": 14,
    "start_time": "2024-02-22T14:16:18.093Z"
   },
   {
    "duration": 40,
    "start_time": "2024-02-22T14:16:18.109Z"
   },
   {
    "duration": 138,
    "start_time": "2024-02-22T14:16:18.151Z"
   },
   {
    "duration": 8,
    "start_time": "2024-02-22T14:16:18.294Z"
   },
   {
    "duration": 230,
    "start_time": "2024-02-22T14:16:18.304Z"
   },
   {
    "duration": 15,
    "start_time": "2024-02-22T14:16:18.536Z"
   },
   {
    "duration": 23,
    "start_time": "2024-02-22T14:16:18.552Z"
   },
   {
    "duration": 8263,
    "start_time": "2024-02-22T14:16:18.576Z"
   },
   {
    "duration": 21,
    "start_time": "2024-02-22T14:16:26.841Z"
   },
   {
    "duration": 15,
    "start_time": "2024-02-22T14:16:26.864Z"
   },
   {
    "duration": 154,
    "start_time": "2024-02-22T14:16:26.881Z"
   },
   {
    "duration": 121,
    "start_time": "2024-02-22T14:16:27.037Z"
   },
   {
    "duration": 104,
    "start_time": "2024-02-22T14:16:27.159Z"
   },
   {
    "duration": 151,
    "start_time": "2024-02-22T14:16:27.264Z"
   },
   {
    "duration": 131,
    "start_time": "2024-02-22T14:16:27.417Z"
   },
   {
    "duration": 146,
    "start_time": "2024-02-22T14:16:27.549Z"
   },
   {
    "duration": 19,
    "start_time": "2024-02-22T14:16:27.697Z"
   },
   {
    "duration": 181,
    "start_time": "2024-02-22T14:16:27.717Z"
   },
   {
    "duration": 5,
    "start_time": "2024-02-22T14:16:27.899Z"
   },
   {
    "duration": 39,
    "start_time": "2024-02-22T14:16:27.906Z"
   },
   {
    "duration": 49,
    "start_time": "2024-02-22T14:16:27.946Z"
   },
   {
    "duration": 21,
    "start_time": "2024-02-22T14:16:27.997Z"
   },
   {
    "duration": 45,
    "start_time": "2024-02-22T14:16:28.020Z"
   },
   {
    "duration": 45,
    "start_time": "2024-02-22T14:16:28.069Z"
   },
   {
    "duration": 23,
    "start_time": "2024-02-22T14:16:28.115Z"
   },
   {
    "duration": 212,
    "start_time": "2024-02-22T14:16:28.139Z"
   },
   {
    "duration": 24,
    "start_time": "2024-02-22T14:16:28.353Z"
   },
   {
    "duration": 22,
    "start_time": "2024-02-22T14:16:28.378Z"
   },
   {
    "duration": 116,
    "start_time": "2024-02-22T14:16:28.401Z"
   },
   {
    "duration": 0,
    "start_time": "2024-02-22T14:16:28.519Z"
   },
   {
    "duration": 0,
    "start_time": "2024-02-22T14:16:28.520Z"
   },
   {
    "duration": 119,
    "start_time": "2024-02-22T14:20:27.818Z"
   },
   {
    "duration": 90,
    "start_time": "2024-02-22T14:24:09.624Z"
   },
   {
    "duration": 40,
    "start_time": "2024-02-22T14:24:47.864Z"
   },
   {
    "duration": 10,
    "start_time": "2024-02-22T14:25:16.732Z"
   },
   {
    "duration": 5,
    "start_time": "2024-02-22T14:25:22.601Z"
   },
   {
    "duration": 8,
    "start_time": "2024-02-22T14:25:27.840Z"
   },
   {
    "duration": 35,
    "start_time": "2024-02-22T14:27:05.595Z"
   },
   {
    "duration": 1163,
    "start_time": "2024-02-22T14:28:54.536Z"
   },
   {
    "duration": 146,
    "start_time": "2024-02-22T14:28:55.700Z"
   },
   {
    "duration": 22,
    "start_time": "2024-02-22T14:28:55.848Z"
   },
   {
    "duration": 36,
    "start_time": "2024-02-22T14:28:55.871Z"
   },
   {
    "duration": 31,
    "start_time": "2024-02-22T14:28:55.908Z"
   },
   {
    "duration": 21,
    "start_time": "2024-02-22T14:28:55.941Z"
   },
   {
    "duration": 44,
    "start_time": "2024-02-22T14:28:55.964Z"
   },
   {
    "duration": 24,
    "start_time": "2024-02-22T14:28:56.010Z"
   },
   {
    "duration": 57,
    "start_time": "2024-02-22T14:28:56.036Z"
   },
   {
    "duration": 30,
    "start_time": "2024-02-22T14:28:56.095Z"
   },
   {
    "duration": 23,
    "start_time": "2024-02-22T14:28:56.126Z"
   },
   {
    "duration": 25,
    "start_time": "2024-02-22T14:28:56.150Z"
   },
   {
    "duration": 45,
    "start_time": "2024-02-22T14:28:56.176Z"
   },
   {
    "duration": 10,
    "start_time": "2024-02-22T14:28:56.223Z"
   },
   {
    "duration": 31,
    "start_time": "2024-02-22T14:28:56.235Z"
   },
   {
    "duration": 23,
    "start_time": "2024-02-22T14:28:56.267Z"
   },
   {
    "duration": 23,
    "start_time": "2024-02-22T14:28:56.291Z"
   },
   {
    "duration": 38,
    "start_time": "2024-02-22T14:28:56.316Z"
   },
   {
    "duration": 82,
    "start_time": "2024-02-22T14:28:56.356Z"
   },
   {
    "duration": 38,
    "start_time": "2024-02-22T14:28:56.440Z"
   },
   {
    "duration": 828,
    "start_time": "2024-02-22T14:28:56.479Z"
   },
   {
    "duration": 15,
    "start_time": "2024-02-22T14:28:57.309Z"
   },
   {
    "duration": 33,
    "start_time": "2024-02-22T14:28:57.325Z"
   },
   {
    "duration": 157,
    "start_time": "2024-02-22T14:28:57.359Z"
   },
   {
    "duration": 23,
    "start_time": "2024-02-22T14:28:57.518Z"
   },
   {
    "duration": 39,
    "start_time": "2024-02-22T14:28:57.543Z"
   },
   {
    "duration": 140,
    "start_time": "2024-02-22T14:28:57.584Z"
   },
   {
    "duration": 7,
    "start_time": "2024-02-22T14:28:57.728Z"
   },
   {
    "duration": 211,
    "start_time": "2024-02-22T14:28:57.736Z"
   },
   {
    "duration": 16,
    "start_time": "2024-02-22T14:28:57.948Z"
   },
   {
    "duration": 24,
    "start_time": "2024-02-22T14:28:57.965Z"
   },
   {
    "duration": 8321,
    "start_time": "2024-02-22T14:28:57.990Z"
   },
   {
    "duration": 21,
    "start_time": "2024-02-22T14:29:06.312Z"
   },
   {
    "duration": 37,
    "start_time": "2024-02-22T14:29:06.334Z"
   },
   {
    "duration": 132,
    "start_time": "2024-02-22T14:29:06.372Z"
   },
   {
    "duration": 121,
    "start_time": "2024-02-22T14:29:06.506Z"
   },
   {
    "duration": 101,
    "start_time": "2024-02-22T14:29:06.629Z"
   },
   {
    "duration": 151,
    "start_time": "2024-02-22T14:29:06.731Z"
   },
   {
    "duration": 123,
    "start_time": "2024-02-22T14:29:06.884Z"
   },
   {
    "duration": 152,
    "start_time": "2024-02-22T14:29:07.009Z"
   },
   {
    "duration": 33,
    "start_time": "2024-02-22T14:29:07.163Z"
   },
   {
    "duration": 196,
    "start_time": "2024-02-22T14:29:07.198Z"
   },
   {
    "duration": 4,
    "start_time": "2024-02-22T14:29:07.396Z"
   },
   {
    "duration": 69,
    "start_time": "2024-02-22T14:29:07.401Z"
   },
   {
    "duration": 20,
    "start_time": "2024-02-22T14:29:07.472Z"
   },
   {
    "duration": 26,
    "start_time": "2024-02-22T14:29:07.494Z"
   },
   {
    "duration": 32,
    "start_time": "2024-02-22T14:29:07.522Z"
   },
   {
    "duration": 30,
    "start_time": "2024-02-22T14:29:07.555Z"
   },
   {
    "duration": 19,
    "start_time": "2024-02-22T14:29:07.587Z"
   },
   {
    "duration": 254,
    "start_time": "2024-02-22T14:29:07.607Z"
   },
   {
    "duration": 40,
    "start_time": "2024-02-22T14:29:07.862Z"
   },
   {
    "duration": 106,
    "start_time": "2024-02-22T14:29:07.903Z"
   },
   {
    "duration": 0,
    "start_time": "2024-02-22T14:29:08.011Z"
   },
   {
    "duration": 0,
    "start_time": "2024-02-22T14:29:08.012Z"
   },
   {
    "duration": 144,
    "start_time": "2024-02-22T14:30:12.316Z"
   },
   {
    "duration": 164,
    "start_time": "2024-02-22T14:30:59.419Z"
   },
   {
    "duration": 286,
    "start_time": "2024-02-22T14:31:21.366Z"
   },
   {
    "duration": 183,
    "start_time": "2024-02-22T14:31:29.190Z"
   },
   {
    "duration": 157,
    "start_time": "2024-02-22T14:31:36.687Z"
   },
   {
    "duration": 152,
    "start_time": "2024-02-22T14:33:29.821Z"
   },
   {
    "duration": 126,
    "start_time": "2024-02-22T14:36:09.111Z"
   },
   {
    "duration": 8,
    "start_time": "2024-02-22T14:40:30.170Z"
   },
   {
    "duration": 14,
    "start_time": "2024-02-22T14:40:36.605Z"
   },
   {
    "duration": 8,
    "start_time": "2024-02-22T14:41:00.967Z"
   },
   {
    "duration": 13,
    "start_time": "2024-02-22T14:41:11.799Z"
   },
   {
    "duration": 10,
    "start_time": "2024-02-22T14:42:27.496Z"
   },
   {
    "duration": 108,
    "start_time": "2024-02-22T14:42:33.473Z"
   },
   {
    "duration": 6,
    "start_time": "2024-02-22T14:50:13.529Z"
   },
   {
    "duration": 15,
    "start_time": "2024-02-22T14:50:20.694Z"
   },
   {
    "duration": 8,
    "start_time": "2024-02-22T14:50:25.220Z"
   },
   {
    "duration": 18,
    "start_time": "2024-02-22T14:50:31.792Z"
   },
   {
    "duration": 12,
    "start_time": "2024-02-22T14:50:36.203Z"
   },
   {
    "duration": 33,
    "start_time": "2024-02-22T14:52:43.324Z"
   },
   {
    "duration": 27,
    "start_time": "2024-02-22T14:53:39.934Z"
   },
   {
    "duration": 21,
    "start_time": "2024-02-22T14:54:56.820Z"
   },
   {
    "duration": 18,
    "start_time": "2024-02-22T14:56:01.960Z"
   },
   {
    "duration": 15,
    "start_time": "2024-02-22T14:59:30.443Z"
   },
   {
    "duration": 12,
    "start_time": "2024-02-22T15:00:18.503Z"
   },
   {
    "duration": 119,
    "start_time": "2024-02-22T15:00:34.734Z"
   },
   {
    "duration": 21,
    "start_time": "2024-02-22T15:03:06.816Z"
   },
   {
    "duration": 27,
    "start_time": "2024-02-22T15:04:26.124Z"
   },
   {
    "duration": 31,
    "start_time": "2024-02-22T15:26:57.439Z"
   },
   {
    "duration": 8,
    "start_time": "2024-02-22T15:29:17.662Z"
   },
   {
    "duration": 134,
    "start_time": "2024-02-22T15:29:45.733Z"
   },
   {
    "duration": 11,
    "start_time": "2024-02-22T15:29:59.167Z"
   },
   {
    "duration": 1164,
    "start_time": "2024-02-22T15:32:27.955Z"
   },
   {
    "duration": 169,
    "start_time": "2024-02-22T15:32:29.121Z"
   },
   {
    "duration": 32,
    "start_time": "2024-02-22T15:32:29.291Z"
   },
   {
    "duration": 31,
    "start_time": "2024-02-22T15:32:29.324Z"
   },
   {
    "duration": 24,
    "start_time": "2024-02-22T15:32:29.356Z"
   },
   {
    "duration": 11,
    "start_time": "2024-02-22T15:32:29.382Z"
   },
   {
    "duration": 45,
    "start_time": "2024-02-22T15:32:29.394Z"
   },
   {
    "duration": 45,
    "start_time": "2024-02-22T15:32:29.441Z"
   },
   {
    "duration": 54,
    "start_time": "2024-02-22T15:32:29.487Z"
   },
   {
    "duration": 74,
    "start_time": "2024-02-22T15:32:29.544Z"
   },
   {
    "duration": 29,
    "start_time": "2024-02-22T15:32:29.619Z"
   },
   {
    "duration": 16,
    "start_time": "2024-02-22T15:32:29.650Z"
   },
   {
    "duration": 47,
    "start_time": "2024-02-22T15:32:29.667Z"
   },
   {
    "duration": 38,
    "start_time": "2024-02-22T15:32:29.715Z"
   },
   {
    "duration": 66,
    "start_time": "2024-02-22T15:32:29.755Z"
   },
   {
    "duration": 22,
    "start_time": "2024-02-22T15:32:29.822Z"
   },
   {
    "duration": 43,
    "start_time": "2024-02-22T15:32:29.846Z"
   },
   {
    "duration": 20,
    "start_time": "2024-02-22T15:32:29.890Z"
   },
   {
    "duration": 49,
    "start_time": "2024-02-22T15:32:29.911Z"
   },
   {
    "duration": 26,
    "start_time": "2024-02-22T15:32:29.962Z"
   },
   {
    "duration": 908,
    "start_time": "2024-02-22T15:32:29.989Z"
   },
   {
    "duration": 19,
    "start_time": "2024-02-22T15:32:30.899Z"
   },
   {
    "duration": 55,
    "start_time": "2024-02-22T15:32:30.920Z"
   },
   {
    "duration": 156,
    "start_time": "2024-02-22T15:32:30.977Z"
   },
   {
    "duration": 12,
    "start_time": "2024-02-22T15:32:31.135Z"
   },
   {
    "duration": 49,
    "start_time": "2024-02-22T15:32:31.149Z"
   },
   {
    "duration": 160,
    "start_time": "2024-02-22T15:32:31.200Z"
   },
   {
    "duration": 8,
    "start_time": "2024-02-22T15:32:31.363Z"
   },
   {
    "duration": 274,
    "start_time": "2024-02-22T15:32:31.372Z"
   },
   {
    "duration": 16,
    "start_time": "2024-02-22T15:32:31.647Z"
   },
   {
    "duration": 48,
    "start_time": "2024-02-22T15:32:31.664Z"
   },
   {
    "duration": 9008,
    "start_time": "2024-02-22T15:32:31.713Z"
   },
   {
    "duration": 20,
    "start_time": "2024-02-22T15:32:40.723Z"
   },
   {
    "duration": 4,
    "start_time": "2024-02-22T15:32:40.745Z"
   },
   {
    "duration": 146,
    "start_time": "2024-02-22T15:32:40.750Z"
   },
   {
    "duration": 126,
    "start_time": "2024-02-22T15:32:40.899Z"
   },
   {
    "duration": 105,
    "start_time": "2024-02-22T15:32:41.026Z"
   },
   {
    "duration": 152,
    "start_time": "2024-02-22T15:32:41.132Z"
   },
   {
    "duration": 144,
    "start_time": "2024-02-22T15:32:41.293Z"
   },
   {
    "duration": 191,
    "start_time": "2024-02-22T15:32:41.439Z"
   },
   {
    "duration": 19,
    "start_time": "2024-02-22T15:32:41.632Z"
   },
   {
    "duration": 228,
    "start_time": "2024-02-22T15:32:41.653Z"
   },
   {
    "duration": 15,
    "start_time": "2024-02-22T15:32:41.882Z"
   },
   {
    "duration": 27,
    "start_time": "2024-02-22T15:32:41.899Z"
   },
   {
    "duration": 20,
    "start_time": "2024-02-22T15:32:41.927Z"
   },
   {
    "duration": 19,
    "start_time": "2024-02-22T15:32:41.948Z"
   },
   {
    "duration": 49,
    "start_time": "2024-02-22T15:32:41.968Z"
   },
   {
    "duration": 19,
    "start_time": "2024-02-22T15:32:42.018Z"
   },
   {
    "duration": 21,
    "start_time": "2024-02-22T15:32:42.038Z"
   },
   {
    "duration": 244,
    "start_time": "2024-02-22T15:32:42.060Z"
   },
   {
    "duration": 36,
    "start_time": "2024-02-22T15:32:42.306Z"
   },
   {
    "duration": 178,
    "start_time": "2024-02-22T15:32:42.343Z"
   },
   {
    "duration": 6,
    "start_time": "2024-02-22T15:32:42.523Z"
   },
   {
    "duration": 33,
    "start_time": "2024-02-22T15:32:42.530Z"
   },
   {
    "duration": 7,
    "start_time": "2024-02-22T15:32:42.565Z"
   },
   {
    "duration": 21,
    "start_time": "2024-02-22T15:32:42.574Z"
   },
   {
    "duration": 220,
    "start_time": "2024-02-22T15:32:42.596Z"
   },
   {
    "duration": 5,
    "start_time": "2024-02-22T15:33:59.588Z"
   },
   {
    "duration": 146,
    "start_time": "2024-02-22T15:34:09.283Z"
   },
   {
    "duration": 115,
    "start_time": "2024-02-22T15:34:19.433Z"
   },
   {
    "duration": 7,
    "start_time": "2024-02-22T15:34:30.812Z"
   },
   {
    "duration": 113,
    "start_time": "2024-02-22T15:34:39.967Z"
   },
   {
    "duration": 127,
    "start_time": "2024-02-22T15:35:57.900Z"
   },
   {
    "duration": 109,
    "start_time": "2024-02-22T15:36:37.716Z"
   },
   {
    "duration": 6,
    "start_time": "2024-02-22T15:38:21.220Z"
   },
   {
    "duration": 570,
    "start_time": "2024-02-22T15:41:36.639Z"
   },
   {
    "duration": 618,
    "start_time": "2024-02-22T15:41:50.328Z"
   },
   {
    "duration": 534,
    "start_time": "2024-02-22T15:42:04.137Z"
   },
   {
    "duration": 121,
    "start_time": "2024-02-22T15:42:13.725Z"
   },
   {
    "duration": 526,
    "start_time": "2024-02-22T15:42:17.030Z"
   },
   {
    "duration": 9,
    "start_time": "2024-02-22T15:42:22.282Z"
   },
   {
    "duration": 558,
    "start_time": "2024-02-22T15:42:26.407Z"
   },
   {
    "duration": 27,
    "start_time": "2024-02-22T15:42:32.743Z"
   },
   {
    "duration": 7,
    "start_time": "2024-02-22T15:42:35.944Z"
   },
   {
    "duration": 583,
    "start_time": "2024-02-22T15:42:41.479Z"
   },
   {
    "duration": 1206,
    "start_time": "2024-02-22T15:42:47.223Z"
   },
   {
    "duration": 150,
    "start_time": "2024-02-22T15:42:48.431Z"
   },
   {
    "duration": 24,
    "start_time": "2024-02-22T15:42:48.582Z"
   },
   {
    "duration": 63,
    "start_time": "2024-02-22T15:42:48.609Z"
   },
   {
    "duration": 14,
    "start_time": "2024-02-22T15:42:48.673Z"
   },
   {
    "duration": 23,
    "start_time": "2024-02-22T15:42:48.688Z"
   },
   {
    "duration": 41,
    "start_time": "2024-02-22T15:42:48.714Z"
   },
   {
    "duration": 7,
    "start_time": "2024-02-22T15:42:48.757Z"
   },
   {
    "duration": 46,
    "start_time": "2024-02-22T15:42:48.765Z"
   },
   {
    "duration": 36,
    "start_time": "2024-02-22T15:42:48.814Z"
   },
   {
    "duration": 23,
    "start_time": "2024-02-22T15:42:48.851Z"
   },
   {
    "duration": 27,
    "start_time": "2024-02-22T15:42:48.876Z"
   },
   {
    "duration": 17,
    "start_time": "2024-02-22T15:42:48.904Z"
   },
   {
    "duration": 13,
    "start_time": "2024-02-22T15:42:48.923Z"
   },
   {
    "duration": 14,
    "start_time": "2024-02-22T15:42:48.937Z"
   },
   {
    "duration": 15,
    "start_time": "2024-02-22T15:42:48.953Z"
   },
   {
    "duration": 47,
    "start_time": "2024-02-22T15:42:48.970Z"
   },
   {
    "duration": 10,
    "start_time": "2024-02-22T15:42:49.019Z"
   },
   {
    "duration": 33,
    "start_time": "2024-02-22T15:42:49.031Z"
   },
   {
    "duration": 30,
    "start_time": "2024-02-22T15:42:49.065Z"
   },
   {
    "duration": 856,
    "start_time": "2024-02-22T15:42:49.097Z"
   },
   {
    "duration": 16,
    "start_time": "2024-02-22T15:42:49.955Z"
   },
   {
    "duration": 85,
    "start_time": "2024-02-22T15:42:49.972Z"
   },
   {
    "duration": 122,
    "start_time": "2024-02-22T15:42:50.058Z"
   },
   {
    "duration": 29,
    "start_time": "2024-02-22T15:42:50.182Z"
   },
   {
    "duration": 20,
    "start_time": "2024-02-22T15:42:50.213Z"
   },
   {
    "duration": 152,
    "start_time": "2024-02-22T15:42:50.234Z"
   },
   {
    "duration": 9,
    "start_time": "2024-02-22T15:42:50.390Z"
   },
   {
    "duration": 241,
    "start_time": "2024-02-22T15:42:50.402Z"
   },
   {
    "duration": 14,
    "start_time": "2024-02-22T15:42:50.645Z"
   },
   {
    "duration": 24,
    "start_time": "2024-02-22T15:42:50.661Z"
   },
   {
    "duration": 9302,
    "start_time": "2024-02-22T15:42:50.687Z"
   },
   {
    "duration": 31,
    "start_time": "2024-02-22T15:42:59.990Z"
   },
   {
    "duration": 48,
    "start_time": "2024-02-22T15:43:00.024Z"
   },
   {
    "duration": 184,
    "start_time": "2024-02-22T15:43:00.074Z"
   },
   {
    "duration": 112,
    "start_time": "2024-02-22T15:43:00.259Z"
   },
   {
    "duration": 108,
    "start_time": "2024-02-22T15:43:00.373Z"
   },
   {
    "duration": 177,
    "start_time": "2024-02-22T15:43:00.482Z"
   },
   {
    "duration": 149,
    "start_time": "2024-02-22T15:43:00.661Z"
   },
   {
    "duration": 170,
    "start_time": "2024-02-22T15:43:00.812Z"
   },
   {
    "duration": 34,
    "start_time": "2024-02-22T15:43:00.983Z"
   },
   {
    "duration": 191,
    "start_time": "2024-02-22T15:43:01.018Z"
   },
   {
    "duration": 6,
    "start_time": "2024-02-22T15:43:01.217Z"
   },
   {
    "duration": 53,
    "start_time": "2024-02-22T15:43:01.225Z"
   },
   {
    "duration": 43,
    "start_time": "2024-02-22T15:43:01.279Z"
   },
   {
    "duration": 40,
    "start_time": "2024-02-22T15:43:01.324Z"
   },
   {
    "duration": 27,
    "start_time": "2024-02-22T15:43:01.366Z"
   },
   {
    "duration": 40,
    "start_time": "2024-02-22T15:43:01.395Z"
   },
   {
    "duration": 38,
    "start_time": "2024-02-22T15:43:01.438Z"
   },
   {
    "duration": 252,
    "start_time": "2024-02-22T15:43:01.477Z"
   },
   {
    "duration": 37,
    "start_time": "2024-02-22T15:43:01.731Z"
   },
   {
    "duration": 396,
    "start_time": "2024-02-22T15:43:01.769Z"
   },
   {
    "duration": 6,
    "start_time": "2024-02-22T15:43:02.166Z"
   },
   {
    "duration": 77,
    "start_time": "2024-02-22T15:43:02.173Z"
   },
   {
    "duration": 48,
    "start_time": "2024-02-22T15:43:02.252Z"
   },
   {
    "duration": 124,
    "start_time": "2024-02-22T15:43:02.302Z"
   },
   {
    "duration": 6,
    "start_time": "2024-02-22T15:43:02.427Z"
   },
   {
    "duration": 1313,
    "start_time": "2024-02-22T15:58:20.616Z"
   },
   {
    "duration": 171,
    "start_time": "2024-02-22T15:58:21.931Z"
   },
   {
    "duration": 26,
    "start_time": "2024-02-22T15:58:22.104Z"
   },
   {
    "duration": 18,
    "start_time": "2024-02-22T15:58:22.132Z"
   },
   {
    "duration": 24,
    "start_time": "2024-02-22T15:58:22.152Z"
   },
   {
    "duration": 10,
    "start_time": "2024-02-22T15:58:22.177Z"
   },
   {
    "duration": 32,
    "start_time": "2024-02-22T15:58:22.188Z"
   },
   {
    "duration": 14,
    "start_time": "2024-02-22T15:58:22.222Z"
   },
   {
    "duration": 41,
    "start_time": "2024-02-22T15:58:22.239Z"
   },
   {
    "duration": 44,
    "start_time": "2024-02-22T15:58:22.284Z"
   },
   {
    "duration": 28,
    "start_time": "2024-02-22T15:58:22.330Z"
   },
   {
    "duration": 17,
    "start_time": "2024-02-22T15:58:22.360Z"
   },
   {
    "duration": 22,
    "start_time": "2024-02-22T15:58:22.381Z"
   },
   {
    "duration": 10,
    "start_time": "2024-02-22T15:58:22.404Z"
   },
   {
    "duration": 9,
    "start_time": "2024-02-22T15:58:22.415Z"
   },
   {
    "duration": 18,
    "start_time": "2024-02-22T15:58:22.426Z"
   },
   {
    "duration": 30,
    "start_time": "2024-02-22T15:58:22.445Z"
   },
   {
    "duration": 8,
    "start_time": "2024-02-22T15:58:22.476Z"
   },
   {
    "duration": 53,
    "start_time": "2024-02-22T15:58:22.485Z"
   },
   {
    "duration": 27,
    "start_time": "2024-02-22T15:58:22.540Z"
   },
   {
    "duration": 917,
    "start_time": "2024-02-22T15:58:22.569Z"
   },
   {
    "duration": 29,
    "start_time": "2024-02-22T15:58:23.488Z"
   },
   {
    "duration": 151,
    "start_time": "2024-02-22T15:58:23.519Z"
   },
   {
    "duration": 344,
    "start_time": "2024-02-22T15:58:23.672Z"
   },
   {
    "duration": 18,
    "start_time": "2024-02-22T15:58:24.018Z"
   },
   {
    "duration": 188,
    "start_time": "2024-02-22T15:58:24.037Z"
   },
   {
    "duration": 299,
    "start_time": "2024-02-22T15:58:24.227Z"
   },
   {
    "duration": 18,
    "start_time": "2024-02-22T15:58:24.531Z"
   },
   {
    "duration": 456,
    "start_time": "2024-02-22T15:58:24.551Z"
   },
   {
    "duration": 51,
    "start_time": "2024-02-22T15:58:25.010Z"
   },
   {
    "duration": 152,
    "start_time": "2024-02-22T15:58:25.062Z"
   },
   {
    "duration": 10896,
    "start_time": "2024-02-22T15:58:25.216Z"
   },
   {
    "duration": 33,
    "start_time": "2024-02-22T15:58:36.114Z"
   },
   {
    "duration": 11,
    "start_time": "2024-02-22T15:58:36.149Z"
   },
   {
    "duration": 221,
    "start_time": "2024-02-22T15:58:36.162Z"
   },
   {
    "duration": 170,
    "start_time": "2024-02-22T15:58:36.384Z"
   },
   {
    "duration": 123,
    "start_time": "2024-02-22T15:58:36.556Z"
   },
   {
    "duration": 204,
    "start_time": "2024-02-22T15:58:36.680Z"
   },
   {
    "duration": 184,
    "start_time": "2024-02-22T15:58:36.885Z"
   },
   {
    "duration": 191,
    "start_time": "2024-02-22T15:58:37.071Z"
   },
   {
    "duration": 20,
    "start_time": "2024-02-22T15:58:37.263Z"
   },
   {
    "duration": 233,
    "start_time": "2024-02-22T15:58:37.294Z"
   },
   {
    "duration": 6,
    "start_time": "2024-02-22T15:58:37.529Z"
   },
   {
    "duration": 38,
    "start_time": "2024-02-22T15:58:37.537Z"
   },
   {
    "duration": 31,
    "start_time": "2024-02-22T15:58:37.577Z"
   },
   {
    "duration": 61,
    "start_time": "2024-02-22T15:58:37.610Z"
   },
   {
    "duration": 20,
    "start_time": "2024-02-22T15:58:37.672Z"
   },
   {
    "duration": 57,
    "start_time": "2024-02-22T15:58:37.693Z"
   },
   {
    "duration": 34,
    "start_time": "2024-02-22T15:58:37.752Z"
   },
   {
    "duration": 256,
    "start_time": "2024-02-22T15:58:37.787Z"
   },
   {
    "duration": 38,
    "start_time": "2024-02-22T15:58:38.045Z"
   },
   {
    "duration": 182,
    "start_time": "2024-02-22T15:58:38.084Z"
   },
   {
    "duration": 7,
    "start_time": "2024-02-22T15:58:38.268Z"
   },
   {
    "duration": 46,
    "start_time": "2024-02-22T15:58:38.276Z"
   },
   {
    "duration": 31,
    "start_time": "2024-02-22T15:58:38.324Z"
   },
   {
    "duration": 146,
    "start_time": "2024-02-22T15:58:38.358Z"
   },
   {
    "duration": 9,
    "start_time": "2024-02-22T15:58:38.511Z"
   },
   {
    "duration": 1531,
    "start_time": "2024-02-22T21:27:44.368Z"
   },
   {
    "duration": 359,
    "start_time": "2024-02-22T21:27:45.902Z"
   },
   {
    "duration": 23,
    "start_time": "2024-02-22T21:27:46.263Z"
   },
   {
    "duration": 11,
    "start_time": "2024-02-22T21:27:46.288Z"
   },
   {
    "duration": 21,
    "start_time": "2024-02-22T21:27:46.301Z"
   },
   {
    "duration": 13,
    "start_time": "2024-02-22T21:27:46.325Z"
   },
   {
    "duration": 11,
    "start_time": "2024-02-22T21:27:46.340Z"
   },
   {
    "duration": 31,
    "start_time": "2024-02-22T21:27:46.352Z"
   },
   {
    "duration": 25,
    "start_time": "2024-02-22T21:27:46.385Z"
   },
   {
    "duration": 42,
    "start_time": "2024-02-22T21:27:46.414Z"
   },
   {
    "duration": 28,
    "start_time": "2024-02-22T21:27:46.480Z"
   },
   {
    "duration": 26,
    "start_time": "2024-02-22T21:27:46.509Z"
   },
   {
    "duration": 45,
    "start_time": "2024-02-22T21:27:46.537Z"
   },
   {
    "duration": 10,
    "start_time": "2024-02-22T21:27:46.584Z"
   },
   {
    "duration": 31,
    "start_time": "2024-02-22T21:27:46.596Z"
   },
   {
    "duration": 6,
    "start_time": "2024-02-22T21:27:46.629Z"
   },
   {
    "duration": 11,
    "start_time": "2024-02-22T21:27:46.637Z"
   },
   {
    "duration": 9,
    "start_time": "2024-02-22T21:27:46.649Z"
   },
   {
    "duration": 53,
    "start_time": "2024-02-22T21:27:46.659Z"
   },
   {
    "duration": 27,
    "start_time": "2024-02-22T21:27:46.714Z"
   },
   {
    "duration": 957,
    "start_time": "2024-02-22T21:27:46.743Z"
   },
   {
    "duration": 17,
    "start_time": "2024-02-22T21:27:47.702Z"
   },
   {
    "duration": 15,
    "start_time": "2024-02-22T21:27:47.720Z"
   },
   {
    "duration": 134,
    "start_time": "2024-02-22T21:27:47.737Z"
   },
   {
    "duration": 18,
    "start_time": "2024-02-22T21:27:47.873Z"
   },
   {
    "duration": 14,
    "start_time": "2024-02-22T21:27:47.893Z"
   },
   {
    "duration": 134,
    "start_time": "2024-02-22T21:27:47.909Z"
   },
   {
    "duration": 11,
    "start_time": "2024-02-22T21:27:48.047Z"
   },
   {
    "duration": 240,
    "start_time": "2024-02-22T21:27:48.060Z"
   },
   {
    "duration": 17,
    "start_time": "2024-02-22T21:27:48.302Z"
   },
   {
    "duration": 11,
    "start_time": "2024-02-22T21:27:48.321Z"
   },
   {
    "duration": 9300,
    "start_time": "2024-02-22T21:27:48.334Z"
   },
   {
    "duration": 24,
    "start_time": "2024-02-22T21:27:57.636Z"
   },
   {
    "duration": 5,
    "start_time": "2024-02-22T21:27:57.679Z"
   },
   {
    "duration": 155,
    "start_time": "2024-02-22T21:27:57.686Z"
   },
   {
    "duration": 141,
    "start_time": "2024-02-22T21:27:57.843Z"
   },
   {
    "duration": 127,
    "start_time": "2024-02-22T21:27:57.985Z"
   },
   {
    "duration": 171,
    "start_time": "2024-02-22T21:27:58.115Z"
   },
   {
    "duration": 148,
    "start_time": "2024-02-22T21:27:58.288Z"
   },
   {
    "duration": 184,
    "start_time": "2024-02-22T21:27:58.438Z"
   },
   {
    "duration": 20,
    "start_time": "2024-02-22T21:27:58.625Z"
   },
   {
    "duration": 220,
    "start_time": "2024-02-22T21:27:58.647Z"
   },
   {
    "duration": 13,
    "start_time": "2024-02-22T21:27:58.870Z"
   },
   {
    "duration": 24,
    "start_time": "2024-02-22T21:27:58.885Z"
   },
   {
    "duration": 22,
    "start_time": "2024-02-22T21:27:58.910Z"
   },
   {
    "duration": 53,
    "start_time": "2024-02-22T21:27:58.934Z"
   },
   {
    "duration": 31,
    "start_time": "2024-02-22T21:27:58.989Z"
   },
   {
    "duration": 24,
    "start_time": "2024-02-22T21:27:59.022Z"
   },
   {
    "duration": 44,
    "start_time": "2024-02-22T21:27:59.047Z"
   },
   {
    "duration": 234,
    "start_time": "2024-02-22T21:27:59.094Z"
   },
   {
    "duration": 52,
    "start_time": "2024-02-22T21:27:59.330Z"
   },
   {
    "duration": 201,
    "start_time": "2024-02-22T21:27:59.384Z"
   },
   {
    "duration": 10,
    "start_time": "2024-02-22T21:27:59.587Z"
   },
   {
    "duration": 45,
    "start_time": "2024-02-22T21:27:59.599Z"
   },
   {
    "duration": 12,
    "start_time": "2024-02-22T21:27:59.646Z"
   },
   {
    "duration": 150,
    "start_time": "2024-02-22T21:27:59.660Z"
   },
   {
    "duration": 7,
    "start_time": "2024-02-22T21:27:59.812Z"
   },
   {
    "duration": 123,
    "start_time": "2024-02-22T21:32:39.437Z"
   },
   {
    "duration": 137,
    "start_time": "2024-02-22T21:32:56.715Z"
   },
   {
    "duration": 6,
    "start_time": "2024-02-22T21:33:05.864Z"
   },
   {
    "duration": 117,
    "start_time": "2024-02-22T21:38:52.278Z"
   },
   {
    "duration": 30,
    "start_time": "2024-02-22T21:39:27.768Z"
   },
   {
    "duration": 175,
    "start_time": "2024-02-22T21:40:00.497Z"
   },
   {
    "duration": 255,
    "start_time": "2024-02-22T21:40:10.358Z"
   },
   {
    "duration": 49,
    "start_time": "2024-02-23T04:50:34.887Z"
   },
   {
    "duration": 1471,
    "start_time": "2024-02-23T04:50:50.356Z"
   },
   {
    "duration": 361,
    "start_time": "2024-02-23T04:50:51.830Z"
   },
   {
    "duration": 21,
    "start_time": "2024-02-23T04:50:52.192Z"
   },
   {
    "duration": 10,
    "start_time": "2024-02-23T04:50:52.215Z"
   },
   {
    "duration": 12,
    "start_time": "2024-02-23T04:50:52.227Z"
   },
   {
    "duration": 9,
    "start_time": "2024-02-23T04:50:52.241Z"
   },
   {
    "duration": 12,
    "start_time": "2024-02-23T04:50:52.279Z"
   },
   {
    "duration": 6,
    "start_time": "2024-02-23T04:50:52.293Z"
   },
   {
    "duration": 27,
    "start_time": "2024-02-23T04:50:52.301Z"
   },
   {
    "duration": 64,
    "start_time": "2024-02-23T04:50:52.331Z"
   },
   {
    "duration": 25,
    "start_time": "2024-02-23T04:50:52.396Z"
   },
   {
    "duration": 19,
    "start_time": "2024-02-23T04:50:52.423Z"
   },
   {
    "duration": 42,
    "start_time": "2024-02-23T04:50:52.444Z"
   },
   {
    "duration": 12,
    "start_time": "2024-02-23T04:50:52.488Z"
   },
   {
    "duration": 11,
    "start_time": "2024-02-23T04:50:52.502Z"
   },
   {
    "duration": 11,
    "start_time": "2024-02-23T04:50:52.515Z"
   },
   {
    "duration": 11,
    "start_time": "2024-02-23T04:50:52.528Z"
   },
   {
    "duration": 11,
    "start_time": "2024-02-23T04:50:52.541Z"
   },
   {
    "duration": 59,
    "start_time": "2024-02-23T04:50:52.553Z"
   },
   {
    "duration": 23,
    "start_time": "2024-02-23T04:50:52.614Z"
   },
   {
    "duration": 883,
    "start_time": "2024-02-23T04:50:52.638Z"
   },
   {
    "duration": 16,
    "start_time": "2024-02-23T04:50:53.522Z"
   },
   {
    "duration": 32,
    "start_time": "2024-02-23T04:50:53.539Z"
   },
   {
    "duration": 125,
    "start_time": "2024-02-23T04:50:53.573Z"
   },
   {
    "duration": 15,
    "start_time": "2024-02-23T04:50:53.699Z"
   },
   {
    "duration": 17,
    "start_time": "2024-02-23T04:50:53.715Z"
   },
   {
    "duration": 131,
    "start_time": "2024-02-23T04:50:53.734Z"
   },
   {
    "duration": 18,
    "start_time": "2024-02-23T04:50:53.870Z"
   },
   {
    "duration": 220,
    "start_time": "2024-02-23T04:50:53.890Z"
   },
   {
    "duration": 27,
    "start_time": "2024-02-23T04:50:54.112Z"
   },
   {
    "duration": 5,
    "start_time": "2024-02-23T04:50:54.140Z"
   },
   {
    "duration": 8860,
    "start_time": "2024-02-23T04:50:54.146Z"
   },
   {
    "duration": 23,
    "start_time": "2024-02-23T04:51:03.008Z"
   },
   {
    "duration": 90,
    "start_time": "2024-02-23T04:51:03.033Z"
   },
   {
    "duration": 142,
    "start_time": "2024-02-23T04:51:03.125Z"
   },
   {
    "duration": 125,
    "start_time": "2024-02-23T04:51:03.270Z"
   },
   {
    "duration": 199,
    "start_time": "2024-02-23T04:51:03.397Z"
   },
   {
    "duration": 35,
    "start_time": "2024-02-23T04:51:03.598Z"
   },
   {
    "duration": 170,
    "start_time": "2024-02-23T04:51:03.635Z"
   },
   {
    "duration": 139,
    "start_time": "2024-02-23T04:51:03.807Z"
   },
   {
    "duration": 169,
    "start_time": "2024-02-23T04:51:03.948Z"
   },
   {
    "duration": 25,
    "start_time": "2024-02-23T04:51:04.119Z"
   },
   {
    "duration": 215,
    "start_time": "2024-02-23T04:51:04.146Z"
   },
   {
    "duration": 18,
    "start_time": "2024-02-23T04:51:04.363Z"
   },
   {
    "duration": 25,
    "start_time": "2024-02-23T04:51:04.383Z"
   },
   {
    "duration": 22,
    "start_time": "2024-02-23T04:51:04.410Z"
   },
   {
    "duration": 48,
    "start_time": "2024-02-23T04:51:04.434Z"
   },
   {
    "duration": 22,
    "start_time": "2024-02-23T04:51:04.484Z"
   },
   {
    "duration": 22,
    "start_time": "2024-02-23T04:51:04.508Z"
   },
   {
    "duration": 49,
    "start_time": "2024-02-23T04:51:04.532Z"
   },
   {
    "duration": 233,
    "start_time": "2024-02-23T04:51:04.584Z"
   },
   {
    "duration": 40,
    "start_time": "2024-02-23T04:51:04.819Z"
   },
   {
    "duration": 180,
    "start_time": "2024-02-23T04:51:04.861Z"
   },
   {
    "duration": 7,
    "start_time": "2024-02-23T04:51:05.043Z"
   },
   {
    "duration": 43,
    "start_time": "2024-02-23T04:51:05.051Z"
   },
   {
    "duration": 9,
    "start_time": "2024-02-23T04:51:05.096Z"
   },
   {
    "duration": 140,
    "start_time": "2024-02-23T04:51:05.106Z"
   },
   {
    "duration": 6,
    "start_time": "2024-02-23T04:51:05.248Z"
   },
   {
    "duration": 45,
    "start_time": "2024-02-23T05:58:51.528Z"
   },
   {
    "duration": 120,
    "start_time": "2024-02-23T06:09:20.038Z"
   },
   {
    "duration": 15,
    "start_time": "2024-02-23T06:11:04.636Z"
   },
   {
    "duration": 46,
    "start_time": "2024-02-23T06:11:23.359Z"
   },
   {
    "duration": 18,
    "start_time": "2024-02-23T06:12:06.870Z"
   },
   {
    "duration": 1269,
    "start_time": "2024-02-23T06:16:27.088Z"
   },
   {
    "duration": 159,
    "start_time": "2024-02-23T06:16:28.359Z"
   },
   {
    "duration": 23,
    "start_time": "2024-02-23T06:16:28.523Z"
   },
   {
    "duration": 10,
    "start_time": "2024-02-23T06:16:28.548Z"
   },
   {
    "duration": 14,
    "start_time": "2024-02-23T06:16:28.581Z"
   },
   {
    "duration": 10,
    "start_time": "2024-02-23T06:16:28.596Z"
   },
   {
    "duration": 17,
    "start_time": "2024-02-23T06:16:28.607Z"
   },
   {
    "duration": 7,
    "start_time": "2024-02-23T06:16:28.626Z"
   },
   {
    "duration": 34,
    "start_time": "2024-02-23T06:16:28.636Z"
   },
   {
    "duration": 37,
    "start_time": "2024-02-23T06:16:28.681Z"
   },
   {
    "duration": 26,
    "start_time": "2024-02-23T06:16:28.720Z"
   },
   {
    "duration": 38,
    "start_time": "2024-02-23T06:16:28.748Z"
   },
   {
    "duration": 15,
    "start_time": "2024-02-23T06:16:28.788Z"
   },
   {
    "duration": 5,
    "start_time": "2024-02-23T06:16:28.804Z"
   },
   {
    "duration": 13,
    "start_time": "2024-02-23T06:16:28.810Z"
   },
   {
    "duration": 13,
    "start_time": "2024-02-23T06:16:28.825Z"
   },
   {
    "duration": 17,
    "start_time": "2024-02-23T06:16:28.840Z"
   },
   {
    "duration": 25,
    "start_time": "2024-02-23T06:16:28.858Z"
   },
   {
    "duration": 40,
    "start_time": "2024-02-23T06:16:28.885Z"
   },
   {
    "duration": 23,
    "start_time": "2024-02-23T06:16:28.927Z"
   },
   {
    "duration": 909,
    "start_time": "2024-02-23T06:16:28.952Z"
   },
   {
    "duration": 21,
    "start_time": "2024-02-23T06:16:29.863Z"
   },
   {
    "duration": 8,
    "start_time": "2024-02-23T06:16:29.886Z"
   },
   {
    "duration": 118,
    "start_time": "2024-02-23T06:16:29.896Z"
   },
   {
    "duration": 13,
    "start_time": "2024-02-23T06:16:30.016Z"
   },
   {
    "duration": 39,
    "start_time": "2024-02-23T06:16:30.031Z"
   },
   {
    "duration": 146,
    "start_time": "2024-02-23T06:16:30.074Z"
   },
   {
    "duration": 8,
    "start_time": "2024-02-23T06:16:30.221Z"
   },
   {
    "duration": 243,
    "start_time": "2024-02-23T06:16:30.231Z"
   },
   {
    "duration": 33,
    "start_time": "2024-02-23T06:16:30.476Z"
   },
   {
    "duration": 133,
    "start_time": "2024-02-23T06:16:30.511Z"
   },
   {
    "duration": 39,
    "start_time": "2024-02-23T06:16:30.646Z"
   },
   {
    "duration": 8962,
    "start_time": "2024-02-23T06:16:30.687Z"
   },
   {
    "duration": 30,
    "start_time": "2024-02-23T06:16:39.651Z"
   },
   {
    "duration": 11,
    "start_time": "2024-02-23T06:16:39.683Z"
   },
   {
    "duration": 153,
    "start_time": "2024-02-23T06:16:39.696Z"
   },
   {
    "duration": 131,
    "start_time": "2024-02-23T06:16:39.851Z"
   },
   {
    "duration": 208,
    "start_time": "2024-02-23T06:16:39.984Z"
   },
   {
    "duration": 157,
    "start_time": "2024-02-23T06:16:40.194Z"
   },
   {
    "duration": 142,
    "start_time": "2024-02-23T06:16:40.354Z"
   },
   {
    "duration": 177,
    "start_time": "2024-02-23T06:16:40.498Z"
   },
   {
    "duration": 29,
    "start_time": "2024-02-23T06:16:40.680Z"
   },
   {
    "duration": 195,
    "start_time": "2024-02-23T06:16:40.711Z"
   },
   {
    "duration": 5,
    "start_time": "2024-02-23T06:16:40.907Z"
   },
   {
    "duration": 42,
    "start_time": "2024-02-23T06:16:40.913Z"
   },
   {
    "duration": 27,
    "start_time": "2024-02-23T06:16:40.957Z"
   },
   {
    "duration": 35,
    "start_time": "2024-02-23T06:16:40.986Z"
   },
   {
    "duration": 34,
    "start_time": "2024-02-23T06:16:41.022Z"
   },
   {
    "duration": 42,
    "start_time": "2024-02-23T06:16:41.058Z"
   },
   {
    "duration": 29,
    "start_time": "2024-02-23T06:16:41.102Z"
   },
   {
    "duration": 227,
    "start_time": "2024-02-23T06:16:41.133Z"
   },
   {
    "duration": 47,
    "start_time": "2024-02-23T06:16:41.362Z"
   },
   {
    "duration": 170,
    "start_time": "2024-02-23T06:16:41.410Z"
   },
   {
    "duration": 6,
    "start_time": "2024-02-23T06:16:41.582Z"
   },
   {
    "duration": 65,
    "start_time": "2024-02-23T06:16:41.590Z"
   },
   {
    "duration": 30,
    "start_time": "2024-02-23T06:16:41.656Z"
   },
   {
    "duration": 136,
    "start_time": "2024-02-23T06:16:41.688Z"
   },
   {
    "duration": 8,
    "start_time": "2024-02-23T06:16:41.826Z"
   },
   {
    "duration": 145,
    "start_time": "2024-02-23T06:53:36.181Z"
   },
   {
    "duration": 143,
    "start_time": "2024-02-23T06:54:12.204Z"
   },
   {
    "duration": 101,
    "start_time": "2024-02-23T06:55:34.893Z"
   },
   {
    "duration": 150,
    "start_time": "2024-02-23T07:06:23.073Z"
   },
   {
    "duration": 231,
    "start_time": "2024-02-23T07:07:33.253Z"
   },
   {
    "duration": 262,
    "start_time": "2024-02-23T07:13:47.285Z"
   },
   {
    "duration": 372,
    "start_time": "2024-02-23T07:14:13.746Z"
   },
   {
    "duration": 263,
    "start_time": "2024-02-23T07:14:22.509Z"
   },
   {
    "duration": 267,
    "start_time": "2024-02-23T07:14:35.866Z"
   },
   {
    "duration": 261,
    "start_time": "2024-02-23T07:14:47.627Z"
   },
   {
    "duration": 357,
    "start_time": "2024-02-23T07:16:40.772Z"
   },
   {
    "duration": 290,
    "start_time": "2024-02-23T07:18:48.636Z"
   },
   {
    "duration": 281,
    "start_time": "2024-02-23T07:19:28.607Z"
   },
   {
    "duration": 250,
    "start_time": "2024-02-23T07:19:54.142Z"
   },
   {
    "duration": 156,
    "start_time": "2024-02-23T07:21:09.216Z"
   },
   {
    "duration": 117,
    "start_time": "2024-02-23T07:21:39.851Z"
   },
   {
    "duration": 1215,
    "start_time": "2024-02-23T07:28:03.426Z"
   },
   {
    "duration": 155,
    "start_time": "2024-02-23T07:28:04.643Z"
   },
   {
    "duration": 22,
    "start_time": "2024-02-23T07:28:04.800Z"
   },
   {
    "duration": 16,
    "start_time": "2024-02-23T07:28:04.824Z"
   },
   {
    "duration": 29,
    "start_time": "2024-02-23T07:28:04.842Z"
   },
   {
    "duration": 16,
    "start_time": "2024-02-23T07:28:04.873Z"
   },
   {
    "duration": 21,
    "start_time": "2024-02-23T07:28:04.890Z"
   },
   {
    "duration": 27,
    "start_time": "2024-02-23T07:28:04.913Z"
   },
   {
    "duration": 40,
    "start_time": "2024-02-23T07:28:04.942Z"
   },
   {
    "duration": 35,
    "start_time": "2024-02-23T07:28:04.986Z"
   },
   {
    "duration": 26,
    "start_time": "2024-02-23T07:28:05.023Z"
   },
   {
    "duration": 45,
    "start_time": "2024-02-23T07:28:05.051Z"
   },
   {
    "duration": 20,
    "start_time": "2024-02-23T07:28:05.098Z"
   },
   {
    "duration": 11,
    "start_time": "2024-02-23T07:28:05.120Z"
   },
   {
    "duration": 20,
    "start_time": "2024-02-23T07:28:05.133Z"
   },
   {
    "duration": 17,
    "start_time": "2024-02-23T07:28:05.154Z"
   },
   {
    "duration": 11,
    "start_time": "2024-02-23T07:28:05.173Z"
   },
   {
    "duration": 11,
    "start_time": "2024-02-23T07:28:05.186Z"
   },
   {
    "duration": 36,
    "start_time": "2024-02-23T07:28:05.199Z"
   },
   {
    "duration": 47,
    "start_time": "2024-02-23T07:28:05.236Z"
   },
   {
    "duration": 876,
    "start_time": "2024-02-23T07:28:05.285Z"
   },
   {
    "duration": 24,
    "start_time": "2024-02-23T07:28:06.163Z"
   },
   {
    "duration": 18,
    "start_time": "2024-02-23T07:28:06.188Z"
   },
   {
    "duration": 124,
    "start_time": "2024-02-23T07:28:06.207Z"
   },
   {
    "duration": 14,
    "start_time": "2024-02-23T07:28:06.332Z"
   },
   {
    "duration": 42,
    "start_time": "2024-02-23T07:28:06.348Z"
   },
   {
    "duration": 141,
    "start_time": "2024-02-23T07:28:06.392Z"
   },
   {
    "duration": 8,
    "start_time": "2024-02-23T07:28:06.538Z"
   },
   {
    "duration": 233,
    "start_time": "2024-02-23T07:28:06.547Z"
   },
   {
    "duration": 25,
    "start_time": "2024-02-23T07:28:06.781Z"
   },
   {
    "duration": 33,
    "start_time": "2024-02-23T07:28:06.807Z"
   },
   {
    "duration": 22,
    "start_time": "2024-02-23T07:28:06.842Z"
   },
   {
    "duration": 8991,
    "start_time": "2024-02-23T07:28:06.865Z"
   },
   {
    "duration": 30,
    "start_time": "2024-02-23T07:28:15.858Z"
   },
   {
    "duration": 5,
    "start_time": "2024-02-23T07:28:15.889Z"
   },
   {
    "duration": 164,
    "start_time": "2024-02-23T07:28:15.896Z"
   },
   {
    "duration": 153,
    "start_time": "2024-02-23T07:28:16.062Z"
   },
   {
    "duration": 204,
    "start_time": "2024-02-23T07:28:16.217Z"
   },
   {
    "duration": 154,
    "start_time": "2024-02-23T07:28:16.422Z"
   },
   {
    "duration": 21,
    "start_time": "2024-02-23T07:28:16.579Z"
   },
   {
    "duration": 188,
    "start_time": "2024-02-23T07:28:16.601Z"
   },
   {
    "duration": 5,
    "start_time": "2024-02-23T07:28:16.790Z"
   },
   {
    "duration": 39,
    "start_time": "2024-02-23T07:28:16.796Z"
   },
   {
    "duration": 24,
    "start_time": "2024-02-23T07:28:16.837Z"
   },
   {
    "duration": 33,
    "start_time": "2024-02-23T07:28:16.863Z"
   },
   {
    "duration": 20,
    "start_time": "2024-02-23T07:28:16.898Z"
   },
   {
    "duration": 20,
    "start_time": "2024-02-23T07:28:16.920Z"
   },
   {
    "duration": 46,
    "start_time": "2024-02-23T07:28:16.941Z"
   },
   {
    "duration": 265,
    "start_time": "2024-02-23T07:28:16.989Z"
   },
   {
    "duration": 55,
    "start_time": "2024-02-23T07:28:17.256Z"
   },
   {
    "duration": 169,
    "start_time": "2024-02-23T07:28:17.313Z"
   },
   {
    "duration": 6,
    "start_time": "2024-02-23T07:28:17.484Z"
   },
   {
    "duration": 28,
    "start_time": "2024-02-23T07:28:17.491Z"
   },
   {
    "duration": 8,
    "start_time": "2024-02-23T07:28:17.521Z"
   },
   {
    "duration": 130,
    "start_time": "2024-02-23T07:28:17.531Z"
   },
   {
    "duration": 5,
    "start_time": "2024-02-23T07:28:17.663Z"
   },
   {
    "duration": 1269,
    "start_time": "2024-02-23T07:55:30.186Z"
   },
   {
    "duration": 157,
    "start_time": "2024-02-23T07:55:31.457Z"
   },
   {
    "duration": 23,
    "start_time": "2024-02-23T07:55:31.616Z"
   },
   {
    "duration": 68,
    "start_time": "2024-02-23T07:55:31.641Z"
   },
   {
    "duration": 29,
    "start_time": "2024-02-23T07:55:31.711Z"
   },
   {
    "duration": 48,
    "start_time": "2024-02-23T07:55:31.742Z"
   },
   {
    "duration": 52,
    "start_time": "2024-02-23T07:55:31.792Z"
   },
   {
    "duration": 60,
    "start_time": "2024-02-23T07:55:31.846Z"
   },
   {
    "duration": 50,
    "start_time": "2024-02-23T07:55:31.908Z"
   },
   {
    "duration": 36,
    "start_time": "2024-02-23T07:55:31.959Z"
   },
   {
    "duration": 54,
    "start_time": "2024-02-23T07:55:31.996Z"
   },
   {
    "duration": 34,
    "start_time": "2024-02-23T07:55:32.052Z"
   },
   {
    "duration": 22,
    "start_time": "2024-02-23T07:55:32.088Z"
   },
   {
    "duration": 106,
    "start_time": "2024-02-23T07:55:32.115Z"
   },
   {
    "duration": 12,
    "start_time": "2024-02-23T07:55:32.224Z"
   },
   {
    "duration": 14,
    "start_time": "2024-02-23T07:55:32.238Z"
   },
   {
    "duration": 13,
    "start_time": "2024-02-23T07:55:32.254Z"
   },
   {
    "duration": 12,
    "start_time": "2024-02-23T07:55:32.269Z"
   },
   {
    "duration": 36,
    "start_time": "2024-02-23T07:55:32.283Z"
   },
   {
    "duration": 24,
    "start_time": "2024-02-23T07:55:32.321Z"
   },
   {
    "duration": 919,
    "start_time": "2024-02-23T07:55:32.347Z"
   },
   {
    "duration": 20,
    "start_time": "2024-02-23T07:55:33.268Z"
   },
   {
    "duration": 8,
    "start_time": "2024-02-23T07:55:33.290Z"
   },
   {
    "duration": 124,
    "start_time": "2024-02-23T07:55:33.299Z"
   },
   {
    "duration": 14,
    "start_time": "2024-02-23T07:55:33.424Z"
   },
   {
    "duration": 22,
    "start_time": "2024-02-23T07:55:33.440Z"
   },
   {
    "duration": 127,
    "start_time": "2024-02-23T07:55:33.464Z"
   },
   {
    "duration": 8,
    "start_time": "2024-02-23T07:55:33.593Z"
   },
   {
    "duration": 226,
    "start_time": "2024-02-23T07:55:33.603Z"
   },
   {
    "duration": 28,
    "start_time": "2024-02-23T07:55:33.831Z"
   },
   {
    "duration": 29,
    "start_time": "2024-02-23T07:55:33.879Z"
   },
   {
    "duration": 4,
    "start_time": "2024-02-23T07:55:33.910Z"
   },
   {
    "duration": 9115,
    "start_time": "2024-02-23T07:55:33.916Z"
   },
   {
    "duration": 23,
    "start_time": "2024-02-23T07:55:43.033Z"
   },
   {
    "duration": 25,
    "start_time": "2024-02-23T07:55:43.058Z"
   },
   {
    "duration": 166,
    "start_time": "2024-02-23T07:55:43.085Z"
   },
   {
    "duration": 150,
    "start_time": "2024-02-23T07:55:43.253Z"
   },
   {
    "duration": 212,
    "start_time": "2024-02-23T07:55:43.405Z"
   },
   {
    "duration": 172,
    "start_time": "2024-02-23T07:55:43.619Z"
   },
   {
    "duration": 22,
    "start_time": "2024-02-23T07:55:43.792Z"
   },
   {
    "duration": 211,
    "start_time": "2024-02-23T07:55:43.818Z"
   },
   {
    "duration": 4,
    "start_time": "2024-02-23T07:55:44.031Z"
   },
   {
    "duration": 43,
    "start_time": "2024-02-23T07:55:44.037Z"
   },
   {
    "duration": 22,
    "start_time": "2024-02-23T07:55:44.082Z"
   },
   {
    "duration": 20,
    "start_time": "2024-02-23T07:55:44.106Z"
   },
   {
    "duration": 21,
    "start_time": "2024-02-23T07:55:44.128Z"
   },
   {
    "duration": 49,
    "start_time": "2024-02-23T07:55:44.151Z"
   },
   {
    "duration": 23,
    "start_time": "2024-02-23T07:55:44.201Z"
   },
   {
    "duration": 277,
    "start_time": "2024-02-23T07:55:44.225Z"
   },
   {
    "duration": 51,
    "start_time": "2024-02-23T07:55:44.504Z"
   },
   {
    "duration": 194,
    "start_time": "2024-02-23T07:55:44.557Z"
   },
   {
    "duration": 6,
    "start_time": "2024-02-23T07:55:44.753Z"
   },
   {
    "duration": 44,
    "start_time": "2024-02-23T07:55:44.760Z"
   },
   {
    "duration": 8,
    "start_time": "2024-02-23T07:55:44.806Z"
   },
   {
    "duration": 133,
    "start_time": "2024-02-23T07:55:44.816Z"
   },
   {
    "duration": 6,
    "start_time": "2024-02-23T07:55:44.951Z"
   },
   {
    "duration": 110,
    "start_time": "2024-02-23T08:03:47.344Z"
   },
   {
    "duration": 13,
    "start_time": "2024-02-23T08:03:55.100Z"
   },
   {
    "duration": 13,
    "start_time": "2024-02-23T08:04:16.252Z"
   },
   {
    "duration": 1250,
    "start_time": "2024-02-23T08:04:42.458Z"
   },
   {
    "duration": 150,
    "start_time": "2024-02-23T08:04:43.710Z"
   },
   {
    "duration": 21,
    "start_time": "2024-02-23T08:04:43.861Z"
   },
   {
    "duration": 10,
    "start_time": "2024-02-23T08:04:43.884Z"
   },
   {
    "duration": 12,
    "start_time": "2024-02-23T08:04:43.895Z"
   },
   {
    "duration": 21,
    "start_time": "2024-02-23T08:04:43.909Z"
   },
   {
    "duration": 9,
    "start_time": "2024-02-23T08:04:43.931Z"
   },
   {
    "duration": 6,
    "start_time": "2024-02-23T08:04:43.941Z"
   },
   {
    "duration": 48,
    "start_time": "2024-02-23T08:04:43.948Z"
   },
   {
    "duration": 32,
    "start_time": "2024-02-23T08:04:43.998Z"
   },
   {
    "duration": 24,
    "start_time": "2024-02-23T08:04:44.032Z"
   },
   {
    "duration": 37,
    "start_time": "2024-02-23T08:04:44.058Z"
   },
   {
    "duration": 18,
    "start_time": "2024-02-23T08:04:44.096Z"
   },
   {
    "duration": 4,
    "start_time": "2024-02-23T08:04:44.115Z"
   },
   {
    "duration": 16,
    "start_time": "2024-02-23T08:04:44.120Z"
   },
   {
    "duration": 13,
    "start_time": "2024-02-23T08:04:44.137Z"
   },
   {
    "duration": 38,
    "start_time": "2024-02-23T08:04:44.151Z"
   },
   {
    "duration": 36,
    "start_time": "2024-02-23T08:04:44.191Z"
   },
   {
    "duration": 35,
    "start_time": "2024-02-23T08:04:44.229Z"
   },
   {
    "duration": 24,
    "start_time": "2024-02-23T08:04:44.265Z"
   },
   {
    "duration": 845,
    "start_time": "2024-02-23T08:04:44.291Z"
   },
   {
    "duration": 17,
    "start_time": "2024-02-23T08:04:45.138Z"
   },
   {
    "duration": 48,
    "start_time": "2024-02-23T08:04:45.157Z"
   },
   {
    "duration": 116,
    "start_time": "2024-02-23T08:04:45.206Z"
   },
   {
    "duration": 16,
    "start_time": "2024-02-23T08:04:45.323Z"
   },
   {
    "duration": 63,
    "start_time": "2024-02-23T08:04:45.340Z"
   },
   {
    "duration": 141,
    "start_time": "2024-02-23T08:04:45.405Z"
   },
   {
    "duration": 8,
    "start_time": "2024-02-23T08:04:45.550Z"
   },
   {
    "duration": 222,
    "start_time": "2024-02-23T08:04:45.560Z"
   },
   {
    "duration": 26,
    "start_time": "2024-02-23T08:04:45.784Z"
   },
   {
    "duration": 24,
    "start_time": "2024-02-23T08:04:45.812Z"
   },
   {
    "duration": 4,
    "start_time": "2024-02-23T08:04:45.837Z"
   },
   {
    "duration": 8801,
    "start_time": "2024-02-23T08:04:45.843Z"
   },
   {
    "duration": 22,
    "start_time": "2024-02-23T08:04:54.645Z"
   },
   {
    "duration": 13,
    "start_time": "2024-02-23T08:04:54.668Z"
   },
   {
    "duration": 170,
    "start_time": "2024-02-23T08:04:54.682Z"
   },
   {
    "duration": 138,
    "start_time": "2024-02-23T08:04:54.853Z"
   },
   {
    "duration": 204,
    "start_time": "2024-02-23T08:04:54.993Z"
   },
   {
    "duration": 152,
    "start_time": "2024-02-23T08:04:55.199Z"
   },
   {
    "duration": 29,
    "start_time": "2024-02-23T08:04:55.352Z"
   },
   {
    "duration": 190,
    "start_time": "2024-02-23T08:04:55.383Z"
   },
   {
    "duration": 8,
    "start_time": "2024-02-23T08:04:55.574Z"
   },
   {
    "duration": 23,
    "start_time": "2024-02-23T08:04:55.583Z"
   },
   {
    "duration": 19,
    "start_time": "2024-02-23T08:04:55.607Z"
   },
   {
    "duration": 21,
    "start_time": "2024-02-23T08:04:55.628Z"
   },
   {
    "duration": 49,
    "start_time": "2024-02-23T08:04:55.650Z"
   },
   {
    "duration": 21,
    "start_time": "2024-02-23T08:04:55.701Z"
   },
   {
    "duration": 23,
    "start_time": "2024-02-23T08:04:55.723Z"
   },
   {
    "duration": 271,
    "start_time": "2024-02-23T08:04:55.747Z"
   },
   {
    "duration": 38,
    "start_time": "2024-02-23T08:04:56.019Z"
   },
   {
    "duration": 176,
    "start_time": "2024-02-23T08:04:56.059Z"
   },
   {
    "duration": 6,
    "start_time": "2024-02-23T08:04:56.237Z"
   },
   {
    "duration": 41,
    "start_time": "2024-02-23T08:04:56.244Z"
   },
   {
    "duration": 9,
    "start_time": "2024-02-23T08:04:56.286Z"
   },
   {
    "duration": 127,
    "start_time": "2024-02-23T08:04:56.296Z"
   },
   {
    "duration": 6,
    "start_time": "2024-02-23T08:04:56.424Z"
   },
   {
    "duration": 158,
    "start_time": "2024-02-23T08:09:47.012Z"
   },
   {
    "duration": 158,
    "start_time": "2024-02-23T08:10:01.418Z"
   },
   {
    "duration": 152,
    "start_time": "2024-02-23T08:10:10.193Z"
   },
   {
    "duration": 1148,
    "start_time": "2024-02-23T12:06:36.163Z"
   },
   {
    "duration": 298,
    "start_time": "2024-02-23T12:06:37.313Z"
   },
   {
    "duration": 21,
    "start_time": "2024-02-23T12:06:37.613Z"
   },
   {
    "duration": 18,
    "start_time": "2024-02-23T12:06:37.636Z"
   },
   {
    "duration": 22,
    "start_time": "2024-02-23T12:06:37.655Z"
   },
   {
    "duration": 9,
    "start_time": "2024-02-23T12:06:37.678Z"
   },
   {
    "duration": 12,
    "start_time": "2024-02-23T12:06:37.689Z"
   },
   {
    "duration": 5,
    "start_time": "2024-02-23T12:06:37.703Z"
   },
   {
    "duration": 50,
    "start_time": "2024-02-23T12:06:37.710Z"
   },
   {
    "duration": 32,
    "start_time": "2024-02-23T12:06:37.762Z"
   },
   {
    "duration": 46,
    "start_time": "2024-02-23T12:06:37.796Z"
   },
   {
    "duration": 19,
    "start_time": "2024-02-23T12:06:37.844Z"
   },
   {
    "duration": 13,
    "start_time": "2024-02-23T12:06:37.865Z"
   },
   {
    "duration": 13,
    "start_time": "2024-02-23T12:06:37.880Z"
   },
   {
    "duration": 19,
    "start_time": "2024-02-23T12:06:37.895Z"
   },
   {
    "duration": 25,
    "start_time": "2024-02-23T12:06:37.915Z"
   },
   {
    "duration": 15,
    "start_time": "2024-02-23T12:06:37.941Z"
   },
   {
    "duration": 14,
    "start_time": "2024-02-23T12:06:37.958Z"
   },
   {
    "duration": 37,
    "start_time": "2024-02-23T12:06:37.974Z"
   },
   {
    "duration": 43,
    "start_time": "2024-02-23T12:06:38.013Z"
   },
   {
    "duration": 766,
    "start_time": "2024-02-23T12:06:38.057Z"
   },
   {
    "duration": 25,
    "start_time": "2024-02-23T12:06:38.825Z"
   },
   {
    "duration": 10,
    "start_time": "2024-02-23T12:06:38.852Z"
   },
   {
    "duration": 118,
    "start_time": "2024-02-23T12:06:38.864Z"
   },
   {
    "duration": 13,
    "start_time": "2024-02-23T12:06:38.984Z"
   },
   {
    "duration": 11,
    "start_time": "2024-02-23T12:06:38.999Z"
   },
   {
    "duration": 133,
    "start_time": "2024-02-23T12:06:39.012Z"
   },
   {
    "duration": 8,
    "start_time": "2024-02-23T12:06:39.149Z"
   },
   {
    "duration": 201,
    "start_time": "2024-02-23T12:06:39.159Z"
   },
   {
    "duration": 27,
    "start_time": "2024-02-23T12:06:39.362Z"
   },
   {
    "duration": 23,
    "start_time": "2024-02-23T12:06:39.390Z"
   },
   {
    "duration": 25,
    "start_time": "2024-02-23T12:06:39.414Z"
   },
   {
    "duration": 8197,
    "start_time": "2024-02-23T12:06:39.442Z"
   },
   {
    "duration": 23,
    "start_time": "2024-02-23T12:06:47.641Z"
   },
   {
    "duration": 5,
    "start_time": "2024-02-23T12:06:47.665Z"
   },
   {
    "duration": 159,
    "start_time": "2024-02-23T12:06:47.672Z"
   },
   {
    "duration": 134,
    "start_time": "2024-02-23T12:06:47.832Z"
   },
   {
    "duration": 186,
    "start_time": "2024-02-23T12:06:47.967Z"
   },
   {
    "duration": 148,
    "start_time": "2024-02-23T12:06:48.155Z"
   },
   {
    "duration": 32,
    "start_time": "2024-02-23T12:06:48.304Z"
   },
   {
    "duration": 158,
    "start_time": "2024-02-23T12:06:48.347Z"
   },
   {
    "duration": 5,
    "start_time": "2024-02-23T12:06:48.507Z"
   },
   {
    "duration": 33,
    "start_time": "2024-02-23T12:06:48.513Z"
   },
   {
    "duration": 20,
    "start_time": "2024-02-23T12:06:48.547Z"
   },
   {
    "duration": 18,
    "start_time": "2024-02-23T12:06:48.568Z"
   },
   {
    "duration": 18,
    "start_time": "2024-02-23T12:06:48.587Z"
   },
   {
    "duration": 42,
    "start_time": "2024-02-23T12:06:48.606Z"
   },
   {
    "duration": 29,
    "start_time": "2024-02-23T12:06:48.649Z"
   },
   {
    "duration": 229,
    "start_time": "2024-02-23T12:06:48.680Z"
   },
   {
    "duration": 56,
    "start_time": "2024-02-23T12:06:48.911Z"
   },
   {
    "duration": 141,
    "start_time": "2024-02-23T12:06:48.969Z"
   },
   {
    "duration": 6,
    "start_time": "2024-02-23T12:06:49.112Z"
   },
   {
    "duration": 54,
    "start_time": "2024-02-23T12:06:49.119Z"
   },
   {
    "duration": 9,
    "start_time": "2024-02-23T12:06:49.175Z"
   },
   {
    "duration": 109,
    "start_time": "2024-02-23T12:06:49.185Z"
   },
   {
    "duration": 6,
    "start_time": "2024-02-23T12:06:49.295Z"
   }
  ],
  "colab": {
   "name": "DA+. Сборный проект 1. Шаблон (1).ipynb",
   "provenance": []
  },
  "kernelspec": {
   "display_name": "Python 3 (ipykernel)",
   "language": "python",
   "name": "python3"
  },
  "language_info": {
   "codemirror_mode": {
    "name": "ipython",
    "version": 3
   },
   "file_extension": ".py",
   "mimetype": "text/x-python",
   "name": "python",
   "nbconvert_exporter": "python",
   "pygments_lexer": "ipython3",
   "version": "3.9.5"
  },
  "toc": {
   "base_numbering": 1,
   "nav_menu": {},
   "number_sections": true,
   "sideBar": true,
   "skip_h1_title": true,
   "title_cell": "Table of Contents",
   "title_sidebar": "Contents",
   "toc_cell": false,
   "toc_position": {
    "height": "calc(100% - 180px)",
    "left": "10px",
    "top": "150px",
    "width": "375.391px"
   },
   "toc_section_display": true,
   "toc_window_display": false
  }
 },
 "nbformat": 4,
 "nbformat_minor": 1
}
